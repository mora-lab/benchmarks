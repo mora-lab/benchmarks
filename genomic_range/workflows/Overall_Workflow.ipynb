{
 "cells": [
  {
   "cell_type": "markdown",
   "metadata": {},
   "source": [
    "# Towards Benchmarking Enrichment Tools for Genomic Regions. "
   ]
  },
  {
   "cell_type": "markdown",
   "metadata": {},
   "source": [
    "Create a file named GSAChIPSeqBenchmarkProfile.txt, which is a tab-separated master table       with following fields: S.No.,\tExperimental_Method\tOrganism,\tCell_Type_Tissue,\tGenome_Version,\tDisease_Target_Pathway,\tSamples (Per Experiment),\tReplicates,\tPMID,\tPublication_Journal,\tPublication_Year,\tGSE,\tGSM,\tTF_or_Histone_Mark,\tCistrome_ID,\tKEGG_ID,\tMetadata."
   ]
  },
  {
   "cell_type": "markdown",
   "metadata": {},
   "source": [
    "All the marked function are to be sourced from the github repository. (https://github.com/mora-lab/benchmarks)"
   ]
  },
  {
   "cell_type": "markdown",
   "metadata": {},
   "source": [
    "The first step is towards structuring the benchmark dataset. This will require carefully choosing the apposite datasets (GSMs) from the repository https://www.ncbi.nlm.nih.gov/gds/. This repertoire shall constitute our benchmark dataset for comparing gene-set enrichment tools for genomic regions. The preprocessing of the datasets is as follows:\n",
    "    1. If the files are available as *wig*, they need to be converted to BED format using *wig2bed* from *bedtools* package in the command line.\n",
    "    2. Choosing 3 essential fields from the BED files; *chrom*, *start*, and *end*, signifying the chromosomal number, start index, and end index respectively.\n",
    "    3. Removing entries from mitochondrial DNA (*chrM*, *chrMT*) and some random chromosome labels.\n",
    "    4. Converting the BED files into Genomic Ranges format, using package **genomicranges**. This will not only regularise the file format, but will also optimise the disk usage.\n",
    "    5. Compile individual genomic ranges files into a **genomic ranges list**.\n",
    "The compound dataset shall be packaged eventually into an R package. "
   ]
  },
  {
   "cell_type": "code",
   "execution_count": null,
   "metadata": {},
   "outputs": [],
   "source": [
    "Data_Import_Cleaning_Function.R"
   ]
  },
  {
   "cell_type": "markdown",
   "metadata": {},
   "source": [
    "Next step is to load the benchmark package and relative dependencies. The packages of tools in question shall also be installed and the libraries loaded at this time. The following chunk of code helps achieve the same. "
   ]
  },
  {
   "cell_type": "code",
   "execution_count": null,
   "metadata": {},
   "outputs": [],
   "source": [
    "Installing_Packages_Benchmark.R"
   ]
  },
  {
   "cell_type": "markdown",
   "metadata": {},
   "source": [
    "The above function will install the tools that we intend to compare as well as the package that we have constructed out of our benchmark dataset."
   ]
  },
  {
   "cell_type": "code",
   "execution_count": null,
   "metadata": {},
   "outputs": [],
   "source": [
    "Execute_Chipenrich_Broadenrich_Seq2pathway.R"
   ]
  },
  {
   "cell_type": "markdown",
   "metadata": {},
   "source": [
    "The function shall execute the three tools in order and respectively save the results as data files in R"
   ]
  },
  {
   "cell_type": "code",
   "execution_count": null,
   "metadata": {},
   "outputs": [],
   "source": [
    "Extracting_Valued_Results.R"
   ]
  },
  {
   "cell_type": "markdown",
   "metadata": {},
   "source": [
    "Manually curate the outputs from GREAT and Enrichr tools as they currently do not facilitate any programming interface."
   ]
  },
  {
   "cell_type": "code",
   "execution_count": null,
   "metadata": {},
   "outputs": [],
   "source": [
    "Enrichr_Results_Compilation.R"
   ]
  }
 ],
 "metadata": {
  "kernelspec": {
   "display_name": "R",
   "language": "R",
   "name": "ir"
  },
  "language_info": {
   "codemirror_mode": "r",
   "file_extension": ".r",
   "mimetype": "text/x-r-source",
   "name": "R",
   "pygments_lexer": "r",
   "version": "3.5.2"
  }
 },
 "nbformat": 4,
 "nbformat_minor": 2
}
