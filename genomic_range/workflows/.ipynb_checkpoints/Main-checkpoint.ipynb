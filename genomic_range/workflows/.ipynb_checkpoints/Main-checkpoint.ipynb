{
 "cells": [
  {
   "cell_type": "markdown",
   "metadata": {},
   "source": [
    "# Enrichr Results Compilation"
   ]
  },
  {
   "cell_type": "markdown",
   "metadata": {},
   "source": [
    "Importing necessary packages, loading library segments, and setting up data for the benchmark dataset."
   ]
  },
  {
   "cell_type": "code",
   "execution_count": 2,
   "metadata": {},
   "outputs": [
    {
     "name": "stderr",
     "output_type": "stream",
     "text": [
      "Warning message:\n",
      "“'BiocInstaller' and 'biocLite()' are deprecated, use the 'BiocManager' CRAN\n",
      "  package instead.”Bioconductor version 3.8 (BiocInstaller 1.32.1), ?biocLite for help\n",
      "Warning message in file(con, \"r\"):\n",
      "“URL 'https://bioconductor.org/config.yaml': status was 'Timeout was reached'”Bioconductor version 3.8 (BiocManager 1.30.4), R 3.5.2 (2018-12-20)\n",
      "Installing package(s) 'GenomicRanges'\n"
     ]
    },
    {
     "name": "stdout",
     "output_type": "stream",
     "text": [
      "\n",
      "The downloaded binary packages are in\n",
      "\t/var/folders/hm/c3_fjypn62v5xh5b5ygv267m0000gn/T//Rtmp5xnwAB/downloaded_packages\n"
     ]
    },
    {
     "name": "stderr",
     "output_type": "stream",
     "text": [
      "Update old packages: 'callr', 'checkmate', 'deSolve', 'digest', 'dplyr',\n",
      "  'ellipsis', 'emmeans', 'gam', 'git2r', 'haven', 'lavaan', 'mclust', 'pillar',\n",
      "  'plotmo', 'processx', 'quantreg', 'recipes', 'remotes', 'rlang', 'rngtools',\n",
      "  'robust', 'sf', 'tinytex', 'vdiffr', 'xfun'\n",
      "Bioconductor version 3.8 (BiocManager 1.30.4), R 3.5.2 (2018-12-20)\n",
      "Installing package(s) 'rtracklayer'\n"
     ]
    },
    {
     "name": "stdout",
     "output_type": "stream",
     "text": [
      "\n",
      "The downloaded binary packages are in\n",
      "\t/var/folders/hm/c3_fjypn62v5xh5b5ygv267m0000gn/T//Rtmp5xnwAB/downloaded_packages\n"
     ]
    },
    {
     "name": "stderr",
     "output_type": "stream",
     "text": [
      "Update old packages: 'callr', 'checkmate', 'deSolve', 'digest', 'dplyr',\n",
      "  'ellipsis', 'emmeans', 'gam', 'git2r', 'haven', 'lavaan', 'mclust', 'pillar',\n",
      "  'plotmo', 'processx', 'quantreg', 'recipes', 'remotes', 'rlang', 'rngtools',\n",
      "  'robust', 'sf', 'tinytex', 'vdiffr', 'xfun'\n",
      "Bioconductor version 3.8 (BiocManager 1.30.4), R 3.5.2 (2018-12-20)\n",
      "Installing package(s) 'usethis'\n"
     ]
    },
    {
     "name": "stdout",
     "output_type": "stream",
     "text": [
      "\n",
      "  There is a binary version available but the source version is later:\n",
      "        binary source needs_compilation\n",
      "usethis  1.5.0  1.5.1             FALSE\n",
      "\n"
     ]
    },
    {
     "name": "stderr",
     "output_type": "stream",
     "text": [
      "installing the source package ‘usethis’\n",
      "\n",
      "Update old packages: 'callr', 'checkmate', 'deSolve', 'digest', 'dplyr',\n",
      "  'ellipsis', 'emmeans', 'gam', 'git2r', 'haven', 'lavaan', 'mclust', 'pillar',\n",
      "  'plotmo', 'processx', 'quantreg', 'recipes', 'remotes', 'rlang', 'rngtools',\n",
      "  'robust', 'sf', 'tinytex', 'vdiffr', 'xfun'\n",
      "Loading required package: stats4\n",
      "Loading required package: BiocGenerics\n",
      "Loading required package: parallel\n",
      "\n",
      "Attaching package: ‘BiocGenerics’\n",
      "\n",
      "The following objects are masked from ‘package:parallel’:\n",
      "\n",
      "    clusterApply, clusterApplyLB, clusterCall, clusterEvalQ,\n",
      "    clusterExport, clusterMap, parApply, parCapply, parLapply,\n",
      "    parLapplyLB, parRapply, parSapply, parSapplyLB\n",
      "\n",
      "The following objects are masked from ‘package:stats’:\n",
      "\n",
      "    IQR, mad, sd, var, xtabs\n",
      "\n",
      "The following objects are masked from ‘package:base’:\n",
      "\n",
      "    Filter, Find, Map, Position, Reduce, anyDuplicated, append,\n",
      "    as.data.frame, basename, cbind, colMeans, colSums, colnames,\n",
      "    dirname, do.call, duplicated, eval, evalq, get, grep, grepl,\n",
      "    intersect, is.unsorted, lapply, lengths, mapply, match, mget,\n",
      "    order, paste, pmax, pmax.int, pmin, pmin.int, rank, rbind,\n",
      "    rowMeans, rowSums, rownames, sapply, setdiff, sort, table, tapply,\n",
      "    union, unique, unsplit, which, which.max, which.min\n",
      "\n",
      "Loading required package: S4Vectors\n",
      "\n",
      "Attaching package: ‘S4Vectors’\n",
      "\n",
      "The following object is masked from ‘package:base’:\n",
      "\n",
      "    expand.grid\n",
      "\n",
      "Loading required package: IRanges\n",
      "Loading required package: GenomeInfoDb\n",
      "Bioconductor version 3.8 (BiocManager 1.30.4), R 3.5.2 (2018-12-20)\n",
      "Installing package(s) 'devtools'\n"
     ]
    },
    {
     "name": "stdout",
     "output_type": "stream",
     "text": [
      "\n",
      "The downloaded binary packages are in\n",
      "\t/var/folders/hm/c3_fjypn62v5xh5b5ygv267m0000gn/T//Rtmp5xnwAB/downloaded_packages\n"
     ]
    },
    {
     "name": "stderr",
     "output_type": "stream",
     "text": [
      "Update old packages: 'callr', 'checkmate', 'deSolve', 'digest', 'dplyr',\n",
      "  'ellipsis', 'emmeans', 'gam', 'git2r', 'haven', 'lavaan', 'mclust', 'pillar',\n",
      "  'plotmo', 'processx', 'quantreg', 'recipes', 'remotes', 'rlang', 'rngtools',\n",
      "  'robust', 'sf', 'tinytex', 'vdiffr', 'xfun'\n",
      "Bioconductor version 3.8 (BiocManager 1.30.4), R 3.5.2 (2018-12-20)\n",
      "Installing package(s) 'roxygen2'\n"
     ]
    },
    {
     "name": "stdout",
     "output_type": "stream",
     "text": [
      "\n",
      "The downloaded binary packages are in\n",
      "\t/var/folders/hm/c3_fjypn62v5xh5b5ygv267m0000gn/T//Rtmp5xnwAB/downloaded_packages\n"
     ]
    },
    {
     "name": "stderr",
     "output_type": "stream",
     "text": [
      "Update old packages: 'callr', 'checkmate', 'deSolve', 'digest', 'dplyr',\n",
      "  'ellipsis', 'emmeans', 'gam', 'git2r', 'haven', 'lavaan', 'mclust', 'pillar',\n",
      "  'plotmo', 'processx', 'quantreg', 'recipes', 'remotes', 'rlang', 'rngtools',\n",
      "  'robust', 'sf', 'tinytex', 'vdiffr', 'xfun'\n"
     ]
    }
   ],
   "source": [
    "### Sourcing tools from GEO ###\n",
    "    \n",
    "source(\"http://www.bioconductor.org/biocLite.R\")\n",
    "    \n",
    "BiocManager::install(\"GenomicRanges\")\n",
    "BiocManager::install(\"rtracklayer\")\n",
    "BiocManager::install(\"usethis\")\n",
    "library(GenomicRanges)\n",
    "library(rtracklayer)\n",
    "library(usethis)\n",
    "    \n",
    "### Installing package dependencies ###\n",
    "    \n",
    "BiocManager::install(\"devtools\")\n",
    "BiocManager::install(\"roxygen2\")\n",
    "library(devtools)\n",
    "library(roxygen2)"
   ]
  },
  {
   "cell_type": "code",
   "execution_count": 8,
   "metadata": {},
   "outputs": [],
   "source": [
    "ChIPSeqDataMaster <- read.table(file = \"/Users/mei/Desktop/benchmarks/genomic_range/data/GSA_ChIP_Seq_Master_Table.txt\", sep = '\\t', header = TRUE, quote = \"\")"
   ]
  },
  {
   "cell_type": "code",
   "execution_count": 10,
   "metadata": {},
   "outputs": [],
   "source": [
    "## The following code creates a list of samples for which we need to extract the BED files for.\n",
    "    \n",
    "ChIPSeqSamples<-as.character(ChIPSeqDataMaster$GSM)\n",
    "    \n",
    "## Initializing list for storing BED files and the consecutive GRanges objects.\n",
    "Samples_in_BED = list()\n",
    "    \n",
    "for(i in 1:length(ChIPSeqSamples))\n",
    "    {\n",
    "      Samples_in_BED[[i]] <- read.table(paste0(\"/Users/mei/LabWork/GSAChIPSeqBenchmarkDataBase/regen/\",paste0(eval(parse(text=\"ChIPSeqSamples[i]\")),\".bed\")), sep = \"\\t\", header = FALSE)\n",
    "      Samples_in_BED[[i]] <- Samples_in_BED[[i]][,1:3]\n",
    "      colnames(Samples_in_BED[[i]]) <- c(\"chrom\", \"start\", \"end\")\n",
    "      Samples_in_BED[[i]] <- Samples_in_BED[[i]][order(Samples_in_BED[[i]]$chrom),]\n",
    "      Samples_in_BED[[i]] <- GRanges(Samples_in_BED[[i]]$chrom, IRanges(Samples_in_BED[[i]]$`start`, Samples_in_BED[[i]]$`end`))\n",
    "      genome(Samples_in_BED[[i]]) <- \"hg19\"\n",
    "    }\n",
    "    \n",
    "## Saving BED files as GRanges objects ##\n",
    "names(Samples_in_BED) <- ChIPSeqSamples"
   ]
  },
  {
   "cell_type": "markdown",
   "metadata": {},
   "source": [
    "## GO Results"
   ]
  },
  {
   "cell_type": "markdown",
   "metadata": {},
   "source": [
    "The results from Enrichr were manually curated for the samples from the benchmark dataset and stored at distinct locations for KEGG and GO enrichments; the folders were named **KEGG_2016** and **GO_BP_2016**, respectively. The code has been sourced from **Enrichr_Results_Compilaton.R** and **Enrichr_Preprocessing.R** functions available at https://github.com/mora-lab/benchmarks/tree/master/genomic_range/R."
   ]
  },
  {
   "cell_type": "code",
   "execution_count": 12,
   "metadata": {},
   "outputs": [],
   "source": [
    "tryCatch( {enrichr_go_samples <- read.table(\"/Users/mei/LabWork/GSAChIPSeqBenchmarkDataBase/Results/enrichr/GO_BP_2018/file_names.txt\")}\n",
    "          ,error = function(e){ print(\"File not found\"); break;}\n",
    "          ,finally = function (f){next;})"
   ]
  },
  {
   "cell_type": "code",
   "execution_count": 13,
   "metadata": {},
   "outputs": [
    {
     "data": {
      "text/html": [
       "'data.frame'"
      ],
      "text/latex": [
       "'data.frame'"
      ],
      "text/markdown": [
       "'data.frame'"
      ],
      "text/plain": [
       "[1] \"data.frame\""
      ]
     },
     "metadata": {},
     "output_type": "display_data"
    }
   ],
   "source": [
    "class(enrichr_go_samples)"
   ]
  },
  {
   "cell_type": "code",
   "execution_count": 14,
   "metadata": {},
   "outputs": [
    {
     "data": {
      "text/html": [
       "<table>\n",
       "<caption>A data.frame: 6 × 1</caption>\n",
       "<thead>\n",
       "\t<tr><th scope=col>V1</th></tr>\n",
       "\t<tr><th scope=col>&lt;fct&gt;</th></tr>\n",
       "</thead>\n",
       "<tbody>\n",
       "\t<tr><td>GSE84618.txt  </td></tr>\n",
       "\t<tr><td>GSM1847178.txt</td></tr>\n",
       "\t<tr><td>GSM2058015.txt</td></tr>\n",
       "\t<tr><td>GSM2058016.txt</td></tr>\n",
       "\t<tr><td>GSM2058017.txt</td></tr>\n",
       "\t<tr><td>GSM2058018.txt</td></tr>\n",
       "</tbody>\n",
       "</table>\n"
      ],
      "text/latex": [
       "A data.frame: 6 × 1\n",
       "\\begin{tabular}{r|l}\n",
       " V1\\\\\n",
       " <fct>\\\\\n",
       "\\hline\n",
       "\t GSE84618.txt  \\\\\n",
       "\t GSM1847178.txt\\\\\n",
       "\t GSM2058015.txt\\\\\n",
       "\t GSM2058016.txt\\\\\n",
       "\t GSM2058017.txt\\\\\n",
       "\t GSM2058018.txt\\\\\n",
       "\\end{tabular}\n"
      ],
      "text/markdown": [
       "\n",
       "A data.frame: 6 × 1\n",
       "\n",
       "| V1 &lt;fct&gt; |\n",
       "|---|\n",
       "| GSE84618.txt   |\n",
       "| GSM1847178.txt |\n",
       "| GSM2058015.txt |\n",
       "| GSM2058016.txt |\n",
       "| GSM2058017.txt |\n",
       "| GSM2058018.txt |\n",
       "\n"
      ],
      "text/plain": [
       "  V1            \n",
       "1 GSE84618.txt  \n",
       "2 GSM1847178.txt\n",
       "3 GSM2058015.txt\n",
       "4 GSM2058016.txt\n",
       "5 GSM2058017.txt\n",
       "6 GSM2058018.txt"
      ]
     },
     "metadata": {},
     "output_type": "display_data"
    }
   ],
   "source": [
    "head(enrichr_go_samples)"
   ]
  },
  {
   "cell_type": "markdown",
   "metadata": {},
   "source": [
    "As you can see here, **enrichr_go_samples** is a dataframe with one column holding the samples whose corresponding results are placed in the folder. We want to extract these results. For doing so, we shall begin with pruning the file names by removing extension- *.txt*."
   ]
  },
  {
   "cell_type": "code",
   "execution_count": 15,
   "metadata": {},
   "outputs": [],
   "source": [
    "enrichr_go_samples <- as.character(enrichr_go_samples$V1)\n",
    "for(i in 1:length(enrichr_go_samples)){enrichr_go_samples[i] <- substr(enrichr_go_samples[i],1,nchar(enrichr_go_samples[i])-4)}"
   ]
  },
  {
   "cell_type": "code",
   "execution_count": 16,
   "metadata": {},
   "outputs": [
    {
     "data": {
      "text/html": [
       "<ol class=list-inline>\n",
       "\t<li>'GSE84618'</li>\n",
       "\t<li>'GSM1847178'</li>\n",
       "\t<li>'GSM2058015'</li>\n",
       "\t<li>'GSM2058016'</li>\n",
       "\t<li>'GSM2058017'</li>\n",
       "\t<li>'GSM2058018'</li>\n",
       "</ol>\n"
      ],
      "text/latex": [
       "\\begin{enumerate*}\n",
       "\\item 'GSE84618'\n",
       "\\item 'GSM1847178'\n",
       "\\item 'GSM2058015'\n",
       "\\item 'GSM2058016'\n",
       "\\item 'GSM2058017'\n",
       "\\item 'GSM2058018'\n",
       "\\end{enumerate*}\n"
      ],
      "text/markdown": [
       "1. 'GSE84618'\n",
       "2. 'GSM1847178'\n",
       "3. 'GSM2058015'\n",
       "4. 'GSM2058016'\n",
       "5. 'GSM2058017'\n",
       "6. 'GSM2058018'\n",
       "\n",
       "\n"
      ],
      "text/plain": [
       "[1] \"GSE84618\"   \"GSM1847178\" \"GSM2058015\" \"GSM2058016\" \"GSM2058017\"\n",
       "[6] \"GSM2058018\""
      ]
     },
     "metadata": {},
     "output_type": "display_data"
    }
   ],
   "source": [
    "head(enrichr_go_samples)"
   ]
  },
  {
   "cell_type": "markdown",
   "metadata": {},
   "source": [
    "Now that we have the precise sample labels, let us define a list **enrichr_go** that shall hold the enrichr results (dataframe), for each sample. "
   ]
  },
  {
   "cell_type": "code",
   "execution_count": 19,
   "metadata": {},
   "outputs": [],
   "source": [
    "enrichr_go <- list()\n",
    "\n",
    "for (i in 1: length(ChIPSeqSamples))\n",
    "{\n",
    "  for(j in 1:length(enrichr_go_samples))\n",
    "  {\n",
    "    if(enrichr_go_samples[j] == ChIPSeqSamples[i])\n",
    "    {\n",
    "      enrichr_go[[j]] <-read.table(paste0(\"/Users/mei/LabWork/GSAChIPSeqBenchmarkDataBase/Results/enrichr/GO_BP_2018/\",paste0(eval(parse(text='ChIPSeqSamples[i]')),\".txt\")), sep = '\\t', header = TRUE, quote = \"\", fill = TRUE)\n",
    "    }\n",
    "  }\n",
    "}"
   ]
  },
  {
   "cell_type": "code",
   "execution_count": 20,
   "metadata": {},
   "outputs": [
    {
     "data": {
      "text/html": [
       "'list'"
      ],
      "text/latex": [
       "'list'"
      ],
      "text/markdown": [
       "'list'"
      ],
      "text/plain": [
       "[1] \"list\""
      ]
     },
     "metadata": {},
     "output_type": "display_data"
    }
   ],
   "source": [
    "class(enrichr_go)"
   ]
  },
  {
   "cell_type": "markdown",
   "metadata": {},
   "source": [
    "So, eventually **enrichr_go** is a list of dataframes."
   ]
  },
  {
   "cell_type": "code",
   "execution_count": 21,
   "metadata": {},
   "outputs": [
    {
     "data": {
      "text/html": [
       "<table>\n",
       "<caption>A data.frame: 6 × 9</caption>\n",
       "<thead>\n",
       "\t<tr><th scope=col>Term</th><th scope=col>Overlap</th><th scope=col>P.value</th><th scope=col>Adjusted.P.value</th><th scope=col>Old.P.value</th><th scope=col>Old.Adjusted.P.value</th><th scope=col>Z.score</th><th scope=col>Combined.Score</th><th scope=col>Genes</th></tr>\n",
       "\t<tr><th scope=col>&lt;fct&gt;</th><th scope=col>&lt;fct&gt;</th><th scope=col>&lt;dbl&gt;</th><th scope=col>&lt;dbl&gt;</th><th scope=col>&lt;dbl&gt;</th><th scope=col>&lt;dbl&gt;</th><th scope=col>&lt;dbl&gt;</th><th scope=col>&lt;dbl&gt;</th><th scope=col>&lt;fct&gt;</th></tr>\n",
       "</thead>\n",
       "<tbody>\n",
       "\t<tr><td>regulation of skeletal muscle contraction (GO:0014819)                </td><td>3/7 </td><td>0.0037479580</td><td>0.9441197</td><td>0.0052339067</td><td>0.7605585</td><td>-3.158475</td><td>17.64496</td><td>CAV3;DMPK;KCNJ2                </td></tr>\n",
       "\t<tr><td>cell-cell junction maintenance (GO:0045217)                           </td><td>4/11</td><td>0.0015450556</td><td>0.9441197</td><td>0.0019520713</td><td>0.7605585</td><td>-2.577299</td><td>16.68207</td><td>CAMSAP3;NLGN2;PLEKHA7;CD177    </td></tr>\n",
       "\t<tr><td>regulation of transforming growth factor beta2 production (GO:0032909)</td><td>2/7 </td><td>0.0443520949</td><td>0.9441197</td><td>0.0427839212</td><td>0.7605585</td><td>-4.395784</td><td>13.69548</td><td>SMAD4;CDH3                     </td></tr>\n",
       "\t<tr><td>regulation of histone H3-K9 acetylation (GO:2000615)                  </td><td>3/8 </td><td>0.0057748139</td><td>0.9441197</td><td>0.0069970387</td><td>0.7605585</td><td>-2.630837</td><td>13.55999</td><td>SMAD4;CHEK1;BRCA1              </td></tr>\n",
       "\t<tr><td>regulation of Golgi organization (GO:1903358)                         </td><td>5/15</td><td>0.0006100561</td><td>0.9441197</td><td>0.0007217959</td><td>0.7605585</td><td>-1.822244</td><td>13.48818</td><td>CAMSAP3;MAP2K1;STX18;RBSN;MAPK3</td></tr>\n",
       "\t<tr><td>chondroitin sulfate catabolic process (GO:0030207)                    </td><td>4/14</td><td>0.0041556430</td><td>0.9441197</td><td>0.0040004439</td><td>0.7605585</td><td>-2.408644</td><td>13.20729</td><td>BCAN;HYAL1;NCAN;ARSB           </td></tr>\n",
       "</tbody>\n",
       "</table>\n"
      ],
      "text/latex": [
       "A data.frame: 6 × 9\n",
       "\\begin{tabular}{r|lllllllll}\n",
       " Term & Overlap & P.value & Adjusted.P.value & Old.P.value & Old.Adjusted.P.value & Z.score & Combined.Score & Genes\\\\\n",
       " <fct> & <fct> & <dbl> & <dbl> & <dbl> & <dbl> & <dbl> & <dbl> & <fct>\\\\\n",
       "\\hline\n",
       "\t regulation of skeletal muscle contraction (GO:0014819)                 & 3/7  & 0.0037479580 & 0.9441197 & 0.0052339067 & 0.7605585 & -3.158475 & 17.64496 & CAV3;DMPK;KCNJ2                \\\\\n",
       "\t cell-cell junction maintenance (GO:0045217)                            & 4/11 & 0.0015450556 & 0.9441197 & 0.0019520713 & 0.7605585 & -2.577299 & 16.68207 & CAMSAP3;NLGN2;PLEKHA7;CD177    \\\\\n",
       "\t regulation of transforming growth factor beta2 production (GO:0032909) & 2/7  & 0.0443520949 & 0.9441197 & 0.0427839212 & 0.7605585 & -4.395784 & 13.69548 & SMAD4;CDH3                     \\\\\n",
       "\t regulation of histone H3-K9 acetylation (GO:2000615)                   & 3/8  & 0.0057748139 & 0.9441197 & 0.0069970387 & 0.7605585 & -2.630837 & 13.55999 & SMAD4;CHEK1;BRCA1              \\\\\n",
       "\t regulation of Golgi organization (GO:1903358)                          & 5/15 & 0.0006100561 & 0.9441197 & 0.0007217959 & 0.7605585 & -1.822244 & 13.48818 & CAMSAP3;MAP2K1;STX18;RBSN;MAPK3\\\\\n",
       "\t chondroitin sulfate catabolic process (GO:0030207)                     & 4/14 & 0.0041556430 & 0.9441197 & 0.0040004439 & 0.7605585 & -2.408644 & 13.20729 & BCAN;HYAL1;NCAN;ARSB           \\\\\n",
       "\\end{tabular}\n"
      ],
      "text/markdown": [
       "\n",
       "A data.frame: 6 × 9\n",
       "\n",
       "| Term &lt;fct&gt; | Overlap &lt;fct&gt; | P.value &lt;dbl&gt; | Adjusted.P.value &lt;dbl&gt; | Old.P.value &lt;dbl&gt; | Old.Adjusted.P.value &lt;dbl&gt; | Z.score &lt;dbl&gt; | Combined.Score &lt;dbl&gt; | Genes &lt;fct&gt; |\n",
       "|---|---|---|---|---|---|---|---|---|\n",
       "| regulation of skeletal muscle contraction (GO:0014819)                 | 3/7  | 0.0037479580 | 0.9441197 | 0.0052339067 | 0.7605585 | -3.158475 | 17.64496 | CAV3;DMPK;KCNJ2                 |\n",
       "| cell-cell junction maintenance (GO:0045217)                            | 4/11 | 0.0015450556 | 0.9441197 | 0.0019520713 | 0.7605585 | -2.577299 | 16.68207 | CAMSAP3;NLGN2;PLEKHA7;CD177     |\n",
       "| regulation of transforming growth factor beta2 production (GO:0032909) | 2/7  | 0.0443520949 | 0.9441197 | 0.0427839212 | 0.7605585 | -4.395784 | 13.69548 | SMAD4;CDH3                      |\n",
       "| regulation of histone H3-K9 acetylation (GO:2000615)                   | 3/8  | 0.0057748139 | 0.9441197 | 0.0069970387 | 0.7605585 | -2.630837 | 13.55999 | SMAD4;CHEK1;BRCA1               |\n",
       "| regulation of Golgi organization (GO:1903358)                          | 5/15 | 0.0006100561 | 0.9441197 | 0.0007217959 | 0.7605585 | -1.822244 | 13.48818 | CAMSAP3;MAP2K1;STX18;RBSN;MAPK3 |\n",
       "| chondroitin sulfate catabolic process (GO:0030207)                     | 4/14 | 0.0041556430 | 0.9441197 | 0.0040004439 | 0.7605585 | -2.408644 | 13.20729 | BCAN;HYAL1;NCAN;ARSB            |\n",
       "\n"
      ],
      "text/plain": [
       "  Term                                                                  \n",
       "1 regulation of skeletal muscle contraction (GO:0014819)                \n",
       "2 cell-cell junction maintenance (GO:0045217)                           \n",
       "3 regulation of transforming growth factor beta2 production (GO:0032909)\n",
       "4 regulation of histone H3-K9 acetylation (GO:2000615)                  \n",
       "5 regulation of Golgi organization (GO:1903358)                         \n",
       "6 chondroitin sulfate catabolic process (GO:0030207)                    \n",
       "  Overlap P.value      Adjusted.P.value Old.P.value  Old.Adjusted.P.value\n",
       "1 3/7     0.0037479580 0.9441197        0.0052339067 0.7605585           \n",
       "2 4/11    0.0015450556 0.9441197        0.0019520713 0.7605585           \n",
       "3 2/7     0.0443520949 0.9441197        0.0427839212 0.7605585           \n",
       "4 3/8     0.0057748139 0.9441197        0.0069970387 0.7605585           \n",
       "5 5/15    0.0006100561 0.9441197        0.0007217959 0.7605585           \n",
       "6 4/14    0.0041556430 0.9441197        0.0040004439 0.7605585           \n",
       "  Z.score   Combined.Score Genes                          \n",
       "1 -3.158475 17.64496       CAV3;DMPK;KCNJ2                \n",
       "2 -2.577299 16.68207       CAMSAP3;NLGN2;PLEKHA7;CD177    \n",
       "3 -4.395784 13.69548       SMAD4;CDH3                     \n",
       "4 -2.630837 13.55999       SMAD4;CHEK1;BRCA1              \n",
       "5 -1.822244 13.48818       CAMSAP3;MAP2K1;STX18;RBSN;MAPK3\n",
       "6 -2.408644 13.20729       BCAN;HYAL1;NCAN;ARSB           "
      ]
     },
     "metadata": {},
     "output_type": "display_data"
    }
   ],
   "source": [
    "head(enrichr_go[[1]])"
   ]
  },
  {
   "cell_type": "markdown",
   "metadata": {},
   "source": [
    "We observe an element from the list, and see that it outputs quite a bit og information. Following the scope of our analysis, we shall only require the **Term** and **P.value** parameters. So, the remaining columns are filtered out."
   ]
  },
  {
   "cell_type": "code",
   "execution_count": 22,
   "metadata": {},
   "outputs": [],
   "source": [
    "enrichr_go_results <- list()\n",
    "for (i in 1:length(enrichr_go))\n",
    "{\n",
    "  enrichr_go_results[[i]] <- enrichr_go[[i]][,c(1,3)]\n",
    "}\n",
    "\n",
    "names(enrichr_go_results) <- as.character(enrichr_go_samples)"
   ]
  },
  {
   "cell_type": "markdown",
   "metadata": {},
   "source": [
    "## KEGG Results"
   ]
  },
  {
   "cell_type": "markdown",
   "metadata": {},
   "source": [
    "We shall follow the exact same protocol for KEGG results as well."
   ]
  },
  {
   "cell_type": "code",
   "execution_count": 25,
   "metadata": {},
   "outputs": [],
   "source": [
    "## Same protocol for ENRICHR KEGG results too. \n",
    "\n",
    "\n",
    "enrichr_kegg <- list()\n",
    "\n",
    "enrichr_kegg_samples <- read.table(\"/Users/mei/LabWork/GSAChIPSeqBenchmarkDataBase/Results/enrichr/KEGG_2016/file_names.txt\")\n",
    "enrichr_kegg_samples <- as.character(enrichr_kegg_samples$V1)\n",
    "for(i in 1:length(enrichr_kegg_samples)){enrichr_kegg_samples[i] <- substr(enrichr_kegg_samples[i],1,nchar(enrichr_kegg_samples[i])-4)}\n",
    "\n",
    "\n",
    "\n",
    "enrichr_kegg <- list()\n",
    "\n",
    "for (i in 1: length(ChIPSeqSamples))\n",
    "{\n",
    "  for(j in 1:length(enrichr_kegg_samples))\n",
    "  {\n",
    "    if(enrichr_kegg_samples[j] == ChIPSeqSamples[i])\n",
    "    {\n",
    "      enrichr_kegg[[j]] <-read.table(paste0(\"/Users/mei/LabWork/GSAChIPSeqBenchmarkDataBase/Results/enrichr/KEGG_2016/\",paste0(eval(parse(text='ChIPSeqSamples[i]')),\".txt\")), sep = '\\t', header = TRUE, quote = \"\", fill = TRUE)\n",
    "    }\n",
    "  }\n",
    "}\n",
    "\n",
    "\n",
    "## Condensed Results\n",
    "\n",
    "enrichr_kegg_results <- list()\n",
    "for (i in 1:length(enrichr_kegg))\n",
    "{\n",
    "  enrichr_kegg_results[[i]] <- enrichr_kegg[[i]][,c(1,3)]\n",
    "}\n",
    "\n",
    "names(enrichr_kegg_results) <- as.character(enrichr_kegg_samples)\n"
   ]
  },
  {
   "cell_type": "markdown",
   "metadata": {},
   "source": [
    "Now that we have the individual enrichment results from GO and KEGG ontologies, we shall proceed with combining the results for each sample to engender a consolidated set. Prior to that, let's check if the sample count is consistent for both cohorts."
   ]
  },
  {
   "cell_type": "code",
   "execution_count": 28,
   "metadata": {},
   "outputs": [
    {
     "name": "stdout",
     "output_type": "stream",
     "text": [
      "[1] 106\n"
     ]
    }
   ],
   "source": [
    "# for consistency with Chipenrich, Broadenrich, Seq2pathway results' variable nomenclature.\n",
    "enrichr_go_results_shredded <- enrichr_go_results\n",
    "enrichr_kegg_results_shredded <- enrichr_kegg_results\n",
    "\n",
    "count <- 0\n",
    "for (i in 1:length(names(enrichr_go_results_shredded)))\n",
    "{\n",
    "  for(j in 1:length(names(enrichr_kegg_results_shredded)))\n",
    "  {\n",
    "    if(names(enrichr_go_results_shredded)[i] == names(enrichr_kegg_results_shredded)[j])\n",
    "    {\n",
    "      count <- count+1\n",
    "    }\n",
    "  }\n",
    "}\n",
    "print (count)"
   ]
  },
  {
   "cell_type": "markdown",
   "metadata": {},
   "source": [
    "Cool ! That shows that we have results from  both KEGG and GO for all samples; number of samples in our benchmark dataset is 106."
   ]
  },
  {
   "cell_type": "code",
   "execution_count": 32,
   "metadata": {},
   "outputs": [
    {
     "name": "stderr",
     "output_type": "stream",
     "text": [
      "Warning message in get(var, frame, inherits = FALSE):\n",
      "“restarting interrupted promise evaluation”Warning message in get(var, frame, inherits = FALSE):\n",
      "“internal error -3 in R_decompress1”Warning message:\n",
      "“restarting interrupted promise evaluation”Warning message:\n",
      "“internal error -3 in R_decompress1”"
     ]
    },
    {
     "ename": "ERROR",
     "evalue": "Error: lazy-load database '/Library/Frameworks/R.framework/Versions/3.5/Resources/library/stringr/R/stringr.rdb' is corrupt\n",
     "output_type": "error",
     "traceback": [
      "Error: lazy-load database '/Library/Frameworks/R.framework/Versions/3.5/Resources/library/stringr/R/stringr.rdb' is corrupt\nTraceback:\n"
     ]
    }
   ],
   "source": [
    "## Refining Enrichr KEGG and GO results | Extracting \"hsa*****\" and \"GO:*****\" terms.\n",
    "#install.packages(\"stringr\", repos = \"https://mirrors.tuna.tsinghua.edu.cn/CRAN/\")\n",
    "#BiocManager::install(\"stringr\")\n",
    "#library(stringr)\n",
    "enrichr_go_terms_extracted_results_shredded <- list()\n",
    "enrichr_go_terms_extracted_results_shredded <- enrichr_go_results_shredded\n",
    "for (i in 1:length(enrichr_go_results_shredded))\n",
    "{\n",
    "  enrichr_go_terms_extracted_results_shredded[[i]]$Term <- str_extract(string = print(eval(parse(text=paste0(\"enrichr_go_results_shredded$\",paste0(eval(parse(text=\"names(enrichr_go_results_shredded)[i]\")),\"$Term\"))))), pattern = \"GO:[0-9]+\")\n",
    "}\n",
    "\n",
    "enrichr_kegg_terms_extracted_results_shredded <- list()\n",
    "enrichr_kegg_terms_extracted_results_shredded <- enrichr_kegg_results_shredded\n",
    "for (i in 1:length(enrichr_kegg_results_shredded))\n",
    "{\n",
    "  enrichr_kegg_terms_extracted_results_shredded[[i]]$Term <- str_extract(string = print(eval(parse(text=paste0(\"enrichr_kegg_results_shredded$\",paste0(eval(parse(text=\"names(enrichr_kegg_results_shredded)[i]\")),\"$Term\"))))), pattern = \"hsa[0-9]+\")\n",
    "}\n"
   ]
  },
  {
   "cell_type": "code",
   "execution_count": null,
   "metadata": {},
   "outputs": [],
   "source": []
  }
 ],
 "metadata": {
  "kernelspec": {
   "display_name": "R",
   "language": "R",
   "name": "ir"
  },
  "language_info": {
   "codemirror_mode": "r",
   "file_extension": ".r",
   "mimetype": "text/x-r-source",
   "name": "R",
   "pygments_lexer": "r",
   "version": "3.5.2"
  }
 },
 "nbformat": 4,
 "nbformat_minor": 2
}
