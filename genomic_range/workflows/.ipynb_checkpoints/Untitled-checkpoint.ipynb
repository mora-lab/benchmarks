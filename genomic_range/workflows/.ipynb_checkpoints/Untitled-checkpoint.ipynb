{
 "cells": [
  {
   "cell_type": "markdown",
   "metadata": {},
   "source": [
    "# Enrichr Results Compilation"
   ]
  },
  {
   "cell_type": "markdown",
   "metadata": {},
   "source": [
    "The output from the web interface of Enrichr tool was manually curated into a folder called 'enrichr' under two heads; one from the KEGG pathway database and the other from GO ontology, in subfolders named KEGG_2016 and GO_BP_2016, respectively."
   ]
  },
  {
   "cell_type": "code",
   "execution_count": 3,
   "metadata": {},
   "outputs": [],
   "source": [
    "tryCatch( {enrichr_go_samples <- read.table(\"/Users/mei/LabWork/GSAChIPSeqBenchmarkDataBase/Results/enrichr/GO_BP_2018/file_names.txt\")}\n",
    "          ,error = function(e){ print(\"File not found\"); break;}\n",
    "          ,finally = function (f){next;})"
   ]
  },
  {
   "cell_type": "code",
   "execution_count": 4,
   "metadata": {},
   "outputs": [
    {
     "data": {
      "text/html": [
       "<table>\n",
       "<caption>A data.frame: 6 × 1</caption>\n",
       "<thead>\n",
       "\t<tr><th scope=col>V1</th></tr>\n",
       "\t<tr><th scope=col>&lt;fct&gt;</th></tr>\n",
       "</thead>\n",
       "<tbody>\n",
       "\t<tr><td>GSE84618.txt  </td></tr>\n",
       "\t<tr><td>GSM1847178.txt</td></tr>\n",
       "\t<tr><td>GSM2058015.txt</td></tr>\n",
       "\t<tr><td>GSM2058016.txt</td></tr>\n",
       "\t<tr><td>GSM2058017.txt</td></tr>\n",
       "\t<tr><td>GSM2058018.txt</td></tr>\n",
       "</tbody>\n",
       "</table>\n"
      ],
      "text/latex": [
       "A data.frame: 6 × 1\n",
       "\\begin{tabular}{r|l}\n",
       " V1\\\\\n",
       " <fct>\\\\\n",
       "\\hline\n",
       "\t GSE84618.txt  \\\\\n",
       "\t GSM1847178.txt\\\\\n",
       "\t GSM2058015.txt\\\\\n",
       "\t GSM2058016.txt\\\\\n",
       "\t GSM2058017.txt\\\\\n",
       "\t GSM2058018.txt\\\\\n",
       "\\end{tabular}\n"
      ],
      "text/markdown": [
       "\n",
       "A data.frame: 6 × 1\n",
       "\n",
       "| V1 &lt;fct&gt; |\n",
       "|---|\n",
       "| GSE84618.txt   |\n",
       "| GSM1847178.txt |\n",
       "| GSM2058015.txt |\n",
       "| GSM2058016.txt |\n",
       "| GSM2058017.txt |\n",
       "| GSM2058018.txt |\n",
       "\n"
      ],
      "text/plain": [
       "  V1            \n",
       "1 GSE84618.txt  \n",
       "2 GSM1847178.txt\n",
       "3 GSM2058015.txt\n",
       "4 GSM2058016.txt\n",
       "5 GSM2058017.txt\n",
       "6 GSM2058018.txt"
      ]
     },
     "metadata": {},
     "output_type": "display_data"
    }
   ],
   "source": [
    "head(enrichr_go_samples)"
   ]
  },
  {
   "cell_type": "code",
   "execution_count": null,
   "metadata": {},
   "outputs": [],
   "source": []
  }
 ],
 "metadata": {
  "kernelspec": {
   "display_name": "R",
   "language": "R",
   "name": "ir"
  },
  "language_info": {
   "codemirror_mode": "r",
   "file_extension": ".r",
   "mimetype": "text/x-r-source",
   "name": "R",
   "pygments_lexer": "r",
   "version": "3.5.2"
  }
 },
 "nbformat": 4,
 "nbformat_minor": 2
}
