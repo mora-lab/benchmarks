{
 "cells": [
  {
   "cell_type": "markdown",
   "metadata": {},
   "source": [
    "Create a file named GSAChIPSeqBenchmarkProfile.txt, which is a tab-separated master table       with following fields: S.No.,\tExperimental_Method\tOrganism,\tCell_Type_Tissue,\tGenome_Version,\tDisease_Target_Pathway,\tSamples (Per Experiment),\tReplicates,\tPMID,\tPublication_Journal,\tPublication_Year,\tGSE,\tGSM,\tTF_or_Histone_Mark,\tCistrome_ID,\tKEGG_ID,\tMetadata."
   ]
  },
  {
   "cell_type": "markdown",
   "metadata": {},
   "source": [
    "All the marked function are to be sourced from the github repository. (https://github.com/mora-lab/benchmarks)"
   ]
  },
  {
   "cell_type": "code",
   "execution_count": null,
   "metadata": {},
   "outputs": [],
   "source": [
    "Data_Import_Cleaning_Function.R"
   ]
  },
  {
   "cell_type": "code",
   "execution_count": null,
   "metadata": {},
   "outputs": [],
   "source": [
    "Installing_Packages_Benchmark.R"
   ]
  },
  {
   "cell_type": "markdown",
   "metadata": {},
   "source": [
    "The above function will install the tools that we intend to compare as well as the package that we have constructed out of our benchmark dataset."
   ]
  },
  {
   "cell_type": "code",
   "execution_count": null,
   "metadata": {},
   "outputs": [],
   "source": [
    "Execute_Chipenrich_Broadenrich_Seq2pathway.R"
   ]
  },
  {
   "cell_type": "markdown",
   "metadata": {},
   "source": [
    "The function shall execute the three tools in order and respectively save the results as data files in R"
   ]
  },
  {
   "cell_type": "code",
   "execution_count": null,
   "metadata": {},
   "outputs": [],
   "source": [
    "Extracting_Valued_Results.R"
   ]
  },
  {
   "cell_type": "markdown",
   "metadata": {},
   "source": [
    "Manually curate the outputs from GREAT and Enrichr tools as they currently do not facilitate any programming interface."
   ]
  },
  {
   "cell_type": "code",
   "execution_count": null,
   "metadata": {},
   "outputs": [],
   "source": [
    "Enrichr_Results_Compilation.R"
   ]
  }
 ],
 "metadata": {
  "kernelspec": {
   "display_name": "R",
   "language": "R",
   "name": "ir"
  },
  "language_info": {
   "codemirror_mode": "r",
   "file_extension": ".r",
   "mimetype": "text/x-r-source",
   "name": "R",
   "pygments_lexer": "r",
   "version": "3.5.2"
  }
 },
 "nbformat": 4,
 "nbformat_minor": 2
}
