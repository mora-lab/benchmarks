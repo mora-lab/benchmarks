{
 "cells": [
  {
   "cell_type": "markdown",
   "metadata": {},
   "source": [
    "# Install `graphite` pacakge"
   ]
  },
  {
   "cell_type": "code",
   "execution_count": 16,
   "metadata": {},
   "outputs": [],
   "source": [
    "if (!requireNamespace(\"graphite\", quietly = TRUE)) {\n",
    "    if (!requireNamespace(\"BiocManager\", quietly = TRUE)){\n",
    "        install.packages(\"BiocManager\")\n",
    "    }\n",
    "    BiocManager::install(\"graphite\")\n",
    "}"
   ]
  },
  {
   "cell_type": "code",
   "execution_count": 17,
   "metadata": {
    "scrolled": true
   },
   "outputs": [],
   "source": [
    "library(graphite)"
   ]
  },
  {
   "cell_type": "markdown",
   "metadata": {},
   "source": [
    "# Pathway topology conversion to gene network"
   ]
  },
  {
   "cell_type": "markdown",
   "metadata": {},
   "source": [
    "`graphite` was designed to :\n",
    "\n",
    "    prove networks derived from eight public pathway databases\n",
    "\n",
    "    automate the conversion of node identifiers\n",
    "\n",
    "    facilitate the execution of topological pathway analyses on the provide networks"
   ]
  },
  {
   "cell_type": "markdown",
   "metadata": {},
   "source": [
    "## To know the pathway data available the user"
   ]
  },
  {
   "cell_type": "markdown",
   "metadata": {},
   "source": [
    "The pathway databases available in this version are:\n",
    "\n",
    "    KEGG, Biocata, Reactome, NCI/Nature Pathway Interaction Database, HumanCys, Panther, smpdb and PharmGKB"
   ]
  },
  {
   "cell_type": "code",
   "execution_count": 2,
   "metadata": {},
   "outputs": [
    {
     "data": {
      "text/html": [
       "<table>\n",
       "<caption>A data.frame: 38 × 2</caption>\n",
       "<thead>\n",
       "\t<tr><th scope=col>species</th><th scope=col>database</th></tr>\n",
       "\t<tr><th scope=col>&lt;fct&gt;</th><th scope=col>&lt;fct&gt;</th></tr>\n",
       "</thead>\n",
       "<tbody>\n",
       "\t<tr><td>athaliana    </td><td>kegg    </td></tr>\n",
       "\t<tr><td>athaliana    </td><td>pathbank</td></tr>\n",
       "\t<tr><td>athaliana    </td><td>reactome</td></tr>\n",
       "\t<tr><td>btaurus      </td><td>kegg    </td></tr>\n",
       "\t<tr><td>btaurus      </td><td>reactome</td></tr>\n",
       "\t<tr><td>celegans     </td><td>kegg    </td></tr>\n",
       "\t<tr><td>celegans     </td><td>reactome</td></tr>\n",
       "\t<tr><td>cfamiliaris  </td><td>kegg    </td></tr>\n",
       "\t<tr><td>cfamiliaris  </td><td>reactome</td></tr>\n",
       "\t<tr><td>dmelanogaster</td><td>kegg    </td></tr>\n",
       "\t<tr><td>dmelanogaster</td><td>reactome</td></tr>\n",
       "\t<tr><td>drerio       </td><td>kegg    </td></tr>\n",
       "\t<tr><td>drerio       </td><td>reactome</td></tr>\n",
       "\t<tr><td>ecoli        </td><td>kegg    </td></tr>\n",
       "\t<tr><td>ecoli        </td><td>pathbank</td></tr>\n",
       "\t<tr><td>ggallus      </td><td>kegg    </td></tr>\n",
       "\t<tr><td>ggallus      </td><td>reactome</td></tr>\n",
       "\t<tr><td>hsapiens     </td><td>biocarta</td></tr>\n",
       "\t<tr><td>hsapiens     </td><td>humancyc</td></tr>\n",
       "\t<tr><td>hsapiens     </td><td>kegg    </td></tr>\n",
       "\t<tr><td>hsapiens     </td><td>nci     </td></tr>\n",
       "\t<tr><td>hsapiens     </td><td>panther </td></tr>\n",
       "\t<tr><td>hsapiens     </td><td>pathbank</td></tr>\n",
       "\t<tr><td>hsapiens     </td><td>pharmgkb</td></tr>\n",
       "\t<tr><td>hsapiens     </td><td>reactome</td></tr>\n",
       "\t<tr><td>hsapiens     </td><td>smpdb   </td></tr>\n",
       "\t<tr><td>mmusculus    </td><td>kegg    </td></tr>\n",
       "\t<tr><td>mmusculus    </td><td>pathbank</td></tr>\n",
       "\t<tr><td>mmusculus    </td><td>reactome</td></tr>\n",
       "\t<tr><td>rnorvegicus  </td><td>kegg    </td></tr>\n",
       "\t<tr><td>rnorvegicus  </td><td>pathbank</td></tr>\n",
       "\t<tr><td>rnorvegicus  </td><td>reactome</td></tr>\n",
       "\t<tr><td>scerevisiae  </td><td>kegg    </td></tr>\n",
       "\t<tr><td>scerevisiae  </td><td>pathbank</td></tr>\n",
       "\t<tr><td>scerevisiae  </td><td>reactome</td></tr>\n",
       "\t<tr><td>sscrofa      </td><td>kegg    </td></tr>\n",
       "\t<tr><td>sscrofa      </td><td>reactome</td></tr>\n",
       "\t<tr><td>xlaevis      </td><td>kegg    </td></tr>\n",
       "</tbody>\n",
       "</table>\n"
      ],
      "text/latex": [
       "A data.frame: 38 × 2\n",
       "\\begin{tabular}{r|ll}\n",
       " species & database\\\\\n",
       " <fct> & <fct>\\\\\n",
       "\\hline\n",
       "\t athaliana     & kegg    \\\\\n",
       "\t athaliana     & pathbank\\\\\n",
       "\t athaliana     & reactome\\\\\n",
       "\t btaurus       & kegg    \\\\\n",
       "\t btaurus       & reactome\\\\\n",
       "\t celegans      & kegg    \\\\\n",
       "\t celegans      & reactome\\\\\n",
       "\t cfamiliaris   & kegg    \\\\\n",
       "\t cfamiliaris   & reactome\\\\\n",
       "\t dmelanogaster & kegg    \\\\\n",
       "\t dmelanogaster & reactome\\\\\n",
       "\t drerio        & kegg    \\\\\n",
       "\t drerio        & reactome\\\\\n",
       "\t ecoli         & kegg    \\\\\n",
       "\t ecoli         & pathbank\\\\\n",
       "\t ggallus       & kegg    \\\\\n",
       "\t ggallus       & reactome\\\\\n",
       "\t hsapiens      & biocarta\\\\\n",
       "\t hsapiens      & humancyc\\\\\n",
       "\t hsapiens      & kegg    \\\\\n",
       "\t hsapiens      & nci     \\\\\n",
       "\t hsapiens      & panther \\\\\n",
       "\t hsapiens      & pathbank\\\\\n",
       "\t hsapiens      & pharmgkb\\\\\n",
       "\t hsapiens      & reactome\\\\\n",
       "\t hsapiens      & smpdb   \\\\\n",
       "\t mmusculus     & kegg    \\\\\n",
       "\t mmusculus     & pathbank\\\\\n",
       "\t mmusculus     & reactome\\\\\n",
       "\t rnorvegicus   & kegg    \\\\\n",
       "\t rnorvegicus   & pathbank\\\\\n",
       "\t rnorvegicus   & reactome\\\\\n",
       "\t scerevisiae   & kegg    \\\\\n",
       "\t scerevisiae   & pathbank\\\\\n",
       "\t scerevisiae   & reactome\\\\\n",
       "\t sscrofa       & kegg    \\\\\n",
       "\t sscrofa       & reactome\\\\\n",
       "\t xlaevis       & kegg    \\\\\n",
       "\\end{tabular}\n"
      ],
      "text/markdown": [
       "\n",
       "A data.frame: 38 × 2\n",
       "\n",
       "| species &lt;fct&gt; | database &lt;fct&gt; |\n",
       "|---|---|\n",
       "| athaliana     | kegg     |\n",
       "| athaliana     | pathbank |\n",
       "| athaliana     | reactome |\n",
       "| btaurus       | kegg     |\n",
       "| btaurus       | reactome |\n",
       "| celegans      | kegg     |\n",
       "| celegans      | reactome |\n",
       "| cfamiliaris   | kegg     |\n",
       "| cfamiliaris   | reactome |\n",
       "| dmelanogaster | kegg     |\n",
       "| dmelanogaster | reactome |\n",
       "| drerio        | kegg     |\n",
       "| drerio        | reactome |\n",
       "| ecoli         | kegg     |\n",
       "| ecoli         | pathbank |\n",
       "| ggallus       | kegg     |\n",
       "| ggallus       | reactome |\n",
       "| hsapiens      | biocarta |\n",
       "| hsapiens      | humancyc |\n",
       "| hsapiens      | kegg     |\n",
       "| hsapiens      | nci      |\n",
       "| hsapiens      | panther  |\n",
       "| hsapiens      | pathbank |\n",
       "| hsapiens      | pharmgkb |\n",
       "| hsapiens      | reactome |\n",
       "| hsapiens      | smpdb    |\n",
       "| mmusculus     | kegg     |\n",
       "| mmusculus     | pathbank |\n",
       "| mmusculus     | reactome |\n",
       "| rnorvegicus   | kegg     |\n",
       "| rnorvegicus   | pathbank |\n",
       "| rnorvegicus   | reactome |\n",
       "| scerevisiae   | kegg     |\n",
       "| scerevisiae   | pathbank |\n",
       "| scerevisiae   | reactome |\n",
       "| sscrofa       | kegg     |\n",
       "| sscrofa       | reactome |\n",
       "| xlaevis       | kegg     |\n",
       "\n"
      ],
      "text/plain": [
       "   species       database\n",
       "1  athaliana     kegg    \n",
       "2  athaliana     pathbank\n",
       "3  athaliana     reactome\n",
       "4  btaurus       kegg    \n",
       "5  btaurus       reactome\n",
       "6  celegans      kegg    \n",
       "7  celegans      reactome\n",
       "8  cfamiliaris   kegg    \n",
       "9  cfamiliaris   reactome\n",
       "10 dmelanogaster kegg    \n",
       "11 dmelanogaster reactome\n",
       "12 drerio        kegg    \n",
       "13 drerio        reactome\n",
       "14 ecoli         kegg    \n",
       "15 ecoli         pathbank\n",
       "16 ggallus       kegg    \n",
       "17 ggallus       reactome\n",
       "18 hsapiens      biocarta\n",
       "19 hsapiens      humancyc\n",
       "20 hsapiens      kegg    \n",
       "21 hsapiens      nci     \n",
       "22 hsapiens      panther \n",
       "23 hsapiens      pathbank\n",
       "24 hsapiens      pharmgkb\n",
       "25 hsapiens      reactome\n",
       "26 hsapiens      smpdb   \n",
       "27 mmusculus     kegg    \n",
       "28 mmusculus     pathbank\n",
       "29 mmusculus     reactome\n",
       "30 rnorvegicus   kegg    \n",
       "31 rnorvegicus   pathbank\n",
       "32 rnorvegicus   reactome\n",
       "33 scerevisiae   kegg    \n",
       "34 scerevisiae   pathbank\n",
       "35 scerevisiae   reactome\n",
       "36 sscrofa       kegg    \n",
       "37 sscrofa       reactome\n",
       "38 xlaevis       kegg    "
      ]
     },
     "metadata": {},
     "output_type": "display_data"
    }
   ],
   "source": [
    "pathwayDatabases()"
   ]
  },
  {
   "cell_type": "markdown",
   "metadata": {},
   "source": [
    "## Retrieve a list of pathways"
   ]
  },
  {
   "cell_type": "code",
   "execution_count": 3,
   "metadata": {
    "scrolled": true
   },
   "outputs": [],
   "source": [
    "#humanReactome <- pathways(\"hsapiens\", \"reactome\")\n",
    "#save(humanReactome,file=\"humanReactome.RData\")"
   ]
  },
  {
   "cell_type": "code",
   "execution_count": 4,
   "metadata": {},
   "outputs": [
    {
     "data": {
      "text/html": [
       "<ol class=list-inline>\n",
       "\t<li>'Interleukin-6 signaling'</li>\n",
       "\t<li>'Apoptosis'</li>\n",
       "\t<li>'Hemostasis'</li>\n",
       "\t<li>'Intrinsic Pathway for Apoptosis'</li>\n",
       "\t<li>'Cleavage of Growing Transcript in the Termination Region'</li>\n",
       "\t<li>'PKB-mediated events'</li>\n",
       "\t<li>'PI3K Cascade'</li>\n",
       "\t<li>'MAPK3 (ERK1) activation'</li>\n",
       "\t<li>'Translesion synthesis by REV1'</li>\n",
       "\t<li>'Translesion synthesis by Y family DNA polymerases bypasses lesions on DNA template'</li>\n",
       "</ol>\n"
      ],
      "text/latex": [
       "\\begin{enumerate*}\n",
       "\\item 'Interleukin-6 signaling'\n",
       "\\item 'Apoptosis'\n",
       "\\item 'Hemostasis'\n",
       "\\item 'Intrinsic Pathway for Apoptosis'\n",
       "\\item 'Cleavage of Growing Transcript in the Termination Region'\n",
       "\\item 'PKB-mediated events'\n",
       "\\item 'PI3K Cascade'\n",
       "\\item 'MAPK3 (ERK1) activation'\n",
       "\\item 'Translesion synthesis by REV1'\n",
       "\\item 'Translesion synthesis by Y family DNA polymerases bypasses lesions on DNA template'\n",
       "\\end{enumerate*}\n"
      ],
      "text/markdown": [
       "1. 'Interleukin-6 signaling'\n",
       "2. 'Apoptosis'\n",
       "3. 'Hemostasis'\n",
       "4. 'Intrinsic Pathway for Apoptosis'\n",
       "5. 'Cleavage of Growing Transcript in the Termination Region'\n",
       "6. 'PKB-mediated events'\n",
       "7. 'PI3K Cascade'\n",
       "8. 'MAPK3 (ERK1) activation'\n",
       "9. 'Translesion synthesis by REV1'\n",
       "10. 'Translesion synthesis by Y family DNA polymerases bypasses lesions on DNA template'\n",
       "\n",
       "\n"
      ],
      "text/plain": [
       " [1] \"Interleukin-6 signaling\"                                                           \n",
       " [2] \"Apoptosis\"                                                                         \n",
       " [3] \"Hemostasis\"                                                                        \n",
       " [4] \"Intrinsic Pathway for Apoptosis\"                                                   \n",
       " [5] \"Cleavage of Growing Transcript in the Termination Region\"                          \n",
       " [6] \"PKB-mediated events\"                                                               \n",
       " [7] \"PI3K Cascade\"                                                                      \n",
       " [8] \"MAPK3 (ERK1) activation\"                                                           \n",
       " [9] \"Translesion synthesis by REV1\"                                                     \n",
       "[10] \"Translesion synthesis by Y family DNA polymerases bypasses lesions on DNA template\""
      ]
     },
     "metadata": {},
     "output_type": "display_data"
    }
   ],
   "source": [
    "#save(humanReactome,file=\"humanReactome.RData\")\n",
    "load(\"humanReactome.RData\")\n",
    "names(humanReactome)[1:10]"
   ]
  },
  {
   "cell_type": "markdown",
   "metadata": {},
   "source": [
    "## Get the pathway name"
   ]
  },
  {
   "cell_type": "code",
   "execution_count": 5,
   "metadata": {},
   "outputs": [
    {
     "name": "stderr",
     "output_type": "stream",
     "text": [
      "Your code contains a unicode char which cannot be displayed in your\n",
      "current locale and R will silently convert it to an escaped form when the\n",
      "R kernel executes this code. This can lead to subtle errors if you use\n",
      "such chars to do comparisons. For more information, please see\n",
      "https://github.com/IRkernel/repr/wiki/Problems-with-unicode-on-windows"
     ]
    },
    {
     "data": {
      "text/html": [
       "'BH3-only proteins associate with and inactivate anti-apoptotic BCL-2 members'"
      ],
      "text/latex": [
       "'BH3-only proteins associate with and inactivate anti-apoptotic BCL-2 members'"
      ],
      "text/markdown": [
       "'BH3-only proteins associate with and inactivate anti-apoptotic BCL-2 members'"
      ],
      "text/plain": [
       "[1] \"BH3-only proteins associate with and inactivate anti-apoptotic BCL-2 members\""
      ]
     },
     "metadata": {},
     "output_type": "display_data"
    }
   ],
   "source": [
    "p <- humanReactome[[21]]\n",
    "pathwayTitle(p) #查看通路名称"
   ]
  },
  {
   "cell_type": "markdown",
   "metadata": {},
   "source": [
    "## Get genes of the pathway"
   ]
  },
  {
   "cell_type": "markdown",
   "metadata": {},
   "source": [
    "In the pathway, nodes represent genes/proteins:"
   ]
  },
  {
   "cell_type": "code",
   "execution_count": 6,
   "metadata": {},
   "outputs": [
    {
     "data": {
      "text/html": [
       "<ol class=list-inline>\n",
       "\t<li>'UNIPROT:O43521'</li>\n",
       "\t<li>'UNIPROT:P10415'</li>\n",
       "\t<li>'UNIPROT:P40763'</li>\n",
       "\t<li>'UNIPROT:P55957'</li>\n",
       "\t<li>'UNIPROT:Q13794'</li>\n",
       "\t<li>'UNIPROT:Q92934'</li>\n",
       "</ol>\n"
      ],
      "text/latex": [
       "\\begin{enumerate*}\n",
       "\\item 'UNIPROT:O43521'\n",
       "\\item 'UNIPROT:P10415'\n",
       "\\item 'UNIPROT:P40763'\n",
       "\\item 'UNIPROT:P55957'\n",
       "\\item 'UNIPROT:Q13794'\n",
       "\\item 'UNIPROT:Q92934'\n",
       "\\end{enumerate*}\n"
      ],
      "text/markdown": [
       "1. 'UNIPROT:O43521'\n",
       "2. 'UNIPROT:P10415'\n",
       "3. 'UNIPROT:P40763'\n",
       "4. 'UNIPROT:P55957'\n",
       "5. 'UNIPROT:Q13794'\n",
       "6. 'UNIPROT:Q92934'\n",
       "\n",
       "\n"
      ],
      "text/plain": [
       "[1] \"UNIPROT:O43521\" \"UNIPROT:P10415\" \"UNIPROT:P40763\" \"UNIPROT:P55957\"\n",
       "[5] \"UNIPROT:Q13794\" \"UNIPROT:Q92934\""
      ]
     },
     "metadata": {},
     "output_type": "display_data"
    }
   ],
   "source": [
    "head(nodes(p))"
   ]
  },
  {
   "cell_type": "markdown",
   "metadata": {},
   "source": [
    "every graphite pathway can be accessed through three separate views:\n",
    "\n",
    "   **gene-only network** where metabolite nodes have been removed and edges have been propagated\n",
    "    through them;\n",
    "   \n",
    "   **metabolite-only network** where protein nodes have been removed and edges have been\n",
    "    propagated through them;\n",
    "   \n",
    "   **mixed network** containing both proteins and metabolites, useful for metabolomic and transcriptomic\n",
    "    data integration.\n",
    "    \n",
    "Using the option which we can access the pathway with proteins and metabolites (`which= \"mixed\"`) or the pathway with only metabolites with edges propagated through proteins (`which = \"metabolites\"`)."
   ]
  },
  {
   "cell_type": "code",
   "execution_count": 7,
   "metadata": {},
   "outputs": [
    {
     "data": {
      "text/html": [
       "<ol class=list-inline>\n",
       "\t<li>'UNIPROT:O43521'</li>\n",
       "\t<li>'UNIPROT:P10415'</li>\n",
       "\t<li>'UNIPROT:P40763'</li>\n",
       "\t<li>'UNIPROT:P55957'</li>\n",
       "\t<li>'UNIPROT:Q13794'</li>\n",
       "\t<li>'UNIPROT:Q92934'</li>\n",
       "</ol>\n"
      ],
      "text/latex": [
       "\\begin{enumerate*}\n",
       "\\item 'UNIPROT:O43521'\n",
       "\\item 'UNIPROT:P10415'\n",
       "\\item 'UNIPROT:P40763'\n",
       "\\item 'UNIPROT:P55957'\n",
       "\\item 'UNIPROT:Q13794'\n",
       "\\item 'UNIPROT:Q92934'\n",
       "\\end{enumerate*}\n"
      ],
      "text/markdown": [
       "1. 'UNIPROT:O43521'\n",
       "2. 'UNIPROT:P10415'\n",
       "3. 'UNIPROT:P40763'\n",
       "4. 'UNIPROT:P55957'\n",
       "5. 'UNIPROT:Q13794'\n",
       "6. 'UNIPROT:Q92934'\n",
       "\n",
       "\n"
      ],
      "text/plain": [
       "[1] \"UNIPROT:O43521\" \"UNIPROT:P10415\" \"UNIPROT:P40763\" \"UNIPROT:P55957\"\n",
       "[5] \"UNIPROT:Q13794\" \"UNIPROT:Q92934\""
      ]
     },
     "metadata": {},
     "output_type": "display_data"
    }
   ],
   "source": [
    "head(nodes(p), which = \"mixed\")"
   ]
  },
  {
   "cell_type": "markdown",
   "metadata": {},
   "source": [
    "## Get functional relationships of the pathway"
   ]
  },
  {
   "cell_type": "markdown",
   "metadata": {},
   "source": [
    "Edges can be characterized by multiple functional relationships:"
   ]
  },
  {
   "cell_type": "code",
   "execution_count": 8,
   "metadata": {},
   "outputs": [
    {
     "data": {
      "text/html": [
       "<table>\n",
       "<caption>A data.frame: 6 × 6</caption>\n",
       "<thead>\n",
       "\t<tr><th scope=col>src_type</th><th scope=col>src</th><th scope=col>dest_type</th><th scope=col>dest</th><th scope=col>direction</th><th scope=col>type</th></tr>\n",
       "\t<tr><th scope=col>&lt;fct&gt;</th><th scope=col>&lt;chr&gt;</th><th scope=col>&lt;fct&gt;</th><th scope=col>&lt;chr&gt;</th><th scope=col>&lt;fct&gt;</th><th scope=col>&lt;fct&gt;</th></tr>\n",
       "</thead>\n",
       "<tbody>\n",
       "\t<tr><td>UNIPROT</td><td>O43521</td><td>UNIPROT</td><td>Q07817</td><td>undirected</td><td>Binding                                        </td></tr>\n",
       "\t<tr><td>UNIPROT</td><td>P10415</td><td>UNIPROT</td><td>O43521</td><td>undirected</td><td>Binding                                        </td></tr>\n",
       "\t<tr><td>UNIPROT</td><td>P10415</td><td>UNIPROT</td><td>Q13794</td><td>undirected</td><td>Binding                                        </td></tr>\n",
       "\t<tr><td>UNIPROT</td><td>P10415</td><td>UNIPROT</td><td>Q96LC9</td><td>undirected</td><td>Binding                                        </td></tr>\n",
       "\t<tr><td>UNIPROT</td><td>P10415</td><td>UNIPROT</td><td>Q9BXH1</td><td>undirected</td><td>Binding                                        </td></tr>\n",
       "\t<tr><td>UNIPROT</td><td>P40763</td><td>UNIPROT</td><td>P10415</td><td>directed  </td><td>Control(Out: ACTIVATION of BiochemicalReaction)</td></tr>\n",
       "</tbody>\n",
       "</table>\n"
      ],
      "text/latex": [
       "A data.frame: 6 × 6\n",
       "\\begin{tabular}{r|llllll}\n",
       " src\\_type & src & dest\\_type & dest & direction & type\\\\\n",
       " <fct> & <chr> & <fct> & <chr> & <fct> & <fct>\\\\\n",
       "\\hline\n",
       "\t UNIPROT & O43521 & UNIPROT & Q07817 & undirected & Binding                                        \\\\\n",
       "\t UNIPROT & P10415 & UNIPROT & O43521 & undirected & Binding                                        \\\\\n",
       "\t UNIPROT & P10415 & UNIPROT & Q13794 & undirected & Binding                                        \\\\\n",
       "\t UNIPROT & P10415 & UNIPROT & Q96LC9 & undirected & Binding                                        \\\\\n",
       "\t UNIPROT & P10415 & UNIPROT & Q9BXH1 & undirected & Binding                                        \\\\\n",
       "\t UNIPROT & P40763 & UNIPROT & P10415 & directed   & Control(Out: ACTIVATION of BiochemicalReaction)\\\\\n",
       "\\end{tabular}\n"
      ],
      "text/markdown": [
       "\n",
       "A data.frame: 6 × 6\n",
       "\n",
       "| src_type &lt;fct&gt; | src &lt;chr&gt; | dest_type &lt;fct&gt; | dest &lt;chr&gt; | direction &lt;fct&gt; | type &lt;fct&gt; |\n",
       "|---|---|---|---|---|---|\n",
       "| UNIPROT | O43521 | UNIPROT | Q07817 | undirected | Binding                                         |\n",
       "| UNIPROT | P10415 | UNIPROT | O43521 | undirected | Binding                                         |\n",
       "| UNIPROT | P10415 | UNIPROT | Q13794 | undirected | Binding                                         |\n",
       "| UNIPROT | P10415 | UNIPROT | Q96LC9 | undirected | Binding                                         |\n",
       "| UNIPROT | P10415 | UNIPROT | Q9BXH1 | undirected | Binding                                         |\n",
       "| UNIPROT | P40763 | UNIPROT | P10415 | directed   | Control(Out: ACTIVATION of BiochemicalReaction) |\n",
       "\n"
      ],
      "text/plain": [
       "  src_type src    dest_type dest   direction \n",
       "1 UNIPROT  O43521 UNIPROT   Q07817 undirected\n",
       "2 UNIPROT  P10415 UNIPROT   O43521 undirected\n",
       "3 UNIPROT  P10415 UNIPROT   Q13794 undirected\n",
       "4 UNIPROT  P10415 UNIPROT   Q96LC9 undirected\n",
       "5 UNIPROT  P10415 UNIPROT   Q9BXH1 undirected\n",
       "6 UNIPROT  P40763 UNIPROT   P10415 directed  \n",
       "  type                                           \n",
       "1 Binding                                        \n",
       "2 Binding                                        \n",
       "3 Binding                                        \n",
       "4 Binding                                        \n",
       "5 Binding                                        \n",
       "6 Control(Out: ACTIVATION of BiochemicalReaction)"
      ]
     },
     "metadata": {},
     "output_type": "display_data"
    }
   ],
   "source": [
    "head(edges(p))"
   ]
  },
  {
   "cell_type": "code",
   "execution_count": 9,
   "metadata": {},
   "outputs": [
    {
     "data": {
      "text/html": [
       "<table>\n",
       "<caption>A data.frame: 6 × 6</caption>\n",
       "<thead>\n",
       "\t<tr><th scope=col>src_type</th><th scope=col>src</th><th scope=col>dest_type</th><th scope=col>dest</th><th scope=col>direction</th><th scope=col>type</th></tr>\n",
       "\t<tr><th scope=col>&lt;fct&gt;</th><th scope=col>&lt;chr&gt;</th><th scope=col>&lt;fct&gt;</th><th scope=col>&lt;chr&gt;</th><th scope=col>&lt;fct&gt;</th><th scope=col>&lt;fct&gt;</th></tr>\n",
       "</thead>\n",
       "<tbody>\n",
       "\t<tr><td>UNIPROT</td><td>O43521</td><td>UNIPROT</td><td>Q07817</td><td>undirected</td><td>Binding                                        </td></tr>\n",
       "\t<tr><td>UNIPROT</td><td>P10415</td><td>UNIPROT</td><td>O43521</td><td>undirected</td><td>Binding                                        </td></tr>\n",
       "\t<tr><td>UNIPROT</td><td>P10415</td><td>UNIPROT</td><td>Q13794</td><td>undirected</td><td>Binding                                        </td></tr>\n",
       "\t<tr><td>UNIPROT</td><td>P10415</td><td>UNIPROT</td><td>Q96LC9</td><td>undirected</td><td>Binding                                        </td></tr>\n",
       "\t<tr><td>UNIPROT</td><td>P10415</td><td>UNIPROT</td><td>Q9BXH1</td><td>undirected</td><td>Binding                                        </td></tr>\n",
       "\t<tr><td>UNIPROT</td><td>P40763</td><td>UNIPROT</td><td>P10415</td><td>directed  </td><td>Control(Out: ACTIVATION of BiochemicalReaction)</td></tr>\n",
       "</tbody>\n",
       "</table>\n"
      ],
      "text/latex": [
       "A data.frame: 6 × 6\n",
       "\\begin{tabular}{r|llllll}\n",
       " src\\_type & src & dest\\_type & dest & direction & type\\\\\n",
       " <fct> & <chr> & <fct> & <chr> & <fct> & <fct>\\\\\n",
       "\\hline\n",
       "\t UNIPROT & O43521 & UNIPROT & Q07817 & undirected & Binding                                        \\\\\n",
       "\t UNIPROT & P10415 & UNIPROT & O43521 & undirected & Binding                                        \\\\\n",
       "\t UNIPROT & P10415 & UNIPROT & Q13794 & undirected & Binding                                        \\\\\n",
       "\t UNIPROT & P10415 & UNIPROT & Q96LC9 & undirected & Binding                                        \\\\\n",
       "\t UNIPROT & P10415 & UNIPROT & Q9BXH1 & undirected & Binding                                        \\\\\n",
       "\t UNIPROT & P40763 & UNIPROT & P10415 & directed   & Control(Out: ACTIVATION of BiochemicalReaction)\\\\\n",
       "\\end{tabular}\n"
      ],
      "text/markdown": [
       "\n",
       "A data.frame: 6 × 6\n",
       "\n",
       "| src_type &lt;fct&gt; | src &lt;chr&gt; | dest_type &lt;fct&gt; | dest &lt;chr&gt; | direction &lt;fct&gt; | type &lt;fct&gt; |\n",
       "|---|---|---|---|---|---|\n",
       "| UNIPROT | O43521 | UNIPROT | Q07817 | undirected | Binding                                         |\n",
       "| UNIPROT | P10415 | UNIPROT | O43521 | undirected | Binding                                         |\n",
       "| UNIPROT | P10415 | UNIPROT | Q13794 | undirected | Binding                                         |\n",
       "| UNIPROT | P10415 | UNIPROT | Q96LC9 | undirected | Binding                                         |\n",
       "| UNIPROT | P10415 | UNIPROT | Q9BXH1 | undirected | Binding                                         |\n",
       "| UNIPROT | P40763 | UNIPROT | P10415 | directed   | Control(Out: ACTIVATION of BiochemicalReaction) |\n",
       "\n"
      ],
      "text/plain": [
       "  src_type src    dest_type dest   direction \n",
       "1 UNIPROT  O43521 UNIPROT   Q07817 undirected\n",
       "2 UNIPROT  P10415 UNIPROT   O43521 undirected\n",
       "3 UNIPROT  P10415 UNIPROT   Q13794 undirected\n",
       "4 UNIPROT  P10415 UNIPROT   Q96LC9 undirected\n",
       "5 UNIPROT  P10415 UNIPROT   Q9BXH1 undirected\n",
       "6 UNIPROT  P40763 UNIPROT   P10415 directed  \n",
       "  type                                           \n",
       "1 Binding                                        \n",
       "2 Binding                                        \n",
       "3 Binding                                        \n",
       "4 Binding                                        \n",
       "5 Binding                                        \n",
       "6 Control(Out: ACTIVATION of BiochemicalReaction)"
      ]
     },
     "metadata": {},
     "output_type": "display_data"
    }
   ],
   "source": [
    "head(edges(p), which = \"mixed\")"
   ]
  },
  {
   "cell_type": "markdown",
   "metadata": {},
   "source": [
    "## Builds a graphNEL object representing the topology of a pathway."
   ]
  },
  {
   "cell_type": "code",
   "execution_count": 10,
   "metadata": {},
   "outputs": [
    {
     "data": {
      "text/plain": [
       "A graphNEL graph with directed edges\n",
       "Number of Nodes = 9 \n",
       "Number of Edges = 24 "
      ]
     },
     "metadata": {},
     "output_type": "display_data"
    },
    {
     "data": {
      "text/html": [
       "'graphNEL'"
      ],
      "text/latex": [
       "'graphNEL'"
      ],
      "text/markdown": [
       "'graphNEL'"
      ],
      "text/plain": [
       "[1] \"graphNEL\"\n",
       "attr(,\"package\")\n",
       "[1] \"graph\""
      ]
     },
     "metadata": {},
     "output_type": "display_data"
    }
   ],
   "source": [
    "g <- pathwayGraph(p)\n",
    "g\n",
    "class(g)"
   ]
  },
  {
   "cell_type": "markdown",
   "metadata": {},
   "source": [
    "## Converts the node identifiers of pathways.\n"
   ]
  },
  {
   "cell_type": "markdown",
   "metadata": {},
   "source": [
    "`converterIdentifiers` needs **a list of pathways** or **a single pathway** and a string describing the type of the identifier as provided by an Annotation package\n",
    "(for example,‘\"ENTREZID\"’), while the values ‘\"entrez\"’, ‘\"symbol\"’ remains for backward compatibility."
   ]
  },
  {
   "cell_type": "code",
   "execution_count": 11,
   "metadata": {},
   "outputs": [
    {
     "name": "stderr",
     "output_type": "stream",
     "text": [
      "'select()' returned 1:1 mapping between keys and columns\n",
      "'select()' returned 1:1 mapping between keys and columns\n"
     ]
    },
    {
     "data": {
      "text/plain": [
       "\"BH3-only proteins associate with and inactivate anti-apoptotic BCL-2 members\" pathway\n",
       "Native ID       = R-HSA-111453\n",
       "Database        = Reactome\n",
       "Species         = hsapiens\n",
       "Number of nodes = 9\n",
       "Number of edges = 13\n",
       "Retrieved on    = 18-11-2018\n",
       "URL             = http://reactome.org/PathwayBrowser/#/R-HSA-111453"
      ]
     },
     "metadata": {},
     "output_type": "display_data"
    }
   ],
   "source": [
    "pSymbol <- convertIdentifiers(p,\"SYMBOL\")\n",
    "pSymbol"
   ]
  },
  {
   "cell_type": "code",
   "execution_count": 12,
   "metadata": {
    "scrolled": true
   },
   "outputs": [
    {
     "data": {
      "text/html": [
       "<ol class=list-inline>\n",
       "\t<li>'UNIPROT:O43521'</li>\n",
       "\t<li>'UNIPROT:P10415'</li>\n",
       "\t<li>'UNIPROT:P40763'</li>\n",
       "\t<li>'UNIPROT:P55957'</li>\n",
       "\t<li>'UNIPROT:Q13794'</li>\n",
       "\t<li>'UNIPROT:Q92934'</li>\n",
       "</ol>\n"
      ],
      "text/latex": [
       "\\begin{enumerate*}\n",
       "\\item 'UNIPROT:O43521'\n",
       "\\item 'UNIPROT:P10415'\n",
       "\\item 'UNIPROT:P40763'\n",
       "\\item 'UNIPROT:P55957'\n",
       "\\item 'UNIPROT:Q13794'\n",
       "\\item 'UNIPROT:Q92934'\n",
       "\\end{enumerate*}\n"
      ],
      "text/markdown": [
       "1. 'UNIPROT:O43521'\n",
       "2. 'UNIPROT:P10415'\n",
       "3. 'UNIPROT:P40763'\n",
       "4. 'UNIPROT:P55957'\n",
       "5. 'UNIPROT:Q13794'\n",
       "6. 'UNIPROT:Q92934'\n",
       "\n",
       "\n"
      ],
      "text/plain": [
       "[1] \"UNIPROT:O43521\" \"UNIPROT:P10415\" \"UNIPROT:P40763\" \"UNIPROT:P55957\"\n",
       "[5] \"UNIPROT:Q13794\" \"UNIPROT:Q92934\""
      ]
     },
     "metadata": {},
     "output_type": "display_data"
    },
    {
     "data": {
      "text/html": [
       "<ol class=list-inline>\n",
       "\t<li>'SYMBOL:BCL2L11'</li>\n",
       "\t<li>'SYMBOL:BCL2'</li>\n",
       "\t<li>'SYMBOL:STAT3'</li>\n",
       "\t<li>'SYMBOL:BID'</li>\n",
       "\t<li>'SYMBOL:PMAIP1'</li>\n",
       "\t<li>'SYMBOL:BAD'</li>\n",
       "</ol>\n"
      ],
      "text/latex": [
       "\\begin{enumerate*}\n",
       "\\item 'SYMBOL:BCL2L11'\n",
       "\\item 'SYMBOL:BCL2'\n",
       "\\item 'SYMBOL:STAT3'\n",
       "\\item 'SYMBOL:BID'\n",
       "\\item 'SYMBOL:PMAIP1'\n",
       "\\item 'SYMBOL:BAD'\n",
       "\\end{enumerate*}\n"
      ],
      "text/markdown": [
       "1. 'SYMBOL:BCL2L11'\n",
       "2. 'SYMBOL:BCL2'\n",
       "3. 'SYMBOL:STAT3'\n",
       "4. 'SYMBOL:BID'\n",
       "5. 'SYMBOL:PMAIP1'\n",
       "6. 'SYMBOL:BAD'\n",
       "\n",
       "\n"
      ],
      "text/plain": [
       "[1] \"SYMBOL:BCL2L11\" \"SYMBOL:BCL2\"    \"SYMBOL:STAT3\"   \"SYMBOL:BID\"    \n",
       "[5] \"SYMBOL:PMAIP1\"  \"SYMBOL:BAD\"    "
      ]
     },
     "metadata": {},
     "output_type": "display_data"
    }
   ],
   "source": [
    "head(nodes(p))\n",
    "head(nodes(pSymbol))"
   ]
  },
  {
   "cell_type": "code",
   "execution_count": 13,
   "metadata": {
    "scrolled": true
   },
   "outputs": [
    {
     "name": "stderr",
     "output_type": "stream",
     "text": [
      "'select()' returned 1:1 mapping between keys and columns\n",
      "'select()' returned 1:1 mapping between keys and columns\n",
      "'select()' returned 1:1 mapping between keys and columns\n",
      "'select()' returned 1:1 mapping between keys and columns\n",
      "'select()' returned 1:many mapping between keys and columns\n",
      "'select()' returned 1:many mapping between keys and columns\n",
      "'select()' returned 1:many mapping between keys and columns\n",
      "'select()' returned 1:1 mapping between keys and columns\n",
      "'select()' returned 1:many mapping between keys and columns\n",
      "'select()' returned 1:many mapping between keys and columns\n",
      "'select()' returned 1:many mapping between keys and columns\n",
      "'select()' returned 1:many mapping between keys and columns\n",
      "'select()' returned 1:many mapping between keys and columns\n",
      "'select()' returned 1:many mapping between keys and columns\n",
      "'select()' returned 1:1 mapping between keys and columns\n",
      "'select()' returned 1:1 mapping between keys and columns\n",
      "'select()' returned 1:1 mapping between keys and columns\n",
      "'select()' returned 1:1 mapping between keys and columns\n",
      "'select()' returned 1:many mapping between keys and columns\n",
      "'select()' returned 1:many mapping between keys and columns\n",
      "'select()' returned 1:many mapping between keys and columns\n"
     ]
    }
   ],
   "source": [
    "reactomeSymbol <- convertIdentifiers(humanReactome[1:5], \"SYMBOL\")"
   ]
  },
  {
   "cell_type": "markdown",
   "metadata": {},
   "source": [
    "## Renders the topology of a pathway as a Cytoscape graph.\n"
   ]
  },
  {
   "cell_type": "markdown",
   "metadata": {},
   "source": [
    "Before you run `cytoscapePlot` function, you must install [Cytoscape](https://cytoscape.org/) and open the software. \n",
    "\n",
    "[Cytoscape](https://cytoscape.org/) is a Java based software specifically built to manage biological network complexity and for this reason it is widely used by the biological community.\n",
    "\n",
    "we can access the pathway with proteins and metabolites (`which = \"mixed\"`) or the pathway with only metabolites and edges propagated through proteins (`which = \"metabolites\"`)."
   ]
  },
  {
   "cell_type": "code",
   "execution_count": 14,
   "metadata": {},
   "outputs": [
    {
     "name": "stderr",
     "output_type": "stream",
     "text": [
      "'select()' returned 1:1 mapping between keys and columns\n",
      "'select()' returned 1:1 mapping between keys and columns\n"
     ]
    },
    {
     "name": "stdout",
     "output_type": "stream",
     "text": [
      "Loading data...\n",
      "Applying default style...\n",
      "Applying preferred layout...\n"
     ]
    }
   ],
   "source": [
    "cytoscapePlot(convertIdentifiers(p, \"symbol\"), which = \"mixed\")"
   ]
  },
  {
   "cell_type": "markdown",
   "metadata": {},
   "source": [
    "![TimeClip1.png](picture/TimeClip1.png)"
   ]
  },
  {
   "cell_type": "markdown",
   "metadata": {},
   "source": [
    "# Topological pathway analysis"
   ]
  },
  {
   "cell_type": "markdown",
   "metadata": {},
   "source": [
    "`graphite` gives access to three types of topological pathway analyses. \n",
    "\n",
    "all the methods with the exception of `clipper` are available only for pathways with proteins and with edges propagated through metabolites. \n",
    "\n",
    "`clipper` is the only analysis that can be used to study metabolomics data.\n",
    "\n",
    " For more details on the results obtained by these analyses see the corresponding R packages."
   ]
  },
  {
   "cell_type": "markdown",
   "metadata": {},
   "source": [
    "## SPIA"
   ]
  },
  {
   "cell_type": "markdown",
   "metadata": {},
   "source": [
    "The analysis with SPIA requires the conversion of gene-gene networks in a suitable format.\n",
    "\n",
    "This conversion is performed by the function `prepareSPIA` that must be executed before the\n",
    "analysis command `runSPIA`. \n",
    "\n",
    "The SPIA data will be saved in the current working directory;every time you change it, you should also re-run `prepareSPIA`."
   ]
  },
  {
   "cell_type": "markdown",
   "metadata": {},
   "source": [
    "### Install package"
   ]
  },
  {
   "cell_type": "code",
   "execution_count": 18,
   "metadata": {},
   "outputs": [],
   "source": [
    "if (!requireNamespace(\"SPIA\", quietly = TRUE)) {\n",
    "    if (!requireNamespace(\"BiocManager\", quietly = TRUE)){\n",
    "        install.packages(\"BiocManager\")\n",
    "    }\n",
    "    BiocManager::install(\"SPIA\")\n",
    "}"
   ]
  },
  {
   "cell_type": "code",
   "execution_count": 22,
   "metadata": {
    "scrolled": false
   },
   "outputs": [
    {
     "name": "stderr",
     "output_type": "stream",
     "text": [
      "Loading required package: KEGGgraph\n",
      "\n",
      "Attaching package: 'KEGGgraph'\n",
      "\n",
      "The following object is masked from 'package:graphics':\n",
      "\n",
      "    plot\n",
      "\n"
     ]
    }
   ],
   "source": [
    "library(SPIA)"
   ]
  },
  {
   "cell_type": "code",
   "execution_count": 23,
   "metadata": {},
   "outputs": [
    {
     "name": "stderr",
     "output_type": "stream",
     "text": [
      "Your code contains a unicode char which cannot be displayed in your\n",
      "current locale and R will silently convert it to an escaped form when the\n",
      "R kernel executes this code. This can lead to subtle errors if you use\n",
      "such chars to do comparisons. For more information, please see\n",
      "https://github.com/IRkernel/repr/wiki/Problems-with-unicode-on-windows"
     ]
    },
    {
     "data": {
      "text/html": [
       "<table>\n",
       "<caption>A data.frame: 6 × 8</caption>\n",
       "<thead>\n",
       "\t<tr><th></th><th scope=col>ID</th><th scope=col>logFC</th><th scope=col>AveExpr</th><th scope=col>t</th><th scope=col>P.Value</th><th scope=col>adj.P.Val</th><th scope=col>B</th><th scope=col>ENTREZ</th></tr>\n",
       "\t<tr><th></th><th scope=col>&lt;chr&gt;</th><th scope=col>&lt;dbl&gt;</th><th scope=col>&lt;dbl&gt;</th><th scope=col>&lt;dbl&gt;</th><th scope=col>&lt;dbl&gt;</th><th scope=col>&lt;dbl&gt;</th><th scope=col>&lt;dbl&gt;</th><th scope=col>&lt;chr&gt;</th></tr>\n",
       "</thead>\n",
       "<tbody>\n",
       "\t<tr><th scope=row>10738</th><td>201289_at  </td><td>5.960206</td><td>6.226928</td><td>23.94388</td><td>1.789221e-17</td><td>9.782565e-13</td><td>25.40124</td><td>3491 </td></tr>\n",
       "\t<tr><th scope=row>18604</th><td>209189_at  </td><td>5.143502</td><td>7.487305</td><td>17.42995</td><td>1.560212e-14</td><td>2.843486e-10</td><td>21.02120</td><td>2353 </td></tr>\n",
       "\t<tr><th scope=row>11143</th><td>201694_s_at</td><td>4.148081</td><td>7.038281</td><td>16.46040</td><td>5.153117e-14</td><td>7.043667e-10</td><td>20.14963</td><td>1958 </td></tr>\n",
       "\t<tr><th scope=row>10490</th><td>201041_s_at</td><td>2.429889</td><td>9.594413</td><td>14.06891</td><td>1.293706e-12</td><td>1.414667e-08</td><td>17.66883</td><td>1843 </td></tr>\n",
       "\t<tr><th scope=row>10913</th><td>201464_x_at</td><td>1.531126</td><td>8.221044</td><td>10.98634</td><td>1.685519e-10</td><td>1.151947e-06</td><td>13.61189</td><td>3725 </td></tr>\n",
       "\t<tr><th scope=row>11463</th><td>202014_at  </td><td>1.429269</td><td>5.327647</td><td>10.45906</td><td>4.274251e-10</td><td>2.418771e-06</td><td>12.80131</td><td>23645</td></tr>\n",
       "</tbody>\n",
       "</table>\n"
      ],
      "text/latex": [
       "A data.frame: 6 × 8\n",
       "\\begin{tabular}{r|llllllll}\n",
       "  & ID & logFC & AveExpr & t & P.Value & adj.P.Val & B & ENTREZ\\\\\n",
       "  & <chr> & <dbl> & <dbl> & <dbl> & <dbl> & <dbl> & <dbl> & <chr>\\\\\n",
       "\\hline\n",
       "\t10738 & 201289\\_at   & 5.960206 & 6.226928 & 23.94388 & 1.789221e-17 & 9.782565e-13 & 25.40124 & 3491 \\\\\n",
       "\t18604 & 209189\\_at   & 5.143502 & 7.487305 & 17.42995 & 1.560212e-14 & 2.843486e-10 & 21.02120 & 2353 \\\\\n",
       "\t11143 & 201694\\_s\\_at & 4.148081 & 7.038281 & 16.46040 & 5.153117e-14 & 7.043667e-10 & 20.14963 & 1958 \\\\\n",
       "\t10490 & 201041\\_s\\_at & 2.429889 & 9.594413 & 14.06891 & 1.293706e-12 & 1.414667e-08 & 17.66883 & 1843 \\\\\n",
       "\t10913 & 201464\\_x\\_at & 1.531126 & 8.221044 & 10.98634 & 1.685519e-10 & 1.151947e-06 & 13.61189 & 3725 \\\\\n",
       "\t11463 & 202014\\_at   & 1.429269 & 5.327647 & 10.45906 & 4.274251e-10 & 2.418771e-06 & 12.80131 & 23645\\\\\n",
       "\\end{tabular}\n"
      ],
      "text/markdown": [
       "\n",
       "A data.frame: 6 × 8\n",
       "\n",
       "| <!--/--> | ID &lt;chr&gt; | logFC &lt;dbl&gt; | AveExpr &lt;dbl&gt; | t &lt;dbl&gt; | P.Value &lt;dbl&gt; | adj.P.Val &lt;dbl&gt; | B &lt;dbl&gt; | ENTREZ &lt;chr&gt; |\n",
       "|---|---|---|---|---|---|---|---|---|\n",
       "| 10738 | 201289_at   | 5.960206 | 6.226928 | 23.94388 | 1.789221e-17 | 9.782565e-13 | 25.40124 | 3491  |\n",
       "| 18604 | 209189_at   | 5.143502 | 7.487305 | 17.42995 | 1.560212e-14 | 2.843486e-10 | 21.02120 | 2353  |\n",
       "| 11143 | 201694_s_at | 4.148081 | 7.038281 | 16.46040 | 5.153117e-14 | 7.043667e-10 | 20.14963 | 1958  |\n",
       "| 10490 | 201041_s_at | 2.429889 | 9.594413 | 14.06891 | 1.293706e-12 | 1.414667e-08 | 17.66883 | 1843  |\n",
       "| 10913 | 201464_x_at | 1.531126 | 8.221044 | 10.98634 | 1.685519e-10 | 1.151947e-06 | 13.61189 | 3725  |\n",
       "| 11463 | 202014_at   | 1.429269 | 5.327647 | 10.45906 | 4.274251e-10 | 2.418771e-06 | 12.80131 | 23645 |\n",
       "\n"
      ],
      "text/plain": [
       "      ID          logFC    AveExpr  t        P.Value      adj.P.Val    B       \n",
       "10738 201289_at   5.960206 6.226928 23.94388 1.789221e-17 9.782565e-13 25.40124\n",
       "18604 209189_at   5.143502 7.487305 17.42995 1.560212e-14 2.843486e-10 21.02120\n",
       "11143 201694_s_at 4.148081 7.038281 16.46040 5.153117e-14 7.043667e-10 20.14963\n",
       "10490 201041_s_at 2.429889 9.594413 14.06891 1.293706e-12 1.414667e-08 17.66883\n",
       "10913 201464_x_at 1.531126 8.221044 10.98634 1.685519e-10 1.151947e-06 13.61189\n",
       "11463 202014_at   1.429269 5.327647 10.45906 4.274251e-10 2.418771e-06 12.80131\n",
       "      ENTREZ\n",
       "10738 3491  \n",
       "18604 2353  \n",
       "11143 1958  \n",
       "10490 1843  \n",
       "10913 3725  \n",
       "11463 23645 "
      ]
     },
     "metadata": {},
     "output_type": "display_data"
    }
   ],
   "source": [
    "data(colorectalcancer)\n",
    "#数据有三个，一个数据框top 两个values \n",
    "head(top)"
   ]
  },
  {
   "cell_type": "markdown",
   "metadata": {},
   "source": [
    "### containing log2 fold-changes of the differentially expressed genes"
   ]
  },
  {
   "cell_type": "code",
   "execution_count": 24,
   "metadata": {},
   "outputs": [
    {
     "name": "stderr",
     "output_type": "stream",
     "text": [
      "\n",
      "'select()' returned 1:many mapping between keys and columns\n"
     ]
    },
    {
     "data": {
      "text/html": [
       "<table>\n",
       "<caption>A data.frame: 6 × 8</caption>\n",
       "<thead>\n",
       "\t<tr><th></th><th scope=col>ID</th><th scope=col>logFC</th><th scope=col>AveExpr</th><th scope=col>t</th><th scope=col>P.Value</th><th scope=col>adj.P.Val</th><th scope=col>B</th><th scope=col>ENTREZ</th></tr>\n",
       "\t<tr><th></th><th scope=col>&lt;chr&gt;</th><th scope=col>&lt;dbl&gt;</th><th scope=col>&lt;dbl&gt;</th><th scope=col>&lt;dbl&gt;</th><th scope=col>&lt;dbl&gt;</th><th scope=col>&lt;dbl&gt;</th><th scope=col>&lt;dbl&gt;</th><th scope=col>&lt;chr&gt;</th></tr>\n",
       "</thead>\n",
       "<tbody>\n",
       "\t<tr><th scope=row>10738</th><td>201289_at  </td><td>5.960206</td><td>6.226928</td><td>23.94388</td><td>1.789221e-17</td><td>9.782565e-13</td><td>25.40124</td><td>3491 </td></tr>\n",
       "\t<tr><th scope=row>18604</th><td>209189_at  </td><td>5.143502</td><td>7.487305</td><td>17.42995</td><td>1.560212e-14</td><td>2.843486e-10</td><td>21.02120</td><td>2353 </td></tr>\n",
       "\t<tr><th scope=row>11143</th><td>201694_s_at</td><td>4.148081</td><td>7.038281</td><td>16.46040</td><td>5.153117e-14</td><td>7.043667e-10</td><td>20.14963</td><td>1958 </td></tr>\n",
       "\t<tr><th scope=row>10490</th><td>201041_s_at</td><td>2.429889</td><td>9.594413</td><td>14.06891</td><td>1.293706e-12</td><td>1.414667e-08</td><td>17.66883</td><td>1843 </td></tr>\n",
       "\t<tr><th scope=row>10913</th><td>201464_x_at</td><td>1.531126</td><td>8.221044</td><td>10.98634</td><td>1.685519e-10</td><td>1.151947e-06</td><td>13.61189</td><td>3725 </td></tr>\n",
       "\t<tr><th scope=row>11463</th><td>202014_at  </td><td>1.429269</td><td>5.327647</td><td>10.45906</td><td>4.274251e-10</td><td>2.418771e-06</td><td>12.80131</td><td>23645</td></tr>\n",
       "</tbody>\n",
       "</table>\n"
      ],
      "text/latex": [
       "A data.frame: 6 × 8\n",
       "\\begin{tabular}{r|llllllll}\n",
       "  & ID & logFC & AveExpr & t & P.Value & adj.P.Val & B & ENTREZ\\\\\n",
       "  & <chr> & <dbl> & <dbl> & <dbl> & <dbl> & <dbl> & <dbl> & <chr>\\\\\n",
       "\\hline\n",
       "\t10738 & 201289\\_at   & 5.960206 & 6.226928 & 23.94388 & 1.789221e-17 & 9.782565e-13 & 25.40124 & 3491 \\\\\n",
       "\t18604 & 209189\\_at   & 5.143502 & 7.487305 & 17.42995 & 1.560212e-14 & 2.843486e-10 & 21.02120 & 2353 \\\\\n",
       "\t11143 & 201694\\_s\\_at & 4.148081 & 7.038281 & 16.46040 & 5.153117e-14 & 7.043667e-10 & 20.14963 & 1958 \\\\\n",
       "\t10490 & 201041\\_s\\_at & 2.429889 & 9.594413 & 14.06891 & 1.293706e-12 & 1.414667e-08 & 17.66883 & 1843 \\\\\n",
       "\t10913 & 201464\\_x\\_at & 1.531126 & 8.221044 & 10.98634 & 1.685519e-10 & 1.151947e-06 & 13.61189 & 3725 \\\\\n",
       "\t11463 & 202014\\_at   & 1.429269 & 5.327647 & 10.45906 & 4.274251e-10 & 2.418771e-06 & 12.80131 & 23645\\\\\n",
       "\\end{tabular}\n"
      ],
      "text/markdown": [
       "\n",
       "A data.frame: 6 × 8\n",
       "\n",
       "| <!--/--> | ID &lt;chr&gt; | logFC &lt;dbl&gt; | AveExpr &lt;dbl&gt; | t &lt;dbl&gt; | P.Value &lt;dbl&gt; | adj.P.Val &lt;dbl&gt; | B &lt;dbl&gt; | ENTREZ &lt;chr&gt; |\n",
       "|---|---|---|---|---|---|---|---|---|\n",
       "| 10738 | 201289_at   | 5.960206 | 6.226928 | 23.94388 | 1.789221e-17 | 9.782565e-13 | 25.40124 | 3491  |\n",
       "| 18604 | 209189_at   | 5.143502 | 7.487305 | 17.42995 | 1.560212e-14 | 2.843486e-10 | 21.02120 | 2353  |\n",
       "| 11143 | 201694_s_at | 4.148081 | 7.038281 | 16.46040 | 5.153117e-14 | 7.043667e-10 | 20.14963 | 1958  |\n",
       "| 10490 | 201041_s_at | 2.429889 | 9.594413 | 14.06891 | 1.293706e-12 | 1.414667e-08 | 17.66883 | 1843  |\n",
       "| 10913 | 201464_x_at | 1.531126 | 8.221044 | 10.98634 | 1.685519e-10 | 1.151947e-06 | 13.61189 | 3725  |\n",
       "| 11463 | 202014_at   | 1.429269 | 5.327647 | 10.45906 | 4.274251e-10 | 2.418771e-06 | 12.80131 | 23645 |\n",
       "\n"
      ],
      "text/plain": [
       "      ID          logFC    AveExpr  t        P.Value      adj.P.Val    B       \n",
       "10738 201289_at   5.960206 6.226928 23.94388 1.789221e-17 9.782565e-13 25.40124\n",
       "18604 209189_at   5.143502 7.487305 17.42995 1.560212e-14 2.843486e-10 21.02120\n",
       "11143 201694_s_at 4.148081 7.038281 16.46040 5.153117e-14 7.043667e-10 20.14963\n",
       "10490 201041_s_at 2.429889 9.594413 14.06891 1.293706e-12 1.414667e-08 17.66883\n",
       "10913 201464_x_at 1.531126 8.221044 10.98634 1.685519e-10 1.151947e-06 13.61189\n",
       "11463 202014_at   1.429269 5.327647 10.45906 4.274251e-10 2.418771e-06 12.80131\n",
       "      ENTREZ\n",
       "10738 3491  \n",
       "18604 2353  \n",
       "11143 1958  \n",
       "10490 1843  \n",
       "10913 3725  \n",
       "11463 23645 "
      ]
     },
     "metadata": {},
     "output_type": "display_data"
    }
   ],
   "source": [
    "library(hgu133plus2.db)\n",
    "top$ENTREZ <- mapIds(hgu133plus2.db,\n",
    "                     top$ID, \"ENTREZID\", \"PROBEID\", multiVals = \"first\")\n",
    "head(top)"
   ]
  },
  {
   "cell_type": "markdown",
   "metadata": {},
   "source": [
    "### the Entrez IDs in the reference set"
   ]
  },
  {
   "cell_type": "code",
   "execution_count": 25,
   "metadata": {
    "scrolled": true
   },
   "outputs": [
    {
     "name": "stderr",
     "output_type": "stream",
     "text": [
      "Your code contains a unicode char which cannot be displayed in your\n",
      "current locale and R will silently convert it to an escaped form when the\n",
      "R kernel executes this code. This can lead to subtle errors if you use\n",
      "such chars to do comparisons. For more information, please see\n",
      "https://github.com/IRkernel/repr/wiki/Problems-with-unicode-on-windows"
     ]
    }
   ],
   "source": [
    "top <- top[!is.na(top$ENTREZ) & !duplicated(top$ENTREZ), ] #删除ENTREZ中的na和重复的数据\n",
    "top$ENTREZ <- paste(\"ENTREZID\", top$ENTREZ, sep = \":\") #给每一个ENTREZ重新编写\n",
    "tg1 <- top[top$adj.P.Val < 0.05, ] #选择p值小于0.05的\n",
    "DE_Colorectal = tg1$logFC\n",
    "names(DE_Colorectal) <- tg1$ENTREZ\n",
    "ALL_Colorectal <- top$ENTREZ"
   ]
  },
  {
   "cell_type": "markdown",
   "metadata": {},
   "source": [
    "### pathwaySet"
   ]
  },
  {
   "cell_type": "code",
   "execution_count": 34,
   "metadata": {},
   "outputs": [],
   "source": [
    "#hsapiensBiocata <- pathways(\"hsapiens\", \"biocarta\")\n",
    "#save(hsapiensBiocata,file=\"hsapiensBiocata.RData\")"
   ]
  },
  {
   "cell_type": "code",
   "execution_count": 36,
   "metadata": {},
   "outputs": [],
   "source": [
    "load(\"hsapiensBiocata.RData\")\n",
    "biocarta <- hsapiensBiocata[1:10]\n",
    "biocarta <- convertIdentifiers(biocarta, \"ENTREZID\")"
   ]
  },
  {
   "cell_type": "markdown",
   "metadata": {},
   "source": [
    "### runSPIA"
   ]
  },
  {
   "cell_type": "raw",
   "metadata": {},
   "source": [
    "runSPIA(de, all, pathwaySetName, ...)"
   ]
  },
  {
   "cell_type": "markdown",
   "metadata": {},
   "source": [
    "parameter| descriptions \n",
    "----|-------------------\n",
    "de\t|A named vector containing log2 fold-changes of the differentially expressed genes. The names of this numeric vector are Entrez gene IDs.\n",
    "all\t|A vector with the Entrez IDs in the reference set. If the data was obtained from a microarray experiment, this set will contain all genes present on the specific array used for the experiment. This vector should contain all names of the 'de' argument.\n",
    "pathwaySetName\t|The name of a pathway set created withprepareSPIA.\n",
    "...\t|Additional options to pass tospia."
   ]
  },
  {
   "cell_type": "code",
   "execution_count": 26,
   "metadata": {},
   "outputs": [
    {
     "name": "stdout",
     "output_type": "stream",
     "text": [
      "\n",
      "Done pathway 1 : p38 mapk signaling pathway..\n",
      "Done pathway 2 : regulation of eif-4e and p70s6..\n",
      "Done pathway 3 : tnfr2 signaling pathway..\n",
      "Done pathway 4 : melanocyte development and pig..\n",
      "Done pathway 5 : il-7 signal transduction..\n",
      "Done pathway 6 : ifn gamma signaling pathway.."
     ]
    },
    {
     "data": {
      "text/html": [
       "<table>\n",
       "<caption>A data.frame: 5 × 10</caption>\n",
       "<thead>\n",
       "\t<tr><th></th><th scope=col>Name</th><th scope=col>pSize</th><th scope=col>NDE</th><th scope=col>pNDE</th><th scope=col>tA</th><th scope=col>pPERT</th><th scope=col>pG</th><th scope=col>pGFdr</th><th scope=col>pGFWER</th><th scope=col>Status</th></tr>\n",
       "\t<tr><th></th><th scope=col>&lt;chr&gt;</th><th scope=col>&lt;int&gt;</th><th scope=col>&lt;int&gt;</th><th scope=col>&lt;dbl&gt;</th><th scope=col>&lt;dbl&gt;</th><th scope=col>&lt;dbl&gt;</th><th scope=col>&lt;dbl&gt;</th><th scope=col>&lt;dbl&gt;</th><th scope=col>&lt;dbl&gt;</th><th scope=col>&lt;chr&gt;</th></tr>\n",
       "</thead>\n",
       "<tbody>\n",
       "\t<tr><th scope=row>1</th><td>p38 mapk signaling pathway                     </td><td>21</td><td> 7</td><td>0.1213862</td><td>-4.6267899</td><td>0.676</td><td>0.2872276</td><td>0.4168242</td><td> 1</td><td>Inhibited</td></tr>\n",
       "\t<tr><th scope=row>2</th><td>tnfr2 signaling pathway                        </td><td> 9</td><td> 1</td><td>0.8739131</td><td> 0.6290229</td><td>0.103</td><td>0.3067465</td><td>0.4168242</td><td> 1</td><td>Activated</td></tr>\n",
       "\t<tr><th scope=row>3</th><td>melanocyte development and pigmentation pathway</td><td>12</td><td> 4</td><td>0.2201557</td><td> 5.9625290</td><td>0.420</td><td>0.3126182</td><td>0.4168242</td><td> 1</td><td>Activated</td></tr>\n",
       "\t<tr><th scope=row>4</th><td>regulation of eif-4e and p70s6 kinase          </td><td>18</td><td> 2</td><td>0.9101075</td><td> 0.0000000</td><td>1.000</td><td>0.9958329</td><td>0.9958329</td><td> 1</td><td>Inhibited</td></tr>\n",
       "\t<tr><th scope=row>NA</th><td>NA                                             </td><td>NA</td><td>NA</td><td>       NA</td><td>        NA</td><td>   NA</td><td>       NA</td><td>       NA</td><td>NA</td><td>NA       </td></tr>\n",
       "</tbody>\n",
       "</table>\n"
      ],
      "text/latex": [
       "A data.frame: 5 × 10\n",
       "\\begin{tabular}{r|llllllllll}\n",
       "  & Name & pSize & NDE & pNDE & tA & pPERT & pG & pGFdr & pGFWER & Status\\\\\n",
       "  & <chr> & <int> & <int> & <dbl> & <dbl> & <dbl> & <dbl> & <dbl> & <dbl> & <chr>\\\\\n",
       "\\hline\n",
       "\t1 & p38 mapk signaling pathway                      & 21 &  7 & 0.1213862 & -4.6267899 & 0.676 & 0.2872276 & 0.4168242 &  1 & Inhibited\\\\\n",
       "\t2 & tnfr2 signaling pathway                         &  9 &  1 & 0.8739131 &  0.6290229 & 0.103 & 0.3067465 & 0.4168242 &  1 & Activated\\\\\n",
       "\t3 & melanocyte development and pigmentation pathway & 12 &  4 & 0.2201557 &  5.9625290 & 0.420 & 0.3126182 & 0.4168242 &  1 & Activated\\\\\n",
       "\t4 & regulation of eif-4e and p70s6 kinase           & 18 &  2 & 0.9101075 &  0.0000000 & 1.000 & 0.9958329 & 0.9958329 &  1 & Inhibited\\\\\n",
       "\tNA & NA                                              & NA & NA &        NA &         NA &    NA &        NA &        NA & NA & NA       \\\\\n",
       "\\end{tabular}\n"
      ],
      "text/markdown": [
       "\n",
       "A data.frame: 5 × 10\n",
       "\n",
       "| <!--/--> | Name &lt;chr&gt; | pSize &lt;int&gt; | NDE &lt;int&gt; | pNDE &lt;dbl&gt; | tA &lt;dbl&gt; | pPERT &lt;dbl&gt; | pG &lt;dbl&gt; | pGFdr &lt;dbl&gt; | pGFWER &lt;dbl&gt; | Status &lt;chr&gt; |\n",
       "|---|---|---|---|---|---|---|---|---|---|---|\n",
       "| 1 | p38 mapk signaling pathway                      | 21 |  7 | 0.1213862 | -4.6267899 | 0.676 | 0.2872276 | 0.4168242 |  1 | Inhibited |\n",
       "| 2 | tnfr2 signaling pathway                         |  9 |  1 | 0.8739131 |  0.6290229 | 0.103 | 0.3067465 | 0.4168242 |  1 | Activated |\n",
       "| 3 | melanocyte development and pigmentation pathway | 12 |  4 | 0.2201557 |  5.9625290 | 0.420 | 0.3126182 | 0.4168242 |  1 | Activated |\n",
       "| 4 | regulation of eif-4e and p70s6 kinase           | 18 |  2 | 0.9101075 |  0.0000000 | 1.000 | 0.9958329 | 0.9958329 |  1 | Inhibited |\n",
       "| NA | NA                                              | NA | NA |        NA |         NA |    NA |        NA |        NA | NA | NA        |\n",
       "\n"
      ],
      "text/plain": [
       "   Name                                            pSize NDE pNDE     \n",
       "1  p38 mapk signaling pathway                      21     7  0.1213862\n",
       "2  tnfr2 signaling pathway                          9     1  0.8739131\n",
       "3  melanocyte development and pigmentation pathway 12     4  0.2201557\n",
       "4  regulation of eif-4e and p70s6 kinase           18     2  0.9101075\n",
       "NA NA                                              NA    NA         NA\n",
       "   tA         pPERT pG        pGFdr     pGFWER Status   \n",
       "1  -4.6267899 0.676 0.2872276 0.4168242  1     Inhibited\n",
       "2   0.6290229 0.103 0.3067465 0.4168242  1     Activated\n",
       "3   5.9625290 0.420 0.3126182 0.4168242  1     Activated\n",
       "4   0.0000000 1.000 0.9958329 0.9958329  1     Inhibited\n",
       "NA         NA    NA        NA        NA NA     NA       "
      ]
     },
     "metadata": {},
     "output_type": "display_data"
    }
   ],
   "source": [
    "prepareSPIA(biocarta, \"biocartaEx\")\n",
    "res <- runSPIA(de = DE_Colorectal, all = ALL_Colorectal, \"biocartaEx\")\n",
    "res[1:5,]"
   ]
  },
  {
   "cell_type": "markdown",
   "metadata": {},
   "source": [
    "## topologyGSA"
   ]
  },
  {
   "cell_type": "markdown",
   "metadata": {},
   "source": [
    "topologyGSA uses graphical models to test the pathway components and to highlight those\n",
    "involved in its deregulation.\n",
    "\n",
    "`runTopologyGSA` perform the analysis on a single pathway or on a pathway list."
   ]
  },
  {
   "cell_type": "markdown",
   "metadata": {},
   "source": [
    "### Install pacakge"
   ]
  },
  {
   "cell_type": "code",
   "execution_count": 19,
   "metadata": {},
   "outputs": [
    {
     "name": "stderr",
     "output_type": "stream",
     "text": [
      "No methods found in package 'GenomicRanges' for request: 'c' when loading 'qpgraph'\n"
     ]
    }
   ],
   "source": [
    "if (!requireNamespace(\"topologyGSA\", quietly = TRUE)) {\n",
    "    if (!requireNamespace(\"BiocManager\", quietly = TRUE)){\n",
    "        install.packages(\"BiocManager\")\n",
    "    }\n",
    "    BiocManager::install(\"topologyGSA\")\n",
    "}"
   ]
  },
  {
   "cell_type": "markdown",
   "metadata": {},
   "source": [
    "### Experiment matrix"
   ]
  },
  {
   "cell_type": "code",
   "execution_count": 27,
   "metadata": {},
   "outputs": [
    {
     "name": "stderr",
     "output_type": "stream",
     "text": [
      "Warning message:\n",
      "\"package 'topologyGSA' was built under R version 3.5.3\"No methods found in package 'GenomicRanges' for request: 'c' when loading 'qpgraph'\n"
     ]
    }
   ],
   "source": [
    "library(topologyGSA)\n",
    "data(examples)"
   ]
  },
  {
   "cell_type": "code",
   "execution_count": 28,
   "metadata": {
    "scrolled": false
   },
   "outputs": [
    {
     "data": {
      "text/html": [
       "<table>\n",
       "<caption>A matrix: 6 × 35 of type dbl</caption>\n",
       "<thead>\n",
       "\t<tr><th scope=col>SYMBOL:CD22</th><th scope=col>SYMBOL:CD72</th><th scope=col>SYMBOL:SHP1</th><th scope=col>SYMBOL:SYK</th><th scope=col>SYMBOL:CD79</th><th scope=col>SYMBOL:LYN</th><th scope=col>SYMBOL:BTK</th><th scope=col>SYMBOL:BLNK</th><th scope=col>SYMBOL:VAV</th><th scope=col>SYMBOL:RAC</th><th scope=col>...</th><th scope=col>SYMBOL:NFKB</th><th scope=col>SYMBOL:FcgRIIB</th><th scope=col>SYMBOL:SHIP</th><th scope=col>SYMBOL:PI3K</th><th scope=col>SYMBOL:AKT</th><th scope=col>SYMBOL:GSK3B</th><th scope=col>SYMBOL:CD19</th><th scope=col>SYMBOL:CD21</th><th scope=col>SYMBOL:CD81</th><th scope=col>SYMBOL:LEU13</th></tr>\n",
       "</thead>\n",
       "<tbody>\n",
       "\t<tr><td>8.89</td><td>5.99</td><td>5.94</td><td>5.43</td><td>11.74</td><td>6.35</td><td>5.91</td><td>8.62</td><td>6.64</td><td>5.29</td><td>...</td><td>10.22</td><td>5.80</td><td> 9.53</td><td>7.11</td><td>7.28</td><td>5.37</td><td> 9.93</td><td>4.51</td><td>10.94</td><td>10.02</td></tr>\n",
       "\t<tr><td>8.39</td><td>7.05</td><td>6.41</td><td>5.70</td><td>12.77</td><td>5.86</td><td>6.11</td><td>9.29</td><td>6.71</td><td>6.22</td><td>...</td><td>10.67</td><td>5.82</td><td> 9.38</td><td>6.50</td><td>6.99</td><td>6.06</td><td> 9.33</td><td>3.88</td><td>10.50</td><td>11.15</td></tr>\n",
       "\t<tr><td>8.58</td><td>5.75</td><td>5.98</td><td>5.64</td><td>11.45</td><td>5.57</td><td>5.61</td><td>9.35</td><td>6.42</td><td>5.80</td><td>...</td><td>10.64</td><td>5.55</td><td> 9.39</td><td>6.24</td><td>6.73</td><td>5.35</td><td>10.53</td><td>4.26</td><td>10.98</td><td>10.01</td></tr>\n",
       "\t<tr><td>8.58</td><td>6.45</td><td>5.83</td><td>5.75</td><td>12.82</td><td>6.53</td><td>5.76</td><td>7.89</td><td>6.76</td><td>5.55</td><td>...</td><td>10.29</td><td>5.98</td><td> 9.56</td><td>7.60</td><td>7.18</td><td>5.81</td><td> 9.57</td><td>4.47</td><td>11.51</td><td> 9.86</td></tr>\n",
       "\t<tr><td>9.10</td><td>6.28</td><td>6.87</td><td>5.82</td><td>15.18</td><td>5.55</td><td>6.92</td><td>8.23</td><td>6.97</td><td>7.79</td><td>...</td><td> 9.51</td><td>5.67</td><td> 9.43</td><td>5.08</td><td>9.27</td><td>5.39</td><td>10.62</td><td>4.02</td><td>10.93</td><td>10.41</td></tr>\n",
       "\t<tr><td>8.83</td><td>6.83</td><td>5.50</td><td>5.95</td><td>10.68</td><td>5.53</td><td>6.07</td><td>9.12</td><td>6.74</td><td>5.31</td><td>...</td><td> 9.67</td><td>5.64</td><td>10.21</td><td>5.78</td><td>7.00</td><td>5.80</td><td> 9.57</td><td>5.06</td><td>10.43</td><td> 9.09</td></tr>\n",
       "</tbody>\n",
       "</table>\n"
      ],
      "text/latex": [
       "A matrix: 6 × 35 of type dbl\n",
       "\\begin{tabular}{lllllllllllllllllllllllllllllllllll}\n",
       " SYMBOL:CD22 & SYMBOL:CD72 & SYMBOL:SHP1 & SYMBOL:SYK & SYMBOL:CD79 & SYMBOL:LYN & SYMBOL:BTK & SYMBOL:BLNK & SYMBOL:VAV & SYMBOL:RAC & SYMBOL:PLCG2 & SYMBOL:CaN & SYMBOL:NFAT & SYMBOL:GRB2 & SYMBOL:SOS & SYMBOL:RaSGRP3 & SYMBOL:Ras & SYMBOL:Raf & SYMBOL:MEK12 & SYMBOL:ERK & SYMBOL:AP1 & SYMBOL:PKCB & SYMBOL:BCL10 & SYMBOL:IKK & SYMBOL:IKB & SYMBOL:NFKB & SYMBOL:FcgRIIB & SYMBOL:SHIP & SYMBOL:PI3K & SYMBOL:AKT & SYMBOL:GSK3B & SYMBOL:CD19 & SYMBOL:CD21 & SYMBOL:CD81 & SYMBOL:LEU13\\\\\n",
       "\\hline\n",
       "\t 8.89 & 5.99 & 5.94 & 5.43 & 11.74 & 6.35 & 5.91 & 8.62 & 6.64 & 5.29 & 7.17 & 7.75 & 6.20 & 6.30 & 6.46 & 5.58 & 6.14 & 7.13 & 7.27 & 7.65 &  8.79 & 8.21 & 6.49 & 13.10 & 11.15 & 10.22 & 5.80 &  9.53 & 7.11 & 7.28 & 5.37 &  9.93 & 4.51 & 10.94 & 10.02\\\\\n",
       "\t 8.39 & 7.05 & 6.41 & 5.70 & 12.77 & 5.86 & 6.11 & 9.29 & 6.71 & 6.22 & 7.72 & 7.03 & 6.18 & 5.98 & 6.17 & 5.80 & 6.05 & 7.02 & 8.27 & 7.69 &  9.37 & 8.97 & 6.77 & 12.42 & 11.63 & 10.67 & 5.82 &  9.38 & 6.50 & 6.99 & 6.06 &  9.33 & 3.88 & 10.50 & 11.15\\\\\n",
       "\t 8.58 & 5.75 & 5.98 & 5.64 & 11.45 & 5.57 & 5.61 & 9.35 & 6.42 & 5.80 & 7.98 & 7.73 & 6.55 & 5.95 & 6.23 & 5.56 & 6.59 & 7.16 & 7.35 & 7.86 & 10.58 & 9.19 & 6.09 & 13.22 & 12.10 & 10.64 & 5.55 &  9.39 & 6.24 & 6.73 & 5.35 & 10.53 & 4.26 & 10.98 & 10.01\\\\\n",
       "\t 8.58 & 6.45 & 5.83 & 5.75 & 12.82 & 6.53 & 5.76 & 7.89 & 6.76 & 5.55 & 7.80 & 7.89 & 7.06 & 6.46 & 6.29 & 5.52 & 6.16 & 7.50 & 7.30 & 7.67 &  9.13 & 8.11 & 6.66 & 13.12 & 10.80 & 10.29 & 5.98 &  9.56 & 7.60 & 7.18 & 5.81 &  9.57 & 4.47 & 11.51 &  9.86\\\\\n",
       "\t 9.10 & 6.28 & 6.87 & 5.82 & 15.18 & 5.55 & 6.92 & 8.23 & 6.97 & 7.79 & 7.68 & 7.47 & 5.65 & 6.40 & 5.67 & 5.41 & 7.00 & 6.93 & 7.45 & 8.03 &  9.10 & 9.23 & 5.77 & 13.31 & 11.19 &  9.51 & 5.67 &  9.43 & 5.08 & 9.27 & 5.39 & 10.62 & 4.02 & 10.93 & 10.41\\\\\n",
       "\t 8.83 & 6.83 & 5.50 & 5.95 & 10.68 & 5.53 & 6.07 & 9.12 & 6.74 & 5.31 & 8.23 & 6.90 & 7.23 & 5.89 & 6.90 & 5.59 & 5.92 & 6.96 & 8.31 & 7.73 &  8.06 & 9.06 & 7.48 & 13.22 & 10.94 &  9.67 & 5.64 & 10.21 & 5.78 & 7.00 & 5.80 &  9.57 & 5.06 & 10.43 &  9.09\\\\\n",
       "\\end{tabular}\n"
      ],
      "text/markdown": [
       "\n",
       "A matrix: 6 × 35 of type dbl\n",
       "\n",
       "| SYMBOL:CD22 | SYMBOL:CD72 | SYMBOL:SHP1 | SYMBOL:SYK | SYMBOL:CD79 | SYMBOL:LYN | SYMBOL:BTK | SYMBOL:BLNK | SYMBOL:VAV | SYMBOL:RAC | ... | SYMBOL:NFKB | SYMBOL:FcgRIIB | SYMBOL:SHIP | SYMBOL:PI3K | SYMBOL:AKT | SYMBOL:GSK3B | SYMBOL:CD19 | SYMBOL:CD21 | SYMBOL:CD81 | SYMBOL:LEU13 |\n",
       "|---|---|---|---|---|---|---|---|---|---|---|---|---|---|---|---|---|---|---|---|---|\n",
       "| 8.89 | 5.99 | 5.94 | 5.43 | 11.74 | 6.35 | 5.91 | 8.62 | 6.64 | 5.29 | ... | 10.22 | 5.80 |  9.53 | 7.11 | 7.28 | 5.37 |  9.93 | 4.51 | 10.94 | 10.02 |\n",
       "| 8.39 | 7.05 | 6.41 | 5.70 | 12.77 | 5.86 | 6.11 | 9.29 | 6.71 | 6.22 | ... | 10.67 | 5.82 |  9.38 | 6.50 | 6.99 | 6.06 |  9.33 | 3.88 | 10.50 | 11.15 |\n",
       "| 8.58 | 5.75 | 5.98 | 5.64 | 11.45 | 5.57 | 5.61 | 9.35 | 6.42 | 5.80 | ... | 10.64 | 5.55 |  9.39 | 6.24 | 6.73 | 5.35 | 10.53 | 4.26 | 10.98 | 10.01 |\n",
       "| 8.58 | 6.45 | 5.83 | 5.75 | 12.82 | 6.53 | 5.76 | 7.89 | 6.76 | 5.55 | ... | 10.29 | 5.98 |  9.56 | 7.60 | 7.18 | 5.81 |  9.57 | 4.47 | 11.51 |  9.86 |\n",
       "| 9.10 | 6.28 | 6.87 | 5.82 | 15.18 | 5.55 | 6.92 | 8.23 | 6.97 | 7.79 | ... |  9.51 | 5.67 |  9.43 | 5.08 | 9.27 | 5.39 | 10.62 | 4.02 | 10.93 | 10.41 |\n",
       "| 8.83 | 6.83 | 5.50 | 5.95 | 10.68 | 5.53 | 6.07 | 9.12 | 6.74 | 5.31 | ... |  9.67 | 5.64 | 10.21 | 5.78 | 7.00 | 5.80 |  9.57 | 5.06 | 10.43 |  9.09 |\n",
       "\n"
      ],
      "text/plain": [
       "     SYMBOL:CD22 SYMBOL:CD72 SYMBOL:SHP1 SYMBOL:SYK SYMBOL:CD79 SYMBOL:LYN\n",
       "[1,] 8.89        5.99        5.94        5.43       11.74       6.35      \n",
       "[2,] 8.39        7.05        6.41        5.70       12.77       5.86      \n",
       "[3,] 8.58        5.75        5.98        5.64       11.45       5.57      \n",
       "[4,] 8.58        6.45        5.83        5.75       12.82       6.53      \n",
       "[5,] 9.10        6.28        6.87        5.82       15.18       5.55      \n",
       "[6,] 8.83        6.83        5.50        5.95       10.68       5.53      \n",
       "     SYMBOL:BTK SYMBOL:BLNK SYMBOL:VAV SYMBOL:RAC ... SYMBOL:NFKB\n",
       "[1,] 5.91       8.62        6.64       5.29       ... 10.22      \n",
       "[2,] 6.11       9.29        6.71       6.22       ... 10.67      \n",
       "[3,] 5.61       9.35        6.42       5.80       ... 10.64      \n",
       "[4,] 5.76       7.89        6.76       5.55       ... 10.29      \n",
       "[5,] 6.92       8.23        6.97       7.79       ...  9.51      \n",
       "[6,] 6.07       9.12        6.74       5.31       ...  9.67      \n",
       "     SYMBOL:FcgRIIB SYMBOL:SHIP SYMBOL:PI3K SYMBOL:AKT SYMBOL:GSK3B SYMBOL:CD19\n",
       "[1,] 5.80            9.53       7.11        7.28       5.37          9.93      \n",
       "[2,] 5.82            9.38       6.50        6.99       6.06          9.33      \n",
       "[3,] 5.55            9.39       6.24        6.73       5.35         10.53      \n",
       "[4,] 5.98            9.56       7.60        7.18       5.81          9.57      \n",
       "[5,] 5.67            9.43       5.08        9.27       5.39         10.62      \n",
       "[6,] 5.64           10.21       5.78        7.00       5.80          9.57      \n",
       "     SYMBOL:CD21 SYMBOL:CD81 SYMBOL:LEU13\n",
       "[1,] 4.51        10.94       10.02       \n",
       "[2,] 3.88        10.50       11.15       \n",
       "[3,] 4.26        10.98       10.01       \n",
       "[4,] 4.47        11.51        9.86       \n",
       "[5,] 4.02        10.93       10.41       \n",
       "[6,] 5.06        10.43        9.09       "
      ]
     },
     "metadata": {},
     "output_type": "display_data"
    },
    {
     "data": {
      "text/html": [
       "<table>\n",
       "<caption>A matrix: 6 × 35 of type dbl</caption>\n",
       "<thead>\n",
       "\t<tr><th scope=col>SYMBOL:CD22</th><th scope=col>SYMBOL:CD72</th><th scope=col>SYMBOL:SHP1</th><th scope=col>SYMBOL:SYK</th><th scope=col>SYMBOL:CD79</th><th scope=col>SYMBOL:LYN</th><th scope=col>SYMBOL:BTK</th><th scope=col>SYMBOL:BLNK</th><th scope=col>SYMBOL:VAV</th><th scope=col>SYMBOL:RAC</th><th scope=col>...</th><th scope=col>SYMBOL:NFKB</th><th scope=col>SYMBOL:FcgRIIB</th><th scope=col>SYMBOL:SHIP</th><th scope=col>SYMBOL:PI3K</th><th scope=col>SYMBOL:AKT</th><th scope=col>SYMBOL:GSK3B</th><th scope=col>SYMBOL:CD19</th><th scope=col>SYMBOL:CD21</th><th scope=col>SYMBOL:CD81</th><th scope=col>SYMBOL:LEU13</th></tr>\n",
       "</thead>\n",
       "<tbody>\n",
       "\t<tr><td> 9.69</td><td>7.18</td><td>7.76</td><td>7.33</td><td>13.85</td><td>6.94</td><td>5.94</td><td>7.88</td><td>7.08</td><td>8.61</td><td>...</td><td> 9.82</td><td>5.98</td><td> 8.97</td><td>5.92</td><td>8.28</td><td>5.45</td><td>10.12</td><td>4.22</td><td>10.54</td><td>10.79</td></tr>\n",
       "\t<tr><td> 8.44</td><td>5.95</td><td>5.26</td><td>4.96</td><td>11.40</td><td>5.28</td><td>6.75</td><td>9.08</td><td>6.23</td><td>5.95</td><td>...</td><td> 9.88</td><td>5.60</td><td>10.27</td><td>6.70</td><td>7.27</td><td>5.45</td><td>10.00</td><td>3.56</td><td>11.04</td><td>10.71</td></tr>\n",
       "\t<tr><td>10.19</td><td>5.96</td><td>7.44</td><td>5.29</td><td>10.81</td><td>7.14</td><td>4.86</td><td>6.46</td><td>6.96</td><td>6.03</td><td>...</td><td>10.12</td><td>5.71</td><td> 9.09</td><td>5.13</td><td>7.52</td><td>5.22</td><td> 9.19</td><td>3.63</td><td> 9.98</td><td> 9.84</td></tr>\n",
       "\t<tr><td> 8.74</td><td>7.15</td><td>7.67</td><td>7.40</td><td>14.42</td><td>6.04</td><td>7.13</td><td>7.95</td><td>6.96</td><td>8.51</td><td>...</td><td> 9.55</td><td>5.78</td><td> 9.47</td><td>5.58</td><td>8.88</td><td>5.39</td><td>10.37</td><td>4.10</td><td>10.33</td><td> 9.69</td></tr>\n",
       "\t<tr><td> 9.00</td><td>6.10</td><td>5.79</td><td>5.76</td><td>10.01</td><td>6.40</td><td>7.08</td><td>7.14</td><td>6.42</td><td>6.07</td><td>...</td><td> 9.91</td><td>5.60</td><td> 8.76</td><td>6.01</td><td>7.14</td><td>5.49</td><td> 9.13</td><td>3.67</td><td> 9.86</td><td>10.33</td></tr>\n",
       "\t<tr><td> 7.76</td><td>8.58</td><td>5.42</td><td>4.90</td><td>10.51</td><td>5.72</td><td>6.57</td><td>5.72</td><td>6.81</td><td>5.35</td><td>...</td><td> 9.33</td><td>5.97</td><td> 9.61</td><td>6.58</td><td>7.16</td><td>5.45</td><td> 9.74</td><td>3.68</td><td>10.14</td><td> 7.79</td></tr>\n",
       "</tbody>\n",
       "</table>\n"
      ],
      "text/latex": [
       "A matrix: 6 × 35 of type dbl\n",
       "\\begin{tabular}{lllllllllllllllllllllllllllllllllll}\n",
       " SYMBOL:CD22 & SYMBOL:CD72 & SYMBOL:SHP1 & SYMBOL:SYK & SYMBOL:CD79 & SYMBOL:LYN & SYMBOL:BTK & SYMBOL:BLNK & SYMBOL:VAV & SYMBOL:RAC & SYMBOL:PLCG2 & SYMBOL:CaN & SYMBOL:NFAT & SYMBOL:GRB2 & SYMBOL:SOS & SYMBOL:RaSGRP3 & SYMBOL:Ras & SYMBOL:Raf & SYMBOL:MEK12 & SYMBOL:ERK & SYMBOL:AP1 & SYMBOL:PKCB & SYMBOL:BCL10 & SYMBOL:IKK & SYMBOL:IKB & SYMBOL:NFKB & SYMBOL:FcgRIIB & SYMBOL:SHIP & SYMBOL:PI3K & SYMBOL:AKT & SYMBOL:GSK3B & SYMBOL:CD19 & SYMBOL:CD21 & SYMBOL:CD81 & SYMBOL:LEU13\\\\\n",
       "\\hline\n",
       "\t  9.69 & 7.18 & 7.76 & 7.33 & 13.85 & 6.94 & 5.94 & 7.88 & 7.08 & 8.61 & 8.15 & 6.72 & 6.26 & 7.73 & 4.72 & 5.74 & 6.75 & 7.07 & 7.35 & 7.53 & 10.24 & 8.36 & 6.88 & 13.26 & 11.09 &  9.82 & 5.98 &  8.97 & 5.92 & 8.28 & 5.45 & 10.12 & 4.22 & 10.54 & 10.79\\\\\n",
       "\t  8.44 & 5.95 & 5.26 & 4.96 & 11.40 & 5.28 & 6.75 & 9.08 & 6.23 & 5.95 & 7.48 & 7.89 & 6.59 & 5.93 & 5.87 & 5.32 & 6.09 & 7.14 & 7.58 & 7.98 & 10.42 & 8.75 & 6.45 & 13.22 & 11.26 &  9.88 & 5.60 & 10.27 & 6.70 & 7.27 & 5.45 & 10.00 & 3.56 & 11.04 & 10.71\\\\\n",
       "\t 10.19 & 5.96 & 7.44 & 5.29 & 10.81 & 7.14 & 4.86 & 6.46 & 6.96 & 6.03 & 6.95 & 7.86 & 5.88 & 7.04 & 5.66 & 5.63 & 6.35 & 7.39 & 7.58 & 7.11 & 11.07 & 6.52 & 7.69 & 13.18 & 10.55 & 10.12 & 5.71 &  9.09 & 5.13 & 7.52 & 5.22 &  9.19 & 3.63 &  9.98 &  9.84\\\\\n",
       "\t  8.74 & 7.15 & 7.67 & 7.40 & 14.42 & 6.04 & 7.13 & 7.95 & 6.96 & 8.51 & 7.86 & 6.04 & 5.70 & 7.54 & 4.78 & 5.47 & 6.94 & 6.96 & 6.62 & 7.55 &  9.69 & 8.04 & 5.93 & 12.82 & 10.32 &  9.55 & 5.78 &  9.47 & 5.58 & 8.88 & 5.39 & 10.37 & 4.10 & 10.33 &  9.69\\\\\n",
       "\t  9.00 & 6.10 & 5.79 & 5.76 & 10.01 & 6.40 & 7.08 & 7.14 & 6.42 & 6.07 & 8.55 & 6.59 & 6.33 & 6.53 & 5.85 & 5.63 & 6.33 & 6.85 & 9.79 & 7.61 & 10.62 & 9.78 & 6.00 & 13.38 & 11.50 &  9.91 & 5.60 &  8.76 & 6.01 & 7.14 & 5.49 &  9.13 & 3.67 &  9.86 & 10.33\\\\\n",
       "\t  7.76 & 8.58 & 5.42 & 4.90 & 10.51 & 5.72 & 6.57 & 5.72 & 6.81 & 5.35 & 7.33 & 7.00 & 6.58 & 6.22 & 5.60 & 5.59 & 6.54 & 7.12 & 8.07 & 7.94 &  8.85 & 6.79 & 6.88 & 13.28 &  9.29 &  9.33 & 5.97 &  9.61 & 6.58 & 7.16 & 5.45 &  9.74 & 3.68 & 10.14 &  7.79\\\\\n",
       "\\end{tabular}\n"
      ],
      "text/markdown": [
       "\n",
       "A matrix: 6 × 35 of type dbl\n",
       "\n",
       "| SYMBOL:CD22 | SYMBOL:CD72 | SYMBOL:SHP1 | SYMBOL:SYK | SYMBOL:CD79 | SYMBOL:LYN | SYMBOL:BTK | SYMBOL:BLNK | SYMBOL:VAV | SYMBOL:RAC | ... | SYMBOL:NFKB | SYMBOL:FcgRIIB | SYMBOL:SHIP | SYMBOL:PI3K | SYMBOL:AKT | SYMBOL:GSK3B | SYMBOL:CD19 | SYMBOL:CD21 | SYMBOL:CD81 | SYMBOL:LEU13 |\n",
       "|---|---|---|---|---|---|---|---|---|---|---|---|---|---|---|---|---|---|---|---|---|\n",
       "|  9.69 | 7.18 | 7.76 | 7.33 | 13.85 | 6.94 | 5.94 | 7.88 | 7.08 | 8.61 | ... |  9.82 | 5.98 |  8.97 | 5.92 | 8.28 | 5.45 | 10.12 | 4.22 | 10.54 | 10.79 |\n",
       "|  8.44 | 5.95 | 5.26 | 4.96 | 11.40 | 5.28 | 6.75 | 9.08 | 6.23 | 5.95 | ... |  9.88 | 5.60 | 10.27 | 6.70 | 7.27 | 5.45 | 10.00 | 3.56 | 11.04 | 10.71 |\n",
       "| 10.19 | 5.96 | 7.44 | 5.29 | 10.81 | 7.14 | 4.86 | 6.46 | 6.96 | 6.03 | ... | 10.12 | 5.71 |  9.09 | 5.13 | 7.52 | 5.22 |  9.19 | 3.63 |  9.98 |  9.84 |\n",
       "|  8.74 | 7.15 | 7.67 | 7.40 | 14.42 | 6.04 | 7.13 | 7.95 | 6.96 | 8.51 | ... |  9.55 | 5.78 |  9.47 | 5.58 | 8.88 | 5.39 | 10.37 | 4.10 | 10.33 |  9.69 |\n",
       "|  9.00 | 6.10 | 5.79 | 5.76 | 10.01 | 6.40 | 7.08 | 7.14 | 6.42 | 6.07 | ... |  9.91 | 5.60 |  8.76 | 6.01 | 7.14 | 5.49 |  9.13 | 3.67 |  9.86 | 10.33 |\n",
       "|  7.76 | 8.58 | 5.42 | 4.90 | 10.51 | 5.72 | 6.57 | 5.72 | 6.81 | 5.35 | ... |  9.33 | 5.97 |  9.61 | 6.58 | 7.16 | 5.45 |  9.74 | 3.68 | 10.14 |  7.79 |\n",
       "\n"
      ],
      "text/plain": [
       "     SYMBOL:CD22 SYMBOL:CD72 SYMBOL:SHP1 SYMBOL:SYK SYMBOL:CD79 SYMBOL:LYN\n",
       "[1,]  9.69       7.18        7.76        7.33       13.85       6.94      \n",
       "[2,]  8.44       5.95        5.26        4.96       11.40       5.28      \n",
       "[3,] 10.19       5.96        7.44        5.29       10.81       7.14      \n",
       "[4,]  8.74       7.15        7.67        7.40       14.42       6.04      \n",
       "[5,]  9.00       6.10        5.79        5.76       10.01       6.40      \n",
       "[6,]  7.76       8.58        5.42        4.90       10.51       5.72      \n",
       "     SYMBOL:BTK SYMBOL:BLNK SYMBOL:VAV SYMBOL:RAC ... SYMBOL:NFKB\n",
       "[1,] 5.94       7.88        7.08       8.61       ...  9.82      \n",
       "[2,] 6.75       9.08        6.23       5.95       ...  9.88      \n",
       "[3,] 4.86       6.46        6.96       6.03       ... 10.12      \n",
       "[4,] 7.13       7.95        6.96       8.51       ...  9.55      \n",
       "[5,] 7.08       7.14        6.42       6.07       ...  9.91      \n",
       "[6,] 6.57       5.72        6.81       5.35       ...  9.33      \n",
       "     SYMBOL:FcgRIIB SYMBOL:SHIP SYMBOL:PI3K SYMBOL:AKT SYMBOL:GSK3B SYMBOL:CD19\n",
       "[1,] 5.98            8.97       5.92        8.28       5.45         10.12      \n",
       "[2,] 5.60           10.27       6.70        7.27       5.45         10.00      \n",
       "[3,] 5.71            9.09       5.13        7.52       5.22          9.19      \n",
       "[4,] 5.78            9.47       5.58        8.88       5.39         10.37      \n",
       "[5,] 5.60            8.76       6.01        7.14       5.49          9.13      \n",
       "[6,] 5.97            9.61       6.58        7.16       5.45          9.74      \n",
       "     SYMBOL:CD21 SYMBOL:CD81 SYMBOL:LEU13\n",
       "[1,] 4.22        10.54       10.79       \n",
       "[2,] 3.56        11.04       10.71       \n",
       "[3,] 3.63         9.98        9.84       \n",
       "[4,] 4.10        10.33        9.69       \n",
       "[5,] 3.67         9.86       10.33       \n",
       "[6,] 3.68        10.14        7.79       "
      ]
     },
     "metadata": {},
     "output_type": "display_data"
    }
   ],
   "source": [
    "colnames(y1) <- paste(\"SYMBOL\", colnames(y1), sep = \":\")\n",
    "colnames(y2) <- paste(\"SYMBOL\", colnames(y2), sep = \":\")\n",
    "head(y1)\n",
    "head(y2)"
   ]
  },
  {
   "cell_type": "markdown",
   "metadata": {},
   "source": [
    "### Pathway list"
   ]
  },
  {
   "cell_type": "code",
   "execution_count": 33,
   "metadata": {},
   "outputs": [
    {
     "name": "stderr",
     "output_type": "stream",
     "text": [
      "'select()' returned 1:1 mapping between keys and columns\n",
      "'select()' returned 1:1 mapping between keys and columns\n",
      "'select()' returned 1:1 mapping between keys and columns\n",
      "'select()' returned 1:1 mapping between keys and columns\n",
      "'select()' returned 1:1 mapping between keys and columns\n",
      "'select()' returned 1:1 mapping between keys and columns\n"
     ]
    }
   ],
   "source": [
    "#k <- as.list(pathways(\"hsapiens\", \"kegg\"))\n",
    "#save(k,file=\"HsapiensKEGGpathways.RData\")\n",
    "load(\"HsapiensKEGGpathways.RData\")\n",
    "p <- convertIdentifiers(k[[\"Fc epsilon RI signaling pathway\"]], \"SYMBOL\")"
   ]
  },
  {
   "cell_type": "markdown",
   "metadata": {},
   "source": [
    "### runTopologyGSA"
   ]
  },
  {
   "cell_type": "raw",
   "metadata": {},
   "source": [
    "runTopologyGSA(x, test, exp1, exp2, alpha, ...)"
   ]
  },
  {
   "cell_type": "markdown",
   "metadata": {},
   "source": [
    "parameter| descriptions \n",
    "----|-------------------\n",
    "x\t|a PathwayList, a list ofPathways or a singlePathwayobject.\n",
    "test|\tEither\"var\"and\"mean\". Determine the type of test used by topologyGSA.\n",
    "exp1|\tExperiment matrix of the first class, genes in columns.\n",
    "exp2|\tExperiment matrix of the second class, genes in columns.\n",
    "alpha|\tSignificance level of the test.\n",
    "...\t|Additional parameters forwarded totopologyGSA."
   ]
  },
  {
   "cell_type": "code",
   "execution_count": 29,
   "metadata": {},
   "outputs": [
    {
     "name": "stderr",
     "output_type": "stream",
     "text": [
      "'select()' returned 1:1 mapping between keys and columns\n",
      "'select()' returned 1:1 mapping between keys and columns\n",
      "'select()' returned 1:1 mapping between keys and columns\n",
      "'select()' returned 1:1 mapping between keys and columns\n",
      "'select()' returned 1:1 mapping between keys and columns\n",
      "'select()' returned 1:1 mapping between keys and columns\n"
     ]
    },
    {
     "data": {
      "text/plain": [
       "\n",
       "        Pathway Variance Test\n",
       "\n",
       "data: exp1, exp2 and g\n",
       "\n",
       "lambda = 26.02199, df = 10, p-value = 0.003710726, equal variances: TRUE\n"
      ]
     },
     "metadata": {},
     "output_type": "display_data"
    }
   ],
   "source": [
    "runTopologyGSA(p, \"var\", y1, y2, 0.05)"
   ]
  },
  {
   "cell_type": "markdown",
   "metadata": {},
   "source": [
    "## clipper"
   ]
  },
  {
   "cell_type": "markdown",
   "metadata": {},
   "source": [
    "`clipper` is a package for topological analysis. \n",
    "\n",
    "It implements a two-step empirical approach based on the exploitation of graph decomposition into a junction tree to reconstruct the\n",
    "most relevant signal path. \n",
    "\n",
    "    First, `clipper` selects significant pathways according to statistical tests on the means and the concentration matrices of the graphs derived from pathway topologies. \n",
    "\n",
    "    Second, it \"clips\" the whole pathway identifying the signal paths having the greatest association with a specific phenotype."
   ]
  },
  {
   "cell_type": "markdown",
   "metadata": {},
   "source": [
    "`runClipper` performs the analysis on a single pathway or on a pathway list."
   ]
  },
  {
   "cell_type": "markdown",
   "metadata": {},
   "source": [
    "### Install Package"
   ]
  },
  {
   "cell_type": "code",
   "execution_count": 25,
   "metadata": {},
   "outputs": [],
   "source": [
    "if (!requireNamespace(\"clipper\", quietly = TRUE)) {\n",
    "    if (!requireNamespace(\"BiocManager\", quietly = TRUE)){\n",
    "        install.packages(\"BiocManager\")\n",
    "    }\n",
    "    BiocManager::install(\"clipper\")\n",
    "}\n",
    "#BiocManager::install(c(\"ALL\",\"a4Preproc\"))"
   ]
  },
  {
   "cell_type": "markdown",
   "metadata": {},
   "source": [
    "### gene data and class assignments"
   ]
  },
  {
   "cell_type": "code",
   "execution_count": 26,
   "metadata": {},
   "outputs": [
    {
     "data": {
      "text/html": [
       "<ol class=list-inline>\n",
       "\t<li>1</li>\n",
       "\t<li>1</li>\n",
       "\t<li>1</li>\n",
       "\t<li>1</li>\n",
       "\t<li>1</li>\n",
       "\t<li>1</li>\n",
       "\t<li>1</li>\n",
       "\t<li>1</li>\n",
       "\t<li>1</li>\n",
       "\t<li>1</li>\n",
       "\t<li>2</li>\n",
       "\t<li>2</li>\n",
       "\t<li>2</li>\n",
       "\t<li>2</li>\n",
       "\t<li>2</li>\n",
       "\t<li>2</li>\n",
       "\t<li>2</li>\n",
       "\t<li>2</li>\n",
       "\t<li>2</li>\n",
       "\t<li>2</li>\n",
       "</ol>\n"
      ],
      "text/latex": [
       "\\begin{enumerate*}\n",
       "\\item 1\n",
       "\\item 1\n",
       "\\item 1\n",
       "\\item 1\n",
       "\\item 1\n",
       "\\item 1\n",
       "\\item 1\n",
       "\\item 1\n",
       "\\item 1\n",
       "\\item 1\n",
       "\\item 2\n",
       "\\item 2\n",
       "\\item 2\n",
       "\\item 2\n",
       "\\item 2\n",
       "\\item 2\n",
       "\\item 2\n",
       "\\item 2\n",
       "\\item 2\n",
       "\\item 2\n",
       "\\end{enumerate*}\n"
      ],
      "text/markdown": [
       "1. 1\n",
       "2. 1\n",
       "3. 1\n",
       "4. 1\n",
       "5. 1\n",
       "6. 1\n",
       "7. 1\n",
       "8. 1\n",
       "9. 1\n",
       "10. 1\n",
       "11. 2\n",
       "12. 2\n",
       "13. 2\n",
       "14. 2\n",
       "15. 2\n",
       "16. 2\n",
       "17. 2\n",
       "18. 2\n",
       "19. 2\n",
       "20. 2\n",
       "\n",
       "\n"
      ],
      "text/plain": [
       " [1] 1 1 1 1 1 1 1 1 1 1 2 2 2 2 2 2 2 2 2 2"
      ]
     },
     "metadata": {},
     "output_type": "display_data"
    }
   ],
   "source": [
    "library(ALL)\n",
    "library(a4Preproc)\n",
    "library(clipper)\n",
    "\n",
    "data(ALL)\n",
    "pheno <- as(phenoData(ALL), \"data.frame\")\n",
    "samples <- unlist(lapply(c(\"NEG\", \"BCR/ABL\"), function(t) {\n",
    "  which(grepl(\"^B\\\\d*\", pheno$BT) & (pheno$mol.biol == t))[1:10]\n",
    "}))\n",
    "classes <- c(rep(1,10), rep(2,10))\n",
    "classes\n"
   ]
  },
  {
   "cell_type": "code",
   "execution_count": 27,
   "metadata": {},
   "outputs": [
    {
     "data": {
      "text/html": [
       "'matrix'"
      ],
      "text/latex": [
       "'matrix'"
      ],
      "text/markdown": [
       "'matrix'"
      ],
      "text/plain": [
       "[1] \"matrix\""
      ]
     },
     "metadata": {},
     "output_type": "display_data"
    },
    {
     "data": {
      "text/html": [
       "<ol class=list-inline>\n",
       "\t<li>12625</li>\n",
       "\t<li>20</li>\n",
       "</ol>\n"
      ],
      "text/latex": [
       "\\begin{enumerate*}\n",
       "\\item 12625\n",
       "\\item 20\n",
       "\\end{enumerate*}\n"
      ],
      "text/markdown": [
       "1. 12625\n",
       "2. 20\n",
       "\n",
       "\n"
      ],
      "text/plain": [
       "[1] 12625    20"
      ]
     },
     "metadata": {},
     "output_type": "display_data"
    },
    {
     "data": {
      "text/html": [
       "<table>\n",
       "<caption>A matrix: 6 × 20 of type dbl</caption>\n",
       "<thead>\n",
       "\t<tr><th></th><th scope=col>01010</th><th scope=col>04007</th><th scope=col>04008</th><th scope=col>04010</th><th scope=col>04016</th><th scope=col>06002</th><th scope=col>08012</th><th scope=col>08024</th><th scope=col>09017</th><th scope=col>12019</th><th scope=col>01005</th><th scope=col>03002</th><th scope=col>08001</th><th scope=col>08011</th><th scope=col>09008</th><th scope=col>11005</th><th scope=col>12006</th><th scope=col>12007</th><th scope=col>12012</th><th scope=col>12026</th></tr>\n",
       "</thead>\n",
       "<tbody>\n",
       "\t<tr><th scope=row>ENTREZID:5595</th><td> 7.479445</td><td>7.905312</td><td> 7.065914</td><td> 7.474537</td><td> 7.536119</td><td>7.183331</td><td>7.824284</td><td>7.879988</td><td> 7.756734</td><td> 7.652719</td><td>7.597323</td><td>7.567593</td><td> 7.735545</td><td>7.591498</td><td> 7.891793</td><td>7.640012</td><td>7.759599</td><td>7.678636</td><td>7.464285</td><td>7.501591</td></tr>\n",
       "\t<tr><th scope=row>ENTREZID:7075</th><td> 4.932537</td><td>4.844565</td><td> 5.147762</td><td> 5.122518</td><td> 5.016132</td><td>5.288943</td><td>4.685951</td><td>4.830464</td><td> 4.987595</td><td> 5.175609</td><td>5.046194</td><td>4.799294</td><td> 4.633217</td><td>4.583148</td><td> 5.999496</td><td>4.967288</td><td>4.770481</td><td>5.456332</td><td>4.785863</td><td>5.188992</td></tr>\n",
       "\t<tr><th scope=row>ENTREZID:1557</th><td> 4.208155</td><td>3.416923</td><td> 3.945869</td><td> 4.150506</td><td> 3.576360</td><td>3.900935</td><td>3.902139</td><td>3.862914</td><td> 4.048901</td><td> 3.932360</td><td>3.900466</td><td>3.886169</td><td> 3.630190</td><td>3.609112</td><td> 4.001606</td><td>3.796550</td><td>3.912707</td><td>3.870893</td><td>3.930832</td><td>4.188444</td></tr>\n",
       "\t<tr><th scope=row>ENTREZID:643</th><td> 6.169024</td><td>5.687997</td><td> 6.208061</td><td> 6.292713</td><td> 5.665991</td><td>5.842326</td><td>5.762857</td><td>6.079410</td><td> 6.097900</td><td> 6.194623</td><td>5.903856</td><td>5.860459</td><td> 5.875375</td><td>5.733157</td><td> 5.832952</td><td>6.094379</td><td>6.235795</td><td>5.971466</td><td>6.037364</td><td>6.231228</td></tr>\n",
       "\t<tr><th scope=row>ENTREZID:643</th><td> 5.912780</td><td>5.615210</td><td> 5.923487</td><td> 6.046607</td><td> 5.738218</td><td>5.994515</td><td>5.679899</td><td>6.057632</td><td> 6.210092</td><td> 5.969027</td><td>5.925260</td><td>5.893209</td><td> 5.748350</td><td>5.922568</td><td> 5.717497</td><td>5.751805</td><td>5.883340</td><td>5.918456</td><td>5.725421</td><td>6.357476</td></tr>\n",
       "\t<tr><th scope=row>ENTREZID:1843</th><td>10.428299</td><td>9.983809</td><td>10.063484</td><td>10.662059</td><td>11.269115</td><td>8.812869</td><td>8.227970</td><td>7.667445</td><td>10.015466</td><td>10.243610</td><td>8.570990</td><td>9.616713</td><td>10.165159</td><td>9.381072</td><td>10.206353</td><td>9.358516</td><td>8.824348</td><td>9.262478</td><td>7.232927</td><td>7.808452</td></tr>\n",
       "</tbody>\n",
       "</table>\n"
      ],
      "text/latex": [
       "A matrix: 6 × 20 of type dbl\n",
       "\\begin{tabular}{r|llllllllllllllllllll}\n",
       "  & 01010 & 04007 & 04008 & 04010 & 04016 & 06002 & 08012 & 08024 & 09017 & 12019 & 01005 & 03002 & 08001 & 08011 & 09008 & 11005 & 12006 & 12007 & 12012 & 12026\\\\\n",
       "\\hline\n",
       "\tENTREZID:5595 &  7.479445 & 7.905312 &  7.065914 &  7.474537 &  7.536119 & 7.183331 & 7.824284 & 7.879988 &  7.756734 &  7.652719 & 7.597323 & 7.567593 &  7.735545 & 7.591498 &  7.891793 & 7.640012 & 7.759599 & 7.678636 & 7.464285 & 7.501591\\\\\n",
       "\tENTREZID:7075 &  4.932537 & 4.844565 &  5.147762 &  5.122518 &  5.016132 & 5.288943 & 4.685951 & 4.830464 &  4.987595 &  5.175609 & 5.046194 & 4.799294 &  4.633217 & 4.583148 &  5.999496 & 4.967288 & 4.770481 & 5.456332 & 4.785863 & 5.188992\\\\\n",
       "\tENTREZID:1557 &  4.208155 & 3.416923 &  3.945869 &  4.150506 &  3.576360 & 3.900935 & 3.902139 & 3.862914 &  4.048901 &  3.932360 & 3.900466 & 3.886169 &  3.630190 & 3.609112 &  4.001606 & 3.796550 & 3.912707 & 3.870893 & 3.930832 & 4.188444\\\\\n",
       "\tENTREZID:643 &  6.169024 & 5.687997 &  6.208061 &  6.292713 &  5.665991 & 5.842326 & 5.762857 & 6.079410 &  6.097900 &  6.194623 & 5.903856 & 5.860459 &  5.875375 & 5.733157 &  5.832952 & 6.094379 & 6.235795 & 5.971466 & 6.037364 & 6.231228\\\\\n",
       "\tENTREZID:643 &  5.912780 & 5.615210 &  5.923487 &  6.046607 &  5.738218 & 5.994515 & 5.679899 & 6.057632 &  6.210092 &  5.969027 & 5.925260 & 5.893209 &  5.748350 & 5.922568 &  5.717497 & 5.751805 & 5.883340 & 5.918456 & 5.725421 & 6.357476\\\\\n",
       "\tENTREZID:1843 & 10.428299 & 9.983809 & 10.063484 & 10.662059 & 11.269115 & 8.812869 & 8.227970 & 7.667445 & 10.015466 & 10.243610 & 8.570990 & 9.616713 & 10.165159 & 9.381072 & 10.206353 & 9.358516 & 8.824348 & 9.262478 & 7.232927 & 7.808452\\\\\n",
       "\\end{tabular}\n"
      ],
      "text/markdown": [
       "\n",
       "A matrix: 6 × 20 of type dbl\n",
       "\n",
       "| <!--/--> | 01010 | 04007 | 04008 | 04010 | 04016 | 06002 | 08012 | 08024 | 09017 | 12019 | 01005 | 03002 | 08001 | 08011 | 09008 | 11005 | 12006 | 12007 | 12012 | 12026 |\n",
       "|---|---|---|---|---|---|---|---|---|---|---|---|---|---|---|---|---|---|---|---|---|\n",
       "| ENTREZID:5595 |  7.479445 | 7.905312 |  7.065914 |  7.474537 |  7.536119 | 7.183331 | 7.824284 | 7.879988 |  7.756734 |  7.652719 | 7.597323 | 7.567593 |  7.735545 | 7.591498 |  7.891793 | 7.640012 | 7.759599 | 7.678636 | 7.464285 | 7.501591 |\n",
       "| ENTREZID:7075 |  4.932537 | 4.844565 |  5.147762 |  5.122518 |  5.016132 | 5.288943 | 4.685951 | 4.830464 |  4.987595 |  5.175609 | 5.046194 | 4.799294 |  4.633217 | 4.583148 |  5.999496 | 4.967288 | 4.770481 | 5.456332 | 4.785863 | 5.188992 |\n",
       "| ENTREZID:1557 |  4.208155 | 3.416923 |  3.945869 |  4.150506 |  3.576360 | 3.900935 | 3.902139 | 3.862914 |  4.048901 |  3.932360 | 3.900466 | 3.886169 |  3.630190 | 3.609112 |  4.001606 | 3.796550 | 3.912707 | 3.870893 | 3.930832 | 4.188444 |\n",
       "| ENTREZID:643 |  6.169024 | 5.687997 |  6.208061 |  6.292713 |  5.665991 | 5.842326 | 5.762857 | 6.079410 |  6.097900 |  6.194623 | 5.903856 | 5.860459 |  5.875375 | 5.733157 |  5.832952 | 6.094379 | 6.235795 | 5.971466 | 6.037364 | 6.231228 |\n",
       "| ENTREZID:643 |  5.912780 | 5.615210 |  5.923487 |  6.046607 |  5.738218 | 5.994515 | 5.679899 | 6.057632 |  6.210092 |  5.969027 | 5.925260 | 5.893209 |  5.748350 | 5.922568 |  5.717497 | 5.751805 | 5.883340 | 5.918456 | 5.725421 | 6.357476 |\n",
       "| ENTREZID:1843 | 10.428299 | 9.983809 | 10.063484 | 10.662059 | 11.269115 | 8.812869 | 8.227970 | 7.667445 | 10.015466 | 10.243610 | 8.570990 | 9.616713 | 10.165159 | 9.381072 | 10.206353 | 9.358516 | 8.824348 | 9.262478 | 7.232927 | 7.808452 |\n",
       "\n"
      ],
      "text/plain": [
       "              01010     04007    04008     04010     04016     06002   \n",
       "ENTREZID:5595  7.479445 7.905312  7.065914  7.474537  7.536119 7.183331\n",
       "ENTREZID:7075  4.932537 4.844565  5.147762  5.122518  5.016132 5.288943\n",
       "ENTREZID:1557  4.208155 3.416923  3.945869  4.150506  3.576360 3.900935\n",
       "ENTREZID:643   6.169024 5.687997  6.208061  6.292713  5.665991 5.842326\n",
       "ENTREZID:643   5.912780 5.615210  5.923487  6.046607  5.738218 5.994515\n",
       "ENTREZID:1843 10.428299 9.983809 10.063484 10.662059 11.269115 8.812869\n",
       "              08012    08024    09017     12019     01005    03002    08001    \n",
       "ENTREZID:5595 7.824284 7.879988  7.756734  7.652719 7.597323 7.567593  7.735545\n",
       "ENTREZID:7075 4.685951 4.830464  4.987595  5.175609 5.046194 4.799294  4.633217\n",
       "ENTREZID:1557 3.902139 3.862914  4.048901  3.932360 3.900466 3.886169  3.630190\n",
       "ENTREZID:643  5.762857 6.079410  6.097900  6.194623 5.903856 5.860459  5.875375\n",
       "ENTREZID:643  5.679899 6.057632  6.210092  5.969027 5.925260 5.893209  5.748350\n",
       "ENTREZID:1843 8.227970 7.667445 10.015466 10.243610 8.570990 9.616713 10.165159\n",
       "              08011    09008     11005    12006    12007    12012    12026   \n",
       "ENTREZID:5595 7.591498  7.891793 7.640012 7.759599 7.678636 7.464285 7.501591\n",
       "ENTREZID:7075 4.583148  5.999496 4.967288 4.770481 5.456332 4.785863 5.188992\n",
       "ENTREZID:1557 3.609112  4.001606 3.796550 3.912707 3.870893 3.930832 4.188444\n",
       "ENTREZID:643  5.733157  5.832952 6.094379 6.235795 5.971466 6.037364 6.231228\n",
       "ENTREZID:643  5.922568  5.717497 5.751805 5.883340 5.918456 5.725421 6.357476\n",
       "ENTREZID:1843 9.381072 10.206353 9.358516 8.824348 9.262478 7.232927 7.808452"
      ]
     },
     "metadata": {},
     "output_type": "display_data"
    }
   ],
   "source": [
    "expr <- exprs(ALL)[,samples]\n",
    "rownames(expr) <- paste(\"ENTREZID\",\n",
    "                        featureData(addGeneInfo(ALL))$ENTREZID,\n",
    "                        sep = \":\")\n",
    "\n",
    "class(expr)\n",
    "dim(expr)\n",
    "head(expr)"
   ]
  },
  {
   "cell_type": "markdown",
   "metadata": {},
   "source": [
    "### pathwaylist"
   ]
  },
  {
   "cell_type": "code",
   "execution_count": 28,
   "metadata": {
    "scrolled": true
   },
   "outputs": [],
   "source": [
    "k <- as.list(pathways(\"hsapiens\", \"kegg\"))\n",
    "save(k,file=\"HsapiensKEGGpathways.RData\")"
   ]
  },
  {
   "cell_type": "code",
   "execution_count": 29,
   "metadata": {},
   "outputs": [],
   "source": [
    "load(\"HsapiensKEGGpathways.RData\")\n",
    "selected <- k[c(\"Bladder cancer\", \"Hippo signaling pathway - multiple species\")]"
   ]
  },
  {
   "cell_type": "markdown",
   "metadata": {},
   "source": [
    "### runClipper"
   ]
  },
  {
   "cell_type": "raw",
   "metadata": {},
   "source": [
    "runClipper(x, expr, classes, method, which = \"proteins\", seed = NULL, ...)"
   ]
  },
  {
   "cell_type": "markdown",
   "metadata": {},
   "source": [
    "parameter| descriptions \n",
    "----|-------------------\n",
    "x\t|a PathwayList, a list of Pathways or a single Pathway object.\n",
    "expr\t|a matrix (size: number p of genes x number n of samples) of gene expression.\n",
    "classes\t|a vector (length: n) of class assignments.\n",
    "method\t|the kind of test to perform on the cliques. It could be either \"mean\" or \"variance\".\n",
    "which\t|the pathway variant you want.\n",
    "See Pathway documentation for a list of the supported variants.\n",
    "seed\t|if not NULL, set the seed for the random number generator used by clipper.\n",
    "...\t|additional options: see for details easyClip."
   ]
  },
  {
   "cell_type": "code",
   "execution_count": 30,
   "metadata": {},
   "outputs": [],
   "source": [
    "clipped <- runClipper(selected, expr, classes, \"mean\", pathThr = 0.1)"
   ]
  },
  {
   "cell_type": "code",
   "execution_count": 31,
   "metadata": {},
   "outputs": [
    {
     "data": {
      "text/html": [
       "<strong>$`Hippo signaling pathway - multiple species`</strong> = <table>\n",
       "<caption>A data.frame: 1 × 12</caption>\n",
       "<thead>\n",
       "\t<tr><th></th><th scope=col>startIdx</th><th scope=col>endIdx</th><th scope=col>maxIdx</th><th scope=col>lenght</th><th scope=col>maxScore</th><th scope=col>aScore</th><th scope=col>activation</th><th scope=col>impact</th><th scope=col>involvedCliques</th><th scope=col>cliqueOnPath</th><th scope=col>involvedGenes</th><th scope=col>pathGenes</th></tr>\n",
       "\t<tr><th></th><th scope=col>&lt;chr&gt;</th><th scope=col>&lt;chr&gt;</th><th scope=col>&lt;chr&gt;</th><th scope=col>&lt;chr&gt;</th><th scope=col>&lt;chr&gt;</th><th scope=col>&lt;chr&gt;</th><th scope=col>&lt;chr&gt;</th><th scope=col>&lt;chr&gt;</th><th scope=col>&lt;chr&gt;</th><th scope=col>&lt;chr&gt;</th><th scope=col>&lt;chr&gt;</th><th scope=col>&lt;chr&gt;</th></tr>\n",
       "</thead>\n",
       "<tbody>\n",
       "\t<tr><th scope=row>1;3</th><td>1</td><td>3</td><td>2</td><td>3</td><td>5.83818294928244</td><td>2.91909147464122</td><td>0.281721182135002</td><td>0.5</td><td>1,2</td><td>1,2,3</td><td>ENTREZID:10413;ENTREZID:25937;ENTREZID:5058;ENTREZID:7003;ENTREZID:10413;ENTREZID:25937;ENTREZID:5058;ENTREZID:7004</td><td>ENTREZID:10413;ENTREZID:25937;ENTREZID:5058;ENTREZID:7003,ENTREZID:10413;ENTREZID:25937;ENTREZID:5058;ENTREZID:7004,ENTREZID:10413;ENTREZID:25937;ENTREZID:5058;ENTREZID:7005</td></tr>\n",
       "</tbody>\n",
       "</table>\n"
      ],
      "text/latex": [
       "\\textbf{\\$`Hippo signaling pathway - multiple species`} = A data.frame: 1 × 12\n",
       "\\begin{tabular}{r|llllllllllll}\n",
       "  & startIdx & endIdx & maxIdx & lenght & maxScore & aScore & activation & impact & involvedCliques & cliqueOnPath & involvedGenes & pathGenes\\\\\n",
       "  & <chr> & <chr> & <chr> & <chr> & <chr> & <chr> & <chr> & <chr> & <chr> & <chr> & <chr> & <chr>\\\\\n",
       "\\hline\n",
       "\t1;3 & 1 & 3 & 2 & 3 & 5.83818294928244 & 2.91909147464122 & 0.281721182135002 & 0.5 & 1,2 & 1,2,3 & ENTREZID:10413;ENTREZID:25937;ENTREZID:5058;ENTREZID:7003;ENTREZID:10413;ENTREZID:25937;ENTREZID:5058;ENTREZID:7004 & ENTREZID:10413;ENTREZID:25937;ENTREZID:5058;ENTREZID:7003,ENTREZID:10413;ENTREZID:25937;ENTREZID:5058;ENTREZID:7004,ENTREZID:10413;ENTREZID:25937;ENTREZID:5058;ENTREZID:7005\\\\\n",
       "\\end{tabular}\n"
      ],
      "text/markdown": [
       "**$`Hippo signaling pathway - multiple species`** = \n",
       "A data.frame: 1 × 12\n",
       "\n",
       "| <!--/--> | startIdx &lt;chr&gt; | endIdx &lt;chr&gt; | maxIdx &lt;chr&gt; | lenght &lt;chr&gt; | maxScore &lt;chr&gt; | aScore &lt;chr&gt; | activation &lt;chr&gt; | impact &lt;chr&gt; | involvedCliques &lt;chr&gt; | cliqueOnPath &lt;chr&gt; | involvedGenes &lt;chr&gt; | pathGenes &lt;chr&gt; |\n",
       "|---|---|---|---|---|---|---|---|---|---|---|---|---|\n",
       "| 1;3 | 1 | 3 | 2 | 3 | 5.83818294928244 | 2.91909147464122 | 0.281721182135002 | 0.5 | 1,2 | 1,2,3 | ENTREZID:10413;ENTREZID:25937;ENTREZID:5058;ENTREZID:7003;ENTREZID:10413;ENTREZID:25937;ENTREZID:5058;ENTREZID:7004 | ENTREZID:10413;ENTREZID:25937;ENTREZID:5058;ENTREZID:7003,ENTREZID:10413;ENTREZID:25937;ENTREZID:5058;ENTREZID:7004,ENTREZID:10413;ENTREZID:25937;ENTREZID:5058;ENTREZID:7005 |\n",
       "\n"
      ],
      "text/plain": [
       "$`Hippo signaling pathway - multiple species`\n",
       "    startIdx endIdx maxIdx lenght         maxScore           aScore\n",
       "1;3        1      3      2      3 5.83818294928244 2.91909147464122\n",
       "           activation impact involvedCliques cliqueOnPath\n",
       "1;3 0.281721182135002    0.5             1,2        1,2,3\n",
       "                                                                                                          involvedGenes\n",
       "1;3 ENTREZID:10413;ENTREZID:25937;ENTREZID:5058;ENTREZID:7003;ENTREZID:10413;ENTREZID:25937;ENTREZID:5058;ENTREZID:7004\n",
       "                                                                                                                                                                        pathGenes\n",
       "1;3 ENTREZID:10413;ENTREZID:25937;ENTREZID:5058;ENTREZID:7003,ENTREZID:10413;ENTREZID:25937;ENTREZID:5058;ENTREZID:7004,ENTREZID:10413;ENTREZID:25937;ENTREZID:5058;ENTREZID:7005\n"
      ]
     },
     "metadata": {},
     "output_type": "display_data"
    }
   ],
   "source": [
    "clipped$results"
   ]
  },
  {
   "cell_type": "code",
   "execution_count": 32,
   "metadata": {},
   "outputs": [
    {
     "data": {
      "text/html": [
       "<table>\n",
       "<caption>A data.frame: 1 × 7</caption>\n",
       "<thead>\n",
       "\t<tr><th></th><th scope=col>startIdx</th><th scope=col>endIdx</th><th scope=col>maxIdx</th><th scope=col>lenght</th><th scope=col>maxScore</th><th scope=col>aScore</th><th scope=col>involvedGenes</th></tr>\n",
       "\t<tr><th></th><th scope=col>&lt;chr&gt;</th><th scope=col>&lt;chr&gt;</th><th scope=col>&lt;chr&gt;</th><th scope=col>&lt;chr&gt;</th><th scope=col>&lt;chr&gt;</th><th scope=col>&lt;chr&gt;</th><th scope=col>&lt;chr&gt;</th></tr>\n",
       "</thead>\n",
       "<tbody>\n",
       "\t<tr><th scope=row>Hippo signaling pathway - multiple species</th><td>1</td><td>3</td><td>2</td><td>3</td><td>5.83818294928244</td><td>2.91909147464122</td><td>ENTREZID:10413;ENTREZID:25937;ENTREZID:5058;ENTREZID:7003;ENTREZID:10413;ENTREZID:25937;ENTREZID:5058;ENTREZID:7004</td></tr>\n",
       "</tbody>\n",
       "</table>\n"
      ],
      "text/latex": [
       "A data.frame: 1 × 7\n",
       "\\begin{tabular}{r|lllllll}\n",
       "  & startIdx & endIdx & maxIdx & lenght & maxScore & aScore & involvedGenes\\\\\n",
       "  & <chr> & <chr> & <chr> & <chr> & <chr> & <chr> & <chr>\\\\\n",
       "\\hline\n",
       "\tHippo signaling pathway - multiple species & 1 & 3 & 2 & 3 & 5.83818294928244 & 2.91909147464122 & ENTREZID:10413;ENTREZID:25937;ENTREZID:5058;ENTREZID:7003;ENTREZID:10413;ENTREZID:25937;ENTREZID:5058;ENTREZID:7004\\\\\n",
       "\\end{tabular}\n"
      ],
      "text/markdown": [
       "\n",
       "A data.frame: 1 × 7\n",
       "\n",
       "| <!--/--> | startIdx &lt;chr&gt; | endIdx &lt;chr&gt; | maxIdx &lt;chr&gt; | lenght &lt;chr&gt; | maxScore &lt;chr&gt; | aScore &lt;chr&gt; | involvedGenes &lt;chr&gt; |\n",
       "|---|---|---|---|---|---|---|---|\n",
       "| Hippo signaling pathway - multiple species | 1 | 3 | 2 | 3 | 5.83818294928244 | 2.91909147464122 | ENTREZID:10413;ENTREZID:25937;ENTREZID:5058;ENTREZID:7003;ENTREZID:10413;ENTREZID:25937;ENTREZID:5058;ENTREZID:7004 |\n",
       "\n"
      ],
      "text/plain": [
       "                                           startIdx endIdx maxIdx lenght\n",
       "Hippo signaling pathway - multiple species 1        3      2      3     \n",
       "                                           maxScore         aScore          \n",
       "Hippo signaling pathway - multiple species 5.83818294928244 2.91909147464122\n",
       "                                           involvedGenes                                                                                                      \n",
       "Hippo signaling pathway - multiple species ENTREZID:10413;ENTREZID:25937;ENTREZID:5058;ENTREZID:7003;ENTREZID:10413;ENTREZID:25937;ENTREZID:5058;ENTREZID:7004"
      ]
     },
     "metadata": {},
     "output_type": "display_data"
    }
   ],
   "source": [
    "resClip <- do.call(rbind, clipped$results)\n",
    "resClip[, c(\"startIdx\", \"endIdx\", \"maxIdx\", \"lenght\",\n",
    "            \"maxScore\", \"aScore\", \"involvedGenes\")]"
   ]
  },
  {
   "cell_type": "code",
   "execution_count": 36,
   "metadata": {
    "scrolled": true
   },
   "outputs": [
    {
     "data": {
      "text/html": [
       "<dl>\n",
       "\t<dt>$results</dt>\n",
       "\t\t<dd><strong>$`Hippo signaling pathway - multiple species`</strong> = <table>\n",
       "<caption>A data.frame: 1 × 12</caption>\n",
       "<thead>\n",
       "\t<tr><th></th><th scope=col>startIdx</th><th scope=col>endIdx</th><th scope=col>maxIdx</th><th scope=col>lenght</th><th scope=col>maxScore</th><th scope=col>aScore</th><th scope=col>activation</th><th scope=col>impact</th><th scope=col>involvedCliques</th><th scope=col>cliqueOnPath</th><th scope=col>involvedGenes</th><th scope=col>pathGenes</th></tr>\n",
       "\t<tr><th></th><th scope=col>&lt;chr&gt;</th><th scope=col>&lt;chr&gt;</th><th scope=col>&lt;chr&gt;</th><th scope=col>&lt;chr&gt;</th><th scope=col>&lt;chr&gt;</th><th scope=col>&lt;chr&gt;</th><th scope=col>&lt;chr&gt;</th><th scope=col>&lt;chr&gt;</th><th scope=col>&lt;chr&gt;</th><th scope=col>&lt;chr&gt;</th><th scope=col>&lt;chr&gt;</th><th scope=col>&lt;chr&gt;</th></tr>\n",
       "</thead>\n",
       "<tbody>\n",
       "\t<tr><th scope=row>1;3</th><td>1</td><td>3</td><td>2</td><td>3</td><td>5.83818294928244</td><td>2.91909147464122</td><td>0.281721182135002</td><td>0.5</td><td>1,2</td><td>1,2,3</td><td>ENTREZID:10413;ENTREZID:25937;ENTREZID:5058;ENTREZID:7003;ENTREZID:10413;ENTREZID:25937;ENTREZID:5058;ENTREZID:7004</td><td>ENTREZID:10413;ENTREZID:25937;ENTREZID:5058;ENTREZID:7003,ENTREZID:10413;ENTREZID:25937;ENTREZID:5058;ENTREZID:7004,ENTREZID:10413;ENTREZID:25937;ENTREZID:5058;ENTREZID:7005</td></tr>\n",
       "</tbody>\n",
       "</table>\n",
       "</dd>\n",
       "\t<dt>$warnings</dt>\n",
       "\t\t<dd><dl>\n",
       "</dl>\n",
       "</dd>\n",
       "\t<dt>$errors</dt>\n",
       "\t\t<dd><dl>\n",
       "</dl>\n",
       "</dd>\n",
       "</dl>\n"
      ],
      "text/latex": [
       "\\begin{description}\n",
       "\\item[\\$results] \\textbf{\\$`Hippo signaling pathway - multiple species`} = A data.frame: 1 × 12\n",
       "\\begin{tabular}{r|llllllllllll}\n",
       "  & startIdx & endIdx & maxIdx & lenght & maxScore & aScore & activation & impact & involvedCliques & cliqueOnPath & involvedGenes & pathGenes\\\\\n",
       "  & <chr> & <chr> & <chr> & <chr> & <chr> & <chr> & <chr> & <chr> & <chr> & <chr> & <chr> & <chr>\\\\\n",
       "\\hline\n",
       "\t1;3 & 1 & 3 & 2 & 3 & 5.83818294928244 & 2.91909147464122 & 0.281721182135002 & 0.5 & 1,2 & 1,2,3 & ENTREZID:10413;ENTREZID:25937;ENTREZID:5058;ENTREZID:7003;ENTREZID:10413;ENTREZID:25937;ENTREZID:5058;ENTREZID:7004 & ENTREZID:10413;ENTREZID:25937;ENTREZID:5058;ENTREZID:7003,ENTREZID:10413;ENTREZID:25937;ENTREZID:5058;ENTREZID:7004,ENTREZID:10413;ENTREZID:25937;ENTREZID:5058;ENTREZID:7005\\\\\n",
       "\\end{tabular}\n",
       "\n",
       "\\item[\\$warnings] \\begin{description}\n",
       "\\end{description}\n",
       "\n",
       "\\item[\\$errors] \\begin{description}\n",
       "\\end{description}\n",
       "\n",
       "\\end{description}\n"
      ],
      "text/markdown": [
       "$results\n",
       ":   **$`Hippo signaling pathway - multiple species`** = \n",
       "A data.frame: 1 × 12\n",
       "\n",
       "| <!--/--> | startIdx &lt;chr&gt; | endIdx &lt;chr&gt; | maxIdx &lt;chr&gt; | lenght &lt;chr&gt; | maxScore &lt;chr&gt; | aScore &lt;chr&gt; | activation &lt;chr&gt; | impact &lt;chr&gt; | involvedCliques &lt;chr&gt; | cliqueOnPath &lt;chr&gt; | involvedGenes &lt;chr&gt; | pathGenes &lt;chr&gt; |\n",
       "|---|---|---|---|---|---|---|---|---|---|---|---|---|\n",
       "| 1;3 | 1 | 3 | 2 | 3 | 5.83818294928244 | 2.91909147464122 | 0.281721182135002 | 0.5 | 1,2 | 1,2,3 | ENTREZID:10413;ENTREZID:25937;ENTREZID:5058;ENTREZID:7003;ENTREZID:10413;ENTREZID:25937;ENTREZID:5058;ENTREZID:7004 | ENTREZID:10413;ENTREZID:25937;ENTREZID:5058;ENTREZID:7003,ENTREZID:10413;ENTREZID:25937;ENTREZID:5058;ENTREZID:7004,ENTREZID:10413;ENTREZID:25937;ENTREZID:5058;ENTREZID:7005 |\n",
       "\n",
       "\n",
       "$warnings\n",
       ":   \n",
       "\n",
       "\n",
       "$errors\n",
       ":   \n",
       "\n",
       "\n",
       "\n",
       "\n"
      ],
      "text/plain": [
       "$results\n",
       "$results$`Hippo signaling pathway - multiple species`\n",
       "    startIdx endIdx maxIdx lenght         maxScore           aScore\n",
       "1;3        1      3      2      3 5.83818294928244 2.91909147464122\n",
       "           activation impact involvedCliques cliqueOnPath\n",
       "1;3 0.281721182135002    0.5             1,2        1,2,3\n",
       "                                                                                                          involvedGenes\n",
       "1;3 ENTREZID:10413;ENTREZID:25937;ENTREZID:5058;ENTREZID:7003;ENTREZID:10413;ENTREZID:25937;ENTREZID:5058;ENTREZID:7004\n",
       "                                                                                                                                                                        pathGenes\n",
       "1;3 ENTREZID:10413;ENTREZID:25937;ENTREZID:5058;ENTREZID:7003,ENTREZID:10413;ENTREZID:25937;ENTREZID:5058;ENTREZID:7004,ENTREZID:10413;ENTREZID:25937;ENTREZID:5058;ENTREZID:7005\n",
       "\n",
       "\n",
       "$warnings\n",
       "named list()\n",
       "\n",
       "$errors\n",
       "named list()\n"
      ]
     },
     "metadata": {},
     "output_type": "display_data"
    }
   ],
   "source": [
    "if (require(clipper) & require(ALL) & require(a4Preproc)) {\n",
    "  data(ALL)\n",
    "  pheno <- as(phenoData(ALL), \"data.frame\")\n",
    "  samples <- unlist(lapply(c(\"NEG\", \"BCR/ABL\"), function(t) {\n",
    "    which(grepl(\"^B\\\\d*\", pheno$BT) & (pheno$mol.biol == t))[1:10]\n",
    "  }))\n",
    "  classes <- c(rep(1,10), rep(2,10))\n",
    "\n",
    "  expr <- exprs(ALL)[,samples]\n",
    "  rownames(expr) <- paste(\"ENTREZID\", featureData(addGeneInfo(ALL))$ENTREZID,\n",
    "                          sep = \":\")\n",
    "\n",
    "  k <- as.list(pathways(\"hsapiens\", \"kegg\"))\n",
    "  selected <- k[c(\"Bladder cancer\", \"Hippo signaling pathway - multiple species\")]\n",
    "\n",
    "  runClipper(selected, expr, classes, \"mean\", pathThr = 0.1)\n",
    "}"
   ]
  },
  {
   "cell_type": "markdown",
   "metadata": {},
   "source": [
    "# Reference"
   ]
  },
  {
   "cell_type": "markdown",
   "metadata": {},
   "source": [
    "[GRAPH Interaction from pathway Topological Environment](http://bioconductor.org/packages/release/bioc/vignettes/graphite/inst/doc/graphite.pdf)"
   ]
  },
  {
   "cell_type": "code",
   "execution_count": null,
   "metadata": {},
   "outputs": [],
   "source": []
  }
 ],
 "metadata": {
  "kernelspec": {
   "display_name": "R",
   "language": "R",
   "name": "ir"
  },
  "language_info": {
   "codemirror_mode": "r",
   "file_extension": ".r",
   "mimetype": "text/x-r-source",
   "name": "R",
   "pygments_lexer": "r",
   "version": "3.5.1"
  },
  "toc": {
   "base_numbering": 1,
   "nav_menu": {},
   "number_sections": true,
   "sideBar": true,
   "skip_h1_title": false,
   "title_cell": "Table of Contents",
   "title_sidebar": "Contents",
   "toc_cell": false,
   "toc_position": {},
   "toc_section_display": true,
   "toc_window_display": false
  }
 },
 "nbformat": 4,
 "nbformat_minor": 2
}
