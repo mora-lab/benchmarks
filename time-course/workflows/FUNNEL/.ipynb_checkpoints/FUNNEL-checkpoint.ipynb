{
 "cells": [
  {
   "cell_type": "markdown",
   "metadata": {},
   "source": [
    "[FUNNEL-GSEA paper](https://academic.oup.com/bioinformatics/article/33/13/1944/3038397)\n",
    "\n",
    "[FUNNEL-GSEA R pacakge](https://github.com/yunzhang813/FUNNEL-GSEA-R-Package)"
   ]
  },
  {
   "cell_type": "markdown",
   "metadata": {},
   "source": [
    "# Install FUNNEL"
   ]
  },
  {
   "cell_type": "code",
   "execution_count": null,
   "metadata": {},
   "outputs": [],
   "source": [
    "install.packages(\"githubinstall\")\n",
    "githubinstall::githubinstall(\"https://github.com/yunzhang813/FUNNEL-GSEA-R-Package\")"
   ]
  },
  {
   "cell_type": "markdown",
   "metadata": {},
   "source": [
    "# FUNNEL.GSEA"
   ]
  },
  {
   "cell_type": "markdown",
   "metadata": {},
   "source": [
    "This is the main function of this package. It takes gene expression matrix (X), time points (tt), a pre-defined list of gene sets (genesets), and several tuning parameters (see below) as input. It then apply functional data analysis techniques and elastic-net regression to define weights for genes that are shared by more than one gene sets (the overlapping genes). Finally, it applies an extended Mann-Whitney U test that incorporates both intergene correlation and weights computed from the elastic-net regression to pre-defined gene sets to obtain significance of non-constant temporal trend for each gene set."
   ]
  },
  {
   "cell_type": "code",
   "execution_count": null,
   "metadata": {},
   "outputs": [],
   "source": [
    "FUNNEL.GSEA(X, tt, genesets, lambda=10^-3.5, rr=rep(1,length(tt)),\n",
    "            selection_k=\"FVE\", FVE_threshold=0.9, nharm=3, centerfns=FALSE,\n",
    "            equiv.threshold=0.01, lam1=0.4, lam2=0.01, alpha.level=0.05, sort=TRUE)"
   ]
  },
  {
   "cell_type": "markdown",
   "metadata": {},
   "source": [
    "parameter|description\n",
    "---------|---------\n",
    "X\t|A gene expression matrix. Genes must be ordered as rows and each column represent a time point. Row names must be gene names used in genesets. Columns must be ordered by tt.\n",
    "tt\t|**A vector of ordered unique time points.**\n",
    "genesets\t|A list of pre-defined gene sets. Each element of this list is a vector of gene names that are rownames of the X matrix. Each element should have gene set name as element name. Note that due to data pre-processsing, many genes in genesets may not be present in rownames(X). Internally, we define a new genesets object that is a collection of the intersection of each pre-defined pathway and rownames(X) for the actual computation.\n",
    "lambda\t|Roughness penalty (smoothing) parameter used by function smooth.basis in package fda. Empirical evidences show that the default value works well for a large collection of time-course gene expression data, as long as X is z-transformed and tt is normalized to [0,1]. In this function, we carry out these standardizations automatically.\n",
    "rr\t|Number of repetitions at each unique time points.\n",
    "selection_k\t|Method of choosing the number of principal components. Choices are: \"FVE\" (fraction of variance explained), which use scree plot approach to select number of principal components. See FVE_threshold below; a positive integer K: user-specified number of principal components. Default value: \"FVE\".\n",
    "FVE_threshold\t|A positive number between 0 and 1. It is used with the option selection_k = \"FVE\" to select the number of principal components that explain at least FVE_threshold of total variation. Default value: 0.9.\n",
    "nharm\t|Number of eigenfunctions to be used to represent the overall temporal trend of each gene set. Default to 3.\n",
    "centerfns\t|An indicator if to center functions in pca.fd(). Default: FALSE.\n",
    "equiv.threshold\t|This is a threshold to be used in function equiv.regression. Any eigenvalue that explains less than this proportion of total variance will be discarded. Default to 0.01 (one percent of total variance).\n",
    "lam1\t|The L1 (LASSO) penalty used in elastic-net regression.\n",
    "lam2\t|The L2 (ridge) penalty used in elastic-ent regression.\n",
    "alpha.level\t|Significance level for gene set test (extended Mann-Whitney U test). Default to 0.05.\n",
    "sort\t|An indicator if to sort the p-values from the smallest to the largest. Default: TRUE."
   ]
  },
  {
   "cell_type": "markdown",
   "metadata": {},
   "source": [
    "**Result**\n",
    "\n",
    "result|description\n",
    "---------|---------\n",
    "pvals\t|A vector of unadjusted p-values for pre-defined gene sets.\n",
    "weight.list\t|A list of weights (a.k.a. empirical gene set membership) computed from the elastic-net regression.\n",
    "correlation\t|Mean intergene correlation coefficient estimated from genes within each gene set.\n",
    "sig.genesets\t|A vector of names (or indices) of significant gene sets at alpha.level (default: 0.05).\n",
    "Fstats\t|A vector of F-statistics, which are gene-level summary statistics used in extended Mann-Whitney U test."
   ]
  },
  {
   "cell_type": "code",
   "execution_count": 2,
   "metadata": {},
   "outputs": [
    {
     "name": "stderr",
     "output_type": "stream",
     "text": [
      "\n",
      "Attaching package: 'FUNNEL'\n",
      "\n",
      "The following object is masked _by_ '.GlobalEnv':\n",
      "\n",
      "    genesets\n",
      "\n"
     ]
    }
   ],
   "source": [
    "library(FUNNEL)"
   ]
  },
  {
   "cell_type": "code",
   "execution_count": 3,
   "metadata": {},
   "outputs": [],
   "source": [
    "data(\"H3N2-Subj1\")"
   ]
  },
  {
   "cell_type": "code",
   "execution_count": 4,
   "metadata": {},
   "outputs": [
    {
     "data": {
      "text/html": [
       "<table>\n",
       "<caption>A matrix: 6 × 16 of type dbl</caption>\n",
       "<thead>\n",
       "\t<tr><th></th><th scope=col>t1</th><th scope=col>t2</th><th scope=col>t3</th><th scope=col>t4</th><th scope=col>t5</th><th scope=col>t6</th><th scope=col>t7</th><th scope=col>t8</th><th scope=col>t9</th><th scope=col>t10</th><th scope=col>t11</th><th scope=col>t12</th><th scope=col>t13</th><th scope=col>t14</th><th scope=col>t15</th><th scope=col>t16</th></tr>\n",
       "</thead>\n",
       "<tbody>\n",
       "\t<tr><th scope=row>NAT2</th><td>2.259996</td><td>1.657782</td><td>1.7681250</td><td>2.950019</td><td>0.8933544</td><td> 2.348802</td><td>1.695401</td><td>2.586248</td><td> 2.121075</td><td> 1.9909657</td><td> 2.974225</td><td> 2.802917</td><td> 2.180619</td><td> 2.217994</td><td> 1.208449</td><td> 2.209098</td></tr>\n",
       "\t<tr><th scope=row>ADA</th><td>9.383220</td><td>9.769721</td><td>9.6215153</td><td>9.972477</td><td>9.2971318</td><td>10.072950</td><td>8.534062</td><td>9.443215</td><td>10.201536</td><td>10.2954820</td><td>10.336942</td><td>10.246586</td><td>10.929355</td><td>10.475399</td><td>10.212740</td><td>10.443120</td></tr>\n",
       "\t<tr><th scope=row>CDH2</th><td>1.964964</td><td>2.736393</td><td>0.6173173</td><td>3.445766</td><td>1.0248657</td><td> 7.172638</td><td>1.885824</td><td>1.559056</td><td> 3.516772</td><td> 0.9983255</td><td> 5.966652</td><td> 2.478490</td><td> 1.784579</td><td> 4.825073</td><td> 1.354847</td><td> 1.055411</td></tr>\n",
       "\t<tr><th scope=row>AKT3</th><td>8.192801</td><td>8.386639</td><td>7.1447092</td><td>7.383454</td><td>7.4187718</td><td> 7.235153</td><td>6.720634</td><td>6.936061</td><td> 6.683823</td><td> 7.2399994</td><td> 7.812440</td><td> 8.158281</td><td> 7.496790</td><td> 7.076965</td><td> 7.617592</td><td> 7.777341</td></tr>\n",
       "\t<tr><th scope=row>MED6</th><td>7.534069</td><td>7.714891</td><td>7.0771041</td><td>7.611084</td><td>7.8028459</td><td> 6.302995</td><td>7.137688</td><td>6.927956</td><td> 6.986934</td><td> 6.8661167</td><td> 7.411977</td><td> 8.057320</td><td> 7.071838</td><td> 7.896345</td><td> 7.806550</td><td> 7.624459</td></tr>\n",
       "\t<tr><th scope=row>NR2E3</th><td>3.466614</td><td>1.692927</td><td>4.8827066</td><td>2.415634</td><td>4.6556838</td><td> 5.017142</td><td>5.327533</td><td>4.034885</td><td> 3.280551</td><td> 0.8799096</td><td> 2.859077</td><td> 4.094954</td><td> 4.059900</td><td> 1.655750</td><td> 1.268680</td><td> 3.869013</td></tr>\n",
       "</tbody>\n",
       "</table>\n"
      ],
      "text/latex": [
       "A matrix: 6 × 16 of type dbl\n",
       "\\begin{tabular}{r|llllllllllllllll}\n",
       "  & t1 & t2 & t3 & t4 & t5 & t6 & t7 & t8 & t9 & t10 & t11 & t12 & t13 & t14 & t15 & t16\\\\\n",
       "\\hline\n",
       "\tNAT2 & 2.259996 & 1.657782 & 1.7681250 & 2.950019 & 0.8933544 &  2.348802 & 1.695401 & 2.586248 &  2.121075 &  1.9909657 &  2.974225 &  2.802917 &  2.180619 &  2.217994 &  1.208449 &  2.209098\\\\\n",
       "\tADA & 9.383220 & 9.769721 & 9.6215153 & 9.972477 & 9.2971318 & 10.072950 & 8.534062 & 9.443215 & 10.201536 & 10.2954820 & 10.336942 & 10.246586 & 10.929355 & 10.475399 & 10.212740 & 10.443120\\\\\n",
       "\tCDH2 & 1.964964 & 2.736393 & 0.6173173 & 3.445766 & 1.0248657 &  7.172638 & 1.885824 & 1.559056 &  3.516772 &  0.9983255 &  5.966652 &  2.478490 &  1.784579 &  4.825073 &  1.354847 &  1.055411\\\\\n",
       "\tAKT3 & 8.192801 & 8.386639 & 7.1447092 & 7.383454 & 7.4187718 &  7.235153 & 6.720634 & 6.936061 &  6.683823 &  7.2399994 &  7.812440 &  8.158281 &  7.496790 &  7.076965 &  7.617592 &  7.777341\\\\\n",
       "\tMED6 & 7.534069 & 7.714891 & 7.0771041 & 7.611084 & 7.8028459 &  6.302995 & 7.137688 & 6.927956 &  6.986934 &  6.8661167 &  7.411977 &  8.057320 &  7.071838 &  7.896345 &  7.806550 &  7.624459\\\\\n",
       "\tNR2E3 & 3.466614 & 1.692927 & 4.8827066 & 2.415634 & 4.6556838 &  5.017142 & 5.327533 & 4.034885 &  3.280551 &  0.8799096 &  2.859077 &  4.094954 &  4.059900 &  1.655750 &  1.268680 &  3.869013\\\\\n",
       "\\end{tabular}\n"
      ],
      "text/markdown": [
       "\n",
       "A matrix: 6 × 16 of type dbl\n",
       "\n",
       "| <!--/--> | t1 | t2 | t3 | t4 | t5 | t6 | t7 | t8 | t9 | t10 | t11 | t12 | t13 | t14 | t15 | t16 |\n",
       "|---|---|---|---|---|---|---|---|---|---|---|---|---|---|---|---|---|\n",
       "| NAT2 | 2.259996 | 1.657782 | 1.7681250 | 2.950019 | 0.8933544 |  2.348802 | 1.695401 | 2.586248 |  2.121075 |  1.9909657 |  2.974225 |  2.802917 |  2.180619 |  2.217994 |  1.208449 |  2.209098 |\n",
       "| ADA | 9.383220 | 9.769721 | 9.6215153 | 9.972477 | 9.2971318 | 10.072950 | 8.534062 | 9.443215 | 10.201536 | 10.2954820 | 10.336942 | 10.246586 | 10.929355 | 10.475399 | 10.212740 | 10.443120 |\n",
       "| CDH2 | 1.964964 | 2.736393 | 0.6173173 | 3.445766 | 1.0248657 |  7.172638 | 1.885824 | 1.559056 |  3.516772 |  0.9983255 |  5.966652 |  2.478490 |  1.784579 |  4.825073 |  1.354847 |  1.055411 |\n",
       "| AKT3 | 8.192801 | 8.386639 | 7.1447092 | 7.383454 | 7.4187718 |  7.235153 | 6.720634 | 6.936061 |  6.683823 |  7.2399994 |  7.812440 |  8.158281 |  7.496790 |  7.076965 |  7.617592 |  7.777341 |\n",
       "| MED6 | 7.534069 | 7.714891 | 7.0771041 | 7.611084 | 7.8028459 |  6.302995 | 7.137688 | 6.927956 |  6.986934 |  6.8661167 |  7.411977 |  8.057320 |  7.071838 |  7.896345 |  7.806550 |  7.624459 |\n",
       "| NR2E3 | 3.466614 | 1.692927 | 4.8827066 | 2.415634 | 4.6556838 |  5.017142 | 5.327533 | 4.034885 |  3.280551 |  0.8799096 |  2.859077 |  4.094954 |  4.059900 |  1.655750 |  1.268680 |  3.869013 |\n",
       "\n"
      ],
      "text/plain": [
       "      t1       t2       t3        t4       t5        t6        t7      \n",
       "NAT2  2.259996 1.657782 1.7681250 2.950019 0.8933544  2.348802 1.695401\n",
       "ADA   9.383220 9.769721 9.6215153 9.972477 9.2971318 10.072950 8.534062\n",
       "CDH2  1.964964 2.736393 0.6173173 3.445766 1.0248657  7.172638 1.885824\n",
       "AKT3  8.192801 8.386639 7.1447092 7.383454 7.4187718  7.235153 6.720634\n",
       "MED6  7.534069 7.714891 7.0771041 7.611084 7.8028459  6.302995 7.137688\n",
       "NR2E3 3.466614 1.692927 4.8827066 2.415634 4.6556838  5.017142 5.327533\n",
       "      t8       t9        t10        t11       t12       t13       t14      \n",
       "NAT2  2.586248  2.121075  1.9909657  2.974225  2.802917  2.180619  2.217994\n",
       "ADA   9.443215 10.201536 10.2954820 10.336942 10.246586 10.929355 10.475399\n",
       "CDH2  1.559056  3.516772  0.9983255  5.966652  2.478490  1.784579  4.825073\n",
       "AKT3  6.936061  6.683823  7.2399994  7.812440  8.158281  7.496790  7.076965\n",
       "MED6  6.927956  6.986934  6.8661167  7.411977  8.057320  7.071838  7.896345\n",
       "NR2E3 4.034885  3.280551  0.8799096  2.859077  4.094954  4.059900  1.655750\n",
       "      t15       t16      \n",
       "NAT2   1.208449  2.209098\n",
       "ADA   10.212740 10.443120\n",
       "CDH2   1.354847  1.055411\n",
       "AKT3   7.617592  7.777341\n",
       "MED6   7.806550  7.624459\n",
       "NR2E3  1.268680  3.869013"
      ]
     },
     "metadata": {},
     "output_type": "display_data"
    },
    {
     "data": {
      "text/html": [
       "<ol class=list-inline>\n",
       "\t<li>11189</li>\n",
       "\t<li>16</li>\n",
       "</ol>\n"
      ],
      "text/latex": [
       "\\begin{enumerate*}\n",
       "\\item 11189\n",
       "\\item 16\n",
       "\\end{enumerate*}\n"
      ],
      "text/markdown": [
       "1. 11189\n",
       "2. 16\n",
       "\n",
       "\n"
      ],
      "text/plain": [
       "[1] 11189    16"
      ]
     },
     "metadata": {},
     "output_type": "display_data"
    },
    {
     "data": {
      "text/html": [
       "'matrix'"
      ],
      "text/latex": [
       "'matrix'"
      ],
      "text/markdown": [
       "'matrix'"
      ],
      "text/plain": [
       "[1] \"matrix\""
      ]
     },
     "metadata": {},
     "output_type": "display_data"
    }
   ],
   "source": [
    "#check expression data\n",
    "head(X)\n",
    "dim(X)\n",
    "class(X)"
   ]
  },
  {
   "cell_type": "markdown",
   "metadata": {},
   "source": [
    "The author recommends to conduct the analysis in individual replicate and then combine the p-values using some meta data analysis techniques, such as Fisher’s p-value combination."
   ]
  },
  {
   "cell_type": "code",
   "execution_count": 5,
   "metadata": {},
   "outputs": [
    {
     "data": {
      "text/html": [
       "'numeric'"
      ],
      "text/latex": [
       "'numeric'"
      ],
      "text/markdown": [
       "'numeric'"
      ],
      "text/plain": [
       "[1] \"numeric\""
      ]
     },
     "metadata": {},
     "output_type": "display_data"
    },
    {
     "data": {
      "text/html": [
       "<ol class=list-inline>\n",
       "\t<li>-24</li>\n",
       "\t<li>0</li>\n",
       "\t<li>5</li>\n",
       "\t<li>12</li>\n",
       "\t<li>21.5</li>\n",
       "\t<li>29</li>\n",
       "\t<li>36</li>\n",
       "\t<li>45.5</li>\n",
       "\t<li>53</li>\n",
       "\t<li>60</li>\n",
       "\t<li>69.5</li>\n",
       "\t<li>77</li>\n",
       "\t<li>84</li>\n",
       "\t<li>93.5</li>\n",
       "\t<li>101</li>\n",
       "\t<li>108</li>\n",
       "</ol>\n"
      ],
      "text/latex": [
       "\\begin{enumerate*}\n",
       "\\item -24\n",
       "\\item 0\n",
       "\\item 5\n",
       "\\item 12\n",
       "\\item 21.5\n",
       "\\item 29\n",
       "\\item 36\n",
       "\\item 45.5\n",
       "\\item 53\n",
       "\\item 60\n",
       "\\item 69.5\n",
       "\\item 77\n",
       "\\item 84\n",
       "\\item 93.5\n",
       "\\item 101\n",
       "\\item 108\n",
       "\\end{enumerate*}\n"
      ],
      "text/markdown": [
       "1. -24\n",
       "2. 0\n",
       "3. 5\n",
       "4. 12\n",
       "5. 21.5\n",
       "6. 29\n",
       "7. 36\n",
       "8. 45.5\n",
       "9. 53\n",
       "10. 60\n",
       "11. 69.5\n",
       "12. 77\n",
       "13. 84\n",
       "14. 93.5\n",
       "15. 101\n",
       "16. 108\n",
       "\n",
       "\n"
      ],
      "text/plain": [
       " [1] -24.0   0.0   5.0  12.0  21.5  29.0  36.0  45.5  53.0  60.0  69.5  77.0\n",
       "[13]  84.0  93.5 101.0 108.0"
      ]
     },
     "metadata": {},
     "output_type": "display_data"
    }
   ],
   "source": [
    "#check timepoint about expression data\n",
    "class(tt)\n",
    "tt"
   ]
  },
  {
   "cell_type": "code",
   "execution_count": 6,
   "metadata": {},
   "outputs": [],
   "source": [
    "genesets = qusage::read.gmt(\"c2.cp.kegg.v7.0.symbols.gmt\")"
   ]
  },
  {
   "cell_type": "code",
   "execution_count": 7,
   "metadata": {},
   "outputs": [
    {
     "name": "stderr",
     "output_type": "stream",
     "text": [
      "Warning message in interpp.old(x, y, z, xo, yo, ncp = 0, extrap = FALSE, duplicate = duplicate, :\n",
      "\"interpp.old() is deprecated, future versions will only provide interpp()\"Warning message in interpp.old(x, y, z, xo, yo, ncp = 0, extrap = FALSE, duplicate = duplicate, :\n",
      "\"interpp.old() is deprecated, future versions will only provide interpp()\""
     ]
    },
    {
     "name": "stdout",
     "output_type": "stream",
     "text": [
      "26 real eigenvalues are negative or zero and are removed!\n",
      "Weight calculation... \n",
      "Gene set test... \n"
     ]
    }
   ],
   "source": [
    "## It takes about 10 minutes to run on my Laptop; YMMV.\n",
    "t1 <- system.time(results1 <- FUNNEL.GSEA(X, tt, genesets=genesets))"
   ]
  },
  {
   "cell_type": "code",
   "execution_count": 8,
   "metadata": {},
   "outputs": [
    {
     "data": {
      "text/html": [
       "<dl class=dl-horizontal>\n",
       "\t<dt>KEGG_B_CELL_RECEPTOR_SIGNALING_PATHWAY</dt>\n",
       "\t\t<dd>0.00243230065033502</dd>\n",
       "\t<dt>KEGG_APOPTOSIS</dt>\n",
       "\t\t<dd>0.002920161163904</dd>\n",
       "\t<dt>KEGG_NATURAL_KILLER_CELL_MEDIATED_CYTOTOXICITY</dt>\n",
       "\t\t<dd>0.00461675464396849</dd>\n",
       "\t<dt>KEGG_LEISHMANIA_INFECTION</dt>\n",
       "\t\t<dd>0.00668310958778822</dd>\n",
       "\t<dt>KEGG_NOD_LIKE_RECEPTOR_SIGNALING_PATHWAY</dt>\n",
       "\t\t<dd>0.00695418523448238</dd>\n",
       "\t<dt>KEGG_PHOSPHATIDYLINOSITOL_SIGNALING_SYSTEM</dt>\n",
       "\t\t<dd>0.00915663208306748</dd>\n",
       "</dl>\n"
      ],
      "text/latex": [
       "\\begin{description*}\n",
       "\\item[KEGG\\textbackslash{}\\_B\\textbackslash{}\\_CELL\\textbackslash{}\\_RECEPTOR\\textbackslash{}\\_SIGNALING\\textbackslash{}\\_PATHWAY] 0.00243230065033502\n",
       "\\item[KEGG\\textbackslash{}\\_APOPTOSIS] 0.002920161163904\n",
       "\\item[KEGG\\textbackslash{}\\_NATURAL\\textbackslash{}\\_KILLER\\textbackslash{}\\_CELL\\textbackslash{}\\_MEDIATED\\textbackslash{}\\_CYTOTOXICITY] 0.00461675464396849\n",
       "\\item[KEGG\\textbackslash{}\\_LEISHMANIA\\textbackslash{}\\_INFECTION] 0.00668310958778822\n",
       "\\item[KEGG\\textbackslash{}\\_NOD\\textbackslash{}\\_LIKE\\textbackslash{}\\_RECEPTOR\\textbackslash{}\\_SIGNALING\\textbackslash{}\\_PATHWAY] 0.00695418523448238\n",
       "\\item[KEGG\\textbackslash{}\\_PHOSPHATIDYLINOSITOL\\textbackslash{}\\_SIGNALING\\textbackslash{}\\_SYSTEM] 0.00915663208306748\n",
       "\\end{description*}\n"
      ],
      "text/markdown": [
       "KEGG_B_CELL_RECEPTOR_SIGNALING_PATHWAY\n",
       ":   0.00243230065033502KEGG_APOPTOSIS\n",
       ":   0.002920161163904KEGG_NATURAL_KILLER_CELL_MEDIATED_CYTOTOXICITY\n",
       ":   0.00461675464396849KEGG_LEISHMANIA_INFECTION\n",
       ":   0.00668310958778822KEGG_NOD_LIKE_RECEPTOR_SIGNALING_PATHWAY\n",
       ":   0.00695418523448238KEGG_PHOSPHATIDYLINOSITOL_SIGNALING_SYSTEM\n",
       ":   0.00915663208306748\n",
       "\n"
      ],
      "text/plain": [
       "        KEGG_B_CELL_RECEPTOR_SIGNALING_PATHWAY \n",
       "                                   0.002432301 \n",
       "                                KEGG_APOPTOSIS \n",
       "                                   0.002920161 \n",
       "KEGG_NATURAL_KILLER_CELL_MEDIATED_CYTOTOXICITY \n",
       "                                   0.004616755 \n",
       "                     KEGG_LEISHMANIA_INFECTION \n",
       "                                   0.006683110 \n",
       "      KEGG_NOD_LIKE_RECEPTOR_SIGNALING_PATHWAY \n",
       "                                   0.006954185 \n",
       "    KEGG_PHOSPHATIDYLINOSITOL_SIGNALING_SYSTEM \n",
       "                                   0.009156632 "
      ]
     },
     "metadata": {},
     "output_type": "display_data"
    }
   ],
   "source": [
    "head(results1$pvals)"
   ]
  },
  {
   "cell_type": "code",
   "execution_count": 11,
   "metadata": {},
   "outputs": [
    {
     "data": {
      "text/html": [
       "<table>\n",
       "<caption>A matrix: 30 × 1 of type chr</caption>\n",
       "<tbody>\n",
       "\t<tr><td>KEGG_B_CELL_RECEPTOR_SIGNALING_PATHWAY                         </td></tr>\n",
       "\t<tr><td>KEGG_APOPTOSIS                                                 </td></tr>\n",
       "\t<tr><td>KEGG_NATURAL_KILLER_CELL_MEDIATED_CYTOTOXICITY                 </td></tr>\n",
       "\t<tr><td>KEGG_LEISHMANIA_INFECTION                                      </td></tr>\n",
       "\t<tr><td>KEGG_NOD_LIKE_RECEPTOR_SIGNALING_PATHWAY                       </td></tr>\n",
       "\t<tr><td>KEGG_PHOSPHATIDYLINOSITOL_SIGNALING_SYSTEM                     </td></tr>\n",
       "\t<tr><td>KEGG_CYTOSOLIC_DNA_SENSING_PATHWAY                             </td></tr>\n",
       "\t<tr><td>KEGG_TOLL_LIKE_RECEPTOR_SIGNALING_PATHWAY                      </td></tr>\n",
       "\t<tr><td>KEGG_NON_SMALL_CELL_LUNG_CANCER                                </td></tr>\n",
       "\t<tr><td>KEGG_RIG_I_LIKE_RECEPTOR_SIGNALING_PATHWAY                     </td></tr>\n",
       "\t<tr><td>KEGG_PENTOSE_PHOSPHATE_PATHWAY                                 </td></tr>\n",
       "\t<tr><td>KEGG_PYRUVATE_METABOLISM                                       </td></tr>\n",
       "\t<tr><td>KEGG_RENAL_CELL_CARCINOMA                                      </td></tr>\n",
       "\t<tr><td>KEGG_HEMATOPOIETIC_CELL_LINEAGE                                </td></tr>\n",
       "\t<tr><td>KEGG_NUCLEOTIDE_EXCISION_REPAIR                                </td></tr>\n",
       "\t<tr><td>KEGG_EPITHELIAL_CELL_SIGNALING_IN_HELICOBACTER_PYLORI_INFECTION</td></tr>\n",
       "\t<tr><td>KEGG_T_CELL_RECEPTOR_SIGNALING_PATHWAY                         </td></tr>\n",
       "\t<tr><td>KEGG_INOSITOL_PHOSPHATE_METABOLISM                             </td></tr>\n",
       "\t<tr><td>KEGG_PEROXISOME                                                </td></tr>\n",
       "\t<tr><td>KEGG_PROGESTERONE_MEDIATED_OOCYTE_MATURATION                   </td></tr>\n",
       "\t<tr><td>KEGG_CIRCADIAN_RHYTHM_MAMMAL                                   </td></tr>\n",
       "\t<tr><td>KEGG_UBIQUITIN_MEDIATED_PROTEOLYSIS                            </td></tr>\n",
       "\t<tr><td>KEGG_ANTIGEN_PROCESSING_AND_PRESENTATION                       </td></tr>\n",
       "\t<tr><td>KEGG_CITRATE_CYCLE_TCA_CYCLE                                   </td></tr>\n",
       "\t<tr><td>KEGG_PATHOGENIC_ESCHERICHIA_COLI_INFECTION                     </td></tr>\n",
       "\t<tr><td>KEGG_PATHWAYS_IN_CANCER                                        </td></tr>\n",
       "\t<tr><td>KEGG_ONE_CARBON_POOL_BY_FOLATE                                 </td></tr>\n",
       "\t<tr><td>KEGG_PROTEIN_EXPORT                                            </td></tr>\n",
       "\t<tr><td>KEGG_ALZHEIMERS_DISEASE                                        </td></tr>\n",
       "\t<tr><td>KEGG_N_GLYCAN_BIOSYNTHESIS                                     </td></tr>\n",
       "</tbody>\n",
       "</table>\n"
      ],
      "text/latex": [
       "A matrix: 30 × 1 of type chr\n",
       "\\begin{tabular}{l}\n",
       "\t KEGG\\_B\\_CELL\\_RECEPTOR\\_SIGNALING\\_PATHWAY                         \\\\\n",
       "\t KEGG\\_APOPTOSIS                                                 \\\\\n",
       "\t KEGG\\_NATURAL\\_KILLER\\_CELL\\_MEDIATED\\_CYTOTOXICITY                 \\\\\n",
       "\t KEGG\\_LEISHMANIA\\_INFECTION                                      \\\\\n",
       "\t KEGG\\_NOD\\_LIKE\\_RECEPTOR\\_SIGNALING\\_PATHWAY                       \\\\\n",
       "\t KEGG\\_PHOSPHATIDYLINOSITOL\\_SIGNALING\\_SYSTEM                     \\\\\n",
       "\t KEGG\\_CYTOSOLIC\\_DNA\\_SENSING\\_PATHWAY                             \\\\\n",
       "\t KEGG\\_TOLL\\_LIKE\\_RECEPTOR\\_SIGNALING\\_PATHWAY                      \\\\\n",
       "\t KEGG\\_NON\\_SMALL\\_CELL\\_LUNG\\_CANCER                                \\\\\n",
       "\t KEGG\\_RIG\\_I\\_LIKE\\_RECEPTOR\\_SIGNALING\\_PATHWAY                     \\\\\n",
       "\t KEGG\\_PENTOSE\\_PHOSPHATE\\_PATHWAY                                 \\\\\n",
       "\t KEGG\\_PYRUVATE\\_METABOLISM                                       \\\\\n",
       "\t KEGG\\_RENAL\\_CELL\\_CARCINOMA                                      \\\\\n",
       "\t KEGG\\_HEMATOPOIETIC\\_CELL\\_LINEAGE                                \\\\\n",
       "\t KEGG\\_NUCLEOTIDE\\_EXCISION\\_REPAIR                                \\\\\n",
       "\t KEGG\\_EPITHELIAL\\_CELL\\_SIGNALING\\_IN\\_HELICOBACTER\\_PYLORI\\_INFECTION\\\\\n",
       "\t KEGG\\_T\\_CELL\\_RECEPTOR\\_SIGNALING\\_PATHWAY                         \\\\\n",
       "\t KEGG\\_INOSITOL\\_PHOSPHATE\\_METABOLISM                             \\\\\n",
       "\t KEGG\\_PEROXISOME                                                \\\\\n",
       "\t KEGG\\_PROGESTERONE\\_MEDIATED\\_OOCYTE\\_MATURATION                   \\\\\n",
       "\t KEGG\\_CIRCADIAN\\_RHYTHM\\_MAMMAL                                   \\\\\n",
       "\t KEGG\\_UBIQUITIN\\_MEDIATED\\_PROTEOLYSIS                            \\\\\n",
       "\t KEGG\\_ANTIGEN\\_PROCESSING\\_AND\\_PRESENTATION                       \\\\\n",
       "\t KEGG\\_CITRATE\\_CYCLE\\_TCA\\_CYCLE                                   \\\\\n",
       "\t KEGG\\_PATHOGENIC\\_ESCHERICHIA\\_COLI\\_INFECTION                     \\\\\n",
       "\t KEGG\\_PATHWAYS\\_IN\\_CANCER                                        \\\\\n",
       "\t KEGG\\_ONE\\_CARBON\\_POOL\\_BY\\_FOLATE                                 \\\\\n",
       "\t KEGG\\_PROTEIN\\_EXPORT                                            \\\\\n",
       "\t KEGG\\_ALZHEIMERS\\_DISEASE                                        \\\\\n",
       "\t KEGG\\_N\\_GLYCAN\\_BIOSYNTHESIS                                     \\\\\n",
       "\\end{tabular}\n"
      ],
      "text/markdown": [
       "\n",
       "A matrix: 30 × 1 of type chr\n",
       "\n",
       "| KEGG_B_CELL_RECEPTOR_SIGNALING_PATHWAY                          |\n",
       "| KEGG_APOPTOSIS                                                  |\n",
       "| KEGG_NATURAL_KILLER_CELL_MEDIATED_CYTOTOXICITY                  |\n",
       "| KEGG_LEISHMANIA_INFECTION                                       |\n",
       "| KEGG_NOD_LIKE_RECEPTOR_SIGNALING_PATHWAY                        |\n",
       "| KEGG_PHOSPHATIDYLINOSITOL_SIGNALING_SYSTEM                      |\n",
       "| KEGG_CYTOSOLIC_DNA_SENSING_PATHWAY                              |\n",
       "| KEGG_TOLL_LIKE_RECEPTOR_SIGNALING_PATHWAY                       |\n",
       "| KEGG_NON_SMALL_CELL_LUNG_CANCER                                 |\n",
       "| KEGG_RIG_I_LIKE_RECEPTOR_SIGNALING_PATHWAY                      |\n",
       "| KEGG_PENTOSE_PHOSPHATE_PATHWAY                                  |\n",
       "| KEGG_PYRUVATE_METABOLISM                                        |\n",
       "| KEGG_RENAL_CELL_CARCINOMA                                       |\n",
       "| KEGG_HEMATOPOIETIC_CELL_LINEAGE                                 |\n",
       "| KEGG_NUCLEOTIDE_EXCISION_REPAIR                                 |\n",
       "| KEGG_EPITHELIAL_CELL_SIGNALING_IN_HELICOBACTER_PYLORI_INFECTION |\n",
       "| KEGG_T_CELL_RECEPTOR_SIGNALING_PATHWAY                          |\n",
       "| KEGG_INOSITOL_PHOSPHATE_METABOLISM                              |\n",
       "| KEGG_PEROXISOME                                                 |\n",
       "| KEGG_PROGESTERONE_MEDIATED_OOCYTE_MATURATION                    |\n",
       "| KEGG_CIRCADIAN_RHYTHM_MAMMAL                                    |\n",
       "| KEGG_UBIQUITIN_MEDIATED_PROTEOLYSIS                             |\n",
       "| KEGG_ANTIGEN_PROCESSING_AND_PRESENTATION                        |\n",
       "| KEGG_CITRATE_CYCLE_TCA_CYCLE                                    |\n",
       "| KEGG_PATHOGENIC_ESCHERICHIA_COLI_INFECTION                      |\n",
       "| KEGG_PATHWAYS_IN_CANCER                                         |\n",
       "| KEGG_ONE_CARBON_POOL_BY_FOLATE                                  |\n",
       "| KEGG_PROTEIN_EXPORT                                             |\n",
       "| KEGG_ALZHEIMERS_DISEASE                                         |\n",
       "| KEGG_N_GLYCAN_BIOSYNTHESIS                                      |\n",
       "\n"
      ],
      "text/plain": [
       "      [,1]                                                           \n",
       " [1,] KEGG_B_CELL_RECEPTOR_SIGNALING_PATHWAY                         \n",
       " [2,] KEGG_APOPTOSIS                                                 \n",
       " [3,] KEGG_NATURAL_KILLER_CELL_MEDIATED_CYTOTOXICITY                 \n",
       " [4,] KEGG_LEISHMANIA_INFECTION                                      \n",
       " [5,] KEGG_NOD_LIKE_RECEPTOR_SIGNALING_PATHWAY                       \n",
       " [6,] KEGG_PHOSPHATIDYLINOSITOL_SIGNALING_SYSTEM                     \n",
       " [7,] KEGG_CYTOSOLIC_DNA_SENSING_PATHWAY                             \n",
       " [8,] KEGG_TOLL_LIKE_RECEPTOR_SIGNALING_PATHWAY                      \n",
       " [9,] KEGG_NON_SMALL_CELL_LUNG_CANCER                                \n",
       "[10,] KEGG_RIG_I_LIKE_RECEPTOR_SIGNALING_PATHWAY                     \n",
       "[11,] KEGG_PENTOSE_PHOSPHATE_PATHWAY                                 \n",
       "[12,] KEGG_PYRUVATE_METABOLISM                                       \n",
       "[13,] KEGG_RENAL_CELL_CARCINOMA                                      \n",
       "[14,] KEGG_HEMATOPOIETIC_CELL_LINEAGE                                \n",
       "[15,] KEGG_NUCLEOTIDE_EXCISION_REPAIR                                \n",
       "[16,] KEGG_EPITHELIAL_CELL_SIGNALING_IN_HELICOBACTER_PYLORI_INFECTION\n",
       "[17,] KEGG_T_CELL_RECEPTOR_SIGNALING_PATHWAY                         \n",
       "[18,] KEGG_INOSITOL_PHOSPHATE_METABOLISM                             \n",
       "[19,] KEGG_PEROXISOME                                                \n",
       "[20,] KEGG_PROGESTERONE_MEDIATED_OOCYTE_MATURATION                   \n",
       "[21,] KEGG_CIRCADIAN_RHYTHM_MAMMAL                                   \n",
       "[22,] KEGG_UBIQUITIN_MEDIATED_PROTEOLYSIS                            \n",
       "[23,] KEGG_ANTIGEN_PROCESSING_AND_PRESENTATION                       \n",
       "[24,] KEGG_CITRATE_CYCLE_TCA_CYCLE                                   \n",
       "[25,] KEGG_PATHOGENIC_ESCHERICHIA_COLI_INFECTION                     \n",
       "[26,] KEGG_PATHWAYS_IN_CANCER                                        \n",
       "[27,] KEGG_ONE_CARBON_POOL_BY_FOLATE                                 \n",
       "[28,] KEGG_PROTEIN_EXPORT                                            \n",
       "[29,] KEGG_ALZHEIMERS_DISEASE                                        \n",
       "[30,] KEGG_N_GLYCAN_BIOSYNTHESIS                                     "
      ]
     },
     "metadata": {},
     "output_type": "display_data"
    }
   ],
   "source": [
    "#Get the siginificant genesets\n",
    "matrix(results1[[\"sig.genesets\"]])"
   ]
  },
  {
   "cell_type": "markdown",
   "metadata": {},
   "source": [
    "# Get a list of weights for the pre-specified genes"
   ]
  },
  {
   "cell_type": "code",
   "execution_count": null,
   "metadata": {},
   "outputs": [],
   "source": [
    "weightPerGene(weight.list, genesOfInterest)"
   ]
  },
  {
   "cell_type": "markdown",
   "metadata": {},
   "source": [
    "parameter|description\n",
    "---------|---------\n",
    "weight.list\t|A list of weights (a.k.a. empirical gene set membership) computed from the elastic-net regression.\n",
    "genesOfInterest\t|A vector of genes of interest."
   ]
  },
  {
   "cell_type": "code",
   "execution_count": 12,
   "metadata": {},
   "outputs": [
    {
     "data": {
      "text/html": [
       "<dl>\n",
       "\t<dt>$TLR5</dt>\n",
       "\t\t<dd><dl class=dl-horizontal>\n",
       "\t<dt>KEGG_TOLL_LIKE_RECEPTOR_SIGNALING_PATHWAY</dt>\n",
       "\t\t<dd>0.0982251124891756</dd>\n",
       "\t<dt>KEGG_PATHOGENIC_ESCHERICHIA_COLI_INFECTION</dt>\n",
       "\t\t<dd>0.901774887510824</dd>\n",
       "</dl>\n",
       "</dd>\n",
       "\t<dt>$C3AR1</dt>\n",
       "\t\t<dd><dl class=dl-horizontal>\n",
       "\t<dt>KEGG_NEUROACTIVE_LIGAND_RECEPTOR_INTERACTION</dt>\n",
       "\t\t<dd>0</dd>\n",
       "\t<dt>KEGG_COMPLEMENT_AND_COAGULATION_CASCADES</dt>\n",
       "\t\t<dd>1</dd>\n",
       "</dl>\n",
       "</dd>\n",
       "</dl>\n"
      ],
      "text/latex": [
       "\\begin{description}\n",
       "\\item[\\$TLR5] \\begin{description*}\n",
       "\\item[KEGG\\textbackslash{}\\_TOLL\\textbackslash{}\\_LIKE\\textbackslash{}\\_RECEPTOR\\textbackslash{}\\_SIGNALING\\textbackslash{}\\_PATHWAY] 0.0982251124891756\n",
       "\\item[KEGG\\textbackslash{}\\_PATHOGENIC\\textbackslash{}\\_ESCHERICHIA\\textbackslash{}\\_COLI\\textbackslash{}\\_INFECTION] 0.901774887510824\n",
       "\\end{description*}\n",
       "\n",
       "\\item[\\$C3AR1] \\begin{description*}\n",
       "\\item[KEGG\\textbackslash{}\\_NEUROACTIVE\\textbackslash{}\\_LIGAND\\textbackslash{}\\_RECEPTOR\\textbackslash{}\\_INTERACTION] 0\n",
       "\\item[KEGG\\textbackslash{}\\_COMPLEMENT\\textbackslash{}\\_AND\\textbackslash{}\\_COAGULATION\\textbackslash{}\\_CASCADES] 1\n",
       "\\end{description*}\n",
       "\n",
       "\\end{description}\n"
      ],
      "text/markdown": [
       "$TLR5\n",
       ":   KEGG_TOLL_LIKE_RECEPTOR_SIGNALING_PATHWAY\n",
       ":   0.0982251124891756KEGG_PATHOGENIC_ESCHERICHIA_COLI_INFECTION\n",
       ":   0.901774887510824\n",
       "\n",
       "\n",
       "$C3AR1\n",
       ":   KEGG_NEUROACTIVE_LIGAND_RECEPTOR_INTERACTION\n",
       ":   0KEGG_COMPLEMENT_AND_COAGULATION_CASCADES\n",
       ":   1\n",
       "\n",
       "\n",
       "\n",
       "\n"
      ],
      "text/plain": [
       "$TLR5\n",
       " KEGG_TOLL_LIKE_RECEPTOR_SIGNALING_PATHWAY \n",
       "                                0.09822511 \n",
       "KEGG_PATHOGENIC_ESCHERICHIA_COLI_INFECTION \n",
       "                                0.90177489 \n",
       "\n",
       "$C3AR1\n",
       "KEGG_NEUROACTIVE_LIGAND_RECEPTOR_INTERACTION \n",
       "                                           0 \n",
       "    KEGG_COMPLEMENT_AND_COAGULATION_CASCADES \n",
       "                                           1 \n"
      ]
     },
     "metadata": {},
     "output_type": "display_data"
    }
   ],
   "source": [
    "#example to get weight about TLR5 and C3AR1\n",
    "weightPerGene(results1$weight.list, c(\"TLR5\", \"C3AR1\"))"
   ]
  },
  {
   "cell_type": "markdown",
   "metadata": {},
   "source": [
    "# pre-calculated weights for the correlated observations in the test group\n",
    "\n",
    "`wMWUTest()` is an extension of the two-sample Mann-Whitney U test (a.k.a. rank sum test) which incorporates pre-calculated weights for the correlated observations in the test group. Note that the pre-calculated correlation only applies to the test group (the gene set of interest). The correlation of the background genes is assumed to be zero. Pre-calculated weights are typically computed by function FUNNEL.GSEA()."
   ]
  },
  {
   "cell_type": "code",
   "execution_count": null,
   "metadata": {},
   "outputs": [],
   "source": [
    "wMWUTest(test.index, statistics, weight=NULL, correlation=0, df=Inf)"
   ]
  },
  {
   "cell_type": "markdown",
   "metadata": {},
   "source": [
    "parameter|description\n",
    "---------|---------\n",
    "test.index\t|A vector of indices (or names) of genes that belong to the test group (the gene set to be tested).\n",
    "statistics\t|A (named) numeric vector contains all the elements (summary statistics or observed values) from *both* groups, such that statitics[test.index] is a vector of statistics of the test set.\n",
    "weight\t|A numeric vector, of the same length as test.index, giving weights for the elements in the test group. If NULL, all elements are weighted equally with unit weight.\n",
    "correlation\t|An estimate of the correlation in the test group. Genes in the second group are assumed to be independent of each other and of the genes in the test group.\n",
    "df\t|Degrees of freedom, based on which the correlation is estimated. For FUNNEL.GSEA, we define df = number of time points -1.\n",
    "\n"
   ]
  },
  {
   "cell_type": "code",
   "execution_count": 14,
   "metadata": {},
   "outputs": [
    {
     "data": {
      "text/html": [
       "<strong>greater:</strong> 0.0309062184650181"
      ],
      "text/latex": [
       "\\textbf{greater:} 0.0309062184650181"
      ],
      "text/markdown": [
       "**greater:** 0.0309062184650181"
      ],
      "text/plain": [
       "   greater \n",
       "0.03090622 "
      ]
     },
     "metadata": {},
     "output_type": "display_data"
    },
    {
     "data": {
      "text/html": [
       "<strong>KEGG_PEROXISOME:</strong> 0.0309062184650181"
      ],
      "text/latex": [
       "\\textbf{KEGG\\textbackslash{}\\_PEROXISOME:} 0.0309062184650181"
      ],
      "text/markdown": [
       "**KEGG_PEROXISOME:** 0.0309062184650181"
      ],
      "text/plain": [
       "KEGG_PEROXISOME \n",
       "     0.03090622 "
      ]
     },
     "metadata": {},
     "output_type": "display_data"
    }
   ],
   "source": [
    "genesets2 <- lapply(genesets, function(z) { intersect(z, rownames(X)) })\n",
    "    gg1 <- genesets2[[\"KEGG_PEROXISOME\"]]\n",
    "    ww1 <- results1$weight.list[[\"KEGG_PEROXISOME\"]]\n",
    "    rho <- results1$correlation\n",
    "\n",
    "    ## The test\n",
    "    test1 <- wMWUTest(gg1, results1$Fstats, ww1, rho, df=15)\n",
    "    ## p-value for the gene set test\n",
    "    test1[\"greater\"]\n",
    "\n",
    "    ## Should be the same as the p-value below\n",
    "    results1$pvals[\"KEGG_PEROXISOME\"]"
   ]
  },
  {
   "cell_type": "markdown",
   "metadata": {},
   "source": [
    "# plot a particular gene set"
   ]
  },
  {
   "cell_type": "code",
   "execution_count": 15,
   "metadata": {},
   "outputs": [
    {
     "data": {
      "image/png": "[encoded data removed]",
      "text/plain": [
       "plot without title"
      ]
     },
     "metadata": {},
     "output_type": "display_data"
    }
   ],
   "source": [
    "## Generate a heatmap of weights for a particular gene set\n",
    "    plotWeight(results1$weight.list, \"KEGG_B_CELL_RECEPTOR_SIGNALING_PATHWAY\")"
   ]
  },
  {
   "cell_type": "code",
   "execution_count": null,
   "metadata": {},
   "outputs": [],
   "source": []
  }
 ],
 "metadata": {
  "kernelspec": {
   "display_name": "R",
   "language": "R",
   "name": "ir"
  },
  "language_info": {
   "codemirror_mode": "r",
   "file_extension": ".r",
   "mimetype": "text/x-r-source",
   "name": "R",
   "pygments_lexer": "r",
   "version": "3.6.1"
  },
  "toc": {
   "base_numbering": 1,
   "nav_menu": {},
   "number_sections": true,
   "sideBar": true,
   "skip_h1_title": false,
   "title_cell": "Table of Contents",
   "title_sidebar": "Contents",
   "toc_cell": false,
   "toc_position": {},
   "toc_section_display": true,
   "toc_window_display": false
  }
 },
 "nbformat": 4,
 "nbformat_minor": 2
}
