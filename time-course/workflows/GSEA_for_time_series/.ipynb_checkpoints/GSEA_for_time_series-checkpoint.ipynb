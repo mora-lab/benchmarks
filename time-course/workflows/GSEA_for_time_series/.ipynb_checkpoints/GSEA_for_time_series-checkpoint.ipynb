{
 "cells": [
  {
   "cell_type": "markdown",
   "metadata": {},
   "source": [
    "In our tutorial, we will discuss time course data with two groups."
   ]
  },
  {
   "cell_type": "markdown",
   "metadata": {},
   "source": [
    "# Install GSEA software"
   ]
  },
  {
   "cell_type": "markdown",
   "metadata": {},
   "source": [
    "##  install JAVA software \n",
    "\n",
    "**You need to [install JAVA software](https://nbviewer.jupyter.org/github/xiaowei3223/GREGgraphAlgorithms/blob/master/workshop2/InstallJava.ipynb) at first when you install GSEA software.**\n",
    "\n",
    "## download GSEA software\n",
    "GSEA software downloaded from web  http://software.broadinstitute.org/gsea/downloads.jsp. In our case, we downloaded `GSEA_Win_4.0.1-installer.exe`.\n",
    "![downloadGSEA.png](./images/downloadGSEA.png)\n",
    "\n",
    "## install GSEA software\n",
    "After downloaded GSEA software, we install GSEA as default or choose your dirctory.\n",
    "**Start GSEA software**, you can see the interface like this pictures.\n",
    "![interface.png](./images/interface.png)\n"
   ]
  },
  {
   "cell_type": "markdown",
   "metadata": {},
   "source": [
    "# Preparing Data for GSEA"
   ]
  },
  {
   "cell_type": "markdown",
   "metadata": {},
   "source": [
    "In my example to show you how prepared data from GEO."
   ]
  },
  {
   "cell_type": "markdown",
   "metadata": {},
   "source": [
    "Create a function for get expression data and phenotype data"
   ]
  },
  {
   "cell_type": "code",
   "execution_count": 1,
   "metadata": {},
   "outputs": [
    {
     "name": "stderr",
     "output_type": "stream",
     "text": [
      "Your code contains a unicode char which cannot be displayed in your\n",
      "current locale and R will silently convert it to an escaped form when the\n",
      "R kernel executes this code. This can lead to subtle errors if you use\n",
      "such chars to do comparisons. For more information, please see\n",
      "https://github.com/IRkernel/repr/wiki/Problems-with-unicode-on-windows"
     ]
    }
   ],
   "source": [
    "getExpr_pdata <- function(GSE_name){\n",
    "    \n",
    "    if (!requireNamespace(\"GEOquery\", quietly = TRUE)){\n",
    "        if (!requireNamespace(\"BiocManager\", quietly = TRUE)){\n",
    "            install.packages(\"BiocManager\")}\n",
    "        BiocManager::install(\"GEOquery\")}\n",
    "    \n",
    "    library(GEOquery)\n",
    "    options( 'download.file.method.GEOquery' = 'libcurl' ) #windows系统\n",
    "    gset <- getGEO( GSE_name, getGPL = F )\n",
    "    Gset <- gset[[1]]\n",
    "    exprSet = as.data.frame(exprs(Gset)) #get expressionset data frame from Gset\n",
    "    pdata<-pData(Gset) ##To get sample informations, we use pdata() function in GEOquery packages.\n",
    "\n",
    "    return(list(exprSet,pdata))\n",
    "}"
   ]
  },
  {
   "cell_type": "code",
   "execution_count": 2,
   "metadata": {},
   "outputs": [
    {
     "name": "stderr",
     "output_type": "stream",
     "text": [
      "Setting options('download.file.method.GEOquery'='auto')\n",
      "Setting options('GEOquery.inmemory.gpl'=FALSE)\n",
      "Loading required package: Biobase\n",
      "Loading required package: BiocGenerics\n",
      "Loading required package: parallel\n",
      "\n",
      "Attaching package: 'BiocGenerics'\n",
      "\n",
      "The following objects are masked from 'package:parallel':\n",
      "\n",
      "    clusterApply, clusterApplyLB, clusterCall, clusterEvalQ,\n",
      "    clusterExport, clusterMap, parApply, parCapply, parLapply,\n",
      "    parLapplyLB, parRapply, parSapply, parSapplyLB\n",
      "\n",
      "The following objects are masked from 'package:stats':\n",
      "\n",
      "    IQR, mad, sd, var, xtabs\n",
      "\n",
      "The following objects are masked from 'package:base':\n",
      "\n",
      "    anyDuplicated, append, as.data.frame, basename, cbind, colnames,\n",
      "    dirname, do.call, duplicated, eval, evalq, Filter, Find, get, grep,\n",
      "    grepl, intersect, is.unsorted, lapply, Map, mapply, match, mget,\n",
      "    order, paste, pmax, pmax.int, pmin, pmin.int, Position, rank,\n",
      "    rbind, Reduce, rownames, sapply, setdiff, sort, table, tapply,\n",
      "    union, unique, unsplit, which, which.max, which.min\n",
      "\n",
      "Welcome to Bioconductor\n",
      "\n",
      "    Vignettes contain introductory material; view with\n",
      "    'browseVignettes()'. To cite Bioconductor, see\n",
      "    'citation(\"Biobase\")', and for packages 'citation(\"pkgname\")'.\n",
      "\n",
      "Found 1 file(s)\n",
      "GSE36221_series_matrix.txt.gz\n",
      "Parsed with column specification:\n",
      "cols(\n",
      "  .default = col_double()\n",
      ")\n",
      "See spec(...) for full column specifications.\n"
     ]
    }
   ],
   "source": [
    "Example <- getExpr_pdata(\"GSE36221\")"
   ]
  },
  {
   "cell_type": "code",
   "execution_count": 5,
   "metadata": {},
   "outputs": [
    {
     "data": {
      "text/html": [
       "<table>\n",
       "<caption>A data.frame: 6 × 221</caption>\n",
       "<thead>\n",
       "\t<tr><th></th><th scope=col>GSM883944</th><th scope=col>GSM883945</th><th scope=col>GSM883946</th><th scope=col>GSM883947</th><th scope=col>GSM883948</th><th scope=col>GSM883949</th><th scope=col>GSM883950</th><th scope=col>GSM883951</th><th scope=col>GSM883952</th><th scope=col>GSM883953</th><th scope=col>...</th><th scope=col>GSM884155</th><th scope=col>GSM884156</th><th scope=col>GSM884157</th><th scope=col>GSM884158</th><th scope=col>GSM884159</th><th scope=col>GSM884160</th><th scope=col>GSM884161</th><th scope=col>GSM884162</th><th scope=col>GSM884163</th><th scope=col>GSM884164</th></tr>\n",
       "\t<tr><th></th><th scope=col>&lt;dbl&gt;</th><th scope=col>&lt;dbl&gt;</th><th scope=col>&lt;dbl&gt;</th><th scope=col>&lt;dbl&gt;</th><th scope=col>&lt;dbl&gt;</th><th scope=col>&lt;dbl&gt;</th><th scope=col>&lt;dbl&gt;</th><th scope=col>&lt;dbl&gt;</th><th scope=col>&lt;dbl&gt;</th><th scope=col>&lt;dbl&gt;</th><th scope=col>...</th><th scope=col>&lt;dbl&gt;</th><th scope=col>&lt;dbl&gt;</th><th scope=col>&lt;dbl&gt;</th><th scope=col>&lt;dbl&gt;</th><th scope=col>&lt;dbl&gt;</th><th scope=col>&lt;dbl&gt;</th><th scope=col>&lt;dbl&gt;</th><th scope=col>&lt;dbl&gt;</th><th scope=col>&lt;dbl&gt;</th><th scope=col>&lt;dbl&gt;</th></tr>\n",
       "</thead>\n",
       "<tbody>\n",
       "\t<tr><th scope=row>7892501</th><td>1.918230</td><td>4.097614</td><td>3.105726</td><td>3.790488</td><td>1.391350</td><td>1.331789</td><td>2.929378</td><td>2.545538</td><td>3.766843</td><td>2.634505</td><td>...</td><td>1.066667</td><td>1.123598</td><td>1.235926</td><td>0.5465292</td><td>1.008059</td><td>0.8852806</td><td>0.8839867</td><td>1.456518</td><td>0.8379084</td><td>1.397130</td></tr>\n",
       "\t<tr><th scope=row>7892502</th><td>3.453556</td><td>4.090684</td><td>3.354695</td><td>4.594078</td><td>3.685259</td><td>3.703401</td><td>4.089552</td><td>4.267443</td><td>3.694993</td><td>3.875920</td><td>...</td><td>2.931333</td><td>2.780025</td><td>2.705421</td><td>3.0365590</td><td>3.450284</td><td>3.1332740</td><td>2.9674340</td><td>2.728616</td><td>3.0201680</td><td>4.166057</td></tr>\n",
       "\t<tr><th scope=row>7892503</th><td>3.242056</td><td>4.023951</td><td>3.070213</td><td>3.135199</td><td>3.598176</td><td>2.314419</td><td>5.085920</td><td>3.981360</td><td>3.863381</td><td>3.531614</td><td>...</td><td>2.887511</td><td>2.175284</td><td>2.141499</td><td>1.4140530</td><td>2.503709</td><td>2.2662330</td><td>2.4147070</td><td>1.831537</td><td>2.4228760</td><td>2.257915</td></tr>\n",
       "\t<tr><th scope=row>7892504</th><td>9.098461</td><td>7.967779</td><td>8.538803</td><td>8.092846</td><td>8.056301</td><td>8.261771</td><td>8.317191</td><td>8.532050</td><td>7.544576</td><td>8.094618</td><td>...</td><td>8.230978</td><td>8.590764</td><td>8.794366</td><td>7.7891730</td><td>8.061747</td><td>7.4972980</td><td>7.4019810</td><td>8.201867</td><td>7.4582450</td><td>8.631525</td></tr>\n",
       "\t<tr><th scope=row>7892505</th><td>2.674147</td><td>1.716874</td><td>1.793022</td><td>1.631902</td><td>3.038372</td><td>3.797781</td><td>1.622011</td><td>2.200060</td><td>2.407372</td><td>1.986968</td><td>...</td><td>2.161315</td><td>2.135587</td><td>1.850753</td><td>2.9692990</td><td>3.190290</td><td>2.8427180</td><td>3.5398860</td><td>2.677016</td><td>3.3732910</td><td>1.702254</td></tr>\n",
       "\t<tr><th scope=row>7892506</th><td>1.043313</td><td>2.265351</td><td>2.156243</td><td>2.036461</td><td>1.510491</td><td>2.219413</td><td>1.834325</td><td>2.881916</td><td>2.985007</td><td>2.393238</td><td>...</td><td>2.758298</td><td>2.902465</td><td>2.827708</td><td>3.1253810</td><td>3.116202</td><td>2.7031140</td><td>3.2447980</td><td>1.849631</td><td>2.5799180</td><td>2.051225</td></tr>\n",
       "</tbody>\n",
       "</table>\n"
      ],
      "text/latex": [
       "A data.frame: 6 × 221\n",
       "\\begin{tabular}{r|lllllllllllllllllllllllllllllllllllllllllllllllllllllllllllllllllllllllllllllllllllllllllllllllllllllllllllllllllllllllllllllllllllllllllllllllllllllllllllllllllllllllllllllllllllllllllllllllllllllllllllllllllllllllllllll}\n",
       "  & GSM883944 & GSM883945 & GSM883946 & GSM883947 & GSM883948 & GSM883949 & GSM883950 & GSM883951 & GSM883952 & GSM883953 & GSM883954 & GSM883955 & GSM883956 & GSM883957 & GSM883958 & GSM883959 & GSM883960 & GSM883961 & GSM883962 & GSM883963 & GSM883964 & GSM883965 & GSM883966 & GSM883967 & GSM883968 & GSM883969 & GSM883970 & GSM883971 & GSM883972 & GSM883973 & GSM883974 & GSM883975 & GSM883976 & GSM883977 & GSM883978 & GSM883979 & GSM883980 & GSM883981 & GSM883982 & GSM883983 & GSM883984 & GSM883985 & GSM883986 & GSM883987 & GSM883988 & GSM883989 & GSM883990 & GSM883991 & GSM883992 & GSM883993 & GSM883994 & GSM883995 & GSM883996 & GSM883997 & GSM883998 & GSM883999 & GSM884000 & GSM884001 & GSM884002 & GSM884003 & GSM884004 & GSM884005 & GSM884006 & GSM884007 & GSM884008 & GSM884009 & GSM884010 & GSM884011 & GSM884012 & GSM884013 & GSM884014 & GSM884015 & GSM884016 & GSM884017 & GSM884018 & GSM884019 & GSM884020 & GSM884021 & GSM884022 & GSM884023 & GSM884024 & GSM884025 & GSM884026 & GSM884027 & GSM884028 & GSM884029 & GSM884030 & GSM884031 & GSM884032 & GSM884033 & GSM884034 & GSM884035 & GSM884036 & GSM884037 & GSM884038 & GSM884039 & GSM884040 & GSM884041 & GSM884042 & GSM884043 & GSM884044 & GSM884045 & GSM884046 & GSM884047 & GSM884048 & GSM884049 & GSM884050 & GSM884051 & GSM884052 & GSM884053 & GSM884054 & GSM884055 & GSM884056 & GSM884057 & GSM884058 & GSM884059 & GSM884060 & GSM884061 & GSM884062 & GSM884063 & GSM884064 & GSM884065 & GSM884066 & GSM884067 & GSM884068 & GSM884069 & GSM884070 & GSM884071 & GSM884072 & GSM884073 & GSM884074 & GSM884075 & GSM884076 & GSM884077 & GSM884078 & GSM884079 & GSM884080 & GSM884081 & GSM884082 & GSM884083 & GSM884084 & GSM884085 & GSM884086 & GSM884087 & GSM884088 & GSM884089 & GSM884090 & GSM884091 & GSM884092 & GSM884093 & GSM884094 & GSM884095 & GSM884096 & GSM884097 & GSM884098 & GSM884099 & GSM884100 & GSM884101 & GSM884102 & GSM884103 & GSM884104 & GSM884105 & GSM884106 & GSM884107 & GSM884108 & GSM884109 & GSM884110 & GSM884111 & GSM884112 & GSM884113 & GSM884114 & GSM884115 & GSM884116 & GSM884117 & GSM884118 & GSM884119 & GSM884120 & GSM884121 & GSM884122 & GSM884123 & GSM884124 & GSM884125 & GSM884126 & GSM884127 & GSM884128 & GSM884129 & GSM884130 & GSM884131 & GSM884132 & GSM884133 & GSM884134 & GSM884135 & GSM884136 & GSM884137 & GSM884138 & GSM884139 & GSM884140 & GSM884141 & GSM884142 & GSM884143 & GSM884144 & GSM884145 & GSM884146 & GSM884147 & GSM884148 & GSM884149 & GSM884150 & GSM884151 & GSM884152 & GSM884153 & GSM884154 & GSM884155 & GSM884156 & GSM884157 & GSM884158 & GSM884159 & GSM884160 & GSM884161 & GSM884162 & GSM884163 & GSM884164\\\\\n",
       "  & <dbl> & <dbl> & <dbl> & <dbl> & <dbl> & <dbl> & <dbl> & <dbl> & <dbl> & <dbl> & <dbl> & <dbl> & <dbl> & <dbl> & <dbl> & <dbl> & <dbl> & <dbl> & <dbl> & <dbl> & <dbl> & <dbl> & <dbl> & <dbl> & <dbl> & <dbl> & <dbl> & <dbl> & <dbl> & <dbl> & <dbl> & <dbl> & <dbl> & <dbl> & <dbl> & <dbl> & <dbl> & <dbl> & <dbl> & <dbl> & <dbl> & <dbl> & <dbl> & <dbl> & <dbl> & <dbl> & <dbl> & <dbl> & <dbl> & <dbl> & <dbl> & <dbl> & <dbl> & <dbl> & <dbl> & <dbl> & <dbl> & <dbl> & <dbl> & <dbl> & <dbl> & <dbl> & <dbl> & <dbl> & <dbl> & <dbl> & <dbl> & <dbl> & <dbl> & <dbl> & <dbl> & <dbl> & <dbl> & <dbl> & <dbl> & <dbl> & <dbl> & <dbl> & <dbl> & <dbl> & <dbl> & <dbl> & <dbl> & <dbl> & <dbl> & <dbl> & <dbl> & <dbl> & <dbl> & <dbl> & <dbl> & <dbl> & <dbl> & <dbl> & <dbl> & <dbl> & <dbl> & <dbl> & <dbl> & <dbl> & <dbl> & <dbl> & <dbl> & <dbl> & <dbl> & <dbl> & <dbl> & <dbl> & <dbl> & <dbl> & <dbl> & <dbl> & <dbl> & <dbl> & <dbl> & <dbl> & <dbl> & <dbl> & <dbl> & <dbl> & <dbl> & <dbl> & <dbl> & <dbl> & <dbl> & <dbl> & <dbl> & <dbl> & <dbl> & <dbl> & <dbl> & <dbl> & <dbl> & <dbl> & <dbl> & <dbl> & <dbl> & <dbl> & <dbl> & <dbl> & <dbl> & <dbl> & <dbl> & <dbl> & <dbl> & <dbl> & <dbl> & <dbl> & <dbl> & <dbl> & <dbl> & <dbl> & <dbl> & <dbl> & <dbl> & <dbl> & <dbl> & <dbl> & <dbl> & <dbl> & <dbl> & <dbl> & <dbl> & <dbl> & <dbl> & <dbl> & <dbl> & <dbl> & <dbl> & <dbl> & <dbl> & <dbl> & <dbl> & <dbl> & <dbl> & <dbl> & <dbl> & <dbl> & <dbl> & <dbl> & <dbl> & <dbl> & <dbl> & <dbl> & <dbl> & <dbl> & <dbl> & <dbl> & <dbl> & <dbl> & <dbl> & <dbl> & <dbl> & <dbl> & <dbl> & <dbl> & <dbl> & <dbl> & <dbl> & <dbl> & <dbl> & <dbl> & <dbl> & <dbl> & <dbl> & <dbl> & <dbl> & <dbl> & <dbl> & <dbl> & <dbl> & <dbl> & <dbl> & <dbl> & <dbl> & <dbl> & <dbl> & <dbl> & <dbl> & <dbl> & <dbl>\\\\\n",
       "\\hline\n",
       "\t7892501 & 1.918230 & 4.097614 & 3.105726 & 3.790488 & 1.391350 & 1.331789 & 2.929378 & 2.545538 & 3.766843 & 2.634505 & 3.332794 & 3.588249 & 2.401407 & 1.602277 & 3.912462 & 1.979184 & 1.078590 & 3.194590 & 2.136845 & 1.647060 & 1.318282 & 2.671916 & 2.271019 & 2.850580 & 3.400055 & 3.719816 & 2.917145 & 2.777518 & 3.678591 & 1.475295 & 3.203369 & 3.696333 & 2.295144 & 2.815823 & 3.457647 & 3.479953 & 3.336363 & 3.573190 & 3.357297 & 2.638977 & 1.956370 & 3.213960 & 1.227710 & 2.209301 & 2.380167 & 3.053252 & 1.094222 & 4.024928 & 2.467865 & 1.912795 & 2.344288 & 2.341553 & 4.031802 & 3.322222 & 2.811239 & 3.950292 & 1.899955 & 1.848908 & 2.802722 & 2.319400 & 3.120579 & 1.416180 & 1.0629610 & 1.660109 & 3.707395 & 1.164125 & 1.914164 & 2.703288 & 2.388161 & 2.466281 & 1.420722 & 2.629806 & 2.929181 & 3.379814 & 1.974702 & 2.427896 & 3.564077 & 2.771802 & 4.099300 & 3.944633 & 3.269885 & 4.273954 & 2.826707 & 2.685633 & 1.233724 & 1.897179 & 4.497960 & 2.002842 & 3.766988 & 2.349334 & 3.595485 & 2.394122 & 1.949822 & 1.479041 & 2.538990 & 2.879392 & 2.972647 & 2.886420 & 2.003603 & 0.6657859 & 0.9358383 & 2.738060 & 1.036485 & 1.570548 & 2.415344 & 3.209098 & 2.554838 & 3.580663 & 1.488184 & 1.519789 & 4.788120 & 3.278648 & 5.137203 & 2.622029 & 1.265350 & 1.833550 & 2.476012 & 1.581458 & 1.136591 & 2.285270 & 3.425393 & 2.204021 & 2.897657 & 3.261677 & 3.331621 & 3.122446 & 2.557377 & 1.653576 & 2.432848 & 2.388171 & 2.810691 & 1.625247 & 2.244264 & 1.924420 & 1.500013 & 1.820409 & 3.469223 & 2.386269 & 1.019181 & 3.540678 & 3.180872 & 1.058313 & 4.636234 & 2.912144 & 1.685614 & 2.948304 & 1.851852 & 2.043225 & 3.660693 & 2.565598 & 2.654736 & 3.298747 & 1.834077 & 2.036114 & 0.860504 & 2.932019 & 1.685386 & 2.403873 & 2.936482 & 1.314467 & 3.390300 & 2.165351 & 0.5702239 & 1.476243 & 0.9562243 & 1.345136 & 1.651371 & 1.842548 & 0.9491073 & 1.044184 & 2.364814 & 2.218836 & 1.410637 & 1.500055 & 1.393061 & 1.566006 & 1.573763 & 1.122670 & 0.9563004 & 1.510796 & 0.8323619 & 0.754936 & 1.078051 & 1.043307 & 1.825329 & 0.6649276 & 0.9592149 & 0.7238765 & 1.194112 & 1.035779 & 0.8084748 & 1.370024 & 1.684386 & 1.694660 & 1.422752 & 1.189674 & 0.8558819 & 0.9180235 & 0.8345279 & 1.195702 & 1.789973 & 1.180058 & 1.119954 & 1.423721 & 1.157434 & 0.8399478 & 0.9669598 & 1.050616 & 1.183804 & 1.183383 & 1.4057330 & 1.066667 & 1.123598 & 1.235926 & 0.5465292 & 1.008059 & 0.8852806 & 0.8839867 & 1.456518 & 0.8379084 & 1.397130\\\\\n",
       "\t7892502 & 3.453556 & 4.090684 & 3.354695 & 4.594078 & 3.685259 & 3.703401 & 4.089552 & 4.267443 & 3.694993 & 3.875920 & 4.603488 & 4.290805 & 3.765134 & 3.099287 & 4.045544 & 3.498085 & 2.584691 & 3.667252 & 3.926705 & 3.159349 & 3.259462 & 4.904689 & 3.272413 & 4.036407 & 4.377209 & 4.014555 & 4.900909 & 4.472228 & 4.333149 & 3.410418 & 4.093071 & 4.408924 & 4.080024 & 3.242519 & 3.817177 & 3.478837 & 3.864376 & 3.354103 & 4.094002 & 2.766250 & 2.931539 & 3.779116 & 2.753393 & 2.691848 & 4.033966 & 3.712511 & 2.902597 & 3.348868 & 3.044674 & 2.444150 & 3.527654 & 4.015509 & 4.003645 & 3.650077 & 3.651707 & 4.553974 & 3.267496 & 3.188706 & 4.391198 & 3.693721 & 4.093491 & 4.226484 & 3.3768270 & 3.168188 & 3.544153 & 2.716249 & 2.505926 & 3.240012 & 2.961750 & 2.985966 & 2.773944 & 2.803473 & 3.300820 & 2.747976 & 2.877295 & 3.421561 & 4.284629 & 3.972250 & 4.547750 & 4.212354 & 3.929903 & 4.277757 & 3.519080 & 2.943452 & 3.424777 & 3.546939 & 3.258577 & 3.517363 & 3.631654 & 3.167534 & 2.989170 & 2.846317 & 3.420847 & 3.535513 & 3.190281 & 3.274575 & 3.421195 & 2.942759 & 3.377856 & 3.5955020 & 3.1492100 & 3.127489 & 2.587783 & 3.090475 & 3.377305 & 3.089180 & 2.899361 & 2.971854 & 2.467361 & 3.296066 & 2.914494 & 2.918257 & 3.911780 & 3.706671 & 2.746691 & 3.686470 & 2.668464 & 3.182239 & 4.240860 & 3.615000 & 3.621686 & 3.674997 & 2.836828 & 3.479205 & 4.194063 & 4.484712 & 3.612907 & 2.863995 & 3.104257 & 2.741278 & 3.060187 & 2.934978 & 2.485661 & 3.608248 & 3.086592 & 3.393244 & 3.698619 & 3.140903 & 2.588222 & 2.789300 & 3.677188 & 2.753659 & 3.578647 & 3.375309 & 3.223054 & 2.676884 & 3.293884 & 3.003124 & 3.261016 & 3.692173 & 3.285792 & 3.187125 & 3.342784 & 3.669863 & 3.191248 & 3.429344 & 3.477515 & 3.214787 & 3.753896 & 3.512332 & 3.885039 & 3.504761 & 3.9587200 & 4.155244 & 3.1479050 & 4.131058 & 3.570272 & 2.930086 & 3.4841280 & 3.420692 & 4.073470 & 2.800354 & 3.303350 & 3.510329 & 3.915910 & 4.133023 & 3.612404 & 4.146122 & 3.4584440 & 3.893342 & 3.1743470 & 2.920686 & 4.086007 & 3.597877 & 2.939856 & 3.7583090 & 3.2047720 & 3.5170760 & 3.749580 & 3.027243 & 2.2588090 & 3.011185 & 4.386844 & 3.480133 & 3.069005 & 2.935059 & 4.3297030 & 2.9275590 & 2.9115360 & 3.413837 & 2.759129 & 3.157707 & 3.781388 & 2.956038 & 2.564652 & 3.6325070 & 3.1715510 & 3.142678 & 3.872289 & 3.046885 & 3.1741470 & 2.931333 & 2.780025 & 2.705421 & 3.0365590 & 3.450284 & 3.1332740 & 2.9674340 & 2.728616 & 3.0201680 & 4.166057\\\\\n",
       "\t7892503 & 3.242056 & 4.023951 & 3.070213 & 3.135199 & 3.598176 & 2.314419 & 5.085920 & 3.981360 & 3.863381 & 3.531614 & 4.102443 & 4.677901 & 3.654482 & 2.196381 & 3.657848 & 2.894289 & 3.355796 & 2.537770 & 3.920800 & 3.022864 & 3.327044 & 3.965810 & 3.045871 & 3.222765 & 3.979566 & 3.762334 & 3.499989 & 3.875493 & 3.639406 & 3.097843 & 4.329555 & 2.727556 & 2.697379 & 3.009370 & 2.550159 & 3.089532 & 2.523033 & 3.371257 & 2.616226 & 2.408334 & 1.786556 & 2.788141 & 2.034684 & 2.512243 & 2.716196 & 3.088454 & 2.851524 & 2.485888 & 2.179753 & 2.925570 & 1.654847 & 1.582453 & 3.494079 & 3.844842 & 2.842963 & 3.122973 & 3.436136 & 3.594239 & 1.874530 & 4.022242 & 3.748125 & 3.490118 & 3.1250020 & 2.236947 & 3.011677 & 1.414100 & 2.202313 & 3.425370 & 3.120644 & 2.962379 & 2.358212 & 2.818418 & 2.937954 & 2.292549 & 3.092715 & 2.473028 & 3.254765 & 2.961956 & 4.511906 & 3.128606 & 2.990768 & 1.903691 & 2.938834 & 2.204010 & 2.397309 & 3.337599 & 3.165581 & 2.212133 & 3.125049 & 1.759991 & 2.527897 & 2.051960 & 2.581097 & 3.008969 & 2.940668 & 3.990521 & 3.124971 & 2.167069 & 2.086314 & 3.2327840 & 2.0447320 & 2.343352 & 1.401765 & 3.341217 & 3.318457 & 2.114638 & 2.718544 & 2.124588 & 2.361813 & 3.045887 & 2.272307 & 3.675083 & 3.540423 & 3.039834 & 3.113286 & 2.982055 & 2.931060 & 3.165411 & 3.149340 & 3.576637 & 2.556586 & 2.754405 & 3.727401 & 2.679310 & 2.472480 & 2.582898 & 2.665501 & 4.353131 & 3.770904 & 2.314084 & 2.787189 & 2.010992 & 1.312068 & 2.727889 & 3.988269 & 2.294195 & 4.761065 & 2.534887 & 2.373911 & 2.237281 & 3.549761 & 2.333034 & 3.574713 & 3.254248 & 2.974846 & 3.435707 & 2.959908 & 1.999637 & 3.297624 & 3.736640 & 2.561033 & 3.181296 & 2.568563 & 2.809062 & 1.887520 & 1.880465 & 2.845585 & 2.203537 & 2.596549 & 2.786522 & 3.274932 & 2.534212 & 2.7812350 & 1.924108 & 2.4153050 & 2.386750 & 2.652445 & 3.624806 & 2.1439140 & 1.828241 & 2.216763 & 2.687286 & 2.589568 & 2.458488 & 2.170433 & 2.273288 & 2.865727 & 3.139297 & 2.4730650 & 2.804793 & 2.4306680 & 2.316155 & 1.568996 & 2.533203 & 2.578873 & 2.3502960 & 2.0324800 & 2.1297620 & 1.985951 & 1.826827 & 2.2890340 & 2.614655 & 1.230434 & 3.130785 & 1.258837 & 2.698543 & 2.1614160 & 2.5661420 & 2.2144240 & 1.657771 & 1.915214 & 1.780792 & 1.923671 & 2.405552 & 2.067864 & 2.4011950 & 2.6729140 & 2.982667 & 1.411082 & 2.946907 & 4.4884390 & 2.887511 & 2.175284 & 2.141499 & 1.4140530 & 2.503709 & 2.2662330 & 2.4147070 & 1.831537 & 2.4228760 & 2.257915\\\\\n",
       "\t7892504 & 9.098461 & 7.967779 & 8.538803 & 8.092846 & 8.056301 & 8.261771 & 8.317191 & 8.532050 & 7.544576 & 8.094618 & 7.576362 & 8.308664 & 8.191261 & 8.407607 & 7.924888 & 8.670264 & 8.543041 & 7.676328 & 8.168587 & 8.600210 & 9.087055 & 8.138917 & 8.552007 & 7.822236 & 8.367393 & 8.303878 & 7.856943 & 8.195951 & 8.159793 & 8.421761 & 8.160440 & 8.457070 & 9.122445 & 9.346228 & 8.202665 & 8.905387 & 8.575060 & 9.012425 & 8.721043 & 8.993655 & 9.061518 & 8.472097 & 9.043821 & 9.281355 & 8.261022 & 9.095576 & 9.294912 & 8.449864 & 9.076273 & 8.869858 & 9.232891 & 9.011440 & 9.182749 & 9.117346 & 8.959207 & 8.285837 & 9.323014 & 9.194036 & 8.915154 & 8.218192 & 8.251061 & 8.200450 & 8.8194140 & 8.543781 & 8.554742 & 9.476757 & 8.640216 & 8.559061 & 8.809092 & 9.327435 & 9.481106 & 9.312191 & 9.227311 & 9.005225 & 9.178432 & 9.060730 & 9.206103 & 7.982285 & 8.471114 & 8.523378 & 8.292871 & 8.643250 & 8.741982 & 9.193442 & 9.051254 & 8.565621 & 7.948589 & 8.604090 & 8.806467 & 9.374166 & 8.911963 & 9.080891 & 9.177539 & 9.090959 & 8.690205 & 8.578841 & 9.454257 & 9.292737 & 9.512969 & 9.3802490 & 9.3662240 & 9.035896 & 9.671453 & 9.549759 & 9.070383 & 8.570046 & 9.219802 & 8.479975 & 9.547082 & 8.949112 & 8.850567 & 9.374314 & 8.780735 & 8.920048 & 9.542783 & 9.007187 & 8.594921 & 8.317568 & 8.535835 & 8.735171 & 8.807922 & 8.155374 & 8.456082 & 7.992021 & 8.897362 & 8.869354 & 8.929969 & 9.841278 & 9.079709 & 9.803905 & 8.955596 & 9.109368 & 9.085032 & 8.769817 & 9.407351 & 8.958942 & 8.945915 & 9.009258 & 8.916521 & 8.703897 & 8.585881 & 9.335450 & 9.016956 & 8.706645 & 8.809161 & 9.105263 & 8.994781 & 9.240517 & 8.804390 & 8.454309 & 8.990734 & 8.784536 & 8.567652 & 8.583764 & 8.794221 & 8.542809 & 8.636794 & 9.302739 & 8.195637 & 9.325592 & 8.714715 & 8.978433 & 9.0762730 & 7.445563 & 8.2332560 & 8.042564 & 7.351552 & 7.229141 & 7.5318980 & 7.710834 & 7.802247 & 7.315338 & 7.255378 & 6.803576 & 7.250689 & 7.888288 & 7.052443 & 7.130530 & 7.4754480 & 7.782488 & 7.1556210 & 8.019835 & 8.387019 & 7.006828 & 7.918451 & 7.3515110 & 7.3265710 & 7.8675170 & 8.062645 & 7.595384 & 8.2809170 & 8.173527 & 7.898060 & 7.688282 & 8.336876 & 7.405074 & 7.4758660 & 8.3948050 & 8.1983760 & 7.845531 & 8.173851 & 7.868989 & 8.037080 & 8.005928 & 7.854838 & 7.7645050 & 7.7619060 & 7.413453 & 8.456643 & 7.427594 & 8.1293430 & 8.230978 & 8.590764 & 8.794366 & 7.7891730 & 8.061747 & 7.4972980 & 7.4019810 & 8.201867 & 7.4582450 & 8.631525\\\\\n",
       "\t7892505 & 2.674147 & 1.716874 & 1.793022 & 1.631902 & 3.038372 & 3.797781 & 1.622011 & 2.200060 & 2.407372 & 1.986968 & 1.412145 & 2.670049 & 1.900999 & 1.911385 & 1.396880 & 3.144051 & 2.457880 & 2.007395 & 2.378978 & 2.061911 & 2.965060 & 1.843298 & 2.704889 & 1.739380 & 2.087781 & 2.103040 & 2.325183 & 2.080904 & 2.706962 & 1.929567 & 1.644734 & 2.326522 & 2.676914 & 3.112143 & 1.444092 & 2.205182 & 2.800070 & 2.445251 & 1.468069 & 2.117541 & 2.144692 & 1.832568 & 1.724737 & 1.549808 & 2.142555 & 2.915364 & 2.207084 & 1.551694 & 3.176833 & 2.195981 & 1.459975 & 1.607652 & 2.881612 & 1.853653 & 1.620788 & 2.390794 & 2.206712 & 2.064495 & 2.236017 & 1.813745 & 3.010672 & 2.224844 & 0.9999236 & 1.142939 & 1.738315 & 1.985846 & 2.315912 & 1.640015 & 2.108892 & 1.915312 & 2.448972 & 1.908798 & 2.063375 & 2.216239 & 1.606807 & 2.307149 & 2.499933 & 2.203897 & 2.199796 & 1.947947 & 2.761196 & 2.127571 & 2.192054 & 2.287023 & 1.772412 & 1.973044 & 2.221200 & 1.455862 & 1.699469 & 1.460730 & 1.848934 & 1.408520 & 2.036347 & 2.275403 & 2.056931 & 1.992929 & 1.578359 & 1.545402 & 2.145289 & 1.4413630 & 1.3648090 & 2.457817 & 1.741722 & 1.947842 & 1.599685 & 1.551033 & 2.181817 & 1.847390 & 2.149459 & 1.496695 & 1.763847 & 1.732584 & 1.783595 & 2.671788 & 2.883875 & 2.724764 & 2.233571 & 3.239202 & 1.703858 & 2.435196 & 1.587797 & 1.932494 & 1.728257 & 2.733692 & 1.426509 & 2.578710 & 2.194278 & 2.010606 & 1.431732 & 1.257685 & 2.010953 & 1.782005 & 1.760938 & 1.626881 & 1.440705 & 1.267611 & 1.513942 & 1.898629 & 2.535470 & 1.875572 & 1.102394 & 2.201402 & 2.142906 & 2.345624 & 1.317838 & 2.387606 & 1.004383 & 1.204775 & 2.309708 & 1.898475 & 2.788181 & 2.572330 & 1.778615 & 1.301790 & 2.624399 & 2.205598 & 2.019003 & 2.208846 & 1.698015 & 1.218917 & 1.818392 & 2.298385 & 3.0477680 & 2.351713 & 2.7776500 & 1.996727 & 3.152256 & 3.424231 & 2.4248650 & 1.589654 & 4.541759 & 2.715047 & 3.731329 & 3.384463 & 2.964002 & 2.983813 & 3.419800 & 4.486187 & 4.2952320 & 5.136910 & 4.5950840 & 3.159465 & 3.127773 & 4.305991 & 3.239185 & 3.5766600 & 3.3639140 & 2.8122860 & 2.096576 & 3.395446 & 2.9399980 & 3.082203 & 2.909893 & 3.385686 & 2.492198 & 2.604372 & 3.2175270 & 2.3355280 & 2.5110900 & 2.551079 & 1.766556 & 2.112331 & 2.335887 & 1.680418 & 2.257119 & 2.1400180 & 2.9331650 & 2.592901 & 2.135189 & 2.643071 & 2.7316540 & 2.161315 & 2.135587 & 1.850753 & 2.9692990 & 3.190290 & 2.8427180 & 3.5398860 & 2.677016 & 3.3732910 & 1.702254\\\\\n",
       "\t7892506 & 1.043313 & 2.265351 & 2.156243 & 2.036461 & 1.510491 & 2.219413 & 1.834325 & 2.881916 & 2.985007 & 2.393238 & 2.450698 & 2.542849 & 2.917268 & 1.889566 & 3.059500 & 1.641902 & 2.316889 & 1.894258 & 2.166135 & 2.778238 & 1.610310 & 3.206036 & 1.658280 & 1.655390 & 2.756817 & 1.976582 & 3.212926 & 2.094603 & 3.059392 & 1.575362 & 1.957100 & 2.635651 & 3.231765 & 3.098158 & 3.125042 & 2.741405 & 2.803227 & 2.844655 & 2.731158 & 2.265474 & 1.513572 & 1.802007 & 2.141642 & 1.848883 & 3.089799 & 2.734344 & 2.125180 & 3.166694 & 3.475594 & 0.989210 & 2.406614 & 3.228072 & 2.423101 & 2.700195 & 2.679909 & 2.533248 & 2.641531 & 2.308119 & 2.684890 & 2.073436 & 1.984435 & 2.210572 & 2.2437660 & 1.796768 & 3.509609 & 1.675393 & 2.356081 & 1.893117 & 1.733269 & 1.432143 & 1.810201 & 1.226450 & 2.500899 & 1.856532 & 1.974702 & 2.543007 & 2.024410 & 2.592525 & 3.779591 & 3.569227 & 3.292458 & 2.239826 & 1.975981 & 3.029473 & 3.206257 & 2.569990 & 2.631567 & 3.302514 & 3.135818 & 2.729666 & 2.327349 & 2.546674 & 2.510252 & 2.580454 & 1.779370 & 2.713530 & 2.085679 & 2.685721 & 3.133083 & 1.9539090 & 2.2336540 & 2.747245 & 2.247624 & 2.831265 & 2.262082 & 3.051431 & 2.008688 & 2.797566 & 1.684883 & 2.236927 & 1.352382 & 1.666897 & 3.017132 & 2.167654 & 1.556886 & 2.892942 & 2.540882 & 2.654052 & 2.151654 & 2.026803 & 2.719519 & 2.697529 & 1.859989 & 2.820596 & 3.266766 & 2.145895 & 3.457064 & 1.481644 & 2.288913 & 1.718190 & 2.861809 & 1.875834 & 2.408922 & 2.137912 & 2.063372 & 1.821093 & 1.891143 & 2.252461 & 1.824115 & 2.635289 & 1.966990 & 2.213612 & 2.580382 & 2.542337 & 2.514989 & 1.984130 & 1.628497 & 2.254123 & 2.206021 & 3.016571 & 1.637688 & 2.398484 & 2.019888 & 1.826491 & 2.325385 & 3.077387 & 1.334073 & 1.564410 & 2.605115 & 1.988112 & 2.734424 & 1.774683 & 2.0182390 & 3.607002 & 1.9679260 & 3.554098 & 3.305310 & 3.755367 & 2.4995750 & 2.428637 & 3.191875 & 4.410462 & 2.724077 & 2.513184 & 3.467448 & 2.913909 & 2.323669 & 2.573766 & 2.6885610 & 1.924361 & 2.0135360 & 2.523315 & 2.934491 & 2.903762 & 2.862243 & 3.3738650 & 2.3796480 & 2.4133430 & 2.495643 & 2.277594 & 2.3666190 & 2.665280 & 2.374360 & 2.275987 & 2.491595 & 2.308484 & 3.7025850 & 2.7134960 & 2.1854850 & 3.835559 & 2.378492 & 2.616015 & 2.918067 & 3.614440 & 2.090385 & 2.2954740 & 3.5810810 & 2.726616 & 2.943077 & 3.070156 & 0.7815204 & 2.758298 & 2.902465 & 2.827708 & 3.1253810 & 3.116202 & 2.7031140 & 3.2447980 & 1.849631 & 2.5799180 & 2.051225\\\\\n",
       "\\end{tabular}\n"
      ],
      "text/markdown": [
       "\n",
       "A data.frame: 6 × 221\n",
       "\n",
       "| <!--/--> | GSM883944 &lt;dbl&gt; | GSM883945 &lt;dbl&gt; | GSM883946 &lt;dbl&gt; | GSM883947 &lt;dbl&gt; | GSM883948 &lt;dbl&gt; | GSM883949 &lt;dbl&gt; | GSM883950 &lt;dbl&gt; | GSM883951 &lt;dbl&gt; | GSM883952 &lt;dbl&gt; | GSM883953 &lt;dbl&gt; | ... ... | GSM884155 &lt;dbl&gt; | GSM884156 &lt;dbl&gt; | GSM884157 &lt;dbl&gt; | GSM884158 &lt;dbl&gt; | GSM884159 &lt;dbl&gt; | GSM884160 &lt;dbl&gt; | GSM884161 &lt;dbl&gt; | GSM884162 &lt;dbl&gt; | GSM884163 &lt;dbl&gt; | GSM884164 &lt;dbl&gt; |\n",
       "|---|---|---|---|---|---|---|---|---|---|---|---|---|---|---|---|---|---|---|---|---|---|\n",
       "| 7892501 | 1.918230 | 4.097614 | 3.105726 | 3.790488 | 1.391350 | 1.331789 | 2.929378 | 2.545538 | 3.766843 | 2.634505 | ... | 1.066667 | 1.123598 | 1.235926 | 0.5465292 | 1.008059 | 0.8852806 | 0.8839867 | 1.456518 | 0.8379084 | 1.397130 |\n",
       "| 7892502 | 3.453556 | 4.090684 | 3.354695 | 4.594078 | 3.685259 | 3.703401 | 4.089552 | 4.267443 | 3.694993 | 3.875920 | ... | 2.931333 | 2.780025 | 2.705421 | 3.0365590 | 3.450284 | 3.1332740 | 2.9674340 | 2.728616 | 3.0201680 | 4.166057 |\n",
       "| 7892503 | 3.242056 | 4.023951 | 3.070213 | 3.135199 | 3.598176 | 2.314419 | 5.085920 | 3.981360 | 3.863381 | 3.531614 | ... | 2.887511 | 2.175284 | 2.141499 | 1.4140530 | 2.503709 | 2.2662330 | 2.4147070 | 1.831537 | 2.4228760 | 2.257915 |\n",
       "| 7892504 | 9.098461 | 7.967779 | 8.538803 | 8.092846 | 8.056301 | 8.261771 | 8.317191 | 8.532050 | 7.544576 | 8.094618 | ... | 8.230978 | 8.590764 | 8.794366 | 7.7891730 | 8.061747 | 7.4972980 | 7.4019810 | 8.201867 | 7.4582450 | 8.631525 |\n",
       "| 7892505 | 2.674147 | 1.716874 | 1.793022 | 1.631902 | 3.038372 | 3.797781 | 1.622011 | 2.200060 | 2.407372 | 1.986968 | ... | 2.161315 | 2.135587 | 1.850753 | 2.9692990 | 3.190290 | 2.8427180 | 3.5398860 | 2.677016 | 3.3732910 | 1.702254 |\n",
       "| 7892506 | 1.043313 | 2.265351 | 2.156243 | 2.036461 | 1.510491 | 2.219413 | 1.834325 | 2.881916 | 2.985007 | 2.393238 | ... | 2.758298 | 2.902465 | 2.827708 | 3.1253810 | 3.116202 | 2.7031140 | 3.2447980 | 1.849631 | 2.5799180 | 2.051225 |\n",
       "\n"
      ],
      "text/plain": [
       "        GSM883944 GSM883945 GSM883946 GSM883947 GSM883948 GSM883949 GSM883950\n",
       "7892501 1.918230  4.097614  3.105726  3.790488  1.391350  1.331789  2.929378 \n",
       "7892502 3.453556  4.090684  3.354695  4.594078  3.685259  3.703401  4.089552 \n",
       "7892503 3.242056  4.023951  3.070213  3.135199  3.598176  2.314419  5.085920 \n",
       "7892504 9.098461  7.967779  8.538803  8.092846  8.056301  8.261771  8.317191 \n",
       "7892505 2.674147  1.716874  1.793022  1.631902  3.038372  3.797781  1.622011 \n",
       "7892506 1.043313  2.265351  2.156243  2.036461  1.510491  2.219413  1.834325 \n",
       "        GSM883951 GSM883952 GSM883953 ... GSM884155 GSM884156 GSM884157\n",
       "7892501 2.545538  3.766843  2.634505  ... 1.066667  1.123598  1.235926 \n",
       "7892502 4.267443  3.694993  3.875920  ... 2.931333  2.780025  2.705421 \n",
       "7892503 3.981360  3.863381  3.531614  ... 2.887511  2.175284  2.141499 \n",
       "7892504 8.532050  7.544576  8.094618  ... 8.230978  8.590764  8.794366 \n",
       "7892505 2.200060  2.407372  1.986968  ... 2.161315  2.135587  1.850753 \n",
       "7892506 2.881916  2.985007  2.393238  ... 2.758298  2.902465  2.827708 \n",
       "        GSM884158 GSM884159 GSM884160 GSM884161 GSM884162 GSM884163 GSM884164\n",
       "7892501 0.5465292 1.008059  0.8852806 0.8839867 1.456518  0.8379084 1.397130 \n",
       "7892502 3.0365590 3.450284  3.1332740 2.9674340 2.728616  3.0201680 4.166057 \n",
       "7892503 1.4140530 2.503709  2.2662330 2.4147070 1.831537  2.4228760 2.257915 \n",
       "7892504 7.7891730 8.061747  7.4972980 7.4019810 8.201867  7.4582450 8.631525 \n",
       "7892505 2.9692990 3.190290  2.8427180 3.5398860 2.677016  3.3732910 1.702254 \n",
       "7892506 3.1253810 3.116202  2.7031140 3.2447980 1.849631  2.5799180 2.051225 "
      ]
     },
     "metadata": {},
     "output_type": "display_data"
    },
    {
     "data": {
      "text/html": [
       "<ol class=list-inline>\n",
       "\t<li>33297</li>\n",
       "\t<li>221</li>\n",
       "</ol>\n"
      ],
      "text/latex": [
       "\\begin{enumerate*}\n",
       "\\item 33297\n",
       "\\item 221\n",
       "\\end{enumerate*}\n"
      ],
      "text/markdown": [
       "1. 33297\n",
       "2. 221\n",
       "\n",
       "\n"
      ],
      "text/plain": [
       "[1] 33297   221"
      ]
     },
     "metadata": {},
     "output_type": "display_data"
    }
   ],
   "source": [
    "exprSet <- Example[[1]]\n",
    "head(exprSet)\n",
    "dim(exprSet)"
   ]
  },
  {
   "cell_type": "code",
   "execution_count": 8,
   "metadata": {},
   "outputs": [
    {
     "data": {
      "text/html": [
       "<table>\n",
       "<caption>A data.frame: 4 × 40</caption>\n",
       "<thead>\n",
       "\t<tr><th></th><th scope=col>title</th><th scope=col>geo_accession</th><th scope=col>status</th><th scope=col>submission_date</th><th scope=col>last_update_date</th><th scope=col>type</th><th scope=col>channel_count</th><th scope=col>source_name_ch1</th><th scope=col>organism_ch1</th><th scope=col>characteristics_ch1</th><th scope=col>...</th><th scope=col>contact_city</th><th scope=col>contact_zip/postal_code</th><th scope=col>contact_country</th><th scope=col>supplementary_file</th><th scope=col>data_row_count</th><th scope=col>age (years):ch1</th><th scope=col>gender (0=female, 1 = male):ch1</th><th scope=col>patient glucold study id:ch1</th><th scope=col>time-point (0=baseline, 6 = after 6 months of treatment, 30 = after 30 months of treatment):ch1</th><th scope=col>treatment (0=placebo 30 months, 1=fluticasone 30 months, 2=fluticasone/salmeterol 30 months, 3 = fluticasone 6 months and then placebo for the remaining 24 months of the study:ch1</th></tr>\n",
       "\t<tr><th></th><th scope=col>&lt;fct&gt;</th><th scope=col>&lt;chr&gt;</th><th scope=col>&lt;fct&gt;</th><th scope=col>&lt;fct&gt;</th><th scope=col>&lt;fct&gt;</th><th scope=col>&lt;fct&gt;</th><th scope=col>&lt;fct&gt;</th><th scope=col>&lt;fct&gt;</th><th scope=col>&lt;fct&gt;</th><th scope=col>&lt;fct&gt;</th><th scope=col>...</th><th scope=col>&lt;fct&gt;</th><th scope=col>&lt;fct&gt;</th><th scope=col>&lt;fct&gt;</th><th scope=col>&lt;fct&gt;</th><th scope=col>&lt;fct&gt;</th><th scope=col>&lt;chr&gt;</th><th scope=col>&lt;chr&gt;</th><th scope=col>&lt;chr&gt;</th><th scope=col>&lt;chr&gt;</th><th scope=col>&lt;chr&gt;</th></tr>\n",
       "</thead>\n",
       "<tbody>\n",
       "\t<tr><th scope=row>GSM883944</th><td>AS_Glucold_1_1076.01_.HuGene.1_0.st.v1.</td><td>GSM883944</td><td>Public on Mar 03 2012</td><td>Mar 02 2012</td><td>Mar 03 2012</td><td>RNA</td><td>1</td><td>bronchial biopsy</td><td>Homo sapiens</td><td>time-point (0=baseline, 6 = after 6 months of treatment, 30 = after 30 months of treatment): 0 </td><td>...</td><td>Groningen</td><td>9713GZ</td><td>Netherlands</td><td>ftp://ftp.ncbi.nlm.nih.gov/geo/samples/GSM883nnn/GSM883944/suppl/GSM883944_AS_Glucold_1_1076-01_HuGene-1_0-st-v1_.CEL.gz</td><td>33297</td><td>63</td><td>1</td><td>1076</td><td>0 </td><td>0</td></tr>\n",
       "\t<tr><th scope=row>GSM883945</th><td>AS_Glucold_2_1076.11_.HuGene.1_0.st.v1.</td><td>GSM883945</td><td>Public on Mar 03 2012</td><td>Mar 02 2012</td><td>Mar 03 2012</td><td>RNA</td><td>1</td><td>bronchial biopsy</td><td>Homo sapiens</td><td>time-point (0=baseline, 6 = after 6 months of treatment, 30 = after 30 months of treatment): 30</td><td>...</td><td>Groningen</td><td>9713GZ</td><td>Netherlands</td><td>ftp://ftp.ncbi.nlm.nih.gov/geo/samples/GSM883nnn/GSM883945/suppl/GSM883945_AS_Glucold_2_1076-11_HuGene-1_0-st-v1_.CEL.gz</td><td>33297</td><td>63</td><td>1</td><td>1076</td><td>30</td><td>0</td></tr>\n",
       "\t<tr><th scope=row>GSM883946</th><td>AS_Glucold_3_1092.01_.HuGene.1_0.st.v1.</td><td>GSM883946</td><td>Public on Mar 03 2012</td><td>Mar 02 2012</td><td>Mar 03 2012</td><td>RNA</td><td>1</td><td>bronchial biopsy</td><td>Homo sapiens</td><td>time-point (0=baseline, 6 = after 6 months of treatment, 30 = after 30 months of treatment): 0 </td><td>...</td><td>Groningen</td><td>9713GZ</td><td>Netherlands</td><td>ftp://ftp.ncbi.nlm.nih.gov/geo/samples/GSM883nnn/GSM883946/suppl/GSM883946_AS_Glucold_3_1092-01_HuGene-1_0-st-v1_.CEL.gz</td><td>33297</td><td>54</td><td>1</td><td>1092</td><td>0 </td><td>1</td></tr>\n",
       "\t<tr><th scope=row>GSM883947</th><td>AS_Glucold_4_1092.11_.HuGene.1_0.st.v1.</td><td>GSM883947</td><td>Public on Mar 03 2012</td><td>Mar 02 2012</td><td>Mar 03 2012</td><td>RNA</td><td>1</td><td>bronchial biopsy</td><td>Homo sapiens</td><td>time-point (0=baseline, 6 = after 6 months of treatment, 30 = after 30 months of treatment): 30</td><td>...</td><td>Groningen</td><td>9713GZ</td><td>Netherlands</td><td>ftp://ftp.ncbi.nlm.nih.gov/geo/samples/GSM883nnn/GSM883947/suppl/GSM883947_AS_Glucold_4_1092-11_HuGene-1_0-st-v1_.CEL.gz</td><td>33297</td><td>54</td><td>1</td><td>1092</td><td>30</td><td>1</td></tr>\n",
       "</tbody>\n",
       "</table>\n"
      ],
      "text/latex": [
       "A data.frame: 4 × 40\n",
       "\\begin{tabular}{r|llllllllllllllllllllllllllllllllllllllll}\n",
       "  & title & geo\\_accession & status & submission\\_date & last\\_update\\_date & type & channel\\_count & source\\_name\\_ch1 & organism\\_ch1 & characteristics\\_ch1 & characteristics\\_ch1.1 & characteristics\\_ch1.2 & characteristics\\_ch1.3 & characteristics\\_ch1.4 & molecule\\_ch1 & extract\\_protocol\\_ch1 & label\\_ch1 & label\\_protocol\\_ch1 & taxid\\_ch1 & hyb\\_protocol & scan\\_protocol & data\\_processing & platform\\_id & contact\\_name & contact\\_email & contact\\_phone & contact\\_fax & contact\\_department & contact\\_institute & contact\\_address & contact\\_city & contact\\_zip/postal\\_code & contact\\_country & supplementary\\_file & data\\_row\\_count & age (years):ch1 & gender (0=female, 1 = male):ch1 & patient glucold study id:ch1 & time-point (0=baseline, 6 = after 6 months of treatment, 30 = after 30 months of treatment):ch1 & treatment (0=placebo 30 months, 1=fluticasone 30 months, 2=fluticasone/salmeterol 30 months, 3 = fluticasone 6 months and then placebo for the remaining 24 months of the study:ch1\\\\\n",
       "  & <fct> & <chr> & <fct> & <fct> & <fct> & <fct> & <fct> & <fct> & <fct> & <fct> & <fct> & <fct> & <fct> & <fct> & <fct> & <fct> & <fct> & <fct> & <fct> & <fct> & <fct> & <fct> & <fct> & <fct> & <fct> & <fct> & <fct> & <fct> & <fct> & <fct> & <fct> & <fct> & <fct> & <fct> & <fct> & <chr> & <chr> & <chr> & <chr> & <chr>\\\\\n",
       "\\hline\n",
       "\tGSM883944 & AS\\_Glucold\\_1\\_1076.01\\_.HuGene.1\\_0.st.v1. & GSM883944 & Public on Mar 03 2012 & Mar 02 2012 & Mar 03 2012 & RNA & 1 & bronchial biopsy & Homo sapiens & time-point (0=baseline, 6 = after 6 months of treatment, 30 = after 30 months of treatment): 0  & patient glucold study id: 1076 & age (years): 63 & treatment (0=placebo 30 months, 1=fluticasone 30 months, 2=fluticasone/salmeterol 30 months, 3 = fluticasone 6 months and then placebo for the remaining 24 months of the study: 0 & gender (0=female, 1 = male): 1 & total RNA & Endobronchial biopsies were immediately snap-frozen and stored at -80 oC. RNA was extracted from bronchial biopsies and fractioned into low molecular weight (< 200 nt) and high molecular weight (> 200 nt) fractions, by using the miRNeasy mini kit (QIAGEN) according to manufacturerâ€™s protocol. Integrity of the RNA and purity of the RNA size fractionation were confirmed by using a 10\\% Tns-Borate Urea Polyacrylamide Gel Electrophoresis gel. & biotin & All procedures were performed at Boston University Microarray Resource Facility as described in GeneChipÂ® Whole Transcript (WT) Sense Target Labeling Assay Manual (Affymetrix, Santa Clara, CA, current version available at www.affymetrix.com). The Qiagen miRNeasy Mini Kit and RNeasy MinElute Cleanup Kit were used to isolate small fractions of RNA. 200 ng of large RNA fraction was reverse transcribed using Whole Transcript cDNA Synthesis kit (Affymetrix, Santa Clara, CA). The obtained cDNA was used as a template for in vitro transcription using Whole Transcript cDNA Amplification Kit (Affymetrix, Santa Clara, CA). The obtained antisense cRNA was purified using GeneChip Sample Cleanup Module (Affymetrix, Santa Clara, CA), and used as a template for reverse transcription (Whole Transcript cDNA Synthesis kit, Affymetrix, Santa Clara, CA) to produce single-stranded DNA in the sense orientation. During this step dUTP was incorporated. The DNA was then fragmented using uracil DNA glycosylase (UDG) and apurinic/apyrimidinic endonuclease 1 (APE 1) and labeled with DNA Labeling Reagent that is covalently linked to biotin using terminal deoxynucleotidyl transferase (TdT, Whole Transcript Terminal Labeling kit, Affymetrix, Santa Clara, CA). IVT and cDNA fragmentation quality controls were carried out by running an mRNA Nano assay in the Agilent 2100 Bioanalyzer. & 9606 & The labeled fragmented DNA was hybridized to the Gene Arrays 1.0 ST for 16-18 hours in GeneChip Hybridization oven 640 at 45oC with rotation (60 rpm). The hybridized samples were washed and stained using Affymetrix fluidics station 450. The first stain with streptavidin-R-phycoerythrin (SAPE) was followed by signal amplification using a biotinilated goat anti-streptavidin antibody and another SAPE staining (Hybridization, Washing and Staining Kit, Affymetrix, Santa Clara, CA). & Microarrays were immediately scanned using Affymetrix GeneArray Scanner 3000 7G Plus (Affymetrix, Santa Clara, CA). & The microarray data were preprocessed with Affymetrix Expression Console software using Affymetrix default Robust Multichip Analysis (RMA) sketch algorithm workflow. Microarray data quality of 230 arrays was assessed using relative log expression (RLE) plots, normalized unscaled standard error (NUSE) plots, and principle component analysis (PCA) of all genes across all samples. Nine arrays were excluded due to a too low quality of the microarray data. Microarray data from 9 biopsies of 9 patients were excluded. All of 221 remaining samples from 90 COPD patients were of sufficient quality for subsequent analysis. & GPL6244 & Maarten,,van den Berge & m.van.den.berge@home.nl & +31-50-3615260 & +31-50-3619320 & Pulmonary Diseases & University Medical Center Groningen & Hanzeplein 1 & Groningen & 9713GZ & Netherlands & ftp://ftp.ncbi.nlm.nih.gov/geo/samples/GSM883nnn/GSM883944/suppl/GSM883944\\_AS\\_Glucold\\_1\\_1076-01\\_HuGene-1\\_0-st-v1\\_.CEL.gz & 33297 & 63 & 1 & 1076 & 0  & 0\\\\\n",
       "\tGSM883945 & AS\\_Glucold\\_2\\_1076.11\\_.HuGene.1\\_0.st.v1. & GSM883945 & Public on Mar 03 2012 & Mar 02 2012 & Mar 03 2012 & RNA & 1 & bronchial biopsy & Homo sapiens & time-point (0=baseline, 6 = after 6 months of treatment, 30 = after 30 months of treatment): 30 & patient glucold study id: 1076 & age (years): 63 & treatment (0=placebo 30 months, 1=fluticasone 30 months, 2=fluticasone/salmeterol 30 months, 3 = fluticasone 6 months and then placebo for the remaining 24 months of the study: 0 & gender (0=female, 1 = male): 1 & total RNA & Endobronchial biopsies were immediately snap-frozen and stored at -80 oC. RNA was extracted from bronchial biopsies and fractioned into low molecular weight (< 200 nt) and high molecular weight (> 200 nt) fractions, by using the miRNeasy mini kit (QIAGEN) according to manufacturerâ€™s protocol. Integrity of the RNA and purity of the RNA size fractionation were confirmed by using a 10\\% Tns-Borate Urea Polyacrylamide Gel Electrophoresis gel. & biotin & All procedures were performed at Boston University Microarray Resource Facility as described in GeneChipÂ® Whole Transcript (WT) Sense Target Labeling Assay Manual (Affymetrix, Santa Clara, CA, current version available at www.affymetrix.com). The Qiagen miRNeasy Mini Kit and RNeasy MinElute Cleanup Kit were used to isolate small fractions of RNA. 200 ng of large RNA fraction was reverse transcribed using Whole Transcript cDNA Synthesis kit (Affymetrix, Santa Clara, CA). The obtained cDNA was used as a template for in vitro transcription using Whole Transcript cDNA Amplification Kit (Affymetrix, Santa Clara, CA). The obtained antisense cRNA was purified using GeneChip Sample Cleanup Module (Affymetrix, Santa Clara, CA), and used as a template for reverse transcription (Whole Transcript cDNA Synthesis kit, Affymetrix, Santa Clara, CA) to produce single-stranded DNA in the sense orientation. During this step dUTP was incorporated. The DNA was then fragmented using uracil DNA glycosylase (UDG) and apurinic/apyrimidinic endonuclease 1 (APE 1) and labeled with DNA Labeling Reagent that is covalently linked to biotin using terminal deoxynucleotidyl transferase (TdT, Whole Transcript Terminal Labeling kit, Affymetrix, Santa Clara, CA). IVT and cDNA fragmentation quality controls were carried out by running an mRNA Nano assay in the Agilent 2100 Bioanalyzer. & 9606 & The labeled fragmented DNA was hybridized to the Gene Arrays 1.0 ST for 16-18 hours in GeneChip Hybridization oven 640 at 45oC with rotation (60 rpm). The hybridized samples were washed and stained using Affymetrix fluidics station 450. The first stain with streptavidin-R-phycoerythrin (SAPE) was followed by signal amplification using a biotinilated goat anti-streptavidin antibody and another SAPE staining (Hybridization, Washing and Staining Kit, Affymetrix, Santa Clara, CA). & Microarrays were immediately scanned using Affymetrix GeneArray Scanner 3000 7G Plus (Affymetrix, Santa Clara, CA). & The microarray data were preprocessed with Affymetrix Expression Console software using Affymetrix default Robust Multichip Analysis (RMA) sketch algorithm workflow. Microarray data quality of 230 arrays was assessed using relative log expression (RLE) plots, normalized unscaled standard error (NUSE) plots, and principle component analysis (PCA) of all genes across all samples. Nine arrays were excluded due to a too low quality of the microarray data. Microarray data from 9 biopsies of 9 patients were excluded. All of 221 remaining samples from 90 COPD patients were of sufficient quality for subsequent analysis. & GPL6244 & Maarten,,van den Berge & m.van.den.berge@home.nl & +31-50-3615260 & +31-50-3619320 & Pulmonary Diseases & University Medical Center Groningen & Hanzeplein 1 & Groningen & 9713GZ & Netherlands & ftp://ftp.ncbi.nlm.nih.gov/geo/samples/GSM883nnn/GSM883945/suppl/GSM883945\\_AS\\_Glucold\\_2\\_1076-11\\_HuGene-1\\_0-st-v1\\_.CEL.gz & 33297 & 63 & 1 & 1076 & 30 & 0\\\\\n",
       "\tGSM883946 & AS\\_Glucold\\_3\\_1092.01\\_.HuGene.1\\_0.st.v1. & GSM883946 & Public on Mar 03 2012 & Mar 02 2012 & Mar 03 2012 & RNA & 1 & bronchial biopsy & Homo sapiens & time-point (0=baseline, 6 = after 6 months of treatment, 30 = after 30 months of treatment): 0  & patient glucold study id: 1092 & age (years): 54 & treatment (0=placebo 30 months, 1=fluticasone 30 months, 2=fluticasone/salmeterol 30 months, 3 = fluticasone 6 months and then placebo for the remaining 24 months of the study: 1 & gender (0=female, 1 = male): 1 & total RNA & Endobronchial biopsies were immediately snap-frozen and stored at -80 oC. RNA was extracted from bronchial biopsies and fractioned into low molecular weight (< 200 nt) and high molecular weight (> 200 nt) fractions, by using the miRNeasy mini kit (QIAGEN) according to manufacturerâ€™s protocol. Integrity of the RNA and purity of the RNA size fractionation were confirmed by using a 10\\% Tns-Borate Urea Polyacrylamide Gel Electrophoresis gel. & biotin & All procedures were performed at Boston University Microarray Resource Facility as described in GeneChipÂ® Whole Transcript (WT) Sense Target Labeling Assay Manual (Affymetrix, Santa Clara, CA, current version available at www.affymetrix.com). The Qiagen miRNeasy Mini Kit and RNeasy MinElute Cleanup Kit were used to isolate small fractions of RNA. 200 ng of large RNA fraction was reverse transcribed using Whole Transcript cDNA Synthesis kit (Affymetrix, Santa Clara, CA). The obtained cDNA was used as a template for in vitro transcription using Whole Transcript cDNA Amplification Kit (Affymetrix, Santa Clara, CA). The obtained antisense cRNA was purified using GeneChip Sample Cleanup Module (Affymetrix, Santa Clara, CA), and used as a template for reverse transcription (Whole Transcript cDNA Synthesis kit, Affymetrix, Santa Clara, CA) to produce single-stranded DNA in the sense orientation. During this step dUTP was incorporated. The DNA was then fragmented using uracil DNA glycosylase (UDG) and apurinic/apyrimidinic endonuclease 1 (APE 1) and labeled with DNA Labeling Reagent that is covalently linked to biotin using terminal deoxynucleotidyl transferase (TdT, Whole Transcript Terminal Labeling kit, Affymetrix, Santa Clara, CA). IVT and cDNA fragmentation quality controls were carried out by running an mRNA Nano assay in the Agilent 2100 Bioanalyzer. & 9606 & The labeled fragmented DNA was hybridized to the Gene Arrays 1.0 ST for 16-18 hours in GeneChip Hybridization oven 640 at 45oC with rotation (60 rpm). The hybridized samples were washed and stained using Affymetrix fluidics station 450. The first stain with streptavidin-R-phycoerythrin (SAPE) was followed by signal amplification using a biotinilated goat anti-streptavidin antibody and another SAPE staining (Hybridization, Washing and Staining Kit, Affymetrix, Santa Clara, CA). & Microarrays were immediately scanned using Affymetrix GeneArray Scanner 3000 7G Plus (Affymetrix, Santa Clara, CA). & The microarray data were preprocessed with Affymetrix Expression Console software using Affymetrix default Robust Multichip Analysis (RMA) sketch algorithm workflow. Microarray data quality of 230 arrays was assessed using relative log expression (RLE) plots, normalized unscaled standard error (NUSE) plots, and principle component analysis (PCA) of all genes across all samples. Nine arrays were excluded due to a too low quality of the microarray data. Microarray data from 9 biopsies of 9 patients were excluded. All of 221 remaining samples from 90 COPD patients were of sufficient quality for subsequent analysis. & GPL6244 & Maarten,,van den Berge & m.van.den.berge@home.nl & +31-50-3615260 & +31-50-3619320 & Pulmonary Diseases & University Medical Center Groningen & Hanzeplein 1 & Groningen & 9713GZ & Netherlands & ftp://ftp.ncbi.nlm.nih.gov/geo/samples/GSM883nnn/GSM883946/suppl/GSM883946\\_AS\\_Glucold\\_3\\_1092-01\\_HuGene-1\\_0-st-v1\\_.CEL.gz & 33297 & 54 & 1 & 1092 & 0  & 1\\\\\n",
       "\tGSM883947 & AS\\_Glucold\\_4\\_1092.11\\_.HuGene.1\\_0.st.v1. & GSM883947 & Public on Mar 03 2012 & Mar 02 2012 & Mar 03 2012 & RNA & 1 & bronchial biopsy & Homo sapiens & time-point (0=baseline, 6 = after 6 months of treatment, 30 = after 30 months of treatment): 30 & patient glucold study id: 1092 & age (years): 54 & treatment (0=placebo 30 months, 1=fluticasone 30 months, 2=fluticasone/salmeterol 30 months, 3 = fluticasone 6 months and then placebo for the remaining 24 months of the study: 1 & gender (0=female, 1 = male): 1 & total RNA & Endobronchial biopsies were immediately snap-frozen and stored at -80 oC. RNA was extracted from bronchial biopsies and fractioned into low molecular weight (< 200 nt) and high molecular weight (> 200 nt) fractions, by using the miRNeasy mini kit (QIAGEN) according to manufacturerâ€™s protocol. Integrity of the RNA and purity of the RNA size fractionation were confirmed by using a 10\\% Tns-Borate Urea Polyacrylamide Gel Electrophoresis gel. & biotin & All procedures were performed at Boston University Microarray Resource Facility as described in GeneChipÂ® Whole Transcript (WT) Sense Target Labeling Assay Manual (Affymetrix, Santa Clara, CA, current version available at www.affymetrix.com). The Qiagen miRNeasy Mini Kit and RNeasy MinElute Cleanup Kit were used to isolate small fractions of RNA. 200 ng of large RNA fraction was reverse transcribed using Whole Transcript cDNA Synthesis kit (Affymetrix, Santa Clara, CA). The obtained cDNA was used as a template for in vitro transcription using Whole Transcript cDNA Amplification Kit (Affymetrix, Santa Clara, CA). The obtained antisense cRNA was purified using GeneChip Sample Cleanup Module (Affymetrix, Santa Clara, CA), and used as a template for reverse transcription (Whole Transcript cDNA Synthesis kit, Affymetrix, Santa Clara, CA) to produce single-stranded DNA in the sense orientation. During this step dUTP was incorporated. The DNA was then fragmented using uracil DNA glycosylase (UDG) and apurinic/apyrimidinic endonuclease 1 (APE 1) and labeled with DNA Labeling Reagent that is covalently linked to biotin using terminal deoxynucleotidyl transferase (TdT, Whole Transcript Terminal Labeling kit, Affymetrix, Santa Clara, CA). IVT and cDNA fragmentation quality controls were carried out by running an mRNA Nano assay in the Agilent 2100 Bioanalyzer. & 9606 & The labeled fragmented DNA was hybridized to the Gene Arrays 1.0 ST for 16-18 hours in GeneChip Hybridization oven 640 at 45oC with rotation (60 rpm). The hybridized samples were washed and stained using Affymetrix fluidics station 450. The first stain with streptavidin-R-phycoerythrin (SAPE) was followed by signal amplification using a biotinilated goat anti-streptavidin antibody and another SAPE staining (Hybridization, Washing and Staining Kit, Affymetrix, Santa Clara, CA). & Microarrays were immediately scanned using Affymetrix GeneArray Scanner 3000 7G Plus (Affymetrix, Santa Clara, CA). & The microarray data were preprocessed with Affymetrix Expression Console software using Affymetrix default Robust Multichip Analysis (RMA) sketch algorithm workflow. Microarray data quality of 230 arrays was assessed using relative log expression (RLE) plots, normalized unscaled standard error (NUSE) plots, and principle component analysis (PCA) of all genes across all samples. Nine arrays were excluded due to a too low quality of the microarray data. Microarray data from 9 biopsies of 9 patients were excluded. All of 221 remaining samples from 90 COPD patients were of sufficient quality for subsequent analysis. & GPL6244 & Maarten,,van den Berge & m.van.den.berge@home.nl & +31-50-3615260 & +31-50-3619320 & Pulmonary Diseases & University Medical Center Groningen & Hanzeplein 1 & Groningen & 9713GZ & Netherlands & ftp://ftp.ncbi.nlm.nih.gov/geo/samples/GSM883nnn/GSM883947/suppl/GSM883947\\_AS\\_Glucold\\_4\\_1092-11\\_HuGene-1\\_0-st-v1\\_.CEL.gz & 33297 & 54 & 1 & 1092 & 30 & 1\\\\\n",
       "\\end{tabular}\n"
      ],
      "text/markdown": [
       "\n",
       "A data.frame: 4 × 40\n",
       "\n",
       "| <!--/--> | title &lt;fct&gt; | geo_accession &lt;chr&gt; | status &lt;fct&gt; | submission_date &lt;fct&gt; | last_update_date &lt;fct&gt; | type &lt;fct&gt; | channel_count &lt;fct&gt; | source_name_ch1 &lt;fct&gt; | organism_ch1 &lt;fct&gt; | characteristics_ch1 &lt;fct&gt; | ... ... | contact_city &lt;fct&gt; | contact_zip/postal_code &lt;fct&gt; | contact_country &lt;fct&gt; | supplementary_file &lt;fct&gt; | data_row_count &lt;fct&gt; | age (years):ch1 &lt;chr&gt; | gender (0=female, 1 = male):ch1 &lt;chr&gt; | patient glucold study id:ch1 &lt;chr&gt; | time-point (0=baseline, 6 = after 6 months of treatment, 30 = after 30 months of treatment):ch1 &lt;chr&gt; | treatment (0=placebo 30 months, 1=fluticasone 30 months, 2=fluticasone/salmeterol 30 months, 3 = fluticasone 6 months and then placebo for the remaining 24 months of the study:ch1 &lt;chr&gt; |\n",
       "|---|---|---|---|---|---|---|---|---|---|---|---|---|---|---|---|---|---|---|---|---|---|\n",
       "| GSM883944 | AS_Glucold_1_1076.01_.HuGene.1_0.st.v1. | GSM883944 | Public on Mar 03 2012 | Mar 02 2012 | Mar 03 2012 | RNA | 1 | bronchial biopsy | Homo sapiens | time-point (0=baseline, 6 = after 6 months of treatment, 30 = after 30 months of treatment): 0  | ... | Groningen | 9713GZ | Netherlands | ftp://ftp.ncbi.nlm.nih.gov/geo/samples/GSM883nnn/GSM883944/suppl/GSM883944_AS_Glucold_1_1076-01_HuGene-1_0-st-v1_.CEL.gz | 33297 | 63 | 1 | 1076 | 0  | 0 |\n",
       "| GSM883945 | AS_Glucold_2_1076.11_.HuGene.1_0.st.v1. | GSM883945 | Public on Mar 03 2012 | Mar 02 2012 | Mar 03 2012 | RNA | 1 | bronchial biopsy | Homo sapiens | time-point (0=baseline, 6 = after 6 months of treatment, 30 = after 30 months of treatment): 30 | ... | Groningen | 9713GZ | Netherlands | ftp://ftp.ncbi.nlm.nih.gov/geo/samples/GSM883nnn/GSM883945/suppl/GSM883945_AS_Glucold_2_1076-11_HuGene-1_0-st-v1_.CEL.gz | 33297 | 63 | 1 | 1076 | 30 | 0 |\n",
       "| GSM883946 | AS_Glucold_3_1092.01_.HuGene.1_0.st.v1. | GSM883946 | Public on Mar 03 2012 | Mar 02 2012 | Mar 03 2012 | RNA | 1 | bronchial biopsy | Homo sapiens | time-point (0=baseline, 6 = after 6 months of treatment, 30 = after 30 months of treatment): 0  | ... | Groningen | 9713GZ | Netherlands | ftp://ftp.ncbi.nlm.nih.gov/geo/samples/GSM883nnn/GSM883946/suppl/GSM883946_AS_Glucold_3_1092-01_HuGene-1_0-st-v1_.CEL.gz | 33297 | 54 | 1 | 1092 | 0  | 1 |\n",
       "| GSM883947 | AS_Glucold_4_1092.11_.HuGene.1_0.st.v1. | GSM883947 | Public on Mar 03 2012 | Mar 02 2012 | Mar 03 2012 | RNA | 1 | bronchial biopsy | Homo sapiens | time-point (0=baseline, 6 = after 6 months of treatment, 30 = after 30 months of treatment): 30 | ... | Groningen | 9713GZ | Netherlands | ftp://ftp.ncbi.nlm.nih.gov/geo/samples/GSM883nnn/GSM883947/suppl/GSM883947_AS_Glucold_4_1092-11_HuGene-1_0-st-v1_.CEL.gz | 33297 | 54 | 1 | 1092 | 30 | 1 |\n",
       "\n"
      ],
      "text/plain": [
       "          title                                   geo_accession\n",
       "GSM883944 AS_Glucold_1_1076.01_.HuGene.1_0.st.v1. GSM883944    \n",
       "GSM883945 AS_Glucold_2_1076.11_.HuGene.1_0.st.v1. GSM883945    \n",
       "GSM883946 AS_Glucold_3_1092.01_.HuGene.1_0.st.v1. GSM883946    \n",
       "GSM883947 AS_Glucold_4_1092.11_.HuGene.1_0.st.v1. GSM883947    \n",
       "          status                submission_date last_update_date type\n",
       "GSM883944 Public on Mar 03 2012 Mar 02 2012     Mar 03 2012      RNA \n",
       "GSM883945 Public on Mar 03 2012 Mar 02 2012     Mar 03 2012      RNA \n",
       "GSM883946 Public on Mar 03 2012 Mar 02 2012     Mar 03 2012      RNA \n",
       "GSM883947 Public on Mar 03 2012 Mar 02 2012     Mar 03 2012      RNA \n",
       "          channel_count source_name_ch1  organism_ch1\n",
       "GSM883944 1             bronchial biopsy Homo sapiens\n",
       "GSM883945 1             bronchial biopsy Homo sapiens\n",
       "GSM883946 1             bronchial biopsy Homo sapiens\n",
       "GSM883947 1             bronchial biopsy Homo sapiens\n",
       "          characteristics_ch1                                                                            \n",
       "GSM883944 time-point (0=baseline, 6 = after 6 months of treatment, 30 = after 30 months of treatment): 0 \n",
       "GSM883945 time-point (0=baseline, 6 = after 6 months of treatment, 30 = after 30 months of treatment): 30\n",
       "GSM883946 time-point (0=baseline, 6 = after 6 months of treatment, 30 = after 30 months of treatment): 0 \n",
       "GSM883947 time-point (0=baseline, 6 = after 6 months of treatment, 30 = after 30 months of treatment): 30\n",
       "          ... contact_city contact_zip/postal_code contact_country\n",
       "GSM883944 ... Groningen    9713GZ                  Netherlands    \n",
       "GSM883945 ... Groningen    9713GZ                  Netherlands    \n",
       "GSM883946 ... Groningen    9713GZ                  Netherlands    \n",
       "GSM883947 ... Groningen    9713GZ                  Netherlands    \n",
       "          supplementary_file                                                                                                      \n",
       "GSM883944 ftp://ftp.ncbi.nlm.nih.gov/geo/samples/GSM883nnn/GSM883944/suppl/GSM883944_AS_Glucold_1_1076-01_HuGene-1_0-st-v1_.CEL.gz\n",
       "GSM883945 ftp://ftp.ncbi.nlm.nih.gov/geo/samples/GSM883nnn/GSM883945/suppl/GSM883945_AS_Glucold_2_1076-11_HuGene-1_0-st-v1_.CEL.gz\n",
       "GSM883946 ftp://ftp.ncbi.nlm.nih.gov/geo/samples/GSM883nnn/GSM883946/suppl/GSM883946_AS_Glucold_3_1092-01_HuGene-1_0-st-v1_.CEL.gz\n",
       "GSM883947 ftp://ftp.ncbi.nlm.nih.gov/geo/samples/GSM883nnn/GSM883947/suppl/GSM883947_AS_Glucold_4_1092-11_HuGene-1_0-st-v1_.CEL.gz\n",
       "          data_row_count age (years):ch1 gender (0=female, 1 = male):ch1\n",
       "GSM883944 33297          63              1                              \n",
       "GSM883945 33297          63              1                              \n",
       "GSM883946 33297          54              1                              \n",
       "GSM883947 33297          54              1                              \n",
       "          patient glucold study id:ch1\n",
       "GSM883944 1076                        \n",
       "GSM883945 1076                        \n",
       "GSM883946 1092                        \n",
       "GSM883947 1092                        \n",
       "          time-point (0=baseline, 6 = after 6 months of treatment, 30 = after 30 months of treatment):ch1\n",
       "GSM883944 0                                                                                              \n",
       "GSM883945 30                                                                                             \n",
       "GSM883946 0                                                                                              \n",
       "GSM883947 30                                                                                             \n",
       "          treatment (0=placebo 30 months, 1=fluticasone 30 months, 2=fluticasone/salmeterol 30 months, 3 = fluticasone 6 months and then placebo for the remaining 24 months of the study:ch1\n",
       "GSM883944 0                                                                                                                                                                                  \n",
       "GSM883945 0                                                                                                                                                                                  \n",
       "GSM883946 1                                                                                                                                                                                  \n",
       "GSM883947 1                                                                                                                                                                                  "
      ]
     },
     "metadata": {},
     "output_type": "display_data"
    },
    {
     "data": {
      "text/html": [
       "<ol class=list-inline>\n",
       "\t<li>221</li>\n",
       "\t<li>40</li>\n",
       "</ol>\n"
      ],
      "text/latex": [
       "\\begin{enumerate*}\n",
       "\\item 221\n",
       "\\item 40\n",
       "\\end{enumerate*}\n"
      ],
      "text/markdown": [
       "1. 221\n",
       "2. 40\n",
       "\n",
       "\n"
      ],
      "text/plain": [
       "[1] 221  40"
      ]
     },
     "metadata": {},
     "output_type": "display_data"
    }
   ],
   "source": [
    "pdata <- Example[[2]]\n",
    "head(pdata)[1:4,]\n",
    "dim(pdata)\n",
    "rm(Example)"
   ]
  },
  {
   "cell_type": "code",
   "execution_count": 9,
   "metadata": {},
   "outputs": [
    {
     "name": "stderr",
     "output_type": "stream",
     "text": [
      "Your code contains a unicode char which cannot be displayed in your\n",
      "current locale and R will silently convert it to an escaped form when the\n",
      "R kernel executes this code. This can lead to subtle errors if you use\n",
      "such chars to do comparisons. For more information, please see\n",
      "https://github.com/IRkernel/repr/wiki/Problems-with-unicode-on-windowsLoading required package: stats4\n",
      "Loading required package: IRanges\n",
      "Loading required package: S4Vectors\n",
      "\n",
      "Attaching package: 'S4Vectors'\n",
      "\n",
      "The following object is masked from 'package:base':\n",
      "\n",
      "    expand.grid\n",
      "\n",
      "\n",
      "Attaching package: 'IRanges'\n",
      "\n",
      "The following object is masked from 'package:grDevices':\n",
      "\n",
      "    windows\n",
      "\n",
      "Loading required package: org.Hs.eg.db\n",
      "\n",
      "\n",
      "'select()' returned 1:many mapping between keys and columns\n"
     ]
    },
    {
     "data": {
      "text/html": [
       "<table>\n",
       "<caption>A data.frame: 6 × 225</caption>\n",
       "<thead>\n",
       "\t<tr><th scope=col>PROBEID</th><th scope=col>GSM883944</th><th scope=col>GSM883945</th><th scope=col>GSM883946</th><th scope=col>GSM883947</th><th scope=col>GSM883948</th><th scope=col>GSM883949</th><th scope=col>GSM883950</th><th scope=col>GSM883951</th><th scope=col>GSM883952</th><th scope=col>...</th><th scope=col>GSM884158</th><th scope=col>GSM884159</th><th scope=col>GSM884160</th><th scope=col>GSM884161</th><th scope=col>GSM884162</th><th scope=col>GSM884163</th><th scope=col>GSM884164</th><th scope=col>SYMBOL</th><th scope=col>ENTREZID</th><th scope=col>GENENAME</th></tr>\n",
       "\t<tr><th scope=col>&lt;chr&gt;</th><th scope=col>&lt;dbl&gt;</th><th scope=col>&lt;dbl&gt;</th><th scope=col>&lt;dbl&gt;</th><th scope=col>&lt;dbl&gt;</th><th scope=col>&lt;dbl&gt;</th><th scope=col>&lt;dbl&gt;</th><th scope=col>&lt;dbl&gt;</th><th scope=col>&lt;dbl&gt;</th><th scope=col>&lt;dbl&gt;</th><th scope=col>...</th><th scope=col>&lt;dbl&gt;</th><th scope=col>&lt;dbl&gt;</th><th scope=col>&lt;dbl&gt;</th><th scope=col>&lt;dbl&gt;</th><th scope=col>&lt;dbl&gt;</th><th scope=col>&lt;dbl&gt;</th><th scope=col>&lt;dbl&gt;</th><th scope=col>&lt;chr&gt;</th><th scope=col>&lt;chr&gt;</th><th scope=col>&lt;chr&gt;</th></tr>\n",
       "</thead>\n",
       "<tbody>\n",
       "\t<tr><td>7892501</td><td>1.918230</td><td>4.097614</td><td>3.105726</td><td>3.790488</td><td>1.391350</td><td>1.331789</td><td>2.929378</td><td>2.545538</td><td>3.766843</td><td>...</td><td>0.5465292</td><td>1.008059</td><td>0.8852806</td><td>0.8839867</td><td>1.456518</td><td>0.8379084</td><td>1.397130</td><td>NA</td><td>NA</td><td>NA</td></tr>\n",
       "\t<tr><td>7892502</td><td>3.453556</td><td>4.090684</td><td>3.354695</td><td>4.594078</td><td>3.685259</td><td>3.703401</td><td>4.089552</td><td>4.267443</td><td>3.694993</td><td>...</td><td>3.0365590</td><td>3.450284</td><td>3.1332740</td><td>2.9674340</td><td>2.728616</td><td>3.0201680</td><td>4.166057</td><td>NA</td><td>NA</td><td>NA</td></tr>\n",
       "\t<tr><td>7892503</td><td>3.242056</td><td>4.023951</td><td>3.070213</td><td>3.135199</td><td>3.598176</td><td>2.314419</td><td>5.085920</td><td>3.981360</td><td>3.863381</td><td>...</td><td>1.4140530</td><td>2.503709</td><td>2.2662330</td><td>2.4147070</td><td>1.831537</td><td>2.4228760</td><td>2.257915</td><td>NA</td><td>NA</td><td>NA</td></tr>\n",
       "\t<tr><td>7892504</td><td>9.098461</td><td>7.967779</td><td>8.538803</td><td>8.092846</td><td>8.056301</td><td>8.261771</td><td>8.317191</td><td>8.532050</td><td>7.544576</td><td>...</td><td>7.7891730</td><td>8.061747</td><td>7.4972980</td><td>7.4019810</td><td>8.201867</td><td>7.4582450</td><td>8.631525</td><td>NA</td><td>NA</td><td>NA</td></tr>\n",
       "\t<tr><td>7892505</td><td>2.674147</td><td>1.716874</td><td>1.793022</td><td>1.631902</td><td>3.038372</td><td>3.797781</td><td>1.622011</td><td>2.200060</td><td>2.407372</td><td>...</td><td>2.9692990</td><td>3.190290</td><td>2.8427180</td><td>3.5398860</td><td>2.677016</td><td>3.3732910</td><td>1.702254</td><td>NA</td><td>NA</td><td>NA</td></tr>\n",
       "\t<tr><td>7892506</td><td>1.043313</td><td>2.265351</td><td>2.156243</td><td>2.036461</td><td>1.510491</td><td>2.219413</td><td>1.834325</td><td>2.881916</td><td>2.985007</td><td>...</td><td>3.1253810</td><td>3.116202</td><td>2.7031140</td><td>3.2447980</td><td>1.849631</td><td>2.5799180</td><td>2.051225</td><td>NA</td><td>NA</td><td>NA</td></tr>\n",
       "</tbody>\n",
       "</table>\n"
      ],
      "text/latex": [
       "A data.frame: 6 × 225\n",
       "\\begin{tabular}{r|lllllllllllllllllllllllllllllllllllllllllllllllllllllllllllllllllllllllllllllllllllllllllllllllllllllllllllllllllllllllllllllllllllllllllllllllllllllllllllllllllllllllllllllllllllllllllllllllllllllllllllllllllllllllllllllllll}\n",
       " PROBEID & GSM883944 & GSM883945 & GSM883946 & GSM883947 & GSM883948 & GSM883949 & GSM883950 & GSM883951 & GSM883952 & GSM883953 & GSM883954 & GSM883955 & GSM883956 & GSM883957 & GSM883958 & GSM883959 & GSM883960 & GSM883961 & GSM883962 & GSM883963 & GSM883964 & GSM883965 & GSM883966 & GSM883967 & GSM883968 & GSM883969 & GSM883970 & GSM883971 & GSM883972 & GSM883973 & GSM883974 & GSM883975 & GSM883976 & GSM883977 & GSM883978 & GSM883979 & GSM883980 & GSM883981 & GSM883982 & GSM883983 & GSM883984 & GSM883985 & GSM883986 & GSM883987 & GSM883988 & GSM883989 & GSM883990 & GSM883991 & GSM883992 & GSM883993 & GSM883994 & GSM883995 & GSM883996 & GSM883997 & GSM883998 & GSM883999 & GSM884000 & GSM884001 & GSM884002 & GSM884003 & GSM884004 & GSM884005 & GSM884006 & GSM884007 & GSM884008 & GSM884009 & GSM884010 & GSM884011 & GSM884012 & GSM884013 & GSM884014 & GSM884015 & GSM884016 & GSM884017 & GSM884018 & GSM884019 & GSM884020 & GSM884021 & GSM884022 & GSM884023 & GSM884024 & GSM884025 & GSM884026 & GSM884027 & GSM884028 & GSM884029 & GSM884030 & GSM884031 & GSM884032 & GSM884033 & GSM884034 & GSM884035 & GSM884036 & GSM884037 & GSM884038 & GSM884039 & GSM884040 & GSM884041 & GSM884042 & GSM884043 & GSM884044 & GSM884045 & GSM884046 & GSM884047 & GSM884048 & GSM884049 & GSM884050 & GSM884051 & GSM884052 & GSM884053 & GSM884054 & GSM884055 & GSM884056 & GSM884057 & GSM884058 & GSM884059 & GSM884060 & GSM884061 & GSM884062 & GSM884063 & GSM884064 & GSM884065 & GSM884066 & GSM884067 & GSM884068 & GSM884069 & GSM884070 & GSM884071 & GSM884072 & GSM884073 & GSM884074 & GSM884075 & GSM884076 & GSM884077 & GSM884078 & GSM884079 & GSM884080 & GSM884081 & GSM884082 & GSM884083 & GSM884084 & GSM884085 & GSM884086 & GSM884087 & GSM884088 & GSM884089 & GSM884090 & GSM884091 & GSM884092 & GSM884093 & GSM884094 & GSM884095 & GSM884096 & GSM884097 & GSM884098 & GSM884099 & GSM884100 & GSM884101 & GSM884102 & GSM884103 & GSM884104 & GSM884105 & GSM884106 & GSM884107 & GSM884108 & GSM884109 & GSM884110 & GSM884111 & GSM884112 & GSM884113 & GSM884114 & GSM884115 & GSM884116 & GSM884117 & GSM884118 & GSM884119 & GSM884120 & GSM884121 & GSM884122 & GSM884123 & GSM884124 & GSM884125 & GSM884126 & GSM884127 & GSM884128 & GSM884129 & GSM884130 & GSM884131 & GSM884132 & GSM884133 & GSM884134 & GSM884135 & GSM884136 & GSM884137 & GSM884138 & GSM884139 & GSM884140 & GSM884141 & GSM884142 & GSM884143 & GSM884144 & GSM884145 & GSM884146 & GSM884147 & GSM884148 & GSM884149 & GSM884150 & GSM884151 & GSM884152 & GSM884153 & GSM884154 & GSM884155 & GSM884156 & GSM884157 & GSM884158 & GSM884159 & GSM884160 & GSM884161 & GSM884162 & GSM884163 & GSM884164 & SYMBOL & ENTREZID & GENENAME\\\\\n",
       " <chr> & <dbl> & <dbl> & <dbl> & <dbl> & <dbl> & <dbl> & <dbl> & <dbl> & <dbl> & <dbl> & <dbl> & <dbl> & <dbl> & <dbl> & <dbl> & <dbl> & <dbl> & <dbl> & <dbl> & <dbl> & <dbl> & <dbl> & <dbl> & <dbl> & <dbl> & <dbl> & <dbl> & <dbl> & <dbl> & <dbl> & <dbl> & <dbl> & <dbl> & <dbl> & <dbl> & <dbl> & <dbl> & <dbl> & <dbl> & <dbl> & <dbl> & <dbl> & <dbl> & <dbl> & <dbl> & <dbl> & <dbl> & <dbl> & <dbl> & <dbl> & <dbl> & <dbl> & <dbl> & <dbl> & <dbl> & <dbl> & <dbl> & <dbl> & <dbl> & <dbl> & <dbl> & <dbl> & <dbl> & <dbl> & <dbl> & <dbl> & <dbl> & <dbl> & <dbl> & <dbl> & <dbl> & <dbl> & <dbl> & <dbl> & <dbl> & <dbl> & <dbl> & <dbl> & <dbl> & <dbl> & <dbl> & <dbl> & <dbl> & <dbl> & <dbl> & <dbl> & <dbl> & <dbl> & <dbl> & <dbl> & <dbl> & <dbl> & <dbl> & <dbl> & <dbl> & <dbl> & <dbl> & <dbl> & <dbl> & <dbl> & <dbl> & <dbl> & <dbl> & <dbl> & <dbl> & <dbl> & <dbl> & <dbl> & <dbl> & <dbl> & <dbl> & <dbl> & <dbl> & <dbl> & <dbl> & <dbl> & <dbl> & <dbl> & <dbl> & <dbl> & <dbl> & <dbl> & <dbl> & <dbl> & <dbl> & <dbl> & <dbl> & <dbl> & <dbl> & <dbl> & <dbl> & <dbl> & <dbl> & <dbl> & <dbl> & <dbl> & <dbl> & <dbl> & <dbl> & <dbl> & <dbl> & <dbl> & <dbl> & <dbl> & <dbl> & <dbl> & <dbl> & <dbl> & <dbl> & <dbl> & <dbl> & <dbl> & <dbl> & <dbl> & <dbl> & <dbl> & <dbl> & <dbl> & <dbl> & <dbl> & <dbl> & <dbl> & <dbl> & <dbl> & <dbl> & <dbl> & <dbl> & <dbl> & <dbl> & <dbl> & <dbl> & <dbl> & <dbl> & <dbl> & <dbl> & <dbl> & <dbl> & <dbl> & <dbl> & <dbl> & <dbl> & <dbl> & <dbl> & <dbl> & <dbl> & <dbl> & <dbl> & <dbl> & <dbl> & <dbl> & <dbl> & <dbl> & <dbl> & <dbl> & <dbl> & <dbl> & <dbl> & <dbl> & <dbl> & <dbl> & <dbl> & <dbl> & <dbl> & <dbl> & <dbl> & <dbl> & <dbl> & <dbl> & <dbl> & <dbl> & <dbl> & <dbl> & <dbl> & <dbl> & <dbl> & <dbl> & <dbl> & <dbl> & <dbl> & <dbl> & <dbl> & <chr> & <chr> & <chr>\\\\\n",
       "\\hline\n",
       "\t 7892501 & 1.918230 & 4.097614 & 3.105726 & 3.790488 & 1.391350 & 1.331789 & 2.929378 & 2.545538 & 3.766843 & 2.634505 & 3.332794 & 3.588249 & 2.401407 & 1.602277 & 3.912462 & 1.979184 & 1.078590 & 3.194590 & 2.136845 & 1.647060 & 1.318282 & 2.671916 & 2.271019 & 2.850580 & 3.400055 & 3.719816 & 2.917145 & 2.777518 & 3.678591 & 1.475295 & 3.203369 & 3.696333 & 2.295144 & 2.815823 & 3.457647 & 3.479953 & 3.336363 & 3.573190 & 3.357297 & 2.638977 & 1.956370 & 3.213960 & 1.227710 & 2.209301 & 2.380167 & 3.053252 & 1.094222 & 4.024928 & 2.467865 & 1.912795 & 2.344288 & 2.341553 & 4.031802 & 3.322222 & 2.811239 & 3.950292 & 1.899955 & 1.848908 & 2.802722 & 2.319400 & 3.120579 & 1.416180 & 1.0629610 & 1.660109 & 3.707395 & 1.164125 & 1.914164 & 2.703288 & 2.388161 & 2.466281 & 1.420722 & 2.629806 & 2.929181 & 3.379814 & 1.974702 & 2.427896 & 3.564077 & 2.771802 & 4.099300 & 3.944633 & 3.269885 & 4.273954 & 2.826707 & 2.685633 & 1.233724 & 1.897179 & 4.497960 & 2.002842 & 3.766988 & 2.349334 & 3.595485 & 2.394122 & 1.949822 & 1.479041 & 2.538990 & 2.879392 & 2.972647 & 2.886420 & 2.003603 & 0.6657859 & 0.9358383 & 2.738060 & 1.036485 & 1.570548 & 2.415344 & 3.209098 & 2.554838 & 3.580663 & 1.488184 & 1.519789 & 4.788120 & 3.278648 & 5.137203 & 2.622029 & 1.265350 & 1.833550 & 2.476012 & 1.581458 & 1.136591 & 2.285270 & 3.425393 & 2.204021 & 2.897657 & 3.261677 & 3.331621 & 3.122446 & 2.557377 & 1.653576 & 2.432848 & 2.388171 & 2.810691 & 1.625247 & 2.244264 & 1.924420 & 1.500013 & 1.820409 & 3.469223 & 2.386269 & 1.019181 & 3.540678 & 3.180872 & 1.058313 & 4.636234 & 2.912144 & 1.685614 & 2.948304 & 1.851852 & 2.043225 & 3.660693 & 2.565598 & 2.654736 & 3.298747 & 1.834077 & 2.036114 & 0.860504 & 2.932019 & 1.685386 & 2.403873 & 2.936482 & 1.314467 & 3.390300 & 2.165351 & 0.5702239 & 1.476243 & 0.9562243 & 1.345136 & 1.651371 & 1.842548 & 0.9491073 & 1.044184 & 2.364814 & 2.218836 & 1.410637 & 1.500055 & 1.393061 & 1.566006 & 1.573763 & 1.122670 & 0.9563004 & 1.510796 & 0.8323619 & 0.754936 & 1.078051 & 1.043307 & 1.825329 & 0.6649276 & 0.9592149 & 0.7238765 & 1.194112 & 1.035779 & 0.8084748 & 1.370024 & 1.684386 & 1.694660 & 1.422752 & 1.189674 & 0.8558819 & 0.9180235 & 0.8345279 & 1.195702 & 1.789973 & 1.180058 & 1.119954 & 1.423721 & 1.157434 & 0.8399478 & 0.9669598 & 1.050616 & 1.183804 & 1.183383 & 1.4057330 & 1.066667 & 1.123598 & 1.235926 & 0.5465292 & 1.008059 & 0.8852806 & 0.8839867 & 1.456518 & 0.8379084 & 1.397130 & NA & NA & NA\\\\\n",
       "\t 7892502 & 3.453556 & 4.090684 & 3.354695 & 4.594078 & 3.685259 & 3.703401 & 4.089552 & 4.267443 & 3.694993 & 3.875920 & 4.603488 & 4.290805 & 3.765134 & 3.099287 & 4.045544 & 3.498085 & 2.584691 & 3.667252 & 3.926705 & 3.159349 & 3.259462 & 4.904689 & 3.272413 & 4.036407 & 4.377209 & 4.014555 & 4.900909 & 4.472228 & 4.333149 & 3.410418 & 4.093071 & 4.408924 & 4.080024 & 3.242519 & 3.817177 & 3.478837 & 3.864376 & 3.354103 & 4.094002 & 2.766250 & 2.931539 & 3.779116 & 2.753393 & 2.691848 & 4.033966 & 3.712511 & 2.902597 & 3.348868 & 3.044674 & 2.444150 & 3.527654 & 4.015509 & 4.003645 & 3.650077 & 3.651707 & 4.553974 & 3.267496 & 3.188706 & 4.391198 & 3.693721 & 4.093491 & 4.226484 & 3.3768270 & 3.168188 & 3.544153 & 2.716249 & 2.505926 & 3.240012 & 2.961750 & 2.985966 & 2.773944 & 2.803473 & 3.300820 & 2.747976 & 2.877295 & 3.421561 & 4.284629 & 3.972250 & 4.547750 & 4.212354 & 3.929903 & 4.277757 & 3.519080 & 2.943452 & 3.424777 & 3.546939 & 3.258577 & 3.517363 & 3.631654 & 3.167534 & 2.989170 & 2.846317 & 3.420847 & 3.535513 & 3.190281 & 3.274575 & 3.421195 & 2.942759 & 3.377856 & 3.5955020 & 3.1492100 & 3.127489 & 2.587783 & 3.090475 & 3.377305 & 3.089180 & 2.899361 & 2.971854 & 2.467361 & 3.296066 & 2.914494 & 2.918257 & 3.911780 & 3.706671 & 2.746691 & 3.686470 & 2.668464 & 3.182239 & 4.240860 & 3.615000 & 3.621686 & 3.674997 & 2.836828 & 3.479205 & 4.194063 & 4.484712 & 3.612907 & 2.863995 & 3.104257 & 2.741278 & 3.060187 & 2.934978 & 2.485661 & 3.608248 & 3.086592 & 3.393244 & 3.698619 & 3.140903 & 2.588222 & 2.789300 & 3.677188 & 2.753659 & 3.578647 & 3.375309 & 3.223054 & 2.676884 & 3.293884 & 3.003124 & 3.261016 & 3.692173 & 3.285792 & 3.187125 & 3.342784 & 3.669863 & 3.191248 & 3.429344 & 3.477515 & 3.214787 & 3.753896 & 3.512332 & 3.885039 & 3.504761 & 3.9587200 & 4.155244 & 3.1479050 & 4.131058 & 3.570272 & 2.930086 & 3.4841280 & 3.420692 & 4.073470 & 2.800354 & 3.303350 & 3.510329 & 3.915910 & 4.133023 & 3.612404 & 4.146122 & 3.4584440 & 3.893342 & 3.1743470 & 2.920686 & 4.086007 & 3.597877 & 2.939856 & 3.7583090 & 3.2047720 & 3.5170760 & 3.749580 & 3.027243 & 2.2588090 & 3.011185 & 4.386844 & 3.480133 & 3.069005 & 2.935059 & 4.3297030 & 2.9275590 & 2.9115360 & 3.413837 & 2.759129 & 3.157707 & 3.781388 & 2.956038 & 2.564652 & 3.6325070 & 3.1715510 & 3.142678 & 3.872289 & 3.046885 & 3.1741470 & 2.931333 & 2.780025 & 2.705421 & 3.0365590 & 3.450284 & 3.1332740 & 2.9674340 & 2.728616 & 3.0201680 & 4.166057 & NA & NA & NA\\\\\n",
       "\t 7892503 & 3.242056 & 4.023951 & 3.070213 & 3.135199 & 3.598176 & 2.314419 & 5.085920 & 3.981360 & 3.863381 & 3.531614 & 4.102443 & 4.677901 & 3.654482 & 2.196381 & 3.657848 & 2.894289 & 3.355796 & 2.537770 & 3.920800 & 3.022864 & 3.327044 & 3.965810 & 3.045871 & 3.222765 & 3.979566 & 3.762334 & 3.499989 & 3.875493 & 3.639406 & 3.097843 & 4.329555 & 2.727556 & 2.697379 & 3.009370 & 2.550159 & 3.089532 & 2.523033 & 3.371257 & 2.616226 & 2.408334 & 1.786556 & 2.788141 & 2.034684 & 2.512243 & 2.716196 & 3.088454 & 2.851524 & 2.485888 & 2.179753 & 2.925570 & 1.654847 & 1.582453 & 3.494079 & 3.844842 & 2.842963 & 3.122973 & 3.436136 & 3.594239 & 1.874530 & 4.022242 & 3.748125 & 3.490118 & 3.1250020 & 2.236947 & 3.011677 & 1.414100 & 2.202313 & 3.425370 & 3.120644 & 2.962379 & 2.358212 & 2.818418 & 2.937954 & 2.292549 & 3.092715 & 2.473028 & 3.254765 & 2.961956 & 4.511906 & 3.128606 & 2.990768 & 1.903691 & 2.938834 & 2.204010 & 2.397309 & 3.337599 & 3.165581 & 2.212133 & 3.125049 & 1.759991 & 2.527897 & 2.051960 & 2.581097 & 3.008969 & 2.940668 & 3.990521 & 3.124971 & 2.167069 & 2.086314 & 3.2327840 & 2.0447320 & 2.343352 & 1.401765 & 3.341217 & 3.318457 & 2.114638 & 2.718544 & 2.124588 & 2.361813 & 3.045887 & 2.272307 & 3.675083 & 3.540423 & 3.039834 & 3.113286 & 2.982055 & 2.931060 & 3.165411 & 3.149340 & 3.576637 & 2.556586 & 2.754405 & 3.727401 & 2.679310 & 2.472480 & 2.582898 & 2.665501 & 4.353131 & 3.770904 & 2.314084 & 2.787189 & 2.010992 & 1.312068 & 2.727889 & 3.988269 & 2.294195 & 4.761065 & 2.534887 & 2.373911 & 2.237281 & 3.549761 & 2.333034 & 3.574713 & 3.254248 & 2.974846 & 3.435707 & 2.959908 & 1.999637 & 3.297624 & 3.736640 & 2.561033 & 3.181296 & 2.568563 & 2.809062 & 1.887520 & 1.880465 & 2.845585 & 2.203537 & 2.596549 & 2.786522 & 3.274932 & 2.534212 & 2.7812350 & 1.924108 & 2.4153050 & 2.386750 & 2.652445 & 3.624806 & 2.1439140 & 1.828241 & 2.216763 & 2.687286 & 2.589568 & 2.458488 & 2.170433 & 2.273288 & 2.865727 & 3.139297 & 2.4730650 & 2.804793 & 2.4306680 & 2.316155 & 1.568996 & 2.533203 & 2.578873 & 2.3502960 & 2.0324800 & 2.1297620 & 1.985951 & 1.826827 & 2.2890340 & 2.614655 & 1.230434 & 3.130785 & 1.258837 & 2.698543 & 2.1614160 & 2.5661420 & 2.2144240 & 1.657771 & 1.915214 & 1.780792 & 1.923671 & 2.405552 & 2.067864 & 2.4011950 & 2.6729140 & 2.982667 & 1.411082 & 2.946907 & 4.4884390 & 2.887511 & 2.175284 & 2.141499 & 1.4140530 & 2.503709 & 2.2662330 & 2.4147070 & 1.831537 & 2.4228760 & 2.257915 & NA & NA & NA\\\\\n",
       "\t 7892504 & 9.098461 & 7.967779 & 8.538803 & 8.092846 & 8.056301 & 8.261771 & 8.317191 & 8.532050 & 7.544576 & 8.094618 & 7.576362 & 8.308664 & 8.191261 & 8.407607 & 7.924888 & 8.670264 & 8.543041 & 7.676328 & 8.168587 & 8.600210 & 9.087055 & 8.138917 & 8.552007 & 7.822236 & 8.367393 & 8.303878 & 7.856943 & 8.195951 & 8.159793 & 8.421761 & 8.160440 & 8.457070 & 9.122445 & 9.346228 & 8.202665 & 8.905387 & 8.575060 & 9.012425 & 8.721043 & 8.993655 & 9.061518 & 8.472097 & 9.043821 & 9.281355 & 8.261022 & 9.095576 & 9.294912 & 8.449864 & 9.076273 & 8.869858 & 9.232891 & 9.011440 & 9.182749 & 9.117346 & 8.959207 & 8.285837 & 9.323014 & 9.194036 & 8.915154 & 8.218192 & 8.251061 & 8.200450 & 8.8194140 & 8.543781 & 8.554742 & 9.476757 & 8.640216 & 8.559061 & 8.809092 & 9.327435 & 9.481106 & 9.312191 & 9.227311 & 9.005225 & 9.178432 & 9.060730 & 9.206103 & 7.982285 & 8.471114 & 8.523378 & 8.292871 & 8.643250 & 8.741982 & 9.193442 & 9.051254 & 8.565621 & 7.948589 & 8.604090 & 8.806467 & 9.374166 & 8.911963 & 9.080891 & 9.177539 & 9.090959 & 8.690205 & 8.578841 & 9.454257 & 9.292737 & 9.512969 & 9.3802490 & 9.3662240 & 9.035896 & 9.671453 & 9.549759 & 9.070383 & 8.570046 & 9.219802 & 8.479975 & 9.547082 & 8.949112 & 8.850567 & 9.374314 & 8.780735 & 8.920048 & 9.542783 & 9.007187 & 8.594921 & 8.317568 & 8.535835 & 8.735171 & 8.807922 & 8.155374 & 8.456082 & 7.992021 & 8.897362 & 8.869354 & 8.929969 & 9.841278 & 9.079709 & 9.803905 & 8.955596 & 9.109368 & 9.085032 & 8.769817 & 9.407351 & 8.958942 & 8.945915 & 9.009258 & 8.916521 & 8.703897 & 8.585881 & 9.335450 & 9.016956 & 8.706645 & 8.809161 & 9.105263 & 8.994781 & 9.240517 & 8.804390 & 8.454309 & 8.990734 & 8.784536 & 8.567652 & 8.583764 & 8.794221 & 8.542809 & 8.636794 & 9.302739 & 8.195637 & 9.325592 & 8.714715 & 8.978433 & 9.0762730 & 7.445563 & 8.2332560 & 8.042564 & 7.351552 & 7.229141 & 7.5318980 & 7.710834 & 7.802247 & 7.315338 & 7.255378 & 6.803576 & 7.250689 & 7.888288 & 7.052443 & 7.130530 & 7.4754480 & 7.782488 & 7.1556210 & 8.019835 & 8.387019 & 7.006828 & 7.918451 & 7.3515110 & 7.3265710 & 7.8675170 & 8.062645 & 7.595384 & 8.2809170 & 8.173527 & 7.898060 & 7.688282 & 8.336876 & 7.405074 & 7.4758660 & 8.3948050 & 8.1983760 & 7.845531 & 8.173851 & 7.868989 & 8.037080 & 8.005928 & 7.854838 & 7.7645050 & 7.7619060 & 7.413453 & 8.456643 & 7.427594 & 8.1293430 & 8.230978 & 8.590764 & 8.794366 & 7.7891730 & 8.061747 & 7.4972980 & 7.4019810 & 8.201867 & 7.4582450 & 8.631525 & NA & NA & NA\\\\\n",
       "\t 7892505 & 2.674147 & 1.716874 & 1.793022 & 1.631902 & 3.038372 & 3.797781 & 1.622011 & 2.200060 & 2.407372 & 1.986968 & 1.412145 & 2.670049 & 1.900999 & 1.911385 & 1.396880 & 3.144051 & 2.457880 & 2.007395 & 2.378978 & 2.061911 & 2.965060 & 1.843298 & 2.704889 & 1.739380 & 2.087781 & 2.103040 & 2.325183 & 2.080904 & 2.706962 & 1.929567 & 1.644734 & 2.326522 & 2.676914 & 3.112143 & 1.444092 & 2.205182 & 2.800070 & 2.445251 & 1.468069 & 2.117541 & 2.144692 & 1.832568 & 1.724737 & 1.549808 & 2.142555 & 2.915364 & 2.207084 & 1.551694 & 3.176833 & 2.195981 & 1.459975 & 1.607652 & 2.881612 & 1.853653 & 1.620788 & 2.390794 & 2.206712 & 2.064495 & 2.236017 & 1.813745 & 3.010672 & 2.224844 & 0.9999236 & 1.142939 & 1.738315 & 1.985846 & 2.315912 & 1.640015 & 2.108892 & 1.915312 & 2.448972 & 1.908798 & 2.063375 & 2.216239 & 1.606807 & 2.307149 & 2.499933 & 2.203897 & 2.199796 & 1.947947 & 2.761196 & 2.127571 & 2.192054 & 2.287023 & 1.772412 & 1.973044 & 2.221200 & 1.455862 & 1.699469 & 1.460730 & 1.848934 & 1.408520 & 2.036347 & 2.275403 & 2.056931 & 1.992929 & 1.578359 & 1.545402 & 2.145289 & 1.4413630 & 1.3648090 & 2.457817 & 1.741722 & 1.947842 & 1.599685 & 1.551033 & 2.181817 & 1.847390 & 2.149459 & 1.496695 & 1.763847 & 1.732584 & 1.783595 & 2.671788 & 2.883875 & 2.724764 & 2.233571 & 3.239202 & 1.703858 & 2.435196 & 1.587797 & 1.932494 & 1.728257 & 2.733692 & 1.426509 & 2.578710 & 2.194278 & 2.010606 & 1.431732 & 1.257685 & 2.010953 & 1.782005 & 1.760938 & 1.626881 & 1.440705 & 1.267611 & 1.513942 & 1.898629 & 2.535470 & 1.875572 & 1.102394 & 2.201402 & 2.142906 & 2.345624 & 1.317838 & 2.387606 & 1.004383 & 1.204775 & 2.309708 & 1.898475 & 2.788181 & 2.572330 & 1.778615 & 1.301790 & 2.624399 & 2.205598 & 2.019003 & 2.208846 & 1.698015 & 1.218917 & 1.818392 & 2.298385 & 3.0477680 & 2.351713 & 2.7776500 & 1.996727 & 3.152256 & 3.424231 & 2.4248650 & 1.589654 & 4.541759 & 2.715047 & 3.731329 & 3.384463 & 2.964002 & 2.983813 & 3.419800 & 4.486187 & 4.2952320 & 5.136910 & 4.5950840 & 3.159465 & 3.127773 & 4.305991 & 3.239185 & 3.5766600 & 3.3639140 & 2.8122860 & 2.096576 & 3.395446 & 2.9399980 & 3.082203 & 2.909893 & 3.385686 & 2.492198 & 2.604372 & 3.2175270 & 2.3355280 & 2.5110900 & 2.551079 & 1.766556 & 2.112331 & 2.335887 & 1.680418 & 2.257119 & 2.1400180 & 2.9331650 & 2.592901 & 2.135189 & 2.643071 & 2.7316540 & 2.161315 & 2.135587 & 1.850753 & 2.9692990 & 3.190290 & 2.8427180 & 3.5398860 & 2.677016 & 3.3732910 & 1.702254 & NA & NA & NA\\\\\n",
       "\t 7892506 & 1.043313 & 2.265351 & 2.156243 & 2.036461 & 1.510491 & 2.219413 & 1.834325 & 2.881916 & 2.985007 & 2.393238 & 2.450698 & 2.542849 & 2.917268 & 1.889566 & 3.059500 & 1.641902 & 2.316889 & 1.894258 & 2.166135 & 2.778238 & 1.610310 & 3.206036 & 1.658280 & 1.655390 & 2.756817 & 1.976582 & 3.212926 & 2.094603 & 3.059392 & 1.575362 & 1.957100 & 2.635651 & 3.231765 & 3.098158 & 3.125042 & 2.741405 & 2.803227 & 2.844655 & 2.731158 & 2.265474 & 1.513572 & 1.802007 & 2.141642 & 1.848883 & 3.089799 & 2.734344 & 2.125180 & 3.166694 & 3.475594 & 0.989210 & 2.406614 & 3.228072 & 2.423101 & 2.700195 & 2.679909 & 2.533248 & 2.641531 & 2.308119 & 2.684890 & 2.073436 & 1.984435 & 2.210572 & 2.2437660 & 1.796768 & 3.509609 & 1.675393 & 2.356081 & 1.893117 & 1.733269 & 1.432143 & 1.810201 & 1.226450 & 2.500899 & 1.856532 & 1.974702 & 2.543007 & 2.024410 & 2.592525 & 3.779591 & 3.569227 & 3.292458 & 2.239826 & 1.975981 & 3.029473 & 3.206257 & 2.569990 & 2.631567 & 3.302514 & 3.135818 & 2.729666 & 2.327349 & 2.546674 & 2.510252 & 2.580454 & 1.779370 & 2.713530 & 2.085679 & 2.685721 & 3.133083 & 1.9539090 & 2.2336540 & 2.747245 & 2.247624 & 2.831265 & 2.262082 & 3.051431 & 2.008688 & 2.797566 & 1.684883 & 2.236927 & 1.352382 & 1.666897 & 3.017132 & 2.167654 & 1.556886 & 2.892942 & 2.540882 & 2.654052 & 2.151654 & 2.026803 & 2.719519 & 2.697529 & 1.859989 & 2.820596 & 3.266766 & 2.145895 & 3.457064 & 1.481644 & 2.288913 & 1.718190 & 2.861809 & 1.875834 & 2.408922 & 2.137912 & 2.063372 & 1.821093 & 1.891143 & 2.252461 & 1.824115 & 2.635289 & 1.966990 & 2.213612 & 2.580382 & 2.542337 & 2.514989 & 1.984130 & 1.628497 & 2.254123 & 2.206021 & 3.016571 & 1.637688 & 2.398484 & 2.019888 & 1.826491 & 2.325385 & 3.077387 & 1.334073 & 1.564410 & 2.605115 & 1.988112 & 2.734424 & 1.774683 & 2.0182390 & 3.607002 & 1.9679260 & 3.554098 & 3.305310 & 3.755367 & 2.4995750 & 2.428637 & 3.191875 & 4.410462 & 2.724077 & 2.513184 & 3.467448 & 2.913909 & 2.323669 & 2.573766 & 2.6885610 & 1.924361 & 2.0135360 & 2.523315 & 2.934491 & 2.903762 & 2.862243 & 3.3738650 & 2.3796480 & 2.4133430 & 2.495643 & 2.277594 & 2.3666190 & 2.665280 & 2.374360 & 2.275987 & 2.491595 & 2.308484 & 3.7025850 & 2.7134960 & 2.1854850 & 3.835559 & 2.378492 & 2.616015 & 2.918067 & 3.614440 & 2.090385 & 2.2954740 & 3.5810810 & 2.726616 & 2.943077 & 3.070156 & 0.7815204 & 2.758298 & 2.902465 & 2.827708 & 3.1253810 & 3.116202 & 2.7031140 & 3.2447980 & 1.849631 & 2.5799180 & 2.051225 & NA & NA & NA\\\\\n",
       "\\end{tabular}\n"
      ],
      "text/markdown": [
       "\n",
       "A data.frame: 6 × 225\n",
       "\n",
       "| PROBEID &lt;chr&gt; | GSM883944 &lt;dbl&gt; | GSM883945 &lt;dbl&gt; | GSM883946 &lt;dbl&gt; | GSM883947 &lt;dbl&gt; | GSM883948 &lt;dbl&gt; | GSM883949 &lt;dbl&gt; | GSM883950 &lt;dbl&gt; | GSM883951 &lt;dbl&gt; | GSM883952 &lt;dbl&gt; | ... ... | GSM884158 &lt;dbl&gt; | GSM884159 &lt;dbl&gt; | GSM884160 &lt;dbl&gt; | GSM884161 &lt;dbl&gt; | GSM884162 &lt;dbl&gt; | GSM884163 &lt;dbl&gt; | GSM884164 &lt;dbl&gt; | SYMBOL &lt;chr&gt; | ENTREZID &lt;chr&gt; | GENENAME &lt;chr&gt; |\n",
       "|---|---|---|---|---|---|---|---|---|---|---|---|---|---|---|---|---|---|---|---|---|\n",
       "| 7892501 | 1.918230 | 4.097614 | 3.105726 | 3.790488 | 1.391350 | 1.331789 | 2.929378 | 2.545538 | 3.766843 | ... | 0.5465292 | 1.008059 | 0.8852806 | 0.8839867 | 1.456518 | 0.8379084 | 1.397130 | NA | NA | NA |\n",
       "| 7892502 | 3.453556 | 4.090684 | 3.354695 | 4.594078 | 3.685259 | 3.703401 | 4.089552 | 4.267443 | 3.694993 | ... | 3.0365590 | 3.450284 | 3.1332740 | 2.9674340 | 2.728616 | 3.0201680 | 4.166057 | NA | NA | NA |\n",
       "| 7892503 | 3.242056 | 4.023951 | 3.070213 | 3.135199 | 3.598176 | 2.314419 | 5.085920 | 3.981360 | 3.863381 | ... | 1.4140530 | 2.503709 | 2.2662330 | 2.4147070 | 1.831537 | 2.4228760 | 2.257915 | NA | NA | NA |\n",
       "| 7892504 | 9.098461 | 7.967779 | 8.538803 | 8.092846 | 8.056301 | 8.261771 | 8.317191 | 8.532050 | 7.544576 | ... | 7.7891730 | 8.061747 | 7.4972980 | 7.4019810 | 8.201867 | 7.4582450 | 8.631525 | NA | NA | NA |\n",
       "| 7892505 | 2.674147 | 1.716874 | 1.793022 | 1.631902 | 3.038372 | 3.797781 | 1.622011 | 2.200060 | 2.407372 | ... | 2.9692990 | 3.190290 | 2.8427180 | 3.5398860 | 2.677016 | 3.3732910 | 1.702254 | NA | NA | NA |\n",
       "| 7892506 | 1.043313 | 2.265351 | 2.156243 | 2.036461 | 1.510491 | 2.219413 | 1.834325 | 2.881916 | 2.985007 | ... | 3.1253810 | 3.116202 | 2.7031140 | 3.2447980 | 1.849631 | 2.5799180 | 2.051225 | NA | NA | NA |\n",
       "\n"
      ],
      "text/plain": [
       "  PROBEID GSM883944 GSM883945 GSM883946 GSM883947 GSM883948 GSM883949 GSM883950\n",
       "1 7892501 1.918230  4.097614  3.105726  3.790488  1.391350  1.331789  2.929378 \n",
       "2 7892502 3.453556  4.090684  3.354695  4.594078  3.685259  3.703401  4.089552 \n",
       "3 7892503 3.242056  4.023951  3.070213  3.135199  3.598176  2.314419  5.085920 \n",
       "4 7892504 9.098461  7.967779  8.538803  8.092846  8.056301  8.261771  8.317191 \n",
       "5 7892505 2.674147  1.716874  1.793022  1.631902  3.038372  3.797781  1.622011 \n",
       "6 7892506 1.043313  2.265351  2.156243  2.036461  1.510491  2.219413  1.834325 \n",
       "  GSM883951 GSM883952 ... GSM884158 GSM884159 GSM884160 GSM884161 GSM884162\n",
       "1 2.545538  3.766843  ... 0.5465292 1.008059  0.8852806 0.8839867 1.456518 \n",
       "2 4.267443  3.694993  ... 3.0365590 3.450284  3.1332740 2.9674340 2.728616 \n",
       "3 3.981360  3.863381  ... 1.4140530 2.503709  2.2662330 2.4147070 1.831537 \n",
       "4 8.532050  7.544576  ... 7.7891730 8.061747  7.4972980 7.4019810 8.201867 \n",
       "5 2.200060  2.407372  ... 2.9692990 3.190290  2.8427180 3.5398860 2.677016 \n",
       "6 2.881916  2.985007  ... 3.1253810 3.116202  2.7031140 3.2447980 1.849631 \n",
       "  GSM884163 GSM884164 SYMBOL ENTREZID GENENAME\n",
       "1 0.8379084 1.397130  NA     NA       NA      \n",
       "2 3.0201680 4.166057  NA     NA       NA      \n",
       "3 2.4228760 2.257915  NA     NA       NA      \n",
       "4 7.4582450 8.631525  NA     NA       NA      \n",
       "5 3.3732910 1.702254  NA     NA       NA      \n",
       "6 2.5799180 2.051225  NA     NA       NA      "
      ]
     },
     "metadata": {},
     "output_type": "display_data"
    },
    {
     "data": {
      "text/plain": [
       "index\n",
       "FALSE  TRUE \n",
       "21307  7810 "
      ]
     },
     "metadata": {},
     "output_type": "display_data"
    },
    {
     "data": {
      "text/html": [
       "<ol class=list-inline>\n",
       "\t<li>21307</li>\n",
       "\t<li>225</li>\n",
       "</ol>\n"
      ],
      "text/latex": [
       "\\begin{enumerate*}\n",
       "\\item 21307\n",
       "\\item 225\n",
       "\\end{enumerate*}\n"
      ],
      "text/markdown": [
       "1. 21307\n",
       "2. 225\n",
       "\n",
       "\n"
      ],
      "text/plain": [
       "[1] 21307   225"
      ]
     },
     "metadata": {},
     "output_type": "display_data"
    }
   ],
   "source": [
    "exprSet$PROBEID <- c(rownames(exprSet)) #get a column for merge two data frames \n",
    "#Transfer gene identifiers from probeid to symbol, entrezid and genename\n",
    "options(repos=structure(c(CRAN=\"https://mirrors.tuna.tsinghua.edu.cn/CRAN/\"))) \n",
    "#BiocManager::install(\"hugene10sttranscriptcluster.db\")\n",
    "library(AnnotationDbi)\n",
    "library(\"hugene10sttranscriptcluster.db\")#这个包是通过找到对应的芯片平台后在bioconductor安装的注释包\n",
    "geneIDselect <-select(hugene10sttranscriptcluster.db, keys=rownames(exprSet),\n",
    "                      columns=c(\"SYMBOL\",\"ENTREZID\",\"GENENAME\"), keytype=\"PROBEID\" )\n",
    "\n",
    "#merge two data frames based on PROBEID column\n",
    "exprSet_ID <- merge(exprSet,geneIDselect,by=c(\"PROBEID\"))\n",
    "#head(exprSet_ID)\n",
    "# Delete all rows which contain NA \n",
    "exprSet_gene <- na.omit(exprSet_ID)\n",
    "\n",
    "# For using symbol as row names, we need to removed those duplicated symbols\n",
    "index <- duplicated(exprSet_gene$SYMBOL)\n",
    "#table(index)\n",
    "exprSet_gene <- exprSet_gene[!index,]\n",
    "#dim(exprSet_gene)\n",
    "\n",
    "#in order to caculate gene expression values, we need to make all data as numeric\n",
    "exprSet_gene[2:222] <- apply(exprSet_gene[2:222], 1, as.numeric)\n",
    "\n",
    "#Now, we use symbols as rownames\n",
    "rownames(exprSet_gene) <- exprSet_gene$SYMBOL"
   ]
  },
  {
   "cell_type": "code",
   "execution_count": 10,
   "metadata": {},
   "outputs": [],
   "source": [
    "#In a simple way\n",
    "design0 <- pdata[,c(1:2,36:40)]\n",
    "design0[5] <- apply(design0[5], 1, as.factor)  #To make patient_ID as factor format\n",
    "design0[6] <- apply(design0[6], 1, as.integer)  #To make TimePoint as integer\n",
    "design0[7] <- apply(design0[7], 1, as.factor)  #To put Treatment as factor\n",
    "names(design0)[5:7] <- c(\"Patient_ID\",\"TimePoint\",\"Treatment\") #In order to perform design0, we use the simple names to insteed long names\n",
    "design0 <- design0[order(design0$Treatment,design0$TimePoint),] # In order to all data following time and treatment orders, we order design0 by Treatment and TimePoint."
   ]
  },
  {
   "cell_type": "code",
   "execution_count": 11,
   "metadata": {},
   "outputs": [],
   "source": [
    "#select all placebo expression data and design\n",
    "pla_design = design0[design0$Treatment==0,]\n",
    "expr_placebo = exprSet_gene[,c(pla_design$geo_accession)] \n",
    "rownames(expr_placebo) <- rownames(exprSet_gene)"
   ]
  },
  {
   "cell_type": "code",
   "execution_count": 12,
   "metadata": {},
   "outputs": [
    {
     "name": "stderr",
     "output_type": "stream",
     "text": [
      "Your code contains a unicode char which cannot be displayed in your\n",
      "current locale and R will silently convert it to an escaped form when the\n",
      "R kernel executes this code. This can lead to subtle errors if you use\n",
      "such chars to do comparisons. For more information, please see\n",
      "https://github.com/IRkernel/repr/wiki/Problems-with-unicode-on-windows"
     ]
    }
   ],
   "source": [
    "#select all Fluticasone expression data and design\n",
    "flu_design = design0[design0$Treatment==1,]\n",
    "expr_Fluticasone = exprSet_gene[,c(flu_design$geo_accession)] #选择Fluticasone的表达数据\n",
    "rownames(expr_Fluticasone) <- rownames(exprSet_gene)"
   ]
  },
  {
   "cell_type": "code",
   "execution_count": 13,
   "metadata": {},
   "outputs": [
    {
     "name": "stderr",
     "output_type": "stream",
     "text": [
      "Your code contains a unicode char which cannot be displayed in your\n",
      "current locale and R will silently convert it to an escaped form when the\n",
      "R kernel executes this code. This can lead to subtle errors if you use\n",
      "such chars to do comparisons. For more information, please see\n",
      "https://github.com/IRkernel/repr/wiki/Problems-with-unicode-on-windows"
     ]
    }
   ],
   "source": [
    "#merge expression data and design of placebo and Fluticasone\n",
    "plaFlu_design = rbind.data.frame(pla_design,flu_design) #合并placebo和Fluticasone的design\n",
    "expr_plaFlu <- cbind.data.frame(expr_placebo,expr_Fluticasone)#合并placebo和Fluticasone的表达数据\n",
    "rownames(expr_plaFlu) <- rownames(exprSet_gene)"
   ]
  },
  {
   "cell_type": "code",
   "execution_count": 14,
   "metadata": {},
   "outputs": [
    {
     "data": {
      "text/html": [
       "<table>\n",
       "<caption>A data.frame: 6 × 57</caption>\n",
       "<thead>\n",
       "\t<tr><th></th><th scope=col>NAME</th><th scope=col>Description</th><th scope=col>GSM883944</th><th scope=col>GSM883950</th><th scope=col>GSM883956</th><th scope=col>GSM883964</th><th scope=col>GSM883966</th><th scope=col>GSM883969</th><th scope=col>GSM883971</th><th scope=col>GSM883973</th><th scope=col>...</th><th scope=col>GSM883970</th><th scope=col>GSM883982</th><th scope=col>GSM883985</th><th scope=col>GSM883988</th><th scope=col>GSM883996</th><th scope=col>GSM883999</th><th scope=col>GSM884002</th><th scope=col>GSM884022</th><th scope=col>GSM884029</th><th scope=col>GSM884062</th></tr>\n",
       "\t<tr><th></th><th scope=col>&lt;chr&gt;</th><th scope=col>&lt;lgl&gt;</th><th scope=col>&lt;dbl&gt;</th><th scope=col>&lt;dbl&gt;</th><th scope=col>&lt;dbl&gt;</th><th scope=col>&lt;dbl&gt;</th><th scope=col>&lt;dbl&gt;</th><th scope=col>&lt;dbl&gt;</th><th scope=col>&lt;dbl&gt;</th><th scope=col>&lt;dbl&gt;</th><th scope=col>...</th><th scope=col>&lt;dbl&gt;</th><th scope=col>&lt;dbl&gt;</th><th scope=col>&lt;dbl&gt;</th><th scope=col>&lt;dbl&gt;</th><th scope=col>&lt;dbl&gt;</th><th scope=col>&lt;dbl&gt;</th><th scope=col>&lt;dbl&gt;</th><th scope=col>&lt;dbl&gt;</th><th scope=col>&lt;dbl&gt;</th><th scope=col>&lt;dbl&gt;</th></tr>\n",
       "</thead>\n",
       "<tbody>\n",
       "\t<tr><th scope=row>OR4F4</th><td>OR4F4      </td><td>NA</td><td>3.174791</td><td>5.413664</td><td>3.777046</td><td>1.489264</td><td>4.451262</td><td>5.880866</td><td>3.516032</td><td>4.134455</td><td>...</td><td>1.572184</td><td>6.407367</td><td>4.128335</td><td>6.507003</td><td>4.231390</td><td>2.924882</td><td>7.985976</td><td>7.481675</td><td>5.775318</td><td>2.816489</td></tr>\n",
       "\t<tr><th scope=row>OR4F17</th><td>OR4F17     </td><td>NA</td><td>2.576809</td><td>5.255683</td><td>3.388657</td><td>1.657353</td><td>4.741526</td><td>5.759187</td><td>3.459677</td><td>4.077826</td><td>...</td><td>1.862473</td><td>4.970037</td><td>4.314095</td><td>6.282686</td><td>4.399308</td><td>3.033654</td><td>8.192407</td><td>8.537854</td><td>5.787866</td><td>3.438681</td></tr>\n",
       "\t<tr><th scope=row>OR4F5</th><td>OR4F5      </td><td>NA</td><td>3.120861</td><td>5.432173</td><td>4.855213</td><td>1.533518</td><td>4.769243</td><td>6.106818</td><td>3.206720</td><td>4.393976</td><td>...</td><td>1.269381</td><td>5.792426</td><td>4.704499</td><td>6.814151</td><td>4.027733</td><td>3.104491</td><td>8.298623</td><td>7.776104</td><td>4.815073</td><td>3.094898</td></tr>\n",
       "\t<tr><th scope=row>LINC00266-1</th><td>LINC00266-1</td><td>NA</td><td>2.893640</td><td>5.585021</td><td>4.427837</td><td>1.388983</td><td>4.664346</td><td>5.697964</td><td>2.564092</td><td>4.125725</td><td>...</td><td>2.856601</td><td>6.271105</td><td>4.054573</td><td>6.370983</td><td>4.071213</td><td>3.078111</td><td>7.796042</td><td>7.339373</td><td>5.769847</td><td>3.060044</td></tr>\n",
       "\t<tr><th scope=row>PCMTD2</th><td>PCMTD2     </td><td>NA</td><td>3.566642</td><td>5.401085</td><td>4.235272</td><td>1.655909</td><td>4.872002</td><td>6.046986</td><td>2.926702</td><td>4.368835</td><td>...</td><td>2.050403</td><td>6.650139</td><td>4.161362</td><td>6.718473</td><td>4.734410</td><td>3.390857</td><td>8.345038</td><td>7.314531</td><td>5.075922</td><td>3.475773</td></tr>\n",
       "\t<tr><th scope=row>LINC01881</th><td>LINC01881  </td><td>NA</td><td>4.348573</td><td>5.398005</td><td>4.206231</td><td>1.814626</td><td>4.632051</td><td>5.341537</td><td>2.983895</td><td>4.529170</td><td>...</td><td>1.594154</td><td>7.508642</td><td>4.492565</td><td>6.744625</td><td>3.899894</td><td>2.825384</td><td>7.706273</td><td>7.193893</td><td>5.019344</td><td>3.981843</td></tr>\n",
       "</tbody>\n",
       "</table>\n"
      ],
      "text/latex": [
       "A data.frame: 6 × 57\n",
       "\\begin{tabular}{r|lllllllllllllllllllllllllllllllllllllllllllllllllllllllll}\n",
       "  & NAME & Description & GSM883944 & GSM883950 & GSM883956 & GSM883964 & GSM883966 & GSM883969 & GSM883971 & GSM883973 & GSM883974 & GSM883980 & GSM883983 & GSM883986 & GSM883994 & GSM883997 & GSM884000 & GSM884020 & GSM884027 & GSM884040 & GSM884047 & GSM884052 & GSM884060 & GSM883981 & GSM883984 & GSM883987 & GSM883995 & GSM883998 & GSM884001 & GSM884019 & GSM884021 & GSM884028 & GSM884043 & GSM884048 & GSM884049 & GSM884053 & GSM884054 & GSM884055 & GSM884056 & GSM884061 & GSM883945 & GSM883951 & GSM883952 & GSM883957 & GSM883959 & GSM883965 & GSM883967 & GSM883970 & GSM883982 & GSM883985 & GSM883988 & GSM883996 & GSM883999 & GSM884002 & GSM884022 & GSM884029 & GSM884062\\\\\n",
       "  & <chr> & <lgl> & <dbl> & <dbl> & <dbl> & <dbl> & <dbl> & <dbl> & <dbl> & <dbl> & <dbl> & <dbl> & <dbl> & <dbl> & <dbl> & <dbl> & <dbl> & <dbl> & <dbl> & <dbl> & <dbl> & <dbl> & <dbl> & <dbl> & <dbl> & <dbl> & <dbl> & <dbl> & <dbl> & <dbl> & <dbl> & <dbl> & <dbl> & <dbl> & <dbl> & <dbl> & <dbl> & <dbl> & <dbl> & <dbl> & <dbl> & <dbl> & <dbl> & <dbl> & <dbl> & <dbl> & <dbl> & <dbl> & <dbl> & <dbl> & <dbl> & <dbl> & <dbl> & <dbl> & <dbl> & <dbl> & <dbl>\\\\\n",
       "\\hline\n",
       "\tOR4F4 & OR4F4       & NA & 3.174791 & 5.413664 & 3.777046 & 1.489264 & 4.451262 & 5.880866 & 3.516032 & 4.134455 & 8.489263 & 5.493559 & 1.745318 & 3.241936 & 3.138554 & 3.325169 & 5.931224 & 4.405513 & 6.386433 & 6.225117 & 8.782455 & 4.626530 & 5.728349 & 5.176779 & 2.511247 & 5.985442 & 4.437176 & 7.330958 & 5.126842 & 4.522630 & 6.223480 & 4.853207 & 4.504305 & 4.621161 & 7.596073 & 5.124331 & 5.720266 & 5.298495 & 6.990480 & 5.366168 & 5.900829 & 7.442507 & 1.955336 & 3.705440 & 3.061166 & 5.776479 & 6.386641 & 1.572184 & 6.407367 & 4.128335 & 6.507003 & 4.231390 & 2.924882 & 7.985976 & 7.481675 & 5.775318 & 2.816489\\\\\n",
       "\tOR4F17 & OR4F17      & NA & 2.576809 & 5.255683 & 3.388657 & 1.657353 & 4.741526 & 5.759187 & 3.459677 & 4.077826 & 8.477890 & 5.243291 & 2.311111 & 2.978402 & 3.833263 & 3.094092 & 7.089063 & 4.640063 & 6.101649 & 5.233533 & 9.099150 & 4.777210 & 6.427978 & 5.497868 & 2.111124 & 6.056750 & 4.807265 & 7.734372 & 4.970529 & 4.356635 & 6.624233 & 5.084008 & 3.250732 & 5.493113 & 7.824657 & 4.932080 & 5.768718 & 5.523017 & 6.862724 & 5.266851 & 5.510213 & 6.951268 & 2.444494 & 4.013677 & 3.226057 & 3.642242 & 6.314387 & 1.862473 & 4.970037 & 4.314095 & 6.282686 & 4.399308 & 3.033654 & 8.192407 & 8.537854 & 5.787866 & 3.438681\\\\\n",
       "\tOR4F5 & OR4F5       & NA & 3.120861 & 5.432173 & 4.855213 & 1.533518 & 4.769243 & 6.106818 & 3.206720 & 4.393976 & 8.559293 & 5.126081 & 1.645132 & 2.179712 & 3.321159 & 3.526541 & 6.402488 & 4.067119 & 5.691082 & 5.238853 & 8.530727 & 4.862864 & 6.540703 & 5.592618 & 2.183608 & 5.762985 & 5.196003 & 7.673417 & 5.857144 & 4.717273 & 5.899318 & 4.727076 & 2.862321 & 5.251303 & 8.139168 & 5.219565 & 5.480031 & 5.085292 & 6.780492 & 5.183722 & 5.860998 & 6.736951 & 2.222955 & 3.960613 & 3.319127 & 4.618370 & 6.255144 & 1.269381 & 5.792426 & 4.704499 & 6.814151 & 4.027733 & 3.104491 & 8.298623 & 7.776104 & 4.815073 & 3.094898\\\\\n",
       "\tLINC00266-1 & LINC00266-1 & NA & 2.893640 & 5.585021 & 4.427837 & 1.388983 & 4.664346 & 5.697964 & 2.564092 & 4.125725 & 8.268560 & 5.137856 & 1.723372 & 1.857154 & 3.361653 & 2.769686 & 6.607521 & 4.366220 & 5.923369 & 5.034193 & 8.673385 & 4.683833 & 6.079578 & 5.818073 & 2.401435 & 5.660184 & 5.331325 & 7.527064 & 5.353053 & 4.629518 & 6.335543 & 4.831397 & 3.090650 & 5.267486 & 7.779517 & 5.018082 & 5.636662 & 5.564527 & 6.206075 & 5.177719 & 5.652782 & 6.493624 & 2.658711 & 4.966922 & 3.088068 & 5.102554 & 6.354889 & 2.856601 & 6.271105 & 4.054573 & 6.370983 & 4.071213 & 3.078111 & 7.796042 & 7.339373 & 5.769847 & 3.060044\\\\\n",
       "\tPCMTD2 & PCMTD2      & NA & 3.566642 & 5.401085 & 4.235272 & 1.655909 & 4.872002 & 6.046986 & 2.926702 & 4.368835 & 8.618434 & 5.765464 & 1.847319 & 2.106107 & 3.024828 & 3.214184 & 7.216379 & 4.587554 & 6.136857 & 4.954756 & 9.388505 & 4.869999 & 6.158209 & 5.007621 & 2.737225 & 5.610764 & 5.437232 & 7.286718 & 5.973312 & 4.287365 & 6.017455 & 5.222641 & 2.839494 & 5.343658 & 7.636279 & 4.821680 & 5.602862 & 5.306836 & 4.985985 & 5.381481 & 5.314872 & 7.128408 & 2.514655 & 4.475410 & 2.894476 & 3.993845 & 6.411304 & 2.050403 & 6.650139 & 4.161362 & 6.718473 & 4.734410 & 3.390857 & 8.345038 & 7.314531 & 5.075922 & 3.475773\\\\\n",
       "\tLINC01881 & LINC01881   & NA & 4.348573 & 5.398005 & 4.206231 & 1.814626 & 4.632051 & 5.341537 & 2.983895 & 4.529170 & 7.848887 & 5.741406 & 1.650169 & 2.404732 & 3.842767 & 3.394026 & 6.680565 & 4.551790 & 6.401388 & 4.946980 & 8.794376 & 4.595216 & 5.795540 & 4.883527 & 2.204285 & 6.007814 & 5.088205 & 7.674938 & 5.901892 & 4.399717 & 7.139194 & 5.150086 & 3.088573 & 5.059264 & 8.175792 & 5.167717 & 5.551869 & 5.539309 & 5.468536 & 4.768700 & 5.778874 & 6.982044 & 2.316880 & 4.558428 & 3.369381 & 3.757731 & 6.359919 & 1.594154 & 7.508642 & 4.492565 & 6.744625 & 3.899894 & 2.825384 & 7.706273 & 7.193893 & 5.019344 & 3.981843\\\\\n",
       "\\end{tabular}\n"
      ],
      "text/markdown": [
       "\n",
       "A data.frame: 6 × 57\n",
       "\n",
       "| <!--/--> | NAME &lt;chr&gt; | Description &lt;lgl&gt; | GSM883944 &lt;dbl&gt; | GSM883950 &lt;dbl&gt; | GSM883956 &lt;dbl&gt; | GSM883964 &lt;dbl&gt; | GSM883966 &lt;dbl&gt; | GSM883969 &lt;dbl&gt; | GSM883971 &lt;dbl&gt; | GSM883973 &lt;dbl&gt; | ... ... | GSM883970 &lt;dbl&gt; | GSM883982 &lt;dbl&gt; | GSM883985 &lt;dbl&gt; | GSM883988 &lt;dbl&gt; | GSM883996 &lt;dbl&gt; | GSM883999 &lt;dbl&gt; | GSM884002 &lt;dbl&gt; | GSM884022 &lt;dbl&gt; | GSM884029 &lt;dbl&gt; | GSM884062 &lt;dbl&gt; |\n",
       "|---|---|---|---|---|---|---|---|---|---|---|---|---|---|---|---|---|---|---|---|---|---|\n",
       "| OR4F4 | OR4F4       | NA | 3.174791 | 5.413664 | 3.777046 | 1.489264 | 4.451262 | 5.880866 | 3.516032 | 4.134455 | ... | 1.572184 | 6.407367 | 4.128335 | 6.507003 | 4.231390 | 2.924882 | 7.985976 | 7.481675 | 5.775318 | 2.816489 |\n",
       "| OR4F17 | OR4F17      | NA | 2.576809 | 5.255683 | 3.388657 | 1.657353 | 4.741526 | 5.759187 | 3.459677 | 4.077826 | ... | 1.862473 | 4.970037 | 4.314095 | 6.282686 | 4.399308 | 3.033654 | 8.192407 | 8.537854 | 5.787866 | 3.438681 |\n",
       "| OR4F5 | OR4F5       | NA | 3.120861 | 5.432173 | 4.855213 | 1.533518 | 4.769243 | 6.106818 | 3.206720 | 4.393976 | ... | 1.269381 | 5.792426 | 4.704499 | 6.814151 | 4.027733 | 3.104491 | 8.298623 | 7.776104 | 4.815073 | 3.094898 |\n",
       "| LINC00266-1 | LINC00266-1 | NA | 2.893640 | 5.585021 | 4.427837 | 1.388983 | 4.664346 | 5.697964 | 2.564092 | 4.125725 | ... | 2.856601 | 6.271105 | 4.054573 | 6.370983 | 4.071213 | 3.078111 | 7.796042 | 7.339373 | 5.769847 | 3.060044 |\n",
       "| PCMTD2 | PCMTD2      | NA | 3.566642 | 5.401085 | 4.235272 | 1.655909 | 4.872002 | 6.046986 | 2.926702 | 4.368835 | ... | 2.050403 | 6.650139 | 4.161362 | 6.718473 | 4.734410 | 3.390857 | 8.345038 | 7.314531 | 5.075922 | 3.475773 |\n",
       "| LINC01881 | LINC01881   | NA | 4.348573 | 5.398005 | 4.206231 | 1.814626 | 4.632051 | 5.341537 | 2.983895 | 4.529170 | ... | 1.594154 | 7.508642 | 4.492565 | 6.744625 | 3.899894 | 2.825384 | 7.706273 | 7.193893 | 5.019344 | 3.981843 |\n",
       "\n"
      ],
      "text/plain": [
       "            NAME        Description GSM883944 GSM883950 GSM883956 GSM883964\n",
       "OR4F4       OR4F4       NA          3.174791  5.413664  3.777046  1.489264 \n",
       "OR4F17      OR4F17      NA          2.576809  5.255683  3.388657  1.657353 \n",
       "OR4F5       OR4F5       NA          3.120861  5.432173  4.855213  1.533518 \n",
       "LINC00266-1 LINC00266-1 NA          2.893640  5.585021  4.427837  1.388983 \n",
       "PCMTD2      PCMTD2      NA          3.566642  5.401085  4.235272  1.655909 \n",
       "LINC01881   LINC01881   NA          4.348573  5.398005  4.206231  1.814626 \n",
       "            GSM883966 GSM883969 GSM883971 GSM883973 ... GSM883970 GSM883982\n",
       "OR4F4       4.451262  5.880866  3.516032  4.134455  ... 1.572184  6.407367 \n",
       "OR4F17      4.741526  5.759187  3.459677  4.077826  ... 1.862473  4.970037 \n",
       "OR4F5       4.769243  6.106818  3.206720  4.393976  ... 1.269381  5.792426 \n",
       "LINC00266-1 4.664346  5.697964  2.564092  4.125725  ... 2.856601  6.271105 \n",
       "PCMTD2      4.872002  6.046986  2.926702  4.368835  ... 2.050403  6.650139 \n",
       "LINC01881   4.632051  5.341537  2.983895  4.529170  ... 1.594154  7.508642 \n",
       "            GSM883985 GSM883988 GSM883996 GSM883999 GSM884002 GSM884022\n",
       "OR4F4       4.128335  6.507003  4.231390  2.924882  7.985976  7.481675 \n",
       "OR4F17      4.314095  6.282686  4.399308  3.033654  8.192407  8.537854 \n",
       "OR4F5       4.704499  6.814151  4.027733  3.104491  8.298623  7.776104 \n",
       "LINC00266-1 4.054573  6.370983  4.071213  3.078111  7.796042  7.339373 \n",
       "PCMTD2      4.161362  6.718473  4.734410  3.390857  8.345038  7.314531 \n",
       "LINC01881   4.492565  6.744625  3.899894  2.825384  7.706273  7.193893 \n",
       "            GSM884029 GSM884062\n",
       "OR4F4       5.775318  2.816489 \n",
       "OR4F17      5.787866  3.438681 \n",
       "OR4F5       4.815073  3.094898 \n",
       "LINC00266-1 5.769847  3.060044 \n",
       "PCMTD2      5.075922  3.475773 \n",
       "LINC01881   5.019344  3.981843 "
      ]
     },
     "metadata": {},
     "output_type": "display_data"
    },
    {
     "data": {
      "text/html": [
       "<table>\n",
       "<caption>A data.frame: 6 × 63</caption>\n",
       "<thead>\n",
       "\t<tr><th></th><th scope=col>NAME</th><th scope=col>Description</th><th scope=col>GSM883946</th><th scope=col>GSM883948</th><th scope=col>GSM883953</th><th scope=col>GSM883960</th><th scope=col>GSM883962</th><th scope=col>GSM883972</th><th scope=col>GSM883975</th><th scope=col>GSM883978</th><th scope=col>...</th><th scope=col>GSM883991</th><th scope=col>GSM884005</th><th scope=col>GSM884008</th><th scope=col>GSM884011</th><th scope=col>GSM884014</th><th scope=col>GSM884017</th><th scope=col>GSM884025</th><th scope=col>GSM884032</th><th scope=col>GSM884036</th><th scope=col>GSM884039</th></tr>\n",
       "\t<tr><th></th><th scope=col>&lt;chr&gt;</th><th scope=col>&lt;lgl&gt;</th><th scope=col>&lt;dbl&gt;</th><th scope=col>&lt;dbl&gt;</th><th scope=col>&lt;dbl&gt;</th><th scope=col>&lt;dbl&gt;</th><th scope=col>&lt;dbl&gt;</th><th scope=col>&lt;dbl&gt;</th><th scope=col>&lt;dbl&gt;</th><th scope=col>&lt;dbl&gt;</th><th scope=col>...</th><th scope=col>&lt;dbl&gt;</th><th scope=col>&lt;dbl&gt;</th><th scope=col>&lt;dbl&gt;</th><th scope=col>&lt;dbl&gt;</th><th scope=col>&lt;dbl&gt;</th><th scope=col>&lt;dbl&gt;</th><th scope=col>&lt;dbl&gt;</th><th scope=col>&lt;dbl&gt;</th><th scope=col>&lt;dbl&gt;</th><th scope=col>&lt;dbl&gt;</th></tr>\n",
       "</thead>\n",
       "<tbody>\n",
       "\t<tr><th scope=row>OR4F4</th><td>OR4F4      </td><td>NA</td><td>7.357687</td><td>4.818520</td><td>4.089066</td><td>7.185775</td><td>5.381663</td><td>2.374969</td><td>4.330653</td><td>4.988908</td><td>...</td><td>4.065641</td><td>6.153252</td><td>5.951578</td><td>7.726488</td><td>8.298844</td><td>5.548415</td><td>5.187476</td><td>3.730798</td><td>9.568607</td><td>2.147110</td></tr>\n",
       "\t<tr><th scope=row>OR4F17</th><td>OR4F17     </td><td>NA</td><td>7.535229</td><td>4.643626</td><td>4.253320</td><td>5.595312</td><td>5.452449</td><td>2.149910</td><td>3.999027</td><td>5.210475</td><td>...</td><td>4.708185</td><td>5.617369</td><td>7.298517</td><td>7.556302</td><td>8.054262</td><td>4.866246</td><td>5.774403</td><td>3.718402</td><td>9.069597</td><td>2.117676</td></tr>\n",
       "\t<tr><th scope=row>OR4F5</th><td>OR4F5      </td><td>NA</td><td>8.163747</td><td>4.469314</td><td>3.687055</td><td>6.470548</td><td>5.484496</td><td>2.190820</td><td>4.067811</td><td>5.396873</td><td>...</td><td>3.354975</td><td>5.848093</td><td>6.727600</td><td>7.989446</td><td>7.030922</td><td>5.687280</td><td>6.350754</td><td>3.618135</td><td>8.484253</td><td>1.958481</td></tr>\n",
       "\t<tr><th scope=row>LINC00266-1</th><td>LINC00266-1</td><td>NA</td><td>7.403492</td><td>5.102475</td><td>4.271270</td><td>5.458204</td><td>5.507634</td><td>2.598557</td><td>4.101430</td><td>5.320041</td><td>...</td><td>3.088595</td><td>5.220315</td><td>6.285563</td><td>7.707711</td><td>7.526459</td><td>5.039213</td><td>5.444625</td><td>3.428509</td><td>8.975498</td><td>1.973072</td></tr>\n",
       "\t<tr><th scope=row>PCMTD2</th><td>PCMTD2     </td><td>NA</td><td>7.239669</td><td>4.664538</td><td>3.230714</td><td>6.857265</td><td>6.552773</td><td>2.195139</td><td>3.960132</td><td>5.544268</td><td>...</td><td>4.321190</td><td>5.898224</td><td>7.277011</td><td>7.868282</td><td>6.679676</td><td>4.964268</td><td>6.021538</td><td>3.965947</td><td>9.385731</td><td>2.086064</td></tr>\n",
       "\t<tr><th scope=row>LINC01881</th><td>LINC01881  </td><td>NA</td><td>7.455137</td><td>4.898869</td><td>3.780149</td><td>5.783814</td><td>6.230062</td><td>2.271512</td><td>4.014293</td><td>5.583946</td><td>...</td><td>3.428045</td><td>6.129620</td><td>6.405122</td><td>7.270386</td><td>6.200189</td><td>5.252216</td><td>6.143600</td><td>3.546293</td><td>9.002199</td><td>2.098932</td></tr>\n",
       "</tbody>\n",
       "</table>\n"
      ],
      "text/latex": [
       "A data.frame: 6 × 63\n",
       "\\begin{tabular}{r|lllllllllllllllllllllllllllllllllllllllllllllllllllllllllllllll}\n",
       "  & NAME & Description & GSM883946 & GSM883948 & GSM883953 & GSM883960 & GSM883962 & GSM883972 & GSM883975 & GSM883978 & GSM883989 & GSM883992 & GSM884003 & GSM884006 & GSM884009 & GSM884012 & GSM884015 & GSM884030 & GSM884034 & GSM884037 & GSM884050 & GSM883976 & GSM883979 & GSM883990 & GSM883993 & GSM884004 & GSM884007 & GSM884010 & GSM884013 & GSM884016 & GSM884018 & GSM884023 & GSM884024 & GSM884026 & GSM884031 & GSM884033 & GSM884035 & GSM884038 & GSM884041 & GSM884042 & GSM884044 & GSM884045 & GSM884046 & GSM884051 & GSM883947 & GSM883949 & GSM883954 & GSM883955 & GSM883958 & GSM883961 & GSM883963 & GSM883968 & GSM883977 & GSM883991 & GSM884005 & GSM884008 & GSM884011 & GSM884014 & GSM884017 & GSM884025 & GSM884032 & GSM884036 & GSM884039\\\\\n",
       "  & <chr> & <lgl> & <dbl> & <dbl> & <dbl> & <dbl> & <dbl> & <dbl> & <dbl> & <dbl> & <dbl> & <dbl> & <dbl> & <dbl> & <dbl> & <dbl> & <dbl> & <dbl> & <dbl> & <dbl> & <dbl> & <dbl> & <dbl> & <dbl> & <dbl> & <dbl> & <dbl> & <dbl> & <dbl> & <dbl> & <dbl> & <dbl> & <dbl> & <dbl> & <dbl> & <dbl> & <dbl> & <dbl> & <dbl> & <dbl> & <dbl> & <dbl> & <dbl> & <dbl> & <dbl> & <dbl> & <dbl> & <dbl> & <dbl> & <dbl> & <dbl> & <dbl> & <dbl> & <dbl> & <dbl> & <dbl> & <dbl> & <dbl> & <dbl> & <dbl> & <dbl> & <dbl> & <dbl>\\\\\n",
       "\\hline\n",
       "\tOR4F4 & OR4F4       & NA & 7.357687 & 4.818520 & 4.089066 & 7.185775 & 5.381663 & 2.374969 & 4.330653 & 4.988908 & 3.987392 & 2.372661 & 6.188285 & 4.002549 & 5.814931 & 6.721746 & 4.168390 & 3.596629 & 5.995816 & 4.169489 & 7.348814 & 5.897666 & 2.837896 & 4.074140 & 4.978163 & 4.054688 & 4.189471 & 3.909600 & 8.506606 & 2.780339 & 4.483750 & 5.875482 & 5.425810 & 7.111892 & 6.575499 & 5.276480 & 5.440037 & 7.213298 & 7.081361 & 6.012144 & 5.428951 & 6.012320 & 5.850963 & 4.979092 & 4.475836 & 4.598876 & 4.406182 & 2.871687 & 5.957848 & 5.524927 & 2.258580 & 5.537920 & 5.354569 & 4.065641 & 6.153252 & 5.951578 & 7.726488 & 8.298844 & 5.548415 & 5.187476 & 3.730798 & 9.568607 & 2.147110\\\\\n",
       "\tOR4F17 & OR4F17      & NA & 7.535229 & 4.643626 & 4.253320 & 5.595312 & 5.452449 & 2.149910 & 3.999027 & 5.210475 & 3.743089 & 2.657280 & 6.409860 & 3.666524 & 6.180985 & 6.449731 & 4.148497 & 3.468719 & 5.671153 & 3.945230 & 7.920581 & 5.489211 & 2.657009 & 4.067008 & 4.810345 & 4.743314 & 4.800902 & 3.927651 & 8.034711 & 3.055642 & 3.661459 & 5.621002 & 4.931479 & 7.260139 & 6.985572 & 5.389340 & 5.698744 & 7.239009 & 6.363853 & 5.940441 & 5.352979 & 5.701725 & 4.994843 & 4.921244 & 4.523893 & 6.337676 & 3.574818 & 2.566542 & 5.480302 & 5.137441 & 2.236464 & 5.311887 & 5.008343 & 4.708185 & 5.617369 & 7.298517 & 7.556302 & 8.054262 & 4.866246 & 5.774403 & 3.718402 & 9.069597 & 2.117676\\\\\n",
       "\tOR4F5 & OR4F5       & NA & 8.163747 & 4.469314 & 3.687055 & 6.470548 & 5.484496 & 2.190820 & 4.067811 & 5.396873 & 3.319268 & 2.514679 & 6.136115 & 3.398367 & 6.399890 & 6.933652 & 4.202863 & 3.846400 & 5.574301 & 3.976704 & 7.669540 & 5.855874 & 2.449357 & 4.443965 & 5.216735 & 3.844760 & 5.029952 & 4.133756 & 8.124257 & 3.282069 & 4.054367 & 5.547721 & 5.005339 & 7.060030 & 6.695974 & 5.158525 & 5.508684 & 7.384566 & 6.884727 & 5.879798 & 5.433546 & 5.901888 & 5.846055 & 4.823815 & 4.574761 & 4.042479 & 4.328196 & 2.928870 & 5.659393 & 5.357957 & 3.014948 & 4.322360 & 5.678423 & 3.354975 & 5.848093 & 6.727600 & 7.989446 & 7.030922 & 5.687280 & 6.350754 & 3.618135 & 8.484253 & 1.958481\\\\\n",
       "\tLINC00266-1 & LINC00266-1 & NA & 7.403492 & 5.102475 & 4.271270 & 5.458204 & 5.507634 & 2.598557 & 4.101430 & 5.320041 & 4.150739 & 2.513656 & 5.755522 & 3.598572 & 6.267257 & 6.626251 & 3.827355 & 3.627158 & 5.723408 & 4.187167 & 7.374172 & 5.725502 & 3.111936 & 4.482898 & 4.506553 & 4.693109 & 4.749552 & 3.632069 & 7.630988 & 3.058508 & 3.683558 & 5.456710 & 4.698266 & 7.076007 & 6.636501 & 5.204489 & 5.375678 & 6.517472 & 6.297261 & 5.798949 & 5.420701 & 6.002864 & 4.860955 & 5.010627 & 4.397810 & 4.090735 & 3.809758 & 3.644078 & 6.139198 & 5.444574 & 4.204661 & 4.715386 & 5.087978 & 3.088595 & 5.220315 & 6.285563 & 7.707711 & 7.526459 & 5.039213 & 5.444625 & 3.428509 & 8.975498 & 1.973072\\\\\n",
       "\tPCMTD2 & PCMTD2      & NA & 7.239669 & 4.664538 & 3.230714 & 6.857265 & 6.552773 & 2.195139 & 3.960132 & 5.544268 & 3.683442 & 2.813343 & 6.136152 & 3.437334 & 5.731753 & 6.852394 & 4.341261 & 3.413672 & 5.862106 & 3.934385 & 7.196167 & 5.840732 & 2.748493 & 4.028441 & 5.033037 & 4.370604 & 5.442274 & 4.120621 & 8.190192 & 3.139309 & 5.182666 & 5.687940 & 5.007948 & 7.004458 & 6.789169 & 5.174161 & 5.447861 & 7.237000 & 6.802624 & 6.137341 & 5.419449 & 5.929705 & 5.515994 & 4.562855 & 4.590168 & 5.522620 & 3.914477 & 2.713132 & 4.971673 & 4.767407 & 1.751675 & 5.366312 & 5.695277 & 4.321190 & 5.898224 & 7.277011 & 7.868282 & 6.679676 & 4.964268 & 6.021538 & 3.965947 & 9.385731 & 2.086064\\\\\n",
       "\tLINC01881 & LINC01881   & NA & 7.455137 & 4.898869 & 3.780149 & 5.783814 & 6.230062 & 2.271512 & 4.014293 & 5.583946 & 3.254209 & 2.374398 & 6.233198 & 3.384951 & 6.250582 & 6.829268 & 4.246906 & 3.512461 & 5.807208 & 4.392809 & 6.494395 & 5.383812 & 2.567387 & 4.197204 & 5.018662 & 4.433806 & 4.704485 & 4.779027 & 8.428679 & 2.521656 & 4.393922 & 5.605636 & 5.049345 & 7.011414 & 6.926773 & 5.541643 & 6.197661 & 7.361267 & 6.804359 & 6.290473 & 5.358486 & 5.832936 & 5.717307 & 4.498748 & 4.399827 & 4.848921 & 3.928126 & 2.852016 & 6.043797 & 4.852565 & 2.317042 & 4.883130 & 5.536090 & 3.428045 & 6.129620 & 6.405122 & 7.270386 & 6.200189 & 5.252216 & 6.143600 & 3.546293 & 9.002199 & 2.098932\\\\\n",
       "\\end{tabular}\n"
      ],
      "text/markdown": [
       "\n",
       "A data.frame: 6 × 63\n",
       "\n",
       "| <!--/--> | NAME &lt;chr&gt; | Description &lt;lgl&gt; | GSM883946 &lt;dbl&gt; | GSM883948 &lt;dbl&gt; | GSM883953 &lt;dbl&gt; | GSM883960 &lt;dbl&gt; | GSM883962 &lt;dbl&gt; | GSM883972 &lt;dbl&gt; | GSM883975 &lt;dbl&gt; | GSM883978 &lt;dbl&gt; | ... ... | GSM883991 &lt;dbl&gt; | GSM884005 &lt;dbl&gt; | GSM884008 &lt;dbl&gt; | GSM884011 &lt;dbl&gt; | GSM884014 &lt;dbl&gt; | GSM884017 &lt;dbl&gt; | GSM884025 &lt;dbl&gt; | GSM884032 &lt;dbl&gt; | GSM884036 &lt;dbl&gt; | GSM884039 &lt;dbl&gt; |\n",
       "|---|---|---|---|---|---|---|---|---|---|---|---|---|---|---|---|---|---|---|---|---|---|\n",
       "| OR4F4 | OR4F4       | NA | 7.357687 | 4.818520 | 4.089066 | 7.185775 | 5.381663 | 2.374969 | 4.330653 | 4.988908 | ... | 4.065641 | 6.153252 | 5.951578 | 7.726488 | 8.298844 | 5.548415 | 5.187476 | 3.730798 | 9.568607 | 2.147110 |\n",
       "| OR4F17 | OR4F17      | NA | 7.535229 | 4.643626 | 4.253320 | 5.595312 | 5.452449 | 2.149910 | 3.999027 | 5.210475 | ... | 4.708185 | 5.617369 | 7.298517 | 7.556302 | 8.054262 | 4.866246 | 5.774403 | 3.718402 | 9.069597 | 2.117676 |\n",
       "| OR4F5 | OR4F5       | NA | 8.163747 | 4.469314 | 3.687055 | 6.470548 | 5.484496 | 2.190820 | 4.067811 | 5.396873 | ... | 3.354975 | 5.848093 | 6.727600 | 7.989446 | 7.030922 | 5.687280 | 6.350754 | 3.618135 | 8.484253 | 1.958481 |\n",
       "| LINC00266-1 | LINC00266-1 | NA | 7.403492 | 5.102475 | 4.271270 | 5.458204 | 5.507634 | 2.598557 | 4.101430 | 5.320041 | ... | 3.088595 | 5.220315 | 6.285563 | 7.707711 | 7.526459 | 5.039213 | 5.444625 | 3.428509 | 8.975498 | 1.973072 |\n",
       "| PCMTD2 | PCMTD2      | NA | 7.239669 | 4.664538 | 3.230714 | 6.857265 | 6.552773 | 2.195139 | 3.960132 | 5.544268 | ... | 4.321190 | 5.898224 | 7.277011 | 7.868282 | 6.679676 | 4.964268 | 6.021538 | 3.965947 | 9.385731 | 2.086064 |\n",
       "| LINC01881 | LINC01881   | NA | 7.455137 | 4.898869 | 3.780149 | 5.783814 | 6.230062 | 2.271512 | 4.014293 | 5.583946 | ... | 3.428045 | 6.129620 | 6.405122 | 7.270386 | 6.200189 | 5.252216 | 6.143600 | 3.546293 | 9.002199 | 2.098932 |\n",
       "\n"
      ],
      "text/plain": [
       "            NAME        Description GSM883946 GSM883948 GSM883953 GSM883960\n",
       "OR4F4       OR4F4       NA          7.357687  4.818520  4.089066  7.185775 \n",
       "OR4F17      OR4F17      NA          7.535229  4.643626  4.253320  5.595312 \n",
       "OR4F5       OR4F5       NA          8.163747  4.469314  3.687055  6.470548 \n",
       "LINC00266-1 LINC00266-1 NA          7.403492  5.102475  4.271270  5.458204 \n",
       "PCMTD2      PCMTD2      NA          7.239669  4.664538  3.230714  6.857265 \n",
       "LINC01881   LINC01881   NA          7.455137  4.898869  3.780149  5.783814 \n",
       "            GSM883962 GSM883972 GSM883975 GSM883978 ... GSM883991 GSM884005\n",
       "OR4F4       5.381663  2.374969  4.330653  4.988908  ... 4.065641  6.153252 \n",
       "OR4F17      5.452449  2.149910  3.999027  5.210475  ... 4.708185  5.617369 \n",
       "OR4F5       5.484496  2.190820  4.067811  5.396873  ... 3.354975  5.848093 \n",
       "LINC00266-1 5.507634  2.598557  4.101430  5.320041  ... 3.088595  5.220315 \n",
       "PCMTD2      6.552773  2.195139  3.960132  5.544268  ... 4.321190  5.898224 \n",
       "LINC01881   6.230062  2.271512  4.014293  5.583946  ... 3.428045  6.129620 \n",
       "            GSM884008 GSM884011 GSM884014 GSM884017 GSM884025 GSM884032\n",
       "OR4F4       5.951578  7.726488  8.298844  5.548415  5.187476  3.730798 \n",
       "OR4F17      7.298517  7.556302  8.054262  4.866246  5.774403  3.718402 \n",
       "OR4F5       6.727600  7.989446  7.030922  5.687280  6.350754  3.618135 \n",
       "LINC00266-1 6.285563  7.707711  7.526459  5.039213  5.444625  3.428509 \n",
       "PCMTD2      7.277011  7.868282  6.679676  4.964268  6.021538  3.965947 \n",
       "LINC01881   6.405122  7.270386  6.200189  5.252216  6.143600  3.546293 \n",
       "            GSM884036 GSM884039\n",
       "OR4F4       9.568607  2.147110 \n",
       "OR4F17      9.069597  2.117676 \n",
       "OR4F5       8.484253  1.958481 \n",
       "LINC00266-1 8.975498  1.973072 \n",
       "PCMTD2      9.385731  2.086064 \n",
       "LINC01881   9.002199  2.098932 "
      ]
     },
     "metadata": {},
     "output_type": "display_data"
    }
   ],
   "source": [
    "#-----------------------------------GSEA expression data ---------------------------------------\n",
    "GSEA_expr_pla <- expr_placebo\n",
    "GSEA_expr_pla$NAME <- rownames(expr_placebo)\n",
    "GSEA_expr_pla$Description <- NA\n",
    "GSEA_expr_pla <- GSEA_expr_pla[,c(56:57,1:55)]\n",
    "write.table(GSEA_expr_pla, file=\"GSEA_expr_pla.csv\",row.names = FALSE, col.names = TRUE, sep=\",\")\n",
    "head(GSEA_expr_pla)\n",
    "\n",
    "GSEA_expr_Flu <- expr_Fluticasone\n",
    "GSEA_expr_Flu$NAME <- rownames(expr_Fluticasone)\n",
    "GSEA_expr_Flu$Description <- NA\n",
    "GSEA_expr_Flu <- GSEA_expr_Flu[,c(62:63,1:61)]\n",
    "write.table(GSEA_expr_Flu, file=\"GSEA_expr_Flu.csv\",row.names = FALSE, col.names = TRUE, sep=\",\")\n",
    "head(GSEA_expr_Flu)"
   ]
  },
  {
   "cell_type": "code",
   "execution_count": 17,
   "metadata": {},
   "outputs": [
    {
     "data": {
      "text/html": [
       "<ol class=list-inline>\n",
       "\t<li>21307</li>\n",
       "\t<li>63</li>\n",
       "</ol>\n"
      ],
      "text/latex": [
       "\\begin{enumerate*}\n",
       "\\item 21307\n",
       "\\item 63\n",
       "\\end{enumerate*}\n"
      ],
      "text/markdown": [
       "1. 21307\n",
       "2. 63\n",
       "\n",
       "\n"
      ],
      "text/plain": [
       "[1] 21307    63"
      ]
     },
     "metadata": {},
     "output_type": "display_data"
    }
   ],
   "source": [
    "dim(GSEA_expr_Flu)"
   ]
  },
  {
   "cell_type": "code",
   "execution_count": 18,
   "metadata": {},
   "outputs": [
    {
     "data": {
      "text/html": [
       "<ol class=list-inline>\n",
       "\t<li>21307</li>\n",
       "\t<li>57</li>\n",
       "</ol>\n"
      ],
      "text/latex": [
       "\\begin{enumerate*}\n",
       "\\item 21307\n",
       "\\item 57\n",
       "\\end{enumerate*}\n"
      ],
      "text/markdown": [
       "1. 21307\n",
       "2. 57\n",
       "\n",
       "\n"
      ],
      "text/plain": [
       "[1] 21307    57"
      ]
     },
     "metadata": {},
     "output_type": "display_data"
    }
   ],
   "source": [
    "dim(GSEA_expr_pla)"
   ]
  },
  {
   "cell_type": "code",
   "execution_count": 15,
   "metadata": {},
   "outputs": [
    {
     "data": {
      "text/html": [
       "<ol class=list-inline>\n",
       "\t<li>0</li>\n",
       "\t<li>0</li>\n",
       "\t<li>0</li>\n",
       "\t<li>0</li>\n",
       "\t<li>0</li>\n",
       "\t<li>0</li>\n",
       "\t<li>0</li>\n",
       "\t<li>0</li>\n",
       "\t<li>0</li>\n",
       "\t<li>0</li>\n",
       "\t<li>0</li>\n",
       "\t<li>0</li>\n",
       "\t<li>0</li>\n",
       "\t<li>0</li>\n",
       "\t<li>0</li>\n",
       "\t<li>0</li>\n",
       "\t<li>0</li>\n",
       "\t<li>0</li>\n",
       "\t<li>0</li>\n",
       "\t<li>0</li>\n",
       "\t<li>0</li>\n",
       "\t<li>6</li>\n",
       "\t<li>6</li>\n",
       "\t<li>6</li>\n",
       "\t<li>6</li>\n",
       "\t<li>6</li>\n",
       "\t<li>6</li>\n",
       "\t<li>6</li>\n",
       "\t<li>6</li>\n",
       "\t<li>6</li>\n",
       "\t<li>6</li>\n",
       "\t<li>6</li>\n",
       "\t<li>6</li>\n",
       "\t<li>6</li>\n",
       "\t<li>6</li>\n",
       "\t<li>6</li>\n",
       "\t<li>6</li>\n",
       "\t<li>6</li>\n",
       "\t<li>30</li>\n",
       "\t<li>30</li>\n",
       "\t<li>30</li>\n",
       "\t<li>30</li>\n",
       "\t<li>30</li>\n",
       "\t<li>30</li>\n",
       "\t<li>30</li>\n",
       "\t<li>30</li>\n",
       "\t<li>30</li>\n",
       "\t<li>30</li>\n",
       "\t<li>30</li>\n",
       "\t<li>30</li>\n",
       "\t<li>30</li>\n",
       "\t<li>30</li>\n",
       "\t<li>30</li>\n",
       "\t<li>30</li>\n",
       "\t<li>30</li>\n",
       "</ol>\n"
      ],
      "text/latex": [
       "\\begin{enumerate*}\n",
       "\\item 0\n",
       "\\item 0\n",
       "\\item 0\n",
       "\\item 0\n",
       "\\item 0\n",
       "\\item 0\n",
       "\\item 0\n",
       "\\item 0\n",
       "\\item 0\n",
       "\\item 0\n",
       "\\item 0\n",
       "\\item 0\n",
       "\\item 0\n",
       "\\item 0\n",
       "\\item 0\n",
       "\\item 0\n",
       "\\item 0\n",
       "\\item 0\n",
       "\\item 0\n",
       "\\item 0\n",
       "\\item 0\n",
       "\\item 6\n",
       "\\item 6\n",
       "\\item 6\n",
       "\\item 6\n",
       "\\item 6\n",
       "\\item 6\n",
       "\\item 6\n",
       "\\item 6\n",
       "\\item 6\n",
       "\\item 6\n",
       "\\item 6\n",
       "\\item 6\n",
       "\\item 6\n",
       "\\item 6\n",
       "\\item 6\n",
       "\\item 6\n",
       "\\item 6\n",
       "\\item 30\n",
       "\\item 30\n",
       "\\item 30\n",
       "\\item 30\n",
       "\\item 30\n",
       "\\item 30\n",
       "\\item 30\n",
       "\\item 30\n",
       "\\item 30\n",
       "\\item 30\n",
       "\\item 30\n",
       "\\item 30\n",
       "\\item 30\n",
       "\\item 30\n",
       "\\item 30\n",
       "\\item 30\n",
       "\\item 30\n",
       "\\end{enumerate*}\n"
      ],
      "text/markdown": [
       "1. 0\n",
       "2. 0\n",
       "3. 0\n",
       "4. 0\n",
       "5. 0\n",
       "6. 0\n",
       "7. 0\n",
       "8. 0\n",
       "9. 0\n",
       "10. 0\n",
       "11. 0\n",
       "12. 0\n",
       "13. 0\n",
       "14. 0\n",
       "15. 0\n",
       "16. 0\n",
       "17. 0\n",
       "18. 0\n",
       "19. 0\n",
       "20. 0\n",
       "21. 0\n",
       "22. 6\n",
       "23. 6\n",
       "24. 6\n",
       "25. 6\n",
       "26. 6\n",
       "27. 6\n",
       "28. 6\n",
       "29. 6\n",
       "30. 6\n",
       "31. 6\n",
       "32. 6\n",
       "33. 6\n",
       "34. 6\n",
       "35. 6\n",
       "36. 6\n",
       "37. 6\n",
       "38. 6\n",
       "39. 30\n",
       "40. 30\n",
       "41. 30\n",
       "42. 30\n",
       "43. 30\n",
       "44. 30\n",
       "45. 30\n",
       "46. 30\n",
       "47. 30\n",
       "48. 30\n",
       "49. 30\n",
       "50. 30\n",
       "51. 30\n",
       "52. 30\n",
       "53. 30\n",
       "54. 30\n",
       "55. 30\n",
       "\n",
       "\n"
      ],
      "text/plain": [
       " [1]  0  0  0  0  0  0  0  0  0  0  0  0  0  0  0  0  0  0  0  0  0  6  6  6  6\n",
       "[26]  6  6  6  6  6  6  6  6  6  6  6  6  6 30 30 30 30 30 30 30 30 30 30 30 30\n",
       "[51] 30 30 30 30 30"
      ]
     },
     "metadata": {},
     "output_type": "display_data"
    }
   ],
   "source": [
    "pla_design$TimePoint"
   ]
  },
  {
   "cell_type": "code",
   "execution_count": 16,
   "metadata": {},
   "outputs": [
    {
     "data": {
      "text/html": [
       "<ol class=list-inline>\n",
       "\t<li>0</li>\n",
       "\t<li>0</li>\n",
       "\t<li>0</li>\n",
       "\t<li>0</li>\n",
       "\t<li>0</li>\n",
       "\t<li>0</li>\n",
       "\t<li>0</li>\n",
       "\t<li>0</li>\n",
       "\t<li>0</li>\n",
       "\t<li>0</li>\n",
       "\t<li>0</li>\n",
       "\t<li>0</li>\n",
       "\t<li>0</li>\n",
       "\t<li>0</li>\n",
       "\t<li>0</li>\n",
       "\t<li>0</li>\n",
       "\t<li>0</li>\n",
       "\t<li>0</li>\n",
       "\t<li>0</li>\n",
       "\t<li>6</li>\n",
       "\t<li>6</li>\n",
       "\t<li>6</li>\n",
       "\t<li>6</li>\n",
       "\t<li>6</li>\n",
       "\t<li>6</li>\n",
       "\t<li>6</li>\n",
       "\t<li>6</li>\n",
       "\t<li>6</li>\n",
       "\t<li>6</li>\n",
       "\t<li>6</li>\n",
       "\t<li>6</li>\n",
       "\t<li>6</li>\n",
       "\t<li>6</li>\n",
       "\t<li>6</li>\n",
       "\t<li>6</li>\n",
       "\t<li>6</li>\n",
       "\t<li>6</li>\n",
       "\t<li>6</li>\n",
       "\t<li>6</li>\n",
       "\t<li>6</li>\n",
       "\t<li>6</li>\n",
       "\t<li>6</li>\n",
       "\t<li>30</li>\n",
       "\t<li>30</li>\n",
       "\t<li>30</li>\n",
       "\t<li>30</li>\n",
       "\t<li>30</li>\n",
       "\t<li>30</li>\n",
       "\t<li>30</li>\n",
       "\t<li>30</li>\n",
       "\t<li>30</li>\n",
       "\t<li>30</li>\n",
       "\t<li>30</li>\n",
       "\t<li>30</li>\n",
       "\t<li>30</li>\n",
       "\t<li>30</li>\n",
       "\t<li>30</li>\n",
       "\t<li>30</li>\n",
       "\t<li>30</li>\n",
       "\t<li>30</li>\n",
       "\t<li>30</li>\n",
       "</ol>\n"
      ],
      "text/latex": [
       "\\begin{enumerate*}\n",
       "\\item 0\n",
       "\\item 0\n",
       "\\item 0\n",
       "\\item 0\n",
       "\\item 0\n",
       "\\item 0\n",
       "\\item 0\n",
       "\\item 0\n",
       "\\item 0\n",
       "\\item 0\n",
       "\\item 0\n",
       "\\item 0\n",
       "\\item 0\n",
       "\\item 0\n",
       "\\item 0\n",
       "\\item 0\n",
       "\\item 0\n",
       "\\item 0\n",
       "\\item 0\n",
       "\\item 6\n",
       "\\item 6\n",
       "\\item 6\n",
       "\\item 6\n",
       "\\item 6\n",
       "\\item 6\n",
       "\\item 6\n",
       "\\item 6\n",
       "\\item 6\n",
       "\\item 6\n",
       "\\item 6\n",
       "\\item 6\n",
       "\\item 6\n",
       "\\item 6\n",
       "\\item 6\n",
       "\\item 6\n",
       "\\item 6\n",
       "\\item 6\n",
       "\\item 6\n",
       "\\item 6\n",
       "\\item 6\n",
       "\\item 6\n",
       "\\item 6\n",
       "\\item 30\n",
       "\\item 30\n",
       "\\item 30\n",
       "\\item 30\n",
       "\\item 30\n",
       "\\item 30\n",
       "\\item 30\n",
       "\\item 30\n",
       "\\item 30\n",
       "\\item 30\n",
       "\\item 30\n",
       "\\item 30\n",
       "\\item 30\n",
       "\\item 30\n",
       "\\item 30\n",
       "\\item 30\n",
       "\\item 30\n",
       "\\item 30\n",
       "\\item 30\n",
       "\\end{enumerate*}\n"
      ],
      "text/markdown": [
       "1. 0\n",
       "2. 0\n",
       "3. 0\n",
       "4. 0\n",
       "5. 0\n",
       "6. 0\n",
       "7. 0\n",
       "8. 0\n",
       "9. 0\n",
       "10. 0\n",
       "11. 0\n",
       "12. 0\n",
       "13. 0\n",
       "14. 0\n",
       "15. 0\n",
       "16. 0\n",
       "17. 0\n",
       "18. 0\n",
       "19. 0\n",
       "20. 6\n",
       "21. 6\n",
       "22. 6\n",
       "23. 6\n",
       "24. 6\n",
       "25. 6\n",
       "26. 6\n",
       "27. 6\n",
       "28. 6\n",
       "29. 6\n",
       "30. 6\n",
       "31. 6\n",
       "32. 6\n",
       "33. 6\n",
       "34. 6\n",
       "35. 6\n",
       "36. 6\n",
       "37. 6\n",
       "38. 6\n",
       "39. 6\n",
       "40. 6\n",
       "41. 6\n",
       "42. 6\n",
       "43. 30\n",
       "44. 30\n",
       "45. 30\n",
       "46. 30\n",
       "47. 30\n",
       "48. 30\n",
       "49. 30\n",
       "50. 30\n",
       "51. 30\n",
       "52. 30\n",
       "53. 30\n",
       "54. 30\n",
       "55. 30\n",
       "56. 30\n",
       "57. 30\n",
       "58. 30\n",
       "59. 30\n",
       "60. 30\n",
       "61. 30\n",
       "\n",
       "\n"
      ],
      "text/plain": [
       " [1]  0  0  0  0  0  0  0  0  0  0  0  0  0  0  0  0  0  0  0  6  6  6  6  6  6\n",
       "[26]  6  6  6  6  6  6  6  6  6  6  6  6  6  6  6  6  6 30 30 30 30 30 30 30 30\n",
       "[51] 30 30 30 30 30 30 30 30 30 30 30"
      ]
     },
     "metadata": {},
     "output_type": "display_data"
    }
   ],
   "source": [
    "flu_design$TimePoint"
   ]
  },
  {
   "cell_type": "markdown",
   "metadata": {},
   "source": [
    "# Change the format in Excel"
   ]
  },
  {
   "cell_type": "markdown",
   "metadata": {},
   "source": [
    "Now, we open those csv file in excel to perform for the goal data formats. Expression data formats likes this picture.\n",
    "\n",
    "![gctFormat.png](./images/gctFormat.png)\n",
    "\n",
    ">The **first line** contains the version string and is always the same for this file format. Therefore, the first line must be as follows: \n",
    "`#1.2`  \n",
    " The **second line** contains numbers indicating the size of the data table that is contained in the remainder of the file. Note that the name and description columns are not included in the number of data columns.\n",
    " \n",
    "And we use excel to save as TAB TXT file.\n",
    "\n",
    "After saved, we changed the file suffix to gct.\n",
    "\n",
    "You can see `GSEA_expr_Flu.gct` and `GSEA_expr_pla.gct` example_files the folder.\n",
    "\n",
    "You can see more details of data formats in this [link](http://software.broadinstitute.org/cancer/software/gsea/wiki/index.php/Data_formats). \n",
    "\n",
    "In our case, we have two groups time sercies sample. We use excel to make a new file to save phenotype data."
   ]
  },
  {
   "cell_type": "raw",
   "metadata": {},
   "source": [
    "#numeric\t\t\t\t\t\t\t\t\t\t\t\t\t\t\t\t\t\t\t\t\t\t\t\t\t\t\t\t\t\t\t\t\t\t\t\t\t\t\t\t\t\t\t\t\t\t\t\t\t\t\t\t\t\t\t\t\t\t\t\t\n",
    "#Placebo\t\t\t\t\t\t\t\t\t\t\t\t\t\t\t\t\t\t\t\t\t\t\t\t\t\t\t\t\t\t\t\t\t\t\t\t\t\t\t\t\t\t\t\t\t\t\t\t\t\t\t\t\t\t\t\t\t\t\t\t\n",
    "0\t0\t0\t0\t0\t0\t0\t0\t0\t0\t0\t0\t0\t0\t0\t0\t0\t0\t0\t0\t0\t6\t6\t6\t6\t6\t6\t6\t6\t6\t6\t6\t6\t6\t6\t6\t6\t6\t30\t30\t30\t30\t30\t30\t30\t30\t30\t30\t30\t30\t30\t30\t30\t30\t30\t\t\t\t\t\t\n",
    "#Fluticasone\t\t\t\t\t\t\t\t\t\t\t\t\t\t\t\t\t\t\t\t\t\t\t\t\t\t\t\t\t\t\t\t\t\t\t\t\t\t\t\t\t\t\t\t\t\t\t\t\t\t\t\t\t\t\t\t\t\t\t\t\n",
    "0\t0\t0\t0\t0\t0\t0\t0\t0\t0\t0\t0\t0\t0\t0\t0\t0\t0\t0\t6\t6\t6\t6\t6\t6\t6\t6\t6\t6\t6\t6\t6\t6\t6\t6\t6\t6\t6\t6\t6\t6\t6\t30\t30\t30\t30\t30\t30\t30\t30\t30\t30\t30\t30\t30\t30\t30\t30\t30\t30\t30\n"
   ]
  },
  {
   "cell_type": "markdown",
   "metadata": {},
   "source": [
    "As the same things, save as TAB TXT file and changed the file suffix to cls.\n",
    "\n",
    "You can see `GSEA_timepoint.cls`example_files the folder."
   ]
  },
  {
   "cell_type": "markdown",
   "metadata": {},
   "source": []
  },
  {
   "cell_type": "markdown",
   "metadata": {},
   "source": [
    "# load data\n",
    "Now, we can load 3 data file to GSEA software.\n",
    "To load the data files, click the Load Data icon in the Navigator area of the GSEA window. \n",
    "If your data file format are correct, GSEA displays the Load Data page: \n",
    "\n",
    "![loadData.png](./images/loadData.png)\n",
    "\n",
    "If there show you having some ERROR, then you should check your file formats. \n",
    "\n",
    "# Run GSEA\n",
    "\n",
    "1. Select the Run GSEA icon on the GSEA main page. The GSEA page appears:  \n",
    "\n",
    "![runGSEA.png](./images/runGSEA.png)\n",
    "\n",
    "2. Select expression dataset: `GSEA_expr_Flu`  \n",
    "\n",
    "\n",
    "3. Select Gene sets database, we choose `c2.cp.kegg.v7.0.symbols.gmt`:  \n",
    "\n",
    "![selectGenesetsDatabase.png](./images/selectGenesetsDatabase.png)\n",
    "\n",
    "4. Because we choose `GSEA_expr_Flu` expression dataset, then we select Fluticasone as phenotype labels.  \n",
    "\n",
    "![selectPhenotype.png](./images/selectPhenotype.png)\n",
    "\n",
    "5. **In this options, if we didn't map id to gene symbols, we choose `true`, and we need to select chip platform related our expression datasets. If genes symbols are as gene names, than we select `false`. ** \n",
    "\n",
    "![collapseDatasettoGeneSymbol.png](./images/collapseDatasettoGeneSymbol.png)\n",
    "\n",
    "6. We need perform in basic fields, so click the right line, we can see the basic fields.  \n",
    "\n",
    "![basicFields.png](./images/basicFields.png)\n",
    "\n",
    "7. **Because we use time-secries expression data, we must changed the metric for Ranking genes argument to one of `pearson`, `cosine`, `manhattan` and `pearson`. At here, we choose `pearson`.  \n",
    "\n",
    "![MetricforRankingGenes.png](./images/MetricforRankingGenes.png)\n",
    "\n",
    "8. In all options, I choose like this:\n",
    "\n",
    "![flurunGSEA.png](./images/flurunGSEA.png)\n",
    "\n",
    "9. click the button `Run` at the bottle of interface.\n",
    "\n",
    "\n",
    "10. After running, you can see the gree words `Success` in the GSEA report frame at the left bottle, **click the [Success](./runGSEAresults/Flu_analysis.Gsea.1568713836327/index.html) for looking the GSEA results**. \n",
    "\n",
    "![result.png](./images/result.png)"
   ]
  },
  {
   "cell_type": "markdown",
   "metadata": {},
   "source": [
    "# Refereces:\n",
    "\n",
    "[GSEA User Guide](http://software.broadinstitute.org/gsea/doc/GSEAUserGuideFrame.html?_Interpreting_GSEA_Results)"
   ]
  },
  {
   "cell_type": "code",
   "execution_count": null,
   "metadata": {},
   "outputs": [],
   "source": []
  }
 ],
 "metadata": {
  "kernelspec": {
   "display_name": "R",
   "language": "R",
   "name": "ir"
  },
  "language_info": {
   "codemirror_mode": "r",
   "file_extension": ".r",
   "mimetype": "text/x-r-source",
   "name": "R",
   "pygments_lexer": "r",
   "version": "3.6.1"
  },
  "toc": {
   "base_numbering": 1,
   "nav_menu": {},
   "number_sections": true,
   "sideBar": true,
   "skip_h1_title": false,
   "title_cell": "Table of Contents",
   "title_sidebar": "Contents",
   "toc_cell": false,
   "toc_position": {},
   "toc_section_display": true,
   "toc_window_display": false
  }
 },
 "nbformat": 4,
 "nbformat_minor": 2
}
