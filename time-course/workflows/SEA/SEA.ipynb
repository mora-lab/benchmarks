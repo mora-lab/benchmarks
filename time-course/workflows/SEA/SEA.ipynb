{
 "cells": [
  {
   "cell_type": "markdown",
   "metadata": {},
   "source": [
    "This tutorial is coming from http://bioinfo.cipf.es/seawiki/doku.php?id=start.\n",
    "    \n",
    "We will talk about how to use ASCA-functional,maSigPro and PCA-maSigFun."
   ]
  },
  {
   "cell_type": "markdown",
   "metadata": {},
   "source": [
    "ASCA-functional, maSigPro and PCA-maSigFun are perform on web [SEA (Serial Expression Analysis)](http://sea.bioinfo.cipf.es/)"
   ]
  },
  {
   "cell_type": "markdown",
   "metadata": {},
   "source": [
    "Serial Expression Analysis (SEA) is a web site for the analysis of serial gene expression data. \n",
    "\n",
    "Serial data is understood as multifactorial experimental designs where one of the factors is a quantitative variable such as time or treatment dose. \n",
    "\n",
    "The site offers five different methodologies for the **identification of genes and functional classes which significant changes across series.** \n",
    "\n",
    "![SEA1.png](./picture/SEA1.png)"
   ]
  },
  {
   "cell_type": "markdown",
   "metadata": {},
   "source": [
    "Now, Let us to learn how to use SEA."
   ]
  },
  {
   "cell_type": "markdown",
   "metadata": {},
   "source": [
    "# 1 Register, upload data and create projects"
   ]
  },
  {
   "cell_type": "markdown",
   "metadata": {},
   "source": [
    "1. You can work anonymously or by registering on “Register”. I suggest you register the SEA by email.\n",
    "\n",
    " Click `register` at the top right. And input your email, make a password to register. Then you can get 1G\n",
    "storage space to save all of you anlysis in case you want to check again in other time or at anyplace."
   ]
  },
  {
   "cell_type": "markdown",
   "metadata": {},
   "source": [
    "![SEA2.png](./picture/SEA2.png)"
   ]
  },
  {
   "cell_type": "markdown",
   "metadata": {},
   "source": [
    "If you have account on SEA, then you can click `login` at the top right of the SEA home page."
   ]
  },
  {
   "cell_type": "markdown",
   "metadata": {},
   "source": [
    "Example is my account.\n",
    "![SEA3.png](./picture/SEA3.png)"
   ]
  },
  {
   "cell_type": "markdown",
   "metadata": {},
   "source": [
    "After you logged in. The interface likes this picture.\n",
    "\n",
    "![SEA4.png](./picture/SEA4.png)"
   ]
  },
  {
   "cell_type": "markdown",
   "metadata": {},
   "source": [
    "# Upload data "
   ]
  },
  {
   "cell_type": "markdown",
   "metadata": {},
   "source": [
    "It is the first step to analysis your data on SEA web."
   ]
  },
  {
   "cell_type": "markdown",
   "metadata": {},
   "source": [
    "Click `upload Data`, upload your data accouding to this picture.\n",
    "\n",
    "![SEA5.png](picture/SEA5.png)"
   ]
  },
  {
   "cell_type": "markdown",
   "metadata": {},
   "source": [
    "# Data fomat"
   ]
  },
  {
   "cell_type": "markdown",
   "metadata": {},
   "source": [
    "## Expression data"
   ]
  },
  {
   "cell_type": "markdown",
   "metadata": {},
   "source": [
    "Expression data: txt file with expression data, genes in rows, arrays in columns. The file must contain an additional row with sample names and a column with gene names. Column names should not start with a number and should also not contain strange characters:\n",
    "\n",
    "![SEA6.png](picture/SEA6.png)"
   ]
  },
  {
   "cell_type": "markdown",
   "metadata": {},
   "source": [
    "## Covariates"
   ]
  },
  {
   "cell_type": "markdown",
   "metadata": {},
   "source": [
    "Covariates: txt file with experimental design information, containing as many columns as arrays and as many rows as experimental factors. Each cell contains the value of the array in the experimental factor: \n",
    "![SEA7.png](picture/SEA7.png)"
   ]
  },
  {
   "cell_type": "markdown",
   "metadata": {},
   "source": [
    "Experimental factors must have always more than one level, i.e. two or more time-points, two or more treatments, etc. If not, the experimental factor cannot be considered as such and should not be included in the covariates file. "
   ]
  },
  {
   "cell_type": "markdown",
   "metadata": {},
   "source": [
    "## Annotation:"
   ]
  },
  {
   "cell_type": "markdown",
   "metadata": {},
   "source": [
    "Annotation: txt file with functional annotation of genes. Two columns: gene_annotation. If a gene has more than one annotation label, this is indicated in different rows:"
   ]
  },
  {
   "cell_type": "markdown",
   "metadata": {},
   "source": [
    "![SEA8.png](./picture/SEA8.png)"
   ]
  },
  {
   "cell_type": "markdown",
   "metadata": {},
   "source": [
    "# Example data"
   ]
  },
  {
   "cell_type": "markdown",
   "metadata": {},
   "source": [
    "[potato_9124_annots.txt](ExampleData/potato_9124_annots.txt)\n",
    "\n",
    "[potato_9124_cov.txt](ExampleData/potato_9124_cov.txt)\n",
    "\n",
    "[potato_9124_data.txt](ExampleData/potato_9124_data.txt)"
   ]
  },
  {
   "cell_type": "markdown",
   "metadata": {},
   "source": [
    "# [ASCA-Functional](ASCA-Functional.ipynb)"
   ]
  },
  {
   "cell_type": "markdown",
   "metadata": {},
   "source": [
    "# [maSigFun](maSigFun.ipynb)"
   ]
  },
  {
   "cell_type": "markdown",
   "metadata": {},
   "source": [
    "# [PCA-maSigFun](PCA-maSigFun.ipynb)"
   ]
  },
  {
   "cell_type": "code",
   "execution_count": null,
   "metadata": {},
   "outputs": [],
   "source": []
  }
 ],
 "metadata": {
  "kernelspec": {
   "display_name": "Python 3",
   "language": "python",
   "name": "python3"
  },
  "language_info": {
   "codemirror_mode": {
    "name": "ipython",
    "version": 3
   },
   "file_extension": ".py",
   "mimetype": "text/x-python",
   "name": "python",
   "nbconvert_exporter": "python",
   "pygments_lexer": "ipython3",
   "version": "3.7.1"
  },
  "toc": {
   "base_numbering": 1,
   "nav_menu": {},
   "number_sections": true,
   "sideBar": true,
   "skip_h1_title": false,
   "title_cell": "Table of Contents",
   "title_sidebar": "Contents",
   "toc_cell": false,
   "toc_position": {},
   "toc_section_display": true,
   "toc_window_display": true
  }
 },
 "nbformat": 4,
 "nbformat_minor": 2
}
