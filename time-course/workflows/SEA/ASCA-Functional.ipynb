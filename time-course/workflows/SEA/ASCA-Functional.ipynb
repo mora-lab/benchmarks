{
 "cells": [
  {
   "cell_type": "markdown",
   "metadata": {},
   "source": [
    "# ASCA-Functional"
   ]
  },
  {
   "cell_type": "markdown",
   "metadata": {},
   "source": [
    "1. Click `ASCA-Functional` at the menu \n",
    "\n",
    "\n",
    "2. select your data, if you didn't found your data, please click the blue words `expression` or `convariates` to `Upload Data` page for upload data.\n",
    "\n",
    " Here we set example data. all options as following this picture.\n",
    "\n",
    "![SEA9.png](picture/SEA9.png)\n",
    "\n",
    "\n",
    "3. Select database. SEA supposts 11 organism. But our example data not belongs to any database. So we choose our annotion data.  \n",
    "![SEA10.png](picture/SEA10.png)\n",
    "\n",
    "\n",
    "4. About `options`, here we set as defaults.\n",
    "\n",
    "    **Include interaction between factors**: logical to indicate whether interaction/s between factors should be analyzed (only for experimental designs with more than one factor).\n",
    "\n",
    "    **Join interaction with second factor**: logical to indicate whether interaction/s must be analysed jointly with the second/third factor (TRUE, default) or not (FALSE).\n",
    "\n",
    "    **Variability threshold for component selection**: Criterion for selection of principal components. With “average”, components are selected that explain more than the average component variability, calculated as total data variability divided by the rank of the matrix associated to the factor. Also a fixed value for percentage of explained variability can be indicated such as 0.2, 0.4, 0.5, 0.7, 0.8…\n",
    "\n",
    "\n",
    "5. You must give a name `job name`  to your ASCA-functional analysis to easy find out which is this analysis.\n",
    "\n",
    "\n",
    "6. At the end, click `Run` to analysis."
   ]
  },
  {
   "cell_type": "markdown",
   "metadata": {},
   "source": [
    "The running analysis is red word in `Job list`. After run out, the words will be as gree. **If you want to see the results, click the gree words.**\n",
    "\n",
    "![SEA11.png](picture/SEA11.png)\n",
    "![SEA12.png](picture/SEA12.png)\n"
   ]
  },
  {
   "cell_type": "markdown",
   "metadata": {},
   "source": [
    "### Results"
   ]
  },
  {
   "cell_type": "markdown",
   "metadata": {},
   "source": [
    "The results will show you Variability, Genes, Visualization and Gene set analysis.\n",
    " \n",
    "![SEA13.png](picture/SEA13.png)\n",
    "![SEA14.png](picture/SEA14.png)\n",
    "![SEA15.png](picture/SEA15.png)\n",
    "![SEA16.png](picture/SEA16.png)\n",
    "![SEA17.png](picture/SEA17.png)"
   ]
  },
  {
   "cell_type": "code",
   "execution_count": null,
   "metadata": {},
   "outputs": [],
   "source": []
  }
 ],
 "metadata": {
  "kernelspec": {
   "display_name": "Python 3",
   "language": "python",
   "name": "python3"
  },
  "language_info": {
   "codemirror_mode": {
    "name": "ipython",
    "version": 3
   },
   "file_extension": ".py",
   "mimetype": "text/x-python",
   "name": "python",
   "nbconvert_exporter": "python",
   "pygments_lexer": "ipython3",
   "version": "3.7.1"
  },
  "toc": {
   "base_numbering": 1,
   "nav_menu": {},
   "number_sections": true,
   "sideBar": true,
   "skip_h1_title": false,
   "title_cell": "Table of Contents",
   "title_sidebar": "Contents",
   "toc_cell": false,
   "toc_position": {},
   "toc_section_display": true,
   "toc_window_display": false
  }
 },
 "nbformat": 4,
 "nbformat_minor": 2
}
