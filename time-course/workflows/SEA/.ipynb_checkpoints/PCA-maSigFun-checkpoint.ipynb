{
 "cells": [
  {
   "cell_type": "markdown",
   "metadata": {},
   "source": [
    "1. Click `PCA-maSigFun` at the menu \n",
    "\n",
    "2. select your data, if you didn't found your data, please click the blue words `expression` or `convariates` to `Upload Data` page for upload data.\n",
    "\n",
    "    **Quantitative factor**: name of the numerical variable of the experimental design, normally the time.\n",
    "    \n",
    "    **Qualitative factor**: name of the categorical variable of the experimental design.\n",
    "    \n",
    "    **Control group**: name of the reference series in the regression model (in the example is Ctr).\n",
    "\n",
    "Here we set example data. all options as following this picture.\n",
    "\n",
    "![SEA27.png](picture/SEA27.png)\n",
    "\n",
    "3. Select database. SEA supposts 11 organism. But our example data not belongs to any database. So we choose our annotion data.\n",
    "\n",
    "![SEA10.png](picture/SEA10.png)\n",
    "\n",
    "4. About `options`, here we set as defaults.\n",
    "\n",
    "    **Polynomial degree**: degree for the regression model. The maximum allowed degree is #time_points – 1. \n",
    "    \n",
    "    **Alpha**: significant level for gene selection.\n",
    "    \n",
    "    **R-Squared cut-off**: required level of the goodness of fit of the regression model. This parameter is between 0 and 1. Higher values indicate well fitted models.Recommend values are between [0.4,0.8].\n",
    "    \n",
    "    **Cut-off**: Variability level to select Principal Components in each category.\n",
    "\n",
    "    **Selection factor**: criterion to select components can be:\n",
    "\n",
    "            Proportion of acumulated variability. Posible cut-off values are in (0,1).\n",
    "\n",
    "            Proportion of variability of each PC. Posible cut-off values are in (0,1).\n",
    "\n",
    "            Average: components are selected that explain more than “cut-off” times the average component variability. The recommended “cut-off” values are in [1,1.5].\n",
    "    \n",
    "    \n",
    "5. You must give a name `job name`  to your PCA-maSigFun analysis to easy find out which is this analysis.\n",
    "\n",
    "\n",
    "6. At the end, click `Run` to analysis."
   ]
  },
  {
   "cell_type": "markdown",
   "metadata": {},
   "source": [
    "# Results"
   ]
  },
  {
   "cell_type": "markdown",
   "metadata": {},
   "source": [
    "![SEA28.png](picture/SEA28.png)"
   ]
  },
  {
   "cell_type": "markdown",
   "metadata": {},
   "source": [
    "# maSigVisualization"
   ]
  },
  {
   "cell_type": "markdown",
   "metadata": {},
   "source": [
    "Click `Send to maSig visualization`, we get the interface of `maSigVisualization` and had fill all options. "
   ]
  },
  {
   "cell_type": "markdown",
   "metadata": {},
   "source": [
    "![SEA29.png](picture/SEA29.png)"
   ]
  },
  {
   "cell_type": "markdown",
   "metadata": {},
   "source": [
    "**Clustering method**: available methods are:\n",
    "        \n",
    "    'hclust': hierarchical clustering\n",
    "    'kmeans': k-means\n",
    "        \n",
    "**Number of clusters**: groups to split gene selection to show results.\n",
    "    \n",
    "    \n",
    "**PCA parameters**: Threshold for significant gene contribution for the PCA model. This threshold allows the identification of the genes that most contribute to the selected components. It can be computed by applying several procedures:\n",
    "\n",
    "\n",
    "   **Resampling**: where a null Leverage distribution is created by permuting columns of expression data and genes are selected at the “alpha” percentile of the null distribution.\n",
    "\n",
    "   **minAS**: where a density function is calculated on the data and genes are selected on a local minimum basis [7].\n",
    "\n",
    "   **Gamma**: where a gamma distribution is adjusted to the distributions of the gene loadings, and genes are selected at the “alpha” percentile of the gamma distribution [7].\n",
    "\n",
    "   **Custom**: where the user can decide the threshold.\n"
   ]
  },
  {
   "cell_type": "markdown",
   "metadata": {},
   "source": [
    "![SEA30.png](picture/SEA30.png)\n",
    "![SEA31.png](picture/SEA31.png)\n",
    "![SEA32.png](picture/SEA32.png)"
   ]
  },
  {
   "cell_type": "code",
   "execution_count": null,
   "metadata": {},
   "outputs": [],
   "source": []
  }
 ],
 "metadata": {
  "kernelspec": {
   "display_name": "Python 3",
   "language": "python",
   "name": "python3"
  },
  "language_info": {
   "codemirror_mode": {
    "name": "ipython",
    "version": 3
   },
   "file_extension": ".py",
   "mimetype": "text/x-python",
   "name": "python",
   "nbconvert_exporter": "python",
   "pygments_lexer": "ipython3",
   "version": "3.7.1"
  },
  "toc": {
   "base_numbering": 1,
   "nav_menu": {},
   "number_sections": true,
   "sideBar": true,
   "skip_h1_title": false,
   "title_cell": "Table of Contents",
   "title_sidebar": "Contents",
   "toc_cell": false,
   "toc_position": {},
   "toc_section_display": true,
   "toc_window_display": false
  }
 },
 "nbformat": 4,
 "nbformat_minor": 2
}
