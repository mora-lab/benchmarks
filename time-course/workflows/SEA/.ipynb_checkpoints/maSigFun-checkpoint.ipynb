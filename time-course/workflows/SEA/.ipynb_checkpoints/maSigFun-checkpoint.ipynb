{
 "cells": [
  {
   "cell_type": "markdown",
   "metadata": {},
   "source": [
    "1. Click `maSigFun` at the menu \n",
    "\n",
    "2. select your data, if you didn't found your data, please click the blue words `expression` or `convariates` to `Upload Data` page for upload data.\n",
    "\n",
    "    **Quantitative factor**: name of the numerical variable of the experimental design, normally the time.\n",
    "    \n",
    "    **Qualitative factor**: name of the categorical variable of the experimental design.\n",
    "    \n",
    "    **Control group**: name of the reference series in the regression model (in the example is Ctr).\n",
    "\n",
    "Here we set example data. all options as following this picture.\n",
    "\n",
    "![SEA18.png](picture/SEA18.png)\n",
    "\n",
    "3. Select database. SEA supposts 11 organism. But our example data not belongs to any database. So we choose our annotion data.\n",
    "\n",
    "![SEA10.png](picture/SEA10.png)\n",
    "\n",
    "4. About `options`, here we set as defaults.\n",
    "\n",
    "    **Polynomial degree**: degree for the regression model. The maximum allowed degree is #time_points – 1. \n",
    "    \n",
    "    **Alpha**: significant level for gene selection.\n",
    "    \n",
    "    **R-Squared cut-off**: required level of the goodness of fit of the regression model. This parameter is between 0 and 1. Higher values indicate well fitted models.Recommend values are between [0.4,0.8].\n",
    "    \n",
    "    \n",
    "5. You must give a name `job name`  to your maSigFun analysis to easy find out which is this analysis.\n",
    "\n",
    "\n",
    "6. At the end, click `Run` to analysis."
   ]
  },
  {
   "cell_type": "markdown",
   "metadata": {},
   "source": [
    "The running analysis is red word in `Job list`. \n",
    "\n",
    "It takes a long time.\n",
    "\n",
    "After run out, the words will be as gree. **If you want to see the results, click the gree words.**\n",
    "\n",
    "![SEA19.png](picture/SEA19.png)\n",
    "![SEA20.png](picture/SEA20.png)\n"
   ]
  },
  {
   "cell_type": "markdown",
   "metadata": {},
   "source": [
    "## Result"
   ]
  },
  {
   "cell_type": "markdown",
   "metadata": {},
   "source": [
    "![SEA21.png](picture/SEA21.png)"
   ]
  },
  {
   "cell_type": "markdown",
   "metadata": {},
   "source": [
    "# maSigVisualization"
   ]
  },
  {
   "cell_type": "markdown",
   "metadata": {},
   "source": [
    "Click `Send to maSig visualization`, we get the interface of `maSigVisualization` and had fill all options. "
   ]
  },
  {
   "cell_type": "markdown",
   "metadata": {},
   "source": [
    "![SEA22.png](picture/SEA22.png)"
   ]
  },
  {
   "cell_type": "markdown",
   "metadata": {},
   "source": [
    "**the visual result**\n",
    "![SEA23.png](picture/SEA23.png)\n",
    "![SEA24.png](picture/SEA24.png)\n",
    "![SEA25.png](picture/SEA25.png)\n",
    "![SEA26.png](picture/SEA26.png)\n"
   ]
  },
  {
   "cell_type": "code",
   "execution_count": null,
   "metadata": {},
   "outputs": [],
   "source": []
  }
 ],
 "metadata": {
  "kernelspec": {
   "display_name": "Python 3",
   "language": "python",
   "name": "python3"
  },
  "language_info": {
   "codemirror_mode": {
    "name": "ipython",
    "version": 3
   },
   "file_extension": ".py",
   "mimetype": "text/x-python",
   "name": "python",
   "nbconvert_exporter": "python",
   "pygments_lexer": "ipython3",
   "version": "3.7.1"
  },
  "toc": {
   "base_numbering": 1,
   "nav_menu": {},
   "number_sections": true,
   "sideBar": true,
   "skip_h1_title": false,
   "title_cell": "Table of Contents",
   "title_sidebar": "Contents",
   "toc_cell": false,
   "toc_position": {},
   "toc_section_display": true,
   "toc_window_display": false
  }
 },
 "nbformat": 4,
 "nbformat_minor": 2
}
