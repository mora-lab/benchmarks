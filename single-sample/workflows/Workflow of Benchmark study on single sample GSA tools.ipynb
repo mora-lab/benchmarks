{
 "cells": [
  {
   "cell_type": "markdown",
   "metadata": {},
   "source": [
    "# Benchmark study on single sample gene set analysis tools\n",
    "\n",
    "#### Contributor: Antonio Mora, Chengshu Xie \n",
    "#### Date of first version: 2019-01-20\n",
    "#### Date of last review: 2020-05-26 \n",
    "#### Summary:\n",
    "This is a workflow to compare 6 single sample gene set analysis methods(PLAGE, ZSCORE, SSGSEA, GSVA, GRAPE, Pathifier) through the slected real benchmark datasets. Here are the 8 data sets about respiratory disease from GEO database, which are available in [GitHub](https://github.com/mora-lab/benchmarks/tree/master/single-sample/data):\n",
    "\n",
    "* [GSE10245 : Non-Small Cells Lung Cancer](https://www.ncbi.nlm.nih.gov/geo/query/acc.cgi?acc=GSE10245)\n",
    "* [GSE11906 : Chronic Obstructive Pulmanory Disease](https://www.ncbi.nlm.nih.gov/geo/query/acc.cgi?acc=GSE11906)\n",
    "* [GSE18842 : Non-Small Cells Lung Cancer](https://www.ncbi.nlm.nih.gov/geo/query/acc.cgi?acc=GSE18842)\n",
    "* [GSE35571 : Asthma](https://www.ncbi.nlm.nih.gov/geo/query/acc.cgi?acc=GSE35571)\n",
    "* [GSE42057 : Chronic Obstructive Pulmanory Disease](https://www.ncbi.nlm.nih.gov/geo/query/acc.cgi?acc=GSE42057)\n",
    "* [GSE50834 : Tuberculosis](https://www.ncbi.nlm.nih.gov/geo/query/acc.cgi?acc=GSE50834)\n",
    "* [GSE52819 : Tuberculosis](https://www.ncbi.nlm.nih.gov/geo/query/acc.cgi?acc=GSE52819)\n",
    "* [GSE67472 : Asthma](https://www.ncbi.nlm.nih.gov/geo/query/acc.cgi?acc=GSE67472)\n",
    "\n",
    "#### Contents:\n",
    "* [1. Data Preparation](#link1)\n",
    "    * [1.1 Prerequisites](#link2)\n",
    "    * [1.2 Download and manage data](#link3) \n",
    "* [2. Method application](#link4)\n",
    "    * [2.1 PLAGE,ZSCORE,SSGSEA and GSVA](#link5)\n",
    "    * [2.2 Pathifier](#link6)\n",
    "    * [2.3 GRAPE](#link7)\n",
    "    * [2.4 Combination of P-value](#link8)\n",
    "* [3. Calculation of sensitivity, specificity, and precision](#link9) \n",
    "* [4. Boxplots](#link10)\n",
    "\n",
    "\n",
    "\n",
    "\n",
    "## <a id=link1>1. Data Preparation</a>\n",
    "\n",
    "### <a id=link2>1.1 Prerequisites</a>\n",
    "\n",
    "Install and library packages in need:"
   ]
  },
  {
   "cell_type": "code",
   "execution_count": 1,
   "metadata": {},
   "outputs": [],
   "source": [
    "##################################################################################\n",
    "########################## Install and Library Packages ##########################\n",
    "##################################################################################\n",
    "installed <- installed.packages()[,\"Package\"]\n",
    "packages.required = c(\"GEOquery\", \"tidyverse\", \"GRAPE\", \"GSVAdata\", \"pathifier\",\n",
    "                      \"GSEABase\",\"GSVA\", \"limma\", \"metap\", \"ggplot2\",\n",
    "                      \"R.utils\", \"ggpubr\", \"reshape2\",\"stringr\")\n",
    "\n",
    "for (package in packages.required){\n",
    "    if (!(package %in% installed)) {\n",
    "     #install.packages(package)\n",
    "     if (!requireNamespace(\"BiocManager\", quietly = TRUE))\n",
    "         install.packages(\"BiocManager\")\n",
    "     \n",
    "     BiocManager::install(package, update = FALSE)\n",
    "  }\n",
    "}\n",
    "\n",
    "suppressPackageStartupMessages(library(R.utils))\n",
    "suppressPackageStartupMessages(library(GEOquery))\n",
    "suppressPackageStartupMessages(library(tidyverse))\n",
    "suppressPackageStartupMessages(library(pathifier))\n",
    "suppressPackageStartupMessages(library(GRAPE))\n",
    "suppressPackageStartupMessages(library(GSVAdata))\n",
    "suppressPackageStartupMessages(library(GSEABase))\n",
    "suppressPackageStartupMessages(library(GSVA))\n",
    "suppressPackageStartupMessages(library(limma))\n",
    "suppressPackageStartupMessages(library(metap))\n",
    "suppressPackageStartupMessages(library(ggplot2))\n",
    "suppressPackageStartupMessages(library(ggpubr))\n",
    "suppressPackageStartupMessages(library(reshape2))\n",
    "suppressPackageStartupMessages(library(stringr))"
   ]
  },
  {
   "cell_type": "code",
   "execution_count": null,
   "metadata": {},
   "outputs": [],
   "source": [
    "##################################################################################\n",
    "############################## R functions in need ###############################\n",
    "##################################################################################\n",
    "source(\"git@github.com:mora-lab/benchmarks/tree/master/single-sample/R/get_microarray_data.R\")\n",
    "source(\"git@github.com:mora-lab/benchmarks/tree/master/single-sample/R/format_input_pathifier.R\")\n",
    "source(\"git@github.com:mora-lab/benchmarks/tree/master/single-sample/R/read_gmt.R\")\n",
    "source(\"git@github.com:mora-lab/benchmarks/tree/master/single-sample/R/run_gsva_4methods.R\")\n",
    "source(\"git@github.com:mora-lab/benchmarks/tree/master/single-sample/R/run_GRAPE.R\")\n",
    "source(\"git@github.com:mora-lab/benchmarks/tree/master/single-sample/R/run_pathifier.R\")\n",
    "source(\"git@github.com:mora-lab/benchmarks/tree/master/single-sample/R/run_limma.R\")\n",
    "source(\"git@github.com:mora-lab/benchmarks/tree/master/single-sample/R/comb_pval.R\")\n",
    "source(\"git@github.com:mora-lab/benchmarks/tree/master/single-sample/R/SSP_calculation.R\")\n",
    "source(\"git@github.com:mora-lab/benchmarks/tree/master/single-sample/R/newSSPresult.R\")"
   ]
  },
  {
   "cell_type": "markdown",
   "metadata": {},
   "source": [
    "### <a id=link3>1.2 Download and manage data</a>\n",
    "\n",
    "R package `GEOquery` is useful to download expression matrix and `tidyverse` is used to do data wrangling:"
   ]
  },
  {
   "cell_type": "code",
   "execution_count": 2,
   "metadata": {},
   "outputs": [],
   "source": [
    "##################################################################\n",
    "####################### prepare datasets #########################\n",
    "##################################################################\n",
    "### make sure of the R annotation packages about the datasets\n",
    "##################################################################\n",
    "GSE10245 = get_microarray_data(geo_accession = \"GSE10245\", \n",
    "           pdata_file = \"git@github.com:mora-lab/benchmarks/tree/master/single-sample/data/GSE10245_pdata.csv\",\n",
    "           GPL = \"GPL570\");\n",
    "GSE11906 = get_microarray_data(geo_accession = \"GSE11906\",\n",
    "           pdata_file = \"git@github.com:mora-lab/benchmarks/tree/master/single-sample/data/GSE11906_pdata.csv\",\n",
    "           GPL = \"GPL570\");\n",
    "GSE18842 = get_microarray_data(geo_accession = \"GSE18842\",\n",
    "           pdata_file = \"git@github.com:mora-lab/benchmarks/tree/master/single-sample/data/GSE18842_pdata.csv\",\n",
    "           GPL = \"GPL570\");\n",
    "GSE35571 = get_microarray_data(geo_accession = \"GSE35571\", \n",
    "           pdata_file = \"git@github.com:mora-lab/benchmarks/tree/master/single-sample/data/GSE35571_pdata.csv\",\n",
    "           GPL = \"GPL570\");\n",
    "GSE42057 = get_microarray_data(geo_accession = \"GSE42057\", \n",
    "           pdata_file = \"git@github.com:mora-lab/benchmarks/tree/master/single-sample/data/GSE42057_pdata.csv\",\n",
    "           GPL = \"GPL570\");\n",
    "GSE50834 = get_microarray_data(geo_accession = \"GSE50834\",\n",
    "           pdata_file = \"git@github.com:mora-lab/benchmarks/tree/master/single-sample/data/GSE50834_pdata.csv\",\n",
    "           GPL = \"GPL10558\");\n",
    "GSE52819 = get_microarray_data(geo_accession = \"GSE52819\",\n",
    "           pdata_file = \"git@github.com:mora-lab/benchmarks/tree/master/single-sample/data/GSE52819_pdata.csv\",\n",
    "           GPL = \"GPL6244\");\n",
    "GSE67472 = get_microarray_data(geo_accession = \"GSE67472\",\n",
    "           pdata_file = \"git@github.com:mora-lab/benchmarks/tree/master/single-sample/data/GSE67472_pdata.csv\",\n",
    "           GPL = \"GPL16311\");\n",
    "\n",
    "GSEdata = list(\"GSE10245\" = GSE10245, \"GSE11906\" = GSE11906,\n",
    "               \"GSE18842\" = GSE18842, \"GSE35571\" = GSE35571,\n",
    "               \"GSE42057\" = GSE42057, \"GSE50834\" = GSE50834,\n",
    "               \"GSE52819\" = GSE52819, \"GSE67472\" = GSE67472);"
   ]
  },
  {
   "cell_type": "code",
   "execution_count": 3,
   "metadata": {},
   "outputs": [],
   "source": [
    "##################################################################\n",
    "############## prepare datasets used in pathifier ################\n",
    "##################################################################\n",
    "pathifier_input = lapply(GSEdata, format_input_pathifier);"
   ]
  },
  {
   "cell_type": "code",
   "execution_count": 4,
   "metadata": {},
   "outputs": [],
   "source": [
    "##################################################################\n",
    "##################### Reference pathways #########################\n",
    "##################################################################\n",
    "### make sure of the R annotation packages about the datasets\n",
    "##################################################################\n",
    "pathwaylist = read_gmt(\"git@github.com:mora-lab/benchmarks/tree/master/single-sample/data/c2.cp.kegg.v7.0.symbols.gmt\");\n",
    "target.Asthma = read_gmt(\"git@github.com:mora-lab/benchmarks/tree/master/single-sample/data/Asthma.target.pathway.symbols.gmt\");\n",
    "target.COPD = read_gmt(\"git@github.com:mora-lab/benchmarks/tree/master/single-sample/data/COPD.target.pathway.symbols.gmt\");\n",
    "target.NSCLC = read_gmt(\"git@github.com:mora-lab/benchmarks/tree/master/single-sample/data/NSCLC.target.pathway.symbols.gmt\");\n",
    "target.Tuber = read_gmt(\"git@github.com:mora-lab/benchmarks/tree/master/single-sample/data/Tuberclosis.target.pathway.symbols.gmt\");\n",
    "\n",
    "### used in GSVA\n",
    "genesetcollection = getGmt(\"git@github.com:mora-lab/benchmarks/tree/master/single-sample/data/c2.cp.kegg.v7.0.symbols.gmt\", \n",
    "                           geneIdType = EntrezIdentifier(), \n",
    "                           collectionType = BroadCollection(category=\"c2\"));\n",
    "\n",
    "### used in Pathifier\n",
    "PATHWAYS = list();\n",
    "PATHWAYS$gs = pathwaylist;\n",
    "PATHWAYS$pathwaynames = as.list(names(pathwaylist));\n",
    "names(PATHWAYS$pathwaynames) = names(pathwaylist);"
   ]
  },
  {
   "cell_type": "markdown",
   "metadata": {},
   "source": [
    "## <a id=link4>2. Methods application</a>\n",
    "\n",
    "### <a id=link5>2.1 PLAGE,ZSCORE,SSGSEA and GSVA</a>\n",
    "\n",
    "Run the 4 methods using `run_gsva_4methods` and change the formats of the results : "
   ]
  },
  {
   "cell_type": "code",
   "execution_count": 5,
   "metadata": {},
   "outputs": [],
   "source": [
    "### results of PLAGE,ZSCORE,SSGSEA and GSVA\n",
    "gsva_4results = lapply(GSEdata, function(x) run_gsva_4methods(x, genesetcollection))\n",
    "                       \n",
    "### change the formats\n",
    "adjust_str = function(resultlist){\n",
    "  \n",
    "  score.result = list();\n",
    "  i = 1;\n",
    "  for (j in 1:4){\n",
    "    score.result[[j]] = list(\"GSE10245\" = gsva_4results[[i]][[j]],\n",
    "                             \"GSE11906\" = gsva_4results[[i+1]][[j]],\n",
    "                             \"GSE18842\" = gsva_4results[[i+2]][[j]],\n",
    "                             \"GSE35571\" = gsva_4results[[i+3]][[j]],\n",
    "                             \"GSE42057\" = gsva_4results[[i+4]][[j]],\n",
    "                             \"GSE50834\" = gsva_4results[[i+5]][[j]],\n",
    "                             \"GSE52819\" = gsva_4results[[i+6]][[j]],\n",
    "                             \"GSE67472\" = gsva_4results[[i+7]][[j]])\n",
    "  }\n",
    "  names(score.result) = c(\"result.plage\", \n",
    "                          \"result.zscore\",\n",
    "                          \"result.ssgsea\", \n",
    "                          \"result.gsva\")\n",
    "  return(score.result)\n",
    "}\n",
    "\n",
    "newscore.result = adjust_str(gsva_4results)"
   ]
  },
  {
   "cell_type": "markdown",
   "metadata": {},
   "source": [
    "### <a id=link6>2.2 Pathifier</a>\n",
    "\n",
    "Using `run_pathifier()`:"
   ]
  },
  {
   "cell_type": "code",
   "execution_count": 6,
   "metadata": {},
   "outputs": [],
   "source": [
    "### results of pathifier\n",
    "pathifier_result = lapply(pathifier_input, function(x) run_pathifier(x, PATHWAYS));"
   ]
  },
  {
   "cell_type": "markdown",
   "metadata": {},
   "source": [
    "### <a id=link7>2.3 GRAPE</a>\n",
    "\n",
    "Using `run_GRAPE()`:"
   ]
  },
  {
   "cell_type": "code",
   "execution_count": 7,
   "metadata": {},
   "outputs": [],
   "source": [
    "# result.GRAPE = lapply(GSEdata, function(x) run_GRAPE(x, pathwaylist))\n",
    "result.GRAPE_GSE10245 = run_GRAPE(GSE10245, pathwaylist);\n",
    "result.GRAPE_GSE11906 = run_GRAPE(GSE11906, pathwaylist);\n",
    "result.GRAPE_GSE18842 = run_GRAPE(GSE18842, pathwaylist);\n",
    "result.GRAPE_GSE35571 = run_GRAPE(GSE35571, pathwaylist);\n",
    "result.GRAPE_GSE50834 = run_GRAPE(GSE50834, pathwaylist);\n",
    "result.GRAPE_GSE52819 = run_GRAPE(GSE52819, pathwaylist);\n",
    "result.GRAPE_GSE67472 = run_GRAPE(GSE67472, pathwaylist);\n",
    "\n",
    "## not work\n",
    "# result.GRAPE_GSE42057 = run_GRAPE(GSE42057, pathwaylist);\n",
    "\n",
    "GRAPE_result = list(\"GSE10245\" = result.GRAPE_GSE10245,\n",
    "                    \"GSE11906\" = result.GRAPE_GSE11906,\n",
    "                    \"GSE18842\" = result.GRAPE_GSE18842,\n",
    "                    \"GSE35571\" = result.GRAPE_GSE35571,\n",
    "                    \"GSE50834\" = result.GRAPE_GSE50834,\n",
    "                    \"GSE52819\" = result.GRAPE_GSE52819,\n",
    "                    \"GSE67472\" = result.GRAPE_GSE67472)"
   ]
  },
  {
   "cell_type": "markdown",
   "metadata": {},
   "source": [
    "### <a id=link8>2.4 Combination of P-value</a>\n",
    "\n",
    "\n",
    "Before combing the pvalues, using `limma` package to get all pvalue of each pathway:"
   ]
  },
  {
   "cell_type": "code",
   "execution_count": 8,
   "metadata": {},
   "outputs": [],
   "source": [
    "##################################################################\n",
    "############### conversion of scores_into_pvalue ################\n",
    "##################################################################\n",
    "score.plage = newscore.result$result.plage;\n",
    "score.gsva = newscore.result$result.gsva;\n",
    "score.ssgsea = newscore.result$result.ssgsea;\n",
    "score.zscore = newscore.result$result.zscore;\n",
    "score.pathifier = pathifier_results\n",
    "score.GRAPE = GRAPE_result\n",
    "\n",
    "# PLAGE, ZSCORE, SSGSEA, GSVA\n",
    "P.res.gsva = run_limma(score.gsva, GSEdata)\n",
    "P.res.ssgsea = run_limma(score.ssgsea, GSEdata)\n",
    "P.res.plage = run_limma(score.plage, GSEdata)\n",
    "P.res.zscore = run_limma(score.zscore, GSEdata)\n",
    "\n",
    "# pathifier\n",
    "P.res.pathifier = run_limma(score.pathifier, GSEdata)\n",
    "names(P.res.pathifier) = names(P.res.gsva) = names(P.res.plage) = names(P.res.ssgsea) = names(P.res.zscore) = names(GSEdata)\n",
    "\n",
    "# GRAPE\n",
    "g.GSE = list(GSEdata[[1]],GSEdata[[2]],GSEdata[[3]],GSEdata[[4]],\n",
    "             GSEdata[[6]],GSEdata[[7]], GSEdata[[8]])\n",
    "names(g.GSE) = c(\"GSE10245\", \"GSE11906\", \"GSE18842\", \"GSE35571\",\n",
    "                 \"GSE50834\", \"GSE52819\", \"GSE67472\")\n",
    "P.res.GRAPE = run_limma(score.GRAPE, g.GSE)\n",
    "names(P.res.GRAPE) = names(g.GSE)\n",
    "P.res.GRAPE = list(\"GSE10245\" = P.res.GRAPE$GSE10245,\n",
    "                   \"GSE11906\" = P.res.GRAPE$GSE11906,\n",
    "                   \"GSE18842\" = P.res.GRAPE$GSE18842,\n",
    "                   \"GSE35571\" = P.res.GRAPE$GSE35571,\n",
    "                   \"GSE42057\" = c(),\n",
    "                   \"GSE50834\" = P.res.GRAPE$GSE50834,\n",
    "                   \"GSE52819\" = P.res.GRAPE$GSE52819,\n",
    "                   \"GSE67472\" = P.res.GRAPE$GSE67472)"
   ]
  },
  {
   "cell_type": "code",
   "execution_count": 9,
   "metadata": {},
   "outputs": [],
   "source": [
    "### change the formats of all results\n",
    "P.res = c()\n",
    "for (i in c(1:4, 7:8)){\n",
    "  P.res[[i]] = cbind(P.res.gsva[[i]], P.res.ssgsea[[i]], \n",
    "                     P.res.plage[[i]], P.res.zscore[[i]], \n",
    "                     P.res.pathifier[[i]], P.res.GRAPE[[i]])\n",
    "\n",
    "  colnames(P.res[[i]]) = c(\"GSVA\", \"SSGSEA\", \"PLAGE\", \"ZSCORE\", \"PATHIFIER\", \"GRAPE\")\n",
    "  rownames(P.res[[i]]) = rownames(P.res.gsva[[i]])\n",
    "}\n",
    "names(P.res) = names(GSEdata)"
   ]
  },
  {
   "cell_type": "code",
   "execution_count": 10,
   "metadata": {},
   "outputs": [
    {
     "data": {
      "text/html": [
       "<table>\n",
       "<caption>A matrix: 6 × 6 of type dbl</caption>\n",
       "<thead>\n",
       "\t<tr><th></th><th scope=col>GSVA</th><th scope=col>SSGSEA</th><th scope=col>PLAGE</th><th scope=col>ZSCORE</th><th scope=col>PATHIFIER</th><th scope=col>GRAPE</th></tr>\n",
       "</thead>\n",
       "<tbody>\n",
       "\t<tr><th scope=row>KEGG_ABC_TRANSPORTERS</th><td>0.1478027</td><td>0.31407648</td><td>9.437269e-01</td><td>0.46573509</td><td>6.302940e-12</td><td>2.952325e-04</td></tr>\n",
       "\t<tr><th scope=row>KEGG_ACUTE_MYELOID_LEUKEMIA</th><td>0.5117108</td><td>0.08246265</td><td>3.592973e-07</td><td>0.74184071</td><td>3.808734e-09</td><td>1.660432e-06</td></tr>\n",
       "\t<tr><th scope=row>KEGG_ADHERENS_JUNCTION</th><td>0.8306032</td><td>0.06077015</td><td>2.188394e-10</td><td>0.89299786</td><td>2.392090e-08</td><td>1.341220e-10</td></tr>\n",
       "\t<tr><th scope=row>KEGG_ADIPOCYTOKINE_SIGNALING_PATHWAY</th><td>0.2446430</td><td>0.02329440</td><td>3.542509e-03</td><td>0.05508469</td><td>1.051029e-04</td><td>8.779104e-05</td></tr>\n",
       "\t<tr><th scope=row>KEGG_ALANINE_ASPARTATE_AND_GLUTAMATE_METABOLISM</th><td>0.7535867</td><td>0.49284935</td><td>4.050375e-06</td><td>0.62769875</td><td>2.186887e-09</td><td>3.311847e-02</td></tr>\n",
       "\t<tr><th scope=row>KEGG_ALDOSTERONE_REGULATED_SODIUM_REABSORPTION</th><td>0.4350288</td><td>0.01246702</td><td>4.304272e-08</td><td>0.15405608</td><td>3.385644e-12</td><td>3.118776e-01</td></tr>\n",
       "</tbody>\n",
       "</table>\n"
      ],
      "text/latex": [
       "A matrix: 6 × 6 of type dbl\n",
       "\\begin{tabular}{r|llllll}\n",
       "  & GSVA & SSGSEA & PLAGE & ZSCORE & PATHIFIER & GRAPE\\\\\n",
       "\\hline\n",
       "\tKEGG\\_ABC\\_TRANSPORTERS & 0.1478027 & 0.31407648 & 9.437269e-01 & 0.46573509 & 6.302940e-12 & 2.952325e-04\\\\\n",
       "\tKEGG\\_ACUTE\\_MYELOID\\_LEUKEMIA & 0.5117108 & 0.08246265 & 3.592973e-07 & 0.74184071 & 3.808734e-09 & 1.660432e-06\\\\\n",
       "\tKEGG\\_ADHERENS\\_JUNCTION & 0.8306032 & 0.06077015 & 2.188394e-10 & 0.89299786 & 2.392090e-08 & 1.341220e-10\\\\\n",
       "\tKEGG\\_ADIPOCYTOKINE\\_SIGNALING\\_PATHWAY & 0.2446430 & 0.02329440 & 3.542509e-03 & 0.05508469 & 1.051029e-04 & 8.779104e-05\\\\\n",
       "\tKEGG\\_ALANINE\\_ASPARTATE\\_AND\\_GLUTAMATE\\_METABOLISM & 0.7535867 & 0.49284935 & 4.050375e-06 & 0.62769875 & 2.186887e-09 & 3.311847e-02\\\\\n",
       "\tKEGG\\_ALDOSTERONE\\_REGULATED\\_SODIUM\\_REABSORPTION & 0.4350288 & 0.01246702 & 4.304272e-08 & 0.15405608 & 3.385644e-12 & 3.118776e-01\\\\\n",
       "\\end{tabular}\n"
      ],
      "text/markdown": [
       "\n",
       "A matrix: 6 × 6 of type dbl\n",
       "\n",
       "| <!--/--> | GSVA | SSGSEA | PLAGE | ZSCORE | PATHIFIER | GRAPE |\n",
       "|---|---|---|---|---|---|---|\n",
       "| KEGG_ABC_TRANSPORTERS | 0.1478027 | 0.31407648 | 9.437269e-01 | 0.46573509 | 6.302940e-12 | 2.952325e-04 |\n",
       "| KEGG_ACUTE_MYELOID_LEUKEMIA | 0.5117108 | 0.08246265 | 3.592973e-07 | 0.74184071 | 3.808734e-09 | 1.660432e-06 |\n",
       "| KEGG_ADHERENS_JUNCTION | 0.8306032 | 0.06077015 | 2.188394e-10 | 0.89299786 | 2.392090e-08 | 1.341220e-10 |\n",
       "| KEGG_ADIPOCYTOKINE_SIGNALING_PATHWAY | 0.2446430 | 0.02329440 | 3.542509e-03 | 0.05508469 | 1.051029e-04 | 8.779104e-05 |\n",
       "| KEGG_ALANINE_ASPARTATE_AND_GLUTAMATE_METABOLISM | 0.7535867 | 0.49284935 | 4.050375e-06 | 0.62769875 | 2.186887e-09 | 3.311847e-02 |\n",
       "| KEGG_ALDOSTERONE_REGULATED_SODIUM_REABSORPTION | 0.4350288 | 0.01246702 | 4.304272e-08 | 0.15405608 | 3.385644e-12 | 3.118776e-01 |\n",
       "\n"
      ],
      "text/plain": [
       "                                                GSVA      SSGSEA    \n",
       "KEGG_ABC_TRANSPORTERS                           0.1478027 0.31407648\n",
       "KEGG_ACUTE_MYELOID_LEUKEMIA                     0.5117108 0.08246265\n",
       "KEGG_ADHERENS_JUNCTION                          0.8306032 0.06077015\n",
       "KEGG_ADIPOCYTOKINE_SIGNALING_PATHWAY            0.2446430 0.02329440\n",
       "KEGG_ALANINE_ASPARTATE_AND_GLUTAMATE_METABOLISM 0.7535867 0.49284935\n",
       "KEGG_ALDOSTERONE_REGULATED_SODIUM_REABSORPTION  0.4350288 0.01246702\n",
       "                                                PLAGE        ZSCORE    \n",
       "KEGG_ABC_TRANSPORTERS                           9.437269e-01 0.46573509\n",
       "KEGG_ACUTE_MYELOID_LEUKEMIA                     3.592973e-07 0.74184071\n",
       "KEGG_ADHERENS_JUNCTION                          2.188394e-10 0.89299786\n",
       "KEGG_ADIPOCYTOKINE_SIGNALING_PATHWAY            3.542509e-03 0.05508469\n",
       "KEGG_ALANINE_ASPARTATE_AND_GLUTAMATE_METABOLISM 4.050375e-06 0.62769875\n",
       "KEGG_ALDOSTERONE_REGULATED_SODIUM_REABSORPTION  4.304272e-08 0.15405608\n",
       "                                                PATHIFIER    GRAPE       \n",
       "KEGG_ABC_TRANSPORTERS                           6.302940e-12 2.952325e-04\n",
       "KEGG_ACUTE_MYELOID_LEUKEMIA                     3.808734e-09 1.660432e-06\n",
       "KEGG_ADHERENS_JUNCTION                          2.392090e-08 1.341220e-10\n",
       "KEGG_ADIPOCYTOKINE_SIGNALING_PATHWAY            1.051029e-04 8.779104e-05\n",
       "KEGG_ALANINE_ASPARTATE_AND_GLUTAMATE_METABOLISM 2.186887e-09 3.311847e-02\n",
       "KEGG_ALDOSTERONE_REGULATED_SODIUM_REABSORPTION  3.385644e-12 3.118776e-01"
      ]
     },
     "metadata": {},
     "output_type": "display_data"
    }
   ],
   "source": [
    "### have a look at the \"P.res\" object\n",
    "head(P.res[[1]])"
   ]
  },
  {
   "cell_type": "code",
   "execution_count": 11,
   "metadata": {},
   "outputs": [
    {
     "data": {
      "text/html": [
       "<table>\n",
       "<caption>A data.frame: 6 × 1</caption>\n",
       "<thead>\n",
       "\t<tr><th></th><th scope=col>Comb.Pval</th></tr>\n",
       "\t<tr><th></th><th scope=col>&lt;dbl&gt;</th></tr>\n",
       "</thead>\n",
       "<tbody>\n",
       "\t<tr><th scope=row>KEGG_ABC_TRANSPORTERS</th><td>2.805218e-11</td></tr>\n",
       "\t<tr><th scope=row>KEGG_ACUTE_MYELOID_LEUKEMIA</th><td>2.261772e-16</td></tr>\n",
       "\t<tr><th scope=row>KEGG_ADHERENS_JUNCTION</th><td>3.469616e-22</td></tr>\n",
       "\t<tr><th scope=row>KEGG_ADIPOCYTOKINE_SIGNALING_PATHWAY</th><td>3.487811e-09</td></tr>\n",
       "\t<tr><th scope=row>KEGG_ALANINE_ASPARTATE_AND_GLUTAMATE_METABOLISM</th><td>4.682347e-11</td></tr>\n",
       "\t<tr><th scope=row>KEGG_ALDOSTERONE_REGULATED_SODIUM_REABSORPTION</th><td>1.282027e-16</td></tr>\n",
       "</tbody>\n",
       "</table>\n"
      ],
      "text/latex": [
       "A data.frame: 6 × 1\n",
       "\\begin{tabular}{r|l}\n",
       "  & Comb.Pval\\\\\n",
       "  & <dbl>\\\\\n",
       "\\hline\n",
       "\tKEGG\\_ABC\\_TRANSPORTERS & 2.805218e-11\\\\\n",
       "\tKEGG\\_ACUTE\\_MYELOID\\_LEUKEMIA & 2.261772e-16\\\\\n",
       "\tKEGG\\_ADHERENS\\_JUNCTION & 3.469616e-22\\\\\n",
       "\tKEGG\\_ADIPOCYTOKINE\\_SIGNALING\\_PATHWAY & 3.487811e-09\\\\\n",
       "\tKEGG\\_ALANINE\\_ASPARTATE\\_AND\\_GLUTAMATE\\_METABOLISM & 4.682347e-11\\\\\n",
       "\tKEGG\\_ALDOSTERONE\\_REGULATED\\_SODIUM\\_REABSORPTION & 1.282027e-16\\\\\n",
       "\\end{tabular}\n"
      ],
      "text/markdown": [
       "\n",
       "A data.frame: 6 × 1\n",
       "\n",
       "| <!--/--> | Comb.Pval &lt;dbl&gt; |\n",
       "|---|---|\n",
       "| KEGG_ABC_TRANSPORTERS | 2.805218e-11 |\n",
       "| KEGG_ACUTE_MYELOID_LEUKEMIA | 2.261772e-16 |\n",
       "| KEGG_ADHERENS_JUNCTION | 3.469616e-22 |\n",
       "| KEGG_ADIPOCYTOKINE_SIGNALING_PATHWAY | 3.487811e-09 |\n",
       "| KEGG_ALANINE_ASPARTATE_AND_GLUTAMATE_METABOLISM | 4.682347e-11 |\n",
       "| KEGG_ALDOSTERONE_REGULATED_SODIUM_REABSORPTION | 1.282027e-16 |\n",
       "\n"
      ],
      "text/plain": [
       "                                                Comb.Pval   \n",
       "KEGG_ABC_TRANSPORTERS                           2.805218e-11\n",
       "KEGG_ACUTE_MYELOID_LEUKEMIA                     2.261772e-16\n",
       "KEGG_ADHERENS_JUNCTION                          3.469616e-22\n",
       "KEGG_ADIPOCYTOKINE_SIGNALING_PATHWAY            3.487811e-09\n",
       "KEGG_ALANINE_ASPARTATE_AND_GLUTAMATE_METABOLISM 4.682347e-11\n",
       "KEGG_ALDOSTERONE_REGULATED_SODIUM_REABSORPTION  1.282027e-16"
      ]
     },
     "metadata": {},
     "output_type": "display_data"
    }
   ],
   "source": [
    "##################################################################\n",
    "##################### combination of pvalue ######################\n",
    "##################################################################\n",
    "t = P.res[-c(5:6)]  ## the data in index 5 and 6 are null\n",
    "comb_pvals = lapply(t, function(x) comb_pval(x, method = \"sumlog\"))\n",
    "\n",
    "### have a look at the \"comb_pvals\"\n",
    "head(comb_pvals$GSE10245)\n",
    "                    \n",
    "### new data frame of all p-value results\n",
    "nP.res = list()\n",
    "nP.res$GSE10245 = cbind(P.res$GSE10245, comb_pvals$GSE10245)\n",
    "nP.res$GSE11906 = cbind(P.res$GSE11906, comb_pvals$GSE11906)\n",
    "nP.res$GSE18842 = cbind(P.res$GSE18842, comb_pvals$GSE18842)\n",
    "nP.res$GSE35571 = cbind(P.res$GSE35571, comb_pvals$GSE35571)\n",
    "nP.res$GSE52819 = cbind(P.res$GSE52819, comb_pvals$GSE52819)\n",
    "nP.res$GSE67472 = cbind(P.res$GSE67472, comb_pvals$GSE67472)\n",
    "# comb_pvals = lapply(P.res[1:4], comb_pval)"
   ]
  },
  {
   "cell_type": "code",
   "execution_count": 12,
   "metadata": {},
   "outputs": [
    {
     "data": {
      "image/png": "[encoded data removed]",
      "text/plain": [
       "plot without title"
      ]
     },
     "metadata": {
      "image/png": {
       "height": 420,
       "width": 420
      }
     },
     "output_type": "display_data"
    }
   ],
   "source": [
    "##################################################################\n",
    "############### boxplot of the combined pvalues ##################\n",
    "##################################################################\n",
    "library(tidyr)\n",
    "t.data = as.data.frame(comb_pvals)\n",
    "colnames(t.data) = names(GSEdata)[-c(5:6)]\n",
    "t.data$Pathway = rownames(t.data)\n",
    "t.data = gather(t.data, key = \"Datasets\", value = \"data\", -Pathway)\n",
    "ggplot(t.data, aes(Datasets,data, fill= Datasets))+\n",
    "  geom_boxplot() +\n",
    "  ylab(\"Combined P-values\") +\n",
    "  scale_y_continuous(trans=\"log10\")"
   ]
  },
  {
   "cell_type": "markdown",
   "metadata": {},
   "source": [
    "## <a id=link9>3. Calculation of sensitivity, specificity, and precision</a> \n",
    "\n",
    "Using `SSP_calculation()` to compute the value of sensitivity, specificity, and precision, and using `newSSPresult()` to change the frame:"
   ]
  },
  {
   "cell_type": "code",
   "execution_count": 13,
   "metadata": {},
   "outputs": [],
   "source": [
    "GSE10245_NSCLC = SSP_calculation(nP.res$GSE10245, target.NSCLC)\n",
    "nGSE10245_NSCLC = newSSPresult(GSE10245_NSCLC)\n",
    "nGSE10245_NSCLC$Datasets = \"GSE10245_NSCLC\"\n",
    "GSE18842_NSCLC = SSP_calculation(nP.res$GSE18842, target.NSCLC)\n",
    "nGSE18842_NSCLC = newSSPresult(GSE18842_NSCLC)\n",
    "nGSE18842_NSCLC$Datasets = \"GSE18842_NSCLC\"\n",
    "GSE11906_COPD = SSP_calculation(nP.res$GSE11906, target.COPD)\n",
    "nGSE11906_COPD = newSSPresult(GSE11906_COPD)\n",
    "nGSE11906_COPD$Datasets = \"GSE11906_COPD\"\n",
    "GSE35571_Asthma = SSP_calculation(nP.res$GSE35571, target.Asthma)\n",
    "nGSE35571_Asthma = newSSPresult(GSE35571_Asthma)\n",
    "nGSE35571_Asthma$Datasets = \"GSE35571_Asthma\"\n",
    "GSE52819_Tuber = SSP_calculation(nP.res$GSE52819, target.Tuber)\n",
    "nGSE52819_Tuber = newSSPresult(GSE52819_Tuber)\n",
    "nGSE52819_Tuber$Datasets = \"GSE52819_Tuber\"\n",
    "GSE67472_Asthma = SSP_calculation(nP.res$GSE67472, target.Asthma)\n",
    "nGSE67472_Asthma = newSSPresult(GSE67472_Asthma)\n",
    "nGSE67472_Asthma$Datasets = \"GSE67472_Asthma\"\n",
    "\n",
    "SSP = rbind(nGSE10245_NSCLC,\n",
    "            nGSE18842_NSCLC,\n",
    "            nGSE11906_COPD,\n",
    "            nGSE35571_Asthma,\n",
    "            nGSE52819_Tuber,\n",
    "            nGSE67472_Asthma)"
   ]
  },
  {
   "cell_type": "code",
   "execution_count": 14,
   "metadata": {},
   "outputs": [
    {
     "data": {
      "text/html": [
       "<table>\n",
       "<caption>A data.frame: 6 × 5</caption>\n",
       "<thead>\n",
       "\t<tr><th></th><th scope=col>Methods</th><th scope=col>Sensitivity</th><th scope=col>Specificity</th><th scope=col>Precision</th><th scope=col>Datasets</th></tr>\n",
       "\t<tr><th></th><th scope=col>&lt;fct&gt;</th><th scope=col>&lt;dbl&gt;</th><th scope=col>&lt;dbl&gt;</th><th scope=col>&lt;dbl&gt;</th><th scope=col>&lt;chr&gt;</th></tr>\n",
       "</thead>\n",
       "<tbody>\n",
       "\t<tr><th scope=row>GSVA</th><td>GSVA     </td><td>0.3333333</td><td>0.71505376</td><td>0.03636364</td><td>GSE10245_NSCLC</td></tr>\n",
       "\t<tr><th scope=row>SSGSEA</th><td>SSGSEA   </td><td>0.3333333</td><td>0.57526882</td><td>0.02469136</td><td>GSE10245_NSCLC</td></tr>\n",
       "\t<tr><th scope=row>PLAGE</th><td>PLAGE    </td><td>0.8333333</td><td>0.25268817</td><td>0.03472222</td><td>GSE10245_NSCLC</td></tr>\n",
       "\t<tr><th scope=row>ZSCORE</th><td>ZSCORE   </td><td>0.3333333</td><td>0.69892473</td><td>0.03448276</td><td>GSE10245_NSCLC</td></tr>\n",
       "\t<tr><th scope=row>PATHIFIER</th><td>PATHIFIER</td><td>1.0000000</td><td>0.02688172</td><td>0.03208556</td><td>GSE10245_NSCLC</td></tr>\n",
       "\t<tr><th scope=row>GRAPE</th><td>GRAPE    </td><td>1.0000000</td><td>0.27956989</td><td>0.04285714</td><td>GSE10245_NSCLC</td></tr>\n",
       "</tbody>\n",
       "</table>\n"
      ],
      "text/latex": [
       "A data.frame: 6 × 5\n",
       "\\begin{tabular}{r|lllll}\n",
       "  & Methods & Sensitivity & Specificity & Precision & Datasets\\\\\n",
       "  & <fct> & <dbl> & <dbl> & <dbl> & <chr>\\\\\n",
       "\\hline\n",
       "\tGSVA & GSVA      & 0.3333333 & 0.71505376 & 0.03636364 & GSE10245\\_NSCLC\\\\\n",
       "\tSSGSEA & SSGSEA    & 0.3333333 & 0.57526882 & 0.02469136 & GSE10245\\_NSCLC\\\\\n",
       "\tPLAGE & PLAGE     & 0.8333333 & 0.25268817 & 0.03472222 & GSE10245\\_NSCLC\\\\\n",
       "\tZSCORE & ZSCORE    & 0.3333333 & 0.69892473 & 0.03448276 & GSE10245\\_NSCLC\\\\\n",
       "\tPATHIFIER & PATHIFIER & 1.0000000 & 0.02688172 & 0.03208556 & GSE10245\\_NSCLC\\\\\n",
       "\tGRAPE & GRAPE     & 1.0000000 & 0.27956989 & 0.04285714 & GSE10245\\_NSCLC\\\\\n",
       "\\end{tabular}\n"
      ],
      "text/markdown": [
       "\n",
       "A data.frame: 6 × 5\n",
       "\n",
       "| <!--/--> | Methods &lt;fct&gt; | Sensitivity &lt;dbl&gt; | Specificity &lt;dbl&gt; | Precision &lt;dbl&gt; | Datasets &lt;chr&gt; |\n",
       "|---|---|---|---|---|---|\n",
       "| GSVA | GSVA      | 0.3333333 | 0.71505376 | 0.03636364 | GSE10245_NSCLC |\n",
       "| SSGSEA | SSGSEA    | 0.3333333 | 0.57526882 | 0.02469136 | GSE10245_NSCLC |\n",
       "| PLAGE | PLAGE     | 0.8333333 | 0.25268817 | 0.03472222 | GSE10245_NSCLC |\n",
       "| ZSCORE | ZSCORE    | 0.3333333 | 0.69892473 | 0.03448276 | GSE10245_NSCLC |\n",
       "| PATHIFIER | PATHIFIER | 1.0000000 | 0.02688172 | 0.03208556 | GSE10245_NSCLC |\n",
       "| GRAPE | GRAPE     | 1.0000000 | 0.27956989 | 0.04285714 | GSE10245_NSCLC |\n",
       "\n"
      ],
      "text/plain": [
       "          Methods   Sensitivity Specificity Precision  Datasets      \n",
       "GSVA      GSVA      0.3333333   0.71505376  0.03636364 GSE10245_NSCLC\n",
       "SSGSEA    SSGSEA    0.3333333   0.57526882  0.02469136 GSE10245_NSCLC\n",
       "PLAGE     PLAGE     0.8333333   0.25268817  0.03472222 GSE10245_NSCLC\n",
       "ZSCORE    ZSCORE    0.3333333   0.69892473  0.03448276 GSE10245_NSCLC\n",
       "PATHIFIER PATHIFIER 1.0000000   0.02688172  0.03208556 GSE10245_NSCLC\n",
       "GRAPE     GRAPE     1.0000000   0.27956989  0.04285714 GSE10245_NSCLC"
      ]
     },
     "metadata": {},
     "output_type": "display_data"
    }
   ],
   "source": [
    "head(SSP)"
   ]
  },
  {
   "cell_type": "markdown",
   "metadata": {},
   "source": [
    "## <a id=link10>4. Boxplots</a>"
   ]
  },
  {
   "cell_type": "code",
   "execution_count": 15,
   "metadata": {},
   "outputs": [
    {
     "data": {
      "image/png": "[encoded data removed]",
      "text/plain": [
       "plot without title"
      ]
     },
     "metadata": {
      "image/png": {
       "height": 420,
       "width": 420
      }
     },
     "output_type": "display_data"
    }
   ],
   "source": [
    "#### In one plot\n",
    "tSSP = tidyr::gather(SSP,\"Type\", \"Value\", -c(Methods, Datasets))\n",
    "ggplot(tSSP,aes(Type,Value,fill=Methods))+\n",
    "  geom_boxplot(outlier.colour = \"red\", varwidth = TRUE)+\n",
    "  xlab(\" \")+\n",
    "  theme_classic()+\n",
    "  ylab(\"P-values of Target pathways\") "
   ]
  },
  {
   "cell_type": "code",
   "execution_count": 16,
   "metadata": {},
   "outputs": [
    {
     "data": {
      "image/png": "[encoded data removed]",
      "text/plain": [
       "plot without title"
      ]
     },
     "metadata": {
      "image/png": {
       "height": 420,
       "width": 420
      }
     },
     "output_type": "display_data"
    },
    {
     "data": {
      "image/png": "[encoded data removed]",
      "text/plain": [
       "plot without title"
      ]
     },
     "metadata": {
      "image/png": {
       "height": 420,
       "width": 420
      }
     },
     "output_type": "display_data"
    },
    {
     "data": {
      "image/png": "[encoded data removed]",
      "text/plain": [
       "plot without title"
      ]
     },
     "metadata": {
      "image/png": {
       "height": 420,
       "width": 420
      }
     },
     "output_type": "display_data"
    }
   ],
   "source": [
    "### In each single plot\n",
    "senplot <- ggplot(SSP, aes(Methods, Sensitivity, fill = Methods))+\n",
    "  geom_boxplot()+\n",
    "  xlab(\"Methods\")+\n",
    "  ylab(\"Sensitivity\") \n",
    "senplot\n",
    "speplot <- ggplot(SSP, aes(Methods,Specificity, fill = Methods))+\n",
    "  geom_boxplot()+\n",
    "  xlab(\"Methods\")+\n",
    "  ylab(\"Specificity\")\n",
    "speplot\n",
    "prelot <- ggplot(SSP, aes(Methods,Precision, fill = Methods))+\n",
    "  geom_boxplot() +\n",
    "  scale_y_sqrt()+\n",
    "  xlab(\"Methods\")+\n",
    "  ylab(\"Precision\") \n",
    "prelot"
   ]
  },
  {
   "cell_type": "code",
   "execution_count": 17,
   "metadata": {},
   "outputs": [
    {
     "data": {
      "text/plain": [
       "R version 4.0.0 (2020-04-24)\n",
       "Platform: x86_64-w64-mingw32/x64 (64-bit)\n",
       "Running under: Windows 10 x64 (build 18363)\n",
       "\n",
       "Matrix products: default\n",
       "\n",
       "locale:\n",
       "[1] LC_COLLATE=English_United States.1252 \n",
       "[2] LC_CTYPE=English_United States.1252   \n",
       "[3] LC_MONETARY=English_United States.1252\n",
       "[4] LC_NUMERIC=C                          \n",
       "[5] LC_TIME=English_United States.1252    \n",
       "\n",
       "attached base packages:\n",
       "[1] stats4    parallel  stats     graphics  grDevices utils     datasets \n",
       "[8] methods   base     \n",
       "\n",
       "other attached packages:\n",
       " [1] reshape2_1.4.4       ggpubr_0.3.0         metap_1.3           \n",
       " [4] limma_3.44.1         GSVA_1.36.0          GSVAdata_1.24.0     \n",
       " [7] hgu95a.db_3.2.3      org.Hs.eg.db_3.11.4  GSEABase_1.50.0     \n",
       "[10] graph_1.66.0         annotate_1.66.0      XML_3.99-0.3        \n",
       "[13] AnnotationDbi_1.50.0 IRanges_2.22.2       S4Vectors_0.26.1    \n",
       "[16] GRAPE_0.1.1          pathifier_1.26.0     forcats_0.5.0       \n",
       "[19] stringr_1.4.0        dplyr_0.8.5          purrr_0.3.4         \n",
       "[22] readr_1.3.1          tidyr_1.1.0          tibble_3.0.1        \n",
       "[25] ggplot2_3.3.0        tidyverse_1.3.0      GEOquery_2.56.0     \n",
       "[28] Biobase_2.48.0       BiocGenerics_0.34.0  R.utils_2.9.2       \n",
       "[31] R.oo_1.23.0          R.methodsS3_1.8.0   \n",
       "\n",
       "loaded via a namespace (and not attached):\n",
       "  [1] readxl_1.3.1                uuid_0.1-4                 \n",
       "  [3] backports_1.1.6             plyr_1.8.6                 \n",
       "  [5] sn_1.6-2                    repr_1.1.0                 \n",
       "  [7] splines_4.0.0               BiocParallel_1.22.0        \n",
       "  [9] GenomeInfoDb_1.24.0         TH.data_1.0-10             \n",
       " [11] digest_0.6.25               htmltools_0.4.0            \n",
       " [13] fansi_0.4.1                 magrittr_1.5               \n",
       " [15] memoise_1.1.0               openxlsx_4.1.5             \n",
       " [17] modelr_0.1.8                matrixStats_0.56.0         \n",
       " [19] sandwich_2.5-1              princurve_2.1.4            \n",
       " [21] colorspace_1.4-1            blob_1.2.1                 \n",
       " [23] rvest_0.3.5                 haven_2.3.0                \n",
       " [25] crayon_1.3.4                RCurl_1.98-1.2             \n",
       " [27] jsonlite_1.6.1              survival_3.1-12            \n",
       " [29] zoo_1.8-8                   glue_1.4.1                 \n",
       " [31] gtable_0.3.0                zlibbioc_1.34.0            \n",
       " [33] XVector_0.28.0              DelayedArray_0.14.0        \n",
       " [35] car_3.0-8                   abind_1.4-5                \n",
       " [37] scales_1.1.1                mvtnorm_1.1-0              \n",
       " [39] DBI_1.1.0                   bibtex_0.4.2.2             \n",
       " [41] rstatix_0.5.0               Rcpp_1.0.4.6               \n",
       " [43] plotROC_2.2.1               plotrix_3.7-8              \n",
       " [45] xtable_1.8-4                foreign_0.8-80             \n",
       " [47] bit_1.1-15.2                httr_1.4.1                 \n",
       " [49] TFisher_0.2.0               ellipsis_0.3.1             \n",
       " [51] farver_2.0.3                pkgconfig_2.0.3            \n",
       " [53] dbplyr_1.4.4                labeling_0.3               \n",
       " [55] tidyselect_1.1.0            rlang_0.4.6                \n",
       " [57] later_1.0.0                 munsell_0.5.0              \n",
       " [59] cellranger_1.1.0            tools_4.0.0                \n",
       " [61] cli_2.0.2                   generics_0.0.2             \n",
       " [63] RSQLite_2.2.0               broom_0.5.6                \n",
       " [65] evaluate_0.14               fastmap_1.0.1              \n",
       " [67] bit64_0.9-7                 fs_1.4.1                   \n",
       " [69] zip_2.0.4                   nlme_3.1-147               \n",
       " [71] mime_0.9                    xml2_1.3.2                 \n",
       " [73] compiler_4.0.0              shinythemes_1.1.2          \n",
       " [75] rstudioapi_0.11             curl_4.3                   \n",
       " [77] ggsignif_0.6.0              reprex_0.3.0               \n",
       " [79] stringi_1.4.6               lattice_0.20-41            \n",
       " [81] IRdisplay_0.7.0             Matrix_1.2-18              \n",
       " [83] multtest_2.44.0             vctrs_0.3.0                \n",
       " [85] mutoss_0.1-12               pillar_1.4.4               \n",
       " [87] lifecycle_0.2.0             Rdpack_0.11-1              \n",
       " [89] data.table_1.12.8           bitops_1.0-6               \n",
       " [91] gbRd_0.4-11                 httpuv_1.5.2               \n",
       " [93] GenomicRanges_1.40.0        R6_2.4.1                   \n",
       " [95] promises_1.1.0              rio_0.5.16                 \n",
       " [97] codetools_0.2-16            MASS_7.3-51.5              \n",
       " [99] assertthat_0.2.1            SummarizedExperiment_1.18.1\n",
       "[101] withr_2.2.0                 mnormt_1.5-7               \n",
       "[103] multcomp_1.4-13             GenomeInfoDbData_1.2.3     \n",
       "[105] hms_0.5.3                   grid_4.0.0                 \n",
       "[107] IRkernel_1.1                carData_3.0-4              \n",
       "[109] pbdZMQ_0.3-3                numDeriv_2016.8-1.1        \n",
       "[111] shiny_1.4.0.2               lubridate_1.7.8            \n",
       "[113] base64enc_0.1-3            "
      ]
     },
     "metadata": {},
     "output_type": "display_data"
    }
   ],
   "source": [
    "sessionInfo()"
   ]
  }
 ],
 "metadata": {
  "kernelspec": {
   "display_name": "R 4.0.0",
   "language": "R",
   "name": "ir400"
  },
  "language_info": {
   "codemirror_mode": "r",
   "file_extension": ".r",
   "mimetype": "text/x-r-source",
   "name": "R",
   "pygments_lexer": "r",
   "version": "4.0.0"
  }
 },
 "nbformat": 4,
 "nbformat_minor": 2
}
