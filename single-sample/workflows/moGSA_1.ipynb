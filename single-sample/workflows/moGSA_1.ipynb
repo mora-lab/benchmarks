{
 "cells": [
  {
   "cell_type": "markdown",
   "metadata": {},
   "source": [
    " # moGSA"
   ]
  },
  {
   "cell_type": "markdown",
   "metadata": {},
   "source": [
    "## 1. Load the library and data\n",
    "`NCI60_4arrays` is a list of data.frame. The list consists of microarray data for NCI-60 cell lines from different platforms. In each of the data.frame, columns are the 60 cell lines and rows are genes. The data are from the [paper](https://www.ncbi.nlm.nih.gov/pubmed/22802077/), but only a small subset of genes were selected. Therefore, the result in this vignette is not intended for biological interpretation.<br>\n",
    "\n",
    "`NCI60_4array_supdata` is a list of matrix, representing gene set annotation data. For each of the microarray data, there is a corresponding annotation matrix. In the annotation data, the rows are genes (in the same order as their original dataset) and columns are gene sets. An annotation matrix is a binary matrix, where 1 indicates a gene is present in a gene set and 0 otherwise. See the \"Preparation of gene set data\" section about how to create the gene set\n",
    "annotation matrices as required by mogsa.<br>\n"
   ]
  },
  {
   "cell_type": "code",
   "execution_count": 1,
   "metadata": {},
   "outputs": [
    {
     "name": "stderr",
     "output_type": "stream",
     "text": [
      "Bioconductor version 3.7 (BiocInstaller 1.30.0), ?biocLite for help\n",
      "A newer version of Bioconductor is available for this version of R,\n",
      "  ?BiocUpgrade for help\n",
      "BioC_mirror: http://mirrors.ustc.edu.cn/bioc/\n",
      "Using Bioconductor 3.7 (BiocInstaller 1.30.0), R 3.5.3 (2019-03-11).\n",
      "Installing package(s) 'mogsa'\n"
     ]
    },
    {
     "name": "stdout",
     "output_type": "stream",
     "text": [
      "package 'mogsa' successfully unpacked and MD5 sums checked\n",
      "\n",
      "The downloaded binary packages are in\n",
      "\tC:\\Users\\Master1\\AppData\\Local\\Temp\\RtmpGalvmV\\downloaded_packages\n"
     ]
    },
    {
     "name": "stderr",
     "output_type": "stream",
     "text": [
      "Old packages: 'dbplyr', 'digest', 'dplyr', 'emmeans', 'evaluate', 'formatR',\n",
      "  'ggrepel', 'ggthemes', 'hexbin', 'knitr', 'markdown', 'mime', 'nlme',\n",
      "  'numDeriv', 'openssl', 'openxlsx', 'pillar', 'princurve', 'processx',\n",
      "  'progress', 'repr', 'reprex', 'RJSONIO', 'rmarkdown', 'RTCGA.clinical',\n",
      "  'rvest', 'statmod', 'survminer', 'tibble', 'tinytex', 'xfun', 'XML', 'zip',\n",
      "  'zoo'\n",
      "\n",
      "Attaching package: 'gplots'\n",
      "\n",
      "The following object is masked from 'package:stats':\n",
      "\n",
      "    lowess\n",
      "\n"
     ]
    }
   ],
   "source": [
    "source(\"http://www.bioconductor.org/biocLite.R\")\n",
    "options(BioC_mirror=\"http://mirrors.ustc.edu.cn/bioc/\")\n",
    "biocLite(\"mogsa\")\n",
    "# loading gene expression data and supplementary data\n",
    "library(mogsa)\n",
    "library(gplots) # used for visulizing heatmap\n",
    "# loading gene expression data and supplementary data\n",
    "data(NCI60_4array_supdata)\n",
    "data(NCI60_4arrays)"
   ]
  },
  {
   "cell_type": "markdown",
   "metadata": {},
   "source": [
    "## 2.Check the data\n",
    "Check the dimension of expression data and supplymentary data, and whether they are matched in same order."
   ]
  },
  {
   "cell_type": "code",
   "execution_count": 2,
   "metadata": {},
   "outputs": [
    {
     "data": {
      "text/html": [
       "<table>\n",
       "<caption>A matrix: 2 × 4 of type int</caption>\n",
       "<thead>\n",
       "\t<tr><th scope=col>agilent</th><th scope=col>hgu133</th><th scope=col>hgu133p2</th><th scope=col>hgu95</th></tr>\n",
       "</thead>\n",
       "<tbody>\n",
       "\t<tr><td>300</td><td>298</td><td>268</td><td>288</td></tr>\n",
       "\t<tr><td> 60</td><td> 60</td><td> 60</td><td> 60</td></tr>\n",
       "</tbody>\n",
       "</table>\n"
      ],
      "text/latex": [
       "A matrix: 2 × 4 of type int\n",
       "\\begin{tabular}{llll}\n",
       " agilent & hgu133 & hgu133p2 & hgu95\\\\\n",
       "\\hline\n",
       "\t 300 & 298 & 268 & 288\\\\\n",
       "\t  60 &  60 &  60 &  60\\\\\n",
       "\\end{tabular}\n"
      ],
      "text/markdown": [
       "\n",
       "A matrix: 2 × 4 of type int\n",
       "\n",
       "| agilent | hgu133 | hgu133p2 | hgu95 |\n",
       "|---|---|---|---|\n",
       "| 300 | 298 | 268 | 288 |\n",
       "|  60 |  60 |  60 |  60 |\n",
       "\n"
      ],
      "text/plain": [
       "     agilent hgu133 hgu133p2 hgu95\n",
       "[1,] 300     298    268      288  \n",
       "[2,]  60      60     60       60  "
      ]
     },
     "metadata": {},
     "output_type": "display_data"
    },
    {
     "data": {
      "text/html": [
       "<table>\n",
       "<caption>A matrix: 2 × 4 of type int</caption>\n",
       "<thead>\n",
       "\t<tr><th scope=col>agilent</th><th scope=col>hgu133</th><th scope=col>hgu133p2</th><th scope=col>hgu95</th></tr>\n",
       "</thead>\n",
       "<tbody>\n",
       "\t<tr><td>300</td><td>298</td><td>268</td><td>288</td></tr>\n",
       "\t<tr><td>150</td><td>150</td><td>150</td><td>150</td></tr>\n",
       "</tbody>\n",
       "</table>\n"
      ],
      "text/latex": [
       "A matrix: 2 × 4 of type int\n",
       "\\begin{tabular}{llll}\n",
       " agilent & hgu133 & hgu133p2 & hgu95\\\\\n",
       "\\hline\n",
       "\t 300 & 298 & 268 & 288\\\\\n",
       "\t 150 & 150 & 150 & 150\\\\\n",
       "\\end{tabular}\n"
      ],
      "text/markdown": [
       "\n",
       "A matrix: 2 × 4 of type int\n",
       "\n",
       "| agilent | hgu133 | hgu133p2 | hgu95 |\n",
       "|---|---|---|---|\n",
       "| 300 | 298 | 268 | 288 |\n",
       "| 150 | 150 | 150 | 150 |\n",
       "\n"
      ],
      "text/plain": [
       "     agilent hgu133 hgu133p2 hgu95\n",
       "[1,] 300     298    268      288  \n",
       "[2,] 150     150    150      150  "
      ]
     },
     "metadata": {},
     "output_type": "display_data"
    },
    {
     "data": {
      "text/html": [
       "TRUE"
      ],
      "text/latex": [
       "TRUE"
      ],
      "text/markdown": [
       "TRUE"
      ],
      "text/plain": [
       "[1] TRUE"
      ]
     },
     "metadata": {},
     "output_type": "display_data"
    },
    {
     "data": {
      "text/html": [
       "<ol class=list-inline>\n",
       "\t<li>'ST8SIA1'</li>\n",
       "\t<li>'YWHAQ'</li>\n",
       "\t<li>'EPHA4'</li>\n",
       "\t<li>'GTPBP5'</li>\n",
       "\t<li>'PVR'</li>\n",
       "\t<li>'ATP6V1H'</li>\n",
       "</ol>\n"
      ],
      "text/latex": [
       "\\begin{enumerate*}\n",
       "\\item 'ST8SIA1'\n",
       "\\item 'YWHAQ'\n",
       "\\item 'EPHA4'\n",
       "\\item 'GTPBP5'\n",
       "\\item 'PVR'\n",
       "\\item 'ATP6V1H'\n",
       "\\end{enumerate*}\n"
      ],
      "text/markdown": [
       "1. 'ST8SIA1'\n",
       "2. 'YWHAQ'\n",
       "3. 'EPHA4'\n",
       "4. 'GTPBP5'\n",
       "5. 'PVR'\n",
       "6. 'ATP6V1H'\n",
       "\n",
       "\n"
      ],
      "text/plain": [
       "[1] \"ST8SIA1\" \"YWHAQ\"   \"EPHA4\"   \"GTPBP5\"  \"PVR\"     \"ATP6V1H\""
      ]
     },
     "metadata": {},
     "output_type": "display_data"
    }
   ],
   "source": [
    "sapply(NCI60_4arrays, dim) # check dimensions of expression data\n",
    "sapply(NCI60_4array_supdata, dim) # check dimensions of supplementary data\n",
    "\n",
    "# check if the gene expression data and annotation data are mathced in the same order\n",
    "identical(names(NCI60_4arrays), names(NCI60_4array_supdata))\n",
    "head(rownames(NCI60_4arrays$agilent)) # the type of gene IDs"
   ]
  },
  {
   "cell_type": "code",
   "execution_count": 3,
   "metadata": {},
   "outputs": [
    {
     "data": {
      "text/html": [
       "TRUE"
      ],
      "text/latex": [
       "TRUE"
      ],
      "text/markdown": [
       "TRUE"
      ],
      "text/plain": [
       "[1] TRUE"
      ]
     },
     "metadata": {},
     "output_type": "display_data"
    }
   ],
   "source": [
    "# Confirm the columns between the expression data and annotation data mapped in the same order\n",
    "dataColNames <- lapply(NCI60_4arrays, colnames)\n",
    "supColNames <- lapply(NCI60_4arrays, colnames)\n",
    "identical(dataColNames, supColNames)"
   ]
  },
  {
   "cell_type": "code",
   "execution_count": 4,
   "metadata": {},
   "outputs": [
    {
     "data": {
      "text/html": [
       "<ol class=list-inline>\n",
       "\t<li>'BR.MCF7'</li>\n",
       "\t<li>'BR.MDA_MB_231'</li>\n",
       "\t<li>'BR.HS578T'</li>\n",
       "\t<li>'BR.BT_549'</li>\n",
       "\t<li>'BR.T47D'</li>\n",
       "\t<li>'CNS.SF_268'</li>\n",
       "\t<li>'CNS.SF_295'</li>\n",
       "\t<li>'CNS.SF_539'</li>\n",
       "\t<li>'CNS.SNB_19'</li>\n",
       "\t<li>'CNS.SNB_75'</li>\n",
       "\t<li>'CNS.U251'</li>\n",
       "\t<li>'CO.COLO205'</li>\n",
       "\t<li>'CO.HCC_2998'</li>\n",
       "\t<li>'CO.HCT_116'</li>\n",
       "\t<li>'CO.HCT_15'</li>\n",
       "\t<li>'CO.HT29'</li>\n",
       "\t<li>'CO.KM12'</li>\n",
       "\t<li>'CO.SW_620'</li>\n",
       "\t<li>'LE.CCRF_CEM'</li>\n",
       "\t<li>'LE.HL_60'</li>\n",
       "\t<li>'LE.K_562'</li>\n",
       "\t<li>'LE.MOLT_4'</li>\n",
       "\t<li>'LE.RPMI_8226'</li>\n",
       "\t<li>'LE.SR'</li>\n",
       "\t<li>'ME.LOXIMVI'</li>\n",
       "\t<li>'ME.MALME_3M'</li>\n",
       "\t<li>'ME.M14'</li>\n",
       "\t<li>'ME.SK_MEL_2'</li>\n",
       "\t<li>'ME.SK_MEL_28'</li>\n",
       "\t<li>'ME.SK_MEL_5'</li>\n",
       "\t<li>'ME.UACC_257'</li>\n",
       "\t<li>'ME.UACC_62'</li>\n",
       "\t<li>'ME.MDA_MB_435'</li>\n",
       "\t<li>'ME.MDA_N'</li>\n",
       "\t<li>'LC.A549'</li>\n",
       "\t<li>'LC.EKVX'</li>\n",
       "\t<li>'LC.HOP_62'</li>\n",
       "\t<li>'LC.HOP_92'</li>\n",
       "\t<li>'LC.NCI_H226'</li>\n",
       "\t<li>'LC.NCI_H23'</li>\n",
       "\t<li>'LC.NCI_H322M'</li>\n",
       "\t<li>'LC.NCI_H460'</li>\n",
       "\t<li>'LC.NCI_H522'</li>\n",
       "\t<li>'OV.IGROV1'</li>\n",
       "\t<li>'OV.OVCAR_3'</li>\n",
       "\t<li>'OV.OVCAR_4'</li>\n",
       "\t<li>'OV.OVCAR_5'</li>\n",
       "\t<li>'OV.OVCAR_8'</li>\n",
       "\t<li>'OV.SK_OV_3'</li>\n",
       "\t<li>'OV.NCI_ADR_RES'</li>\n",
       "\t<li>'PR.PC_3'</li>\n",
       "\t<li>'PR.DU_145'</li>\n",
       "\t<li>'RE.786_0'</li>\n",
       "\t<li>'RE.A498'</li>\n",
       "\t<li>'RE.ACHN'</li>\n",
       "\t<li>'RE.CAKI_1'</li>\n",
       "\t<li>'RE.RXF_393'</li>\n",
       "\t<li>'RE.SN12C'</li>\n",
       "\t<li>'RE.TK_10'</li>\n",
       "\t<li>'RE.UO_31'</li>\n",
       "</ol>\n"
      ],
      "text/latex": [
       "\\begin{enumerate*}\n",
       "\\item 'BR.MCF7'\n",
       "\\item 'BR.MDA\\_MB\\_231'\n",
       "\\item 'BR.HS578T'\n",
       "\\item 'BR.BT\\_549'\n",
       "\\item 'BR.T47D'\n",
       "\\item 'CNS.SF\\_268'\n",
       "\\item 'CNS.SF\\_295'\n",
       "\\item 'CNS.SF\\_539'\n",
       "\\item 'CNS.SNB\\_19'\n",
       "\\item 'CNS.SNB\\_75'\n",
       "\\item 'CNS.U251'\n",
       "\\item 'CO.COLO205'\n",
       "\\item 'CO.HCC\\_2998'\n",
       "\\item 'CO.HCT\\_116'\n",
       "\\item 'CO.HCT\\_15'\n",
       "\\item 'CO.HT29'\n",
       "\\item 'CO.KM12'\n",
       "\\item 'CO.SW\\_620'\n",
       "\\item 'LE.CCRF\\_CEM'\n",
       "\\item 'LE.HL\\_60'\n",
       "\\item 'LE.K\\_562'\n",
       "\\item 'LE.MOLT\\_4'\n",
       "\\item 'LE.RPMI\\_8226'\n",
       "\\item 'LE.SR'\n",
       "\\item 'ME.LOXIMVI'\n",
       "\\item 'ME.MALME\\_3M'\n",
       "\\item 'ME.M14'\n",
       "\\item 'ME.SK\\_MEL\\_2'\n",
       "\\item 'ME.SK\\_MEL\\_28'\n",
       "\\item 'ME.SK\\_MEL\\_5'\n",
       "\\item 'ME.UACC\\_257'\n",
       "\\item 'ME.UACC\\_62'\n",
       "\\item 'ME.MDA\\_MB\\_435'\n",
       "\\item 'ME.MDA\\_N'\n",
       "\\item 'LC.A549'\n",
       "\\item 'LC.EKVX'\n",
       "\\item 'LC.HOP\\_62'\n",
       "\\item 'LC.HOP\\_92'\n",
       "\\item 'LC.NCI\\_H226'\n",
       "\\item 'LC.NCI\\_H23'\n",
       "\\item 'LC.NCI\\_H322M'\n",
       "\\item 'LC.NCI\\_H460'\n",
       "\\item 'LC.NCI\\_H522'\n",
       "\\item 'OV.IGROV1'\n",
       "\\item 'OV.OVCAR\\_3'\n",
       "\\item 'OV.OVCAR\\_4'\n",
       "\\item 'OV.OVCAR\\_5'\n",
       "\\item 'OV.OVCAR\\_8'\n",
       "\\item 'OV.SK\\_OV\\_3'\n",
       "\\item 'OV.NCI\\_ADR\\_RES'\n",
       "\\item 'PR.PC\\_3'\n",
       "\\item 'PR.DU\\_145'\n",
       "\\item 'RE.786\\_0'\n",
       "\\item 'RE.A498'\n",
       "\\item 'RE.ACHN'\n",
       "\\item 'RE.CAKI\\_1'\n",
       "\\item 'RE.RXF\\_393'\n",
       "\\item 'RE.SN12C'\n",
       "\\item 'RE.TK\\_10'\n",
       "\\item 'RE.UO\\_31'\n",
       "\\end{enumerate*}\n"
      ],
      "text/markdown": [
       "1. 'BR.MCF7'\n",
       "2. 'BR.MDA_MB_231'\n",
       "3. 'BR.HS578T'\n",
       "4. 'BR.BT_549'\n",
       "5. 'BR.T47D'\n",
       "6. 'CNS.SF_268'\n",
       "7. 'CNS.SF_295'\n",
       "8. 'CNS.SF_539'\n",
       "9. 'CNS.SNB_19'\n",
       "10. 'CNS.SNB_75'\n",
       "11. 'CNS.U251'\n",
       "12. 'CO.COLO205'\n",
       "13. 'CO.HCC_2998'\n",
       "14. 'CO.HCT_116'\n",
       "15. 'CO.HCT_15'\n",
       "16. 'CO.HT29'\n",
       "17. 'CO.KM12'\n",
       "18. 'CO.SW_620'\n",
       "19. 'LE.CCRF_CEM'\n",
       "20. 'LE.HL_60'\n",
       "21. 'LE.K_562'\n",
       "22. 'LE.MOLT_4'\n",
       "23. 'LE.RPMI_8226'\n",
       "24. 'LE.SR'\n",
       "25. 'ME.LOXIMVI'\n",
       "26. 'ME.MALME_3M'\n",
       "27. 'ME.M14'\n",
       "28. 'ME.SK_MEL_2'\n",
       "29. 'ME.SK_MEL_28'\n",
       "30. 'ME.SK_MEL_5'\n",
       "31. 'ME.UACC_257'\n",
       "32. 'ME.UACC_62'\n",
       "33. 'ME.MDA_MB_435'\n",
       "34. 'ME.MDA_N'\n",
       "35. 'LC.A549'\n",
       "36. 'LC.EKVX'\n",
       "37. 'LC.HOP_62'\n",
       "38. 'LC.HOP_92'\n",
       "39. 'LC.NCI_H226'\n",
       "40. 'LC.NCI_H23'\n",
       "41. 'LC.NCI_H322M'\n",
       "42. 'LC.NCI_H460'\n",
       "43. 'LC.NCI_H522'\n",
       "44. 'OV.IGROV1'\n",
       "45. 'OV.OVCAR_3'\n",
       "46. 'OV.OVCAR_4'\n",
       "47. 'OV.OVCAR_5'\n",
       "48. 'OV.OVCAR_8'\n",
       "49. 'OV.SK_OV_3'\n",
       "50. 'OV.NCI_ADR_RES'\n",
       "51. 'PR.PC_3'\n",
       "52. 'PR.DU_145'\n",
       "53. 'RE.786_0'\n",
       "54. 'RE.A498'\n",
       "55. 'RE.ACHN'\n",
       "56. 'RE.CAKI_1'\n",
       "57. 'RE.RXF_393'\n",
       "58. 'RE.SN12C'\n",
       "59. 'RE.TK_10'\n",
       "60. 'RE.UO_31'\n",
       "\n",
       "\n"
      ],
      "text/plain": [
       " [1] \"BR.MCF7\"        \"BR.MDA_MB_231\"  \"BR.HS578T\"      \"BR.BT_549\"     \n",
       " [5] \"BR.T47D\"        \"CNS.SF_268\"     \"CNS.SF_295\"     \"CNS.SF_539\"    \n",
       " [9] \"CNS.SNB_19\"     \"CNS.SNB_75\"     \"CNS.U251\"       \"CO.COLO205\"    \n",
       "[13] \"CO.HCC_2998\"    \"CO.HCT_116\"     \"CO.HCT_15\"      \"CO.HT29\"       \n",
       "[17] \"CO.KM12\"        \"CO.SW_620\"      \"LE.CCRF_CEM\"    \"LE.HL_60\"      \n",
       "[21] \"LE.K_562\"       \"LE.MOLT_4\"      \"LE.RPMI_8226\"   \"LE.SR\"         \n",
       "[25] \"ME.LOXIMVI\"     \"ME.MALME_3M\"    \"ME.M14\"         \"ME.SK_MEL_2\"   \n",
       "[29] \"ME.SK_MEL_28\"   \"ME.SK_MEL_5\"    \"ME.UACC_257\"    \"ME.UACC_62\"    \n",
       "[33] \"ME.MDA_MB_435\"  \"ME.MDA_N\"       \"LC.A549\"        \"LC.EKVX\"       \n",
       "[37] \"LC.HOP_62\"      \"LC.HOP_92\"      \"LC.NCI_H226\"    \"LC.NCI_H23\"    \n",
       "[41] \"LC.NCI_H322M\"   \"LC.NCI_H460\"    \"LC.NCI_H522\"    \"OV.IGROV1\"     \n",
       "[45] \"OV.OVCAR_3\"     \"OV.OVCAR_4\"     \"OV.OVCAR_5\"     \"OV.OVCAR_8\"    \n",
       "[49] \"OV.SK_OV_3\"     \"OV.NCI_ADR_RES\" \"PR.PC_3\"        \"PR.DU_145\"     \n",
       "[53] \"RE.786_0\"       \"RE.A498\"        \"RE.ACHN\"        \"RE.CAKI_1\"     \n",
       "[57] \"RE.RXF_393\"     \"RE.SN12C\"       \"RE.TK_10\"       \"RE.UO_31\"      "
      ]
     },
     "metadata": {},
     "output_type": "display_data"
    }
   ],
   "source": [
    "colnames(NCI60_4arrays$agilent)"
   ]
  },
  {
   "cell_type": "code",
   "execution_count": 5,
   "metadata": {},
   "outputs": [
    {
     "data": {
      "text/html": [
       "<ol class=list-inline>\n",
       "\t<li>BR</li>\n",
       "\t<li>BR</li>\n",
       "\t<li>BR</li>\n",
       "\t<li>BR</li>\n",
       "\t<li>BR</li>\n",
       "\t<li>CN</li>\n",
       "\t<li>CN</li>\n",
       "\t<li>CN</li>\n",
       "\t<li>CN</li>\n",
       "\t<li>CN</li>\n",
       "\t<li>CN</li>\n",
       "\t<li>CO</li>\n",
       "\t<li>CO</li>\n",
       "\t<li>CO</li>\n",
       "\t<li>CO</li>\n",
       "\t<li>CO</li>\n",
       "\t<li>CO</li>\n",
       "\t<li>CO</li>\n",
       "\t<li>LE</li>\n",
       "\t<li>LE</li>\n",
       "\t<li>LE</li>\n",
       "\t<li>LE</li>\n",
       "\t<li>LE</li>\n",
       "\t<li>LE</li>\n",
       "\t<li>ME</li>\n",
       "\t<li>ME</li>\n",
       "\t<li>ME</li>\n",
       "\t<li>ME</li>\n",
       "\t<li>ME</li>\n",
       "\t<li>ME</li>\n",
       "\t<li>ME</li>\n",
       "\t<li>ME</li>\n",
       "\t<li>ME</li>\n",
       "\t<li>ME</li>\n",
       "\t<li>LC</li>\n",
       "\t<li>LC</li>\n",
       "\t<li>LC</li>\n",
       "\t<li>LC</li>\n",
       "\t<li>LC</li>\n",
       "\t<li>LC</li>\n",
       "\t<li>LC</li>\n",
       "\t<li>LC</li>\n",
       "\t<li>LC</li>\n",
       "\t<li>OV</li>\n",
       "\t<li>OV</li>\n",
       "\t<li>OV</li>\n",
       "\t<li>OV</li>\n",
       "\t<li>OV</li>\n",
       "\t<li>OV</li>\n",
       "\t<li>OV</li>\n",
       "\t<li>PR</li>\n",
       "\t<li>PR</li>\n",
       "\t<li>RE</li>\n",
       "\t<li>RE</li>\n",
       "\t<li>RE</li>\n",
       "\t<li>RE</li>\n",
       "\t<li>RE</li>\n",
       "\t<li>RE</li>\n",
       "\t<li>RE</li>\n",
       "\t<li>RE</li>\n",
       "</ol>\n",
       "\n",
       "<details>\n",
       "\t<summary style=display:list-item;cursor:pointer>\n",
       "\t\t<strong>Levels</strong>:\n",
       "\t</summary>\n",
       "\t<ol class=list-inline>\n",
       "\t\t<li>'BR'</li>\n",
       "\t\t<li>'CN'</li>\n",
       "\t\t<li>'CO'</li>\n",
       "\t\t<li>'LC'</li>\n",
       "\t\t<li>'LE'</li>\n",
       "\t\t<li>'ME'</li>\n",
       "\t\t<li>'OV'</li>\n",
       "\t\t<li>'PR'</li>\n",
       "\t\t<li>'RE'</li>\n",
       "\t</ol>\n",
       "</details>"
      ],
      "text/latex": [
       "\\begin{enumerate*}\n",
       "\\item BR\n",
       "\\item BR\n",
       "\\item BR\n",
       "\\item BR\n",
       "\\item BR\n",
       "\\item CN\n",
       "\\item CN\n",
       "\\item CN\n",
       "\\item CN\n",
       "\\item CN\n",
       "\\item CN\n",
       "\\item CO\n",
       "\\item CO\n",
       "\\item CO\n",
       "\\item CO\n",
       "\\item CO\n",
       "\\item CO\n",
       "\\item CO\n",
       "\\item LE\n",
       "\\item LE\n",
       "\\item LE\n",
       "\\item LE\n",
       "\\item LE\n",
       "\\item LE\n",
       "\\item ME\n",
       "\\item ME\n",
       "\\item ME\n",
       "\\item ME\n",
       "\\item ME\n",
       "\\item ME\n",
       "\\item ME\n",
       "\\item ME\n",
       "\\item ME\n",
       "\\item ME\n",
       "\\item LC\n",
       "\\item LC\n",
       "\\item LC\n",
       "\\item LC\n",
       "\\item LC\n",
       "\\item LC\n",
       "\\item LC\n",
       "\\item LC\n",
       "\\item LC\n",
       "\\item OV\n",
       "\\item OV\n",
       "\\item OV\n",
       "\\item OV\n",
       "\\item OV\n",
       "\\item OV\n",
       "\\item OV\n",
       "\\item PR\n",
       "\\item PR\n",
       "\\item RE\n",
       "\\item RE\n",
       "\\item RE\n",
       "\\item RE\n",
       "\\item RE\n",
       "\\item RE\n",
       "\\item RE\n",
       "\\item RE\n",
       "\\end{enumerate*}\n",
       "\n",
       "\\emph{Levels}: \\begin{enumerate*}\n",
       "\\item 'BR'\n",
       "\\item 'CN'\n",
       "\\item 'CO'\n",
       "\\item 'LC'\n",
       "\\item 'LE'\n",
       "\\item 'ME'\n",
       "\\item 'OV'\n",
       "\\item 'PR'\n",
       "\\item 'RE'\n",
       "\\end{enumerate*}\n"
      ],
      "text/markdown": [
       "1. BR\n",
       "2. BR\n",
       "3. BR\n",
       "4. BR\n",
       "5. BR\n",
       "6. CN\n",
       "7. CN\n",
       "8. CN\n",
       "9. CN\n",
       "10. CN\n",
       "11. CN\n",
       "12. CO\n",
       "13. CO\n",
       "14. CO\n",
       "15. CO\n",
       "16. CO\n",
       "17. CO\n",
       "18. CO\n",
       "19. LE\n",
       "20. LE\n",
       "21. LE\n",
       "22. LE\n",
       "23. LE\n",
       "24. LE\n",
       "25. ME\n",
       "26. ME\n",
       "27. ME\n",
       "28. ME\n",
       "29. ME\n",
       "30. ME\n",
       "31. ME\n",
       "32. ME\n",
       "33. ME\n",
       "34. ME\n",
       "35. LC\n",
       "36. LC\n",
       "37. LC\n",
       "38. LC\n",
       "39. LC\n",
       "40. LC\n",
       "41. LC\n",
       "42. LC\n",
       "43. LC\n",
       "44. OV\n",
       "45. OV\n",
       "46. OV\n",
       "47. OV\n",
       "48. OV\n",
       "49. OV\n",
       "50. OV\n",
       "51. PR\n",
       "52. PR\n",
       "53. RE\n",
       "54. RE\n",
       "55. RE\n",
       "56. RE\n",
       "57. RE\n",
       "58. RE\n",
       "59. RE\n",
       "60. RE\n",
       "\n",
       "\n",
       "\n",
       "**Levels**: 1. 'BR'\n",
       "2. 'CN'\n",
       "3. 'CO'\n",
       "4. 'LC'\n",
       "5. 'LE'\n",
       "6. 'ME'\n",
       "7. 'OV'\n",
       "8. 'PR'\n",
       "9. 'RE'\n",
       "\n",
       "\n"
      ],
      "text/plain": [
       " [1] BR BR BR BR BR CN CN CN CN CN CN CO CO CO CO CO CO CO LE LE LE LE LE LE ME\n",
       "[26] ME ME ME ME ME ME ME ME ME LC LC LC LC LC LC LC LC LC OV OV OV OV OV OV OV\n",
       "[51] PR PR RE RE RE RE RE RE RE RE\n",
       "Levels: BR CN CO LC LE ME OV PR RE"
      ]
     },
     "metadata": {},
     "output_type": "display_data"
    },
    {
     "data": {
      "text/html": [
       "<ol class=list-inline>\n",
       "\t<li>'black'</li>\n",
       "\t<li>'black'</li>\n",
       "\t<li>'black'</li>\n",
       "\t<li>'black'</li>\n",
       "\t<li>'black'</li>\n",
       "\t<li>'red'</li>\n",
       "\t<li>'red'</li>\n",
       "\t<li>'red'</li>\n",
       "\t<li>'red'</li>\n",
       "\t<li>'red'</li>\n",
       "\t<li>'red'</li>\n",
       "\t<li>'green'</li>\n",
       "\t<li>'green'</li>\n",
       "\t<li>'green'</li>\n",
       "\t<li>'green'</li>\n",
       "\t<li>'green'</li>\n",
       "\t<li>'green'</li>\n",
       "\t<li>'green'</li>\n",
       "\t<li>'cyan'</li>\n",
       "\t<li>'cyan'</li>\n",
       "\t<li>'cyan'</li>\n",
       "\t<li>'cyan'</li>\n",
       "\t<li>'cyan'</li>\n",
       "\t<li>'cyan'</li>\n",
       "\t<li>'brown'</li>\n",
       "\t<li>'brown'</li>\n",
       "\t<li>'brown'</li>\n",
       "\t<li>'brown'</li>\n",
       "\t<li>'brown'</li>\n",
       "\t<li>'brown'</li>\n",
       "\t<li>'brown'</li>\n",
       "\t<li>'brown'</li>\n",
       "\t<li>'brown'</li>\n",
       "\t<li>'brown'</li>\n",
       "\t<li>'blue'</li>\n",
       "\t<li>'blue'</li>\n",
       "\t<li>'blue'</li>\n",
       "\t<li>'blue'</li>\n",
       "\t<li>'blue'</li>\n",
       "\t<li>'blue'</li>\n",
       "\t<li>'blue'</li>\n",
       "\t<li>'blue'</li>\n",
       "\t<li>'blue'</li>\n",
       "\t<li>'pink'</li>\n",
       "\t<li>'pink'</li>\n",
       "\t<li>'pink'</li>\n",
       "\t<li>'pink'</li>\n",
       "\t<li>'pink'</li>\n",
       "\t<li>'pink'</li>\n",
       "\t<li>'pink'</li>\n",
       "\t<li>'gray'</li>\n",
       "\t<li>'gray'</li>\n",
       "\t<li>'orange'</li>\n",
       "\t<li>'orange'</li>\n",
       "\t<li>'orange'</li>\n",
       "\t<li>'orange'</li>\n",
       "\t<li>'orange'</li>\n",
       "\t<li>'orange'</li>\n",
       "\t<li>'orange'</li>\n",
       "\t<li>'orange'</li>\n",
       "</ol>\n"
      ],
      "text/latex": [
       "\\begin{enumerate*}\n",
       "\\item 'black'\n",
       "\\item 'black'\n",
       "\\item 'black'\n",
       "\\item 'black'\n",
       "\\item 'black'\n",
       "\\item 'red'\n",
       "\\item 'red'\n",
       "\\item 'red'\n",
       "\\item 'red'\n",
       "\\item 'red'\n",
       "\\item 'red'\n",
       "\\item 'green'\n",
       "\\item 'green'\n",
       "\\item 'green'\n",
       "\\item 'green'\n",
       "\\item 'green'\n",
       "\\item 'green'\n",
       "\\item 'green'\n",
       "\\item 'cyan'\n",
       "\\item 'cyan'\n",
       "\\item 'cyan'\n",
       "\\item 'cyan'\n",
       "\\item 'cyan'\n",
       "\\item 'cyan'\n",
       "\\item 'brown'\n",
       "\\item 'brown'\n",
       "\\item 'brown'\n",
       "\\item 'brown'\n",
       "\\item 'brown'\n",
       "\\item 'brown'\n",
       "\\item 'brown'\n",
       "\\item 'brown'\n",
       "\\item 'brown'\n",
       "\\item 'brown'\n",
       "\\item 'blue'\n",
       "\\item 'blue'\n",
       "\\item 'blue'\n",
       "\\item 'blue'\n",
       "\\item 'blue'\n",
       "\\item 'blue'\n",
       "\\item 'blue'\n",
       "\\item 'blue'\n",
       "\\item 'blue'\n",
       "\\item 'pink'\n",
       "\\item 'pink'\n",
       "\\item 'pink'\n",
       "\\item 'pink'\n",
       "\\item 'pink'\n",
       "\\item 'pink'\n",
       "\\item 'pink'\n",
       "\\item 'gray'\n",
       "\\item 'gray'\n",
       "\\item 'orange'\n",
       "\\item 'orange'\n",
       "\\item 'orange'\n",
       "\\item 'orange'\n",
       "\\item 'orange'\n",
       "\\item 'orange'\n",
       "\\item 'orange'\n",
       "\\item 'orange'\n",
       "\\end{enumerate*}\n"
      ],
      "text/markdown": [
       "1. 'black'\n",
       "2. 'black'\n",
       "3. 'black'\n",
       "4. 'black'\n",
       "5. 'black'\n",
       "6. 'red'\n",
       "7. 'red'\n",
       "8. 'red'\n",
       "9. 'red'\n",
       "10. 'red'\n",
       "11. 'red'\n",
       "12. 'green'\n",
       "13. 'green'\n",
       "14. 'green'\n",
       "15. 'green'\n",
       "16. 'green'\n",
       "17. 'green'\n",
       "18. 'green'\n",
       "19. 'cyan'\n",
       "20. 'cyan'\n",
       "21. 'cyan'\n",
       "22. 'cyan'\n",
       "23. 'cyan'\n",
       "24. 'cyan'\n",
       "25. 'brown'\n",
       "26. 'brown'\n",
       "27. 'brown'\n",
       "28. 'brown'\n",
       "29. 'brown'\n",
       "30. 'brown'\n",
       "31. 'brown'\n",
       "32. 'brown'\n",
       "33. 'brown'\n",
       "34. 'brown'\n",
       "35. 'blue'\n",
       "36. 'blue'\n",
       "37. 'blue'\n",
       "38. 'blue'\n",
       "39. 'blue'\n",
       "40. 'blue'\n",
       "41. 'blue'\n",
       "42. 'blue'\n",
       "43. 'blue'\n",
       "44. 'pink'\n",
       "45. 'pink'\n",
       "46. 'pink'\n",
       "47. 'pink'\n",
       "48. 'pink'\n",
       "49. 'pink'\n",
       "50. 'pink'\n",
       "51. 'gray'\n",
       "52. 'gray'\n",
       "53. 'orange'\n",
       "54. 'orange'\n",
       "55. 'orange'\n",
       "56. 'orange'\n",
       "57. 'orange'\n",
       "58. 'orange'\n",
       "59. 'orange'\n",
       "60. 'orange'\n",
       "\n",
       "\n"
      ],
      "text/plain": [
       " [1] \"black\"  \"black\"  \"black\"  \"black\"  \"black\"  \"red\"    \"red\"    \"red\"   \n",
       " [9] \"red\"    \"red\"    \"red\"    \"green\"  \"green\"  \"green\"  \"green\"  \"green\" \n",
       "[17] \"green\"  \"green\"  \"cyan\"   \"cyan\"   \"cyan\"   \"cyan\"   \"cyan\"   \"cyan\"  \n",
       "[25] \"brown\"  \"brown\"  \"brown\"  \"brown\"  \"brown\"  \"brown\"  \"brown\"  \"brown\" \n",
       "[33] \"brown\"  \"brown\"  \"blue\"   \"blue\"   \"blue\"   \"blue\"   \"blue\"   \"blue\"  \n",
       "[41] \"blue\"   \"blue\"   \"blue\"   \"pink\"   \"pink\"   \"pink\"   \"pink\"   \"pink\"  \n",
       "[49] \"pink\"   \"pink\"   \"gray\"   \"gray\"   \"orange\" \"orange\" \"orange\" \"orange\"\n",
       "[57] \"orange\" \"orange\" \"orange\" \"orange\""
      ]
     },
     "metadata": {},
     "output_type": "display_data"
    }
   ],
   "source": [
    "# Before applying mogsa, we first define a factor describing the tissue of origin of cell lines \n",
    "# and color code, which will be used later.\n",
    "cancerType <- as.factor(substr(colnames(NCI60_4arrays$agilent), 1, 2))   # define cancer type\n",
    "cancerType\n",
    "colcode <- cancerType # define color code to distinguish cancer types\n",
    "levels(colcode) <- c(\"black\", \"red\", \"green\", \"blue\",\n",
    "                     \"cyan\", \"brown\", \"pink\", \"gray\", \"orange\")\n",
    "colcode <- as.character(colcode)\n",
    "colcode"
   ]
  },
  {
   "cell_type": "code",
   "execution_count": 6,
   "metadata": {},
   "outputs": [],
   "source": [
    "mgsa1 <- mogsa(x = NCI60_4arrays, sup=NCI60_4array_supdata, nf=3,\n",
    "               proc.row = \"center_ssq1\", w.data = \"inertia\", statis = TRUE)"
   ]
  },
  {
   "cell_type": "code",
   "execution_count": 10,
   "metadata": {},
   "outputs": [
    {
     "data": {
      "text/plain": [
       "$`@call`\n",
       "mogsa(x = NCI60_4arrays, sup = NCI60_4array_supdata, nf = 3, \n",
       "    proc.row = \"center_ssq1\", w.data = \"inertia\", statis = TRUE)\n",
       "\n",
       "$`@moa`\n",
       "$`@moa`$`@call`\n",
       "moa(data = data, proc.row = proc.row, w.data = w.data, w.row = w.row, \n",
       "    statis = statis)\n",
       "\n",
       "$`@moa`$`@tab.dim`\n",
       "    agilent hgu133 hgu133p2 hgu95\n",
       "row     300    298      268   288\n",
       "col      60     60       60    60\n",
       "\n",
       "$`@moa`$`@ids`\n",
       "$`@moa`$`@ids`$agilent\n",
       "[1] \"ST8SIA1\" \"YWHAQ\"   \"EPHA4\"   \"GTPBP5\"  \"PVR\"     \"ATP6V1H\"\n",
       "\n",
       "$`@moa`$`@ids`$hgu133\n",
       "[1] \"SDC1\"    \"CD3D\"    \"GPR137B\" \"GSDMB\"   \"ANO9\"    \"AREG\"   \n",
       "\n",
       "$`@moa`$`@ids`$hgu133p2\n",
       "[1] \"RAB1A\"     \"LOC441108\" \"HSPA2\"     \"SNCA\"      \"CSNK2A2\"   \"MXD4\"     \n",
       "\n",
       "$`@moa`$`@ids`$hgu95\n",
       "[1] \"USE1\"    \"ARHGAP8\" \"ASS1\"    \"TSPAN4\"  \"ITSN1\"   \"CITED1\" \n",
       "\n",
       "\n",
       "$`@moa`$`@RV`\n",
       "           agilent    hgu133  hgu133p2     hgu95\n",
       "agilent  1.0000000 0.8140001 0.8120062 0.8323821\n",
       "hgu133   0.8140001 1.0000000 0.9235320 0.9437341\n",
       "hgu133p2 0.8120062 0.9235320 1.0000000 0.9273373\n",
       "hgu95    0.8323821 0.9437341 0.9273373 1.0000000\n",
       "\n",
       "$`@moa`$`@eig`\n",
       "[1] 0.0028576935 0.0021327073 0.0013602003 0.0008274678 0.0006243386\n",
       "[6] 0.0005132536\n",
       "\n",
       "$`@moa`$`@fac.scr`\n",
       "      PC1                PC2                 PC3                 PC4           \n",
       " Min.   :-0.06904   Min.   :-0.050640   Min.   :-0.094157   Min.   :-0.049786  \n",
       " 1st Qu.:-0.03461   1st Qu.:-0.029743   1st Qu.:-0.022558   1st Qu.:-0.021360  \n",
       " Median :-0.01188   Median :-0.018190   Median :-0.004879   Median : 0.006259  \n",
       " Mean   : 0.00000   Mean   : 0.000000   Mean   : 0.000000   Mean   : 0.000000  \n",
       " 3rd Qu.: 0.01242   3rd Qu.: 0.005939   3rd Qu.: 0.018278   3rd Qu.: 0.017840  \n",
       " Max.   : 0.15175   Max.   : 0.119586   Max.   : 0.100569   Max.   : 0.062258  \n",
       "      PC5                 PC6            \n",
       " Min.   :-0.064124   Min.   :-0.0592341  \n",
       " 1st Qu.:-0.011590   1st Qu.:-0.0146632  \n",
       " Median :-0.001253   Median :-0.0003752  \n",
       " Mean   : 0.000000   Mean   : 0.0000000  \n",
       " 3rd Qu.: 0.017246   3rd Qu.: 0.0124860  \n",
       " Max.   : 0.056641   Max.   : 0.0491109  \n",
       "\n",
       "$`@moa`$`@loading`\n",
       "       V1                 V2                   V3                 V4         \n",
       " Min.   :-2.10287   Min.   :-1.9641673   Min.   :-2.37180   Min.   :-2.9265  \n",
       " 1st Qu.:-0.90898   1st Qu.:-0.7672952   1st Qu.:-0.67583   1st Qu.:-0.4509  \n",
       " Median :-0.16330   Median :-0.1405698   Median : 0.09776   Median : 0.1460  \n",
       " Mean   :-0.07716   Mean   : 0.0000104   Mean   : 0.09250   Mean   : 0.1871  \n",
       " 3rd Qu.: 0.78420   3rd Qu.: 0.6665400   3rd Qu.: 0.82618   3rd Qu.: 0.7187  \n",
       " Max.   : 2.01356   Max.   : 2.6028427   Max.   : 2.68980   Max.   : 3.6340  \n",
       "       V5                V6          \n",
       " Min.   :-3.2895   Min.   :-3.36413  \n",
       " 1st Qu.:-0.8539   1st Qu.:-0.53050  \n",
       " Median :-0.1461   Median : 0.07014  \n",
       " Mean   :-0.1946   Mean   : 0.11824  \n",
       " 3rd Qu.: 0.4567   3rd Qu.: 0.75438  \n",
       " Max.   : 3.0402   Max.   : 3.23929  \n",
       "\n",
       "\n",
       "$`@sup`\n",
       "$`@sup`$`@sup.dim`\n",
       "     agilent hgu133 hgu133p2 hgu95\n",
       "[1,]     300    298      268   288\n",
       "[2,]     150    150      150   150\n",
       "\n",
       "$`@sup`$`@score`\n",
       "    BR.MCF7           BR.MDA_MB_231          BR.HS578T         \n",
       " Min.   :-0.0033966   Min.   :-1.592e-03   Min.   :-0.0025219  \n",
       " 1st Qu.:-0.0010592   1st Qu.:-3.243e-05   1st Qu.: 0.0001200  \n",
       " Median :-0.0005028   Median : 3.629e-04   Median : 0.0007367  \n",
       " Mean   :-0.0005412   Mean   : 4.298e-04   Mean   : 0.0008538  \n",
       " 3rd Qu.:-0.0001072   3rd Qu.: 8.225e-04   3rd Qu.: 0.0016330  \n",
       " Max.   : 0.0021499   Max.   : 3.051e-03   Max.   : 0.0059614  \n",
       "   BR.BT_549             BR.T47D             CNS.SF_268        \n",
       " Min.   :-2.048e-03   Min.   :-1.126e-03   Min.   :-0.0021838  \n",
       " 1st Qu.: 5.706e-05   1st Qu.:-2.490e-04   1st Qu.: 0.0000415  \n",
       " Median : 4.257e-04   Median :-7.647e-06   Median : 0.0005540  \n",
       " Mean   : 5.576e-04   Mean   : 1.234e-05   Mean   : 0.0006788  \n",
       " 3rd Qu.: 1.123e-03   3rd Qu.: 2.353e-04   3rd Qu.: 0.0013191  \n",
       " Max.   : 4.437e-03   Max.   : 1.082e-03   Max.   : 0.0054488  \n",
       "\n",
       "$`@sup`$`@gsets`\n",
       "[1] \"ORGANELLE_PART\"               \"INTRINSIC_TO_PLASMA_MEMBRANE\"\n",
       "[3] \"CYTOPLASMIC_PART\"             \"NON_MEMBRANE_BOUND_ORGANELLE\"\n",
       "[5] \"INTEGRAL_TO_MEMBRANE\"         \"INTEGRAL_TO_PLASMA_MEMBRANE\" \n",
       "\n"
      ]
     },
     "metadata": {},
     "output_type": "display_data"
    }
   ],
   "source": [
    "mgsa1"
   ]
  },
  {
   "cell_type": "markdown",
   "metadata": {},
   "source": [
    "## 3.Result analysis and interpretation\n",
    "The `mogsa` function returns an object of class `mgsa`. This information could be extracted with function `getmgsa`. First, we want to know the variance explained by each PC on different datasets."
   ]
  },
  {
   "cell_type": "code",
   "execution_count": 12,
   "metadata": {},
   "outputs": [
    {
     "data": {
      "text/html": [
       "<table>\n",
       "<caption>A data.frame: 4 × 60</caption>\n",
       "<thead>\n",
       "\t<tr><th></th><th scope=col>PC1</th><th scope=col>PC2</th><th scope=col>PC3</th><th scope=col>PC4</th><th scope=col>PC5</th><th scope=col>PC6</th><th scope=col>PC7</th><th scope=col>PC8</th><th scope=col>PC9</th><th scope=col>PC10</th><th scope=col>...</th><th scope=col>PC51</th><th scope=col>PC52</th><th scope=col>PC53</th><th scope=col>PC54</th><th scope=col>PC55</th><th scope=col>PC56</th><th scope=col>PC57</th><th scope=col>PC58</th><th scope=col>PC59</th><th scope=col>PC60</th></tr>\n",
       "\t<tr><th></th><th scope=col>&lt;dbl&gt;</th><th scope=col>&lt;dbl&gt;</th><th scope=col>&lt;dbl&gt;</th><th scope=col>&lt;dbl&gt;</th><th scope=col>&lt;dbl&gt;</th><th scope=col>&lt;dbl&gt;</th><th scope=col>&lt;dbl&gt;</th><th scope=col>&lt;dbl&gt;</th><th scope=col>&lt;dbl&gt;</th><th scope=col>&lt;dbl&gt;</th><th scope=col>...</th><th scope=col>&lt;dbl&gt;</th><th scope=col>&lt;dbl&gt;</th><th scope=col>&lt;dbl&gt;</th><th scope=col>&lt;dbl&gt;</th><th scope=col>&lt;dbl&gt;</th><th scope=col>&lt;dbl&gt;</th><th scope=col>&lt;dbl&gt;</th><th scope=col>&lt;dbl&gt;</th><th scope=col>&lt;dbl&gt;</th><th scope=col>&lt;dbl&gt;</th></tr>\n",
       "</thead>\n",
       "<tbody>\n",
       "\t<tr><th scope=row>agilent</th><td>0.0005406833</td><td>0.0004119778</td><td>0.0002410063</td><td>0.0004038087</td><td>0.0001317894</td><td>0.0001783712</td><td>0.0001102046</td><td>7.647035e-05</td><td>9.255591e-05</td><td>7.623495e-05</td><td>...</td><td>1.766688e-05</td><td>1.573844e-05</td><td>1.789202e-05</td><td>1.588216e-05</td><td>1.371554e-05</td><td>1.489570e-05</td><td>1.278135e-05</td><td>7.710620e-06</td><td>8.292575e-06</td><td>4.905560e-34</td></tr>\n",
       "\t<tr><th scope=row>hgu133</th><td>0.0007410830</td><td>0.0005850680</td><td>0.0003507538</td><td>0.0001448788</td><td>0.0001685482</td><td>0.0001042850</td><td>0.0001141451</td><td>9.152286e-05</td><td>9.233171e-05</td><td>8.127548e-05</td><td>...</td><td>1.927263e-05</td><td>2.064648e-05</td><td>1.792612e-05</td><td>1.790954e-05</td><td>2.044984e-05</td><td>1.566760e-05</td><td>1.370311e-05</td><td>1.091389e-05</td><td>1.483197e-05</td><td>6.034980e-34</td></tr>\n",
       "\t<tr><th scope=row>hgu133p2</th><td>0.0007716595</td><td>0.0005146566</td><td>0.0003742008</td><td>0.0001281515</td><td>0.0001487516</td><td>0.0001203610</td><td>0.0001037556</td><td>1.040017e-04</td><td>8.616141e-05</td><td>7.889696e-05</td><td>...</td><td>2.031250e-05</td><td>1.823293e-05</td><td>1.816761e-05</td><td>1.960108e-05</td><td>1.496160e-05</td><td>1.722105e-05</td><td>1.638918e-05</td><td>2.228523e-05</td><td>9.725357e-06</td><td>6.495037e-34</td></tr>\n",
       "\t<tr><th scope=row>hgu95</th><td>0.0008042677</td><td>0.0006210049</td><td>0.0003942394</td><td>0.0001506287</td><td>0.0001752495</td><td>0.0001102364</td><td>0.0001208737</td><td>1.189579e-04</td><td>7.304858e-05</td><td>9.072314e-05</td><td>...</td><td>1.909173e-05</td><td>1.862061e-05</td><td>1.791124e-05</td><td>1.626488e-05</td><td>1.875370e-05</td><td>1.442530e-05</td><td>1.471469e-05</td><td>1.052441e-05</td><td>8.879026e-06</td><td>6.808613e-34</td></tr>\n",
       "</tbody>\n",
       "</table>\n"
      ],
      "text/latex": [
       "A data.frame: 4 × 60\n",
       "\\begin{tabular}{r|llllllllllllllllllllllllllllllllllllllllllllllllllllllllllll}\n",
       "  & PC1 & PC2 & PC3 & PC4 & PC5 & PC6 & PC7 & PC8 & PC9 & PC10 & PC11 & PC12 & PC13 & PC14 & PC15 & PC16 & PC17 & PC18 & PC19 & PC20 & PC21 & PC22 & PC23 & PC24 & PC25 & PC26 & PC27 & PC28 & PC29 & PC30 & PC31 & PC32 & PC33 & PC34 & PC35 & PC36 & PC37 & PC38 & PC39 & PC40 & PC41 & PC42 & PC43 & PC44 & PC45 & PC46 & PC47 & PC48 & PC49 & PC50 & PC51 & PC52 & PC53 & PC54 & PC55 & PC56 & PC57 & PC58 & PC59 & PC60\\\\\n",
       "  & <dbl> & <dbl> & <dbl> & <dbl> & <dbl> & <dbl> & <dbl> & <dbl> & <dbl> & <dbl> & <dbl> & <dbl> & <dbl> & <dbl> & <dbl> & <dbl> & <dbl> & <dbl> & <dbl> & <dbl> & <dbl> & <dbl> & <dbl> & <dbl> & <dbl> & <dbl> & <dbl> & <dbl> & <dbl> & <dbl> & <dbl> & <dbl> & <dbl> & <dbl> & <dbl> & <dbl> & <dbl> & <dbl> & <dbl> & <dbl> & <dbl> & <dbl> & <dbl> & <dbl> & <dbl> & <dbl> & <dbl> & <dbl> & <dbl> & <dbl> & <dbl> & <dbl> & <dbl> & <dbl> & <dbl> & <dbl> & <dbl> & <dbl> & <dbl> & <dbl>\\\\\n",
       "\\hline\n",
       "\tagilent & 0.0005406833 & 0.0004119778 & 0.0002410063 & 0.0004038087 & 0.0001317894 & 0.0001783712 & 0.0001102046 & 7.647035e-05 & 9.255591e-05 & 7.623495e-05 & 6.288500e-05 & 6.456628e-05 & 6.273676e-05 & 5.045635e-05 & 5.312750e-05 & 6.345780e-05 & 4.093618e-05 & 5.423337e-05 & 5.355119e-05 & 4.661714e-05 & 4.512038e-05 & 4.421027e-05 & 3.488600e-05 & 4.066708e-05 & 3.333168e-05 & 3.613375e-05 & 3.548730e-05 & 3.989236e-05 & 3.442814e-05 & 3.377134e-05 & 3.619864e-05 & 2.994066e-05 & 3.029825e-05 & 2.765019e-05 & 3.169300e-05 & 2.355926e-05 & 2.723504e-05 & 2.117876e-05 & 2.437201e-05 & 1.924783e-05 & 2.032753e-05 & 2.351052e-05 & 2.176767e-05 & 2.242336e-05 & 2.234015e-05 & 1.875711e-05 & 2.410299e-05 & 1.884685e-05 & 1.885556e-05 & 1.885424e-05 & 1.766688e-05 & 1.573844e-05 & 1.789202e-05 & 1.588216e-05 & 1.371554e-05 & 1.489570e-05 & 1.278135e-05 & 7.710620e-06 & 8.292575e-06 & 4.905560e-34\\\\\n",
       "\thgu133 & 0.0007410830 & 0.0005850680 & 0.0003507538 & 0.0001448788 & 0.0001685482 & 0.0001042850 & 0.0001141451 & 9.152286e-05 & 9.233171e-05 & 8.127548e-05 & 7.697879e-05 & 7.904017e-05 & 8.042105e-05 & 7.043975e-05 & 6.085251e-05 & 6.481323e-05 & 5.520369e-05 & 4.798305e-05 & 5.081379e-05 & 4.540403e-05 & 4.968265e-05 & 4.700064e-05 & 4.325284e-05 & 4.421508e-05 & 4.842070e-05 & 4.145882e-05 & 4.659758e-05 & 4.149468e-05 & 3.934745e-05 & 3.401535e-05 & 3.277983e-05 & 3.135734e-05 & 3.550348e-05 & 3.428123e-05 & 3.424321e-05 & 3.086057e-05 & 2.958157e-05 & 3.052721e-05 & 2.782417e-05 & 2.902168e-05 & 2.570846e-05 & 2.500522e-05 & 2.376864e-05 & 2.540956e-05 & 2.657066e-05 & 2.202126e-05 & 2.225775e-05 & 2.410487e-05 & 2.165033e-05 & 2.155534e-05 & 1.927263e-05 & 2.064648e-05 & 1.792612e-05 & 1.790954e-05 & 2.044984e-05 & 1.566760e-05 & 1.370311e-05 & 1.091389e-05 & 1.483197e-05 & 6.034980e-34\\\\\n",
       "\thgu133p2 & 0.0007716595 & 0.0005146566 & 0.0003742008 & 0.0001281515 & 0.0001487516 & 0.0001203610 & 0.0001037556 & 1.040017e-04 & 8.616141e-05 & 7.889696e-05 & 7.047662e-05 & 7.097184e-05 & 7.450629e-05 & 7.393487e-05 & 6.297193e-05 & 5.144068e-05 & 6.162817e-05 & 6.233503e-05 & 5.308781e-05 & 5.327742e-05 & 4.285735e-05 & 5.031074e-05 & 5.572815e-05 & 4.342113e-05 & 4.934454e-05 & 4.760856e-05 & 3.080663e-05 & 3.743032e-05 & 3.701687e-05 & 3.644106e-05 & 3.486760e-05 & 3.602550e-05 & 3.475847e-05 & 3.676152e-05 & 2.770197e-05 & 3.389837e-05 & 2.838114e-05 & 3.087845e-05 & 3.001308e-05 & 2.901601e-05 & 3.083953e-05 & 2.478116e-05 & 2.773608e-05 & 2.693972e-05 & 2.292695e-05 & 2.500295e-05 & 2.276179e-05 & 2.450683e-05 & 2.073865e-05 & 2.128073e-05 & 2.031250e-05 & 1.823293e-05 & 1.816761e-05 & 1.960108e-05 & 1.496160e-05 & 1.722105e-05 & 1.638918e-05 & 2.228523e-05 & 9.725357e-06 & 6.495037e-34\\\\\n",
       "\thgu95 & 0.0008042677 & 0.0006210049 & 0.0003942394 & 0.0001506287 & 0.0001752495 & 0.0001102364 & 0.0001208737 & 1.189579e-04 & 7.304858e-05 & 9.072314e-05 & 8.051718e-05 & 7.032926e-05 & 6.015688e-05 & 6.702328e-05 & 5.967266e-05 & 5.487062e-05 & 6.340211e-05 & 4.772780e-05 & 4.740596e-05 & 5.196850e-05 & 5.595898e-05 & 4.611015e-05 & 4.809217e-05 & 4.584361e-05 & 4.127681e-05 & 3.716535e-05 & 4.406425e-05 & 3.240827e-05 & 3.980019e-05 & 3.967986e-05 & 3.712993e-05 & 3.929625e-05 & 3.435634e-05 & 2.994387e-05 & 3.181994e-05 & 3.144155e-05 & 3.298814e-05 & 3.356516e-05 & 3.081113e-05 & 3.015623e-05 & 2.758414e-05 & 2.905167e-05 & 2.744398e-05 & 2.374539e-05 & 2.425158e-05 & 2.463246e-05 & 2.020576e-05 & 1.704352e-05 & 2.175628e-05 & 1.863367e-05 & 1.909173e-05 & 1.862061e-05 & 1.791124e-05 & 1.626488e-05 & 1.875370e-05 & 1.442530e-05 & 1.471469e-05 & 1.052441e-05 & 8.879026e-06 & 6.808613e-34\\\\\n",
       "\\end{tabular}\n"
      ],
      "text/markdown": [
       "\n",
       "A data.frame: 4 × 60\n",
       "\n",
       "| <!--/--> | PC1 &lt;dbl&gt; | PC2 &lt;dbl&gt; | PC3 &lt;dbl&gt; | PC4 &lt;dbl&gt; | PC5 &lt;dbl&gt; | PC6 &lt;dbl&gt; | PC7 &lt;dbl&gt; | PC8 &lt;dbl&gt; | PC9 &lt;dbl&gt; | PC10 &lt;dbl&gt; | ... ... | PC51 &lt;dbl&gt; | PC52 &lt;dbl&gt; | PC53 &lt;dbl&gt; | PC54 &lt;dbl&gt; | PC55 &lt;dbl&gt; | PC56 &lt;dbl&gt; | PC57 &lt;dbl&gt; | PC58 &lt;dbl&gt; | PC59 &lt;dbl&gt; | PC60 &lt;dbl&gt; |\n",
       "|---|---|---|---|---|---|---|---|---|---|---|---|---|---|---|---|---|---|---|---|---|---|\n",
       "| agilent | 0.0005406833 | 0.0004119778 | 0.0002410063 | 0.0004038087 | 0.0001317894 | 0.0001783712 | 0.0001102046 | 7.647035e-05 | 9.255591e-05 | 7.623495e-05 | ... | 1.766688e-05 | 1.573844e-05 | 1.789202e-05 | 1.588216e-05 | 1.371554e-05 | 1.489570e-05 | 1.278135e-05 | 7.710620e-06 | 8.292575e-06 | 4.905560e-34 |\n",
       "| hgu133 | 0.0007410830 | 0.0005850680 | 0.0003507538 | 0.0001448788 | 0.0001685482 | 0.0001042850 | 0.0001141451 | 9.152286e-05 | 9.233171e-05 | 8.127548e-05 | ... | 1.927263e-05 | 2.064648e-05 | 1.792612e-05 | 1.790954e-05 | 2.044984e-05 | 1.566760e-05 | 1.370311e-05 | 1.091389e-05 | 1.483197e-05 | 6.034980e-34 |\n",
       "| hgu133p2 | 0.0007716595 | 0.0005146566 | 0.0003742008 | 0.0001281515 | 0.0001487516 | 0.0001203610 | 0.0001037556 | 1.040017e-04 | 8.616141e-05 | 7.889696e-05 | ... | 2.031250e-05 | 1.823293e-05 | 1.816761e-05 | 1.960108e-05 | 1.496160e-05 | 1.722105e-05 | 1.638918e-05 | 2.228523e-05 | 9.725357e-06 | 6.495037e-34 |\n",
       "| hgu95 | 0.0008042677 | 0.0006210049 | 0.0003942394 | 0.0001506287 | 0.0001752495 | 0.0001102364 | 0.0001208737 | 1.189579e-04 | 7.304858e-05 | 9.072314e-05 | ... | 1.909173e-05 | 1.862061e-05 | 1.791124e-05 | 1.626488e-05 | 1.875370e-05 | 1.442530e-05 | 1.471469e-05 | 1.052441e-05 | 8.879026e-06 | 6.808613e-34 |\n",
       "\n"
      ],
      "text/plain": [
       "         PC1          PC2          PC3          PC4          PC5         \n",
       "agilent  0.0005406833 0.0004119778 0.0002410063 0.0004038087 0.0001317894\n",
       "hgu133   0.0007410830 0.0005850680 0.0003507538 0.0001448788 0.0001685482\n",
       "hgu133p2 0.0007716595 0.0005146566 0.0003742008 0.0001281515 0.0001487516\n",
       "hgu95    0.0008042677 0.0006210049 0.0003942394 0.0001506287 0.0001752495\n",
       "         PC6          PC7          PC8          PC9          PC10         ...\n",
       "agilent  0.0001783712 0.0001102046 7.647035e-05 9.255591e-05 7.623495e-05 ...\n",
       "hgu133   0.0001042850 0.0001141451 9.152286e-05 9.233171e-05 8.127548e-05 ...\n",
       "hgu133p2 0.0001203610 0.0001037556 1.040017e-04 8.616141e-05 7.889696e-05 ...\n",
       "hgu95    0.0001102364 0.0001208737 1.189579e-04 7.304858e-05 9.072314e-05 ...\n",
       "         PC51         PC52         PC53         PC54         PC55        \n",
       "agilent  1.766688e-05 1.573844e-05 1.789202e-05 1.588216e-05 1.371554e-05\n",
       "hgu133   1.927263e-05 2.064648e-05 1.792612e-05 1.790954e-05 2.044984e-05\n",
       "hgu133p2 2.031250e-05 1.823293e-05 1.816761e-05 1.960108e-05 1.496160e-05\n",
       "hgu95    1.909173e-05 1.862061e-05 1.791124e-05 1.626488e-05 1.875370e-05\n",
       "         PC56         PC57         PC58         PC59         PC60        \n",
       "agilent  1.489570e-05 1.278135e-05 7.710620e-06 8.292575e-06 4.905560e-34\n",
       "hgu133   1.566760e-05 1.370311e-05 1.091389e-05 1.483197e-05 6.034980e-34\n",
       "hgu133p2 1.722105e-05 1.638918e-05 2.228523e-05 9.725357e-06 6.495037e-34\n",
       "hgu95    1.442530e-05 1.471469e-05 1.052441e-05 8.879026e-06 6.808613e-34"
      ]
     },
     "metadata": {},
     "output_type": "display_data"
    },
    {
     "data": {
      "image/png": "[encoded data removed]",
      "text/plain": [
       "Plot with title \"Variance of each principal components (PC)\""
      ]
     },
     "metadata": {},
     "output_type": "display_data"
    }
   ],
   "source": [
    "eigs <- getmgsa(mgsa1, \"partial.eig\") # get partial \"eigenvalue\" for separate data\n",
    "eigs\n",
    "barplot(as.matrix(eigs), legend.text = rownames(eigs), \n",
    "        main = \"Variance of each principal components (PC)\")\n",
    "# the contributions of different data are distinguished by different colors"
   ]
  },
  {
   "cell_type": "code",
   "execution_count": 14,
   "metadata": {
    "scrolled": true
   },
   "outputs": [
    {
     "data": {
      "text/html": [
       "<table>\n",
       "<caption>A matrix: 6 × 60 of type dbl</caption>\n",
       "<thead>\n",
       "\t<tr><th></th><th scope=col>BR.MCF7</th><th scope=col>BR.MDA_MB_231</th><th scope=col>BR.HS578T</th><th scope=col>BR.BT_549</th><th scope=col>BR.T47D</th><th scope=col>CNS.SF_268</th><th scope=col>CNS.SF_295</th><th scope=col>CNS.SF_539</th><th scope=col>CNS.SNB_19</th><th scope=col>CNS.SNB_75</th><th scope=col>...</th><th scope=col>PR.PC_3</th><th scope=col>PR.DU_145</th><th scope=col>RE.786_0</th><th scope=col>RE.A498</th><th scope=col>RE.ACHN</th><th scope=col>RE.CAKI_1</th><th scope=col>RE.RXF_393</th><th scope=col>RE.SN12C</th><th scope=col>RE.TK_10</th><th scope=col>RE.UO_31</th></tr>\n",
       "</thead>\n",
       "<tbody>\n",
       "\t<tr><th scope=row>ORGANELLE_PART</th><td> 0.0008387807</td><td>-3.229068e-04</td><td>-9.590523e-04</td><td>-0.0004725457</td><td> 1.820676e-04</td><td>-0.0007320322</td><td>-7.627032e-04</td><td>-1.050955e-03</td><td>-0.0005156010</td><td>-0.0012114695</td><td>...</td><td>-5.418904e-05</td><td>-7.800383e-05</td><td>-3.916225e-04</td><td>-0.0010197994</td><td>-6.114488e-04</td><td>-5.037607e-04</td><td>-0.0008599458</td><td>-3.332888e-04</td><td>-0.0002304620</td><td>-0.0007580615</td></tr>\n",
       "\t<tr><th scope=row>INTRINSIC_TO_PLASMA_MEMBRANE</th><td>-0.0010653632</td><td> 8.815431e-04</td><td> 1.745199e-03</td><td> 0.0012010273</td><td>-1.205989e-04</td><td> 0.0014703266</td><td> 1.334184e-03</td><td> 1.837182e-03</td><td> 0.0009680169</td><td> 0.0019534267</td><td>...</td><td> 2.613985e-04</td><td> 4.896836e-04</td><td> 1.145418e-03</td><td> 0.0019890069</td><td> 1.455491e-03</td><td> 1.245439e-03</td><td> 0.0018334082</td><td> 9.558258e-04</td><td> 0.0008956653</td><td> 0.0016253084</td></tr>\n",
       "\t<tr><th scope=row>CYTOPLASMIC_PART</th><td>-0.0004609780</td><td>-2.903411e-04</td><td>-6.043233e-05</td><td>-0.0004874490</td><td> 1.886775e-04</td><td>-0.0003768300</td><td>-7.114874e-06</td><td>-2.115503e-05</td><td>-0.0002862945</td><td> 0.0001539046</td><td>...</td><td> 1.123678e-04</td><td>-3.890340e-06</td><td>-3.321441e-04</td><td> 0.0003636761</td><td> 1.147635e-04</td><td> 1.899145e-05</td><td>-0.0001352645</td><td>-3.291699e-04</td><td>-0.0001543579</td><td> 0.0001492384</td></tr>\n",
       "\t<tr><th scope=row>NON_MEMBRANE_BOUND_ORGANELLE</th><td> 0.0004135920</td><td>-5.128751e-05</td><td>-3.721301e-04</td><td>-0.0001420564</td><td> 2.382183e-04</td><td>-0.0003121686</td><td>-3.120595e-04</td><td>-4.341660e-04</td><td>-0.0002625194</td><td>-0.0005334135</td><td>...</td><td> 1.019114e-04</td><td> 1.562619e-04</td><td>-1.518226e-05</td><td>-0.0001921503</td><td>-6.318203e-06</td><td>-3.758710e-06</td><td>-0.0002149098</td><td>-3.744667e-05</td><td> 0.0001224327</td><td>-0.0001016338</td></tr>\n",
       "\t<tr><th scope=row>INTEGRAL_TO_MEMBRANE</th><td>-0.0012860465</td><td> 1.136110e-03</td><td> 2.169784e-03</td><td> 0.0015008420</td><td>-2.123663e-05</td><td> 0.0017919690</td><td> 1.649184e-03</td><td> 2.267395e-03</td><td> 0.0011465283</td><td> 0.0023943109</td><td>...</td><td> 4.187309e-04</td><td> 7.426462e-04</td><td> 1.507399e-03</td><td> 0.0026394667</td><td> 1.982591e-03</td><td> 1.688373e-03</td><td> 0.0023607352</td><td> 1.239446e-03</td><td> 0.0012587919</td><td> 0.0021682639</td></tr>\n",
       "\t<tr><th scope=row>INTEGRAL_TO_PLASMA_MEMBRANE</th><td>-0.0010408568</td><td> 8.661045e-04</td><td> 1.712625e-03</td><td> 0.0011846249</td><td>-1.300428e-04</td><td> 0.0014501870</td><td> 1.309378e-03</td><td> 1.803438e-03</td><td> 0.0009576398</td><td> 0.0019161125</td><td>...</td><td> 2.481922e-04</td><td> 4.710082e-04</td><td> 1.122516e-03</td><td> 0.0019339026</td><td> 1.413822e-03</td><td> 1.211511e-03</td><td> 0.0017945670</td><td> 9.387664e-04</td><td> 0.0008706198</td><td> 0.0015816539</td></tr>\n",
       "</tbody>\n",
       "</table>\n"
      ],
      "text/latex": [
       "A matrix: 6 × 60 of type dbl\n",
       "\\begin{tabular}{r|llllllllllllllllllllllllllllllllllllllllllllllllllllllllllll}\n",
       "  & BR.MCF7 & BR.MDA\\_MB\\_231 & BR.HS578T & BR.BT\\_549 & BR.T47D & CNS.SF\\_268 & CNS.SF\\_295 & CNS.SF\\_539 & CNS.SNB\\_19 & CNS.SNB\\_75 & CNS.U251 & CO.COLO205 & CO.HCC\\_2998 & CO.HCT\\_116 & CO.HCT\\_15 & CO.HT29 & CO.KM12 & CO.SW\\_620 & LE.CCRF\\_CEM & LE.HL\\_60 & LE.K\\_562 & LE.MOLT\\_4 & LE.RPMI\\_8226 & LE.SR & ME.LOXIMVI & ME.MALME\\_3M & ME.M14 & ME.SK\\_MEL\\_2 & ME.SK\\_MEL\\_28 & ME.SK\\_MEL\\_5 & ME.UACC\\_257 & ME.UACC\\_62 & ME.MDA\\_MB\\_435 & ME.MDA\\_N & LC.A549 & LC.EKVX & LC.HOP\\_62 & LC.HOP\\_92 & LC.NCI\\_H226 & LC.NCI\\_H23 & LC.NCI\\_H322M & LC.NCI\\_H460 & LC.NCI\\_H522 & OV.IGROV1 & OV.OVCAR\\_3 & OV.OVCAR\\_4 & OV.OVCAR\\_5 & OV.OVCAR\\_8 & OV.SK\\_OV\\_3 & OV.NCI\\_ADR\\_RES & PR.PC\\_3 & PR.DU\\_145 & RE.786\\_0 & RE.A498 & RE.ACHN & RE.CAKI\\_1 & RE.RXF\\_393 & RE.SN12C & RE.TK\\_10 & RE.UO\\_31\\\\\n",
       "\\hline\n",
       "\tORGANELLE\\_PART &  0.0008387807 & -3.229068e-04 & -9.590523e-04 & -0.0004725457 &  1.820676e-04 & -0.0007320322 & -7.627032e-04 & -1.050955e-03 & -0.0005156010 & -0.0012114695 & -6.449227e-04 &  0.0009594720 &  0.0007057464 &  0.0005691114 &  9.617031e-04 &  0.0007372196 &  0.0009138830 &  0.0011090619 &  0.003466312 &  0.0032267727 &  0.0024342666 &  0.0034173943 &  0.002279865 &  0.001868065 & -0.0002996035 & -0.0013315123 & -0.0010265424 & -8.020218e-04 & -0.0014368841 & -0.0007838264 & -0.0010061981 & -0.0011735968 & -0.0008227098 & -0.0009168404 & -0.0001382770 & -5.644776e-04 & -3.540499e-04 & -0.0006175291 & -0.0009315509 & -5.941120e-05 & -8.448282e-05 &  2.408297e-04 &  2.866577e-04 &  2.212971e-04 & 4.470183e-05 & -1.396170e-04 & -0.0002165638 & -6.738847e-05 & -2.164127e-04 &  3.905959e-05 & -5.418904e-05 & -7.800383e-05 & -3.916225e-04 & -0.0010197994 & -6.114488e-04 & -5.037607e-04 & -0.0008599458 & -3.332888e-04 & -0.0002304620 & -0.0007580615\\\\\n",
       "\tINTRINSIC\\_TO\\_PLASMA\\_MEMBRANE & -0.0010653632 &  8.815431e-04 &  1.745199e-03 &  0.0012010273 & -1.205989e-04 &  0.0014703266 &  1.334184e-03 &  1.837182e-03 &  0.0009680169 &  0.0019534267 &  1.152549e-03 & -0.0017222317 & -0.0012245708 & -0.0008053975 & -1.353535e-03 & -0.0010348556 & -0.0014201772 & -0.0016524483 & -0.004425253 & -0.0044092018 & -0.0034634548 & -0.0043506834 & -0.003250633 & -0.002386655 &  0.0002099317 &  0.0003908195 &  0.0002593759 &  3.697634e-05 &  0.0003976170 & -0.0003789466 & -0.0001725548 &  0.0004013894 & -0.0001234342 & -0.0001645387 &  0.0003866869 &  9.288781e-04 &  8.338860e-04 &  0.0010681407 &  0.0016506291 &  2.552823e-04 &  2.072290e-04 & -3.456230e-04 & -3.568627e-04 & -6.808097e-05 & 6.495420e-05 &  5.084080e-04 &  0.0005129917 &  5.639151e-04 &  8.280324e-04 &  3.498575e-04 &  2.613985e-04 &  4.896836e-04 &  1.145418e-03 &  0.0019890069 &  1.455491e-03 &  1.245439e-03 &  0.0018334082 &  9.558258e-04 &  0.0008956653 &  0.0016253084\\\\\n",
       "\tCYTOPLASMIC\\_PART & -0.0004609780 & -2.903411e-04 & -6.043233e-05 & -0.0004874490 &  1.886775e-04 & -0.0003768300 & -7.114874e-06 & -2.115503e-05 & -0.0002862945 &  0.0001539046 & -6.553891e-05 &  0.0010344802 &  0.0008360487 &  0.0002552493 &  9.743008e-05 &  0.0007014065 &  0.0004763225 & -0.0001237778 & -0.004614104 & -0.0035308593 & -0.0024039943 & -0.0044852410 & -0.002321685 & -0.002401536 &  0.0002742699 &  0.0023689364 &  0.0015989975 &  1.330026e-03 &  0.0024544393 &  0.0019440374 &  0.0021121893 &  0.0018450297 &  0.0015364199 &  0.0018153234 &  0.0003175597 &  5.999684e-04 & -1.188643e-04 &  0.0002894932 &  0.0003526191 & -1.506107e-04 &  6.468091e-04 & -6.571006e-05 & -3.731100e-04 & -1.273845e-04 & 1.337474e-04 &  9.116873e-05 &  0.0004385470 & -3.720879e-04 & -1.968615e-04 & -3.553511e-04 &  1.123678e-04 & -3.890340e-06 & -3.321441e-04 &  0.0003636761 &  1.147635e-04 &  1.899145e-05 & -0.0001352645 & -3.291699e-04 & -0.0001543579 &  0.0001492384\\\\\n",
       "\tNON\\_MEMBRANE\\_BOUND\\_ORGANELLE &  0.0004135920 & -5.128751e-05 & -3.721301e-04 & -0.0001420564 &  2.382183e-04 & -0.0003121686 & -3.120595e-04 & -4.341660e-04 & -0.0002625194 & -0.0005334135 & -2.691921e-04 &  0.0006858716 &  0.0005503182 &  0.0004118758 &  5.968521e-04 &  0.0006525877 &  0.0006139815 &  0.0005663584 &  0.000860280 &  0.0008817842 &  0.0006719748 &  0.0008743208 &  0.000604003 &  0.000488946 & -0.0002052292 & -0.0008471841 & -0.0007458279 & -6.464747e-04 & -0.0009586467 & -0.0006550971 & -0.0007912791 & -0.0007912761 & -0.0006964033 & -0.0007586798 &  0.0001194555 & -7.535661e-05 & -6.566436e-05 & -0.0001679347 & -0.0002582474 &  1.038994e-05 &  1.973061e-04 &  1.180574e-04 &  7.863108e-05 &  2.213964e-04 & 1.361311e-04 &  1.129056e-04 &  0.0001193242 &  9.653421e-05 &  9.195469e-05 &  1.300372e-04 &  1.019114e-04 &  1.562619e-04 & -1.518226e-05 & -0.0001921503 & -6.318203e-06 & -3.758710e-06 & -0.0002149098 & -3.744667e-05 &  0.0001224327 & -0.0001016338\\\\\n",
       "\tINTEGRAL\\_TO\\_MEMBRANE & -0.0012860465 &  1.136110e-03 &  2.169784e-03 &  0.0015008420 & -2.123663e-05 &  0.0017919690 &  1.649184e-03 &  2.267395e-03 &  0.0011465283 &  0.0023943109 &  1.418162e-03 & -0.0018695066 & -0.0012861517 & -0.0008537723 & -1.520629e-03 & -0.0009922595 & -0.0015595323 & -0.0019662225 & -0.006081807 & -0.0059269680 & -0.0046244928 & -0.0059590693 & -0.004361251 & -0.003257589 &  0.0002112824 &  0.0003667526 &  0.0001532180 & -1.281235e-04 &  0.0003290154 & -0.0006270218 & -0.0003974473 &  0.0003503821 & -0.0003476274 & -0.0004035094 &  0.0006206025 &  1.288455e-03 &  1.083552e-03 &  0.0013952008 &  0.0021460032 &  3.343144e-04 &  4.540137e-04 & -4.159459e-04 & -4.858662e-04 &  5.763989e-06 & 1.722447e-04 &  7.567333e-04 &  0.0008053810 &  7.714143e-04 &  1.146850e-03 &  5.001665e-04 &  4.187309e-04 &  7.426462e-04 &  1.507399e-03 &  0.0026394667 &  1.982591e-03 &  1.688373e-03 &  0.0023607352 &  1.239446e-03 &  0.0012587919 &  0.0021682639\\\\\n",
       "\tINTEGRAL\\_TO\\_PLASMA\\_MEMBRANE & -0.0010408568 &  8.661045e-04 &  1.712625e-03 &  0.0011846249 & -1.300428e-04 &  0.0014501870 &  1.309378e-03 &  1.803438e-03 &  0.0009576398 &  0.0019161125 &  1.132446e-03 & -0.0017233714 & -0.0012298684 & -0.0008040063 & -1.340339e-03 & -0.0010458648 & -0.0014143352 & -0.0016251094 & -0.004232168 & -0.0042417468 & -0.0033395201 & -0.0041630164 & -0.003131892 & -0.002285366 &  0.0002053512 &  0.0003568624 &  0.0002427426 &  2.889397e-05 &  0.0003654989 & -0.0003893415 & -0.0001874886 &  0.0003769825 & -0.0001300704 & -0.0001741483 &  0.0003648468 &  8.929320e-04 &  8.163761e-04 &  0.0010387190 &  0.0016072551 &  2.514174e-04 &  1.800486e-04 & -3.389924e-04 & -3.415970e-04 & -7.121745e-05 & 5.535748e-05 &  4.886197e-04 &  0.0004850164 &  5.536577e-04 &  8.068524e-04 &  3.438155e-04 &  2.481922e-04 &  4.710082e-04 &  1.122516e-03 &  0.0019339026 &  1.413822e-03 &  1.211511e-03 &  0.0017945670 &  9.387664e-04 &  0.0008706198 &  0.0015816539\\\\\n",
       "\\end{tabular}\n"
      ],
      "text/markdown": [
       "\n",
       "A matrix: 6 × 60 of type dbl\n",
       "\n",
       "| <!--/--> | BR.MCF7 | BR.MDA_MB_231 | BR.HS578T | BR.BT_549 | BR.T47D | CNS.SF_268 | CNS.SF_295 | CNS.SF_539 | CNS.SNB_19 | CNS.SNB_75 | ... | PR.PC_3 | PR.DU_145 | RE.786_0 | RE.A498 | RE.ACHN | RE.CAKI_1 | RE.RXF_393 | RE.SN12C | RE.TK_10 | RE.UO_31 |\n",
       "|---|---|---|---|---|---|---|---|---|---|---|---|---|---|---|---|---|---|---|---|---|---|\n",
       "| ORGANELLE_PART |  0.0008387807 | -3.229068e-04 | -9.590523e-04 | -0.0004725457 |  1.820676e-04 | -0.0007320322 | -7.627032e-04 | -1.050955e-03 | -0.0005156010 | -0.0012114695 | ... | -5.418904e-05 | -7.800383e-05 | -3.916225e-04 | -0.0010197994 | -6.114488e-04 | -5.037607e-04 | -0.0008599458 | -3.332888e-04 | -0.0002304620 | -0.0007580615 |\n",
       "| INTRINSIC_TO_PLASMA_MEMBRANE | -0.0010653632 |  8.815431e-04 |  1.745199e-03 |  0.0012010273 | -1.205989e-04 |  0.0014703266 |  1.334184e-03 |  1.837182e-03 |  0.0009680169 |  0.0019534267 | ... |  2.613985e-04 |  4.896836e-04 |  1.145418e-03 |  0.0019890069 |  1.455491e-03 |  1.245439e-03 |  0.0018334082 |  9.558258e-04 |  0.0008956653 |  0.0016253084 |\n",
       "| CYTOPLASMIC_PART | -0.0004609780 | -2.903411e-04 | -6.043233e-05 | -0.0004874490 |  1.886775e-04 | -0.0003768300 | -7.114874e-06 | -2.115503e-05 | -0.0002862945 |  0.0001539046 | ... |  1.123678e-04 | -3.890340e-06 | -3.321441e-04 |  0.0003636761 |  1.147635e-04 |  1.899145e-05 | -0.0001352645 | -3.291699e-04 | -0.0001543579 |  0.0001492384 |\n",
       "| NON_MEMBRANE_BOUND_ORGANELLE |  0.0004135920 | -5.128751e-05 | -3.721301e-04 | -0.0001420564 |  2.382183e-04 | -0.0003121686 | -3.120595e-04 | -4.341660e-04 | -0.0002625194 | -0.0005334135 | ... |  1.019114e-04 |  1.562619e-04 | -1.518226e-05 | -0.0001921503 | -6.318203e-06 | -3.758710e-06 | -0.0002149098 | -3.744667e-05 |  0.0001224327 | -0.0001016338 |\n",
       "| INTEGRAL_TO_MEMBRANE | -0.0012860465 |  1.136110e-03 |  2.169784e-03 |  0.0015008420 | -2.123663e-05 |  0.0017919690 |  1.649184e-03 |  2.267395e-03 |  0.0011465283 |  0.0023943109 | ... |  4.187309e-04 |  7.426462e-04 |  1.507399e-03 |  0.0026394667 |  1.982591e-03 |  1.688373e-03 |  0.0023607352 |  1.239446e-03 |  0.0012587919 |  0.0021682639 |\n",
       "| INTEGRAL_TO_PLASMA_MEMBRANE | -0.0010408568 |  8.661045e-04 |  1.712625e-03 |  0.0011846249 | -1.300428e-04 |  0.0014501870 |  1.309378e-03 |  1.803438e-03 |  0.0009576398 |  0.0019161125 | ... |  2.481922e-04 |  4.710082e-04 |  1.122516e-03 |  0.0019339026 |  1.413822e-03 |  1.211511e-03 |  0.0017945670 |  9.387664e-04 |  0.0008706198 |  0.0015816539 |\n",
       "\n"
      ],
      "text/plain": [
       "                             BR.MCF7       BR.MDA_MB_231 BR.HS578T    \n",
       "ORGANELLE_PART                0.0008387807 -3.229068e-04 -9.590523e-04\n",
       "INTRINSIC_TO_PLASMA_MEMBRANE -0.0010653632  8.815431e-04  1.745199e-03\n",
       "CYTOPLASMIC_PART             -0.0004609780 -2.903411e-04 -6.043233e-05\n",
       "NON_MEMBRANE_BOUND_ORGANELLE  0.0004135920 -5.128751e-05 -3.721301e-04\n",
       "INTEGRAL_TO_MEMBRANE         -0.0012860465  1.136110e-03  2.169784e-03\n",
       "INTEGRAL_TO_PLASMA_MEMBRANE  -0.0010408568  8.661045e-04  1.712625e-03\n",
       "                             BR.BT_549     BR.T47D       CNS.SF_268   \n",
       "ORGANELLE_PART               -0.0004725457  1.820676e-04 -0.0007320322\n",
       "INTRINSIC_TO_PLASMA_MEMBRANE  0.0012010273 -1.205989e-04  0.0014703266\n",
       "CYTOPLASMIC_PART             -0.0004874490  1.886775e-04 -0.0003768300\n",
       "NON_MEMBRANE_BOUND_ORGANELLE -0.0001420564  2.382183e-04 -0.0003121686\n",
       "INTEGRAL_TO_MEMBRANE          0.0015008420 -2.123663e-05  0.0017919690\n",
       "INTEGRAL_TO_PLASMA_MEMBRANE   0.0011846249 -1.300428e-04  0.0014501870\n",
       "                             CNS.SF_295    CNS.SF_539    CNS.SNB_19   \n",
       "ORGANELLE_PART               -7.627032e-04 -1.050955e-03 -0.0005156010\n",
       "INTRINSIC_TO_PLASMA_MEMBRANE  1.334184e-03  1.837182e-03  0.0009680169\n",
       "CYTOPLASMIC_PART             -7.114874e-06 -2.115503e-05 -0.0002862945\n",
       "NON_MEMBRANE_BOUND_ORGANELLE -3.120595e-04 -4.341660e-04 -0.0002625194\n",
       "INTEGRAL_TO_MEMBRANE          1.649184e-03  2.267395e-03  0.0011465283\n",
       "INTEGRAL_TO_PLASMA_MEMBRANE   1.309378e-03  1.803438e-03  0.0009576398\n",
       "                             CNS.SNB_75    ... PR.PC_3       PR.DU_145    \n",
       "ORGANELLE_PART               -0.0012114695 ... -5.418904e-05 -7.800383e-05\n",
       "INTRINSIC_TO_PLASMA_MEMBRANE  0.0019534267 ...  2.613985e-04  4.896836e-04\n",
       "CYTOPLASMIC_PART              0.0001539046 ...  1.123678e-04 -3.890340e-06\n",
       "NON_MEMBRANE_BOUND_ORGANELLE -0.0005334135 ...  1.019114e-04  1.562619e-04\n",
       "INTEGRAL_TO_MEMBRANE          0.0023943109 ...  4.187309e-04  7.426462e-04\n",
       "INTEGRAL_TO_PLASMA_MEMBRANE   0.0019161125 ...  2.481922e-04  4.710082e-04\n",
       "                             RE.786_0      RE.A498       RE.ACHN      \n",
       "ORGANELLE_PART               -3.916225e-04 -0.0010197994 -6.114488e-04\n",
       "INTRINSIC_TO_PLASMA_MEMBRANE  1.145418e-03  0.0019890069  1.455491e-03\n",
       "CYTOPLASMIC_PART             -3.321441e-04  0.0003636761  1.147635e-04\n",
       "NON_MEMBRANE_BOUND_ORGANELLE -1.518226e-05 -0.0001921503 -6.318203e-06\n",
       "INTEGRAL_TO_MEMBRANE          1.507399e-03  0.0026394667  1.982591e-03\n",
       "INTEGRAL_TO_PLASMA_MEMBRANE   1.122516e-03  0.0019339026  1.413822e-03\n",
       "                             RE.CAKI_1     RE.RXF_393    RE.SN12C     \n",
       "ORGANELLE_PART               -5.037607e-04 -0.0008599458 -3.332888e-04\n",
       "INTRINSIC_TO_PLASMA_MEMBRANE  1.245439e-03  0.0018334082  9.558258e-04\n",
       "CYTOPLASMIC_PART              1.899145e-05 -0.0001352645 -3.291699e-04\n",
       "NON_MEMBRANE_BOUND_ORGANELLE -3.758710e-06 -0.0002149098 -3.744667e-05\n",
       "INTEGRAL_TO_MEMBRANE          1.688373e-03  0.0023607352  1.239446e-03\n",
       "INTEGRAL_TO_PLASMA_MEMBRANE   1.211511e-03  0.0017945670  9.387664e-04\n",
       "                             RE.TK_10      RE.UO_31     \n",
       "ORGANELLE_PART               -0.0002304620 -0.0007580615\n",
       "INTRINSIC_TO_PLASMA_MEMBRANE  0.0008956653  0.0016253084\n",
       "CYTOPLASMIC_PART             -0.0001543579  0.0001492384\n",
       "NON_MEMBRANE_BOUND_ORGANELLE  0.0001224327 -0.0001016338\n",
       "INTEGRAL_TO_MEMBRANE          0.0012587919  0.0021682639\n",
       "INTEGRAL_TO_PLASMA_MEMBRANE   0.0008706198  0.0015816539"
      ]
     },
     "metadata": {},
     "output_type": "display_data"
    },
    {
     "data": {
      "image/png": "[encoded data removed]",
      "text/plain": [
       "Plot with title \"Color Key\n",
       "and Histogram\""
      ]
     },
     "metadata": {},
     "output_type": "display_data"
    }
   ],
   "source": [
    "# The main result returned by `mogsa` is the gene set score (GSS) matrix. The value in the\n",
    "# matrix indicates the overall active level of a gene set in a sample. \n",
    "# get the score matrix\n",
    "scores <- getmgsa(mgsa1, \"score\")\n",
    "head(scores)\n",
    "heatmap.2(scores, trace = \"n\", scale = \"r\", Colv = NULL, dendrogram = \"row\", \n",
    "          margins = c(6, 10), ColSideColors=colcode)\n",
    "# heatmap showing the gene set score (GSS) matrix"
   ]
  },
  {
   "cell_type": "markdown",
   "metadata": {},
   "source": [
    "The heatmap shows the gene set score matrix returned by `mogsa`. The rows of the matrix are all the gene sets used to annotate the data. But we are mostly interested in the gene sets with large number of significant gene sets, because these gene sets describe the difference across cell lines. The corresponding p-value for each gene set score could be extracted by `getmgsa`. Then, the most significant gene sets could be defined as gene sets that contain highest number of significantly p-values."
   ]
  },
  {
   "cell_type": "code",
   "execution_count": 16,
   "metadata": {},
   "outputs": [
    {
     "data": {
      "text/html": [
       "<table>\n",
       "<caption>A matrix: 6 × 60 of type dbl</caption>\n",
       "<thead>\n",
       "\t<tr><th></th><th scope=col>BR.MCF7</th><th scope=col>BR.MDA_MB_231</th><th scope=col>BR.HS578T</th><th scope=col>BR.BT_549</th><th scope=col>BR.T47D</th><th scope=col>CNS.SF_268</th><th scope=col>CNS.SF_295</th><th scope=col>CNS.SF_539</th><th scope=col>CNS.SNB_19</th><th scope=col>CNS.SNB_75</th><th scope=col>...</th><th scope=col>PR.PC_3</th><th scope=col>PR.DU_145</th><th scope=col>RE.786_0</th><th scope=col>RE.A498</th><th scope=col>RE.ACHN</th><th scope=col>RE.CAKI_1</th><th scope=col>RE.RXF_393</th><th scope=col>RE.SN12C</th><th scope=col>RE.TK_10</th><th scope=col>RE.UO_31</th></tr>\n",
       "</thead>\n",
       "<tbody>\n",
       "\t<tr><th scope=row>ORGANELLE_PART</th><td>0.010838064</td><td>0.260028103</td><td>0.0579354203</td><td>0.295235665</td><td>0.8353120</td><td>0.169677506</td><td>0.0511843236</td><td>0.053471684</td><td>0.209657498</td><td>0.0359038523</td><td>...</td><td>0.3875927</td><td>0.48319866</td><td>0.263403241</td><td>0.0205596709</td><td>0.079771368</td><td>0.101455365</td><td>0.0774197470</td><td>0.285498217</td><td>0.351285020</td><td>0.0453042253</td></tr>\n",
       "\t<tr><th scope=row>INTRINSIC_TO_PLASMA_MEMBRANE</th><td>0.004402244</td><td>0.002946150</td><td>0.0009834800</td><td>0.002793480</td><td>0.3758081</td><td>0.002180097</td><td>0.0010664931</td><td>0.001115843</td><td>0.004104555</td><td>0.0012967586</td><td>...</td><td>0.3223773</td><td>0.16530786</td><td>0.004292608</td><td>0.0009832709</td><td>0.004740550</td><td>0.004554495</td><td>0.0010267330</td><td>0.003571865</td><td>0.030541811</td><td>0.0016632384</td></tr>\n",
       "\t<tr><th scope=row>CYTOPLASMIC_PART</th><td>0.357206926</td><td>0.344739257</td><td>0.8291806974</td><td>0.327260180</td><td>0.8992935</td><td>0.544320870</td><td>0.9016393178</td><td>0.894747676</td><td>0.581395304</td><td>0.9151902838</td><td>...</td><td>0.9675536</td><td>0.62833887</td><td>0.360593081</td><td>0.9313594844</td><td>0.794363540</td><td>0.699082690</td><td>0.6563726005</td><td>0.326717881</td><td>0.465227549</td><td>0.8653488335</td></tr>\n",
       "\t<tr><th scope=row>NON_MEMBRANE_BOUND_ORGANELLE</th><td>0.137654244</td><td>0.809146193</td><td>0.3834832277</td><td>0.749153363</td><td>0.5658399</td><td>0.527284907</td><td>0.3486428906</td><td>0.350703304</td><td>0.500521748</td><td>0.2795958838</td><td>...</td><td>0.8779173</td><td>0.80484848</td><td>0.871716146</td><td>0.4230207400</td><td>0.689097526</td><td>0.726024448</td><td>0.5394877191</td><td>0.852614897</td><td>0.932323607</td><td>0.5481024061</td></tr>\n",
       "\t<tr><th scope=row>INTEGRAL_TO_MEMBRANE</th><td>0.003741840</td><td>0.001085903</td><td>0.0004910321</td><td>0.001378463</td><td>0.5564561</td><td>0.001372849</td><td>0.0005791171</td><td>0.000618479</td><td>0.003388107</td><td>0.0008059845</td><td>...</td><td>0.1491652</td><td>0.06652218</td><td>0.001374969</td><td>0.0002123348</td><td>0.001078849</td><td>0.001082565</td><td>0.0003291563</td><td>0.001277826</td><td>0.009439984</td><td>0.0003736212</td></tr>\n",
       "\t<tr><th scope=row>INTEGRAL_TO_PLASMA_MEMBRANE</th><td>0.005128230</td><td>0.003277122</td><td>0.0011348312</td><td>0.002993959</td><td>0.3569682</td><td>0.002345113</td><td>0.0012272444</td><td>0.001279169</td><td>0.004267741</td><td>0.0014947659</td><td>...</td><td>0.3543484</td><td>0.18235758</td><td>0.004853992</td><td>0.0012857146</td><td>0.005862200</td><td>0.005552231</td><td>0.0012225304</td><td>0.003970734</td><td>0.034668291</td><td>0.0021021761</td></tr>\n",
       "</tbody>\n",
       "</table>\n"
      ],
      "text/latex": [
       "A matrix: 6 × 60 of type dbl\n",
       "\\begin{tabular}{r|llllllllllllllllllllllllllllllllllllllllllllllllllllllllllll}\n",
       "  & BR.MCF7 & BR.MDA\\_MB\\_231 & BR.HS578T & BR.BT\\_549 & BR.T47D & CNS.SF\\_268 & CNS.SF\\_295 & CNS.SF\\_539 & CNS.SNB\\_19 & CNS.SNB\\_75 & CNS.U251 & CO.COLO205 & CO.HCC\\_2998 & CO.HCT\\_116 & CO.HCT\\_15 & CO.HT29 & CO.KM12 & CO.SW\\_620 & LE.CCRF\\_CEM & LE.HL\\_60 & LE.K\\_562 & LE.MOLT\\_4 & LE.RPMI\\_8226 & LE.SR & ME.LOXIMVI & ME.MALME\\_3M & ME.M14 & ME.SK\\_MEL\\_2 & ME.SK\\_MEL\\_28 & ME.SK\\_MEL\\_5 & ME.UACC\\_257 & ME.UACC\\_62 & ME.MDA\\_MB\\_435 & ME.MDA\\_N & LC.A549 & LC.EKVX & LC.HOP\\_62 & LC.HOP\\_92 & LC.NCI\\_H226 & LC.NCI\\_H23 & LC.NCI\\_H322M & LC.NCI\\_H460 & LC.NCI\\_H522 & OV.IGROV1 & OV.OVCAR\\_3 & OV.OVCAR\\_4 & OV.OVCAR\\_5 & OV.OVCAR\\_8 & OV.SK\\_OV\\_3 & OV.NCI\\_ADR\\_RES & PR.PC\\_3 & PR.DU\\_145 & RE.786\\_0 & RE.A498 & RE.ACHN & RE.CAKI\\_1 & RE.RXF\\_393 & RE.SN12C & RE.TK\\_10 & RE.UO\\_31\\\\\n",
       "\\hline\n",
       "\tORGANELLE\\_PART & 0.010838064 & 0.260028103 & 0.0579354203 & 0.295235665 & 0.8353120 & 0.169677506 & 0.0511843236 & 0.053471684 & 0.209657498 & 0.0359038523 & 0.068671977 & 0.47723591 & 0.54517678 & 0.32583048 & 0.15660254 & 0.57025092 & 0.30166348 & 0.055328241 & 0.0002677597 & 0.0002726952 & 0.0004005349 & 0.0002395629 & 0.0004081928 & 0.0002224311 & 0.07466377 & 0.04992350 & 0.10267458 & 0.1748321 & 0.06473731 & 0.22865752 & 0.17128665 & 0.06479746 & 0.21633502 & 0.20203628 & 0.2151232 & 0.003390066 & 0.1228919795 & 0.0072178922 & 0.0109857343 & 0.57717167 & 0.3381081 & 0.029095014 & 0.0001882407 & 0.4283666 & 0.7819864 & 0.28676281 & 0.1429036 & 0.75651924 & 0.361802337 & 0.8890638 & 0.3875927 & 0.48319866 & 0.263403241 & 0.0205596709 & 0.079771368 & 0.101455365 & 0.0774197470 & 0.285498217 & 0.351285020 & 0.0453042253\\\\\n",
       "\tINTRINSIC\\_TO\\_PLASMA\\_MEMBRANE & 0.004402244 & 0.002946150 & 0.0009834800 & 0.002793480 & 0.3758081 & 0.002180097 & 0.0010664931 & 0.001115843 & 0.004104555 & 0.0012967586 & 0.001269411 & 0.02260699 & 0.03404012 & 0.03456285 & 0.01509513 & 0.07717946 & 0.01987494 & 0.003543058 & 0.0117211964 & 0.0024568548 & 0.0013677098 & 0.0103026911 & 0.0016655213 & 0.0085755232 & 0.23838839 & 0.88063514 & 0.83746292 & 0.9581910 & 0.86894776 & 0.48236454 & 0.68301961 & 0.74950165 & 0.77412537 & 0.72190694 & 0.3437977 & 0.006198752 & 0.0016433039 & 0.0004852612 & 0.0004912520 & 0.01067633 & 0.9237844 & 0.002757821 & 0.0096355505 & 0.5970633 & 0.8991575 & 0.10897550 & 0.2721050 & 0.03514106 & 0.021263037 & 0.1169506 & 0.3223773 & 0.16530786 & 0.004292608 & 0.0009832709 & 0.004740550 & 0.004554495 & 0.0010267330 & 0.003571865 & 0.030541811 & 0.0016632384\\\\\n",
       "\tCYTOPLASMIC\\_PART & 0.357206926 & 0.344739257 & 0.8291806974 & 0.327260180 & 0.8992935 & 0.544320870 & 0.9016393178 & 0.894747676 & 0.581395304 & 0.9151902838 & 0.821313943 & 0.50777386 & 0.51625861 & 0.83208993 & 0.98468806 & 0.68643129 & 0.74024272 & 0.863084984 & 0.0365064971 & 0.0794176731 & 0.1265341655 & 0.0359200368 & 0.1209352001 & 0.0375460011 & 0.17396452 & 0.02593218 & 0.06191761 & 0.0790832 & 0.03511936 & 0.04452995 & 0.04634634 & 0.04464135 & 0.07427649 & 0.06175584 & 0.6873079 & 0.278878828 & 0.5341175963 & 0.6830683796 & 0.7935340713 & 0.19007787 & 0.3985500 & 0.687442296 & 0.0302452948 & 0.4408456 & 0.9173832 & 0.81389941 & 0.5845231 & 0.18399725 & 0.404463491 & 0.1417532 & 0.9675536 & 0.62833887 & 0.360593081 & 0.9313594844 & 0.794363540 & 0.699082690 & 0.6563726005 & 0.326717881 & 0.465227549 & 0.8653488335\\\\\n",
       "\tNON\\_MEMBRANE\\_BOUND\\_ORGANELLE & 0.137654244 & 0.809146193 & 0.3834832277 & 0.749153363 & 0.5658399 & 0.527284907 & 0.3486428906 & 0.350703304 & 0.500521748 & 0.2795958838 & 0.380649182 & 0.58466028 & 0.59577017 & 0.43417904 & 0.33620432 & 0.54108430 & 0.45391117 & 0.268802080 & 0.1050197306 & 0.1032457812 & 0.1165287061 & 0.0994641831 & 0.1216207093 & 0.0960683096 & 0.16762639 & 0.14453503 & 0.17907672 & 0.2202767 & 0.15498829 & 0.26391069 & 0.22721109 & 0.15279512 & 0.24304680 & 0.23867930 & 0.9479643 & 0.290275869 & 0.6568666764 & 0.2721670012 & 0.3014569687 & 0.90249789 & 0.9853850 & 0.216184260 & 0.0861510920 & 0.3450355 & 0.6918797 & 0.95631107 & 0.8501390 & 0.72800221 & 0.941686784 & 0.5387004 & 0.8779173 & 0.80484848 & 0.871716146 & 0.4230207400 & 0.689097526 & 0.726024448 & 0.5394877191 & 0.852614897 & 0.932323607 & 0.5481024061\\\\\n",
       "\tINTEGRAL\\_TO\\_MEMBRANE & 0.003741840 & 0.001085903 & 0.0004910321 & 0.001378463 & 0.5564561 & 0.001372849 & 0.0005791171 & 0.000618479 & 0.003388107 & 0.0008059845 & 0.000727521 & 0.02756953 & 0.04435444 & 0.04635350 & 0.01795788 & 0.11173691 & 0.02448040 & 0.003073397 & 0.0033853064 & 0.0006034828 & 0.0003168399 & 0.0029829834 & 0.0003761684 & 0.0024536821 & 0.32194043 & 0.98730925 & 0.98499538 & 0.7563965 & 0.98164025 & 0.34238126 & 0.51652873 & 0.89992724 & 0.57900981 & 0.53874708 & 0.1590902 & 0.001246821 & 0.0005060102 & 0.0001173211 & 0.0001267592 & 0.00427965 & 0.7764277 & 0.002218138 & 0.0029578061 & 0.8217359 & 0.8030689 & 0.03834314 & 0.1165231 & 0.01391244 & 0.006535337 & 0.0555102 & 0.1491652 & 0.06652218 & 0.001374969 & 0.0002123348 & 0.001078849 & 0.001082565 & 0.0003291563 & 0.001277826 & 0.009439984 & 0.0003736212\\\\\n",
       "\tINTEGRAL\\_TO\\_PLASMA\\_MEMBRANE & 0.005128230 & 0.003277122 & 0.0011348312 & 0.002993959 & 0.3569682 & 0.002345113 & 0.0012272444 & 0.001279169 & 0.004267741 & 0.0014947659 & 0.001435181 & 0.02191212 & 0.03265432 & 0.03396024 & 0.01544448 & 0.07366267 & 0.01969667 & 0.003889316 & 0.0165003231 & 0.0035882436 & 0.0020020184 & 0.0145645646 & 0.0024379262 & 0.0121913405 & 0.24586578 & 0.90990865 & 0.85366827 & 0.9487695 & 0.89357137 & 0.47278279 & 0.67000378 & 0.77156507 & 0.76667440 & 0.71250060 & 0.3837090 & 0.008577135 & 0.0019268293 & 0.0006521668 & 0.0006461726 & 0.01136712 & 0.8686888 & 0.003125661 & 0.0136299991 & 0.5863398 & 0.8597571 & 0.12394489 & 0.3093169 & 0.03734901 & 0.024049914 & 0.1209548 & 0.3543484 & 0.18235758 & 0.004853992 & 0.0012857146 & 0.005862200 & 0.005552231 & 0.0012225304 & 0.003970734 & 0.034668291 & 0.0021021761\\\\\n",
       "\\end{tabular}\n"
      ],
      "text/markdown": [
       "\n",
       "A matrix: 6 × 60 of type dbl\n",
       "\n",
       "| <!--/--> | BR.MCF7 | BR.MDA_MB_231 | BR.HS578T | BR.BT_549 | BR.T47D | CNS.SF_268 | CNS.SF_295 | CNS.SF_539 | CNS.SNB_19 | CNS.SNB_75 | ... | PR.PC_3 | PR.DU_145 | RE.786_0 | RE.A498 | RE.ACHN | RE.CAKI_1 | RE.RXF_393 | RE.SN12C | RE.TK_10 | RE.UO_31 |\n",
       "|---|---|---|---|---|---|---|---|---|---|---|---|---|---|---|---|---|---|---|---|---|---|\n",
       "| ORGANELLE_PART | 0.010838064 | 0.260028103 | 0.0579354203 | 0.295235665 | 0.8353120 | 0.169677506 | 0.0511843236 | 0.053471684 | 0.209657498 | 0.0359038523 | ... | 0.3875927 | 0.48319866 | 0.263403241 | 0.0205596709 | 0.079771368 | 0.101455365 | 0.0774197470 | 0.285498217 | 0.351285020 | 0.0453042253 |\n",
       "| INTRINSIC_TO_PLASMA_MEMBRANE | 0.004402244 | 0.002946150 | 0.0009834800 | 0.002793480 | 0.3758081 | 0.002180097 | 0.0010664931 | 0.001115843 | 0.004104555 | 0.0012967586 | ... | 0.3223773 | 0.16530786 | 0.004292608 | 0.0009832709 | 0.004740550 | 0.004554495 | 0.0010267330 | 0.003571865 | 0.030541811 | 0.0016632384 |\n",
       "| CYTOPLASMIC_PART | 0.357206926 | 0.344739257 | 0.8291806974 | 0.327260180 | 0.8992935 | 0.544320870 | 0.9016393178 | 0.894747676 | 0.581395304 | 0.9151902838 | ... | 0.9675536 | 0.62833887 | 0.360593081 | 0.9313594844 | 0.794363540 | 0.699082690 | 0.6563726005 | 0.326717881 | 0.465227549 | 0.8653488335 |\n",
       "| NON_MEMBRANE_BOUND_ORGANELLE | 0.137654244 | 0.809146193 | 0.3834832277 | 0.749153363 | 0.5658399 | 0.527284907 | 0.3486428906 | 0.350703304 | 0.500521748 | 0.2795958838 | ... | 0.8779173 | 0.80484848 | 0.871716146 | 0.4230207400 | 0.689097526 | 0.726024448 | 0.5394877191 | 0.852614897 | 0.932323607 | 0.5481024061 |\n",
       "| INTEGRAL_TO_MEMBRANE | 0.003741840 | 0.001085903 | 0.0004910321 | 0.001378463 | 0.5564561 | 0.001372849 | 0.0005791171 | 0.000618479 | 0.003388107 | 0.0008059845 | ... | 0.1491652 | 0.06652218 | 0.001374969 | 0.0002123348 | 0.001078849 | 0.001082565 | 0.0003291563 | 0.001277826 | 0.009439984 | 0.0003736212 |\n",
       "| INTEGRAL_TO_PLASMA_MEMBRANE | 0.005128230 | 0.003277122 | 0.0011348312 | 0.002993959 | 0.3569682 | 0.002345113 | 0.0012272444 | 0.001279169 | 0.004267741 | 0.0014947659 | ... | 0.3543484 | 0.18235758 | 0.004853992 | 0.0012857146 | 0.005862200 | 0.005552231 | 0.0012225304 | 0.003970734 | 0.034668291 | 0.0021021761 |\n",
       "\n"
      ],
      "text/plain": [
       "                             BR.MCF7     BR.MDA_MB_231 BR.HS578T    BR.BT_549  \n",
       "ORGANELLE_PART               0.010838064 0.260028103   0.0579354203 0.295235665\n",
       "INTRINSIC_TO_PLASMA_MEMBRANE 0.004402244 0.002946150   0.0009834800 0.002793480\n",
       "CYTOPLASMIC_PART             0.357206926 0.344739257   0.8291806974 0.327260180\n",
       "NON_MEMBRANE_BOUND_ORGANELLE 0.137654244 0.809146193   0.3834832277 0.749153363\n",
       "INTEGRAL_TO_MEMBRANE         0.003741840 0.001085903   0.0004910321 0.001378463\n",
       "INTEGRAL_TO_PLASMA_MEMBRANE  0.005128230 0.003277122   0.0011348312 0.002993959\n",
       "                             BR.T47D   CNS.SF_268  CNS.SF_295   CNS.SF_539 \n",
       "ORGANELLE_PART               0.8353120 0.169677506 0.0511843236 0.053471684\n",
       "INTRINSIC_TO_PLASMA_MEMBRANE 0.3758081 0.002180097 0.0010664931 0.001115843\n",
       "CYTOPLASMIC_PART             0.8992935 0.544320870 0.9016393178 0.894747676\n",
       "NON_MEMBRANE_BOUND_ORGANELLE 0.5658399 0.527284907 0.3486428906 0.350703304\n",
       "INTEGRAL_TO_MEMBRANE         0.5564561 0.001372849 0.0005791171 0.000618479\n",
       "INTEGRAL_TO_PLASMA_MEMBRANE  0.3569682 0.002345113 0.0012272444 0.001279169\n",
       "                             CNS.SNB_19  CNS.SNB_75   ... PR.PC_3   PR.DU_145 \n",
       "ORGANELLE_PART               0.209657498 0.0359038523 ... 0.3875927 0.48319866\n",
       "INTRINSIC_TO_PLASMA_MEMBRANE 0.004104555 0.0012967586 ... 0.3223773 0.16530786\n",
       "CYTOPLASMIC_PART             0.581395304 0.9151902838 ... 0.9675536 0.62833887\n",
       "NON_MEMBRANE_BOUND_ORGANELLE 0.500521748 0.2795958838 ... 0.8779173 0.80484848\n",
       "INTEGRAL_TO_MEMBRANE         0.003388107 0.0008059845 ... 0.1491652 0.06652218\n",
       "INTEGRAL_TO_PLASMA_MEMBRANE  0.004267741 0.0014947659 ... 0.3543484 0.18235758\n",
       "                             RE.786_0    RE.A498      RE.ACHN     RE.CAKI_1  \n",
       "ORGANELLE_PART               0.263403241 0.0205596709 0.079771368 0.101455365\n",
       "INTRINSIC_TO_PLASMA_MEMBRANE 0.004292608 0.0009832709 0.004740550 0.004554495\n",
       "CYTOPLASMIC_PART             0.360593081 0.9313594844 0.794363540 0.699082690\n",
       "NON_MEMBRANE_BOUND_ORGANELLE 0.871716146 0.4230207400 0.689097526 0.726024448\n",
       "INTEGRAL_TO_MEMBRANE         0.001374969 0.0002123348 0.001078849 0.001082565\n",
       "INTEGRAL_TO_PLASMA_MEMBRANE  0.004853992 0.0012857146 0.005862200 0.005552231\n",
       "                             RE.RXF_393   RE.SN12C    RE.TK_10    RE.UO_31    \n",
       "ORGANELLE_PART               0.0774197470 0.285498217 0.351285020 0.0453042253\n",
       "INTRINSIC_TO_PLASMA_MEMBRANE 0.0010267330 0.003571865 0.030541811 0.0016632384\n",
       "CYTOPLASMIC_PART             0.6563726005 0.326717881 0.465227549 0.8653488335\n",
       "NON_MEMBRANE_BOUND_ORGANELLE 0.5394877191 0.852614897 0.932323607 0.5481024061\n",
       "INTEGRAL_TO_MEMBRANE         0.0003291563 0.001277826 0.009439984 0.0003736212\n",
       "INTEGRAL_TO_PLASMA_MEMBRANE  0.0012225304 0.003970734 0.034668291 0.0021021761"
      ]
     },
     "metadata": {},
     "output_type": "display_data"
    },
    {
     "data": {
      "text/html": [
       "<ol class=list-inline>\n",
       "\t<li>'PASINI_SUZ12_TARGETS_DN'</li>\n",
       "\t<li>'CHARAFE_BREAST_CANCER_LUMINAL_VS_BASAL_DN'</li>\n",
       "\t<li>'CHARAFE_BREAST_CANCER_LUMINAL_VS_MESENCHYMAL_DN'</li>\n",
       "\t<li>'KOINUMA_TARGETS_OF_SMAD2_OR_SMAD3'</li>\n",
       "\t<li>'DUTERTRE_ESTRADIOL_RESPONSE_24HR_DN'</li>\n",
       "\t<li>'REN_ALVEOLAR_RHABDOMYOSARCOMA_DN'</li>\n",
       "\t<li>'LIM_MAMMARY_STEM_CELL_UP'</li>\n",
       "\t<li>'LIU_PROSTATE_CANCER_DN'</li>\n",
       "\t<li>'CHICAS_RB1_TARGETS_CONFLUENT'</li>\n",
       "\t<li>'NUYTTEN_EZH2_TARGETS_UP'</li>\n",
       "\t<li>'DACOSTA_UV_RESPONSE_VIA_ERCC3_DN'</li>\n",
       "\t<li>'PUJANA_ATM_PCC_NETWORK'</li>\n",
       "\t<li>'KRIGE_RESPONSE_TO_TOSEDOSTAT_24HR_DN'</li>\n",
       "\t<li>'WONG_ADULT_TISSUE_STEM_MODULE'</li>\n",
       "\t<li>'KRIEG_HYPOXIA_NOT_VIA_KDM3A'</li>\n",
       "\t<li>'MULTICELLULAR_ORGANISMAL_DEVELOPMENT'</li>\n",
       "\t<li>'ANATOMICAL_STRUCTURE_DEVELOPMENT'</li>\n",
       "\t<li>'FORTSCHEGGER_PHF8_TARGETS_DN'</li>\n",
       "\t<li>'ZWANG_CLASS_1_TRANSIENTLY_INDUCED_BY_EGF'</li>\n",
       "\t<li>'PLASMA_MEMBRANE_PART'</li>\n",
       "</ol>\n"
      ],
      "text/latex": [
       "\\begin{enumerate*}\n",
       "\\item 'PASINI\\_SUZ12\\_TARGETS\\_DN'\n",
       "\\item 'CHARAFE\\_BREAST\\_CANCER\\_LUMINAL\\_VS\\_BASAL\\_DN'\n",
       "\\item 'CHARAFE\\_BREAST\\_CANCER\\_LUMINAL\\_VS\\_MESENCHYMAL\\_DN'\n",
       "\\item 'KOINUMA\\_TARGETS\\_OF\\_SMAD2\\_OR\\_SMAD3'\n",
       "\\item 'DUTERTRE\\_ESTRADIOL\\_RESPONSE\\_24HR\\_DN'\n",
       "\\item 'REN\\_ALVEOLAR\\_RHABDOMYOSARCOMA\\_DN'\n",
       "\\item 'LIM\\_MAMMARY\\_STEM\\_CELL\\_UP'\n",
       "\\item 'LIU\\_PROSTATE\\_CANCER\\_DN'\n",
       "\\item 'CHICAS\\_RB1\\_TARGETS\\_CONFLUENT'\n",
       "\\item 'NUYTTEN\\_EZH2\\_TARGETS\\_UP'\n",
       "\\item 'DACOSTA\\_UV\\_RESPONSE\\_VIA\\_ERCC3\\_DN'\n",
       "\\item 'PUJANA\\_ATM\\_PCC\\_NETWORK'\n",
       "\\item 'KRIGE\\_RESPONSE\\_TO\\_TOSEDOSTAT\\_24HR\\_DN'\n",
       "\\item 'WONG\\_ADULT\\_TISSUE\\_STEM\\_MODULE'\n",
       "\\item 'KRIEG\\_HYPOXIA\\_NOT\\_VIA\\_KDM3A'\n",
       "\\item 'MULTICELLULAR\\_ORGANISMAL\\_DEVELOPMENT'\n",
       "\\item 'ANATOMICAL\\_STRUCTURE\\_DEVELOPMENT'\n",
       "\\item 'FORTSCHEGGER\\_PHF8\\_TARGETS\\_DN'\n",
       "\\item 'ZWANG\\_CLASS\\_1\\_TRANSIENTLY\\_INDUCED\\_BY\\_EGF'\n",
       "\\item 'PLASMA\\_MEMBRANE\\_PART'\n",
       "\\end{enumerate*}\n"
      ],
      "text/markdown": [
       "1. 'PASINI_SUZ12_TARGETS_DN'\n",
       "2. 'CHARAFE_BREAST_CANCER_LUMINAL_VS_BASAL_DN'\n",
       "3. 'CHARAFE_BREAST_CANCER_LUMINAL_VS_MESENCHYMAL_DN'\n",
       "4. 'KOINUMA_TARGETS_OF_SMAD2_OR_SMAD3'\n",
       "5. 'DUTERTRE_ESTRADIOL_RESPONSE_24HR_DN'\n",
       "6. 'REN_ALVEOLAR_RHABDOMYOSARCOMA_DN'\n",
       "7. 'LIM_MAMMARY_STEM_CELL_UP'\n",
       "8. 'LIU_PROSTATE_CANCER_DN'\n",
       "9. 'CHICAS_RB1_TARGETS_CONFLUENT'\n",
       "10. 'NUYTTEN_EZH2_TARGETS_UP'\n",
       "11. 'DACOSTA_UV_RESPONSE_VIA_ERCC3_DN'\n",
       "12. 'PUJANA_ATM_PCC_NETWORK'\n",
       "13. 'KRIGE_RESPONSE_TO_TOSEDOSTAT_24HR_DN'\n",
       "14. 'WONG_ADULT_TISSUE_STEM_MODULE'\n",
       "15. 'KRIEG_HYPOXIA_NOT_VIA_KDM3A'\n",
       "16. 'MULTICELLULAR_ORGANISMAL_DEVELOPMENT'\n",
       "17. 'ANATOMICAL_STRUCTURE_DEVELOPMENT'\n",
       "18. 'FORTSCHEGGER_PHF8_TARGETS_DN'\n",
       "19. 'ZWANG_CLASS_1_TRANSIENTLY_INDUCED_BY_EGF'\n",
       "20. 'PLASMA_MEMBRANE_PART'\n",
       "\n",
       "\n"
      ],
      "text/plain": [
       " [1] \"PASINI_SUZ12_TARGETS_DN\"                        \n",
       " [2] \"CHARAFE_BREAST_CANCER_LUMINAL_VS_BASAL_DN\"      \n",
       " [3] \"CHARAFE_BREAST_CANCER_LUMINAL_VS_MESENCHYMAL_DN\"\n",
       " [4] \"KOINUMA_TARGETS_OF_SMAD2_OR_SMAD3\"              \n",
       " [5] \"DUTERTRE_ESTRADIOL_RESPONSE_24HR_DN\"            \n",
       " [6] \"REN_ALVEOLAR_RHABDOMYOSARCOMA_DN\"               \n",
       " [7] \"LIM_MAMMARY_STEM_CELL_UP\"                       \n",
       " [8] \"LIU_PROSTATE_CANCER_DN\"                         \n",
       " [9] \"CHICAS_RB1_TARGETS_CONFLUENT\"                   \n",
       "[10] \"NUYTTEN_EZH2_TARGETS_UP\"                        \n",
       "[11] \"DACOSTA_UV_RESPONSE_VIA_ERCC3_DN\"               \n",
       "[12] \"PUJANA_ATM_PCC_NETWORK\"                         \n",
       "[13] \"KRIGE_RESPONSE_TO_TOSEDOSTAT_24HR_DN\"           \n",
       "[14] \"WONG_ADULT_TISSUE_STEM_MODULE\"                  \n",
       "[15] \"KRIEG_HYPOXIA_NOT_VIA_KDM3A\"                    \n",
       "[16] \"MULTICELLULAR_ORGANISMAL_DEVELOPMENT\"           \n",
       "[17] \"ANATOMICAL_STRUCTURE_DEVELOPMENT\"               \n",
       "[18] \"FORTSCHEGGER_PHF8_TARGETS_DN\"                   \n",
       "[19] \"ZWANG_CLASS_1_TRANSIENTLY_INDUCED_BY_EGF\"       \n",
       "[20] \"PLASMA_MEMBRANE_PART\"                           "
      ]
     },
     "metadata": {},
     "output_type": "display_data"
    },
    {
     "data": {
      "image/png": "[encoded data removed]",
      "text/plain": [
       "Plot with title \"Color Key\n",
       "and Histogram\""
      ]
     },
     "metadata": {},
     "output_type": "display_data"
    }
   ],
   "source": [
    "# to select the top 20 most significant gene sets and plot them in heatmap\n",
    "p.mat <- getmgsa(mgsa1, \"p.val\") # get p value matrix\n",
    "head(p.mat)\n",
    "top.gs <- sort(rowSums(p.mat < 0.01), decreasing = TRUE)[1:20]  # select gene sets with most signficant GSS scores.\n",
    "top.gs.name <- names(top.gs)\n",
    "top.gs.name\n",
    "heatmap.2(scores[top.gs.name, ], trace = \"n\", scale = \"r\", Colv = NULL, dendrogram = \"row\",\n",
    "          margins = c(8, 13), ColSideColors=colcode)\n",
    "\n",
    "# heatmap showing the gene set score (GSS) matrix for top 20 significant gene sets"
   ]
  },
  {
   "cell_type": "markdown",
   "metadata": {},
   "source": [
    "These gene sets reflect the difference between leukemia and other tumors.<br>\n",
    "\n",
    "So far, we already had an integrative overview of gene sets active levels over the 60 cell lines. It is also interesting to look into more detailed information for a specific gene set. For example, which dataset(s) contribute most to the high or low gene set score of a gene set? And which genes are most important in defining the gene set score for a gene set? The former question could be answered by the gene set score decomposition; the later question could be solve by the gene influential score. These analysis can be done with `decompose.gs.group` and `GIS`.<br>\n"
   ]
  },
  {
   "cell_type": "markdown",
   "metadata": {},
   "source": [
    "### 3.1 Example 1\n",
    "In the first example, we explore the gene set that have most significant gene set scores."
   ]
  },
  {
   "cell_type": "code",
   "execution_count": 17,
   "metadata": {},
   "outputs": [
    {
     "data": {
      "text/html": [
       "'PASINI_SUZ12_TARGETS_DN'"
      ],
      "text/latex": [
       "'PASINI\\_SUZ12\\_TARGETS\\_DN'"
      ],
      "text/markdown": [
       "'PASINI_SUZ12_TARGETS_DN'"
      ],
      "text/plain": [
       "[1] \"PASINI_SUZ12_TARGETS_DN\""
      ]
     },
     "metadata": {},
     "output_type": "display_data"
    },
    {
     "data": {
      "image/png": "[encoded data removed]",
      "text/plain": [
       "Plot with title \"gene set score (GSS) decomposition\""
      ]
     },
     "metadata": {},
     "output_type": "display_data"
    }
   ],
   "source": [
    "# gene set score decomposition\n",
    "# we explore two gene sets, the first one\n",
    "gs1 <- top.gs.name[1] # select the most significant gene set\n",
    "gs1\n",
    "\n",
    "# decompose the gene set score over datasets\n",
    "decompose.gs.group(mgsa1, gs1, group = cancerType, main = \"gene set score (GSS) decomposition\"）\n",
    " \n",
    "# The GSS decomposition are grouped according to the tissue of origin of cell lines. \n",
    "# The vertical bar showing the 95% of confidence interval of the means.\n",
    "# the plot shows leukemia cell lines have lowest GSS on this gene set. The contribution to \n",
    "# the overall gene set score by each dataset are separated in this plot. In general, there is a\n",
    "# good concordance between different datasets. But HGU133 platform contribute most and\n",
    "# Agilent platform contributed least comparing with other datasets, represented as the longest or shortest bars"
   ]
  },
  {
   "cell_type": "code",
   "execution_count": 18,
   "metadata": {},
   "outputs": [
    {
     "data": {
      "text/html": [
       "<table>\n",
       "<caption>A data.frame: 6 × 3</caption>\n",
       "<thead>\n",
       "\t<tr><th scope=col>feature</th><th scope=col>GIS</th><th scope=col>data</th></tr>\n",
       "\t<tr><th scope=col>&lt;chr&gt;</th><th scope=col>&lt;dbl&gt;</th><th scope=col>&lt;fct&gt;</th></tr>\n",
       "</thead>\n",
       "<tbody>\n",
       "\t<tr><td>LIMD2 </td><td>1.007091</td><td>hgu133 </td></tr>\n",
       "\t<tr><td>ZNF266</td><td>1.006706</td><td>hgu133 </td></tr>\n",
       "\t<tr><td>LIMD2 </td><td>1.006476</td><td>hgu95  </td></tr>\n",
       "\t<tr><td>GNG2  </td><td>1.006327</td><td>agilent</td></tr>\n",
       "\t<tr><td>SP5   </td><td>1.006035</td><td>hgu95  </td></tr>\n",
       "\t<tr><td>SP5   </td><td>1.005954</td><td>hgu133 </td></tr>\n",
       "</tbody>\n",
       "</table>\n"
      ],
      "text/latex": [
       "A data.frame: 6 × 3\n",
       "\\begin{tabular}{r|lll}\n",
       " feature & GIS & data\\\\\n",
       " <chr> & <dbl> & <fct>\\\\\n",
       "\\hline\n",
       "\t LIMD2  & 1.007091 & hgu133 \\\\\n",
       "\t ZNF266 & 1.006706 & hgu133 \\\\\n",
       "\t LIMD2  & 1.006476 & hgu95  \\\\\n",
       "\t GNG2   & 1.006327 & agilent\\\\\n",
       "\t SP5    & 1.006035 & hgu95  \\\\\n",
       "\t SP5    & 1.005954 & hgu133 \\\\\n",
       "\\end{tabular}\n"
      ],
      "text/markdown": [
       "\n",
       "A data.frame: 6 × 3\n",
       "\n",
       "| feature &lt;chr&gt; | GIS &lt;dbl&gt; | data &lt;fct&gt; |\n",
       "|---|---|---|\n",
       "| LIMD2  | 1.007091 | hgu133  |\n",
       "| ZNF266 | 1.006706 | hgu133  |\n",
       "| LIMD2  | 1.006476 | hgu95   |\n",
       "| GNG2   | 1.006327 | agilent |\n",
       "| SP5    | 1.006035 | hgu95   |\n",
       "| SP5    | 1.005954 | hgu133  |\n",
       "\n"
      ],
      "text/plain": [
       "  feature GIS      data   \n",
       "1 LIMD2   1.007091 hgu133 \n",
       "2 ZNF266  1.006706 hgu133 \n",
       "3 LIMD2   1.006476 hgu95  \n",
       "4 GNG2    1.006327 agilent\n",
       "5 SP5     1.006035 hgu95  \n",
       "6 SP5     1.005954 hgu133 "
      ]
     },
     "metadata": {},
     "output_type": "display_data"
    },
    {
     "data": {
      "image/png": "[encoded data removed]",
      "text/plain": [
       "plot without title"
      ]
     },
     "metadata": {},
     "output_type": "display_data"
    }
   ],
   "source": [
    "# to know the most influential genes in this gene set\n",
    "gis1 <- GIS(mgsa1, gs1, barcol = gray.colors(4)) # gene influential score\n",
    "head(gis1) # print top 6 influencers\n",
    "\n",
    "# the GIS are represented as bars and the original data where the gene is from is distingished by different colors."
   ]
  },
  {
   "cell_type": "markdown",
   "metadata": {},
   "source": [
    "The bars represent the gene influential scores for genes. Genes from different platforms are shown in different colors. The expression of genes with high positive GIS more likely to have a good positive correlation with the gene set score. In this example, the most important genes in the gene set \"PASIN SUZ12 TARGETS DN\" are TNFRSF12A (identified in two different platforms), CD151, ITGB1, etc.<br>\n",
    "条形代表基因的基因影响因子。来自不同平台的基因以不同颜色显示。具有高阳性GIS的基因的表达更可能与基因组得分具有良好的正相关性。|在该实施例中，基因组“PASIN SUZ12 TARGETS DN”中最重要的基因是TNFRSF12A（在两个不同平台中鉴定），CD151，ITGB1等。"
   ]
  },
  {
   "cell_type": "markdown",
   "metadata": {},
   "source": [
    "### 3.2 Example 2\n",
    "\n",
    "In this example, we use the same methods to explore the \"PUJANA ATM PCC NETWORK\" gene set.<br>"
   ]
  },
  {
   "cell_type": "code",
   "execution_count": 19,
   "metadata": {},
   "outputs": [
    {
     "data": {
      "image/png": "[encoded data removed]",
      "text/plain": [
       "Plot with title \"Data-wise decomposed GSS for ’PUJANA ATM PCC NETWORK’\""
      ]
     },
     "metadata": {},
     "output_type": "display_data"
    }
   ],
   "source": [
    "# the section gene set\n",
    "gs2 <- \"PUJANA_ATM_PCC_NETWORK\"\n",
    "decompose.gs.group(mgsa1, gs2, group = cancerType, x.legend = \"topright\", \n",
    "                   main = \"Data-wise decomposed GSS for ’PUJANA ATM PCC NETWORK’\")"
   ]
  },
  {
   "cell_type": "markdown",
   "metadata": {},
   "source": [
    "This bar shows that the the leukemia cell lines have highest GSSs for this gene set. And the HGU133 and HGU95 platform have relative high contribution to the overall gene set score.<br>\n",
    "\n",
    "该条显示白血病细胞系具有该基因组的最高GSS。 HGU133和HGU95平台对整体基因组评分的贡献相对较高。"
   ]
  },
  {
   "cell_type": "code",
   "execution_count": 20,
   "metadata": {},
   "outputs": [
    {
     "data": {
      "text/html": [
       "<table>\n",
       "<caption>A data.frame: 6 × 3</caption>\n",
       "<thead>\n",
       "\t<tr><th scope=col>feature</th><th scope=col>GIS</th><th scope=col>data</th></tr>\n",
       "\t<tr><th scope=col>&lt;chr&gt;</th><th scope=col>&lt;dbl&gt;</th><th scope=col>&lt;fct&gt;</th></tr>\n",
       "</thead>\n",
       "<tbody>\n",
       "\t<tr><td>PCBP4 </td><td>1.007281</td><td>agilent </td></tr>\n",
       "\t<tr><td>LIF   </td><td>1.006737</td><td>hgu133  </td></tr>\n",
       "\t<tr><td>DKK3  </td><td>1.006393</td><td>hgu133p2</td></tr>\n",
       "\t<tr><td>ROBO1 </td><td>1.006231</td><td>hgu95   </td></tr>\n",
       "\t<tr><td>GPD2  </td><td>1.006213</td><td>hgu133  </td></tr>\n",
       "\t<tr><td>KCNMA1</td><td>1.006116</td><td>hgu133p2</td></tr>\n",
       "</tbody>\n",
       "</table>\n"
      ],
      "text/latex": [
       "A data.frame: 6 × 3\n",
       "\\begin{tabular}{r|lll}\n",
       " feature & GIS & data\\\\\n",
       " <chr> & <dbl> & <fct>\\\\\n",
       "\\hline\n",
       "\t PCBP4  & 1.007281 & agilent \\\\\n",
       "\t LIF    & 1.006737 & hgu133  \\\\\n",
       "\t DKK3   & 1.006393 & hgu133p2\\\\\n",
       "\t ROBO1  & 1.006231 & hgu95   \\\\\n",
       "\t GPD2   & 1.006213 & hgu133  \\\\\n",
       "\t KCNMA1 & 1.006116 & hgu133p2\\\\\n",
       "\\end{tabular}\n"
      ],
      "text/markdown": [
       "\n",
       "A data.frame: 6 × 3\n",
       "\n",
       "| feature &lt;chr&gt; | GIS &lt;dbl&gt; | data &lt;fct&gt; |\n",
       "|---|---|---|\n",
       "| PCBP4  | 1.007281 | agilent  |\n",
       "| LIF    | 1.006737 | hgu133   |\n",
       "| DKK3   | 1.006393 | hgu133p2 |\n",
       "| ROBO1  | 1.006231 | hgu95    |\n",
       "| GPD2   | 1.006213 | hgu133   |\n",
       "| KCNMA1 | 1.006116 | hgu133p2 |\n",
       "\n"
      ],
      "text/plain": [
       "  feature GIS      data    \n",
       "1 PCBP4   1.007281 agilent \n",
       "2 LIF     1.006737 hgu133  \n",
       "3 DKK3    1.006393 hgu133p2\n",
       "4 ROBO1   1.006231 hgu95   \n",
       "5 GPD2    1.006213 hgu133  \n",
       "6 KCNMA1  1.006116 hgu133p2"
      ]
     },
     "metadata": {},
     "output_type": "display_data"
    },
    {
     "data": {
      "image/png": "[encoded data removed]",
      "text/plain": [
       "plot without title"
      ]
     },
     "metadata": {},
     "output_type": "display_data"
    }
   ],
   "source": [
    "gis2 <- GIS(mgsa1, \"PUJANA_ATM_PCC_NETWORK\", topN = 6, barcol = gray.colors(4))\n",
    "gis2 # GIS plot for gene set ’PUJANA ATM PCC NETWORK'"
   ]
  },
  {
   "cell_type": "markdown",
   "metadata": {},
   "source": [
    "The GIS analysis indicates the PIK4CG and GMFG are the most important genes in this gene set.<br>\n",
    "\n",
    "## 4. Plot gene sets in projected space\n",
    "\n",
    "We can also see how the gene set are presented in the lower dimension space. Here we show the projection of gene set annotations on first two dimensions. "
   ]
  },
  {
   "cell_type": "code",
   "execution_count": 21,
   "metadata": {},
   "outputs": [
    {
     "data": {
      "image/png": "[encoded data removed]",
      "text/plain": [
       "plot without title"
      ]
     },
     "metadata": {},
     "output_type": "display_data"
    }
   ],
   "source": [
    "fs <- getmgsa(mgsa1, \"fac.scr\") # extract the factor scores for cell lines (cell line space)\n",
    "layout(matrix(1:2, 1, 2))\n",
    "plot(fs[, 1:2], pch=20, col=colcode, axes = FALSE)\n",
    "abline(v=0, h=0)\n",
    "legend(\"topright\", col=unique(colcode), pch=20, legend=unique(cancerType), bty = \"n\")\n",
    "\n",
    "# cell line and gene sets projected on the PC1 and PC2\n",
    "plotGS(mgsa1, label.cex = 0.8, center.only = TRUE, topN = 0, label = c(gs1, gs2))"
   ]
  },
  {
   "cell_type": "markdown",
   "metadata": {
    "collapsed": true
   },
   "source": [
    "## 5. Perform MOGSA in two steps\n",
    "\n",
    "`mogsa` perform MOGSA in one step. But in practice, one need to determine how many PCs should be retained in the step of reconstructing gene set score matrix. "
   ]
  },
  {
   "cell_type": "code",
   "execution_count": 22,
   "metadata": {},
   "outputs": [
    {
     "data": {
      "text/html": [
       "<table>\n",
       "<caption>A data.frame: 4 × 6</caption>\n",
       "<thead>\n",
       "\t<tr><th></th><th scope=col>PC1</th><th scope=col>PC2</th><th scope=col>PC3</th><th scope=col>PC4</th><th scope=col>PC5</th><th scope=col>PC6</th></tr>\n",
       "\t<tr><th></th><th scope=col>&lt;dbl&gt;</th><th scope=col>&lt;dbl&gt;</th><th scope=col>&lt;dbl&gt;</th><th scope=col>&lt;dbl&gt;</th><th scope=col>&lt;dbl&gt;</th><th scope=col>&lt;dbl&gt;</th></tr>\n",
       "</thead>\n",
       "<tbody>\n",
       "\t<tr><th scope=row>agilent</th><td>0.0005406833</td><td>0.0004119778</td><td>0.0002410063</td><td>0.0004038087</td><td>0.0001317894</td><td>0.0001783712</td></tr>\n",
       "\t<tr><th scope=row>hgu133</th><td>0.0007410830</td><td>0.0005850680</td><td>0.0003507538</td><td>0.0001448788</td><td>0.0001685482</td><td>0.0001042850</td></tr>\n",
       "\t<tr><th scope=row>hgu133p2</th><td>0.0007716595</td><td>0.0005146566</td><td>0.0003742008</td><td>0.0001281515</td><td>0.0001487516</td><td>0.0001203610</td></tr>\n",
       "\t<tr><th scope=row>hgu95</th><td>0.0008042677</td><td>0.0006210049</td><td>0.0003942394</td><td>0.0001506287</td><td>0.0001752495</td><td>0.0001102364</td></tr>\n",
       "</tbody>\n",
       "</table>\n"
      ],
      "text/latex": [
       "A data.frame: 4 × 6\n",
       "\\begin{tabular}{r|llllll}\n",
       "  & PC1 & PC2 & PC3 & PC4 & PC5 & PC6\\\\\n",
       "  & <dbl> & <dbl> & <dbl> & <dbl> & <dbl> & <dbl>\\\\\n",
       "\\hline\n",
       "\tagilent & 0.0005406833 & 0.0004119778 & 0.0002410063 & 0.0004038087 & 0.0001317894 & 0.0001783712\\\\\n",
       "\thgu133 & 0.0007410830 & 0.0005850680 & 0.0003507538 & 0.0001448788 & 0.0001685482 & 0.0001042850\\\\\n",
       "\thgu133p2 & 0.0007716595 & 0.0005146566 & 0.0003742008 & 0.0001281515 & 0.0001487516 & 0.0001203610\\\\\n",
       "\thgu95 & 0.0008042677 & 0.0006210049 & 0.0003942394 & 0.0001506287 & 0.0001752495 & 0.0001102364\\\\\n",
       "\\end{tabular}\n"
      ],
      "text/markdown": [
       "\n",
       "A data.frame: 4 × 6\n",
       "\n",
       "| <!--/--> | PC1 &lt;dbl&gt; | PC2 &lt;dbl&gt; | PC3 &lt;dbl&gt; | PC4 &lt;dbl&gt; | PC5 &lt;dbl&gt; | PC6 &lt;dbl&gt; |\n",
       "|---|---|---|---|---|---|---|\n",
       "| agilent | 0.0005406833 | 0.0004119778 | 0.0002410063 | 0.0004038087 | 0.0001317894 | 0.0001783712 |\n",
       "| hgu133 | 0.0007410830 | 0.0005850680 | 0.0003507538 | 0.0001448788 | 0.0001685482 | 0.0001042850 |\n",
       "| hgu133p2 | 0.0007716595 | 0.0005146566 | 0.0003742008 | 0.0001281515 | 0.0001487516 | 0.0001203610 |\n",
       "| hgu95 | 0.0008042677 | 0.0006210049 | 0.0003942394 | 0.0001506287 | 0.0001752495 | 0.0001102364 |\n",
       "\n"
      ],
      "text/plain": [
       "         PC1          PC2          PC3          PC4          PC5         \n",
       "agilent  0.0005406833 0.0004119778 0.0002410063 0.0004038087 0.0001317894\n",
       "hgu133   0.0007410830 0.0005850680 0.0003507538 0.0001448788 0.0001685482\n",
       "hgu133p2 0.0007716595 0.0005146566 0.0003742008 0.0001281515 0.0001487516\n",
       "hgu95    0.0008042677 0.0006210049 0.0003942394 0.0001506287 0.0001752495\n",
       "         PC6         \n",
       "agilent  0.0001783712\n",
       "hgu133   0.0001042850\n",
       "hgu133p2 0.0001203610\n",
       "hgu95    0.0001102364"
      ]
     },
     "metadata": {},
     "output_type": "display_data"
    },
    {
     "data": {
      "image/png": "[encoded data removed]",
      "text/plain": [
       "Plot with title \"Scaled variance of PCs\""
      ]
     },
     "metadata": {},
     "output_type": "display_data"
    }
   ],
   "source": [
    "# perform multivariate analysis\n",
    "ana <- moa(NCI60_4arrays, proc.row = \"center_ssq1\", w.data = \"inertia\", statis = TRUE)\n",
    "slot(ana, \"partial.eig\")[, 1:6] # extract the eigenvalue\n",
    "\n",
    "# show the eigenvalues in scree plot:\n",
    "layout(matrix(1:2, 1, 2))\n",
    "# cell line and gene sets projected on the PC1 and PC2\n",
    "plot(ana, value=\"eig\", type = 2, n=20, main=\"variance of PCs\") \n",
    "plot(ana, value=\"tau\", type = 2, n=20, main=\"Scaled variance of PCs\")"
   ]
  },
  {
   "cell_type": "markdown",
   "metadata": {},
   "source": [
    "The multivariate analysis (moa) returns an object of class `moa-class`. The scree plot shows the top 3 PC is the most significant since they explain much more variance than others. Several other methods, such as the informal \"elbow test\" or more formal test could be used to determine the number of retained PCs. In order to be consistent with previous example, we use top 3 PCs in the analysis."
   ]
  },
  {
   "cell_type": "code",
   "execution_count": 23,
   "metadata": {},
   "outputs": [
    {
     "name": "stdout",
     "output_type": "stream",
     "text": [
      "x is an object of \"moa\", statis is not used"
     ]
    }
   ],
   "source": [
    "mgsa2 <- mogsa(x = ana, sup=NCI60_4array_supdata, nf=3)"
   ]
  },
  {
   "cell_type": "code",
   "execution_count": 24,
   "metadata": {},
   "outputs": [
    {
     "data": {
      "text/html": [
       "FALSE"
      ],
      "text/latex": [
       "FALSE"
      ],
      "text/markdown": [
       "FALSE"
      ],
      "text/plain": [
       "[1] FALSE"
      ]
     },
     "metadata": {},
     "output_type": "display_data"
    }
   ],
   "source": [
    "identical(mgsa1, mgsa2) # check if the two methods give the same results"
   ]
  },
  {
   "cell_type": "code",
   "execution_count": 27,
   "metadata": {},
   "outputs": [
    {
     "data": {
      "text/plain": [
       "R version 3.5.3 (2019-03-11)\n",
       "Platform: x86_64-w64-mingw32/x64 (64-bit)\n",
       "Running under: Windows 10 x64 (build 17763)\n",
       "\n",
       "Matrix products: default\n",
       "\n",
       "locale:\n",
       "[1] LC_COLLATE=English_United States.1252 \n",
       "[2] LC_CTYPE=English_United States.1252   \n",
       "[3] LC_MONETARY=English_United States.1252\n",
       "[4] LC_NUMERIC=C                          \n",
       "[5] LC_TIME=English_United States.1252    \n",
       "\n",
       "attached base packages:\n",
       "[1] parallel  stats4    stats     graphics  grDevices utils     datasets \n",
       "[8] methods   base     \n",
       "\n",
       "other attached packages:\n",
       " [1] org.Hs.eg.db_3.6.0   AnnotationDbi_1.42.1 IRanges_2.14.12     \n",
       " [4] S4Vectors_0.18.3     Biobase_2.40.0       BiocGenerics_0.26.0 \n",
       " [7] graphite_1.26.3      gplots_3.0.1.1       mogsa_1.14.0        \n",
       "[10] BiocInstaller_1.30.0\n",
       "\n",
       "loaded via a namespace (and not attached):\n",
       " [1] pbdZMQ_0.3-3       genefilter_1.62.0  gtools_3.8.1       repr_1.0.0        \n",
       " [5] splines_3.5.3      lattice_0.20-38    htmltools_0.3.6    base64enc_0.1-3   \n",
       " [9] blob_1.1.1         survival_2.44-1.1  XML_3.98-1.19      rlang_0.3.4       \n",
       "[13] pillar_1.3.1       DBI_1.0.0          rappdirs_0.3.1     bit64_0.9-7       \n",
       "[17] uuid_0.1-2         svd_0.4.3          caTools_1.17.1.2   memoise_1.1.0     \n",
       "[21] evaluate_0.13      curl_3.3           GSEABase_1.42.0    IRdisplay_0.7.0   \n",
       "[25] Rcpp_1.0.1         KernSmooth_2.23-15 xtable_1.8-4       corpcor_1.6.9     \n",
       "[29] backports_1.1.4    checkmate_1.9.3    gdata_2.18.0       IRkernel_1.0.1    \n",
       "[33] graph_1.58.2       annotate_1.58.0    jsonlite_1.6       bit_1.1-14        \n",
       "[37] digest_0.6.18      grid_3.5.3         tools_3.5.3        bitops_1.0-6      \n",
       "[41] RCurl_1.95-4.12    RSQLite_2.1.1      cluster_2.0.9      pkgconfig_2.0.2   \n",
       "[45] crayon_1.3.4       Matrix_1.2-17      httr_1.4.0         R6_2.4.0          \n",
       "[49] compiler_3.5.3    "
      ]
     },
     "metadata": {},
     "output_type": "display_data"
    }
   ],
   "source": [
    "sessionInfo()"
   ]
  }
 ],
 "metadata": {
  "kernelspec": {
   "display_name": "R 3.5.3",
   "language": "R",
   "name": "ir353"
  },
  "language_info": {
   "codemirror_mode": "r",
   "file_extension": ".r",
   "mimetype": "text/x-r-source",
   "name": "R",
   "pygments_lexer": "r",
   "version": "3.5.3"
  }
 },
 "nbformat": 4,
 "nbformat_minor": 2
}
