{
 "cells": [
  {
   "cell_type": "markdown",
   "metadata": {},
   "source": [
    "# Tutorial of mogsa using built-in data\n",
    "\n",
    "#### Contributor: Antonio Mora, Chengshu Xie \n",
    "#### Date of first version: 2019-01-20\n",
    "#### Date of last review: 2020-05-26 \n",
    "#### Summary:\n",
    "\n",
    "This is the tutorial about using how to use R package `moGSA`. We use the built-in data for this tutorial.\n",
    " . \n",
    "\n",
    "#### Contents:\n",
    "* [1. Data Preparation](#link1)    <br>\n",
    "    * [1.1 Prerequisites](#link2)     <br>\n",
    "    * [1.2 Load and check data](#link3)   <br>\n",
    "* [2. Method application](#link4)  <br>\n",
    "* [3. Result analysis and interpretation](#link5)\n",
    "    * [3.1 Example 1](#link6)\n",
    "    * [3.2 Example 2](#link7)   \n",
    "* [4. Plot gene sets in projected space](#link8)    \n",
    "* [5. Perform MOGSA in two steps](#link9)\n",
    "    \n",
    "## <a id=link1>1. Data Preparation</a>\n",
    "\n",
    "### <a id=link2>1.1 Prerequisites</a>\n",
    "\n",
    "R package, `moGSA`, needs to be installed and loaded in the R session, this can be done easily with the following chunk of code: "
   ]
  },
  {
   "cell_type": "code",
   "execution_count": 1,
   "metadata": {},
   "outputs": [],
   "source": [
    "install.packages(\"BiocManager\")\n",
    "BiocManager::install(\"mogsa\")\n",
    "BiocManager::install(\"gplots\")\n",
    "\n",
    "\n",
    "suppressPackageStartupMessages(library(mogsa))\n",
    "suppressPackageStartupMessages(library(gplots)) # used for visulizing heatmap"
   ]
  },
  {
   "cell_type": "markdown",
   "metadata": {},
   "source": [
    "### <a id=link3>1.2 Load and check data</a>\n",
    "`NCI60_4arrays` is a list of data.frame. The list consists of microarray data for NCI-60 cell lines from different platforms. In each of the data.frame, columns are the 60 cell lines and rows are genes. The data are from the [paper](https://www.ncbi.nlm.nih.gov/pubmed/22802077/), but only a small subset of genes were selected. Therefore, the result in this vignette is not intended for biological interpretation.<br>\n",
    "\n",
    "`NCI60_4array_supdata` is a list of matrix, representing gene set annotation data. For each of the microarray data, there is a corresponding annotation matrix. In the annotation data, the rows are genes (in the same order as their original dataset) and columns are gene sets. An annotation matrix is a binary matrix, where 1 indicates a gene is present in a gene set and 0 otherwise. See the \"Preparation of gene set data\" section about how to create the gene set\n",
    "annotation matrices as required by mogsa.<br>\n"
   ]
  },
  {
   "cell_type": "code",
   "execution_count": 2,
   "metadata": {},
   "outputs": [],
   "source": [
    "# loading gene expression data and supplementary data\n",
    "data(NCI60_4array_supdata)\n",
    "data(NCI60_4arrays)"
   ]
  },
  {
   "cell_type": "markdown",
   "metadata": {},
   "source": [
    "Check the dimension of expression data and supplymentary data, and whether they are matched in same order."
   ]
  },
  {
   "cell_type": "code",
   "execution_count": 3,
   "metadata": {},
   "outputs": [
    {
     "data": {
      "text/html": [
       "<table>\n",
       "<caption>A matrix: 2 × 4 of type int</caption>\n",
       "<thead>\n",
       "\t<tr><th scope=col>agilent</th><th scope=col>hgu133</th><th scope=col>hgu133p2</th><th scope=col>hgu95</th></tr>\n",
       "</thead>\n",
       "<tbody>\n",
       "\t<tr><td>300</td><td>298</td><td>268</td><td>288</td></tr>\n",
       "\t<tr><td> 60</td><td> 60</td><td> 60</td><td> 60</td></tr>\n",
       "</tbody>\n",
       "</table>\n"
      ],
      "text/latex": [
       "A matrix: 2 × 4 of type int\n",
       "\\begin{tabular}{llll}\n",
       " agilent & hgu133 & hgu133p2 & hgu95\\\\\n",
       "\\hline\n",
       "\t 300 & 298 & 268 & 288\\\\\n",
       "\t  60 &  60 &  60 &  60\\\\\n",
       "\\end{tabular}\n"
      ],
      "text/markdown": [
       "\n",
       "A matrix: 2 × 4 of type int\n",
       "\n",
       "| agilent | hgu133 | hgu133p2 | hgu95 |\n",
       "|---|---|---|---|\n",
       "| 300 | 298 | 268 | 288 |\n",
       "|  60 |  60 |  60 |  60 |\n",
       "\n"
      ],
      "text/plain": [
       "     agilent hgu133 hgu133p2 hgu95\n",
       "[1,] 300     298    268      288  \n",
       "[2,]  60      60     60       60  "
      ]
     },
     "metadata": {},
     "output_type": "display_data"
    },
    {
     "data": {
      "text/html": [
       "<table>\n",
       "<caption>A matrix: 2 × 4 of type int</caption>\n",
       "<thead>\n",
       "\t<tr><th scope=col>agilent</th><th scope=col>hgu133</th><th scope=col>hgu133p2</th><th scope=col>hgu95</th></tr>\n",
       "</thead>\n",
       "<tbody>\n",
       "\t<tr><td>300</td><td>298</td><td>268</td><td>288</td></tr>\n",
       "\t<tr><td>150</td><td>150</td><td>150</td><td>150</td></tr>\n",
       "</tbody>\n",
       "</table>\n"
      ],
      "text/latex": [
       "A matrix: 2 × 4 of type int\n",
       "\\begin{tabular}{llll}\n",
       " agilent & hgu133 & hgu133p2 & hgu95\\\\\n",
       "\\hline\n",
       "\t 300 & 298 & 268 & 288\\\\\n",
       "\t 150 & 150 & 150 & 150\\\\\n",
       "\\end{tabular}\n"
      ],
      "text/markdown": [
       "\n",
       "A matrix: 2 × 4 of type int\n",
       "\n",
       "| agilent | hgu133 | hgu133p2 | hgu95 |\n",
       "|---|---|---|---|\n",
       "| 300 | 298 | 268 | 288 |\n",
       "| 150 | 150 | 150 | 150 |\n",
       "\n"
      ],
      "text/plain": [
       "     agilent hgu133 hgu133p2 hgu95\n",
       "[1,] 300     298    268      288  \n",
       "[2,] 150     150    150      150  "
      ]
     },
     "metadata": {},
     "output_type": "display_data"
    },
    {
     "data": {
      "text/html": [
       "TRUE"
      ],
      "text/latex": [
       "TRUE"
      ],
      "text/markdown": [
       "TRUE"
      ],
      "text/plain": [
       "[1] TRUE"
      ]
     },
     "metadata": {},
     "output_type": "display_data"
    },
    {
     "data": {
      "text/html": [
       "<style>\n",
       ".list-inline {list-style: none; margin:0; padding: 0}\n",
       ".list-inline>li {display: inline-block}\n",
       ".list-inline>li:not(:last-child)::after {content: \"\\00b7\"; padding: 0 .5ex}\n",
       "</style>\n",
       "<ol class=list-inline><li>'ST8SIA1'</li><li>'YWHAQ'</li><li>'EPHA4'</li><li>'GTPBP5'</li><li>'PVR'</li><li>'ATP6V1H'</li></ol>\n"
      ],
      "text/latex": [
       "\\begin{enumerate*}\n",
       "\\item 'ST8SIA1'\n",
       "\\item 'YWHAQ'\n",
       "\\item 'EPHA4'\n",
       "\\item 'GTPBP5'\n",
       "\\item 'PVR'\n",
       "\\item 'ATP6V1H'\n",
       "\\end{enumerate*}\n"
      ],
      "text/markdown": [
       "1. 'ST8SIA1'\n",
       "2. 'YWHAQ'\n",
       "3. 'EPHA4'\n",
       "4. 'GTPBP5'\n",
       "5. 'PVR'\n",
       "6. 'ATP6V1H'\n",
       "\n",
       "\n"
      ],
      "text/plain": [
       "[1] \"ST8SIA1\" \"YWHAQ\"   \"EPHA4\"   \"GTPBP5\"  \"PVR\"     \"ATP6V1H\""
      ]
     },
     "metadata": {},
     "output_type": "display_data"
    }
   ],
   "source": [
    "sapply(NCI60_4arrays, dim) # check dimensions of expression data\n",
    "sapply(NCI60_4array_supdata, dim) # check dimensions of supplementary data\n",
    "\n",
    "# check if the gene expression data and annotation data are mathced in the same order\n",
    "identical(names(NCI60_4arrays), names(NCI60_4array_supdata))\n",
    "head(rownames(NCI60_4arrays$agilent)) # the type of gene IDs"
   ]
  },
  {
   "cell_type": "code",
   "execution_count": 4,
   "metadata": {},
   "outputs": [
    {
     "data": {
      "text/html": [
       "TRUE"
      ],
      "text/latex": [
       "TRUE"
      ],
      "text/markdown": [
       "TRUE"
      ],
      "text/plain": [
       "[1] TRUE"
      ]
     },
     "metadata": {},
     "output_type": "display_data"
    }
   ],
   "source": [
    "# Confirm the columns between the expression data and annotation data mapped in the same order\n",
    "dataColNames = lapply(NCI60_4arrays, colnames)\n",
    "supColNames = lapply(NCI60_4arrays, colnames)\n",
    "identical(dataColNames, supColNames)"
   ]
  },
  {
   "cell_type": "code",
   "execution_count": 5,
   "metadata": {},
   "outputs": [
    {
     "data": {
      "text/html": [
       "<style>\n",
       ".list-inline {list-style: none; margin:0; padding: 0}\n",
       ".list-inline>li {display: inline-block}\n",
       ".list-inline>li:not(:last-child)::after {content: \"\\00b7\"; padding: 0 .5ex}\n",
       "</style>\n",
       "<ol class=list-inline><li>'BR.MCF7'</li><li>'BR.MDA_MB_231'</li><li>'BR.HS578T'</li><li>'BR.BT_549'</li><li>'BR.T47D'</li><li>'CNS.SF_268'</li><li>'CNS.SF_295'</li><li>'CNS.SF_539'</li><li>'CNS.SNB_19'</li><li>'CNS.SNB_75'</li><li>'CNS.U251'</li><li>'CO.COLO205'</li><li>'CO.HCC_2998'</li><li>'CO.HCT_116'</li><li>'CO.HCT_15'</li><li>'CO.HT29'</li><li>'CO.KM12'</li><li>'CO.SW_620'</li><li>'LE.CCRF_CEM'</li><li>'LE.HL_60'</li><li>'LE.K_562'</li><li>'LE.MOLT_4'</li><li>'LE.RPMI_8226'</li><li>'LE.SR'</li><li>'ME.LOXIMVI'</li><li>'ME.MALME_3M'</li><li>'ME.M14'</li><li>'ME.SK_MEL_2'</li><li>'ME.SK_MEL_28'</li><li>'ME.SK_MEL_5'</li><li>'ME.UACC_257'</li><li>'ME.UACC_62'</li><li>'ME.MDA_MB_435'</li><li>'ME.MDA_N'</li><li>'LC.A549'</li><li>'LC.EKVX'</li><li>'LC.HOP_62'</li><li>'LC.HOP_92'</li><li>'LC.NCI_H226'</li><li>'LC.NCI_H23'</li><li>'LC.NCI_H322M'</li><li>'LC.NCI_H460'</li><li>'LC.NCI_H522'</li><li>'OV.IGROV1'</li><li>'OV.OVCAR_3'</li><li>'OV.OVCAR_4'</li><li>'OV.OVCAR_5'</li><li>'OV.OVCAR_8'</li><li>'OV.SK_OV_3'</li><li>'OV.NCI_ADR_RES'</li><li>'PR.PC_3'</li><li>'PR.DU_145'</li><li>'RE.786_0'</li><li>'RE.A498'</li><li>'RE.ACHN'</li><li>'RE.CAKI_1'</li><li>'RE.RXF_393'</li><li>'RE.SN12C'</li><li>'RE.TK_10'</li><li>'RE.UO_31'</li></ol>\n"
      ],
      "text/latex": [
       "\\begin{enumerate*}\n",
       "\\item 'BR.MCF7'\n",
       "\\item 'BR.MDA\\_MB\\_231'\n",
       "\\item 'BR.HS578T'\n",
       "\\item 'BR.BT\\_549'\n",
       "\\item 'BR.T47D'\n",
       "\\item 'CNS.SF\\_268'\n",
       "\\item 'CNS.SF\\_295'\n",
       "\\item 'CNS.SF\\_539'\n",
       "\\item 'CNS.SNB\\_19'\n",
       "\\item 'CNS.SNB\\_75'\n",
       "\\item 'CNS.U251'\n",
       "\\item 'CO.COLO205'\n",
       "\\item 'CO.HCC\\_2998'\n",
       "\\item 'CO.HCT\\_116'\n",
       "\\item 'CO.HCT\\_15'\n",
       "\\item 'CO.HT29'\n",
       "\\item 'CO.KM12'\n",
       "\\item 'CO.SW\\_620'\n",
       "\\item 'LE.CCRF\\_CEM'\n",
       "\\item 'LE.HL\\_60'\n",
       "\\item 'LE.K\\_562'\n",
       "\\item 'LE.MOLT\\_4'\n",
       "\\item 'LE.RPMI\\_8226'\n",
       "\\item 'LE.SR'\n",
       "\\item 'ME.LOXIMVI'\n",
       "\\item 'ME.MALME\\_3M'\n",
       "\\item 'ME.M14'\n",
       "\\item 'ME.SK\\_MEL\\_2'\n",
       "\\item 'ME.SK\\_MEL\\_28'\n",
       "\\item 'ME.SK\\_MEL\\_5'\n",
       "\\item 'ME.UACC\\_257'\n",
       "\\item 'ME.UACC\\_62'\n",
       "\\item 'ME.MDA\\_MB\\_435'\n",
       "\\item 'ME.MDA\\_N'\n",
       "\\item 'LC.A549'\n",
       "\\item 'LC.EKVX'\n",
       "\\item 'LC.HOP\\_62'\n",
       "\\item 'LC.HOP\\_92'\n",
       "\\item 'LC.NCI\\_H226'\n",
       "\\item 'LC.NCI\\_H23'\n",
       "\\item 'LC.NCI\\_H322M'\n",
       "\\item 'LC.NCI\\_H460'\n",
       "\\item 'LC.NCI\\_H522'\n",
       "\\item 'OV.IGROV1'\n",
       "\\item 'OV.OVCAR\\_3'\n",
       "\\item 'OV.OVCAR\\_4'\n",
       "\\item 'OV.OVCAR\\_5'\n",
       "\\item 'OV.OVCAR\\_8'\n",
       "\\item 'OV.SK\\_OV\\_3'\n",
       "\\item 'OV.NCI\\_ADR\\_RES'\n",
       "\\item 'PR.PC\\_3'\n",
       "\\item 'PR.DU\\_145'\n",
       "\\item 'RE.786\\_0'\n",
       "\\item 'RE.A498'\n",
       "\\item 'RE.ACHN'\n",
       "\\item 'RE.CAKI\\_1'\n",
       "\\item 'RE.RXF\\_393'\n",
       "\\item 'RE.SN12C'\n",
       "\\item 'RE.TK\\_10'\n",
       "\\item 'RE.UO\\_31'\n",
       "\\end{enumerate*}\n"
      ],
      "text/markdown": [
       "1. 'BR.MCF7'\n",
       "2. 'BR.MDA_MB_231'\n",
       "3. 'BR.HS578T'\n",
       "4. 'BR.BT_549'\n",
       "5. 'BR.T47D'\n",
       "6. 'CNS.SF_268'\n",
       "7. 'CNS.SF_295'\n",
       "8. 'CNS.SF_539'\n",
       "9. 'CNS.SNB_19'\n",
       "10. 'CNS.SNB_75'\n",
       "11. 'CNS.U251'\n",
       "12. 'CO.COLO205'\n",
       "13. 'CO.HCC_2998'\n",
       "14. 'CO.HCT_116'\n",
       "15. 'CO.HCT_15'\n",
       "16. 'CO.HT29'\n",
       "17. 'CO.KM12'\n",
       "18. 'CO.SW_620'\n",
       "19. 'LE.CCRF_CEM'\n",
       "20. 'LE.HL_60'\n",
       "21. 'LE.K_562'\n",
       "22. 'LE.MOLT_4'\n",
       "23. 'LE.RPMI_8226'\n",
       "24. 'LE.SR'\n",
       "25. 'ME.LOXIMVI'\n",
       "26. 'ME.MALME_3M'\n",
       "27. 'ME.M14'\n",
       "28. 'ME.SK_MEL_2'\n",
       "29. 'ME.SK_MEL_28'\n",
       "30. 'ME.SK_MEL_5'\n",
       "31. 'ME.UACC_257'\n",
       "32. 'ME.UACC_62'\n",
       "33. 'ME.MDA_MB_435'\n",
       "34. 'ME.MDA_N'\n",
       "35. 'LC.A549'\n",
       "36. 'LC.EKVX'\n",
       "37. 'LC.HOP_62'\n",
       "38. 'LC.HOP_92'\n",
       "39. 'LC.NCI_H226'\n",
       "40. 'LC.NCI_H23'\n",
       "41. 'LC.NCI_H322M'\n",
       "42. 'LC.NCI_H460'\n",
       "43. 'LC.NCI_H522'\n",
       "44. 'OV.IGROV1'\n",
       "45. 'OV.OVCAR_3'\n",
       "46. 'OV.OVCAR_4'\n",
       "47. 'OV.OVCAR_5'\n",
       "48. 'OV.OVCAR_8'\n",
       "49. 'OV.SK_OV_3'\n",
       "50. 'OV.NCI_ADR_RES'\n",
       "51. 'PR.PC_3'\n",
       "52. 'PR.DU_145'\n",
       "53. 'RE.786_0'\n",
       "54. 'RE.A498'\n",
       "55. 'RE.ACHN'\n",
       "56. 'RE.CAKI_1'\n",
       "57. 'RE.RXF_393'\n",
       "58. 'RE.SN12C'\n",
       "59. 'RE.TK_10'\n",
       "60. 'RE.UO_31'\n",
       "\n",
       "\n"
      ],
      "text/plain": [
       " [1] \"BR.MCF7\"        \"BR.MDA_MB_231\"  \"BR.HS578T\"      \"BR.BT_549\"     \n",
       " [5] \"BR.T47D\"        \"CNS.SF_268\"     \"CNS.SF_295\"     \"CNS.SF_539\"    \n",
       " [9] \"CNS.SNB_19\"     \"CNS.SNB_75\"     \"CNS.U251\"       \"CO.COLO205\"    \n",
       "[13] \"CO.HCC_2998\"    \"CO.HCT_116\"     \"CO.HCT_15\"      \"CO.HT29\"       \n",
       "[17] \"CO.KM12\"        \"CO.SW_620\"      \"LE.CCRF_CEM\"    \"LE.HL_60\"      \n",
       "[21] \"LE.K_562\"       \"LE.MOLT_4\"      \"LE.RPMI_8226\"   \"LE.SR\"         \n",
       "[25] \"ME.LOXIMVI\"     \"ME.MALME_3M\"    \"ME.M14\"         \"ME.SK_MEL_2\"   \n",
       "[29] \"ME.SK_MEL_28\"   \"ME.SK_MEL_5\"    \"ME.UACC_257\"    \"ME.UACC_62\"    \n",
       "[33] \"ME.MDA_MB_435\"  \"ME.MDA_N\"       \"LC.A549\"        \"LC.EKVX\"       \n",
       "[37] \"LC.HOP_62\"      \"LC.HOP_92\"      \"LC.NCI_H226\"    \"LC.NCI_H23\"    \n",
       "[41] \"LC.NCI_H322M\"   \"LC.NCI_H460\"    \"LC.NCI_H522\"    \"OV.IGROV1\"     \n",
       "[45] \"OV.OVCAR_3\"     \"OV.OVCAR_4\"     \"OV.OVCAR_5\"     \"OV.OVCAR_8\"    \n",
       "[49] \"OV.SK_OV_3\"     \"OV.NCI_ADR_RES\" \"PR.PC_3\"        \"PR.DU_145\"     \n",
       "[53] \"RE.786_0\"       \"RE.A498\"        \"RE.ACHN\"        \"RE.CAKI_1\"     \n",
       "[57] \"RE.RXF_393\"     \"RE.SN12C\"       \"RE.TK_10\"       \"RE.UO_31\"      "
      ]
     },
     "metadata": {},
     "output_type": "display_data"
    }
   ],
   "source": [
    "colnames(NCI60_4arrays$agilent)"
   ]
  },
  {
   "cell_type": "code",
   "execution_count": 6,
   "metadata": {},
   "outputs": [
    {
     "data": {
      "text/html": [
       "<style>\n",
       ".list-inline {list-style: none; margin:0; padding: 0}\n",
       ".list-inline>li {display: inline-block}\n",
       ".list-inline>li:not(:last-child)::after {content: \"\\00b7\"; padding: 0 .5ex}\n",
       "</style>\n",
       "<ol class=list-inline><li>BR</li><li>BR</li><li>BR</li><li>BR</li><li>BR</li><li>CN</li><li>CN</li><li>CN</li><li>CN</li><li>CN</li><li>CN</li><li>CO</li><li>CO</li><li>CO</li><li>CO</li><li>CO</li><li>CO</li><li>CO</li><li>LE</li><li>LE</li><li>LE</li><li>LE</li><li>LE</li><li>LE</li><li>ME</li><li>ME</li><li>ME</li><li>ME</li><li>ME</li><li>ME</li><li>ME</li><li>ME</li><li>ME</li><li>ME</li><li>LC</li><li>LC</li><li>LC</li><li>LC</li><li>LC</li><li>LC</li><li>LC</li><li>LC</li><li>LC</li><li>OV</li><li>OV</li><li>OV</li><li>OV</li><li>OV</li><li>OV</li><li>OV</li><li>PR</li><li>PR</li><li>RE</li><li>RE</li><li>RE</li><li>RE</li><li>RE</li><li>RE</li><li>RE</li><li>RE</li></ol>\n",
       "\n",
       "<details>\n",
       "\t<summary style=display:list-item;cursor:pointer>\n",
       "\t\t<strong>Levels</strong>:\n",
       "\t</summary>\n",
       "\t<style>\n",
       "\t.list-inline {list-style: none; margin:0; padding: 0}\n",
       "\t.list-inline>li {display: inline-block}\n",
       "\t.list-inline>li:not(:last-child)::after {content: \"\\00b7\"; padding: 0 .5ex}\n",
       "\t</style>\n",
       "\t<ol class=list-inline><li>'BR'</li><li>'CN'</li><li>'CO'</li><li>'LC'</li><li>'LE'</li><li>'ME'</li><li>'OV'</li><li>'PR'</li><li>'RE'</li></ol>\n",
       "</details>"
      ],
      "text/latex": [
       "\\begin{enumerate*}\n",
       "\\item BR\n",
       "\\item BR\n",
       "\\item BR\n",
       "\\item BR\n",
       "\\item BR\n",
       "\\item CN\n",
       "\\item CN\n",
       "\\item CN\n",
       "\\item CN\n",
       "\\item CN\n",
       "\\item CN\n",
       "\\item CO\n",
       "\\item CO\n",
       "\\item CO\n",
       "\\item CO\n",
       "\\item CO\n",
       "\\item CO\n",
       "\\item CO\n",
       "\\item LE\n",
       "\\item LE\n",
       "\\item LE\n",
       "\\item LE\n",
       "\\item LE\n",
       "\\item LE\n",
       "\\item ME\n",
       "\\item ME\n",
       "\\item ME\n",
       "\\item ME\n",
       "\\item ME\n",
       "\\item ME\n",
       "\\item ME\n",
       "\\item ME\n",
       "\\item ME\n",
       "\\item ME\n",
       "\\item LC\n",
       "\\item LC\n",
       "\\item LC\n",
       "\\item LC\n",
       "\\item LC\n",
       "\\item LC\n",
       "\\item LC\n",
       "\\item LC\n",
       "\\item LC\n",
       "\\item OV\n",
       "\\item OV\n",
       "\\item OV\n",
       "\\item OV\n",
       "\\item OV\n",
       "\\item OV\n",
       "\\item OV\n",
       "\\item PR\n",
       "\\item PR\n",
       "\\item RE\n",
       "\\item RE\n",
       "\\item RE\n",
       "\\item RE\n",
       "\\item RE\n",
       "\\item RE\n",
       "\\item RE\n",
       "\\item RE\n",
       "\\end{enumerate*}\n",
       "\n",
       "\\emph{Levels}: \\begin{enumerate*}\n",
       "\\item 'BR'\n",
       "\\item 'CN'\n",
       "\\item 'CO'\n",
       "\\item 'LC'\n",
       "\\item 'LE'\n",
       "\\item 'ME'\n",
       "\\item 'OV'\n",
       "\\item 'PR'\n",
       "\\item 'RE'\n",
       "\\end{enumerate*}\n"
      ],
      "text/markdown": [
       "1. BR\n",
       "2. BR\n",
       "3. BR\n",
       "4. BR\n",
       "5. BR\n",
       "6. CN\n",
       "7. CN\n",
       "8. CN\n",
       "9. CN\n",
       "10. CN\n",
       "11. CN\n",
       "12. CO\n",
       "13. CO\n",
       "14. CO\n",
       "15. CO\n",
       "16. CO\n",
       "17. CO\n",
       "18. CO\n",
       "19. LE\n",
       "20. LE\n",
       "21. LE\n",
       "22. LE\n",
       "23. LE\n",
       "24. LE\n",
       "25. ME\n",
       "26. ME\n",
       "27. ME\n",
       "28. ME\n",
       "29. ME\n",
       "30. ME\n",
       "31. ME\n",
       "32. ME\n",
       "33. ME\n",
       "34. ME\n",
       "35. LC\n",
       "36. LC\n",
       "37. LC\n",
       "38. LC\n",
       "39. LC\n",
       "40. LC\n",
       "41. LC\n",
       "42. LC\n",
       "43. LC\n",
       "44. OV\n",
       "45. OV\n",
       "46. OV\n",
       "47. OV\n",
       "48. OV\n",
       "49. OV\n",
       "50. OV\n",
       "51. PR\n",
       "52. PR\n",
       "53. RE\n",
       "54. RE\n",
       "55. RE\n",
       "56. RE\n",
       "57. RE\n",
       "58. RE\n",
       "59. RE\n",
       "60. RE\n",
       "\n",
       "\n",
       "\n",
       "**Levels**: 1. 'BR'\n",
       "2. 'CN'\n",
       "3. 'CO'\n",
       "4. 'LC'\n",
       "5. 'LE'\n",
       "6. 'ME'\n",
       "7. 'OV'\n",
       "8. 'PR'\n",
       "9. 'RE'\n",
       "\n",
       "\n"
      ],
      "text/plain": [
       " [1] BR BR BR BR BR CN CN CN CN CN CN CO CO CO CO CO CO CO LE LE LE LE LE LE ME\n",
       "[26] ME ME ME ME ME ME ME ME ME LC LC LC LC LC LC LC LC LC OV OV OV OV OV OV OV\n",
       "[51] PR PR RE RE RE RE RE RE RE RE\n",
       "Levels: BR CN CO LC LE ME OV PR RE"
      ]
     },
     "metadata": {},
     "output_type": "display_data"
    },
    {
     "data": {
      "text/html": [
       "<style>\n",
       ".list-inline {list-style: none; margin:0; padding: 0}\n",
       ".list-inline>li {display: inline-block}\n",
       ".list-inline>li:not(:last-child)::after {content: \"\\00b7\"; padding: 0 .5ex}\n",
       "</style>\n",
       "<ol class=list-inline><li>'black'</li><li>'black'</li><li>'black'</li><li>'black'</li><li>'black'</li><li>'red'</li><li>'red'</li><li>'red'</li><li>'red'</li><li>'red'</li><li>'red'</li><li>'green'</li><li>'green'</li><li>'green'</li><li>'green'</li><li>'green'</li><li>'green'</li><li>'green'</li><li>'cyan'</li><li>'cyan'</li><li>'cyan'</li><li>'cyan'</li><li>'cyan'</li><li>'cyan'</li><li>'brown'</li><li>'brown'</li><li>'brown'</li><li>'brown'</li><li>'brown'</li><li>'brown'</li><li>'brown'</li><li>'brown'</li><li>'brown'</li><li>'brown'</li><li>'blue'</li><li>'blue'</li><li>'blue'</li><li>'blue'</li><li>'blue'</li><li>'blue'</li><li>'blue'</li><li>'blue'</li><li>'blue'</li><li>'pink'</li><li>'pink'</li><li>'pink'</li><li>'pink'</li><li>'pink'</li><li>'pink'</li><li>'pink'</li><li>'gray'</li><li>'gray'</li><li>'orange'</li><li>'orange'</li><li>'orange'</li><li>'orange'</li><li>'orange'</li><li>'orange'</li><li>'orange'</li><li>'orange'</li></ol>\n"
      ],
      "text/latex": [
       "\\begin{enumerate*}\n",
       "\\item 'black'\n",
       "\\item 'black'\n",
       "\\item 'black'\n",
       "\\item 'black'\n",
       "\\item 'black'\n",
       "\\item 'red'\n",
       "\\item 'red'\n",
       "\\item 'red'\n",
       "\\item 'red'\n",
       "\\item 'red'\n",
       "\\item 'red'\n",
       "\\item 'green'\n",
       "\\item 'green'\n",
       "\\item 'green'\n",
       "\\item 'green'\n",
       "\\item 'green'\n",
       "\\item 'green'\n",
       "\\item 'green'\n",
       "\\item 'cyan'\n",
       "\\item 'cyan'\n",
       "\\item 'cyan'\n",
       "\\item 'cyan'\n",
       "\\item 'cyan'\n",
       "\\item 'cyan'\n",
       "\\item 'brown'\n",
       "\\item 'brown'\n",
       "\\item 'brown'\n",
       "\\item 'brown'\n",
       "\\item 'brown'\n",
       "\\item 'brown'\n",
       "\\item 'brown'\n",
       "\\item 'brown'\n",
       "\\item 'brown'\n",
       "\\item 'brown'\n",
       "\\item 'blue'\n",
       "\\item 'blue'\n",
       "\\item 'blue'\n",
       "\\item 'blue'\n",
       "\\item 'blue'\n",
       "\\item 'blue'\n",
       "\\item 'blue'\n",
       "\\item 'blue'\n",
       "\\item 'blue'\n",
       "\\item 'pink'\n",
       "\\item 'pink'\n",
       "\\item 'pink'\n",
       "\\item 'pink'\n",
       "\\item 'pink'\n",
       "\\item 'pink'\n",
       "\\item 'pink'\n",
       "\\item 'gray'\n",
       "\\item 'gray'\n",
       "\\item 'orange'\n",
       "\\item 'orange'\n",
       "\\item 'orange'\n",
       "\\item 'orange'\n",
       "\\item 'orange'\n",
       "\\item 'orange'\n",
       "\\item 'orange'\n",
       "\\item 'orange'\n",
       "\\end{enumerate*}\n"
      ],
      "text/markdown": [
       "1. 'black'\n",
       "2. 'black'\n",
       "3. 'black'\n",
       "4. 'black'\n",
       "5. 'black'\n",
       "6. 'red'\n",
       "7. 'red'\n",
       "8. 'red'\n",
       "9. 'red'\n",
       "10. 'red'\n",
       "11. 'red'\n",
       "12. 'green'\n",
       "13. 'green'\n",
       "14. 'green'\n",
       "15. 'green'\n",
       "16. 'green'\n",
       "17. 'green'\n",
       "18. 'green'\n",
       "19. 'cyan'\n",
       "20. 'cyan'\n",
       "21. 'cyan'\n",
       "22. 'cyan'\n",
       "23. 'cyan'\n",
       "24. 'cyan'\n",
       "25. 'brown'\n",
       "26. 'brown'\n",
       "27. 'brown'\n",
       "28. 'brown'\n",
       "29. 'brown'\n",
       "30. 'brown'\n",
       "31. 'brown'\n",
       "32. 'brown'\n",
       "33. 'brown'\n",
       "34. 'brown'\n",
       "35. 'blue'\n",
       "36. 'blue'\n",
       "37. 'blue'\n",
       "38. 'blue'\n",
       "39. 'blue'\n",
       "40. 'blue'\n",
       "41. 'blue'\n",
       "42. 'blue'\n",
       "43. 'blue'\n",
       "44. 'pink'\n",
       "45. 'pink'\n",
       "46. 'pink'\n",
       "47. 'pink'\n",
       "48. 'pink'\n",
       "49. 'pink'\n",
       "50. 'pink'\n",
       "51. 'gray'\n",
       "52. 'gray'\n",
       "53. 'orange'\n",
       "54. 'orange'\n",
       "55. 'orange'\n",
       "56. 'orange'\n",
       "57. 'orange'\n",
       "58. 'orange'\n",
       "59. 'orange'\n",
       "60. 'orange'\n",
       "\n",
       "\n"
      ],
      "text/plain": [
       " [1] \"black\"  \"black\"  \"black\"  \"black\"  \"black\"  \"red\"    \"red\"    \"red\"   \n",
       " [9] \"red\"    \"red\"    \"red\"    \"green\"  \"green\"  \"green\"  \"green\"  \"green\" \n",
       "[17] \"green\"  \"green\"  \"cyan\"   \"cyan\"   \"cyan\"   \"cyan\"   \"cyan\"   \"cyan\"  \n",
       "[25] \"brown\"  \"brown\"  \"brown\"  \"brown\"  \"brown\"  \"brown\"  \"brown\"  \"brown\" \n",
       "[33] \"brown\"  \"brown\"  \"blue\"   \"blue\"   \"blue\"   \"blue\"   \"blue\"   \"blue\"  \n",
       "[41] \"blue\"   \"blue\"   \"blue\"   \"pink\"   \"pink\"   \"pink\"   \"pink\"   \"pink\"  \n",
       "[49] \"pink\"   \"pink\"   \"gray\"   \"gray\"   \"orange\" \"orange\" \"orange\" \"orange\"\n",
       "[57] \"orange\" \"orange\" \"orange\" \"orange\""
      ]
     },
     "metadata": {},
     "output_type": "display_data"
    }
   ],
   "source": [
    "# Before applying mogsa, we first define a factor describing the tissue of origin of cell lines \n",
    "# and color code, which will be used later.\n",
    "cancerType = as.factor(substr(colnames(NCI60_4arrays$agilent), 1, 2))   # define cancer type\n",
    "cancerType\n",
    "colcode = cancerType # define color code to distinguish cancer types\n",
    "levels(colcode) = c(\"black\", \"red\", \"green\", \"blue\",\n",
    "                     \"cyan\", \"brown\", \"pink\", \"gray\", \"orange\")\n",
    "colcode = as.character(colcode)\n",
    "colcode"
   ]
  },
  {
   "cell_type": "markdown",
   "metadata": {},
   "source": [
    "## <a id=link4>2. Method application</a>\n",
    "\n",
    "To run MOGSA:"
   ]
  },
  {
   "cell_type": "code",
   "execution_count": 7,
   "metadata": {},
   "outputs": [],
   "source": [
    "mgsa1 = mogsa(x = NCI60_4arrays, sup=NCI60_4array_supdata, nf=3,\n",
    "               proc.row = \"center_ssq1\", w.data = \"inertia\", statis = TRUE)"
   ]
  },
  {
   "cell_type": "code",
   "execution_count": 8,
   "metadata": {},
   "outputs": [
    {
     "data": {
      "text/plain": [
       "$`@call`\n",
       "mogsa(x = NCI60_4arrays, sup = NCI60_4array_supdata, nf = 3, \n",
       "    proc.row = \"center_ssq1\", w.data = \"inertia\", statis = TRUE)\n",
       "\n",
       "$`@moa`\n",
       "$`@moa`$`@call`\n",
       "moa(data = data, proc.row = proc.row, w.data = w.data, w.row = w.row, \n",
       "    statis = statis)\n",
       "\n",
       "$`@moa`$`@tab.dim`\n",
       "    agilent hgu133 hgu133p2 hgu95\n",
       "row     300    298      268   288\n",
       "col      60     60       60    60\n",
       "\n",
       "$`@moa`$`@ids`\n",
       "$`@moa`$`@ids`$agilent\n",
       "[1] \"ST8SIA1\" \"YWHAQ\"   \"EPHA4\"   \"GTPBP5\"  \"PVR\"     \"ATP6V1H\"\n",
       "\n",
       "$`@moa`$`@ids`$hgu133\n",
       "[1] \"SDC1\"    \"CD3D\"    \"GPR137B\" \"GSDMB\"   \"ANO9\"    \"AREG\"   \n",
       "\n",
       "$`@moa`$`@ids`$hgu133p2\n",
       "[1] \"RAB1A\"     \"LOC441108\" \"HSPA2\"     \"SNCA\"      \"CSNK2A2\"   \"MXD4\"     \n",
       "\n",
       "$`@moa`$`@ids`$hgu95\n",
       "[1] \"USE1\"    \"ARHGAP8\" \"ASS1\"    \"TSPAN4\"  \"ITSN1\"   \"CITED1\" \n",
       "\n",
       "\n",
       "$`@moa`$`@RV`\n",
       "           agilent    hgu133  hgu133p2     hgu95\n",
       "agilent  1.0000000 0.8140001 0.8120062 0.8323821\n",
       "hgu133   0.8140001 1.0000000 0.9235320 0.9437341\n",
       "hgu133p2 0.8120062 0.9235320 1.0000000 0.9273373\n",
       "hgu95    0.8323821 0.9437341 0.9273373 1.0000000\n",
       "\n",
       "$`@moa`$`@eig`\n",
       "[1] 0.0028576935 0.0021327073 0.0013602003 0.0008274678 0.0006243386\n",
       "[6] 0.0005132536\n",
       "\n",
       "$`@moa`$`@fac.scr`\n",
       "      PC1                PC2                 PC3                 PC4           \n",
       " Min.   :-0.06904   Min.   :-0.050640   Min.   :-0.094157   Min.   :-0.049786  \n",
       " 1st Qu.:-0.03461   1st Qu.:-0.029743   1st Qu.:-0.022558   1st Qu.:-0.021360  \n",
       " Median :-0.01188   Median :-0.018190   Median :-0.004879   Median : 0.006259  \n",
       " Mean   : 0.00000   Mean   : 0.000000   Mean   : 0.000000   Mean   : 0.000000  \n",
       " 3rd Qu.: 0.01242   3rd Qu.: 0.005939   3rd Qu.: 0.018278   3rd Qu.: 0.017840  \n",
       " Max.   : 0.15175   Max.   : 0.119586   Max.   : 0.100569   Max.   : 0.062258  \n",
       "      PC5                 PC6            \n",
       " Min.   :-0.064124   Min.   :-0.0592341  \n",
       " 1st Qu.:-0.011590   1st Qu.:-0.0146632  \n",
       " Median :-0.001253   Median :-0.0003752  \n",
       " Mean   : 0.000000   Mean   : 0.0000000  \n",
       " 3rd Qu.: 0.017246   3rd Qu.: 0.0124860  \n",
       " Max.   : 0.056641   Max.   : 0.0491109  \n",
       "\n",
       "$`@moa`$`@loading`\n",
       "       V1                 V2                   V3                 V4         \n",
       " Min.   :-2.10287   Min.   :-1.9641673   Min.   :-2.37180   Min.   :-2.9265  \n",
       " 1st Qu.:-0.90898   1st Qu.:-0.7672952   1st Qu.:-0.67583   1st Qu.:-0.4509  \n",
       " Median :-0.16330   Median :-0.1405698   Median : 0.09776   Median : 0.1460  \n",
       " Mean   :-0.07716   Mean   : 0.0000104   Mean   : 0.09250   Mean   : 0.1871  \n",
       " 3rd Qu.: 0.78420   3rd Qu.: 0.6665400   3rd Qu.: 0.82618   3rd Qu.: 0.7187  \n",
       " Max.   : 2.01356   Max.   : 2.6028427   Max.   : 2.68980   Max.   : 3.6340  \n",
       "       V5                V6          \n",
       " Min.   :-3.2895   Min.   :-3.36413  \n",
       " 1st Qu.:-0.8539   1st Qu.:-0.53050  \n",
       " Median :-0.1461   Median : 0.07014  \n",
       " Mean   :-0.1946   Mean   : 0.11824  \n",
       " 3rd Qu.: 0.4567   3rd Qu.: 0.75438  \n",
       " Max.   : 3.0402   Max.   : 3.23929  \n",
       "\n",
       "\n",
       "$`@sup`\n",
       "$`@sup`$`@sup.dim`\n",
       "     agilent hgu133 hgu133p2 hgu95\n",
       "[1,]     300    298      268   288\n",
       "[2,]     150    150      150   150\n",
       "\n",
       "$`@sup`$`@score`\n",
       "    BR.MCF7           BR.MDA_MB_231          BR.HS578T         \n",
       " Min.   :-0.0033966   Min.   :-1.592e-03   Min.   :-0.0025219  \n",
       " 1st Qu.:-0.0010592   1st Qu.:-3.243e-05   1st Qu.: 0.0001200  \n",
       " Median :-0.0005028   Median : 3.629e-04   Median : 0.0007367  \n",
       " Mean   :-0.0005412   Mean   : 4.298e-04   Mean   : 0.0008538  \n",
       " 3rd Qu.:-0.0001072   3rd Qu.: 8.225e-04   3rd Qu.: 0.0016330  \n",
       " Max.   : 0.0021499   Max.   : 3.051e-03   Max.   : 0.0059614  \n",
       "   BR.BT_549             BR.T47D             CNS.SF_268        \n",
       " Min.   :-2.048e-03   Min.   :-1.126e-03   Min.   :-0.0021838  \n",
       " 1st Qu.: 5.706e-05   1st Qu.:-2.490e-04   1st Qu.: 0.0000415  \n",
       " Median : 4.257e-04   Median :-7.647e-06   Median : 0.0005540  \n",
       " Mean   : 5.576e-04   Mean   : 1.234e-05   Mean   : 0.0006788  \n",
       " 3rd Qu.: 1.123e-03   3rd Qu.: 2.353e-04   3rd Qu.: 0.0013191  \n",
       " Max.   : 4.437e-03   Max.   : 1.082e-03   Max.   : 0.0054488  \n",
       "\n",
       "$`@sup`$`@gsets`\n",
       "[1] \"ORGANELLE_PART\"               \"INTRINSIC_TO_PLASMA_MEMBRANE\"\n",
       "[3] \"CYTOPLASMIC_PART\"             \"NON_MEMBRANE_BOUND_ORGANELLE\"\n",
       "[5] \"INTEGRAL_TO_MEMBRANE\"         \"INTEGRAL_TO_PLASMA_MEMBRANE\" \n",
       "\n"
      ]
     },
     "metadata": {},
     "output_type": "display_data"
    }
   ],
   "source": [
    "mgsa1"
   ]
  },
  {
   "cell_type": "markdown",
   "metadata": {},
   "source": [
    "## <a id=link5>3. Result analysis and interpretation</a> \n",
    "The `mogsa` function returns an object of class `mgsa`. This information could be extracted with function `getmgsa`. First, we want to know the variance explained by each PC on different datasets."
   ]
  },
  {
   "cell_type": "code",
   "execution_count": 9,
   "metadata": {},
   "outputs": [
    {
     "data": {
      "text/html": [
       "<table>\n",
       "<caption>A data.frame: 4 × 60</caption>\n",
       "<thead>\n",
       "\t<tr><th></th><th scope=col>PC1</th><th scope=col>PC2</th><th scope=col>PC3</th><th scope=col>PC4</th><th scope=col>PC5</th><th scope=col>PC6</th><th scope=col>PC7</th><th scope=col>PC8</th><th scope=col>PC9</th><th scope=col>PC10</th><th scope=col>...</th><th scope=col>PC51</th><th scope=col>PC52</th><th scope=col>PC53</th><th scope=col>PC54</th><th scope=col>PC55</th><th scope=col>PC56</th><th scope=col>PC57</th><th scope=col>PC58</th><th scope=col>PC59</th><th scope=col>PC60</th></tr>\n",
       "\t<tr><th></th><th scope=col>&lt;dbl&gt;</th><th scope=col>&lt;dbl&gt;</th><th scope=col>&lt;dbl&gt;</th><th scope=col>&lt;dbl&gt;</th><th scope=col>&lt;dbl&gt;</th><th scope=col>&lt;dbl&gt;</th><th scope=col>&lt;dbl&gt;</th><th scope=col>&lt;dbl&gt;</th><th scope=col>&lt;dbl&gt;</th><th scope=col>&lt;dbl&gt;</th><th scope=col>...</th><th scope=col>&lt;dbl&gt;</th><th scope=col>&lt;dbl&gt;</th><th scope=col>&lt;dbl&gt;</th><th scope=col>&lt;dbl&gt;</th><th scope=col>&lt;dbl&gt;</th><th scope=col>&lt;dbl&gt;</th><th scope=col>&lt;dbl&gt;</th><th scope=col>&lt;dbl&gt;</th><th scope=col>&lt;dbl&gt;</th><th scope=col>&lt;dbl&gt;</th></tr>\n",
       "</thead>\n",
       "<tbody>\n",
       "\t<tr><th scope=row>agilent</th><td>0.0005406833</td><td>0.0004119778</td><td>0.0002410063</td><td>0.0004038087</td><td>0.0001317894</td><td>0.0001783712</td><td>0.0001102046</td><td>7.647035e-05</td><td>9.255591e-05</td><td>7.623495e-05</td><td>...</td><td>1.766688e-05</td><td>1.573844e-05</td><td>1.789202e-05</td><td>1.588216e-05</td><td>1.371554e-05</td><td>1.489570e-05</td><td>1.278135e-05</td><td>7.710620e-06</td><td>8.292575e-06</td><td>4.905560e-34</td></tr>\n",
       "\t<tr><th scope=row>hgu133</th><td>0.0007410830</td><td>0.0005850680</td><td>0.0003507538</td><td>0.0001448788</td><td>0.0001685482</td><td>0.0001042850</td><td>0.0001141451</td><td>9.152286e-05</td><td>9.233171e-05</td><td>8.127548e-05</td><td>...</td><td>1.927263e-05</td><td>2.064648e-05</td><td>1.792612e-05</td><td>1.790954e-05</td><td>2.044984e-05</td><td>1.566760e-05</td><td>1.370311e-05</td><td>1.091389e-05</td><td>1.483197e-05</td><td>6.034980e-34</td></tr>\n",
       "\t<tr><th scope=row>hgu133p2</th><td>0.0007716595</td><td>0.0005146566</td><td>0.0003742008</td><td>0.0001281515</td><td>0.0001487516</td><td>0.0001203610</td><td>0.0001037556</td><td>1.040017e-04</td><td>8.616141e-05</td><td>7.889696e-05</td><td>...</td><td>2.031250e-05</td><td>1.823293e-05</td><td>1.816761e-05</td><td>1.960108e-05</td><td>1.496160e-05</td><td>1.722105e-05</td><td>1.638918e-05</td><td>2.228523e-05</td><td>9.725357e-06</td><td>6.495037e-34</td></tr>\n",
       "\t<tr><th scope=row>hgu95</th><td>0.0008042677</td><td>0.0006210049</td><td>0.0003942394</td><td>0.0001506287</td><td>0.0001752495</td><td>0.0001102364</td><td>0.0001208737</td><td>1.189579e-04</td><td>7.304858e-05</td><td>9.072314e-05</td><td>...</td><td>1.909173e-05</td><td>1.862061e-05</td><td>1.791124e-05</td><td>1.626488e-05</td><td>1.875370e-05</td><td>1.442530e-05</td><td>1.471469e-05</td><td>1.052441e-05</td><td>8.879026e-06</td><td>6.808613e-34</td></tr>\n",
       "</tbody>\n",
       "</table>\n"
      ],
      "text/latex": [
       "A data.frame: 4 × 60\n",
       "\\begin{tabular}{r|lllllllllllllllllllll}\n",
       "  & PC1 & PC2 & PC3 & PC4 & PC5 & PC6 & PC7 & PC8 & PC9 & PC10 & ... & PC51 & PC52 & PC53 & PC54 & PC55 & PC56 & PC57 & PC58 & PC59 & PC60\\\\\n",
       "  & <dbl> & <dbl> & <dbl> & <dbl> & <dbl> & <dbl> & <dbl> & <dbl> & <dbl> & <dbl> & ... & <dbl> & <dbl> & <dbl> & <dbl> & <dbl> & <dbl> & <dbl> & <dbl> & <dbl> & <dbl>\\\\\n",
       "\\hline\n",
       "\tagilent & 0.0005406833 & 0.0004119778 & 0.0002410063 & 0.0004038087 & 0.0001317894 & 0.0001783712 & 0.0001102046 & 7.647035e-05 & 9.255591e-05 & 7.623495e-05 & ... & 1.766688e-05 & 1.573844e-05 & 1.789202e-05 & 1.588216e-05 & 1.371554e-05 & 1.489570e-05 & 1.278135e-05 & 7.710620e-06 & 8.292575e-06 & 4.905560e-34\\\\\n",
       "\thgu133 & 0.0007410830 & 0.0005850680 & 0.0003507538 & 0.0001448788 & 0.0001685482 & 0.0001042850 & 0.0001141451 & 9.152286e-05 & 9.233171e-05 & 8.127548e-05 & ... & 1.927263e-05 & 2.064648e-05 & 1.792612e-05 & 1.790954e-05 & 2.044984e-05 & 1.566760e-05 & 1.370311e-05 & 1.091389e-05 & 1.483197e-05 & 6.034980e-34\\\\\n",
       "\thgu133p2 & 0.0007716595 & 0.0005146566 & 0.0003742008 & 0.0001281515 & 0.0001487516 & 0.0001203610 & 0.0001037556 & 1.040017e-04 & 8.616141e-05 & 7.889696e-05 & ... & 2.031250e-05 & 1.823293e-05 & 1.816761e-05 & 1.960108e-05 & 1.496160e-05 & 1.722105e-05 & 1.638918e-05 & 2.228523e-05 & 9.725357e-06 & 6.495037e-34\\\\\n",
       "\thgu95 & 0.0008042677 & 0.0006210049 & 0.0003942394 & 0.0001506287 & 0.0001752495 & 0.0001102364 & 0.0001208737 & 1.189579e-04 & 7.304858e-05 & 9.072314e-05 & ... & 1.909173e-05 & 1.862061e-05 & 1.791124e-05 & 1.626488e-05 & 1.875370e-05 & 1.442530e-05 & 1.471469e-05 & 1.052441e-05 & 8.879026e-06 & 6.808613e-34\\\\\n",
       "\\end{tabular}\n"
      ],
      "text/markdown": [
       "\n",
       "A data.frame: 4 × 60\n",
       "\n",
       "| <!--/--> | PC1 &lt;dbl&gt; | PC2 &lt;dbl&gt; | PC3 &lt;dbl&gt; | PC4 &lt;dbl&gt; | PC5 &lt;dbl&gt; | PC6 &lt;dbl&gt; | PC7 &lt;dbl&gt; | PC8 &lt;dbl&gt; | PC9 &lt;dbl&gt; | PC10 &lt;dbl&gt; | ... ... | PC51 &lt;dbl&gt; | PC52 &lt;dbl&gt; | PC53 &lt;dbl&gt; | PC54 &lt;dbl&gt; | PC55 &lt;dbl&gt; | PC56 &lt;dbl&gt; | PC57 &lt;dbl&gt; | PC58 &lt;dbl&gt; | PC59 &lt;dbl&gt; | PC60 &lt;dbl&gt; |\n",
       "|---|---|---|---|---|---|---|---|---|---|---|---|---|---|---|---|---|---|---|---|---|---|\n",
       "| agilent | 0.0005406833 | 0.0004119778 | 0.0002410063 | 0.0004038087 | 0.0001317894 | 0.0001783712 | 0.0001102046 | 7.647035e-05 | 9.255591e-05 | 7.623495e-05 | ... | 1.766688e-05 | 1.573844e-05 | 1.789202e-05 | 1.588216e-05 | 1.371554e-05 | 1.489570e-05 | 1.278135e-05 | 7.710620e-06 | 8.292575e-06 | 4.905560e-34 |\n",
       "| hgu133 | 0.0007410830 | 0.0005850680 | 0.0003507538 | 0.0001448788 | 0.0001685482 | 0.0001042850 | 0.0001141451 | 9.152286e-05 | 9.233171e-05 | 8.127548e-05 | ... | 1.927263e-05 | 2.064648e-05 | 1.792612e-05 | 1.790954e-05 | 2.044984e-05 | 1.566760e-05 | 1.370311e-05 | 1.091389e-05 | 1.483197e-05 | 6.034980e-34 |\n",
       "| hgu133p2 | 0.0007716595 | 0.0005146566 | 0.0003742008 | 0.0001281515 | 0.0001487516 | 0.0001203610 | 0.0001037556 | 1.040017e-04 | 8.616141e-05 | 7.889696e-05 | ... | 2.031250e-05 | 1.823293e-05 | 1.816761e-05 | 1.960108e-05 | 1.496160e-05 | 1.722105e-05 | 1.638918e-05 | 2.228523e-05 | 9.725357e-06 | 6.495037e-34 |\n",
       "| hgu95 | 0.0008042677 | 0.0006210049 | 0.0003942394 | 0.0001506287 | 0.0001752495 | 0.0001102364 | 0.0001208737 | 1.189579e-04 | 7.304858e-05 | 9.072314e-05 | ... | 1.909173e-05 | 1.862061e-05 | 1.791124e-05 | 1.626488e-05 | 1.875370e-05 | 1.442530e-05 | 1.471469e-05 | 1.052441e-05 | 8.879026e-06 | 6.808613e-34 |\n",
       "\n"
      ],
      "text/plain": [
       "         PC1          PC2          PC3          PC4          PC5         \n",
       "agilent  0.0005406833 0.0004119778 0.0002410063 0.0004038087 0.0001317894\n",
       "hgu133   0.0007410830 0.0005850680 0.0003507538 0.0001448788 0.0001685482\n",
       "hgu133p2 0.0007716595 0.0005146566 0.0003742008 0.0001281515 0.0001487516\n",
       "hgu95    0.0008042677 0.0006210049 0.0003942394 0.0001506287 0.0001752495\n",
       "         PC6          PC7          PC8          PC9          PC10         ...\n",
       "agilent  0.0001783712 0.0001102046 7.647035e-05 9.255591e-05 7.623495e-05 ...\n",
       "hgu133   0.0001042850 0.0001141451 9.152286e-05 9.233171e-05 8.127548e-05 ...\n",
       "hgu133p2 0.0001203610 0.0001037556 1.040017e-04 8.616141e-05 7.889696e-05 ...\n",
       "hgu95    0.0001102364 0.0001208737 1.189579e-04 7.304858e-05 9.072314e-05 ...\n",
       "         PC51         PC52         PC53         PC54         PC55        \n",
       "agilent  1.766688e-05 1.573844e-05 1.789202e-05 1.588216e-05 1.371554e-05\n",
       "hgu133   1.927263e-05 2.064648e-05 1.792612e-05 1.790954e-05 2.044984e-05\n",
       "hgu133p2 2.031250e-05 1.823293e-05 1.816761e-05 1.960108e-05 1.496160e-05\n",
       "hgu95    1.909173e-05 1.862061e-05 1.791124e-05 1.626488e-05 1.875370e-05\n",
       "         PC56         PC57         PC58         PC59         PC60        \n",
       "agilent  1.489570e-05 1.278135e-05 7.710620e-06 8.292575e-06 4.905560e-34\n",
       "hgu133   1.566760e-05 1.370311e-05 1.091389e-05 1.483197e-05 6.034980e-34\n",
       "hgu133p2 1.722105e-05 1.638918e-05 2.228523e-05 9.725357e-06 6.495037e-34\n",
       "hgu95    1.442530e-05 1.471469e-05 1.052441e-05 8.879026e-06 6.808613e-34"
      ]
     },
     "metadata": {},
     "output_type": "display_data"
    },
    {
     "data": {
      "image/png": "[encoded data removed]",
      "text/plain": [
       "Plot with title \"Variance of each principal components (PC)\""
      ]
     },
     "metadata": {
      "image/png": {
       "height": 420,
       "width": 420
      },
      "text/plain": {
       "height": 420,
       "width": 420
      }
     },
     "output_type": "display_data"
    }
   ],
   "source": [
    "eigs = getmgsa(mgsa1, \"partial.eig\") # get partial \"eigenvalue\" for separate data\n",
    "eigs\n",
    "barplot(as.matrix(eigs), legend.text = rownames(eigs), \n",
    "        main = \"Variance of each principal components (PC)\")\n",
    "# the contributions of different data are distinguished by different colors"
   ]
  },
  {
   "cell_type": "code",
   "execution_count": 10,
   "metadata": {
    "scrolled": true
   },
   "outputs": [
    {
     "data": {
      "text/html": [
       "<table>\n",
       "<caption>A matrix: 6 × 60 of type dbl</caption>\n",
       "<thead>\n",
       "\t<tr><th></th><th scope=col>BR.MCF7</th><th scope=col>BR.MDA_MB_231</th><th scope=col>BR.HS578T</th><th scope=col>BR.BT_549</th><th scope=col>BR.T47D</th><th scope=col>CNS.SF_268</th><th scope=col>CNS.SF_295</th><th scope=col>CNS.SF_539</th><th scope=col>CNS.SNB_19</th><th scope=col>CNS.SNB_75</th><th scope=col>...</th><th scope=col>PR.PC_3</th><th scope=col>PR.DU_145</th><th scope=col>RE.786_0</th><th scope=col>RE.A498</th><th scope=col>RE.ACHN</th><th scope=col>RE.CAKI_1</th><th scope=col>RE.RXF_393</th><th scope=col>RE.SN12C</th><th scope=col>RE.TK_10</th><th scope=col>RE.UO_31</th></tr>\n",
       "</thead>\n",
       "<tbody>\n",
       "\t<tr><th scope=row>ORGANELLE_PART</th><td> 0.0008387807</td><td>-3.229068e-04</td><td>-9.590523e-04</td><td>-0.0004725457</td><td> 1.820676e-04</td><td>-0.0007320322</td><td>-7.627032e-04</td><td>-1.050955e-03</td><td>-0.0005156010</td><td>-0.0012114695</td><td>...</td><td>-5.418904e-05</td><td>-7.800383e-05</td><td>-3.916225e-04</td><td>-0.0010197994</td><td>-6.114488e-04</td><td>-5.037607e-04</td><td>-0.0008599458</td><td>-3.332888e-04</td><td>-0.0002304620</td><td>-0.0007580615</td></tr>\n",
       "\t<tr><th scope=row>INTRINSIC_TO_PLASMA_MEMBRANE</th><td>-0.0010653632</td><td> 8.815431e-04</td><td> 1.745199e-03</td><td> 0.0012010273</td><td>-1.205989e-04</td><td> 0.0014703266</td><td> 1.334184e-03</td><td> 1.837182e-03</td><td> 0.0009680169</td><td> 0.0019534267</td><td>...</td><td> 2.613985e-04</td><td> 4.896836e-04</td><td> 1.145418e-03</td><td> 0.0019890069</td><td> 1.455491e-03</td><td> 1.245439e-03</td><td> 0.0018334082</td><td> 9.558258e-04</td><td> 0.0008956653</td><td> 0.0016253084</td></tr>\n",
       "\t<tr><th scope=row>CYTOPLASMIC_PART</th><td>-0.0004609780</td><td>-2.903411e-04</td><td>-6.043233e-05</td><td>-0.0004874490</td><td> 1.886775e-04</td><td>-0.0003768300</td><td>-7.114874e-06</td><td>-2.115503e-05</td><td>-0.0002862945</td><td> 0.0001539046</td><td>...</td><td> 1.123678e-04</td><td>-3.890340e-06</td><td>-3.321441e-04</td><td> 0.0003636761</td><td> 1.147635e-04</td><td> 1.899145e-05</td><td>-0.0001352645</td><td>-3.291699e-04</td><td>-0.0001543579</td><td> 0.0001492384</td></tr>\n",
       "\t<tr><th scope=row>NON_MEMBRANE_BOUND_ORGANELLE</th><td> 0.0004135920</td><td>-5.128751e-05</td><td>-3.721301e-04</td><td>-0.0001420564</td><td> 2.382183e-04</td><td>-0.0003121686</td><td>-3.120595e-04</td><td>-4.341660e-04</td><td>-0.0002625194</td><td>-0.0005334135</td><td>...</td><td> 1.019114e-04</td><td> 1.562619e-04</td><td>-1.518226e-05</td><td>-0.0001921503</td><td>-6.318203e-06</td><td>-3.758710e-06</td><td>-0.0002149098</td><td>-3.744667e-05</td><td> 0.0001224327</td><td>-0.0001016338</td></tr>\n",
       "\t<tr><th scope=row>INTEGRAL_TO_MEMBRANE</th><td>-0.0012860465</td><td> 1.136110e-03</td><td> 2.169784e-03</td><td> 0.0015008420</td><td>-2.123663e-05</td><td> 0.0017919690</td><td> 1.649184e-03</td><td> 2.267395e-03</td><td> 0.0011465283</td><td> 0.0023943109</td><td>...</td><td> 4.187309e-04</td><td> 7.426462e-04</td><td> 1.507399e-03</td><td> 0.0026394667</td><td> 1.982591e-03</td><td> 1.688373e-03</td><td> 0.0023607352</td><td> 1.239446e-03</td><td> 0.0012587919</td><td> 0.0021682639</td></tr>\n",
       "\t<tr><th scope=row>INTEGRAL_TO_PLASMA_MEMBRANE</th><td>-0.0010408568</td><td> 8.661045e-04</td><td> 1.712625e-03</td><td> 0.0011846249</td><td>-1.300428e-04</td><td> 0.0014501870</td><td> 1.309378e-03</td><td> 1.803438e-03</td><td> 0.0009576398</td><td> 0.0019161125</td><td>...</td><td> 2.481922e-04</td><td> 4.710082e-04</td><td> 1.122516e-03</td><td> 0.0019339026</td><td> 1.413822e-03</td><td> 1.211511e-03</td><td> 0.0017945670</td><td> 9.387664e-04</td><td> 0.0008706198</td><td> 0.0015816539</td></tr>\n",
       "</tbody>\n",
       "</table>\n"
      ],
      "text/latex": [
       "A matrix: 6 × 60 of type dbl\n",
       "\\begin{tabular}{r|lllllllllllllllllllll}\n",
       "  & BR.MCF7 & BR.MDA\\_MB\\_231 & BR.HS578T & BR.BT\\_549 & BR.T47D & CNS.SF\\_268 & CNS.SF\\_295 & CNS.SF\\_539 & CNS.SNB\\_19 & CNS.SNB\\_75 & ... & PR.PC\\_3 & PR.DU\\_145 & RE.786\\_0 & RE.A498 & RE.ACHN & RE.CAKI\\_1 & RE.RXF\\_393 & RE.SN12C & RE.TK\\_10 & RE.UO\\_31\\\\\n",
       "\\hline\n",
       "\tORGANELLE\\_PART &  0.0008387807 & -3.229068e-04 & -9.590523e-04 & -0.0004725457 &  1.820676e-04 & -0.0007320322 & -7.627032e-04 & -1.050955e-03 & -0.0005156010 & -0.0012114695 & ... & -5.418904e-05 & -7.800383e-05 & -3.916225e-04 & -0.0010197994 & -6.114488e-04 & -5.037607e-04 & -0.0008599458 & -3.332888e-04 & -0.0002304620 & -0.0007580615\\\\\n",
       "\tINTRINSIC\\_TO\\_PLASMA\\_MEMBRANE & -0.0010653632 &  8.815431e-04 &  1.745199e-03 &  0.0012010273 & -1.205989e-04 &  0.0014703266 &  1.334184e-03 &  1.837182e-03 &  0.0009680169 &  0.0019534267 & ... &  2.613985e-04 &  4.896836e-04 &  1.145418e-03 &  0.0019890069 &  1.455491e-03 &  1.245439e-03 &  0.0018334082 &  9.558258e-04 &  0.0008956653 &  0.0016253084\\\\\n",
       "\tCYTOPLASMIC\\_PART & -0.0004609780 & -2.903411e-04 & -6.043233e-05 & -0.0004874490 &  1.886775e-04 & -0.0003768300 & -7.114874e-06 & -2.115503e-05 & -0.0002862945 &  0.0001539046 & ... &  1.123678e-04 & -3.890340e-06 & -3.321441e-04 &  0.0003636761 &  1.147635e-04 &  1.899145e-05 & -0.0001352645 & -3.291699e-04 & -0.0001543579 &  0.0001492384\\\\\n",
       "\tNON\\_MEMBRANE\\_BOUND\\_ORGANELLE &  0.0004135920 & -5.128751e-05 & -3.721301e-04 & -0.0001420564 &  2.382183e-04 & -0.0003121686 & -3.120595e-04 & -4.341660e-04 & -0.0002625194 & -0.0005334135 & ... &  1.019114e-04 &  1.562619e-04 & -1.518226e-05 & -0.0001921503 & -6.318203e-06 & -3.758710e-06 & -0.0002149098 & -3.744667e-05 &  0.0001224327 & -0.0001016338\\\\\n",
       "\tINTEGRAL\\_TO\\_MEMBRANE & -0.0012860465 &  1.136110e-03 &  2.169784e-03 &  0.0015008420 & -2.123663e-05 &  0.0017919690 &  1.649184e-03 &  2.267395e-03 &  0.0011465283 &  0.0023943109 & ... &  4.187309e-04 &  7.426462e-04 &  1.507399e-03 &  0.0026394667 &  1.982591e-03 &  1.688373e-03 &  0.0023607352 &  1.239446e-03 &  0.0012587919 &  0.0021682639\\\\\n",
       "\tINTEGRAL\\_TO\\_PLASMA\\_MEMBRANE & -0.0010408568 &  8.661045e-04 &  1.712625e-03 &  0.0011846249 & -1.300428e-04 &  0.0014501870 &  1.309378e-03 &  1.803438e-03 &  0.0009576398 &  0.0019161125 & ... &  2.481922e-04 &  4.710082e-04 &  1.122516e-03 &  0.0019339026 &  1.413822e-03 &  1.211511e-03 &  0.0017945670 &  9.387664e-04 &  0.0008706198 &  0.0015816539\\\\\n",
       "\\end{tabular}\n"
      ],
      "text/markdown": [
       "\n",
       "A matrix: 6 × 60 of type dbl\n",
       "\n",
       "| <!--/--> | BR.MCF7 | BR.MDA_MB_231 | BR.HS578T | BR.BT_549 | BR.T47D | CNS.SF_268 | CNS.SF_295 | CNS.SF_539 | CNS.SNB_19 | CNS.SNB_75 | ... | PR.PC_3 | PR.DU_145 | RE.786_0 | RE.A498 | RE.ACHN | RE.CAKI_1 | RE.RXF_393 | RE.SN12C | RE.TK_10 | RE.UO_31 |\n",
       "|---|---|---|---|---|---|---|---|---|---|---|---|---|---|---|---|---|---|---|---|---|---|\n",
       "| ORGANELLE_PART |  0.0008387807 | -3.229068e-04 | -9.590523e-04 | -0.0004725457 |  1.820676e-04 | -0.0007320322 | -7.627032e-04 | -1.050955e-03 | -0.0005156010 | -0.0012114695 | ... | -5.418904e-05 | -7.800383e-05 | -3.916225e-04 | -0.0010197994 | -6.114488e-04 | -5.037607e-04 | -0.0008599458 | -3.332888e-04 | -0.0002304620 | -0.0007580615 |\n",
       "| INTRINSIC_TO_PLASMA_MEMBRANE | -0.0010653632 |  8.815431e-04 |  1.745199e-03 |  0.0012010273 | -1.205989e-04 |  0.0014703266 |  1.334184e-03 |  1.837182e-03 |  0.0009680169 |  0.0019534267 | ... |  2.613985e-04 |  4.896836e-04 |  1.145418e-03 |  0.0019890069 |  1.455491e-03 |  1.245439e-03 |  0.0018334082 |  9.558258e-04 |  0.0008956653 |  0.0016253084 |\n",
       "| CYTOPLASMIC_PART | -0.0004609780 | -2.903411e-04 | -6.043233e-05 | -0.0004874490 |  1.886775e-04 | -0.0003768300 | -7.114874e-06 | -2.115503e-05 | -0.0002862945 |  0.0001539046 | ... |  1.123678e-04 | -3.890340e-06 | -3.321441e-04 |  0.0003636761 |  1.147635e-04 |  1.899145e-05 | -0.0001352645 | -3.291699e-04 | -0.0001543579 |  0.0001492384 |\n",
       "| NON_MEMBRANE_BOUND_ORGANELLE |  0.0004135920 | -5.128751e-05 | -3.721301e-04 | -0.0001420564 |  2.382183e-04 | -0.0003121686 | -3.120595e-04 | -4.341660e-04 | -0.0002625194 | -0.0005334135 | ... |  1.019114e-04 |  1.562619e-04 | -1.518226e-05 | -0.0001921503 | -6.318203e-06 | -3.758710e-06 | -0.0002149098 | -3.744667e-05 |  0.0001224327 | -0.0001016338 |\n",
       "| INTEGRAL_TO_MEMBRANE | -0.0012860465 |  1.136110e-03 |  2.169784e-03 |  0.0015008420 | -2.123663e-05 |  0.0017919690 |  1.649184e-03 |  2.267395e-03 |  0.0011465283 |  0.0023943109 | ... |  4.187309e-04 |  7.426462e-04 |  1.507399e-03 |  0.0026394667 |  1.982591e-03 |  1.688373e-03 |  0.0023607352 |  1.239446e-03 |  0.0012587919 |  0.0021682639 |\n",
       "| INTEGRAL_TO_PLASMA_MEMBRANE | -0.0010408568 |  8.661045e-04 |  1.712625e-03 |  0.0011846249 | -1.300428e-04 |  0.0014501870 |  1.309378e-03 |  1.803438e-03 |  0.0009576398 |  0.0019161125 | ... |  2.481922e-04 |  4.710082e-04 |  1.122516e-03 |  0.0019339026 |  1.413822e-03 |  1.211511e-03 |  0.0017945670 |  9.387664e-04 |  0.0008706198 |  0.0015816539 |\n",
       "\n"
      ],
      "text/plain": [
       "                             BR.MCF7       BR.MDA_MB_231 BR.HS578T    \n",
       "ORGANELLE_PART                0.0008387807 -3.229068e-04 -9.590523e-04\n",
       "INTRINSIC_TO_PLASMA_MEMBRANE -0.0010653632  8.815431e-04  1.745199e-03\n",
       "CYTOPLASMIC_PART             -0.0004609780 -2.903411e-04 -6.043233e-05\n",
       "NON_MEMBRANE_BOUND_ORGANELLE  0.0004135920 -5.128751e-05 -3.721301e-04\n",
       "INTEGRAL_TO_MEMBRANE         -0.0012860465  1.136110e-03  2.169784e-03\n",
       "INTEGRAL_TO_PLASMA_MEMBRANE  -0.0010408568  8.661045e-04  1.712625e-03\n",
       "                             BR.BT_549     BR.T47D       CNS.SF_268   \n",
       "ORGANELLE_PART               -0.0004725457  1.820676e-04 -0.0007320322\n",
       "INTRINSIC_TO_PLASMA_MEMBRANE  0.0012010273 -1.205989e-04  0.0014703266\n",
       "CYTOPLASMIC_PART             -0.0004874490  1.886775e-04 -0.0003768300\n",
       "NON_MEMBRANE_BOUND_ORGANELLE -0.0001420564  2.382183e-04 -0.0003121686\n",
       "INTEGRAL_TO_MEMBRANE          0.0015008420 -2.123663e-05  0.0017919690\n",
       "INTEGRAL_TO_PLASMA_MEMBRANE   0.0011846249 -1.300428e-04  0.0014501870\n",
       "                             CNS.SF_295    CNS.SF_539    CNS.SNB_19   \n",
       "ORGANELLE_PART               -7.627032e-04 -1.050955e-03 -0.0005156010\n",
       "INTRINSIC_TO_PLASMA_MEMBRANE  1.334184e-03  1.837182e-03  0.0009680169\n",
       "CYTOPLASMIC_PART             -7.114874e-06 -2.115503e-05 -0.0002862945\n",
       "NON_MEMBRANE_BOUND_ORGANELLE -3.120595e-04 -4.341660e-04 -0.0002625194\n",
       "INTEGRAL_TO_MEMBRANE          1.649184e-03  2.267395e-03  0.0011465283\n",
       "INTEGRAL_TO_PLASMA_MEMBRANE   1.309378e-03  1.803438e-03  0.0009576398\n",
       "                             CNS.SNB_75    ... PR.PC_3       PR.DU_145    \n",
       "ORGANELLE_PART               -0.0012114695 ... -5.418904e-05 -7.800383e-05\n",
       "INTRINSIC_TO_PLASMA_MEMBRANE  0.0019534267 ...  2.613985e-04  4.896836e-04\n",
       "CYTOPLASMIC_PART              0.0001539046 ...  1.123678e-04 -3.890340e-06\n",
       "NON_MEMBRANE_BOUND_ORGANELLE -0.0005334135 ...  1.019114e-04  1.562619e-04\n",
       "INTEGRAL_TO_MEMBRANE          0.0023943109 ...  4.187309e-04  7.426462e-04\n",
       "INTEGRAL_TO_PLASMA_MEMBRANE   0.0019161125 ...  2.481922e-04  4.710082e-04\n",
       "                             RE.786_0      RE.A498       RE.ACHN      \n",
       "ORGANELLE_PART               -3.916225e-04 -0.0010197994 -6.114488e-04\n",
       "INTRINSIC_TO_PLASMA_MEMBRANE  1.145418e-03  0.0019890069  1.455491e-03\n",
       "CYTOPLASMIC_PART             -3.321441e-04  0.0003636761  1.147635e-04\n",
       "NON_MEMBRANE_BOUND_ORGANELLE -1.518226e-05 -0.0001921503 -6.318203e-06\n",
       "INTEGRAL_TO_MEMBRANE          1.507399e-03  0.0026394667  1.982591e-03\n",
       "INTEGRAL_TO_PLASMA_MEMBRANE   1.122516e-03  0.0019339026  1.413822e-03\n",
       "                             RE.CAKI_1     RE.RXF_393    RE.SN12C     \n",
       "ORGANELLE_PART               -5.037607e-04 -0.0008599458 -3.332888e-04\n",
       "INTRINSIC_TO_PLASMA_MEMBRANE  1.245439e-03  0.0018334082  9.558258e-04\n",
       "CYTOPLASMIC_PART              1.899145e-05 -0.0001352645 -3.291699e-04\n",
       "NON_MEMBRANE_BOUND_ORGANELLE -3.758710e-06 -0.0002149098 -3.744667e-05\n",
       "INTEGRAL_TO_MEMBRANE          1.688373e-03  0.0023607352  1.239446e-03\n",
       "INTEGRAL_TO_PLASMA_MEMBRANE   1.211511e-03  0.0017945670  9.387664e-04\n",
       "                             RE.TK_10      RE.UO_31     \n",
       "ORGANELLE_PART               -0.0002304620 -0.0007580615\n",
       "INTRINSIC_TO_PLASMA_MEMBRANE  0.0008956653  0.0016253084\n",
       "CYTOPLASMIC_PART             -0.0001543579  0.0001492384\n",
       "NON_MEMBRANE_BOUND_ORGANELLE  0.0001224327 -0.0001016338\n",
       "INTEGRAL_TO_MEMBRANE          0.0012587919  0.0021682639\n",
       "INTEGRAL_TO_PLASMA_MEMBRANE   0.0008706198  0.0015816539"
      ]
     },
     "metadata": {},
     "output_type": "display_data"
    },
    {
     "data": {
      "image/png": "[encoded data removed]",
      "text/plain": [
       "Plot with title \"Color Key\n",
       "and Histogram\""
      ]
     },
     "metadata": {
      "image/png": {
       "height": 420,
       "width": 420
      },
      "text/plain": {
       "height": 420,
       "width": 420
      }
     },
     "output_type": "display_data"
    }
   ],
   "source": [
    "# The main result returned by `mogsa` is the gene set score (GSS) matrix. The value in the\n",
    "# matrix indicates the overall active level of a gene set in a sample. \n",
    "# get the score matrix\n",
    "scores = getmgsa(mgsa1, \"score\")\n",
    "head(scores)\n",
    "heatmap.2(scores, trace = \"n\", scale = \"r\", Colv = NULL, dendrogram = \"row\", \n",
    "          margins = c(6, 10), ColSideColors=colcode)\n",
    "# heatmap showing the gene set score (GSS) matrix"
   ]
  },
  {
   "cell_type": "markdown",
   "metadata": {},
   "source": [
    "The heatmap shows the gene set score matrix returned by `mogsa`. The rows of the matrix are all the gene sets used to annotate the data. But we are mostly interested in the gene sets with large number of significant gene sets, because these gene sets describe the difference across cell lines. The corresponding p-value for each gene set score could be extracted by `getmgsa`. Then, the most significant gene sets could be defined as gene sets that contain highest number of significantly p-values."
   ]
  },
  {
   "cell_type": "code",
   "execution_count": 11,
   "metadata": {},
   "outputs": [
    {
     "data": {
      "text/html": [
       "<table>\n",
       "<caption>A matrix: 6 × 60 of type dbl</caption>\n",
       "<thead>\n",
       "\t<tr><th></th><th scope=col>BR.MCF7</th><th scope=col>BR.MDA_MB_231</th><th scope=col>BR.HS578T</th><th scope=col>BR.BT_549</th><th scope=col>BR.T47D</th><th scope=col>CNS.SF_268</th><th scope=col>CNS.SF_295</th><th scope=col>CNS.SF_539</th><th scope=col>CNS.SNB_19</th><th scope=col>CNS.SNB_75</th><th scope=col>...</th><th scope=col>PR.PC_3</th><th scope=col>PR.DU_145</th><th scope=col>RE.786_0</th><th scope=col>RE.A498</th><th scope=col>RE.ACHN</th><th scope=col>RE.CAKI_1</th><th scope=col>RE.RXF_393</th><th scope=col>RE.SN12C</th><th scope=col>RE.TK_10</th><th scope=col>RE.UO_31</th></tr>\n",
       "</thead>\n",
       "<tbody>\n",
       "\t<tr><th scope=row>ORGANELLE_PART</th><td>0.010838064</td><td>0.260028103</td><td>0.0579354203</td><td>0.295235665</td><td>0.8353120</td><td>0.169677506</td><td>0.0511843236</td><td>0.053471684</td><td>0.209657498</td><td>0.0359038523</td><td>...</td><td>0.3875927</td><td>0.48319866</td><td>0.263403241</td><td>0.0205596709</td><td>0.079771368</td><td>0.101455365</td><td>0.0774197470</td><td>0.285498217</td><td>0.351285020</td><td>0.0453042253</td></tr>\n",
       "\t<tr><th scope=row>INTRINSIC_TO_PLASMA_MEMBRANE</th><td>0.004402244</td><td>0.002946150</td><td>0.0009834800</td><td>0.002793480</td><td>0.3758081</td><td>0.002180097</td><td>0.0010664931</td><td>0.001115843</td><td>0.004104555</td><td>0.0012967586</td><td>...</td><td>0.3223773</td><td>0.16530786</td><td>0.004292608</td><td>0.0009832709</td><td>0.004740550</td><td>0.004554495</td><td>0.0010267330</td><td>0.003571865</td><td>0.030541811</td><td>0.0016632384</td></tr>\n",
       "\t<tr><th scope=row>CYTOPLASMIC_PART</th><td>0.357206926</td><td>0.344739257</td><td>0.8291806974</td><td>0.327260180</td><td>0.8992935</td><td>0.544320870</td><td>0.9016393178</td><td>0.894747676</td><td>0.581395304</td><td>0.9151902838</td><td>...</td><td>0.9675536</td><td>0.62833887</td><td>0.360593081</td><td>0.9313594844</td><td>0.794363540</td><td>0.699082690</td><td>0.6563726005</td><td>0.326717881</td><td>0.465227549</td><td>0.8653488335</td></tr>\n",
       "\t<tr><th scope=row>NON_MEMBRANE_BOUND_ORGANELLE</th><td>0.137654244</td><td>0.809146193</td><td>0.3834832277</td><td>0.749153363</td><td>0.5658399</td><td>0.527284907</td><td>0.3486428906</td><td>0.350703304</td><td>0.500521748</td><td>0.2795958838</td><td>...</td><td>0.8779173</td><td>0.80484848</td><td>0.871716146</td><td>0.4230207400</td><td>0.689097526</td><td>0.726024448</td><td>0.5394877191</td><td>0.852614897</td><td>0.932323607</td><td>0.5481024061</td></tr>\n",
       "\t<tr><th scope=row>INTEGRAL_TO_MEMBRANE</th><td>0.003741840</td><td>0.001085903</td><td>0.0004910321</td><td>0.001378463</td><td>0.5564561</td><td>0.001372849</td><td>0.0005791171</td><td>0.000618479</td><td>0.003388107</td><td>0.0008059845</td><td>...</td><td>0.1491652</td><td>0.06652218</td><td>0.001374969</td><td>0.0002123348</td><td>0.001078849</td><td>0.001082565</td><td>0.0003291563</td><td>0.001277826</td><td>0.009439984</td><td>0.0003736212</td></tr>\n",
       "\t<tr><th scope=row>INTEGRAL_TO_PLASMA_MEMBRANE</th><td>0.005128230</td><td>0.003277122</td><td>0.0011348312</td><td>0.002993959</td><td>0.3569682</td><td>0.002345113</td><td>0.0012272444</td><td>0.001279169</td><td>0.004267741</td><td>0.0014947659</td><td>...</td><td>0.3543484</td><td>0.18235758</td><td>0.004853992</td><td>0.0012857146</td><td>0.005862200</td><td>0.005552231</td><td>0.0012225304</td><td>0.003970734</td><td>0.034668291</td><td>0.0021021761</td></tr>\n",
       "</tbody>\n",
       "</table>\n"
      ],
      "text/latex": [
       "A matrix: 6 × 60 of type dbl\n",
       "\\begin{tabular}{r|lllllllllllllllllllll}\n",
       "  & BR.MCF7 & BR.MDA\\_MB\\_231 & BR.HS578T & BR.BT\\_549 & BR.T47D & CNS.SF\\_268 & CNS.SF\\_295 & CNS.SF\\_539 & CNS.SNB\\_19 & CNS.SNB\\_75 & ... & PR.PC\\_3 & PR.DU\\_145 & RE.786\\_0 & RE.A498 & RE.ACHN & RE.CAKI\\_1 & RE.RXF\\_393 & RE.SN12C & RE.TK\\_10 & RE.UO\\_31\\\\\n",
       "\\hline\n",
       "\tORGANELLE\\_PART & 0.010838064 & 0.260028103 & 0.0579354203 & 0.295235665 & 0.8353120 & 0.169677506 & 0.0511843236 & 0.053471684 & 0.209657498 & 0.0359038523 & ... & 0.3875927 & 0.48319866 & 0.263403241 & 0.0205596709 & 0.079771368 & 0.101455365 & 0.0774197470 & 0.285498217 & 0.351285020 & 0.0453042253\\\\\n",
       "\tINTRINSIC\\_TO\\_PLASMA\\_MEMBRANE & 0.004402244 & 0.002946150 & 0.0009834800 & 0.002793480 & 0.3758081 & 0.002180097 & 0.0010664931 & 0.001115843 & 0.004104555 & 0.0012967586 & ... & 0.3223773 & 0.16530786 & 0.004292608 & 0.0009832709 & 0.004740550 & 0.004554495 & 0.0010267330 & 0.003571865 & 0.030541811 & 0.0016632384\\\\\n",
       "\tCYTOPLASMIC\\_PART & 0.357206926 & 0.344739257 & 0.8291806974 & 0.327260180 & 0.8992935 & 0.544320870 & 0.9016393178 & 0.894747676 & 0.581395304 & 0.9151902838 & ... & 0.9675536 & 0.62833887 & 0.360593081 & 0.9313594844 & 0.794363540 & 0.699082690 & 0.6563726005 & 0.326717881 & 0.465227549 & 0.8653488335\\\\\n",
       "\tNON\\_MEMBRANE\\_BOUND\\_ORGANELLE & 0.137654244 & 0.809146193 & 0.3834832277 & 0.749153363 & 0.5658399 & 0.527284907 & 0.3486428906 & 0.350703304 & 0.500521748 & 0.2795958838 & ... & 0.8779173 & 0.80484848 & 0.871716146 & 0.4230207400 & 0.689097526 & 0.726024448 & 0.5394877191 & 0.852614897 & 0.932323607 & 0.5481024061\\\\\n",
       "\tINTEGRAL\\_TO\\_MEMBRANE & 0.003741840 & 0.001085903 & 0.0004910321 & 0.001378463 & 0.5564561 & 0.001372849 & 0.0005791171 & 0.000618479 & 0.003388107 & 0.0008059845 & ... & 0.1491652 & 0.06652218 & 0.001374969 & 0.0002123348 & 0.001078849 & 0.001082565 & 0.0003291563 & 0.001277826 & 0.009439984 & 0.0003736212\\\\\n",
       "\tINTEGRAL\\_TO\\_PLASMA\\_MEMBRANE & 0.005128230 & 0.003277122 & 0.0011348312 & 0.002993959 & 0.3569682 & 0.002345113 & 0.0012272444 & 0.001279169 & 0.004267741 & 0.0014947659 & ... & 0.3543484 & 0.18235758 & 0.004853992 & 0.0012857146 & 0.005862200 & 0.005552231 & 0.0012225304 & 0.003970734 & 0.034668291 & 0.0021021761\\\\\n",
       "\\end{tabular}\n"
      ],
      "text/markdown": [
       "\n",
       "A matrix: 6 × 60 of type dbl\n",
       "\n",
       "| <!--/--> | BR.MCF7 | BR.MDA_MB_231 | BR.HS578T | BR.BT_549 | BR.T47D | CNS.SF_268 | CNS.SF_295 | CNS.SF_539 | CNS.SNB_19 | CNS.SNB_75 | ... | PR.PC_3 | PR.DU_145 | RE.786_0 | RE.A498 | RE.ACHN | RE.CAKI_1 | RE.RXF_393 | RE.SN12C | RE.TK_10 | RE.UO_31 |\n",
       "|---|---|---|---|---|---|---|---|---|---|---|---|---|---|---|---|---|---|---|---|---|---|\n",
       "| ORGANELLE_PART | 0.010838064 | 0.260028103 | 0.0579354203 | 0.295235665 | 0.8353120 | 0.169677506 | 0.0511843236 | 0.053471684 | 0.209657498 | 0.0359038523 | ... | 0.3875927 | 0.48319866 | 0.263403241 | 0.0205596709 | 0.079771368 | 0.101455365 | 0.0774197470 | 0.285498217 | 0.351285020 | 0.0453042253 |\n",
       "| INTRINSIC_TO_PLASMA_MEMBRANE | 0.004402244 | 0.002946150 | 0.0009834800 | 0.002793480 | 0.3758081 | 0.002180097 | 0.0010664931 | 0.001115843 | 0.004104555 | 0.0012967586 | ... | 0.3223773 | 0.16530786 | 0.004292608 | 0.0009832709 | 0.004740550 | 0.004554495 | 0.0010267330 | 0.003571865 | 0.030541811 | 0.0016632384 |\n",
       "| CYTOPLASMIC_PART | 0.357206926 | 0.344739257 | 0.8291806974 | 0.327260180 | 0.8992935 | 0.544320870 | 0.9016393178 | 0.894747676 | 0.581395304 | 0.9151902838 | ... | 0.9675536 | 0.62833887 | 0.360593081 | 0.9313594844 | 0.794363540 | 0.699082690 | 0.6563726005 | 0.326717881 | 0.465227549 | 0.8653488335 |\n",
       "| NON_MEMBRANE_BOUND_ORGANELLE | 0.137654244 | 0.809146193 | 0.3834832277 | 0.749153363 | 0.5658399 | 0.527284907 | 0.3486428906 | 0.350703304 | 0.500521748 | 0.2795958838 | ... | 0.8779173 | 0.80484848 | 0.871716146 | 0.4230207400 | 0.689097526 | 0.726024448 | 0.5394877191 | 0.852614897 | 0.932323607 | 0.5481024061 |\n",
       "| INTEGRAL_TO_MEMBRANE | 0.003741840 | 0.001085903 | 0.0004910321 | 0.001378463 | 0.5564561 | 0.001372849 | 0.0005791171 | 0.000618479 | 0.003388107 | 0.0008059845 | ... | 0.1491652 | 0.06652218 | 0.001374969 | 0.0002123348 | 0.001078849 | 0.001082565 | 0.0003291563 | 0.001277826 | 0.009439984 | 0.0003736212 |\n",
       "| INTEGRAL_TO_PLASMA_MEMBRANE | 0.005128230 | 0.003277122 | 0.0011348312 | 0.002993959 | 0.3569682 | 0.002345113 | 0.0012272444 | 0.001279169 | 0.004267741 | 0.0014947659 | ... | 0.3543484 | 0.18235758 | 0.004853992 | 0.0012857146 | 0.005862200 | 0.005552231 | 0.0012225304 | 0.003970734 | 0.034668291 | 0.0021021761 |\n",
       "\n"
      ],
      "text/plain": [
       "                             BR.MCF7     BR.MDA_MB_231 BR.HS578T    BR.BT_549  \n",
       "ORGANELLE_PART               0.010838064 0.260028103   0.0579354203 0.295235665\n",
       "INTRINSIC_TO_PLASMA_MEMBRANE 0.004402244 0.002946150   0.0009834800 0.002793480\n",
       "CYTOPLASMIC_PART             0.357206926 0.344739257   0.8291806974 0.327260180\n",
       "NON_MEMBRANE_BOUND_ORGANELLE 0.137654244 0.809146193   0.3834832277 0.749153363\n",
       "INTEGRAL_TO_MEMBRANE         0.003741840 0.001085903   0.0004910321 0.001378463\n",
       "INTEGRAL_TO_PLASMA_MEMBRANE  0.005128230 0.003277122   0.0011348312 0.002993959\n",
       "                             BR.T47D   CNS.SF_268  CNS.SF_295   CNS.SF_539 \n",
       "ORGANELLE_PART               0.8353120 0.169677506 0.0511843236 0.053471684\n",
       "INTRINSIC_TO_PLASMA_MEMBRANE 0.3758081 0.002180097 0.0010664931 0.001115843\n",
       "CYTOPLASMIC_PART             0.8992935 0.544320870 0.9016393178 0.894747676\n",
       "NON_MEMBRANE_BOUND_ORGANELLE 0.5658399 0.527284907 0.3486428906 0.350703304\n",
       "INTEGRAL_TO_MEMBRANE         0.5564561 0.001372849 0.0005791171 0.000618479\n",
       "INTEGRAL_TO_PLASMA_MEMBRANE  0.3569682 0.002345113 0.0012272444 0.001279169\n",
       "                             CNS.SNB_19  CNS.SNB_75   ... PR.PC_3   PR.DU_145 \n",
       "ORGANELLE_PART               0.209657498 0.0359038523 ... 0.3875927 0.48319866\n",
       "INTRINSIC_TO_PLASMA_MEMBRANE 0.004104555 0.0012967586 ... 0.3223773 0.16530786\n",
       "CYTOPLASMIC_PART             0.581395304 0.9151902838 ... 0.9675536 0.62833887\n",
       "NON_MEMBRANE_BOUND_ORGANELLE 0.500521748 0.2795958838 ... 0.8779173 0.80484848\n",
       "INTEGRAL_TO_MEMBRANE         0.003388107 0.0008059845 ... 0.1491652 0.06652218\n",
       "INTEGRAL_TO_PLASMA_MEMBRANE  0.004267741 0.0014947659 ... 0.3543484 0.18235758\n",
       "                             RE.786_0    RE.A498      RE.ACHN     RE.CAKI_1  \n",
       "ORGANELLE_PART               0.263403241 0.0205596709 0.079771368 0.101455365\n",
       "INTRINSIC_TO_PLASMA_MEMBRANE 0.004292608 0.0009832709 0.004740550 0.004554495\n",
       "CYTOPLASMIC_PART             0.360593081 0.9313594844 0.794363540 0.699082690\n",
       "NON_MEMBRANE_BOUND_ORGANELLE 0.871716146 0.4230207400 0.689097526 0.726024448\n",
       "INTEGRAL_TO_MEMBRANE         0.001374969 0.0002123348 0.001078849 0.001082565\n",
       "INTEGRAL_TO_PLASMA_MEMBRANE  0.004853992 0.0012857146 0.005862200 0.005552231\n",
       "                             RE.RXF_393   RE.SN12C    RE.TK_10    RE.UO_31    \n",
       "ORGANELLE_PART               0.0774197470 0.285498217 0.351285020 0.0453042253\n",
       "INTRINSIC_TO_PLASMA_MEMBRANE 0.0010267330 0.003571865 0.030541811 0.0016632384\n",
       "CYTOPLASMIC_PART             0.6563726005 0.326717881 0.465227549 0.8653488335\n",
       "NON_MEMBRANE_BOUND_ORGANELLE 0.5394877191 0.852614897 0.932323607 0.5481024061\n",
       "INTEGRAL_TO_MEMBRANE         0.0003291563 0.001277826 0.009439984 0.0003736212\n",
       "INTEGRAL_TO_PLASMA_MEMBRANE  0.0012225304 0.003970734 0.034668291 0.0021021761"
      ]
     },
     "metadata": {},
     "output_type": "display_data"
    },
    {
     "data": {
      "text/html": [
       "<style>\n",
       ".list-inline {list-style: none; margin:0; padding: 0}\n",
       ".list-inline>li {display: inline-block}\n",
       ".list-inline>li:not(:last-child)::after {content: \"\\00b7\"; padding: 0 .5ex}\n",
       "</style>\n",
       "<ol class=list-inline><li>'PASINI_SUZ12_TARGETS_DN'</li><li>'CHARAFE_BREAST_CANCER_LUMINAL_VS_BASAL_DN'</li><li>'CHARAFE_BREAST_CANCER_LUMINAL_VS_MESENCHYMAL_DN'</li><li>'KOINUMA_TARGETS_OF_SMAD2_OR_SMAD3'</li><li>'DUTERTRE_ESTRADIOL_RESPONSE_24HR_DN'</li><li>'REN_ALVEOLAR_RHABDOMYOSARCOMA_DN'</li><li>'LIM_MAMMARY_STEM_CELL_UP'</li><li>'LIU_PROSTATE_CANCER_DN'</li><li>'CHICAS_RB1_TARGETS_CONFLUENT'</li><li>'NUYTTEN_EZH2_TARGETS_UP'</li><li>'DACOSTA_UV_RESPONSE_VIA_ERCC3_DN'</li><li>'PUJANA_ATM_PCC_NETWORK'</li><li>'KRIGE_RESPONSE_TO_TOSEDOSTAT_24HR_DN'</li><li>'WONG_ADULT_TISSUE_STEM_MODULE'</li><li>'KRIEG_HYPOXIA_NOT_VIA_KDM3A'</li><li>'MULTICELLULAR_ORGANISMAL_DEVELOPMENT'</li><li>'ANATOMICAL_STRUCTURE_DEVELOPMENT'</li><li>'FORTSCHEGGER_PHF8_TARGETS_DN'</li><li>'ZWANG_CLASS_1_TRANSIENTLY_INDUCED_BY_EGF'</li><li>'PLASMA_MEMBRANE_PART'</li></ol>\n"
      ],
      "text/latex": [
       "\\begin{enumerate*}\n",
       "\\item 'PASINI\\_SUZ12\\_TARGETS\\_DN'\n",
       "\\item 'CHARAFE\\_BREAST\\_CANCER\\_LUMINAL\\_VS\\_BASAL\\_DN'\n",
       "\\item 'CHARAFE\\_BREAST\\_CANCER\\_LUMINAL\\_VS\\_MESENCHYMAL\\_DN'\n",
       "\\item 'KOINUMA\\_TARGETS\\_OF\\_SMAD2\\_OR\\_SMAD3'\n",
       "\\item 'DUTERTRE\\_ESTRADIOL\\_RESPONSE\\_24HR\\_DN'\n",
       "\\item 'REN\\_ALVEOLAR\\_RHABDOMYOSARCOMA\\_DN'\n",
       "\\item 'LIM\\_MAMMARY\\_STEM\\_CELL\\_UP'\n",
       "\\item 'LIU\\_PROSTATE\\_CANCER\\_DN'\n",
       "\\item 'CHICAS\\_RB1\\_TARGETS\\_CONFLUENT'\n",
       "\\item 'NUYTTEN\\_EZH2\\_TARGETS\\_UP'\n",
       "\\item 'DACOSTA\\_UV\\_RESPONSE\\_VIA\\_ERCC3\\_DN'\n",
       "\\item 'PUJANA\\_ATM\\_PCC\\_NETWORK'\n",
       "\\item 'KRIGE\\_RESPONSE\\_TO\\_TOSEDOSTAT\\_24HR\\_DN'\n",
       "\\item 'WONG\\_ADULT\\_TISSUE\\_STEM\\_MODULE'\n",
       "\\item 'KRIEG\\_HYPOXIA\\_NOT\\_VIA\\_KDM3A'\n",
       "\\item 'MULTICELLULAR\\_ORGANISMAL\\_DEVELOPMENT'\n",
       "\\item 'ANATOMICAL\\_STRUCTURE\\_DEVELOPMENT'\n",
       "\\item 'FORTSCHEGGER\\_PHF8\\_TARGETS\\_DN'\n",
       "\\item 'ZWANG\\_CLASS\\_1\\_TRANSIENTLY\\_INDUCED\\_BY\\_EGF'\n",
       "\\item 'PLASMA\\_MEMBRANE\\_PART'\n",
       "\\end{enumerate*}\n"
      ],
      "text/markdown": [
       "1. 'PASINI_SUZ12_TARGETS_DN'\n",
       "2. 'CHARAFE_BREAST_CANCER_LUMINAL_VS_BASAL_DN'\n",
       "3. 'CHARAFE_BREAST_CANCER_LUMINAL_VS_MESENCHYMAL_DN'\n",
       "4. 'KOINUMA_TARGETS_OF_SMAD2_OR_SMAD3'\n",
       "5. 'DUTERTRE_ESTRADIOL_RESPONSE_24HR_DN'\n",
       "6. 'REN_ALVEOLAR_RHABDOMYOSARCOMA_DN'\n",
       "7. 'LIM_MAMMARY_STEM_CELL_UP'\n",
       "8. 'LIU_PROSTATE_CANCER_DN'\n",
       "9. 'CHICAS_RB1_TARGETS_CONFLUENT'\n",
       "10. 'NUYTTEN_EZH2_TARGETS_UP'\n",
       "11. 'DACOSTA_UV_RESPONSE_VIA_ERCC3_DN'\n",
       "12. 'PUJANA_ATM_PCC_NETWORK'\n",
       "13. 'KRIGE_RESPONSE_TO_TOSEDOSTAT_24HR_DN'\n",
       "14. 'WONG_ADULT_TISSUE_STEM_MODULE'\n",
       "15. 'KRIEG_HYPOXIA_NOT_VIA_KDM3A'\n",
       "16. 'MULTICELLULAR_ORGANISMAL_DEVELOPMENT'\n",
       "17. 'ANATOMICAL_STRUCTURE_DEVELOPMENT'\n",
       "18. 'FORTSCHEGGER_PHF8_TARGETS_DN'\n",
       "19. 'ZWANG_CLASS_1_TRANSIENTLY_INDUCED_BY_EGF'\n",
       "20. 'PLASMA_MEMBRANE_PART'\n",
       "\n",
       "\n"
      ],
      "text/plain": [
       " [1] \"PASINI_SUZ12_TARGETS_DN\"                        \n",
       " [2] \"CHARAFE_BREAST_CANCER_LUMINAL_VS_BASAL_DN\"      \n",
       " [3] \"CHARAFE_BREAST_CANCER_LUMINAL_VS_MESENCHYMAL_DN\"\n",
       " [4] \"KOINUMA_TARGETS_OF_SMAD2_OR_SMAD3\"              \n",
       " [5] \"DUTERTRE_ESTRADIOL_RESPONSE_24HR_DN\"            \n",
       " [6] \"REN_ALVEOLAR_RHABDOMYOSARCOMA_DN\"               \n",
       " [7] \"LIM_MAMMARY_STEM_CELL_UP\"                       \n",
       " [8] \"LIU_PROSTATE_CANCER_DN\"                         \n",
       " [9] \"CHICAS_RB1_TARGETS_CONFLUENT\"                   \n",
       "[10] \"NUYTTEN_EZH2_TARGETS_UP\"                        \n",
       "[11] \"DACOSTA_UV_RESPONSE_VIA_ERCC3_DN\"               \n",
       "[12] \"PUJANA_ATM_PCC_NETWORK\"                         \n",
       "[13] \"KRIGE_RESPONSE_TO_TOSEDOSTAT_24HR_DN\"           \n",
       "[14] \"WONG_ADULT_TISSUE_STEM_MODULE\"                  \n",
       "[15] \"KRIEG_HYPOXIA_NOT_VIA_KDM3A\"                    \n",
       "[16] \"MULTICELLULAR_ORGANISMAL_DEVELOPMENT\"           \n",
       "[17] \"ANATOMICAL_STRUCTURE_DEVELOPMENT\"               \n",
       "[18] \"FORTSCHEGGER_PHF8_TARGETS_DN\"                   \n",
       "[19] \"ZWANG_CLASS_1_TRANSIENTLY_INDUCED_BY_EGF\"       \n",
       "[20] \"PLASMA_MEMBRANE_PART\"                           "
      ]
     },
     "metadata": {},
     "output_type": "display_data"
    },
    {
     "data": {
      "image/png": "[encoded data removed]",
      "text/plain": [
       "Plot with title \"Color Key\n",
       "and Histogram\""
      ]
     },
     "metadata": {
      "image/png": {
       "height": 420,
       "width": 420
      },
      "text/plain": {
       "height": 420,
       "width": 420
      }
     },
     "output_type": "display_data"
    }
   ],
   "source": [
    "# to select the top 20 most significant gene sets and plot them in heatmap\n",
    "p.mat = getmgsa(mgsa1, \"p.val\") # get p value matrix\n",
    "head(p.mat)\n",
    "top.gs = sort(rowSums(p.mat < 0.01), decreasing = TRUE)[1:20]  # select gene sets with most signficant GSS scores.\n",
    "top.gs.name = names(top.gs)\n",
    "top.gs.name\n",
    "heatmap.2(scores[top.gs.name, ], trace = \"n\", scale = \"r\", Colv = NULL, dendrogram = \"row\",\n",
    "          margins = c(8, 13), ColSideColors=colcode)\n",
    "\n",
    "# heatmap showing the gene set score (GSS) matrix for top 20 significant gene sets"
   ]
  },
  {
   "cell_type": "markdown",
   "metadata": {},
   "source": [
    "### <a id=link6>3.1 Example 1</a>\n",
    "In the first example, we explore the gene set that have most significant gene set scores."
   ]
  },
  {
   "cell_type": "code",
   "execution_count": 12,
   "metadata": {},
   "outputs": [
    {
     "data": {
      "text/html": [
       "'PASINI_SUZ12_TARGETS_DN'"
      ],
      "text/latex": [
       "'PASINI\\_SUZ12\\_TARGETS\\_DN'"
      ],
      "text/markdown": [
       "'PASINI_SUZ12_TARGETS_DN'"
      ],
      "text/plain": [
       "[1] \"PASINI_SUZ12_TARGETS_DN\""
      ]
     },
     "metadata": {},
     "output_type": "display_data"
    },
    {
     "data": {
      "image/png": "[encoded data removed]",
      "text/plain": [
       "plot without title"
      ]
     },
     "metadata": {
      "image/png": {
       "height": 420,
       "width": 420
      },
      "text/plain": {
       "height": 420,
       "width": 420
      }
     },
     "output_type": "display_data"
    }
   ],
   "source": [
    "# gene set score decomposition\n",
    "# we explore two gene sets, the first one\n",
    "gs1 = top.gs.name[1] # select the most significant gene set\n",
    "gs1\n",
    "\n",
    "# decompose the gene set score over datasets\n",
    "decompose.gs.group(mgsa1, gs1, group = cancerType)\n",
    " \n",
    "# The GSS decomposition are grouped according to the tissue of origin of cell lines. \n",
    "# The vertical bar showing the 95% of confidence interval of the means.\n",
    "# the plot shows leukemia cell lines have lowest GSS on this gene set. The contribution to \n",
    "# the overall gene set score by each dataset are separated in this plot. In general, there is a\n",
    "# good concordance between different datasets. But HGU133 platform contribute most and\n",
    "# Agilent platform contributed least comparing with other datasets, represented as the longest or shortest bars"
   ]
  },
  {
   "cell_type": "code",
   "execution_count": 13,
   "metadata": {},
   "outputs": [
    {
     "data": {
      "text/html": [
       "<table>\n",
       "<caption>A data.frame: 6 × 3</caption>\n",
       "<thead>\n",
       "\t<tr><th></th><th scope=col>feature</th><th scope=col>GIS</th><th scope=col>data</th></tr>\n",
       "\t<tr><th></th><th scope=col>&lt;chr&gt;</th><th scope=col>&lt;dbl&gt;</th><th scope=col>&lt;fct&gt;</th></tr>\n",
       "</thead>\n",
       "<tbody>\n",
       "\t<tr><th scope=row>1</th><td>LIMD2 </td><td>1.007091</td><td>hgu133 </td></tr>\n",
       "\t<tr><th scope=row>2</th><td>ZNF266</td><td>1.006706</td><td>hgu133 </td></tr>\n",
       "\t<tr><th scope=row>3</th><td>LIMD2 </td><td>1.006476</td><td>hgu95  </td></tr>\n",
       "\t<tr><th scope=row>4</th><td>GNG2  </td><td>1.006327</td><td>agilent</td></tr>\n",
       "\t<tr><th scope=row>5</th><td>SP5   </td><td>1.006035</td><td>hgu95  </td></tr>\n",
       "\t<tr><th scope=row>6</th><td>SP5   </td><td>1.005954</td><td>hgu133 </td></tr>\n",
       "</tbody>\n",
       "</table>\n"
      ],
      "text/latex": [
       "A data.frame: 6 × 3\n",
       "\\begin{tabular}{r|lll}\n",
       "  & feature & GIS & data\\\\\n",
       "  & <chr> & <dbl> & <fct>\\\\\n",
       "\\hline\n",
       "\t1 & LIMD2  & 1.007091 & hgu133 \\\\\n",
       "\t2 & ZNF266 & 1.006706 & hgu133 \\\\\n",
       "\t3 & LIMD2  & 1.006476 & hgu95  \\\\\n",
       "\t4 & GNG2   & 1.006327 & agilent\\\\\n",
       "\t5 & SP5    & 1.006035 & hgu95  \\\\\n",
       "\t6 & SP5    & 1.005954 & hgu133 \\\\\n",
       "\\end{tabular}\n"
      ],
      "text/markdown": [
       "\n",
       "A data.frame: 6 × 3\n",
       "\n",
       "| <!--/--> | feature &lt;chr&gt; | GIS &lt;dbl&gt; | data &lt;fct&gt; |\n",
       "|---|---|---|---|\n",
       "| 1 | LIMD2  | 1.007091 | hgu133  |\n",
       "| 2 | ZNF266 | 1.006706 | hgu133  |\n",
       "| 3 | LIMD2  | 1.006476 | hgu95   |\n",
       "| 4 | GNG2   | 1.006327 | agilent |\n",
       "| 5 | SP5    | 1.006035 | hgu95   |\n",
       "| 6 | SP5    | 1.005954 | hgu133  |\n",
       "\n"
      ],
      "text/plain": [
       "  feature GIS      data   \n",
       "1 LIMD2   1.007091 hgu133 \n",
       "2 ZNF266  1.006706 hgu133 \n",
       "3 LIMD2   1.006476 hgu95  \n",
       "4 GNG2    1.006327 agilent\n",
       "5 SP5     1.006035 hgu95  \n",
       "6 SP5     1.005954 hgu133 "
      ]
     },
     "metadata": {},
     "output_type": "display_data"
    },
    {
     "data": {
      "image/png": "[encoded data removed]",
      "text/plain": [
       "plot without title"
      ]
     },
     "metadata": {
      "image/png": {
       "height": 420,
       "width": 420
      },
      "text/plain": {
       "height": 420,
       "width": 420
      }
     },
     "output_type": "display_data"
    }
   ],
   "source": [
    "# to know the most influential genes in this gene set\n",
    "gis1 = GIS(mgsa1, gs1, barcol = gray.colors(4)) # gene influential score\n",
    "head(gis1) # print top 6 influencers\n",
    "\n",
    "# the GIS are represented as bars and the original data where the gene is from is distingished by different colors."
   ]
  },
  {
   "cell_type": "markdown",
   "metadata": {},
   "source": [
    "The bars represent the gene influential scores for genes. Genes from different platforms are shown in different colors. The expression of genes with high positive GIS more likely to have a good positive correlation with the gene set score. In this example, the most important genes in the gene set \"PASIN SUZ12 TARGETS DN\" are TNFRSF12A (identified in two different platforms), CD151, ITGB1, etc.<br>\n",
    "条形代表基因的基因影响因子。来自不同平台的基因以不同颜色显示。具有高阳性GIS的基因的表达更可能与基因组得分具有良好的正相关性。|在该实施例中，基因组“PASIN SUZ12 TARGETS DN”中最重要的基因是TNFRSF12A（在两个不同平台中鉴定），CD151，ITGB1等。"
   ]
  },
  {
   "cell_type": "markdown",
   "metadata": {},
   "source": [
    "### <a id=link7>3.2 Example 2</a>\n",
    "\n",
    "In this example, we use the same methods to explore the \"PUJANA ATM PCC NETWORK\" gene set.<br>"
   ]
  },
  {
   "cell_type": "code",
   "execution_count": 14,
   "metadata": {},
   "outputs": [
    {
     "data": {
      "image/png": "[encoded data removed]",
      "text/plain": [
       "Plot with title \"Data-wise decomposed GSS for ’PUJANA ATM PCC NETWORK’\""
      ]
     },
     "metadata": {
      "image/png": {
       "height": 420,
       "width": 420
      },
      "text/plain": {
       "height": 420,
       "width": 420
      }
     },
     "output_type": "display_data"
    }
   ],
   "source": [
    "# the section gene set\n",
    "gs2 = \"PUJANA_ATM_PCC_NETWORK\"\n",
    "decompose.gs.group(mgsa1, gs2, group = cancerType, x.legend = \"topright\", \n",
    "                   main = \"Data-wise decomposed GSS for ’PUJANA ATM PCC NETWORK’\")"
   ]
  },
  {
   "cell_type": "markdown",
   "metadata": {},
   "source": [
    "This bar shows that the the leukemia cell lines have highest GSSs for this gene set. And the HGU133 and HGU95 platform have relative high contribution to the overall gene set score.<br>\n",
    "\n",
    "该条显示白血病细胞系具有该基因组的最高GSS。 HGU133和HGU95平台对整体基因组评分的贡献相对较高。"
   ]
  },
  {
   "cell_type": "code",
   "execution_count": 15,
   "metadata": {},
   "outputs": [
    {
     "data": {
      "text/html": [
       "<table>\n",
       "<caption>A data.frame: 6 × 3</caption>\n",
       "<thead>\n",
       "\t<tr><th></th><th scope=col>feature</th><th scope=col>GIS</th><th scope=col>data</th></tr>\n",
       "\t<tr><th></th><th scope=col>&lt;chr&gt;</th><th scope=col>&lt;dbl&gt;</th><th scope=col>&lt;fct&gt;</th></tr>\n",
       "</thead>\n",
       "<tbody>\n",
       "\t<tr><th scope=row>1</th><td>PCBP4 </td><td>1.007281</td><td>agilent </td></tr>\n",
       "\t<tr><th scope=row>2</th><td>LIF   </td><td>1.006737</td><td>hgu133  </td></tr>\n",
       "\t<tr><th scope=row>3</th><td>DKK3  </td><td>1.006393</td><td>hgu133p2</td></tr>\n",
       "\t<tr><th scope=row>4</th><td>ROBO1 </td><td>1.006231</td><td>hgu95   </td></tr>\n",
       "\t<tr><th scope=row>5</th><td>GPD2  </td><td>1.006213</td><td>hgu133  </td></tr>\n",
       "\t<tr><th scope=row>6</th><td>KCNMA1</td><td>1.006116</td><td>hgu133p2</td></tr>\n",
       "</tbody>\n",
       "</table>\n"
      ],
      "text/latex": [
       "A data.frame: 6 × 3\n",
       "\\begin{tabular}{r|lll}\n",
       "  & feature & GIS & data\\\\\n",
       "  & <chr> & <dbl> & <fct>\\\\\n",
       "\\hline\n",
       "\t1 & PCBP4  & 1.007281 & agilent \\\\\n",
       "\t2 & LIF    & 1.006737 & hgu133  \\\\\n",
       "\t3 & DKK3   & 1.006393 & hgu133p2\\\\\n",
       "\t4 & ROBO1  & 1.006231 & hgu95   \\\\\n",
       "\t5 & GPD2   & 1.006213 & hgu133  \\\\\n",
       "\t6 & KCNMA1 & 1.006116 & hgu133p2\\\\\n",
       "\\end{tabular}\n"
      ],
      "text/markdown": [
       "\n",
       "A data.frame: 6 × 3\n",
       "\n",
       "| <!--/--> | feature &lt;chr&gt; | GIS &lt;dbl&gt; | data &lt;fct&gt; |\n",
       "|---|---|---|---|\n",
       "| 1 | PCBP4  | 1.007281 | agilent  |\n",
       "| 2 | LIF    | 1.006737 | hgu133   |\n",
       "| 3 | DKK3   | 1.006393 | hgu133p2 |\n",
       "| 4 | ROBO1  | 1.006231 | hgu95    |\n",
       "| 5 | GPD2   | 1.006213 | hgu133   |\n",
       "| 6 | KCNMA1 | 1.006116 | hgu133p2 |\n",
       "\n"
      ],
      "text/plain": [
       "  feature GIS      data    \n",
       "1 PCBP4   1.007281 agilent \n",
       "2 LIF     1.006737 hgu133  \n",
       "3 DKK3    1.006393 hgu133p2\n",
       "4 ROBO1   1.006231 hgu95   \n",
       "5 GPD2    1.006213 hgu133  \n",
       "6 KCNMA1  1.006116 hgu133p2"
      ]
     },
     "metadata": {},
     "output_type": "display_data"
    },
    {
     "data": {
      "image/png": "[encoded data removed]",
      "text/plain": [
       "plot without title"
      ]
     },
     "metadata": {
      "image/png": {
       "height": 420,
       "width": 420
      },
      "text/plain": {
       "height": 420,
       "width": 420
      }
     },
     "output_type": "display_data"
    }
   ],
   "source": [
    "gis2 = GIS(mgsa1, \"PUJANA_ATM_PCC_NETWORK\", topN = 6, barcol = gray.colors(4))\n",
    "gis2 # GIS plot for gene set ’PUJANA ATM PCC NETWORK'"
   ]
  },
  {
   "cell_type": "markdown",
   "metadata": {},
   "source": [
    "The GIS analysis indicates the PIK4CG and GMFG are the most important genes in this gene set.<br>\n",
    "\n",
    "## <a id=link8>4. Plot gene sets in projected space</a>\n",
    "\n",
    "We can also see how the gene set are presented in the lower dimension space. Here we show the projection of gene set annotations on first two dimensions. "
   ]
  },
  {
   "cell_type": "code",
   "execution_count": 16,
   "metadata": {},
   "outputs": [
    {
     "data": {
      "image/png": "[encoded data removed]",
      "text/plain": [
       "plot without title"
      ]
     },
     "metadata": {
      "image/png": {
       "height": 420,
       "width": 420
      },
      "text/plain": {
       "height": 420,
       "width": 420
      }
     },
     "output_type": "display_data"
    }
   ],
   "source": [
    "fs = getmgsa(mgsa1, \"fac.scr\") # extract the factor scores for cell lines (cell line space)\n",
    "layout(matrix(1:2, 1, 2))\n",
    "plot(fs[, 1:2], pch=20, col=colcode, axes = FALSE)\n",
    "abline(v=0, h=0)\n",
    "legend(\"topright\", col=unique(colcode), pch=20, legend=unique(cancerType), bty = \"n\")\n",
    "\n",
    "# cell line and gene sets projected on the PC1 and PC2\n",
    "plotGS(mgsa1, label.cex = 0.8, center.only = TRUE, topN = 0, label = c(gs1, gs2))"
   ]
  },
  {
   "cell_type": "markdown",
   "metadata": {
    "collapsed": true
   },
   "source": [
    "## <a id=link9>5. Perform MOGSA in two steps</a>\n",
    "\n",
    "`mogsa` perform MOGSA in one step. But in practice, one need to determine how many PCs should be retained in the step of reconstructing gene set score matrix. "
   ]
  },
  {
   "cell_type": "code",
   "execution_count": 17,
   "metadata": {},
   "outputs": [
    {
     "data": {
      "text/html": [
       "<table>\n",
       "<caption>A data.frame: 4 × 6</caption>\n",
       "<thead>\n",
       "\t<tr><th></th><th scope=col>PC1</th><th scope=col>PC2</th><th scope=col>PC3</th><th scope=col>PC4</th><th scope=col>PC5</th><th scope=col>PC6</th></tr>\n",
       "\t<tr><th></th><th scope=col>&lt;dbl&gt;</th><th scope=col>&lt;dbl&gt;</th><th scope=col>&lt;dbl&gt;</th><th scope=col>&lt;dbl&gt;</th><th scope=col>&lt;dbl&gt;</th><th scope=col>&lt;dbl&gt;</th></tr>\n",
       "</thead>\n",
       "<tbody>\n",
       "\t<tr><th scope=row>agilent</th><td>0.0005406833</td><td>0.0004119778</td><td>0.0002410063</td><td>0.0004038087</td><td>0.0001317894</td><td>0.0001783712</td></tr>\n",
       "\t<tr><th scope=row>hgu133</th><td>0.0007410830</td><td>0.0005850680</td><td>0.0003507538</td><td>0.0001448788</td><td>0.0001685482</td><td>0.0001042850</td></tr>\n",
       "\t<tr><th scope=row>hgu133p2</th><td>0.0007716595</td><td>0.0005146566</td><td>0.0003742008</td><td>0.0001281515</td><td>0.0001487516</td><td>0.0001203610</td></tr>\n",
       "\t<tr><th scope=row>hgu95</th><td>0.0008042677</td><td>0.0006210049</td><td>0.0003942394</td><td>0.0001506287</td><td>0.0001752495</td><td>0.0001102364</td></tr>\n",
       "</tbody>\n",
       "</table>\n"
      ],
      "text/latex": [
       "A data.frame: 4 × 6\n",
       "\\begin{tabular}{r|llllll}\n",
       "  & PC1 & PC2 & PC3 & PC4 & PC5 & PC6\\\\\n",
       "  & <dbl> & <dbl> & <dbl> & <dbl> & <dbl> & <dbl>\\\\\n",
       "\\hline\n",
       "\tagilent & 0.0005406833 & 0.0004119778 & 0.0002410063 & 0.0004038087 & 0.0001317894 & 0.0001783712\\\\\n",
       "\thgu133 & 0.0007410830 & 0.0005850680 & 0.0003507538 & 0.0001448788 & 0.0001685482 & 0.0001042850\\\\\n",
       "\thgu133p2 & 0.0007716595 & 0.0005146566 & 0.0003742008 & 0.0001281515 & 0.0001487516 & 0.0001203610\\\\\n",
       "\thgu95 & 0.0008042677 & 0.0006210049 & 0.0003942394 & 0.0001506287 & 0.0001752495 & 0.0001102364\\\\\n",
       "\\end{tabular}\n"
      ],
      "text/markdown": [
       "\n",
       "A data.frame: 4 × 6\n",
       "\n",
       "| <!--/--> | PC1 &lt;dbl&gt; | PC2 &lt;dbl&gt; | PC3 &lt;dbl&gt; | PC4 &lt;dbl&gt; | PC5 &lt;dbl&gt; | PC6 &lt;dbl&gt; |\n",
       "|---|---|---|---|---|---|---|\n",
       "| agilent | 0.0005406833 | 0.0004119778 | 0.0002410063 | 0.0004038087 | 0.0001317894 | 0.0001783712 |\n",
       "| hgu133 | 0.0007410830 | 0.0005850680 | 0.0003507538 | 0.0001448788 | 0.0001685482 | 0.0001042850 |\n",
       "| hgu133p2 | 0.0007716595 | 0.0005146566 | 0.0003742008 | 0.0001281515 | 0.0001487516 | 0.0001203610 |\n",
       "| hgu95 | 0.0008042677 | 0.0006210049 | 0.0003942394 | 0.0001506287 | 0.0001752495 | 0.0001102364 |\n",
       "\n"
      ],
      "text/plain": [
       "         PC1          PC2          PC3          PC4          PC5         \n",
       "agilent  0.0005406833 0.0004119778 0.0002410063 0.0004038087 0.0001317894\n",
       "hgu133   0.0007410830 0.0005850680 0.0003507538 0.0001448788 0.0001685482\n",
       "hgu133p2 0.0007716595 0.0005146566 0.0003742008 0.0001281515 0.0001487516\n",
       "hgu95    0.0008042677 0.0006210049 0.0003942394 0.0001506287 0.0001752495\n",
       "         PC6         \n",
       "agilent  0.0001783712\n",
       "hgu133   0.0001042850\n",
       "hgu133p2 0.0001203610\n",
       "hgu95    0.0001102364"
      ]
     },
     "metadata": {},
     "output_type": "display_data"
    },
    {
     "data": {
      "image/png": "[encoded data removed]",
      "text/plain": [
       "Plot with title \"Scaled variance of PCs\""
      ]
     },
     "metadata": {
      "image/png": {
       "height": 420,
       "width": 420
      },
      "text/plain": {
       "height": 420,
       "width": 420
      }
     },
     "output_type": "display_data"
    }
   ],
   "source": [
    "# perform multivariate analysis\n",
    "ana = moa(NCI60_4arrays, proc.row = \"center_ssq1\", w.data = \"inertia\", statis = TRUE)\n",
    "slot(ana, \"partial.eig\")[, 1:6] # extract the eigenvalue\n",
    "\n",
    "# show the eigenvalues in scree plot:\n",
    "layout(matrix(1:2, 1, 2))\n",
    "# cell line and gene sets projected on the PC1 and PC2\n",
    "plot(ana, value=\"eig\", type = 2, n=20, main=\"variance of PCs\") \n",
    "plot(ana, value=\"tau\", type = 2, n=20, main=\"Scaled variance of PCs\")"
   ]
  },
  {
   "cell_type": "markdown",
   "metadata": {},
   "source": [
    "The multivariate analysis (moa) returns an object of class `moa-class`. The scree plot shows the top 3 PC is the most significant since they explain much more variance than others. Several other methods, such as the informal \"elbow test\" or more formal test could be used to determine the number of retained PCs. In order to be consistent with previous example, we use top 3 PCs in the analysis."
   ]
  },
  {
   "cell_type": "code",
   "execution_count": 18,
   "metadata": {},
   "outputs": [
    {
     "name": "stdout",
     "output_type": "stream",
     "text": [
      "x is an object of \"moa\", statis is not used"
     ]
    }
   ],
   "source": [
    "mgsa2 = mogsa(x = ana, sup=NCI60_4array_supdata, nf=3)"
   ]
  },
  {
   "cell_type": "code",
   "execution_count": 19,
   "metadata": {},
   "outputs": [
    {
     "data": {
      "text/html": [
       "FALSE"
      ],
      "text/latex": [
       "FALSE"
      ],
      "text/markdown": [
       "FALSE"
      ],
      "text/plain": [
       "[1] FALSE"
      ]
     },
     "metadata": {},
     "output_type": "display_data"
    }
   ],
   "source": [
    "identical(mgsa1, mgsa2) # check if the two methods give the same results"
   ]
  },
  {
   "cell_type": "code",
   "execution_count": 20,
   "metadata": {},
   "outputs": [
    {
     "data": {
      "text/plain": [
       "R version 4.0.0 (2020-04-24)\n",
       "Platform: x86_64-w64-mingw32/x64 (64-bit)\n",
       "Running under: Windows 10 x64 (build 18363)\n",
       "\n",
       "Matrix products: default\n",
       "\n",
       "locale:\n",
       "[1] LC_COLLATE=Chinese (Simplified)_China.936 \n",
       "[2] LC_CTYPE=Chinese (Simplified)_China.936   \n",
       "[3] LC_MONETARY=Chinese (Simplified)_China.936\n",
       "[4] LC_NUMERIC=C                              \n",
       "[5] LC_TIME=Chinese (Simplified)_China.936    \n",
       "\n",
       "attached base packages:\n",
       "[1] stats     graphics  grDevices utils     datasets  methods   base     \n",
       "\n",
       "other attached packages:\n",
       "[1] gplots_3.0.3 mogsa_1.21.0\n",
       "\n",
       "loaded via a namespace (and not attached):\n",
       " [1] Rcpp_1.0.4.6         pillar_1.4.4         compiler_4.0.0      \n",
       " [4] bitops_1.0-6         base64enc_0.1-3      tools_4.0.0         \n",
       " [7] digest_0.6.25        uuid_0.1-4           bit_1.1-15.2        \n",
       "[10] checkmate_2.0.0      lattice_0.20-41      jsonlite_1.6.1      \n",
       "[13] annotate_1.66.0      evaluate_0.14        RSQLite_2.2.0       \n",
       "[16] memoise_1.1.0        rlang_0.4.6          graph_1.66.0        \n",
       "[19] Matrix_1.2-18        IRdisplay_0.7.0      DBI_1.1.0           \n",
       "[22] IRkernel_1.1         parallel_4.0.0       cluster_2.1.0       \n",
       "[25] httr_1.4.1           repr_1.1.0           genefilter_1.70.0   \n",
       "[28] rappdirs_0.3.1       caTools_1.18.0       gtools_3.8.2        \n",
       "[31] vctrs_0.3.0          S4Vectors_0.26.1     IRanges_2.22.2      \n",
       "[34] grid_4.0.0           stats4_4.0.0         bit64_0.9-7         \n",
       "[37] GSEABase_1.50.0      Biobase_2.48.0       R6_2.4.1            \n",
       "[40] AnnotationDbi_1.50.0 XML_3.99-0.3         survival_3.1-12     \n",
       "[43] gdata_2.18.0         pbdZMQ_0.3-3         corpcor_1.6.9       \n",
       "[46] blob_1.2.1           backports_1.1.6      htmltools_0.4.0     \n",
       "[49] BiocGenerics_0.34.0  splines_4.0.0        svd_0.5             \n",
       "[52] graphite_1.34.0      xtable_1.8-4         KernSmooth_2.23-17  \n",
       "[55] RCurl_1.98-1.2       crayon_1.3.4        "
      ]
     },
     "metadata": {},
     "output_type": "display_data"
    }
   ],
   "source": [
    "sessionInfo()"
   ]
  }
 ],
 "metadata": {
  "kernelspec": {
   "display_name": "R 4.0.0",
   "language": "R",
   "name": "ir400"
  },
  "language_info": {
   "codemirror_mode": "r",
   "file_extension": ".r",
   "mimetype": "text/x-r-source",
   "name": "R",
   "pygments_lexer": "r",
   "version": "4.0.0"
  }
 },
 "nbformat": 4,
 "nbformat_minor": 2
}
