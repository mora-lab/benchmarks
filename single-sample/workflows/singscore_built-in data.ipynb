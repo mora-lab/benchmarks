{
 "cells": [
  {
   "cell_type": "markdown",
   "metadata": {},
   "source": [
    "# singscore\n",
    "\n",
    "\n",
    "## 1. Install \"singscore\" R package\n",
    "\n",
    "1. 从bioconductor安装:\n",
    "> if (!requireNamespace(\"BiocManager\", quietly=TRUE))<br>\n",
    "> install.packages(\"BiocManager\")<br>\n",
    "> BiocManager::install(\"singscore\")<br>\n",
    "\n",
    "2. 或者:\n",
    "> source(\"http://www.bioconductor.org/biocLite.R\")<br>\n",
    "> options(BioC_mirror=\"http://mirrors.ustc.edu.cn/bioc/\")<br>\n",
    "> biocLite(\"singscore\")<br>\n",
    "\n",
    "3. R包的更新版本一般是在GitHub上，因此可以使用`devtools`的`devtools::install_github()`功能函数：\n",
    "> install.packages(\"devtools\")  #因此先安装devtools          <br>\n",
    "> devtools::install_github('DavisLaboratory/singscore')     <br>\n",
    "\n",
    "## 2. Load datasets and library packages\n",
    "#### Scoring samples against a gene-set"
   ]
  },
  {
   "cell_type": "code",
   "execution_count": 3,
   "metadata": {},
   "outputs": [
    {
     "data": {
      "text/plain": [
       "class: SummarizedExperiment \n",
       "dim: 11900 10 \n",
       "metadata(0):\n",
       "assays(1): counts\n",
       "rownames(11900): 2 9 ... 729164 752014\n",
       "rowData names(0):\n",
       "colnames(10): D_Ctrl_R1 D_TGFb_R1 ... Hil_Ctrl_R1 Hil_Ctrl_R2\n",
       "colData names(1): Treatment"
      ]
     },
     "metadata": {},
     "output_type": "display_data"
    },
    {
     "data": {
      "text/plain": [
       "setName: NA \n",
       "geneIds: 19, 87, ..., 402055 (total: 193)\n",
       "geneIdType: Null\n",
       "collectionType: Null \n",
       "details: use 'details(object)'"
      ]
     },
     "metadata": {},
     "output_type": "display_data"
    },
    {
     "data": {
      "text/plain": [
       "setName: NA \n",
       "geneIds: 136, 220, ..., 161291 (total: 108)\n",
       "geneIdType: Null\n",
       "collectionType: Null \n",
       "details: use 'details(object)'"
      ]
     },
     "metadata": {},
     "output_type": "display_data"
    },
    {
     "data": {
      "text/html": [
       "193"
      ],
      "text/latex": [
       "193"
      ],
      "text/markdown": [
       "193"
      ],
      "text/plain": [
       "[1] 193"
      ]
     },
     "metadata": {},
     "output_type": "display_data"
    },
    {
     "data": {
      "text/html": [
       "108"
      ],
      "text/latex": [
       "108"
      ],
      "text/markdown": [
       "108"
      ],
      "text/plain": [
       "[1] 108"
      ]
     },
     "metadata": {},
     "output_type": "display_data"
    }
   ],
   "source": [
    "library(singscore)\n",
    "# The example expression dataset and gene signatures are included in the package\n",
    "# distribution, one can directly access them using the variable names\n",
    "\n",
    "# To see the description of 'tgfb_expr_10_se','tgfb_gs_up','tgfb_gs_dn', look at \n",
    "# Have a look at the object `tgfb_expr_10_se` containing gene expression data for 10 samples \n",
    "tgfb_expr_10_se\n",
    "\n",
    "# View what tgfb_gs_up/dn contains\n",
    "tgfb_gs_up           \n",
    "tgfb_gs_dn\n",
    "\n",
    "# Get the size of the gene sets\n",
    "length(GSEABase::geneIds(tgfb_gs_up))\n",
    "length(GSEABase::geneIds(tgfb_gs_dn))"
   ]
  },
  {
   "cell_type": "markdown",
   "metadata": {},
   "source": [
    "## 3. Sample Scoring\n",
    "\n",
    "   为了给样本打分，首先需要对表达数据集进行排序，这时利用`rankGenes()`功能函数能返回一个排序的表达矩阵。然后用`simpleScore()`功能函数对这个带有基因标记的样本矩阵数据进行计算，结果获得一个含有每个样本分数的数据框。当只有一个基因集可用 (即不是向上和向下调节的集合对) 时, 可以通过参数`upSet`设置为某个基因集调用相同的函数。"
   ]
  },
  {
   "cell_type": "code",
   "execution_count": 8,
   "metadata": {},
   "outputs": [
    {
     "data": {
      "text/html": [
       "<table>\n",
       "<caption>A matrix: 6 × 10 of type int</caption>\n",
       "<thead>\n",
       "\t<tr><th></th><th scope=col>D_Ctrl_R1</th><th scope=col>D_TGFb_R1</th><th scope=col>D_Ctrl_R2</th><th scope=col>D_TGFb_R2</th><th scope=col>Hes_Ctrl_R1</th><th scope=col>Hes_TGFb_R1</th><th scope=col>Hes_Ctrl_R2</th><th scope=col>Hes_TGFb_R2</th><th scope=col>Hil_Ctrl_R1</th><th scope=col>Hil_Ctrl_R2</th></tr>\n",
       "</thead>\n",
       "<tbody>\n",
       "\t<tr><th scope=row>2</th><td> 1065</td><td> 1255</td><td> 1428</td><td>1269</td><td> 1252</td><td> 1570</td><td> 1188</td><td> 1122</td><td>1055</td><td> 1227</td></tr>\n",
       "\t<tr><th scope=row>9</th><td> 6688</td><td> 7611</td><td> 6454</td><td>6975</td><td> 6244</td><td> 7330</td><td> 7110</td><td> 7052</td><td>6247</td><td> 7315</td></tr>\n",
       "\t<tr><th scope=row>10</th><td> 1741</td><td> 1599</td><td> 1541</td><td>1686</td><td> 1777</td><td> 1638</td><td> 1713</td><td> 1418</td><td>1558</td><td> 1849</td></tr>\n",
       "\t<tr><th scope=row>12</th><td> 5441</td><td> 3682</td><td> 6495</td><td>5105</td><td> 3906</td><td> 5533</td><td> 4344</td><td> 7036</td><td>4845</td><td> 4830</td></tr>\n",
       "\t<tr><th scope=row>13</th><td> 3352</td><td> 3599</td><td> 3276</td><td>3459</td><td> 3337</td><td> 3042</td><td> 3288</td><td> 3906</td><td>3480</td><td> 3062</td></tr>\n",
       "\t<tr><th scope=row>14</th><td>10442</td><td>10013</td><td>10146</td><td>9917</td><td>10382</td><td>10085</td><td>10061</td><td>10029</td><td>9731</td><td>10268</td></tr>\n",
       "</tbody>\n",
       "</table>\n"
      ],
      "text/latex": [
       "A matrix: 6 × 10 of type int\n",
       "\\begin{tabular}{r|llllllllll}\n",
       "  & D\\_Ctrl\\_R1 & D\\_TGFb\\_R1 & D\\_Ctrl\\_R2 & D\\_TGFb\\_R2 & Hes\\_Ctrl\\_R1 & Hes\\_TGFb\\_R1 & Hes\\_Ctrl\\_R2 & Hes\\_TGFb\\_R2 & Hil\\_Ctrl\\_R1 & Hil\\_Ctrl\\_R2\\\\\n",
       "\\hline\n",
       "\t2 &  1065 &  1255 &  1428 & 1269 &  1252 &  1570 &  1188 &  1122 & 1055 &  1227\\\\\n",
       "\t9 &  6688 &  7611 &  6454 & 6975 &  6244 &  7330 &  7110 &  7052 & 6247 &  7315\\\\\n",
       "\t10 &  1741 &  1599 &  1541 & 1686 &  1777 &  1638 &  1713 &  1418 & 1558 &  1849\\\\\n",
       "\t12 &  5441 &  3682 &  6495 & 5105 &  3906 &  5533 &  4344 &  7036 & 4845 &  4830\\\\\n",
       "\t13 &  3352 &  3599 &  3276 & 3459 &  3337 &  3042 &  3288 &  3906 & 3480 &  3062\\\\\n",
       "\t14 & 10442 & 10013 & 10146 & 9917 & 10382 & 10085 & 10061 & 10029 & 9731 & 10268\\\\\n",
       "\\end{tabular}\n"
      ],
      "text/markdown": [
       "\n",
       "A matrix: 6 × 10 of type int\n",
       "\n",
       "| <!--/--> | D_Ctrl_R1 | D_TGFb_R1 | D_Ctrl_R2 | D_TGFb_R2 | Hes_Ctrl_R1 | Hes_TGFb_R1 | Hes_Ctrl_R2 | Hes_TGFb_R2 | Hil_Ctrl_R1 | Hil_Ctrl_R2 |\n",
       "|---|---|---|---|---|---|---|---|---|---|---|\n",
       "| 2 |  1065 |  1255 |  1428 | 1269 |  1252 |  1570 |  1188 |  1122 | 1055 |  1227 |\n",
       "| 9 |  6688 |  7611 |  6454 | 6975 |  6244 |  7330 |  7110 |  7052 | 6247 |  7315 |\n",
       "| 10 |  1741 |  1599 |  1541 | 1686 |  1777 |  1638 |  1713 |  1418 | 1558 |  1849 |\n",
       "| 12 |  5441 |  3682 |  6495 | 5105 |  3906 |  5533 |  4344 |  7036 | 4845 |  4830 |\n",
       "| 13 |  3352 |  3599 |  3276 | 3459 |  3337 |  3042 |  3288 |  3906 | 3480 |  3062 |\n",
       "| 14 | 10442 | 10013 | 10146 | 9917 | 10382 | 10085 | 10061 | 10029 | 9731 | 10268 |\n",
       "\n"
      ],
      "text/plain": [
       "   D_Ctrl_R1 D_TGFb_R1 D_Ctrl_R2 D_TGFb_R2 Hes_Ctrl_R1 Hes_TGFb_R1 Hes_Ctrl_R2\n",
       "2   1065      1255      1428     1269       1252        1570        1188      \n",
       "9   6688      7611      6454     6975       6244        7330        7110      \n",
       "10  1741      1599      1541     1686       1777        1638        1713      \n",
       "12  5441      3682      6495     5105       3906        5533        4344      \n",
       "13  3352      3599      3276     3459       3337        3042        3288      \n",
       "14 10442     10013     10146     9917      10382       10085       10061      \n",
       "   Hes_TGFb_R2 Hil_Ctrl_R1 Hil_Ctrl_R2\n",
       "2   1122       1055         1227      \n",
       "9   7052       6247         7315      \n",
       "10  1418       1558         1849      \n",
       "12  7036       4845         4830      \n",
       "13  3906       3480         3062      \n",
       "14 10029       9731        10268      "
      ]
     },
     "metadata": {},
     "output_type": "display_data"
    },
    {
     "data": {
      "text/html": [
       "<table>\n",
       "<caption>A data.frame: 6 × 6</caption>\n",
       "<thead>\n",
       "\t<tr><th></th><th scope=col>TotalScore</th><th scope=col>TotalDispersion</th><th scope=col>UpScore</th><th scope=col>UpDispersion</th><th scope=col>DownScore</th><th scope=col>DownDispersion</th></tr>\n",
       "\t<tr><th></th><th scope=col>&lt;dbl&gt;</th><th scope=col>&lt;dbl&gt;</th><th scope=col>&lt;dbl&gt;</th><th scope=col>&lt;dbl&gt;</th><th scope=col>&lt;dbl&gt;</th><th scope=col>&lt;dbl&gt;</th></tr>\n",
       "</thead>\n",
       "<tbody>\n",
       "\t<tr><th scope=row>D_Ctrl_R1</th><td>-0.088097993</td><td>5734.697</td><td>0.06096415</td><td>3119.390</td><td>-0.14906214</td><td>2615.306</td></tr>\n",
       "\t<tr><th scope=row>D_TGFb_R1</th><td> 0.286994210</td><td>4435.939</td><td>0.24931565</td><td>2352.886</td><td> 0.03767856</td><td>2083.053</td></tr>\n",
       "\t<tr><th scope=row>D_Ctrl_R2</th><td>-0.098964086</td><td>5722.836</td><td>0.06841242</td><td>3129.769</td><td>-0.16737650</td><td>2593.067</td></tr>\n",
       "\t<tr><th scope=row>D_TGFb_R2</th><td> 0.270721958</td><td>4757.663</td><td>0.25035661</td><td>2470.012</td><td> 0.02036534</td><td>2287.652</td></tr>\n",
       "\t<tr><th scope=row>Hes_Ctrl_R1</th><td>-0.002084788</td><td>5492.292</td><td>0.08046490</td><td>3134.216</td><td>-0.08254969</td><td>2358.075</td></tr>\n",
       "\t<tr><th scope=row>Hes_TGFb_R1</th><td> 0.176122839</td><td>5195.030</td><td>0.22894035</td><td>2416.638</td><td>-0.05281751</td><td>2778.392</td></tr>\n",
       "</tbody>\n",
       "</table>\n"
      ],
      "text/latex": [
       "A data.frame: 6 × 6\n",
       "\\begin{tabular}{r|llllll}\n",
       "  & TotalScore & TotalDispersion & UpScore & UpDispersion & DownScore & DownDispersion\\\\\n",
       "  & <dbl> & <dbl> & <dbl> & <dbl> & <dbl> & <dbl>\\\\\n",
       "\\hline\n",
       "\tD\\_Ctrl\\_R1 & -0.088097993 & 5734.697 & 0.06096415 & 3119.390 & -0.14906214 & 2615.306\\\\\n",
       "\tD\\_TGFb\\_R1 &  0.286994210 & 4435.939 & 0.24931565 & 2352.886 &  0.03767856 & 2083.053\\\\\n",
       "\tD\\_Ctrl\\_R2 & -0.098964086 & 5722.836 & 0.06841242 & 3129.769 & -0.16737650 & 2593.067\\\\\n",
       "\tD\\_TGFb\\_R2 &  0.270721958 & 4757.663 & 0.25035661 & 2470.012 &  0.02036534 & 2287.652\\\\\n",
       "\tHes\\_Ctrl\\_R1 & -0.002084788 & 5492.292 & 0.08046490 & 3134.216 & -0.08254969 & 2358.075\\\\\n",
       "\tHes\\_TGFb\\_R1 &  0.176122839 & 5195.030 & 0.22894035 & 2416.638 & -0.05281751 & 2778.392\\\\\n",
       "\\end{tabular}\n"
      ],
      "text/markdown": [
       "\n",
       "A data.frame: 6 × 6\n",
       "\n",
       "| <!--/--> | TotalScore &lt;dbl&gt; | TotalDispersion &lt;dbl&gt; | UpScore &lt;dbl&gt; | UpDispersion &lt;dbl&gt; | DownScore &lt;dbl&gt; | DownDispersion &lt;dbl&gt; |\n",
       "|---|---|---|---|---|---|---|\n",
       "| D_Ctrl_R1 | -0.088097993 | 5734.697 | 0.06096415 | 3119.390 | -0.14906214 | 2615.306 |\n",
       "| D_TGFb_R1 |  0.286994210 | 4435.939 | 0.24931565 | 2352.886 |  0.03767856 | 2083.053 |\n",
       "| D_Ctrl_R2 | -0.098964086 | 5722.836 | 0.06841242 | 3129.769 | -0.16737650 | 2593.067 |\n",
       "| D_TGFb_R2 |  0.270721958 | 4757.663 | 0.25035661 | 2470.012 |  0.02036534 | 2287.652 |\n",
       "| Hes_Ctrl_R1 | -0.002084788 | 5492.292 | 0.08046490 | 3134.216 | -0.08254969 | 2358.075 |\n",
       "| Hes_TGFb_R1 |  0.176122839 | 5195.030 | 0.22894035 | 2416.638 | -0.05281751 | 2778.392 |\n",
       "\n"
      ],
      "text/plain": [
       "            TotalScore   TotalDispersion UpScore    UpDispersion DownScore  \n",
       "D_Ctrl_R1   -0.088097993 5734.697        0.06096415 3119.390     -0.14906214\n",
       "D_TGFb_R1    0.286994210 4435.939        0.24931565 2352.886      0.03767856\n",
       "D_Ctrl_R2   -0.098964086 5722.836        0.06841242 3129.769     -0.16737650\n",
       "D_TGFb_R2    0.270721958 4757.663        0.25035661 2470.012      0.02036534\n",
       "Hes_Ctrl_R1 -0.002084788 5492.292        0.08046490 3134.216     -0.08254969\n",
       "Hes_TGFb_R1  0.176122839 5195.030        0.22894035 2416.638     -0.05281751\n",
       "            DownDispersion\n",
       "D_Ctrl_R1   2615.306      \n",
       "D_TGFb_R1   2083.053      \n",
       "D_Ctrl_R2   2593.067      \n",
       "D_TGFb_R2   2287.652      \n",
       "Hes_Ctrl_R1 2358.075      \n",
       "Hes_TGFb_R1 2778.392      "
      ]
     },
     "metadata": {},
     "output_type": "display_data"
    }
   ],
   "source": [
    "# The recommended method for dealing with ties in ranking is 'min', \n",
    "# you can change by specifying 'tiesMethod' parameter for rankGenes function.\n",
    "rankData <- rankGenes(tgfb_expr_10_se)\n",
    "head(rankData)\n",
    "\n",
    "# Given the ranked data and gene signature, simpleScore returns the scores and \n",
    "# dispersions for each sample\n",
    "scoredf <- simpleScore(rankData, upSet = tgfb_gs_up, downSet = tgfb_gs_dn)\n",
    "head(scoredf)\n",
    "\n",
    "# To view more details of the simpleScore, use ?simpleScore\n",
    "# Note that, when only one gene set is available in a gene signature, one can \n",
    "# only input values for the upSet argument. In addition, a knownDirection \n",
    "# argument can be set to FALSE if the direction of the gene set is unknown.\n",
    "\n",
    "# simpleScore(rankData, upSet = tgfb_gs_up, knownDirection = FALSE)"
   ]
  },
  {
   "cell_type": "markdown",
   "metadata": {},
   "source": [
    "返回的数据框（scoredf）包含了上调和下调基因集的分数以及综合分数(TotalScore)。默认情况下，`Dispersion`是使用 `mad()`功能函数计算的，它也能通过使用其他函数传递给`simpleScore()`的参数`dispersionFun`来计算，比如利用IQR 参数来计算四分位数之间的范围。\n",
    "\n",
    "## 4. Visualisation and diagnostic functions\n",
    "\n",
    "### 4.1 Plot Rank Densities\n",
    "\n",
    "每个样本的分数情况都在对象`scoredf`里，使用`plotRankDensity()`功能函数来画出每个样本在基因集里的基因的排序情况。<br>\n",
    "这个density plot的计算方法是KDE。同时，利用`drop = FALSE `来维持数据框或矩阵的结构。"
   ]
  },
  {
   "cell_type": "code",
   "execution_count": 9,
   "metadata": {},
   "outputs": [
    {
     "data": {
      "text/html": [
       "<table>\n",
       "<caption>A matrix: 6 × 1 of type int</caption>\n",
       "<thead>\n",
       "\t<tr><th></th><th scope=col>D_TGFb_R1</th></tr>\n",
       "</thead>\n",
       "<tbody>\n",
       "\t<tr><th scope=row>2</th><td> 1255</td></tr>\n",
       "\t<tr><th scope=row>9</th><td> 7611</td></tr>\n",
       "\t<tr><th scope=row>10</th><td> 1599</td></tr>\n",
       "\t<tr><th scope=row>12</th><td> 3682</td></tr>\n",
       "\t<tr><th scope=row>13</th><td> 3599</td></tr>\n",
       "\t<tr><th scope=row>14</th><td>10013</td></tr>\n",
       "</tbody>\n",
       "</table>\n"
      ],
      "text/latex": [
       "A matrix: 6 × 1 of type int\n",
       "\\begin{tabular}{r|l}\n",
       "  & D\\_TGFb\\_R1\\\\\n",
       "\\hline\n",
       "\t2 &  1255\\\\\n",
       "\t9 &  7611\\\\\n",
       "\t10 &  1599\\\\\n",
       "\t12 &  3682\\\\\n",
       "\t13 &  3599\\\\\n",
       "\t14 & 10013\\\\\n",
       "\\end{tabular}\n"
      ],
      "text/markdown": [
       "\n",
       "A matrix: 6 × 1 of type int\n",
       "\n",
       "| <!--/--> | D_TGFb_R1 |\n",
       "|---|---|\n",
       "| 2 |  1255 |\n",
       "| 9 |  7611 |\n",
       "| 10 |  1599 |\n",
       "| 12 |  3682 |\n",
       "| 13 |  3599 |\n",
       "| 14 | 10013 |\n",
       "\n"
      ],
      "text/plain": [
       "   D_TGFb_R1\n",
       "2   1255    \n",
       "9   7611    \n",
       "10  1599    \n",
       "12  3682    \n",
       "13  3599    \n",
       "14 10013    "
      ]
     },
     "metadata": {},
     "output_type": "display_data"
    },
    {
     "data": {
      "text/html": [
       "<table>\n",
       "<caption>A matrix: 1 × 10 of type int</caption>\n",
       "<thead>\n",
       "\t<tr><th></th><th scope=col>D_Ctrl_R1</th><th scope=col>D_TGFb_R1</th><th scope=col>D_Ctrl_R2</th><th scope=col>D_TGFb_R2</th><th scope=col>Hes_Ctrl_R1</th><th scope=col>Hes_TGFb_R1</th><th scope=col>Hes_Ctrl_R2</th><th scope=col>Hes_TGFb_R2</th><th scope=col>Hil_Ctrl_R1</th><th scope=col>Hil_Ctrl_R2</th></tr>\n",
       "</thead>\n",
       "<tbody>\n",
       "\t<tr><th scope=row>9</th><td>6688</td><td>7611</td><td>6454</td><td>6975</td><td>6244</td><td>7330</td><td>7110</td><td>7052</td><td>6247</td><td>7315</td></tr>\n",
       "</tbody>\n",
       "</table>\n"
      ],
      "text/latex": [
       "A matrix: 1 × 10 of type int\n",
       "\\begin{tabular}{r|llllllllll}\n",
       "  & D\\_Ctrl\\_R1 & D\\_TGFb\\_R1 & D\\_Ctrl\\_R2 & D\\_TGFb\\_R2 & Hes\\_Ctrl\\_R1 & Hes\\_TGFb\\_R1 & Hes\\_Ctrl\\_R2 & Hes\\_TGFb\\_R2 & Hil\\_Ctrl\\_R1 & Hil\\_Ctrl\\_R2\\\\\n",
       "\\hline\n",
       "\t9 & 6688 & 7611 & 6454 & 6975 & 6244 & 7330 & 7110 & 7052 & 6247 & 7315\\\\\n",
       "\\end{tabular}\n"
      ],
      "text/markdown": [
       "\n",
       "A matrix: 1 × 10 of type int\n",
       "\n",
       "| <!--/--> | D_Ctrl_R1 | D_TGFb_R1 | D_Ctrl_R2 | D_TGFb_R2 | Hes_Ctrl_R1 | Hes_TGFb_R1 | Hes_Ctrl_R2 | Hes_TGFb_R2 | Hil_Ctrl_R1 | Hil_Ctrl_R2 |\n",
       "|---|---|---|---|---|---|---|---|---|---|---|\n",
       "| 9 | 6688 | 7611 | 6454 | 6975 | 6244 | 7330 | 7110 | 7052 | 6247 | 7315 |\n",
       "\n"
      ],
      "text/plain": [
       "  D_Ctrl_R1 D_TGFb_R1 D_Ctrl_R2 D_TGFb_R2 Hes_Ctrl_R1 Hes_TGFb_R1 Hes_Ctrl_R2\n",
       "9 6688      7611      6454      6975      6244        7330        7110       \n",
       "  Hes_TGFb_R2 Hil_Ctrl_R1 Hil_Ctrl_R2\n",
       "9 7052        6247        7315       "
      ]
     },
     "metadata": {},
     "output_type": "display_data"
    },
    {
     "data": {
      "image/png": "[encoded data removed]",
      "text/plain": [
       "plot without title"
      ]
     },
     "metadata": {},
     "output_type": "display_data"
    }
   ],
   "source": [
    "#  You can provide the upSet alone when working with unpaired gene-sets \n",
    "# We plot the second sample in rankData, view it by \n",
    "head(rankData[, 2, drop = FALSE])\n",
    "head(rankData[2, , drop = FALSE])\n",
    "\n",
    "plotRankDensity(rankData[,2,drop = FALSE], upSet = tgfb_gs_up, \n",
    "                downSet = tgfb_gs_dn, isInteractive = FALSE)\n",
    "\n",
    "## Setting `isInteractive = TRUE` generates an interactive plot using the `plotly` package.\n",
    "## Hovering over the bars in the interactive plot allows you to get information \n",
    "## such as the normalised rank (between 0 and 1) and ID of the gene represented by the bar. \n",
    "## For the rest of the plotting functions, the isInteractive = TRUE argument has the same behavior."
   ]
  },
  {
   "cell_type": "markdown",
   "metadata": {},
   "source": [
    "### 4.2 Plot dispersions of scores\n",
    "\n",
    "`plotDispersion()`功能函数给总分、上调分数和下调分数画了一张散点图‘score VS. dispersions’。它需要`scoredf`对象的数据框内容以及部分注释来区分不同的点。"
   ]
  },
  {
   "cell_type": "code",
   "execution_count": 10,
   "metadata": {},
   "outputs": [
    {
     "data": {
      "text/html": [
       "<ol class=list-inline>\n",
       "\t<li>'Control'</li>\n",
       "\t<li>'TGFb'</li>\n",
       "\t<li>'Control'</li>\n",
       "\t<li>'TGFb'</li>\n",
       "\t<li>'Control'</li>\n",
       "\t<li>'TGFb'</li>\n",
       "\t<li>'Control'</li>\n",
       "\t<li>'TGFb'</li>\n",
       "\t<li>'Control'</li>\n",
       "\t<li>'Control'</li>\n",
       "</ol>\n"
      ],
      "text/latex": [
       "\\begin{enumerate*}\n",
       "\\item 'Control'\n",
       "\\item 'TGFb'\n",
       "\\item 'Control'\n",
       "\\item 'TGFb'\n",
       "\\item 'Control'\n",
       "\\item 'TGFb'\n",
       "\\item 'Control'\n",
       "\\item 'TGFb'\n",
       "\\item 'Control'\n",
       "\\item 'Control'\n",
       "\\end{enumerate*}\n"
      ],
      "text/markdown": [
       "1. 'Control'\n",
       "2. 'TGFb'\n",
       "3. 'Control'\n",
       "4. 'TGFb'\n",
       "5. 'Control'\n",
       "6. 'TGFb'\n",
       "7. 'Control'\n",
       "8. 'TGFb'\n",
       "9. 'Control'\n",
       "10. 'Control'\n",
       "\n",
       "\n"
      ],
      "text/plain": [
       " [1] \"Control\" \"TGFb\"    \"Control\" \"TGFb\"    \"Control\" \"TGFb\"    \"Control\"\n",
       " [8] \"TGFb\"    \"Control\" \"Control\""
      ]
     },
     "metadata": {},
     "output_type": "display_data"
    },
    {
     "data": {
      "image/png": "[encoded data removed]",
      "text/plain": [
       "plot without title"
      ]
     },
     "metadata": {},
     "output_type": "display_data"
    }
   ],
   "source": [
    "#  Get the annotations of samples by their sample names\n",
    "tgfbAnnot <- data.frame(SampleID = colnames(tgfb_expr_10_se),\n",
    "                       Type = NA)\n",
    "tgfbAnnot$Type[grepl(\"Ctrl\", tgfbAnnot$SampleID)] = \"Control\"\n",
    "tgfbAnnot$Type[grepl(\"TGFb\", tgfbAnnot$SampleID)] = \"TGFb\"\n",
    "\n",
    "# Sample annotations\n",
    "tgfbAnnot$Type\n",
    "\n",
    "plotDispersion(scoredf, annot = tgfbAnnot$Type, isInteractive = FALSE)\n",
    "\n",
    "# To see an interactive version powered by 'plotly', simply set the \n",
    "# 'isInteractive' = TRUE, i.e :\n",
    "#\n",
    "# plotDispersion(scoredf,annot = tgfbAnnot$Type,isInteractive = TRUE)"
   ]
  },
  {
   "cell_type": "markdown",
   "metadata": {},
   "source": [
    "### 4.3 Plot score landscape\n",
    "\n",
    "`plotScoreLandscape()` plots the scores of the samples against two different gene signatures in a landscape for exploring their relationships.\n",
    "\n",
    "There are two styles of the landscape plot (i.e scatter and hexBin plot). When the number of samples in the gene expression dataset is above the default threshold (100), plotScoreLandscape generates a hex bin plot otherwise a scatter plot. The threshold can be modified by changing the hexMin.\n",
    "\n",
    "In order to better demonstrate the usage of plotScoreLandscape, we load some additional datasets consisting of pre-computed scores of larger public datasets. scoredf_ccle_epi and scoredf_ccle_mes are two scored results of a CCLE dataset (Barretina et al. 2012) against an epithelial gene signature and mesenchymal gene signature (Tan et al. 2014) respectively. For details on how to obtain the dataset please see the section at the end of the vignette."
   ]
  },
  {
   "cell_type": "code",
   "execution_count": 11,
   "metadata": {},
   "outputs": [
    {
     "data": {
      "image/png": "[encoded data removed]",
      "text/plain": [
       "plot without title"
      ]
     },
     "metadata": {},
     "output_type": "display_data"
    }
   ],
   "source": [
    "plotScoreLandscape(scoredf_ccle_epi, scoredf_ccle_mes, \n",
    "                   scorenames = c('ccle-EPI','ccle-MES'),hexMin = 10)"
   ]
  },
  {
   "cell_type": "markdown",
   "metadata": {},
   "source": [
    "Similarly, pre-computed scores for the TCGA breast cancer RNA-seq dataset against epithelial and mesenchymal gene signatures are stored in scoredf_tcga_epi and scoredf_tcga_mes respectively (Tan et al. 2014). The utility of this function is enhanced when the number of samples is large."
   ]
  },
  {
   "cell_type": "code",
   "execution_count": 12,
   "metadata": {},
   "outputs": [
    {
     "data": {
      "image/png": "[encoded data removed]",
      "text/plain": [
       "plot without title"
      ]
     },
     "metadata": {},
     "output_type": "display_data"
    }
   ],
   "source": [
    "tcgaLandscape <- plotScoreLandscape(scoredf_tcga_epi, scoredf_tcga_mes, \n",
    "                   scorenames = c('tcga_EPI','tcga_MES'), isInteractive = FALSE)\n",
    "\n",
    "tcgaLandscape"
   ]
  },
  {
   "cell_type": "markdown",
   "metadata": {},
   "source": [
    "You can also project new data points onto the landscape plot generated above by using the projectScoreLandscape function. For example, the plot below overlays 3 CCLE samples onto the TCGA epithelial-mesenchymal landscape. Points are labeled with their sample names by default"
   ]
  },
  {
   "cell_type": "code",
   "execution_count": 13,
   "metadata": {},
   "outputs": [
    {
     "name": "stderr",
     "output_type": "stream",
     "text": [
      "Warning message:\n",
      "\"Ignoring unknown aesthetics: text\""
     ]
    },
    {
     "data": {
      "image/png": "[encoded data removed]",
      "text/plain": [
       "plot without title"
      ]
     },
     "metadata": {},
     "output_type": "display_data"
    }
   ],
   "source": [
    "# Project on the above generated 'tcgaLandscape' plot\n",
    "projectScoreLandscape(plotObj = tcgaLandscape, scoredf_ccle_epi, \n",
    "                      scoredf_ccle_mes,\n",
    "                      subSamples = rownames(scoredf_ccle_epi)[c(1,4,5)],\n",
    "                      annot = rownames(scoredf_ccle_epi)[c(1,4,5)], \n",
    "                      sampleLabels = NULL,\n",
    "                      isInteractive = FALSE)"
   ]
  },
  {
   "cell_type": "code",
   "execution_count": 14,
   "metadata": {},
   "outputs": [
    {
     "name": "stderr",
     "output_type": "stream",
     "text": [
      "Warning message:\n",
      "\"Ignoring unknown aesthetics: text\""
     ]
    },
    {
     "data": {
      "image/png": "[encoded data removed]",
      "text/plain": [
       "plot without title"
      ]
     },
     "metadata": {},
     "output_type": "display_data"
    }
   ],
   "source": [
    "# Custom labels can be provided by passing a character vector to the sampleLabels argument.\n",
    "projectScoreLandscape(plotObj = tcgaLandscape, scoredf_ccle_epi, scoredf_ccle_mes,\n",
    "                      subSamples = rownames(scoredf_ccle_epi)[c(1,4,5,8,9)],\n",
    "                      sampleLabels = c('l1','l2','l3','l4','l5'),\n",
    "                      annot = rownames(scoredf_ccle_epi)[c(1,4,5,8,9)], \n",
    "                      isInteractive = FALSE)"
   ]
  },
  {
   "cell_type": "markdown",
   "metadata": {},
   "source": [
    "## 5. Estimate empirical p-values for the obtained scores in individual samples and plot null distributions\n",
    "\n",
    "### 5.1 Permutation test\n",
    "假设检验<br>\n",
    "Hypothesis testing of the calculated scores is performed using a permutation test. The null hypothesis is that the gene-set is not enriched in the sample. For each sample, gene labels are randomly shuffled and scores computed against the gene-set. This is done `B` times to generate the null distribution. The `generateNull()` function computes these for multiple samples (n) simultaneously resulting in an `n×B` matrix with permuted scores along the columns for each sample.\n",
    "\n",
    "The permutation function has parallel computing features provided by using `BiocParallel`."
   ]
  },
  {
   "cell_type": "code",
   "execution_count": 15,
   "metadata": {},
   "outputs": [
    {
     "data": {
      "text/html": [
       "<table>\n",
       "<caption>A data.frame: 6 × 5</caption>\n",
       "<thead>\n",
       "\t<tr><th scope=col>D_Ctrl_R1</th><th scope=col>D_TGFb_R1</th><th scope=col>D_Ctrl_R2</th><th scope=col>D_TGFb_R2</th><th scope=col>Hes_Ctrl_R1</th></tr>\n",
       "\t<tr><th scope=col>&lt;dbl&gt;</th><th scope=col>&lt;dbl&gt;</th><th scope=col>&lt;dbl&gt;</th><th scope=col>&lt;dbl&gt;</th><th scope=col>&lt;dbl&gt;</th></tr>\n",
       "</thead>\n",
       "<tbody>\n",
       "\t<tr><td>0.01718855</td><td>0.005707284</td><td>0.01798685</td><td>0.002767871</td><td>0.013006266</td></tr>\n",
       "\t<tr><td>0.02130207</td><td>0.017943832</td><td>0.02158246</td><td>0.015729994</td><td>0.017255527</td></tr>\n",
       "\t<tr><td>0.01837595</td><td>0.013637389</td><td>0.01752377</td><td>0.013189854</td><td>0.013543794</td></tr>\n",
       "\t<tr><td>0.01027262</td><td>0.009992019</td><td>0.01504365</td><td>0.009174445</td><td>0.005689081</td></tr>\n",
       "\t<tr><td>0.06362106</td><td>0.060865232</td><td>0.06604272</td><td>0.062295300</td><td>0.065261197</td></tr>\n",
       "\t<tr><td>0.02950583</td><td>0.022229053</td><td>0.03006665</td><td>0.028855037</td><td>0.022657682</td></tr>\n",
       "</tbody>\n",
       "</table>\n"
      ],
      "text/latex": [
       "A data.frame: 6 × 5\n",
       "\\begin{tabular}{r|lllll}\n",
       " D\\_Ctrl\\_R1 & D\\_TGFb\\_R1 & D\\_Ctrl\\_R2 & D\\_TGFb\\_R2 & Hes\\_Ctrl\\_R1\\\\\n",
       " <dbl> & <dbl> & <dbl> & <dbl> & <dbl>\\\\\n",
       "\\hline\n",
       "\t 0.01718855 & 0.005707284 & 0.01798685 & 0.002767871 & 0.013006266\\\\\n",
       "\t 0.02130207 & 0.017943832 & 0.02158246 & 0.015729994 & 0.017255527\\\\\n",
       "\t 0.01837595 & 0.013637389 & 0.01752377 & 0.013189854 & 0.013543794\\\\\n",
       "\t 0.01027262 & 0.009992019 & 0.01504365 & 0.009174445 & 0.005689081\\\\\n",
       "\t 0.06362106 & 0.060865232 & 0.06604272 & 0.062295300 & 0.065261197\\\\\n",
       "\t 0.02950583 & 0.022229053 & 0.03006665 & 0.028855037 & 0.022657682\\\\\n",
       "\\end{tabular}\n"
      ],
      "text/markdown": [
       "\n",
       "A data.frame: 6 × 5\n",
       "\n",
       "| D_Ctrl_R1 &lt;dbl&gt; | D_TGFb_R1 &lt;dbl&gt; | D_Ctrl_R2 &lt;dbl&gt; | D_TGFb_R2 &lt;dbl&gt; | Hes_Ctrl_R1 &lt;dbl&gt; |\n",
       "|---|---|---|---|---|\n",
       "| 0.01718855 | 0.005707284 | 0.01798685 | 0.002767871 | 0.013006266 |\n",
       "| 0.02130207 | 0.017943832 | 0.02158246 | 0.015729994 | 0.017255527 |\n",
       "| 0.01837595 | 0.013637389 | 0.01752377 | 0.013189854 | 0.013543794 |\n",
       "| 0.01027262 | 0.009992019 | 0.01504365 | 0.009174445 | 0.005689081 |\n",
       "| 0.06362106 | 0.060865232 | 0.06604272 | 0.062295300 | 0.065261197 |\n",
       "| 0.02950583 | 0.022229053 | 0.03006665 | 0.028855037 | 0.022657682 |\n",
       "\n"
      ],
      "text/plain": [
       "  D_Ctrl_R1  D_TGFb_R1   D_Ctrl_R2  D_TGFb_R2   Hes_Ctrl_R1\n",
       "1 0.01718855 0.005707284 0.01798685 0.002767871 0.013006266\n",
       "2 0.02130207 0.017943832 0.02158246 0.015729994 0.017255527\n",
       "3 0.01837595 0.013637389 0.01752377 0.013189854 0.013543794\n",
       "4 0.01027262 0.009992019 0.01504365 0.009174445 0.005689081\n",
       "5 0.06362106 0.060865232 0.06604272 0.062295300 0.065261197\n",
       "6 0.02950583 0.022229053 0.03006665 0.028855037 0.022657682"
      ]
     },
     "metadata": {},
     "output_type": "display_data"
    }
   ],
   "source": [
    "# tgfb_gs_up : up regulated gene set in the tgfb gene signature\n",
    "# tgfb_gs_dn : down regulated gene set in the tgfb gene signature\n",
    "\n",
    "# This permutation function uses BiocParallel::bplapply() parallel function, by \n",
    "# supplying the first 5 columns of rankData, we generate Null distribution for \n",
    "# the first 5 samples.\n",
    "\n",
    "# detect how many CPU cores are available for your machine\n",
    "# parallel::detectCores()\n",
    "\n",
    "ncores <- parallel::detectCores() - 2 \n",
    "\n",
    "# Provide the generateNull() function the number of cores you would like\n",
    "# the function to use by passing the ncore parameter\n",
    "\n",
    "permuteResult <- generateNull(upSet = tgfb_gs_up, downSet = tgfb_gs_dn, \n",
    "                              rankData = rankData[,1:5], centerScore = TRUE,\n",
    "                              knownDirection = TRUE, B = 1000, ncores = ncores, \n",
    "                              seed = 1, useBPPARAM = NULL)\n",
    "# Note here, the useBPPARAM parameter allows user to supply a BPPARAM variable \n",
    "# as a parameter which decides the type of parallel ends to use.\n",
    "# such as \n",
    "# snow <-  BiocParallel::SnowParam(type = \"SOCK\")\n",
    "# permuteResult <-  generateNull(upSet = tgfb_gs_up, downSet = tgfb_gs_dn,\n",
    "# rankData[,1:5],  B = 1000, seed = 1,ncores = ncores, useBPPARAM = snow)\n",
    "\n",
    "# If you are not sure about this, just leave the value as NULL and set how many\n",
    "# CPU cores to use via the ncores argument. It will use the default parallel \n",
    "# backend for your machine.\n",
    "\n",
    "# For more information, please see the help page for ?generateNull()\n",
    "# Please also note that one should pass the same values to the upSet, \n",
    "# downSet, centerScore and knownDirection arguments as what they provide \n",
    "# for the simpleScore() function to generate a proper null distribution.\n",
    "\n",
    "head(permuteResult)"
   ]
  },
  {
   "cell_type": "markdown",
   "metadata": {},
   "source": [
    "### 5.2 Estimate empirical p-values估计经验值\n"
   ]
  },
  {
   "cell_type": "markdown",
   "metadata": {},
   "source": [
    "[Math Processing Error]-values can be estimated using the getPvals() function by providing the null distributions calculated above. Unless all permutations are exhausted (mostly infeasible), the minimum [Math Processing Error]-value obtained is [Math Processing Error]."
   ]
  },
  {
   "cell_type": "code",
   "execution_count": 16,
   "metadata": {},
   "outputs": [
    {
     "data": {
      "text/html": [
       "<dl class=dl-horizontal>\n",
       "\t<dt>D_Ctrl_R1</dt>\n",
       "\t\t<dd>0.993</dd>\n",
       "\t<dt>D_TGFb_R1</dt>\n",
       "\t\t<dd>0.001</dd>\n",
       "\t<dt>D_Ctrl_R2</dt>\n",
       "\t\t<dd>0.995</dd>\n",
       "\t<dt>D_TGFb_R2</dt>\n",
       "\t\t<dd>0.001</dd>\n",
       "\t<dt>Hes_Ctrl_R1</dt>\n",
       "\t\t<dd>0.525</dd>\n",
       "</dl>\n"
      ],
      "text/latex": [
       "\\begin{description*}\n",
       "\\item[D\\textbackslash{}\\_Ctrl\\textbackslash{}\\_R1] 0.993\n",
       "\\item[D\\textbackslash{}\\_TGFb\\textbackslash{}\\_R1] 0.001\n",
       "\\item[D\\textbackslash{}\\_Ctrl\\textbackslash{}\\_R2] 0.995\n",
       "\\item[D\\textbackslash{}\\_TGFb\\textbackslash{}\\_R2] 0.001\n",
       "\\item[Hes\\textbackslash{}\\_Ctrl\\textbackslash{}\\_R1] 0.525\n",
       "\\end{description*}\n"
      ],
      "text/markdown": [
       "D_Ctrl_R1\n",
       ":   0.993D_TGFb_R1\n",
       ":   0.001D_Ctrl_R2\n",
       ":   0.995D_TGFb_R2\n",
       ":   0.001Hes_Ctrl_R1\n",
       ":   0.525\n",
       "\n"
      ],
      "text/plain": [
       "  D_Ctrl_R1   D_TGFb_R1   D_Ctrl_R2   D_TGFb_R2 Hes_Ctrl_R1 \n",
       "      0.993       0.001       0.995       0.001       0.525 "
      ]
     },
     "metadata": {},
     "output_type": "display_data"
    }
   ],
   "source": [
    "pvals <- getPvals(permuteResult,scoredf[1:5,,drop = FALSE])\n",
    "\n",
    "# getPval returns p-values for each individual sample.\n",
    "# show the p-values for first 5 samples\n",
    "pvals"
   ]
  },
  {
   "cell_type": "markdown",
   "metadata": {},
   "source": [
    "### 5.3  Plot null distribution\n",
    "\n",
    "Plot the null distributions for the first sample with the estimated [Math Processing Error]-value labelled. The function uses the sampleNames parameter to decide which samples to plot.<br>\n",
    "You can provide multiple sample names to plot these samples in one plot. For example, plot the first 2 samples."
   ]
  },
  {
   "cell_type": "code",
   "execution_count": 17,
   "metadata": {},
   "outputs": [
    {
     "name": "stderr",
     "output_type": "stream",
     "text": [
      "Using  as id variables\n"
     ]
    },
    {
     "data": {
      "image/png": "[encoded data removed]",
      "text/plain": [
       "plot without title"
      ]
     },
     "metadata": {},
     "output_type": "display_data"
    },
    {
     "data": {
      "image/png": "[encoded data removed]",
      "text/plain": [
       "plot without title"
      ]
     },
     "metadata": {},
     "output_type": "display_data"
    }
   ],
   "source": [
    "plotNull(permuteResult,scoredf,pvals,sampleNames = names(pvals)[1])\n",
    "\n",
    "\n",
    "# plot the null distributions for the first 2 samples and the p-values\n",
    "# We can see from the plot, the control samples are not significant and TGFb \n",
    "# samples are very significant with very low p-values\n",
    "plotNull(permuteResult,scoredf,pvals,sampleNames = names(pvals)[1:2])"
   ]
  },
  {
   "cell_type": "markdown",
   "metadata": {},
   "source": [
    "## More on the datasets\n",
    "\n",
    "\n",
    "1. TGFb-EMT data\n",
    "\n",
    "   In the examples above, we loaded a gene expression matrix data `tgfb_expr_10_se`. This dataset is a ten-sample subset of a full dataset originally from the integrated TGFb-EMT data published by (Foroutan, Cursons, et al. 2017). The full dataset can be accessed here https://figshare.com/articles/comBat_corrected_Foroutan_et_al_2017/5682862. The `tgfb_gs_up` and `tgfb_gs_dn` are the derived up-regulated/down-regulated genes of the TGFb-induced EMT gene signature by (Foroutan, Cursons, et al. 2017) (see Table S1. TGFβ-EMT signature).\n",
    "\n",
    "2. CCLE dataset\n",
    "\n",
    "   `scoredf_ccle_epi` and `scoredf_ccle_mes` are two data frames of the pre-computed scores using The Cancer Cell Line Encyclopaedia (CCLE) breast cancer cell line RNA-seq dataset (Barretina et al. 2012). The CCLE dataset was normalised by TPM and can be downloaded from https://www.synapse.org/#!Synapse:syn5612998 Cell lines were scored against the epithelial and mesenchymal gene signatures, which were obtained from (Tan et al. 2014) and can be found in the ‘Table S1B. Generic EMT signature for cell line’ in the supplementary files.\n",
    "\n",
    "3. TCGA cancer samples dataset\n",
    "\n",
    "   `scoredf_tcga_epi` and `scoredf_tcga_mes` are two data frames of the pre-computed scores using The Cancer Genome Atlas (TCGA) breast cancer RNA-seq data (RSEM normalised) (The Cancer Genome Atlas Network 2012) against the epithelial and mesenchymal gene signatures respectively. The gene signatures were obtained from (Tan et al. 2014) and can be found in the ‘Table S1A. Generic EMT signature for tumour’. The TCGA dataset was downloaded from The UCSC Cancer Genomics Browser in February 2016 (https://genome-cancer.ucsc.edu)\n"
   ]
  },
  {
   "cell_type": "code",
   "execution_count": 18,
   "metadata": {},
   "outputs": [
    {
     "data": {
      "text/html": [
       "<table>\n",
       "<caption>A data.frame: 6 × 2</caption>\n",
       "<thead>\n",
       "\t<tr><th></th><th scope=col>TotalScore</th><th scope=col>TotalDispersion</th></tr>\n",
       "\t<tr><th></th><th scope=col>&lt;dbl&gt;</th><th scope=col>&lt;dbl&gt;</th></tr>\n",
       "</thead>\n",
       "<tbody>\n",
       "\t<tr><th scope=row>HCC2157</th><td> 0.22060031</td><td>5926.693</td></tr>\n",
       "\t<tr><th scope=row>AU565</th><td> 0.30387843</td><td>3884.412</td></tr>\n",
       "\t<tr><th scope=row>UACC.893</th><td> 0.30615947</td><td>3527.847</td></tr>\n",
       "\t<tr><th scope=row>BT.483</th><td> 0.30493150</td><td>4158.693</td></tr>\n",
       "\t<tr><th scope=row>Hs.739.T</th><td>-0.06886754</td><td>4281.007</td></tr>\n",
       "\t<tr><th scope=row>HCC2218</th><td> 0.31230039</td><td>3331.402</td></tr>\n",
       "</tbody>\n",
       "</table>\n"
      ],
      "text/latex": [
       "A data.frame: 6 × 2\n",
       "\\begin{tabular}{r|ll}\n",
       "  & TotalScore & TotalDispersion\\\\\n",
       "  & <dbl> & <dbl>\\\\\n",
       "\\hline\n",
       "\tHCC2157 &  0.22060031 & 5926.693\\\\\n",
       "\tAU565 &  0.30387843 & 3884.412\\\\\n",
       "\tUACC.893 &  0.30615947 & 3527.847\\\\\n",
       "\tBT.483 &  0.30493150 & 4158.693\\\\\n",
       "\tHs.739.T & -0.06886754 & 4281.007\\\\\n",
       "\tHCC2218 &  0.31230039 & 3331.402\\\\\n",
       "\\end{tabular}\n"
      ],
      "text/markdown": [
       "\n",
       "A data.frame: 6 × 2\n",
       "\n",
       "| <!--/--> | TotalScore &lt;dbl&gt; | TotalDispersion &lt;dbl&gt; |\n",
       "|---|---|---|\n",
       "| HCC2157 |  0.22060031 | 5926.693 |\n",
       "| AU565 |  0.30387843 | 3884.412 |\n",
       "| UACC.893 |  0.30615947 | 3527.847 |\n",
       "| BT.483 |  0.30493150 | 4158.693 |\n",
       "| Hs.739.T | -0.06886754 | 4281.007 |\n",
       "| HCC2218 |  0.31230039 | 3331.402 |\n",
       "\n"
      ],
      "text/plain": [
       "         TotalScore  TotalDispersion\n",
       "HCC2157   0.22060031 5926.693       \n",
       "AU565     0.30387843 3884.412       \n",
       "UACC.893  0.30615947 3527.847       \n",
       "BT.483    0.30493150 4158.693       \n",
       "Hs.739.T -0.06886754 4281.007       \n",
       "HCC2218   0.31230039 3331.402       "
      ]
     },
     "metadata": {},
     "output_type": "display_data"
    },
    {
     "data": {
      "text/html": [
       "<table>\n",
       "<caption>A data.frame: 6 × 2</caption>\n",
       "<thead>\n",
       "\t<tr><th></th><th scope=col>TotalScore</th><th scope=col>TotalDispersion</th></tr>\n",
       "\t<tr><th></th><th scope=col>&lt;dbl&gt;</th><th scope=col>&lt;dbl&gt;</th></tr>\n",
       "</thead>\n",
       "<tbody>\n",
       "\t<tr><th scope=row>TCGA.3C.AAAU.01</th><td>0.2722128</td><td>3952.612</td></tr>\n",
       "\t<tr><th scope=row>TCGA.3C.AALI.01</th><td>0.3209824</td><td>2835.472</td></tr>\n",
       "\t<tr><th scope=row>TCGA.3C.AALJ.01</th><td>0.2531933</td><td>4174.260</td></tr>\n",
       "\t<tr><th scope=row>TCGA.3C.AALK.01</th><td>0.3042650</td><td>3234.292</td></tr>\n",
       "\t<tr><th scope=row>TCGA.4H.AAAK.01</th><td>0.2682847</td><td>4222.445</td></tr>\n",
       "\t<tr><th scope=row>TCGA.5L.AAT0.01</th><td>0.2560761</td><td>4132.747</td></tr>\n",
       "</tbody>\n",
       "</table>\n"
      ],
      "text/latex": [
       "A data.frame: 6 × 2\n",
       "\\begin{tabular}{r|ll}\n",
       "  & TotalScore & TotalDispersion\\\\\n",
       "  & <dbl> & <dbl>\\\\\n",
       "\\hline\n",
       "\tTCGA.3C.AAAU.01 & 0.2722128 & 3952.612\\\\\n",
       "\tTCGA.3C.AALI.01 & 0.3209824 & 2835.472\\\\\n",
       "\tTCGA.3C.AALJ.01 & 0.2531933 & 4174.260\\\\\n",
       "\tTCGA.3C.AALK.01 & 0.3042650 & 3234.292\\\\\n",
       "\tTCGA.4H.AAAK.01 & 0.2682847 & 4222.445\\\\\n",
       "\tTCGA.5L.AAT0.01 & 0.2560761 & 4132.747\\\\\n",
       "\\end{tabular}\n"
      ],
      "text/markdown": [
       "\n",
       "A data.frame: 6 × 2\n",
       "\n",
       "| <!--/--> | TotalScore &lt;dbl&gt; | TotalDispersion &lt;dbl&gt; |\n",
       "|---|---|---|\n",
       "| TCGA.3C.AAAU.01 | 0.2722128 | 3952.612 |\n",
       "| TCGA.3C.AALI.01 | 0.3209824 | 2835.472 |\n",
       "| TCGA.3C.AALJ.01 | 0.2531933 | 4174.260 |\n",
       "| TCGA.3C.AALK.01 | 0.3042650 | 3234.292 |\n",
       "| TCGA.4H.AAAK.01 | 0.2682847 | 4222.445 |\n",
       "| TCGA.5L.AAT0.01 | 0.2560761 | 4132.747 |\n",
       "\n"
      ],
      "text/plain": [
       "                TotalScore TotalDispersion\n",
       "TCGA.3C.AAAU.01 0.2722128  3952.612       \n",
       "TCGA.3C.AALI.01 0.3209824  2835.472       \n",
       "TCGA.3C.AALJ.01 0.2531933  4174.260       \n",
       "TCGA.3C.AALK.01 0.3042650  3234.292       \n",
       "TCGA.4H.AAAK.01 0.2682847  4222.445       \n",
       "TCGA.5L.AAT0.01 0.2560761  4132.747       "
      ]
     },
     "metadata": {},
     "output_type": "display_data"
    }
   ],
   "source": [
    "# preview the scored CCLE samples\n",
    "head(scoredf_ccle_epi)\n",
    "\n",
    "\n",
    "# preview the scored TCGA samples\n",
    "head(scoredf_tcga_epi)"
   ]
  },
  {
   "cell_type": "code",
   "execution_count": 13,
   "metadata": {},
   "outputs": [
    {
     "data": {
      "text/plain": [
       "R version 3.5.2 (2018-12-20)\n",
       "Platform: x86_64-w64-mingw32/x64 (64-bit)\n",
       "Running under: Windows 10 x64 (build 17763)\n",
       "\n",
       "Matrix products: default\n",
       "\n",
       "locale:\n",
       "[1] LC_COLLATE=English_United States.1252 \n",
       "[2] LC_CTYPE=English_United States.1252   \n",
       "[3] LC_MONETARY=English_United States.1252\n",
       "[4] LC_NUMERIC=C                          \n",
       "[5] LC_TIME=English_United States.1252    \n",
       "\n",
       "attached base packages:\n",
       "[1] stats4    parallel  stats     graphics  grDevices utils     datasets \n",
       "[8] methods   base     \n",
       "\n",
       "other attached packages:\n",
       " [1] hexbin_1.27.2        singscore_1.0.0      GSEABase_1.44.0     \n",
       " [4] graph_1.60.0         annotate_1.60.0      XML_3.98-1.16       \n",
       " [7] AnnotationDbi_1.44.0 IRanges_2.16.0       S4Vectors_0.20.1    \n",
       "[10] Biobase_2.42.0       BiocGenerics_0.28.0 \n",
       "\n",
       "loaded via a namespace (and not attached):\n",
       " [1] ggrepel_0.8.0               Rcpp_1.0.0                 \n",
       " [3] locfit_1.5-9.1              lattice_0.20-38            \n",
       " [5] tidyr_0.8.2                 snow_0.4-3                 \n",
       " [7] assertthat_0.2.0            digest_0.6.18              \n",
       " [9] IRdisplay_0.7.0             R6_2.4.0                   \n",
       "[11] GenomeInfoDb_1.16.0         plyr_1.8.4                 \n",
       "[13] repr_0.19.2                 RSQLite_2.1.1              \n",
       "[15] evaluate_0.13               ggplot2_3.1.0              \n",
       "[17] pillar_1.3.1                zlibbioc_1.26.0            \n",
       "[19] rlang_0.3.1                 lazyeval_0.2.1             \n",
       "[21] uuid_0.1-2                  blob_1.1.1                 \n",
       "[23] Matrix_1.2-15               labeling_0.3               \n",
       "[25] BiocParallel_1.14.2         stringr_1.4.0              \n",
       "[27] RCurl_1.95-4.11             bit_1.1-14                 \n",
       "[29] munsell_0.5.0               DelayedArray_0.6.6         \n",
       "[31] compiler_3.5.2              pkgconfig_2.0.2            \n",
       "[33] base64enc_0.1-3             htmltools_0.3.6            \n",
       "[35] tidyselect_0.2.5            SummarizedExperiment_1.10.1\n",
       "[37] tibble_2.0.1                GenomeInfoDbData_1.1.0     \n",
       "[39] edgeR_3.22.5                matrixStats_0.54.0         \n",
       "[41] reshape_0.8.8               crayon_1.3.4               \n",
       "[43] dplyr_0.8.0.1               bitops_1.0-6               \n",
       "[45] grid_3.5.2                  jsonlite_1.6               \n",
       "[47] xtable_1.8-3                gtable_0.2.0               \n",
       "[49] DBI_1.0.0                   magrittr_1.5               \n",
       "[51] scales_1.0.0                stringi_1.3.1              \n",
       "[53] reshape2_1.4.3              XVector_0.20.0             \n",
       "[55] limma_3.38.3                IRkernel_0.8.15            \n",
       "[57] ggsci_2.9                   RColorBrewer_1.1-2         \n",
       "[59] tools_3.5.2                 bit64_0.9-7                \n",
       "[61] glue_1.3.0                  purrr_0.3.0                \n",
       "[63] colorspace_1.4-0            GenomicRanges_1.32.7       \n",
       "[65] memoise_1.1.0               pbdZMQ_0.3-3               "
      ]
     },
     "metadata": {},
     "output_type": "display_data"
    }
   ],
   "source": [
    "sessionInfo()"
   ]
  }
 ],
 "metadata": {
  "kernelspec": {
   "display_name": "R 3.5.3",
   "language": "R",
   "name": "ir353"
  },
  "language_info": {
   "codemirror_mode": "r",
   "file_extension": ".r",
   "mimetype": "text/x-r-source",
   "name": "R",
   "pygments_lexer": "r",
   "version": "3.5.3"
  }
 },
 "nbformat": 4,
 "nbformat_minor": 2
}
