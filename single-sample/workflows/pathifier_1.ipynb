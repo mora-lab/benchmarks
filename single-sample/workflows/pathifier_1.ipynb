{
 "cells": [
  {
   "cell_type": "code",
   "execution_count": 4,
   "metadata": {},
   "outputs": [],
   "source": [
    "# source(\"http://www.bioconductor.org/biocLite.R\")\n",
    "# options(BioC_mirror=\"http://mirrors.ustc.edu.cn/bioc/\")\n",
    "# biocLite(\"pathifier\")"
   ]
  },
  {
   "cell_type": "markdown",
   "metadata": {},
   "source": [
    "# load the library"
   ]
  },
  {
   "cell_type": "code",
   "execution_count": 5,
   "metadata": {},
   "outputs": [],
   "source": [
    "library(pathifier)"
   ]
  },
  {
   "cell_type": "markdown",
   "metadata": {},
   "source": [
    "# Load the data set\n",
    "   \n",
    "   Load the data set ‘Sheffer’ (built in Pathifier package) "
   ]
  },
  {
   "cell_type": "code",
   "execution_count": 6,
   "metadata": {},
   "outputs": [],
   "source": [
    "data(Sheffer)"
   ]
  },
  {
   "cell_type": "code",
   "execution_count": 12,
   "metadata": {},
   "outputs": [
    {
     "name": "stdout",
     "output_type": "stream",
     "text": [
      "List of 6\n",
      " $ data    : num [1:5000, 1:50] 7.41 10.86 7.17 11.82 11.21 ...\n",
      " $ samples :List of 50\n",
      "  ..$ NA: chr [1, 1] \"00300_B_25/02/2004_71_F_WN_2_0_0_0_NED_92 _X_92 _L_G_W_O_GG_O_O_2_R_4.5 _N2_X_0 _21_2_Y_B_0\"\n",
      "  ..$ NA: chr [1, 1] \"00450_U_13/02/2004_72_M_WN_3_1_0_4_DOD_110_Y_6  _S_B_M_M_TG_M_O_9_L_4.5 _XX_2_3 _19_1_Y_O_0\"\n",
      "  ..$ NA: chr [1, 1] \"00464_U_2/7/2003  _57_M_WN_2_0_0_4_DOD_41 _Y_18 _O_B_M_W_TT_M_O_8_L_5   _XX_2_0 _6 _0_Y_O_0\"\n",
      "  ..$ NA: chr [1, 1] \"00485_U_13/02/2004_63_F_WN_2_1_0_4_DOD_80 _Y_19 _S_B_W_M_TT_M_O_8_L_4.8 _XX_2_2 _8 _1_Y_O_0\"\n",
      "  ..$ NA: chr [1, 1] \"00620_A_3/7/2003  _70_F_WN_3_1_1_4_DOD_5  _O_5  _H_B_W_O_TT_O_X_2_R_3   _D3_2_3 _18_1_Y_O_0\"\n",
      "  ..$ NA: chr [1, 1] \"00838_U_13/02/2004_43_F_XX_3_0_1_4_NED_145_Y_50 _O_?_W_M_TG_O_O_8_L_6   _XX_2_0 _7 _0_Y_O_0\"\n",
      "  ..$ NA: chr [1, 1] \"00852_U_2/7/2003  _64_M_WN_2_2_1_4_DOD_38 _Y_26 _S_B_M_W_O _O_O_1_R_3.2 _XX_2_9 _15_1_Y_O_0\"\n",
      "  ..$ NA: chr [1, 1] \"00888_B_2/7/2003  _69_M_WN_3_0_0_0_DUN_46 _X_46 _S_?_W_W_TT_M_O_9_L_4   _XX_X_0 _21_2_Y_B_0\"\n",
      "  ..$ NA: chr [1, 1] \"00947_U_2/7/2003  _62_M_WN_3_1_1_4_DOD_39 _Y_5  _O_B_W_M_TT_O_O_7_L_X   _XX_2_1 _17_1_Y_O_0\"\n",
      "  ..$ NA: chr [1, 1] \"00990_A_3/7/2003  _78_M_WN_3_1_0_3_DUN_82 _X_82 _O_G_W_M_TG_O_X_7_L_5   _D3_2_1 _9 _1_Y_O_0\"\n",
      "  ..$ NA: chr [1, 1] \"01984_B_10/7/2003 _70_M_WN_2_0_0_0_DOD_75 _Y_4  _O_B_O_O_O _O_O_7_L_4.7 _XX_X_0 _7 _X_Y_B_0\"\n",
      "  ..$ NA: chr [1, 1] \"02184_A_25/02/2004_40_F_IN_3_0_0_2_NED_61 _X_61 _S_G_W_W_TT_M_X_7_L_4.7 _N3_2_0 _23_1_Y_O_0\"\n",
      "  ..$ NA: chr [1, 1] \"02184_H_17/11/2005_40_F_IN_3_0_0_2_NED_61 _X_61 _S_G_W_W_TT_M_X_7_L_4.7 _XX_X_0 _23_X_Y_N_1\"\n",
      "  ..$ NA: chr [1, 1] \"02189_A_3/7/2003  _70_M_WN_3_1_0_3_DUN_130_O_130_S_G_W_M_GG_M_X_8_L_3.8 _S3_2_1 _18_0_Y_O_0\"\n",
      "  ..$ NA: chr [1, 1] \"02189_H_28/02/2006_70_M_WN_3_1_0_3_DUN_130_O_130_S_G_W_M_GG_M_X_8_L_3.8 _XX_X_1 _18_X_Y_N_1\"\n",
      "  ..$ NA: chr [1, 1] \"02308_A_3/7/2003  _63_F_WN_3_0_1_4_DOD_12 _O_12 _S_B_W_M_GG_W_X_6_L_4.3 _N3_2_0 _18_1_Y_O_0\"\n",
      "  ..$ NA: chr [1, 1] \"02500_A_3/7/2003  _81_M_WH_2_0_0_1_NED_52 _X_52 _S_G_W_W_O _W_Y_2_R_4.5 _S3_2_0 _19_3_Y_Y_0\"\n",
      "  ..$ NA: chr [1, 1] \"02663_B_2/7/2003  _66_M_WN_3_1_0_0_DOC_15 _O_15 _H_?_M_O_TG_O_O_9_L_5   _XX_X_2 _14_1_Y_B_0\"\n",
      "  ..$ NA: chr [1, 1] \"02679_A_10/7/2003 _70_F_BN_3_1_0_3_DUN_143_X_143_S_G_M_W_TT_M_Y_7_L_7   _S3_2_1 _11_2_Y_O_0\"\n",
      "  ..$ NA: chr [1, 1] \"02679_B_3/7/2003  _70_F_BN_3_1_0_0_DUN_143_X_143_O_G_M_W_TT_M_Y_7_L_7   _XX_X_1 _11_3_Y_B_0\"\n",
      "  ..$ NA: chr [1, 1] \"02779_A_10/7/2003 _66_F_WN_1_0_0_1_NED_89 _O_89 _S_G_M_W_TG_O_X_8_L_7   _D1_2_0 _13_2_Y_O_0\"\n",
      "  ..$ NA: chr [1, 1] \"02779_B_3/7/2003  _66_F_WN_1_0_0_0_NED_89 _O_89 _S_G_W_W_TG_O_X_8_L_7   _XX_X_0 _13_2_Y_B_0\"\n",
      "  ..$ NA: chr [1, 1] \"02815_A_25/02/2004_55_M_BN_3_2_0_3_DOD_72 _Y_45 _S_B_W_W_TG_O_X_7_L_4.5 _N4_2_5 _43_1_Y_O_0\"\n",
      "  ..$ NA: chr [1, 1] \"02815_H_28/03/2006_55_M_BN_3_2_0_3_DOD_72 _Y_45 _S_B_W_W_TG_O_X_7_L_4.5 _XX_X_5 _43_X_Y_N_1\"\n",
      "  ..$ NA: chr [1, 1] \"02832_A_10/7/2003 _70_M_WN_3_1_1_4_DOD_20 _O_20 _S_B_W_M_GG_M_X_4_R_3.5 _D3_2_1 _3 _1_Y_O_0\"\n",
      "  ..$ NA: chr [1, 1] \"03023_A_3/7/2003  _49_F_WN_3_2_1_4_DOD_16 _Y_14 _S_B_W_W_TG_W_X_7_L_2.5 _N4_2_4 _6 _1_Y_O_0\"\n",
      "  ..$ NA: chr [1, 1] \"03023_H_10/1/2006 _49_F_WN_3_2_1_4_DOD_16 _Y_14 _S_B_W_W_TG_W_X_7_L_2.5 _XX_X_4 _6 _X_Y_N_1\"\n",
      "  ..$ NA: chr [1, 1] \"03156_A_10/7/2003 _80_M_WN_2_0_0_1_DOD_79 _Y_68 _S_B_M_M_TG_M_X_7_L_2.5 _S2_2_0 _9 _1_Y_O_0\"\n",
      "  ..$ NA: chr [1, 1] \"03283_A_25/02/2004_73_F_WN_3_2_0_3_DOD_10 _Y_0  _S_B_W_M_TT_O_X_2_R_5.5 _D3_2_5 _32_0_Y_O_0\"\n",
      "  ..$ NA: chr [1, 1] \"03393_A_3/7/2003  _68_F_WN_2_0_0_1_NED_153_X_153_S_G_W_M_TG_O_X_9_L_3.5 _D2_1_0 _22_2_Y_O_0\"\n",
      "  ..$ NA: chr [1, 1] \"03393_B_3/7/2003  _68_F_WN_2_0_0_0_NED_153_X_153_S_G_W_M_TG_O_X_9_L_3.5 _XX_X_0 _22_X_Y_B_0\"\n",
      "  ..$ NA: chr [1, 1] \"03401_A_10/7/2003 _75_M_WN_3_2_1_4_DOD_12 _O_12 _L_B_M_M_TT_W_X_1_R_3.5 _N4_2_5 _9 _0_Y_O_0\"\n",
      "  ..$ NA: chr [1, 1] \"03465_A_9/12/2005 _53_M_AS_3_0_0_2_NED_114_X_114_H_G_W_O_O _O_Y_6_L_4   _N4_3_0 _17_3_Y_O_1\"\n",
      "  ..$ NA: chr [1, 1] \"03519_A_25/02/2004_71_M_WN_3_1_1_4_DOD_13 _Y_7  _S_B_W_M_TT_O_Y_2_R_5   _N4_3_1 _13_1_Y_O_0\"\n",
      "  ..$ NA: chr [1, 1] \"03519_H_28/03/2006_71_M_WN_3_1_1_4_DOD_13 _Y_7  _S_B_W_M_TT_O_Y_2_R_5   _XX_X_1 _13_X_Y_N_1\"\n",
      "  ..$ NA: chr [1, 1] \"03531_A_25/02/2004_42_M_WN_3_2_1_4_DOD_10 _O_10 _H_B_W_W_TG_O_X_4_R_4   _N4_3_6 _9 _2_Y_O_0\"\n",
      "  ..$ NA: chr [1, 1] \"03598_B_2/4/2004  _59_M_WN_2_1_0_0_NED_49 _X_49 _S_G_W_O_TT_O_O_1_R_6   _XX_X_1 _17_X_Y_B_0\"\n",
      "  ..$ NA: chr [1, 1] \"03598_H_28/03/2006_59_M_WN_2_1_0_3_NED_49 _X_49 _S_G_W_O_TT_O_O_1_R_6   _XX_X_1 _17_X_Y_N_1\"\n",
      "  ..$ NA: chr [1, 1] \"03637_A_2/4/2004  _77_F_WN_3_1_1_4_DOD_35 _Y_18 _S_B_M_M_TG_O_X_8_L_5   _N4_2_1 _8 _1_Y_O_0\"\n",
      "  ..$ NA: chr [1, 1] \"03637_B_2/4/2004  _77_F_WN_3_1_1_0_DOD_35 _Y_18 _S_B_M_M_TG_O_X_8_L_5   _XX_X_1 _8 _1_Y_B_0\"\n",
      "  ..$ NA: chr [1, 1] \"03637_H_2/4/2004  _77_F_WN_3_1_1_4_DOD_35 _Y_18 _S_B_M_M_TG_O_X_8_L_5   _XX_X_1 _8 _X_Y_N_0\"\n",
      "  ..$ NA: chr [1, 1] \"03657_A_2/4/2004  _41_F_WN_3_2_0_3_NED_137_X_137_S_G_W_M_TG_O_X_4_R_4.5 _D3_2_4 _33_1_Y_O_0\"\n",
      "  ..$ NA: chr [1, 1] \"03657_H_28/03/2006_41_F_WN_3_2_0_3_NED_137_X_137_S_G_W_M_TG_O_X_4_R_4.5 _XX_X_4 _33_X_Y_N_1\"\n",
      "  ..$ NA: chr [1, 1] \"03706_A_2/4/2004  _61_M_WH_3_0_1_4_DOD_37 _O_37 _S_B_W_M_TG_W_X_6_L_5.5 _D3_2_0 _22_0_Y_Y_0\"\n",
      "  ..$ NA: chr [1, 1] \"03752_A_3/7/2003  _54_M_WN_2_0_0_1_NED_136_X_136_S_G_W_M_TT_M_Y_8_L_6   _S3_2_0 _11_1_Y_O_0\"\n",
      "  ..$ NA: chr [1, 1] \"03753_A_10/7/2003 _75_M_WH_2_0_0_1_NED_12 _Y_12 _H_B_W_W_TT_O_X_1_R_6   _S3_1_0 _25_2_Y_O_0\"\n",
      "  ..$ NA: chr [1, 1] \"03753_H_9/12/2005 _75_M_WH_2_0_0_1_NED_12 _Y_12 _H_B_W_W_TT_O_X_1_R_6   _XX_X_0 _25_X_Y_N_1\"\n",
      "  ..$ NA: chr [1, 1] \"03777_A_2/4/2004  _69_F_WN_3_1_1_4_DOD_28 _O_28 _S_B_W_M_TT_O_X_8_L_3   _D3_2_1 _10_0_Y_O_0\"\n",
      "  ..$ NA: chr [1, 1] \"03777_H_18/05/2006_69_F_WN_3_1_1_4_DOD_28 _O_28 _S_B_W_M_TT_O_X_8_L_3   _XX_X_1 _10_X_Y_N_1\"\n",
      "  ..$ NA: chr [1, 1] \"03820_V_22/07/2003_72_F_WN_1_0_0_4_NED_200_Y_83 _O_?_W_W_O _M_O_7_L_X   _XX_2_0 _X _0_Y_O_0\"\n",
      " $ normals : logi [1:50] FALSE FALSE FALSE FALSE FALSE FALSE ...\n",
      " $ minstd  : num 0.225\n",
      " $ minexp  : num 4\n",
      " $ allgenes: chr [1:5000] \"RPS4Y1\" \"REG1A\" \"REG1B\" \"CLCA1\" ...\n",
      " - attr(*, \"header\")=List of 3\n",
      "  ..$ description: chr \"MATLAB 5.0 MAT-file, Platform: PCWIN64, Created on: Tue Jul 24 10:34:02 2012                                                \"\n",
      "  ..$ version    : chr \"5\"\n",
      "  ..$ endian     : chr \"little\"\n"
     ]
    }
   ],
   "source": [
    "str(sheffer)"
   ]
  },
  {
   "cell_type": "markdown",
   "metadata": {},
   "source": [
    "# Load pathway database\n",
    " \n",
    "   Load the two pathways (MISMATCH REPAIR and REGULATION OF AUTOPHAGY) by \"KEGG\"(supplied with the package)"
   ]
  },
  {
   "cell_type": "code",
   "execution_count": 7,
   "metadata": {},
   "outputs": [],
   "source": [
    "data(KEGG)"
   ]
  },
  {
   "cell_type": "code",
   "execution_count": 8,
   "metadata": {},
   "outputs": [],
   "source": [
    "kegg$pathwaynames = list('MISMATCH_REPAIR' = 'MISMATCH_REPAIR', 'REGULATION_OF_AUTOPHAGY' = 'REGULATION_OF_AUTOPHAGY')"
   ]
  },
  {
   "cell_type": "code",
   "execution_count": 10,
   "metadata": {},
   "outputs": [
    {
     "name": "stdout",
     "output_type": "stream",
     "text": [
      "List of 2\n",
      " $ gs          :List of 2\n",
      "  ..$ NA: chr [1:23, 1] \"EXO1 \" \"LIG1 \" \"MLH1 \" \"MLH3 \" ...\n",
      "  ..$ NA: chr [1:35, 1] \"ATG12    \" \"ATG3     \" \"ATG4A    \" \"ATG4B    \" ...\n",
      " $ pathwaynames:List of 2\n",
      "  ..$ MISMATCH_REPAIR        : chr \"MISMATCH_REPAIR\"\n",
      "  ..$ REGULATION_OF_AUTOPHAGY: chr \"REGULATION_OF_AUTOPHAGY\"\n",
      " - attr(*, \"header\")=List of 3\n",
      "  ..$ description: chr \"MATLAB 5.0 MAT-file, Platform: PCWIN64, Created on: Thu Jun 16 12:18:11 2011                                                \"\n",
      "  ..$ version    : chr \"5\"\n",
      "  ..$ endian     : chr \"little\"\n"
     ]
    }
   ],
   "source": [
    "str(kegg)"
   ]
  },
  {
   "cell_type": "markdown",
   "metadata": {},
   "source": [
    "# Quantify deregulation of pathways\n",
    "\n",
    " Calculate the deregulation score by running pathifier"
   ]
  },
  {
   "cell_type": "code",
   "execution_count": 11,
   "metadata": {},
   "outputs": [
    {
     "name": "stdout",
     "output_type": "stream",
     "text": [
      "robust_score_bydist. min_exp= 4 , min_std= 0.2254005 \n",
      "pathway  1 > sig: 0.08207359 \n",
      "pathway  2 > sig: 0.101404 \n",
      "2 pathways processed with start= by ranks \n"
     ]
    }
   ],
   "source": [
    "PDS = quantify_pathways_deregulation(sheffer$data, sheffer$allgenes,\n",
    "                                     kegg$gs, kegg$pathwaynames, sheffer$normals, attempts = 100,\n",
    "                                     min_exp = sheffer$minexp, min_std = sheffer$minstd)"
   ]
  },
  {
   "cell_type": "markdown",
   "metadata": {},
   "source": [
    "The deregulation scores are now in PDS$scores, ready for further analysis"
   ]
  },
  {
   "cell_type": "code",
   "execution_count": 13,
   "metadata": {},
   "outputs": [
    {
     "data": {
      "text/html": [
       "<dl>\n",
       "\t<dt>$MISMATCH_REPAIR</dt>\n",
       "\t\t<dd><table>\n",
       "<caption>A matrix: 1 × 50 of type dbl</caption>\n",
       "<tbody>\n",
       "\t<tr><td>0.2603208</td><td>0.3061716</td><td>0.6829143</td><td>0.3061716</td><td>0.4265159</td><td>0.3061716</td><td>0.2539607</td><td>0.4980156</td><td>0.3657497</td><td>0.4640441</td><td>...</td><td>0.003497064</td><td>0.6646091</td><td>0.07425438</td><td>0.7616032</td><td>0.727066</td><td>0.6539969</td><td>0.5418885</td><td>0.6495307</td><td>0.06834126</td><td>0.367718</td></tr>\n",
       "</tbody>\n",
       "</table>\n",
       "</dd>\n",
       "\t<dt>$REGULATION_OF_AUTOPHAGY</dt>\n",
       "\t\t<dd><table>\n",
       "<caption>A matrix: 1 × 50 of type dbl</caption>\n",
       "<tbody>\n",
       "\t<tr><td>0.1024061</td><td>0.4521433</td><td>0.613428</td><td>0.8583417</td><td>0.6967684</td><td>0.4783103</td><td>0.6617971</td><td>0.8041276</td><td>1</td><td>0.5308368</td><td>...</td><td>0.3829402</td><td>0.2915813</td><td>0.3003202</td><td>0.3213415</td><td>0.8028843</td><td>0.4345198</td><td>0.4926453</td><td>0.5480933</td><td>0.2740998</td><td>0.8015292</td></tr>\n",
       "</tbody>\n",
       "</table>\n",
       "</dd>\n",
       "</dl>\n"
      ],
      "text/latex": [
       "\\begin{description}\n",
       "\\item[\\$MISMATCH\\_REPAIR] A matrix: 1 × 50 of type dbl\n",
       "\\begin{tabular}{llllllllllllllllllllllllllllllllllllllllllllllllll}\n",
       "\t 0.2603208 & 0.3061716 & 0.6829143 & 0.3061716 & 0.4265159 & 0.3061716 & 0.2539607 & 0.4980156 & 0.3657497 & 0.4640441 & 0.6881521 & 0.7049975 & 0.05997634 & 0.5864591 & 0.07850504 & 0.6961946 & 1 & 0.3730853 & 0.6367488 & 0.7050725 & 0.5674507 & 0.4962238 & 0.6519153 & 0.6051017 & 0.2928706 & 0.2232137 & 0 & 0.7616032 & 0.7424139 & 0.7477901 & 0.7398402 & 0.7255212 & 0.6487009 & 0.6367488 & 0.1057128 & 1 & 0.7735906 & 0.6068893 & 0.5736245 & 0.2274855 & 0.003497064 & 0.6646091 & 0.07425438 & 0.7616032 & 0.727066 & 0.6539969 & 0.5418885 & 0.6495307 & 0.06834126 & 0.367718\\\\\n",
       "\\end{tabular}\n",
       "\n",
       "\\item[\\$REGULATION\\_OF\\_AUTOPHAGY] A matrix: 1 × 50 of type dbl\n",
       "\\begin{tabular}{llllllllllllllllllllllllllllllllllllllllllllllllll}\n",
       "\t 0.1024061 & 0.4521433 & 0.613428 & 0.8583417 & 0.6967684 & 0.4783103 & 0.6617971 & 0.8041276 & 1 & 0.5308368 & 0.6826671 & 0.1235781 & 0.3023935 & 0.487664 & 0.4632662 & 0.4342334 & 0.569346 & 0.645334 & 0.3478154 & 0.4905694 & 0.5354673 & 0.7172214 & 0.1961411 & 0.5010633 & 0.4461697 & 0.3731844 & 0.2397059 & 0.7267014 & 0.1994553 & 0.4342334 & 0.4461697 & 0.1848041 & 0.569346 & 0.1378685 & 0.3996903 & 0 & 0.5706298 & 0.3259012 & 0.5446163 & 0.4623591 & 0.3829402 & 0.2915813 & 0.3003202 & 0.3213415 & 0.8028843 & 0.4345198 & 0.4926453 & 0.5480933 & 0.2740998 & 0.8015292\\\\\n",
       "\\end{tabular}\n",
       "\n",
       "\\end{description}\n"
      ],
      "text/markdown": [
       "$MISMATCH_REPAIR\n",
       ":   \n",
       "A matrix: 1 × 50 of type dbl\n",
       "\n",
       "| 0.2603208 | 0.3061716 | 0.6829143 | 0.3061716 | 0.4265159 | 0.3061716 | 0.2539607 | 0.4980156 | 0.3657497 | 0.4640441 | ... | 0.003497064 | 0.6646091 | 0.07425438 | 0.7616032 | 0.727066 | 0.6539969 | 0.5418885 | 0.6495307 | 0.06834126 | 0.367718 |\n",
       "\n",
       "\n",
       "$REGULATION_OF_AUTOPHAGY\n",
       ":   \n",
       "A matrix: 1 × 50 of type dbl\n",
       "\n",
       "| 0.1024061 | 0.4521433 | 0.613428 | 0.8583417 | 0.6967684 | 0.4783103 | 0.6617971 | 0.8041276 | 1 | 0.5308368 | ... | 0.3829402 | 0.2915813 | 0.3003202 | 0.3213415 | 0.8028843 | 0.4345198 | 0.4926453 | 0.5480933 | 0.2740998 | 0.8015292 |\n",
       "\n",
       "\n",
       "\n",
       "\n"
      ],
      "text/plain": [
       "$MISMATCH_REPAIR\n",
       "          [,1]      [,2]      [,3]      [,4]      [,5]      [,6]      [,7]\n",
       "[1,] 0.2603208 0.3061716 0.6829143 0.3061716 0.4265159 0.3061716 0.2539607\n",
       "          [,8]      [,9]     [,10]     [,11]     [,12]      [,13]     [,14]\n",
       "[1,] 0.4980156 0.3657497 0.4640441 0.6881521 0.7049975 0.05997634 0.5864591\n",
       "          [,15]     [,16] [,17]     [,18]     [,19]     [,20]     [,21]\n",
       "[1,] 0.07850504 0.6961946     1 0.3730853 0.6367488 0.7050725 0.5674507\n",
       "         [,22]     [,23]     [,24]     [,25]     [,26] [,27]     [,28]\n",
       "[1,] 0.4962238 0.6519153 0.6051017 0.2928706 0.2232137     0 0.7616032\n",
       "         [,29]     [,30]     [,31]     [,32]     [,33]     [,34]     [,35]\n",
       "[1,] 0.7424139 0.7477901 0.7398402 0.7255212 0.6487009 0.6367488 0.1057128\n",
       "     [,36]     [,37]     [,38]     [,39]     [,40]       [,41]     [,42]\n",
       "[1,]     1 0.7735906 0.6068893 0.5736245 0.2274855 0.003497064 0.6646091\n",
       "          [,43]     [,44]    [,45]     [,46]     [,47]     [,48]      [,49]\n",
       "[1,] 0.07425438 0.7616032 0.727066 0.6539969 0.5418885 0.6495307 0.06834126\n",
       "        [,50]\n",
       "[1,] 0.367718\n",
       "\n",
       "$REGULATION_OF_AUTOPHAGY\n",
       "          [,1]      [,2]     [,3]      [,4]      [,5]      [,6]      [,7]\n",
       "[1,] 0.1024061 0.4521433 0.613428 0.8583417 0.6967684 0.4783103 0.6617971\n",
       "          [,8] [,9]     [,10]     [,11]     [,12]     [,13]    [,14]     [,15]\n",
       "[1,] 0.8041276    1 0.5308368 0.6826671 0.1235781 0.3023935 0.487664 0.4632662\n",
       "         [,16]    [,17]    [,18]     [,19]     [,20]     [,21]     [,22]\n",
       "[1,] 0.4342334 0.569346 0.645334 0.3478154 0.4905694 0.5354673 0.7172214\n",
       "         [,23]     [,24]     [,25]     [,26]     [,27]     [,28]     [,29]\n",
       "[1,] 0.1961411 0.5010633 0.4461697 0.3731844 0.2397059 0.7267014 0.1994553\n",
       "         [,30]     [,31]     [,32]    [,33]     [,34]     [,35] [,36]     [,37]\n",
       "[1,] 0.4342334 0.4461697 0.1848041 0.569346 0.1378685 0.3996903     0 0.5706298\n",
       "         [,38]     [,39]     [,40]     [,41]     [,42]     [,43]     [,44]\n",
       "[1,] 0.3259012 0.5446163 0.4623591 0.3829402 0.2915813 0.3003202 0.3213415\n",
       "         [,45]     [,46]     [,47]     [,48]     [,49]     [,50]\n",
       "[1,] 0.8028843 0.4345198 0.4926453 0.5480933 0.2740998 0.8015292\n"
      ]
     },
     "metadata": {},
     "output_type": "display_data"
    }
   ],
   "source": [
    "PDS$scores"
   ]
  },
  {
   "cell_type": "markdown",
   "metadata": {},
   "source": [
    "# Brief analysis\n",
    "Show scores for normals samples are genereally lower"
   ]
  },
  {
   "cell_type": "code",
   "execution_count": 14,
   "metadata": {},
   "outputs": [
    {
     "data": {
      "image/png": "[encoded data removed]",
      "text/plain": [
       "plot without title"
      ]
     },
     "metadata": {},
     "output_type": "display_data"
    }
   ],
   "source": [
    "x = NULL\n",
    "x$normals = PDS$scores$MISMATCH_REPAIR[sheffer$normals]\n",
    "x$tumors = PDS$scores$MISMATCH_REPAIR[!sheffer$normals]\n",
    "boxplot(x,ylab=\"score\")"
   ]
  },
  {
   "cell_type": "code",
   "execution_count": 15,
   "metadata": {},
   "outputs": [
    {
     "data": {
      "text/html": [
       "<ol class=list-inline>\n",
       "\t<li>'00485_U_13/02/2004_63_F_WN_2_1_0_4_DOD_80 _Y_19 _S_B_W_M_TT_M_O_8_L_4.8 _XX_2_2 _8 _1_Y_O_0'</li>\n",
       "\t<li><span style=white-space:pre-wrap>'00888_B_2/7/2003  _69_M_WN_3_0_0_0_DUN_46 _X_46 _S_?_W_W_TT_M_O_9_L_4   _XX_X_0 _21_2_Y_B_0'</span></li>\n",
       "\t<li><span style=white-space:pre-wrap>'00947_U_2/7/2003  _62_M_WN_3_1_1_4_DOD_39 _Y_5  _O_B_W_M_TT_O_O_7_L_X   _XX_2_1 _17_1_Y_O_0'</span></li>\n",
       "\t<li><span style=white-space:pre-wrap>'03752_A_3/7/2003  _54_M_WN_2_0_0_1_NED_136_X_136_S_G_W_M_TT_M_Y_8_L_6   _S3_2_0 _11_1_Y_O_0'</span></li>\n",
       "\t<li><span style=white-space:pre-wrap>'03820_V_22/07/2003_72_F_WN_1_0_0_4_NED_200_Y_83 _O_?_W_W_O _M_O_7_L_X   _XX_2_0 _X _0_Y_O_0'</span></li>\n",
       "</ol>\n"
      ],
      "text/latex": [
       "\\begin{enumerate*}\n",
       "\\item '00485\\_U\\_13/02/2004\\_63\\_F\\_WN\\_2\\_1\\_0\\_4\\_DOD\\_80 \\_Y\\_19 \\_S\\_B\\_W\\_M\\_TT\\_M\\_O\\_8\\_L\\_4.8 \\_XX\\_2\\_2 \\_8 \\_1\\_Y\\_O\\_0'\n",
       "\\item '00888\\_B\\_2/7/2003  \\_69\\_M\\_WN\\_3\\_0\\_0\\_0\\_DUN\\_46 \\_X\\_46 \\_S\\_?\\_W\\_W\\_TT\\_M\\_O\\_9\\_L\\_4   \\_XX\\_X\\_0 \\_21\\_2\\_Y\\_B\\_0'\n",
       "\\item '00947\\_U\\_2/7/2003  \\_62\\_M\\_WN\\_3\\_1\\_1\\_4\\_DOD\\_39 \\_Y\\_5  \\_O\\_B\\_W\\_M\\_TT\\_O\\_O\\_7\\_L\\_X   \\_XX\\_2\\_1 \\_17\\_1\\_Y\\_O\\_0'\n",
       "\\item '03752\\_A\\_3/7/2003  \\_54\\_M\\_WN\\_2\\_0\\_0\\_1\\_NED\\_136\\_X\\_136\\_S\\_G\\_W\\_M\\_TT\\_M\\_Y\\_8\\_L\\_6   \\_S3\\_2\\_0 \\_11\\_1\\_Y\\_O\\_0'\n",
       "\\item '03820\\_V\\_22/07/2003\\_72\\_F\\_WN\\_1\\_0\\_0\\_4\\_NED\\_200\\_Y\\_83 \\_O\\_?\\_W\\_W\\_O \\_M\\_O\\_7\\_L\\_X   \\_XX\\_2\\_0 \\_X \\_0\\_Y\\_O\\_0'\n",
       "\\end{enumerate*}\n"
      ],
      "text/markdown": [
       "1. '00485_U_13/02/2004_63_F_WN_2_1_0_4_DOD_80 _Y_19 _S_B_W_M_TT_M_O_8_L_4.8 _XX_2_2 _8 _1_Y_O_0'\n",
       "2. <span style=white-space:pre-wrap>'00888_B_2/7/2003  _69_M_WN_3_0_0_0_DUN_46 _X_46 _S_?_W_W_TT_M_O_9_L_4   _XX_X_0 _21_2_Y_B_0'</span>\n",
       "3. <span style=white-space:pre-wrap>'00947_U_2/7/2003  _62_M_WN_3_1_1_4_DOD_39 _Y_5  _O_B_W_M_TT_O_O_7_L_X   _XX_2_1 _17_1_Y_O_0'</span>\n",
       "4. <span style=white-space:pre-wrap>'03752_A_3/7/2003  _54_M_WN_2_0_0_1_NED_136_X_136_S_G_W_M_TT_M_Y_8_L_6   _S3_2_0 _11_1_Y_O_0'</span>\n",
       "5. <span style=white-space:pre-wrap>'03820_V_22/07/2003_72_F_WN_1_0_0_4_NED_200_Y_83 _O_?_W_W_O _M_O_7_L_X   _XX_2_0 _X _0_Y_O_0'</span>\n",
       "\n",
       "\n"
      ],
      "text/plain": [
       "[1] \"00485_U_13/02/2004_63_F_WN_2_1_0_4_DOD_80 _Y_19 _S_B_W_M_TT_M_O_8_L_4.8 _XX_2_2 _8 _1_Y_O_0\"\n",
       "[2] \"00888_B_2/7/2003  _69_M_WN_3_0_0_0_DUN_46 _X_46 _S_?_W_W_TT_M_O_9_L_4   _XX_X_0 _21_2_Y_B_0\"\n",
       "[3] \"00947_U_2/7/2003  _62_M_WN_3_1_1_4_DOD_39 _Y_5  _O_B_W_M_TT_O_O_7_L_X   _XX_2_1 _17_1_Y_O_0\"\n",
       "[4] \"03752_A_3/7/2003  _54_M_WN_2_0_0_1_NED_136_X_136_S_G_W_M_TT_M_Y_8_L_6   _S3_2_0 _11_1_Y_O_0\"\n",
       "[5] \"03820_V_22/07/2003_72_F_WN_1_0_0_4_NED_200_Y_83 _O_?_W_W_O _M_O_7_L_X   _XX_2_0 _X _0_Y_O_0\""
      ]
     },
     "metadata": {},
     "output_type": "display_data"
    }
   ],
   "source": [
    "# List samples whose regulation of autophagy is highly deregulated\n",
    "as.character(sheffer$samples[PDS$scores$REGULATION_OF_AUTOPHAGY>0.8])"
   ]
  }
 ],
 "metadata": {
  "kernelspec": {
   "display_name": "R 3.5.3",
   "language": "R",
   "name": "ir353"
  },
  "language_info": {
   "codemirror_mode": "r",
   "file_extension": ".r",
   "mimetype": "text/x-r-source",
   "name": "R",
   "pygments_lexer": "r",
   "version": "3.5.3"
  }
 },
 "nbformat": 4,
 "nbformat_minor": 2
}
