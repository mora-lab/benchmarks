{
 "cells": [
  {
   "cell_type": "markdown",
   "metadata": {},
   "source": [
    "# Tutorial of singscore using built-in data\n",
    "\n",
    "#### Contributor: Antonio Mora, Chengshu Xie \n",
    "#### Date of first version: 2019-01-20\n",
    "#### Date of last review: 2020-05-26 \n",
    "#### Summary:\n",
    "\n",
    "This is the tutorial about using how to use R package `singscore`. We use the built-in data for this tutorial.\n",
    " . \n",
    "\n",
    "#### Contents:\n",
    "* [1. Data Preparation](#link1)    <br>\n",
    "    * [1.1 Prerequisites](#link2)     <br>\n",
    "    * [1.2 Load and check data](#link3)   <br>\n",
    "* [2. Method application](#link4)  <br>\n",
    "    * [2.1 Sample Scoring](#link5)     <br>\n",
    "* [3. Visualisation and diagnostic functions](#link6)\n",
    "    * [3.1 Plot Rank Densities](#link7)     <br>\n",
    "    * [3.2 Plot dispersions of scores](#link8) <br>\n",
    "    * [3.3 Plot score landscape](#link9)\n",
    "        \n",
    "    \n",
    "## <a id=link1>1. Data Preparation</a>\n",
    "\n",
    "### <a id=link2>1.1 Prerequisites</a>\n",
    "\n",
    "R package, `singscore`, needs to be installed and loaded in the R session, this can be done easily with the following chunk of code: "
   ]
  },
  {
   "cell_type": "code",
   "execution_count": 1,
   "metadata": {},
   "outputs": [],
   "source": [
    "install.packages(\"BiocManager\")\n",
    "BiocManager::install(\"singscore\")\n",
    "BiocManager::install(\"GSEABase\")\n",
    "\n",
    "suppressPackageStartupMessages(library(singscore))\n",
    "suppressPackageStartupMessages(library(GSEABase))"
   ]
  },
  {
   "cell_type": "markdown",
   "metadata": {},
   "source": [
    "### <a id=link3>1.2 Load and check data</a>\n",
    "\n",
    "The datasets used in this vignette have been built within the package. The `tgfb_expr_10_se` dataset was obtained from (Foroutan et al. 2017) and it is a ten-sample subset of the original dataset. We are going to score the integrated TGFb-treated gene expression dataset (4 cases and 6 controls) against a TGFb gene signature with an up-regulated and down-regulated gene-set pair (Foroutan et al. 2017)."
   ]
  },
  {
   "cell_type": "code",
   "execution_count": 2,
   "metadata": {},
   "outputs": [
    {
     "data": {
      "text/plain": [
       "class: SummarizedExperiment \n",
       "dim: 11900 10 \n",
       "metadata(0):\n",
       "assays(1): counts\n",
       "rownames(11900): 2 9 ... 729164 752014\n",
       "rowData names(0):\n",
       "colnames(10): D_Ctrl_R1 D_TGFb_R1 ... Hil_Ctrl_R1 Hil_Ctrl_R2\n",
       "colData names(1): Treatment"
      ]
     },
     "metadata": {},
     "output_type": "display_data"
    },
    {
     "data": {
      "text/plain": [
       "setName: NA \n",
       "geneIds: 19, 87, ..., 402055 (total: 193)\n",
       "geneIdType: Null\n",
       "collectionType: Null \n",
       "details: use 'details(object)'"
      ]
     },
     "metadata": {},
     "output_type": "display_data"
    },
    {
     "data": {
      "text/plain": [
       "setName: NA \n",
       "geneIds: 136, 220, ..., 161291 (total: 108)\n",
       "geneIdType: Null\n",
       "collectionType: Null \n",
       "details: use 'details(object)'"
      ]
     },
     "metadata": {},
     "output_type": "display_data"
    },
    {
     "data": {
      "text/html": [
       "193"
      ],
      "text/latex": [
       "193"
      ],
      "text/markdown": [
       "193"
      ],
      "text/plain": [
       "[1] 193"
      ]
     },
     "metadata": {},
     "output_type": "display_data"
    },
    {
     "data": {
      "text/html": [
       "108"
      ],
      "text/latex": [
       "108"
      ],
      "text/markdown": [
       "108"
      ],
      "text/plain": [
       "[1] 108"
      ]
     },
     "metadata": {},
     "output_type": "display_data"
    }
   ],
   "source": [
    "# The example expression dataset and gene signatures are included in the package\n",
    "# distribution, one can directly access them using the variable names\n",
    "\n",
    "# To see the description of 'tgfb_expr_10_se','tgfb_gs_up','tgfb_gs_dn', look at \n",
    "# Have a look at the object `tgfb_expr_10_se` containing gene expression data for 10 samples \n",
    "tgfb_expr_10_se\n",
    "\n",
    "# View what tgfb_gs_up/dn contains\n",
    "tgfb_gs_up           \n",
    "tgfb_gs_dn\n",
    "\n",
    "# Get the size of the gene sets\n",
    "length(GSEABase::geneIds(tgfb_gs_up))\n",
    "length(GSEABase::geneIds(tgfb_gs_dn))"
   ]
  },
  {
   "cell_type": "markdown",
   "metadata": {},
   "source": [
    "## <a id=link4>2. Method application</a>\n",
    "\n",
    "### <a id=link5>2.1 Sample Scoring</a>\n",
    "\n",
    "   To get the sample scores, rank the expression data via `rankGenes()` at first. And then use `simpleScore()` to compute."
   ]
  },
  {
   "cell_type": "code",
   "execution_count": 3,
   "metadata": {},
   "outputs": [
    {
     "data": {
      "text/html": [
       "<table>\n",
       "<caption>A matrix: 6 × 10 of type int</caption>\n",
       "<thead>\n",
       "\t<tr><th></th><th scope=col>D_Ctrl_R1</th><th scope=col>D_TGFb_R1</th><th scope=col>D_Ctrl_R2</th><th scope=col>D_TGFb_R2</th><th scope=col>Hes_Ctrl_R1</th><th scope=col>Hes_TGFb_R1</th><th scope=col>Hes_Ctrl_R2</th><th scope=col>Hes_TGFb_R2</th><th scope=col>Hil_Ctrl_R1</th><th scope=col>Hil_Ctrl_R2</th></tr>\n",
       "</thead>\n",
       "<tbody>\n",
       "\t<tr><th scope=row>2</th><td> 1065</td><td> 1255</td><td> 1428</td><td>1269</td><td> 1252</td><td> 1570</td><td> 1188</td><td> 1122</td><td>1055</td><td> 1227</td></tr>\n",
       "\t<tr><th scope=row>9</th><td> 6688</td><td> 7611</td><td> 6454</td><td>6975</td><td> 6244</td><td> 7330</td><td> 7110</td><td> 7052</td><td>6247</td><td> 7315</td></tr>\n",
       "\t<tr><th scope=row>10</th><td> 1741</td><td> 1599</td><td> 1541</td><td>1686</td><td> 1777</td><td> 1638</td><td> 1713</td><td> 1418</td><td>1558</td><td> 1849</td></tr>\n",
       "\t<tr><th scope=row>12</th><td> 5441</td><td> 3682</td><td> 6495</td><td>5105</td><td> 3906</td><td> 5533</td><td> 4344</td><td> 7036</td><td>4845</td><td> 4830</td></tr>\n",
       "\t<tr><th scope=row>13</th><td> 3352</td><td> 3599</td><td> 3276</td><td>3459</td><td> 3337</td><td> 3042</td><td> 3288</td><td> 3906</td><td>3480</td><td> 3062</td></tr>\n",
       "\t<tr><th scope=row>14</th><td>10442</td><td>10013</td><td>10146</td><td>9917</td><td>10382</td><td>10085</td><td>10061</td><td>10029</td><td>9731</td><td>10268</td></tr>\n",
       "</tbody>\n",
       "</table>\n"
      ],
      "text/latex": [
       "A matrix: 6 × 10 of type int\n",
       "\\begin{tabular}{r|llllllllll}\n",
       "  & D\\_Ctrl\\_R1 & D\\_TGFb\\_R1 & D\\_Ctrl\\_R2 & D\\_TGFb\\_R2 & Hes\\_Ctrl\\_R1 & Hes\\_TGFb\\_R1 & Hes\\_Ctrl\\_R2 & Hes\\_TGFb\\_R2 & Hil\\_Ctrl\\_R1 & Hil\\_Ctrl\\_R2\\\\\n",
       "\\hline\n",
       "\t2 &  1065 &  1255 &  1428 & 1269 &  1252 &  1570 &  1188 &  1122 & 1055 &  1227\\\\\n",
       "\t9 &  6688 &  7611 &  6454 & 6975 &  6244 &  7330 &  7110 &  7052 & 6247 &  7315\\\\\n",
       "\t10 &  1741 &  1599 &  1541 & 1686 &  1777 &  1638 &  1713 &  1418 & 1558 &  1849\\\\\n",
       "\t12 &  5441 &  3682 &  6495 & 5105 &  3906 &  5533 &  4344 &  7036 & 4845 &  4830\\\\\n",
       "\t13 &  3352 &  3599 &  3276 & 3459 &  3337 &  3042 &  3288 &  3906 & 3480 &  3062\\\\\n",
       "\t14 & 10442 & 10013 & 10146 & 9917 & 10382 & 10085 & 10061 & 10029 & 9731 & 10268\\\\\n",
       "\\end{tabular}\n"
      ],
      "text/markdown": [
       "\n",
       "A matrix: 6 × 10 of type int\n",
       "\n",
       "| <!--/--> | D_Ctrl_R1 | D_TGFb_R1 | D_Ctrl_R2 | D_TGFb_R2 | Hes_Ctrl_R1 | Hes_TGFb_R1 | Hes_Ctrl_R2 | Hes_TGFb_R2 | Hil_Ctrl_R1 | Hil_Ctrl_R2 |\n",
       "|---|---|---|---|---|---|---|---|---|---|---|\n",
       "| 2 |  1065 |  1255 |  1428 | 1269 |  1252 |  1570 |  1188 |  1122 | 1055 |  1227 |\n",
       "| 9 |  6688 |  7611 |  6454 | 6975 |  6244 |  7330 |  7110 |  7052 | 6247 |  7315 |\n",
       "| 10 |  1741 |  1599 |  1541 | 1686 |  1777 |  1638 |  1713 |  1418 | 1558 |  1849 |\n",
       "| 12 |  5441 |  3682 |  6495 | 5105 |  3906 |  5533 |  4344 |  7036 | 4845 |  4830 |\n",
       "| 13 |  3352 |  3599 |  3276 | 3459 |  3337 |  3042 |  3288 |  3906 | 3480 |  3062 |\n",
       "| 14 | 10442 | 10013 | 10146 | 9917 | 10382 | 10085 | 10061 | 10029 | 9731 | 10268 |\n",
       "\n"
      ],
      "text/plain": [
       "   D_Ctrl_R1 D_TGFb_R1 D_Ctrl_R2 D_TGFb_R2 Hes_Ctrl_R1 Hes_TGFb_R1 Hes_Ctrl_R2\n",
       "2   1065      1255      1428     1269       1252        1570        1188      \n",
       "9   6688      7611      6454     6975       6244        7330        7110      \n",
       "10  1741      1599      1541     1686       1777        1638        1713      \n",
       "12  5441      3682      6495     5105       3906        5533        4344      \n",
       "13  3352      3599      3276     3459       3337        3042        3288      \n",
       "14 10442     10013     10146     9917      10382       10085       10061      \n",
       "   Hes_TGFb_R2 Hil_Ctrl_R1 Hil_Ctrl_R2\n",
       "2   1122       1055         1227      \n",
       "9   7052       6247         7315      \n",
       "10  1418       1558         1849      \n",
       "12  7036       4845         4830      \n",
       "13  3906       3480         3062      \n",
       "14 10029       9731        10268      "
      ]
     },
     "metadata": {},
     "output_type": "display_data"
    },
    {
     "data": {
      "text/html": [
       "<table>\n",
       "<caption>A data.frame: 6 × 6</caption>\n",
       "<thead>\n",
       "\t<tr><th></th><th scope=col>TotalScore</th><th scope=col>TotalDispersion</th><th scope=col>UpScore</th><th scope=col>UpDispersion</th><th scope=col>DownScore</th><th scope=col>DownDispersion</th></tr>\n",
       "\t<tr><th></th><th scope=col>&lt;dbl&gt;</th><th scope=col>&lt;dbl&gt;</th><th scope=col>&lt;dbl&gt;</th><th scope=col>&lt;dbl&gt;</th><th scope=col>&lt;dbl&gt;</th><th scope=col>&lt;dbl&gt;</th></tr>\n",
       "</thead>\n",
       "<tbody>\n",
       "\t<tr><th scope=row>D_Ctrl_R1</th><td>-0.088097993</td><td>2867.348</td><td>0.06096415</td><td>3119.390</td><td>-0.14906214</td><td>2615.306</td></tr>\n",
       "\t<tr><th scope=row>D_TGFb_R1</th><td> 0.286994210</td><td>2217.970</td><td>0.24931565</td><td>2352.886</td><td> 0.03767856</td><td>2083.053</td></tr>\n",
       "\t<tr><th scope=row>D_Ctrl_R2</th><td>-0.098964086</td><td>2861.418</td><td>0.06841242</td><td>3129.769</td><td>-0.16737650</td><td>2593.067</td></tr>\n",
       "\t<tr><th scope=row>D_TGFb_R2</th><td> 0.270721958</td><td>2378.832</td><td>0.25035661</td><td>2470.012</td><td> 0.02036534</td><td>2287.652</td></tr>\n",
       "\t<tr><th scope=row>Hes_Ctrl_R1</th><td>-0.002084788</td><td>2746.146</td><td>0.08046490</td><td>3134.216</td><td>-0.08254969</td><td>2358.075</td></tr>\n",
       "\t<tr><th scope=row>Hes_TGFb_R1</th><td> 0.176122839</td><td>2597.515</td><td>0.22894035</td><td>2416.638</td><td>-0.05281751</td><td>2778.392</td></tr>\n",
       "</tbody>\n",
       "</table>\n"
      ],
      "text/latex": [
       "A data.frame: 6 × 6\n",
       "\\begin{tabular}{r|llllll}\n",
       "  & TotalScore & TotalDispersion & UpScore & UpDispersion & DownScore & DownDispersion\\\\\n",
       "  & <dbl> & <dbl> & <dbl> & <dbl> & <dbl> & <dbl>\\\\\n",
       "\\hline\n",
       "\tD\\_Ctrl\\_R1 & -0.088097993 & 2867.348 & 0.06096415 & 3119.390 & -0.14906214 & 2615.306\\\\\n",
       "\tD\\_TGFb\\_R1 &  0.286994210 & 2217.970 & 0.24931565 & 2352.886 &  0.03767856 & 2083.053\\\\\n",
       "\tD\\_Ctrl\\_R2 & -0.098964086 & 2861.418 & 0.06841242 & 3129.769 & -0.16737650 & 2593.067\\\\\n",
       "\tD\\_TGFb\\_R2 &  0.270721958 & 2378.832 & 0.25035661 & 2470.012 &  0.02036534 & 2287.652\\\\\n",
       "\tHes\\_Ctrl\\_R1 & -0.002084788 & 2746.146 & 0.08046490 & 3134.216 & -0.08254969 & 2358.075\\\\\n",
       "\tHes\\_TGFb\\_R1 &  0.176122839 & 2597.515 & 0.22894035 & 2416.638 & -0.05281751 & 2778.392\\\\\n",
       "\\end{tabular}\n"
      ],
      "text/markdown": [
       "\n",
       "A data.frame: 6 × 6\n",
       "\n",
       "| <!--/--> | TotalScore &lt;dbl&gt; | TotalDispersion &lt;dbl&gt; | UpScore &lt;dbl&gt; | UpDispersion &lt;dbl&gt; | DownScore &lt;dbl&gt; | DownDispersion &lt;dbl&gt; |\n",
       "|---|---|---|---|---|---|---|\n",
       "| D_Ctrl_R1 | -0.088097993 | 2867.348 | 0.06096415 | 3119.390 | -0.14906214 | 2615.306 |\n",
       "| D_TGFb_R1 |  0.286994210 | 2217.970 | 0.24931565 | 2352.886 |  0.03767856 | 2083.053 |\n",
       "| D_Ctrl_R2 | -0.098964086 | 2861.418 | 0.06841242 | 3129.769 | -0.16737650 | 2593.067 |\n",
       "| D_TGFb_R2 |  0.270721958 | 2378.832 | 0.25035661 | 2470.012 |  0.02036534 | 2287.652 |\n",
       "| Hes_Ctrl_R1 | -0.002084788 | 2746.146 | 0.08046490 | 3134.216 | -0.08254969 | 2358.075 |\n",
       "| Hes_TGFb_R1 |  0.176122839 | 2597.515 | 0.22894035 | 2416.638 | -0.05281751 | 2778.392 |\n",
       "\n"
      ],
      "text/plain": [
       "            TotalScore   TotalDispersion UpScore    UpDispersion DownScore  \n",
       "D_Ctrl_R1   -0.088097993 2867.348        0.06096415 3119.390     -0.14906214\n",
       "D_TGFb_R1    0.286994210 2217.970        0.24931565 2352.886      0.03767856\n",
       "D_Ctrl_R2   -0.098964086 2861.418        0.06841242 3129.769     -0.16737650\n",
       "D_TGFb_R2    0.270721958 2378.832        0.25035661 2470.012      0.02036534\n",
       "Hes_Ctrl_R1 -0.002084788 2746.146        0.08046490 3134.216     -0.08254969\n",
       "Hes_TGFb_R1  0.176122839 2597.515        0.22894035 2416.638     -0.05281751\n",
       "            DownDispersion\n",
       "D_Ctrl_R1   2615.306      \n",
       "D_TGFb_R1   2083.053      \n",
       "D_Ctrl_R2   2593.067      \n",
       "D_TGFb_R2   2287.652      \n",
       "Hes_Ctrl_R1 2358.075      \n",
       "Hes_TGFb_R1 2778.392      "
      ]
     },
     "metadata": {},
     "output_type": "display_data"
    }
   ],
   "source": [
    "# The recommended method for dealing with ties in ranking is 'min', \n",
    "# you can change by specifying 'tiesMethod' parameter for rankGenes function.\n",
    "rankData = rankGenes(tgfb_expr_10_se)\n",
    "head(rankData)\n",
    "\n",
    "# Given the ranked data and gene signature, simpleScore returns the scores and \n",
    "# dispersions for each sample\n",
    "scoredf = simpleScore(rankData, upSet = tgfb_gs_up, downSet = tgfb_gs_dn)\n",
    "head(scoredf)\n",
    "\n",
    "# To view more details of the simpleScore, use ?simpleScore\n",
    "# Note that, when only one gene set is available in a gene signature, one can \n",
    "# only input values for the upSet argument. In addition, a knownDirection \n",
    "# argument can be set to FALSE if the direction of the gene set is unknown.\n",
    "\n",
    "# simpleScore(rankData, upSet = tgfb_gs_up, knownDirection = FALSE)"
   ]
  },
  {
   "cell_type": "markdown",
   "metadata": {},
   "source": [
    "## <a id=link6>3. Visualisation and diagnostic functions</a> \n",
    "\n",
    "### <a id=link7>3.1 Plot Rank Densities</a> \n",
    "\n",
    "`plotRankDensity()` plots the ranks of genes in the gene-sets for a specific sample. "
   ]
  },
  {
   "cell_type": "code",
   "execution_count": 4,
   "metadata": {},
   "outputs": [
    {
     "data": {
      "text/html": [
       "<table>\n",
       "<caption>A matrix: 6 × 1 of type int</caption>\n",
       "<thead>\n",
       "\t<tr><th></th><th scope=col>D_TGFb_R1</th></tr>\n",
       "</thead>\n",
       "<tbody>\n",
       "\t<tr><th scope=row>2</th><td> 1255</td></tr>\n",
       "\t<tr><th scope=row>9</th><td> 7611</td></tr>\n",
       "\t<tr><th scope=row>10</th><td> 1599</td></tr>\n",
       "\t<tr><th scope=row>12</th><td> 3682</td></tr>\n",
       "\t<tr><th scope=row>13</th><td> 3599</td></tr>\n",
       "\t<tr><th scope=row>14</th><td>10013</td></tr>\n",
       "</tbody>\n",
       "</table>\n"
      ],
      "text/latex": [
       "A matrix: 6 × 1 of type int\n",
       "\\begin{tabular}{r|l}\n",
       "  & D\\_TGFb\\_R1\\\\\n",
       "\\hline\n",
       "\t2 &  1255\\\\\n",
       "\t9 &  7611\\\\\n",
       "\t10 &  1599\\\\\n",
       "\t12 &  3682\\\\\n",
       "\t13 &  3599\\\\\n",
       "\t14 & 10013\\\\\n",
       "\\end{tabular}\n"
      ],
      "text/markdown": [
       "\n",
       "A matrix: 6 × 1 of type int\n",
       "\n",
       "| <!--/--> | D_TGFb_R1 |\n",
       "|---|---|\n",
       "| 2 |  1255 |\n",
       "| 9 |  7611 |\n",
       "| 10 |  1599 |\n",
       "| 12 |  3682 |\n",
       "| 13 |  3599 |\n",
       "| 14 | 10013 |\n",
       "\n"
      ],
      "text/plain": [
       "   D_TGFb_R1\n",
       "2   1255    \n",
       "9   7611    \n",
       "10  1599    \n",
       "12  3682    \n",
       "13  3599    \n",
       "14 10013    "
      ]
     },
     "metadata": {},
     "output_type": "display_data"
    },
    {
     "data": {
      "text/html": [
       "<table>\n",
       "<caption>A matrix: 1 × 10 of type int</caption>\n",
       "<thead>\n",
       "\t<tr><th></th><th scope=col>D_Ctrl_R1</th><th scope=col>D_TGFb_R1</th><th scope=col>D_Ctrl_R2</th><th scope=col>D_TGFb_R2</th><th scope=col>Hes_Ctrl_R1</th><th scope=col>Hes_TGFb_R1</th><th scope=col>Hes_Ctrl_R2</th><th scope=col>Hes_TGFb_R2</th><th scope=col>Hil_Ctrl_R1</th><th scope=col>Hil_Ctrl_R2</th></tr>\n",
       "</thead>\n",
       "<tbody>\n",
       "\t<tr><th scope=row>9</th><td>6688</td><td>7611</td><td>6454</td><td>6975</td><td>6244</td><td>7330</td><td>7110</td><td>7052</td><td>6247</td><td>7315</td></tr>\n",
       "</tbody>\n",
       "</table>\n"
      ],
      "text/latex": [
       "A matrix: 1 × 10 of type int\n",
       "\\begin{tabular}{r|llllllllll}\n",
       "  & D\\_Ctrl\\_R1 & D\\_TGFb\\_R1 & D\\_Ctrl\\_R2 & D\\_TGFb\\_R2 & Hes\\_Ctrl\\_R1 & Hes\\_TGFb\\_R1 & Hes\\_Ctrl\\_R2 & Hes\\_TGFb\\_R2 & Hil\\_Ctrl\\_R1 & Hil\\_Ctrl\\_R2\\\\\n",
       "\\hline\n",
       "\t9 & 6688 & 7611 & 6454 & 6975 & 6244 & 7330 & 7110 & 7052 & 6247 & 7315\\\\\n",
       "\\end{tabular}\n"
      ],
      "text/markdown": [
       "\n",
       "A matrix: 1 × 10 of type int\n",
       "\n",
       "| <!--/--> | D_Ctrl_R1 | D_TGFb_R1 | D_Ctrl_R2 | D_TGFb_R2 | Hes_Ctrl_R1 | Hes_TGFb_R1 | Hes_Ctrl_R2 | Hes_TGFb_R2 | Hil_Ctrl_R1 | Hil_Ctrl_R2 |\n",
       "|---|---|---|---|---|---|---|---|---|---|---|\n",
       "| 9 | 6688 | 7611 | 6454 | 6975 | 6244 | 7330 | 7110 | 7052 | 6247 | 7315 |\n",
       "\n"
      ],
      "text/plain": [
       "  D_Ctrl_R1 D_TGFb_R1 D_Ctrl_R2 D_TGFb_R2 Hes_Ctrl_R1 Hes_TGFb_R1 Hes_Ctrl_R2\n",
       "9 6688      7611      6454      6975      6244        7330        7110       \n",
       "  Hes_TGFb_R2 Hil_Ctrl_R1 Hil_Ctrl_R2\n",
       "9 7052        6247        7315       "
      ]
     },
     "metadata": {},
     "output_type": "display_data"
    },
    {
     "name": "stderr",
     "output_type": "stream",
     "text": [
      "Warning message:\n",
      "\"Ignoring unknown aesthetics: text\"\n"
     ]
    },
    {
     "data": {
      "image/png": "[encoded data removed]",
      "text/plain": [
       "plot without title"
      ]
     },
     "metadata": {
      "image/png": {
       "height": 420,
       "width": 420
      },
      "text/plain": {
       "height": 420,
       "width": 420
      }
     },
     "output_type": "display_data"
    }
   ],
   "source": [
    "#  You can provide the upSet alone when working with unpaired gene-sets \n",
    "# We plot the second sample in rankData, view it by \n",
    "head(rankData[, 2, drop = FALSE])\n",
    "head(rankData[2, , drop = FALSE])\n",
    "\n",
    "plotRankDensity(rankData[,2,drop = FALSE], upSet = tgfb_gs_up, \n",
    "                downSet = tgfb_gs_dn, isInteractive = FALSE)\n",
    "\n",
    "## Setting `isInteractive = TRUE` generates an interactive plot using the `plotly` package.\n",
    "## Hovering over the bars in the interactive plot allows you to get information \n",
    "## such as the normalised rank (between 0 and 1) and ID of the gene represented by the bar. \n",
    "## For the rest of the plotting functions, the isInteractive = TRUE argument has the same behavior."
   ]
  },
  {
   "cell_type": "markdown",
   "metadata": {},
   "source": [
    "### <a id=link8>3.2 Plot dispersions of scores</a> \n",
    "\n",
    "`plotDispersion()` generates the scatter plots of the `score VS. dispersions` for the total scores, the up scores and the down score of samples."
   ]
  },
  {
   "cell_type": "code",
   "execution_count": 5,
   "metadata": {},
   "outputs": [
    {
     "data": {
      "text/html": [
       "<style>\n",
       ".list-inline {list-style: none; margin:0; padding: 0}\n",
       ".list-inline>li {display: inline-block}\n",
       ".list-inline>li:not(:last-child)::after {content: \"\\00b7\"; padding: 0 .5ex}\n",
       "</style>\n",
       "<ol class=list-inline><li>'Control'</li><li>'TGFb'</li><li>'Control'</li><li>'TGFb'</li><li>'Control'</li><li>'TGFb'</li><li>'Control'</li><li>'TGFb'</li><li>'Control'</li><li>'Control'</li></ol>\n"
      ],
      "text/latex": [
       "\\begin{enumerate*}\n",
       "\\item 'Control'\n",
       "\\item 'TGFb'\n",
       "\\item 'Control'\n",
       "\\item 'TGFb'\n",
       "\\item 'Control'\n",
       "\\item 'TGFb'\n",
       "\\item 'Control'\n",
       "\\item 'TGFb'\n",
       "\\item 'Control'\n",
       "\\item 'Control'\n",
       "\\end{enumerate*}\n"
      ],
      "text/markdown": [
       "1. 'Control'\n",
       "2. 'TGFb'\n",
       "3. 'Control'\n",
       "4. 'TGFb'\n",
       "5. 'Control'\n",
       "6. 'TGFb'\n",
       "7. 'Control'\n",
       "8. 'TGFb'\n",
       "9. 'Control'\n",
       "10. 'Control'\n",
       "\n",
       "\n"
      ],
      "text/plain": [
       " [1] \"Control\" \"TGFb\"    \"Control\" \"TGFb\"    \"Control\" \"TGFb\"    \"Control\"\n",
       " [8] \"TGFb\"    \"Control\" \"Control\""
      ]
     },
     "metadata": {},
     "output_type": "display_data"
    },
    {
     "data": {
      "image/png": "[encoded data removed]",
      "text/plain": [
       "plot without title"
      ]
     },
     "metadata": {
      "image/png": {
       "height": 420,
       "width": 420
      },
      "text/plain": {
       "height": 420,
       "width": 420
      }
     },
     "output_type": "display_data"
    }
   ],
   "source": [
    "#  Get the annotations of samples by their sample names\n",
    "tgfbAnnot = data.frame(SampleID = colnames(tgfb_expr_10_se),\n",
    "                       Type = NA)\n",
    "tgfbAnnot$Type[grepl(\"Ctrl\", tgfbAnnot$SampleID)] = \"Control\"\n",
    "tgfbAnnot$Type[grepl(\"TGFb\", tgfbAnnot$SampleID)] = \"TGFb\"\n",
    "\n",
    "# Sample annotations\n",
    "tgfbAnnot$Type\n",
    "\n",
    "plotDispersion(scoredf, annot = tgfbAnnot$Type, isInteractive = FALSE)\n",
    "\n",
    "# To see an interactive version powered by 'plotly', simply set the \n",
    "# 'isInteractive' = TRUE, i.e :\n",
    "#\n",
    "# plotDispersion(scoredf,annot = tgfbAnnot$Type,isInteractive = TRUE)"
   ]
  },
  {
   "cell_type": "markdown",
   "metadata": {},
   "source": [
    "### <a id=link9>3.3 Plot score landscape</a> \n",
    "\n",
    "`plotScoreLandscape()` plots the scores of the samples against two different gene signatures in a landscape for exploring their relationships."
   ]
  },
  {
   "cell_type": "code",
   "execution_count": 6,
   "metadata": {},
   "outputs": [
    {
     "data": {
      "image/png": "[encoded data removed]",
      "text/plain": [
       "plot without title"
      ]
     },
     "metadata": {
      "image/png": {
       "height": 420,
       "width": 420
      },
      "text/plain": {
       "height": 420,
       "width": 420
      }
     },
     "output_type": "display_data"
    }
   ],
   "source": [
    "plotScoreLandscape(scoredf_ccle_epi, scoredf_ccle_mes, \n",
    "                   scorenames = c('ccle-EPI','ccle-MES'),hexMin = 10)"
   ]
  },
  {
   "cell_type": "markdown",
   "metadata": {},
   "source": [
    "Similarly, pre-computed scores for the TCGA breast cancer RNA-seq dataset against epithelial and mesenchymal gene signatures are stored in scoredf_tcga_epi and scoredf_tcga_mes respectively (Tan et al. 2014). The utility of this function is enhanced when the number of samples is large."
   ]
  },
  {
   "cell_type": "code",
   "execution_count": 7,
   "metadata": {},
   "outputs": [
    {
     "data": {
      "image/png": "[encoded data removed]",
      "text/plain": [
       "plot without title"
      ]
     },
     "metadata": {
      "image/png": {
       "height": 420,
       "width": 420
      },
      "text/plain": {
       "height": 420,
       "width": 420
      }
     },
     "output_type": "display_data"
    }
   ],
   "source": [
    "tcgaLandscape = plotScoreLandscape(scoredf_tcga_epi, scoredf_tcga_mes, \n",
    "                   scorenames = c('tcga_EPI','tcga_MES'), isInteractive = FALSE)\n",
    "\n",
    "tcgaLandscape"
   ]
  },
  {
   "cell_type": "markdown",
   "metadata": {},
   "source": [
    "You can also project new data points onto the landscape plot generated above by using the projectScoreLandscape function. For example, the plot below overlays 3 CCLE samples onto the TCGA epithelial-mesenchymal landscape. Points are labeled with their sample names by default"
   ]
  },
  {
   "cell_type": "code",
   "execution_count": 8,
   "metadata": {},
   "outputs": [
    {
     "name": "stderr",
     "output_type": "stream",
     "text": [
      "Warning message:\n",
      "\"Ignoring unknown aesthetics: text\"\n"
     ]
    },
    {
     "data": {
      "image/png": "[encoded data removed]",
      "text/plain": [
       "plot without title"
      ]
     },
     "metadata": {
      "image/png": {
       "height": 420,
       "width": 420
      },
      "text/plain": {
       "height": 420,
       "width": 420
      }
     },
     "output_type": "display_data"
    }
   ],
   "source": [
    "# Project on the above generated 'tcgaLandscape' plot\n",
    "projectScoreLandscape(plotObj = tcgaLandscape, scoredf_ccle_epi, \n",
    "                      scoredf_ccle_mes,\n",
    "                      subSamples = rownames(scoredf_ccle_epi)[c(1,4,5)],\n",
    "                      annot = rownames(scoredf_ccle_epi)[c(1,4,5)], \n",
    "                      sampleLabels = NULL,\n",
    "                      isInteractive = FALSE)"
   ]
  },
  {
   "cell_type": "code",
   "execution_count": 9,
   "metadata": {},
   "outputs": [
    {
     "name": "stderr",
     "output_type": "stream",
     "text": [
      "Warning message:\n",
      "\"Ignoring unknown aesthetics: text\"\n"
     ]
    },
    {
     "data": {
      "image/png": "[encoded data removed]",
      "text/plain": [
       "plot without title"
      ]
     },
     "metadata": {
      "image/png": {
       "height": 420,
       "width": 420
      },
      "text/plain": {
       "height": 420,
       "width": 420
      }
     },
     "output_type": "display_data"
    }
   ],
   "source": [
    "# Custom labels can be provided by passing a character vector to the sampleLabels argument.\n",
    "projectScoreLandscape(plotObj = tcgaLandscape, scoredf_ccle_epi, scoredf_ccle_mes,\n",
    "                      subSamples = rownames(scoredf_ccle_epi)[c(1,4,5,8,9)],\n",
    "                      sampleLabels = c('l1','l2','l3','l4','l5'),\n",
    "                      annot = rownames(scoredf_ccle_epi)[c(1,4,5,8,9)], \n",
    "                      isInteractive = FALSE)"
   ]
  },
  {
   "cell_type": "code",
   "execution_count": 10,
   "metadata": {},
   "outputs": [
    {
     "data": {
      "text/plain": [
       "R version 4.0.0 (2020-04-24)\n",
       "Platform: x86_64-w64-mingw32/x64 (64-bit)\n",
       "Running under: Windows 10 x64 (build 18363)\n",
       "\n",
       "Matrix products: default\n",
       "\n",
       "locale:\n",
       "[1] LC_COLLATE=Chinese (Simplified)_China.936 \n",
       "[2] LC_CTYPE=Chinese (Simplified)_China.936   \n",
       "[3] LC_MONETARY=Chinese (Simplified)_China.936\n",
       "[4] LC_NUMERIC=C                              \n",
       "[5] LC_TIME=Chinese (Simplified)_China.936    \n",
       "\n",
       "attached base packages:\n",
       "[1] stats     graphics  grDevices utils     datasets  methods   base     \n",
       "\n",
       "other attached packages:\n",
       "[1] singscore_1.8.0\n",
       "\n",
       "loaded via a namespace (and not attached):\n",
       " [1] ggrepel_0.8.2               locfit_1.5-9.4             \n",
       " [3] Rcpp_1.0.4.6                lattice_0.20-41            \n",
       " [5] tidyr_1.1.0                 assertthat_0.2.1           \n",
       " [7] digest_0.6.25               IRdisplay_0.7.0            \n",
       " [9] R6_2.4.1                    GenomeInfoDb_1.24.0        \n",
       "[11] plyr_1.8.6                  repr_1.1.0                 \n",
       "[13] stats4_4.0.0                RSQLite_2.2.0              \n",
       "[15] evaluate_0.14               ggplot2_3.3.0              \n",
       "[17] pillar_1.4.4                zlibbioc_1.34.0            \n",
       "[19] rlang_0.4.6                 uuid_0.1-4                 \n",
       "[21] annotate_1.66.0             hexbin_1.28.1              \n",
       "[23] blob_1.2.1                  S4Vectors_0.26.1           \n",
       "[25] Matrix_1.2-18               labeling_0.3               \n",
       "[27] stringr_1.4.0               RCurl_1.98-1.2             \n",
       "[29] bit_1.1-15.2                munsell_0.5.0              \n",
       "[31] DelayedArray_0.14.0         compiler_4.0.0             \n",
       "[33] pkgconfig_2.0.3             BiocGenerics_0.34.0        \n",
       "[35] base64enc_0.1-3             htmltools_0.4.0            \n",
       "[37] tidyselect_1.1.0            SummarizedExperiment_1.18.1\n",
       "[39] tibble_3.0.1                GenomeInfoDbData_1.2.3     \n",
       "[41] edgeR_3.30.0                IRanges_2.22.2             \n",
       "[43] matrixStats_0.56.0          XML_3.99-0.3               \n",
       "[45] crayon_1.3.4                dplyr_0.8.5                \n",
       "[47] bitops_1.0-6                grid_4.0.0                 \n",
       "[49] jsonlite_1.6.1              xtable_1.8-4               \n",
       "[51] GSEABase_1.50.0             gtable_0.3.0               \n",
       "[53] lifecycle_0.2.0             DBI_1.1.0                  \n",
       "[55] magrittr_1.5                scales_1.1.1               \n",
       "[57] graph_1.66.0                stringi_1.4.6              \n",
       "[59] farver_2.0.3                XVector_0.28.0             \n",
       "[61] reshape2_1.4.4              limma_3.44.1               \n",
       "[63] ellipsis_0.3.1              vctrs_0.3.0                \n",
       "[65] IRkernel_1.1                RColorBrewer_1.1-2         \n",
       "[67] tools_4.0.0                 bit64_0.9-7                \n",
       "[69] Biobase_2.48.0              glue_1.4.1                 \n",
       "[71] purrr_0.3.4                 parallel_4.0.0             \n",
       "[73] AnnotationDbi_1.50.0        colorspace_1.4-1           \n",
       "[75] GenomicRanges_1.40.0        memoise_1.1.0              \n",
       "[77] pbdZMQ_0.3-3               "
      ]
     },
     "metadata": {},
     "output_type": "display_data"
    }
   ],
   "source": [
    "sessionInfo()"
   ]
  }
 ],
 "metadata": {
  "kernelspec": {
   "display_name": "R 4.0.0",
   "language": "R",
   "name": "ir400"
  },
  "language_info": {
   "codemirror_mode": "r",
   "file_extension": ".r",
   "mimetype": "text/x-r-source",
   "name": "R",
   "pygments_lexer": "r",
   "version": "4.0.0"
  }
 },
 "nbformat": 4,
 "nbformat_minor": 2
}
