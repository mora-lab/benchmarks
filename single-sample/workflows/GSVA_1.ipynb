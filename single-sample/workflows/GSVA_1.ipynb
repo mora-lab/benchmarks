{
 "cells": [
  {
   "cell_type": "markdown",
   "metadata": {},
   "source": [
    "# GSVA tutorial\n",
    "\n",
    "Following the vignette of package \"GSVA\", at first, create a expression matrix with 30 samples and 20,000 genes and 100 putative gene sets. And then we can test the distribution of GSVA scores of the 100 gene sets in the 30 samples."
   ]
  },
  {
   "cell_type": "code",
   "execution_count": 1,
   "metadata": {},
   "outputs": [],
   "source": [
    "# source(\"http://www.bioconductor.org/biocLite.R\")\n",
    "# biocLite(\"GSVAdata\")\n",
    "# biocLite(\"GSVA\")"
   ]
  },
  {
   "cell_type": "code",
   "execution_count": 2,
   "metadata": {},
   "outputs": [
    {
     "data": {
      "text/html": [
       "<ol class=list-inline>\n",
       "\t<li>20000</li>\n",
       "\t<li>30</li>\n",
       "</ol>\n"
      ],
      "text/latex": [
       "\\begin{enumerate*}\n",
       "\\item 20000\n",
       "\\item 30\n",
       "\\end{enumerate*}\n"
      ],
      "text/markdown": [
       "1. 20000\n",
       "2. 30\n",
       "\n",
       "\n"
      ],
      "text/plain": [
       "[1] 20000    30"
      ]
     },
     "metadata": {},
     "output_type": "display_data"
    },
    {
     "data": {
      "image/png": "[encoded data removed]",
      "text/plain": [
       "Plot with title \"Difference between largest\n",
       "positive and negative deviations\""
      ]
     },
     "metadata": {},
     "output_type": "display_data"
    }
   ],
   "source": [
    "library(GSVA)\n",
    "p <- 20000     ## number of genes\n",
    "n <- 30        ## number of samples\n",
    "nGS <- 100     ## number of gene sets\n",
    "min.sz <- 10   ## minimum gene set size\n",
    "max.sz <- 100  ## maximum gene set size\n",
    "\n",
    "X <- matrix(rnorm(p*n), nrow=p, dimnames=list(1:p, 1:n))\n",
    "dim(X)\n",
    "\n",
    "gs <- as.list(sample(min.sz:max.sz, size=nGS, replace=TRUE))             ## sample gene set sizes\n",
    "gs <- lapply(gs, function(n, p) sample(1:p, size=n, replace=FALSE), p)   ## sample gene sets\n",
    "es.max <- gsva(X, gs, mx.diff=FALSE, verbose=FALSE, parallel.sz=1)       ## Gaussian\n",
    "es.dif <- gsva(X, gs, mx.diff=TRUE, verbose=FALSE, parallel.sz=1)        ## Binomial Distribution\n",
    "par(mfrow=c(1,2), mar=c(4, 4, 4, 1))\n",
    "plot(density(as.vector(es.max)), main=\"Maximum deviation from zero\",\n",
    "     xlab=\"GSVA score\", lwd=2, las=1, xaxt=\"n\", xlim=c(-0.75, 0.75), cex.axis=0.8)\n",
    "axis(1, at=seq(-0.75, 0.75, by=0.25), labels=seq(-0.75, 0.75, by=0.25), cex.axis=0.8)\n",
    "plot(density(as.vector(es.dif)), main=\"Difference between largest\\npositive and negative deviations\",\n",
    "     xlab=\"GSVA score\", lwd=2, las=1, xaxt=\"n\", xlim=c(-0.75, 0.75), cex.axis=0.8)\n",
    "axis(1, at=seq(-0.75, 0.75, by=0.25), labels=seq(-0.75, 0.75, by=0.25), cex.axis=0.8)"
   ]
  },
  {
   "cell_type": "code",
   "execution_count": 3,
   "metadata": {},
   "outputs": [
    {
     "data": {
      "text/html": [
       "'matrix'"
      ],
      "text/latex": [
       "'matrix'"
      ],
      "text/markdown": [
       "'matrix'"
      ],
      "text/plain": [
       "[1] \"matrix\""
      ]
     },
     "metadata": {},
     "output_type": "display_data"
    }
   ],
   "source": [
    "class(X)"
   ]
  },
  {
   "cell_type": "code",
   "execution_count": 4,
   "metadata": {},
   "outputs": [
    {
     "data": {
      "text/html": [
       "'list'"
      ],
      "text/latex": [
       "'list'"
      ],
      "text/markdown": [
       "'list'"
      ],
      "text/plain": [
       "[1] \"list\""
      ]
     },
     "metadata": {},
     "output_type": "display_data"
    }
   ],
   "source": [
    "class(gs)"
   ]
  },
  {
   "cell_type": "code",
   "execution_count": 5,
   "metadata": {},
   "outputs": [],
   "source": [
    "es.max <- gsva(X, gs, mx.diff=FALSE, verbose=FALSE, parallel.sz=1, method = \"ssgsea\")"
   ]
  },
  {
   "cell_type": "code",
   "execution_count": 6,
   "metadata": {},
   "outputs": [
    {
     "data": {
      "text/html": [
       "<table>\n",
       "<caption>A matrix: 6 × 30 of type dbl</caption>\n",
       "<thead>\n",
       "\t<tr><th scope=col>1</th><th scope=col>2</th><th scope=col>3</th><th scope=col>4</th><th scope=col>5</th><th scope=col>6</th><th scope=col>7</th><th scope=col>8</th><th scope=col>9</th><th scope=col>10</th><th scope=col>...</th><th scope=col>21</th><th scope=col>22</th><th scope=col>23</th><th scope=col>24</th><th scope=col>25</th><th scope=col>26</th><th scope=col>27</th><th scope=col>28</th><th scope=col>29</th><th scope=col>30</th></tr>\n",
       "</thead>\n",
       "<tbody>\n",
       "\t<tr><td>0.12972210</td><td>0.17825821</td><td>0.03052325</td><td>0.11458951</td><td>0.11560416</td><td>0.21700705</td><td>0.1392151</td><td>0.08504499</td><td>0.23292938</td><td>0.12147634</td><td>...</td><td> 0.053110278</td><td>0.14897198</td><td>0.1857258</td><td>0.14407841</td><td> 0.12337265</td><td>0.11575393</td><td>0.13242640</td><td>0.18653136</td><td>0.0728224</td><td>0.22221971</td></tr>\n",
       "\t<tr><td>0.15471245</td><td>0.11869082</td><td>0.01329682</td><td>0.08037018</td><td>0.13201373</td><td>0.01224744</td><td>0.1579809</td><td>0.22084834</td><td>0.20429214</td><td>0.05857961</td><td>...</td><td> 0.337349385</td><td>0.10881421</td><td>0.2348077</td><td>0.06195241</td><td> 0.19015227</td><td>0.07711914</td><td>0.26471462</td><td>0.36078252</td><td>0.1786417</td><td>0.13546964</td></tr>\n",
       "\t<tr><td>0.07005947</td><td>0.17639605</td><td>0.13107195</td><td>0.23345879</td><td>0.04142051</td><td>0.24508584</td><td>0.2028711</td><td>0.22154764</td><td>0.02940494</td><td>0.11438792</td><td>...</td><td> 0.219012424</td><td>0.04843288</td><td>0.1731649</td><td>0.13856084</td><td> 0.28296540</td><td>0.10701903</td><td>0.06804127</td><td>0.11527275</td><td>0.1749199</td><td>0.09130802</td></tr>\n",
       "\t<tr><td>0.08642860</td><td>0.06416653</td><td>0.16033025</td><td>0.05988035</td><td>0.05586015</td><td>0.06189744</td><td>0.1682426</td><td>0.03463700</td><td>0.18192644</td><td>0.10355778</td><td>...</td><td>-0.002992986</td><td>0.21881518</td><td>0.2208311</td><td>0.17851550</td><td> 0.04758877</td><td>0.22169691</td><td>0.08880303</td><td>0.21043658</td><td>0.1164128</td><td>0.09602819</td></tr>\n",
       "\t<tr><td>0.14049004</td><td>0.13863196</td><td>0.13227315</td><td>0.22808779</td><td>0.28528728</td><td>0.20411461</td><td>0.2248195</td><td>0.10616688</td><td>0.18952171</td><td>0.16908350</td><td>...</td><td> 0.002595374</td><td>0.30136676</td><td>0.2223339</td><td>0.13546984</td><td> 0.12815282</td><td>0.22113786</td><td>0.05042420</td><td>0.06095951</td><td>0.1061072</td><td>0.28667166</td></tr>\n",
       "\t<tr><td>0.07387765</td><td>0.20936526</td><td>0.16101020</td><td>0.04627117</td><td>0.06512820</td><td>0.10414896</td><td>0.1542578</td><td>0.11398741</td><td>0.25570414</td><td>0.03211639</td><td>...</td><td> 0.035201130</td><td>0.04251549</td><td>0.1296403</td><td>0.24834571</td><td>-0.01372922</td><td>0.24472214</td><td>0.12828220</td><td>0.18777872</td><td>0.1608058</td><td>0.07167063</td></tr>\n",
       "</tbody>\n",
       "</table>\n"
      ],
      "text/latex": [
       "A matrix: 6 × 30 of type dbl\n",
       "\\begin{tabular}{llllllllllllllllllllllllllllll}\n",
       " 1 & 2 & 3 & 4 & 5 & 6 & 7 & 8 & 9 & 10 & 11 & 12 & 13 & 14 & 15 & 16 & 17 & 18 & 19 & 20 & 21 & 22 & 23 & 24 & 25 & 26 & 27 & 28 & 29 & 30\\\\\n",
       "\\hline\n",
       "\t 0.12972210 & 0.17825821 & 0.03052325 & 0.11458951 & 0.11560416 & 0.21700705 & 0.1392151 & 0.08504499 & 0.23292938 & 0.12147634 &  0.19550922 & 0.17526060 &  0.216441471 & 0.09771671 & 0.12299276 & -0.001136204 & 0.25179347 &  0.150233920 & 0.05311169 & 0.07906374 &  0.053110278 & 0.14897198 & 0.1857258 & 0.14407841 &  0.12337265 & 0.11575393 & 0.13242640 & 0.18653136 & 0.0728224 & 0.22221971\\\\\n",
       "\t 0.15471245 & 0.11869082 & 0.01329682 & 0.08037018 & 0.13201373 & 0.01224744 & 0.1579809 & 0.22084834 & 0.20429214 & 0.05857961 &  0.15009415 & 0.12349632 &  0.162266092 & 0.18563328 & 0.08494695 &  0.223269582 & 0.04502928 & -0.004643544 & 0.08069488 & 0.16852261 &  0.337349385 & 0.10881421 & 0.2348077 & 0.06195241 &  0.19015227 & 0.07711914 & 0.26471462 & 0.36078252 & 0.1786417 & 0.13546964\\\\\n",
       "\t 0.07005947 & 0.17639605 & 0.13107195 & 0.23345879 & 0.04142051 & 0.24508584 & 0.2028711 & 0.22154764 & 0.02940494 & 0.11438792 &  0.07739224 & 0.21175078 & -0.004634476 & 0.26865666 & 0.13839806 &  0.143288599 & 0.19484631 &  0.015799500 & 0.02641764 & 0.07878598 &  0.219012424 & 0.04843288 & 0.1731649 & 0.13856084 &  0.28296540 & 0.10701903 & 0.06804127 & 0.11527275 & 0.1749199 & 0.09130802\\\\\n",
       "\t 0.08642860 & 0.06416653 & 0.16033025 & 0.05988035 & 0.05586015 & 0.06189744 & 0.1682426 & 0.03463700 & 0.18192644 & 0.10355778 & -0.02249749 & 0.06596959 &  0.186578291 & 0.19555746 & 0.24269602 &  0.111169616 & 0.12425881 &  0.243943690 & 0.20330634 & 0.11308992 & -0.002992986 & 0.21881518 & 0.2208311 & 0.17851550 &  0.04758877 & 0.22169691 & 0.08880303 & 0.21043658 & 0.1164128 & 0.09602819\\\\\n",
       "\t 0.14049004 & 0.13863196 & 0.13227315 & 0.22808779 & 0.28528728 & 0.20411461 & 0.2248195 & 0.10616688 & 0.18952171 & 0.16908350 &  0.08550008 & 0.17378627 &  0.076511562 & 0.11033645 & 0.07021435 &  0.172983954 & 0.10952943 &  0.132455813 & 0.14788954 & 0.20358824 &  0.002595374 & 0.30136676 & 0.2223339 & 0.13546984 &  0.12815282 & 0.22113786 & 0.05042420 & 0.06095951 & 0.1061072 & 0.28667166\\\\\n",
       "\t 0.07387765 & 0.20936526 & 0.16101020 & 0.04627117 & 0.06512820 & 0.10414896 & 0.1542578 & 0.11398741 & 0.25570414 & 0.03211639 &  0.12639143 & 0.11445393 &  0.081725040 & 0.17615382 & 0.15587238 &  0.046207848 & 0.04947848 &  0.168713775 & 0.22967936 & 0.15622844 &  0.035201130 & 0.04251549 & 0.1296403 & 0.24834571 & -0.01372922 & 0.24472214 & 0.12828220 & 0.18777872 & 0.1608058 & 0.07167063\\\\\n",
       "\\end{tabular}\n"
      ],
      "text/markdown": [
       "\n",
       "A matrix: 6 × 30 of type dbl\n",
       "\n",
       "| 1 | 2 | 3 | 4 | 5 | 6 | 7 | 8 | 9 | 10 | ... | 21 | 22 | 23 | 24 | 25 | 26 | 27 | 28 | 29 | 30 |\n",
       "|---|---|---|---|---|---|---|---|---|---|---|---|---|---|---|---|---|---|---|---|---|\n",
       "| 0.12972210 | 0.17825821 | 0.03052325 | 0.11458951 | 0.11560416 | 0.21700705 | 0.1392151 | 0.08504499 | 0.23292938 | 0.12147634 | ... |  0.053110278 | 0.14897198 | 0.1857258 | 0.14407841 |  0.12337265 | 0.11575393 | 0.13242640 | 0.18653136 | 0.0728224 | 0.22221971 |\n",
       "| 0.15471245 | 0.11869082 | 0.01329682 | 0.08037018 | 0.13201373 | 0.01224744 | 0.1579809 | 0.22084834 | 0.20429214 | 0.05857961 | ... |  0.337349385 | 0.10881421 | 0.2348077 | 0.06195241 |  0.19015227 | 0.07711914 | 0.26471462 | 0.36078252 | 0.1786417 | 0.13546964 |\n",
       "| 0.07005947 | 0.17639605 | 0.13107195 | 0.23345879 | 0.04142051 | 0.24508584 | 0.2028711 | 0.22154764 | 0.02940494 | 0.11438792 | ... |  0.219012424 | 0.04843288 | 0.1731649 | 0.13856084 |  0.28296540 | 0.10701903 | 0.06804127 | 0.11527275 | 0.1749199 | 0.09130802 |\n",
       "| 0.08642860 | 0.06416653 | 0.16033025 | 0.05988035 | 0.05586015 | 0.06189744 | 0.1682426 | 0.03463700 | 0.18192644 | 0.10355778 | ... | -0.002992986 | 0.21881518 | 0.2208311 | 0.17851550 |  0.04758877 | 0.22169691 | 0.08880303 | 0.21043658 | 0.1164128 | 0.09602819 |\n",
       "| 0.14049004 | 0.13863196 | 0.13227315 | 0.22808779 | 0.28528728 | 0.20411461 | 0.2248195 | 0.10616688 | 0.18952171 | 0.16908350 | ... |  0.002595374 | 0.30136676 | 0.2223339 | 0.13546984 |  0.12815282 | 0.22113786 | 0.05042420 | 0.06095951 | 0.1061072 | 0.28667166 |\n",
       "| 0.07387765 | 0.20936526 | 0.16101020 | 0.04627117 | 0.06512820 | 0.10414896 | 0.1542578 | 0.11398741 | 0.25570414 | 0.03211639 | ... |  0.035201130 | 0.04251549 | 0.1296403 | 0.24834571 | -0.01372922 | 0.24472214 | 0.12828220 | 0.18777872 | 0.1608058 | 0.07167063 |\n",
       "\n"
      ],
      "text/plain": [
       "     1          2          3          4          5          6         \n",
       "[1,] 0.12972210 0.17825821 0.03052325 0.11458951 0.11560416 0.21700705\n",
       "[2,] 0.15471245 0.11869082 0.01329682 0.08037018 0.13201373 0.01224744\n",
       "[3,] 0.07005947 0.17639605 0.13107195 0.23345879 0.04142051 0.24508584\n",
       "[4,] 0.08642860 0.06416653 0.16033025 0.05988035 0.05586015 0.06189744\n",
       "[5,] 0.14049004 0.13863196 0.13227315 0.22808779 0.28528728 0.20411461\n",
       "[6,] 0.07387765 0.20936526 0.16101020 0.04627117 0.06512820 0.10414896\n",
       "     7         8          9          10         ... 21           22        \n",
       "[1,] 0.1392151 0.08504499 0.23292938 0.12147634 ...  0.053110278 0.14897198\n",
       "[2,] 0.1579809 0.22084834 0.20429214 0.05857961 ...  0.337349385 0.10881421\n",
       "[3,] 0.2028711 0.22154764 0.02940494 0.11438792 ...  0.219012424 0.04843288\n",
       "[4,] 0.1682426 0.03463700 0.18192644 0.10355778 ... -0.002992986 0.21881518\n",
       "[5,] 0.2248195 0.10616688 0.18952171 0.16908350 ...  0.002595374 0.30136676\n",
       "[6,] 0.1542578 0.11398741 0.25570414 0.03211639 ...  0.035201130 0.04251549\n",
       "     23        24         25          26         27         28        \n",
       "[1,] 0.1857258 0.14407841  0.12337265 0.11575393 0.13242640 0.18653136\n",
       "[2,] 0.2348077 0.06195241  0.19015227 0.07711914 0.26471462 0.36078252\n",
       "[3,] 0.1731649 0.13856084  0.28296540 0.10701903 0.06804127 0.11527275\n",
       "[4,] 0.2208311 0.17851550  0.04758877 0.22169691 0.08880303 0.21043658\n",
       "[5,] 0.2223339 0.13546984  0.12815282 0.22113786 0.05042420 0.06095951\n",
       "[6,] 0.1296403 0.24834571 -0.01372922 0.24472214 0.12828220 0.18777872\n",
       "     29        30        \n",
       "[1,] 0.0728224 0.22221971\n",
       "[2,] 0.1786417 0.13546964\n",
       "[3,] 0.1749199 0.09130802\n",
       "[4,] 0.1164128 0.09602819\n",
       "[5,] 0.1061072 0.28667166\n",
       "[6,] 0.1608058 0.07167063"
      ]
     },
     "metadata": {},
     "output_type": "display_data"
    }
   ],
   "source": [
    "head(es.max)"
   ]
  },
  {
   "cell_type": "code",
   "execution_count": 7,
   "metadata": {},
   "outputs": [
    {
     "data": {
      "text/html": [
       "<table>\n",
       "<caption>A matrix: 6 × 30 of type dbl</caption>\n",
       "<thead>\n",
       "\t<tr><th scope=col>1</th><th scope=col>2</th><th scope=col>3</th><th scope=col>4</th><th scope=col>5</th><th scope=col>6</th><th scope=col>7</th><th scope=col>8</th><th scope=col>9</th><th scope=col>10</th><th scope=col>...</th><th scope=col>21</th><th scope=col>22</th><th scope=col>23</th><th scope=col>24</th><th scope=col>25</th><th scope=col>26</th><th scope=col>27</th><th scope=col>28</th><th scope=col>29</th><th scope=col>30</th></tr>\n",
       "</thead>\n",
       "<tbody>\n",
       "\t<tr><td>-0.1464877</td><td> 0.1706972</td><td>-0.2482531</td><td>-0.1766762</td><td>-0.1435620</td><td> 0.2095703</td><td>-0.1551247</td><td>-0.1577420</td><td> 0.2295833</td><td>-0.2017547</td><td>...</td><td>-0.2316386</td><td> 0.1597574</td><td> 0.2004513</td><td>-0.1711852</td><td>-0.1726612</td><td>-0.1842517</td><td>-0.1703832</td><td> 0.1764832</td><td>-0.1638436</td><td> 0.1890542</td></tr>\n",
       "\t<tr><td>-0.1693964</td><td>-0.2393881</td><td>-0.2107787</td><td>-0.2047501</td><td> 0.1318724</td><td>-0.2117271</td><td> 0.1475764</td><td> 0.1925819</td><td> 0.2088948</td><td>-0.2230314</td><td>...</td><td> 0.3858626</td><td>-0.1646672</td><td> 0.2306498</td><td>-0.1787025</td><td>-0.1931199</td><td>-0.2237809</td><td> 0.2377592</td><td> 0.3294455</td><td> 0.2331393</td><td>-0.1851846</td></tr>\n",
       "\t<tr><td>-0.2210154</td><td> 0.1855599</td><td>-0.2096997</td><td> 0.2218754</td><td>-0.2072355</td><td> 0.2305601</td><td> 0.2399279</td><td> 0.2134264</td><td>-0.2398134</td><td>-0.2048876</td><td>...</td><td> 0.2372254</td><td>-0.2126249</td><td>-0.1844181</td><td> 0.1771461</td><td> 0.2049809</td><td> 0.1378593</td><td>-0.1963704</td><td>-0.1492016</td><td> 0.1981473</td><td>-0.2233850</td></tr>\n",
       "\t<tr><td>-0.1751456</td><td>-0.2237125</td><td> 0.2175701</td><td>-0.1457915</td><td>-0.2178851</td><td>-0.2758716</td><td> 0.2026401</td><td>-0.2813152</td><td> 0.1870755</td><td> 0.1781394</td><td>...</td><td>-0.1817764</td><td> 0.2741443</td><td> 0.2092358</td><td>-0.1615397</td><td>-0.1819020</td><td> 0.2171130</td><td>-0.1543882</td><td> 0.1876708</td><td> 0.1312551</td><td>-0.2170385</td></tr>\n",
       "\t<tr><td>-0.2034761</td><td> 0.1274539</td><td> 0.1623424</td><td> 0.2147193</td><td> 0.2414300</td><td> 0.1936976</td><td> 0.2106893</td><td>-0.1884508</td><td> 0.1919588</td><td> 0.1620128</td><td>...</td><td>-0.2542940</td><td> 0.2441941</td><td> 0.1899590</td><td>-0.1560990</td><td> 0.2024308</td><td> 0.2081195</td><td>-0.2478326</td><td>-0.1480540</td><td>-0.1278227</td><td> 0.2684894</td></tr>\n",
       "\t<tr><td>-0.1848801</td><td> 0.2476444</td><td> 0.1990156</td><td>-0.1346921</td><td>-0.1994623</td><td>-0.1519222</td><td> 0.1869785</td><td>-0.1648234</td><td> 0.2481611</td><td>-0.2237861</td><td>...</td><td>-0.1296029</td><td>-0.1962616</td><td>-0.1679251</td><td> 0.1804999</td><td>-0.2825748</td><td> 0.2556762</td><td> 0.1560468</td><td>-0.2425081</td><td> 0.1850301</td><td>-0.2051621</td></tr>\n",
       "</tbody>\n",
       "</table>\n"
      ],
      "text/latex": [
       "A matrix: 6 × 30 of type dbl\n",
       "\\begin{tabular}{llllllllllllllllllllllllllllll}\n",
       " 1 & 2 & 3 & 4 & 5 & 6 & 7 & 8 & 9 & 10 & 11 & 12 & 13 & 14 & 15 & 16 & 17 & 18 & 19 & 20 & 21 & 22 & 23 & 24 & 25 & 26 & 27 & 28 & 29 & 30\\\\\n",
       "\\hline\n",
       "\t -0.1464877 &  0.1706972 & -0.2482531 & -0.1766762 & -0.1435620 &  0.2095703 & -0.1551247 & -0.1577420 &  0.2295833 & -0.2017547 &  0.1944641 &  0.1842103 &  0.1903715 &  0.1870801 & -0.1329027 & -0.2418495 &  0.2552071 &  0.1668422 & -0.2604802 & -0.1796700 & -0.2316386 &  0.1597574 &  0.2004513 & -0.1711852 & -0.1726612 & -0.1842517 & -0.1703832 &  0.1764832 & -0.1638436 &  0.1890542\\\\\n",
       "\t -0.1693964 & -0.2393881 & -0.2107787 & -0.2047501 &  0.1318724 & -0.2117271 &  0.1475764 &  0.1925819 &  0.2088948 & -0.2230314 &  0.1973154 & -0.2371609 &  0.1619811 & -0.1770950 & -0.1962163 &  0.1910264 & -0.2203683 & -0.3146232 & -0.1943727 &  0.2277890 &  0.3858626 & -0.1646672 &  0.2306498 & -0.1787025 & -0.1931199 & -0.2237809 &  0.2377592 &  0.3294455 &  0.2331393 & -0.1851846\\\\\n",
       "\t -0.2210154 &  0.1855599 & -0.2096997 &  0.2218754 & -0.2072355 &  0.2305601 &  0.2399279 &  0.2134264 & -0.2398134 & -0.2048876 & -0.1999705 &  0.1542457 & -0.1956137 &  0.2332601 &  0.2184756 &  0.1601428 & -0.1726070 & -0.2658853 & -0.1794732 & -0.1498951 &  0.2372254 & -0.2126249 & -0.1844181 &  0.1771461 &  0.2049809 &  0.1378593 & -0.1963704 & -0.1492016 &  0.1981473 & -0.2233850\\\\\n",
       "\t -0.1751456 & -0.2237125 &  0.2175701 & -0.1457915 & -0.2178851 & -0.2758716 &  0.2026401 & -0.2813152 &  0.1870755 &  0.1781394 & -0.2599168 & -0.2099680 &  0.2279803 &  0.2080476 &  0.2217339 & -0.1788031 &  0.1207158 &  0.2474421 &  0.2244688 & -0.1799596 & -0.1817764 &  0.2741443 &  0.2092358 & -0.1615397 & -0.1819020 &  0.2171130 & -0.1543882 &  0.1876708 &  0.1312551 & -0.2170385\\\\\n",
       "\t -0.2034761 &  0.1274539 &  0.1623424 &  0.2147193 &  0.2414300 &  0.1936976 &  0.2106893 & -0.1884508 &  0.1919588 &  0.1620128 & -0.2263794 &  0.2164648 & -0.2431251 & -0.2545819 & -0.2155349 &  0.1684301 & -0.2305024 &  0.1343320 & -0.1902091 & -0.2148588 & -0.2542940 &  0.2441941 &  0.1899590 & -0.1560990 &  0.2024308 &  0.2081195 & -0.2478326 & -0.1480540 & -0.1278227 &  0.2684894\\\\\n",
       "\t -0.1848801 &  0.2476444 &  0.1990156 & -0.1346921 & -0.1994623 & -0.1519222 &  0.1869785 & -0.1648234 &  0.2481611 & -0.2237861 &  0.1440512 &  0.1869169 & -0.2042747 &  0.2392350 &  0.2165415 & -0.2587673 & -0.2486054 &  0.1859281 &  0.2433030 &  0.1518105 & -0.1296029 & -0.1962616 & -0.1679251 &  0.1804999 & -0.2825748 &  0.2556762 &  0.1560468 & -0.2425081 &  0.1850301 & -0.2051621\\\\\n",
       "\\end{tabular}\n"
      ],
      "text/markdown": [
       "\n",
       "A matrix: 6 × 30 of type dbl\n",
       "\n",
       "| 1 | 2 | 3 | 4 | 5 | 6 | 7 | 8 | 9 | 10 | ... | 21 | 22 | 23 | 24 | 25 | 26 | 27 | 28 | 29 | 30 |\n",
       "|---|---|---|---|---|---|---|---|---|---|---|---|---|---|---|---|---|---|---|---|---|\n",
       "| -0.1464877 |  0.1706972 | -0.2482531 | -0.1766762 | -0.1435620 |  0.2095703 | -0.1551247 | -0.1577420 |  0.2295833 | -0.2017547 | ... | -0.2316386 |  0.1597574 |  0.2004513 | -0.1711852 | -0.1726612 | -0.1842517 | -0.1703832 |  0.1764832 | -0.1638436 |  0.1890542 |\n",
       "| -0.1693964 | -0.2393881 | -0.2107787 | -0.2047501 |  0.1318724 | -0.2117271 |  0.1475764 |  0.1925819 |  0.2088948 | -0.2230314 | ... |  0.3858626 | -0.1646672 |  0.2306498 | -0.1787025 | -0.1931199 | -0.2237809 |  0.2377592 |  0.3294455 |  0.2331393 | -0.1851846 |\n",
       "| -0.2210154 |  0.1855599 | -0.2096997 |  0.2218754 | -0.2072355 |  0.2305601 |  0.2399279 |  0.2134264 | -0.2398134 | -0.2048876 | ... |  0.2372254 | -0.2126249 | -0.1844181 |  0.1771461 |  0.2049809 |  0.1378593 | -0.1963704 | -0.1492016 |  0.1981473 | -0.2233850 |\n",
       "| -0.1751456 | -0.2237125 |  0.2175701 | -0.1457915 | -0.2178851 | -0.2758716 |  0.2026401 | -0.2813152 |  0.1870755 |  0.1781394 | ... | -0.1817764 |  0.2741443 |  0.2092358 | -0.1615397 | -0.1819020 |  0.2171130 | -0.1543882 |  0.1876708 |  0.1312551 | -0.2170385 |\n",
       "| -0.2034761 |  0.1274539 |  0.1623424 |  0.2147193 |  0.2414300 |  0.1936976 |  0.2106893 | -0.1884508 |  0.1919588 |  0.1620128 | ... | -0.2542940 |  0.2441941 |  0.1899590 | -0.1560990 |  0.2024308 |  0.2081195 | -0.2478326 | -0.1480540 | -0.1278227 |  0.2684894 |\n",
       "| -0.1848801 |  0.2476444 |  0.1990156 | -0.1346921 | -0.1994623 | -0.1519222 |  0.1869785 | -0.1648234 |  0.2481611 | -0.2237861 | ... | -0.1296029 | -0.1962616 | -0.1679251 |  0.1804999 | -0.2825748 |  0.2556762 |  0.1560468 | -0.2425081 |  0.1850301 | -0.2051621 |\n",
       "\n"
      ],
      "text/plain": [
       "     1          2          3          4          5          6         \n",
       "[1,] -0.1464877  0.1706972 -0.2482531 -0.1766762 -0.1435620  0.2095703\n",
       "[2,] -0.1693964 -0.2393881 -0.2107787 -0.2047501  0.1318724 -0.2117271\n",
       "[3,] -0.2210154  0.1855599 -0.2096997  0.2218754 -0.2072355  0.2305601\n",
       "[4,] -0.1751456 -0.2237125  0.2175701 -0.1457915 -0.2178851 -0.2758716\n",
       "[5,] -0.2034761  0.1274539  0.1623424  0.2147193  0.2414300  0.1936976\n",
       "[6,] -0.1848801  0.2476444  0.1990156 -0.1346921 -0.1994623 -0.1519222\n",
       "     7          8          9          10         ... 21         22        \n",
       "[1,] -0.1551247 -0.1577420  0.2295833 -0.2017547 ... -0.2316386  0.1597574\n",
       "[2,]  0.1475764  0.1925819  0.2088948 -0.2230314 ...  0.3858626 -0.1646672\n",
       "[3,]  0.2399279  0.2134264 -0.2398134 -0.2048876 ...  0.2372254 -0.2126249\n",
       "[4,]  0.2026401 -0.2813152  0.1870755  0.1781394 ... -0.1817764  0.2741443\n",
       "[5,]  0.2106893 -0.1884508  0.1919588  0.1620128 ... -0.2542940  0.2441941\n",
       "[6,]  0.1869785 -0.1648234  0.2481611 -0.2237861 ... -0.1296029 -0.1962616\n",
       "     23         24         25         26         27         28        \n",
       "[1,]  0.2004513 -0.1711852 -0.1726612 -0.1842517 -0.1703832  0.1764832\n",
       "[2,]  0.2306498 -0.1787025 -0.1931199 -0.2237809  0.2377592  0.3294455\n",
       "[3,] -0.1844181  0.1771461  0.2049809  0.1378593 -0.1963704 -0.1492016\n",
       "[4,]  0.2092358 -0.1615397 -0.1819020  0.2171130 -0.1543882  0.1876708\n",
       "[5,]  0.1899590 -0.1560990  0.2024308  0.2081195 -0.2478326 -0.1480540\n",
       "[6,] -0.1679251  0.1804999 -0.2825748  0.2556762  0.1560468 -0.2425081\n",
       "     29         30        \n",
       "[1,] -0.1638436  0.1890542\n",
       "[2,]  0.2331393 -0.1851846\n",
       "[3,]  0.1981473 -0.2233850\n",
       "[4,]  0.1312551 -0.2170385\n",
       "[5,] -0.1278227  0.2684894\n",
       "[6,]  0.1850301 -0.2051621"
      ]
     },
     "metadata": {},
     "output_type": "display_data"
    }
   ],
   "source": [
    "es.max.gsva <- gsva(X, gs, mx.diff=FALSE, verbose=FALSE, parallel.sz=1)\n",
    "head(es.max.gsva)"
   ]
  },
  {
   "cell_type": "markdown",
   "metadata": {},
   "source": [
    "Although the GSVA algorithm itself does not evaluate statistical significance for the enrichment of gene sets, significance with respect to one or more phenotypes can be easily evaluated using conventional statistical models. Likewise, false discovery rates can be estimated by permuting the sample labels (Methods). Examples of these techniques are provided in the following section."
   ]
  },
  {
   "cell_type": "markdown",
   "metadata": {},
   "source": [
    "## Application\n",
    "\n",
    "* Functional enrichment between two subtypes of leukemia 两种白血病亚型之间的功能富集\n",
    "* Identification of molecular signatures in distinct glioblastoma subtypes.鉴定不同胶质母细胞瘤亚型中的分子特征。\n",
    "   \n",
    "Via this vignette, we will use the C2 collection of curated gene sets that form part of the Molecular Signatures Database (MSigDB)(http://software.broadinstitute.org/gsea/msigdb/collections.jsp#C2). This particular collection of gene sets is provided as a `GeneSetCollection` object called `c2BroadSets` in the accompanying experimental data package `GSVAdata`, which stores these and other data employed in this vignette.   \n",
    "\n",
    "The data set we use in \"Function enrichment\" corresponds to the microarray data from (Armstrong et al.,2002) which consists of 37 different individuals with human acute leukemia, where 20 of them have conventional childhood acute lymphoblastic leukemia (ALL) and the other 17 are affected with the MLL (mixed-lineage leukemia gene) translocation. This leukemia data set is stored as an `ExpressionSet` object called leukemia in the `GSVAdata` package and details on how the data was pre-processed can be found in the corresponding help page. Enclosed with the `RMA` expression values we provide some metadata including the main phenotype corresponding to the leukemia sample subtype."
   ]
  },
  {
   "cell_type": "code",
   "execution_count": 9,
   "metadata": {},
   "outputs": [
    {
     "data": {
      "text/plain": [
       "GeneSetCollection\n",
       "  names: NAKAMURA_CANCER_MICROENVIRONMENT_UP, NAKAMURA_CANCER_MICROENVIRONMENT_DN, ..., ST_PHOSPHOINOSITIDE_3_KINASE_PATHWAY (3272 total)\n",
       "  unique identifiers: 5167, 100288400, ..., 57191 (29340 total)\n",
       "  types in collection:\n",
       "    geneIdType: EntrezIdentifier (1 total)\n",
       "    collectionType: BroadCollection (1 total)"
      ]
     },
     "metadata": {},
     "output_type": "display_data"
    },
    {
     "data": {
      "text/html": [
       "<ol class=list-inline>\n",
       "\t<li>'NAKAMURA_CANCER_MICROENVIRONMENT_UP'</li>\n",
       "\t<li>'NAKAMURA_CANCER_MICROENVIRONMENT_DN'</li>\n",
       "\t<li>'WEST_ADRENOCORTICAL_TUMOR_MARKERS_UP'</li>\n",
       "\t<li>'WEST_ADRENOCORTICAL_TUMOR_MARKERS_DN'</li>\n",
       "\t<li>'WINTER_HYPOXIA_UP'</li>\n",
       "\t<li>'WINTER_HYPOXIA_DN'</li>\n",
       "</ol>\n"
      ],
      "text/latex": [
       "\\begin{enumerate*}\n",
       "\\item 'NAKAMURA\\_CANCER\\_MICROENVIRONMENT\\_UP'\n",
       "\\item 'NAKAMURA\\_CANCER\\_MICROENVIRONMENT\\_DN'\n",
       "\\item 'WEST\\_ADRENOCORTICAL\\_TUMOR\\_MARKERS\\_UP'\n",
       "\\item 'WEST\\_ADRENOCORTICAL\\_TUMOR\\_MARKERS\\_DN'\n",
       "\\item 'WINTER\\_HYPOXIA\\_UP'\n",
       "\\item 'WINTER\\_HYPOXIA\\_DN'\n",
       "\\end{enumerate*}\n"
      ],
      "text/markdown": [
       "1. 'NAKAMURA_CANCER_MICROENVIRONMENT_UP'\n",
       "2. 'NAKAMURA_CANCER_MICROENVIRONMENT_DN'\n",
       "3. 'WEST_ADRENOCORTICAL_TUMOR_MARKERS_UP'\n",
       "4. 'WEST_ADRENOCORTICAL_TUMOR_MARKERS_DN'\n",
       "5. 'WINTER_HYPOXIA_UP'\n",
       "6. 'WINTER_HYPOXIA_DN'\n",
       "\n",
       "\n"
      ],
      "text/plain": [
       "[1] \"NAKAMURA_CANCER_MICROENVIRONMENT_UP\" \n",
       "[2] \"NAKAMURA_CANCER_MICROENVIRONMENT_DN\" \n",
       "[3] \"WEST_ADRENOCORTICAL_TUMOR_MARKERS_UP\"\n",
       "[4] \"WEST_ADRENOCORTICAL_TUMOR_MARKERS_DN\"\n",
       "[5] \"WINTER_HYPOXIA_UP\"                   \n",
       "[6] \"WINTER_HYPOXIA_DN\"                   "
      ]
     },
     "metadata": {},
     "output_type": "display_data"
    },
    {
     "data": {
      "text/plain": [
       "setName: NAKAMURA_CANCER_MICROENVIRONMENT_UP \n",
       "geneIds: 5167, 100288400, ..., 3046 (total: 26)\n",
       "geneIdType: EntrezId\n",
       "collectionType: Broad\n",
       "  bcCategory: c2 (Curated)\n",
       "  bcSubCategory: NA\n",
       "details: use 'details(object)'"
      ]
     },
     "metadata": {},
     "output_type": "display_data"
    }
   ],
   "source": [
    "library(GSEABase)\n",
    "library(GSVAdata) \n",
    "data(c2BroadSets)\n",
    "c2BroadSets     # `c2BroadSets` contains 3272 gene sets(pathways)\n",
    "head(names(c2BroadSets))\n",
    "c2BroadSets[[names(c2BroadSets)[1]]]"
   ]
  },
  {
   "cell_type": "code",
   "execution_count": 11,
   "metadata": {},
   "outputs": [
    {
     "name": "stderr",
     "output_type": "stream",
     "text": [
      "Warning message in file.remove(paste(cacheDir, list.files(cacheDir, pattern = cachePrefix), :\n",
      "\"cannot remove file 'D:/R-3.5.3/library/GSVA/extdata/', reason 'Permission denied'\""
     ]
    },
    {
     "data": {
      "text/html": [
       "FALSE"
      ],
      "text/latex": [
       "FALSE"
      ],
      "text/markdown": [
       "FALSE"
      ],
      "text/plain": [
       "[1] FALSE"
      ]
     },
     "metadata": {},
     "output_type": "display_data"
    },
    {
     "data": {
      "text/plain": [
       "ExpressionSet (storageMode: lockedEnvironment)\n",
       "assayData: 12626 features, 37 samples \n",
       "  element names: exprs \n",
       "protocolData\n",
       "  sampleNames: CL2001011101AA.CEL CL2001011102AA.CEL ...\n",
       "    CL2001011152AA.CEL (37 total)\n",
       "  varLabels: ScanDate\n",
       "  varMetadata: labelDescription\n",
       "phenoData\n",
       "  sampleNames: CL2001011101AA.CEL CL2001011102AA.CEL ...\n",
       "    CL2001011152AA.CEL (37 total)\n",
       "  varLabels: subtype\n",
       "  varMetadata: labelDescription channel\n",
       "featureData: none\n",
       "experimentData: use 'experimentData(object)'\n",
       "Annotation: hgu95a "
      ]
     },
     "metadata": {},
     "output_type": "display_data"
    },
    {
     "data": {
      "text/html": [
       "<table>\n",
       "<caption>A data.frame: 6 × 1</caption>\n",
       "<thead>\n",
       "\t<tr><th></th><th scope=col>subtype</th></tr>\n",
       "\t<tr><th></th><th scope=col>&lt;chr&gt;</th></tr>\n",
       "</thead>\n",
       "<tbody>\n",
       "\t<tr><th scope=row>CL2001011101AA.CEL</th><td>ALL</td></tr>\n",
       "\t<tr><th scope=row>CL2001011102AA.CEL</th><td>ALL</td></tr>\n",
       "\t<tr><th scope=row>CL2001011104AA.CEL</th><td>ALL</td></tr>\n",
       "\t<tr><th scope=row>CL2001011105AA.CEL</th><td>ALL</td></tr>\n",
       "\t<tr><th scope=row>CL2001011109AA.CEL</th><td>ALL</td></tr>\n",
       "\t<tr><th scope=row>CL2001011110AA.CEL</th><td>ALL</td></tr>\n",
       "</tbody>\n",
       "</table>\n"
      ],
      "text/latex": [
       "A data.frame: 6 × 1\n",
       "\\begin{tabular}{r|l}\n",
       "  & subtype\\\\\n",
       "  & <chr>\\\\\n",
       "\\hline\n",
       "\tCL2001011101AA.CEL & ALL\\\\\n",
       "\tCL2001011102AA.CEL & ALL\\\\\n",
       "\tCL2001011104AA.CEL & ALL\\\\\n",
       "\tCL2001011105AA.CEL & ALL\\\\\n",
       "\tCL2001011109AA.CEL & ALL\\\\\n",
       "\tCL2001011110AA.CEL & ALL\\\\\n",
       "\\end{tabular}\n"
      ],
      "text/markdown": [
       "\n",
       "A data.frame: 6 × 1\n",
       "\n",
       "| <!--/--> | subtype &lt;chr&gt; |\n",
       "|---|---|\n",
       "| CL2001011101AA.CEL | ALL |\n",
       "| CL2001011102AA.CEL | ALL |\n",
       "| CL2001011104AA.CEL | ALL |\n",
       "| CL2001011105AA.CEL | ALL |\n",
       "| CL2001011109AA.CEL | ALL |\n",
       "| CL2001011110AA.CEL | ALL |\n",
       "\n"
      ],
      "text/plain": [
       "                   subtype\n",
       "CL2001011101AA.CEL ALL    \n",
       "CL2001011102AA.CEL ALL    \n",
       "CL2001011104AA.CEL ALL    \n",
       "CL2001011105AA.CEL ALL    \n",
       "CL2001011109AA.CEL ALL    \n",
       "CL2001011110AA.CEL ALL    "
      ]
     },
     "metadata": {},
     "output_type": "display_data"
    },
    {
     "data": {
      "text/plain": [
       "\n",
       "ALL MLL \n",
       " 20  17 "
      ]
     },
     "metadata": {},
     "output_type": "display_data"
    }
   ],
   "source": [
    "# biocLite(c(\"genefilter\", \"limma\"))\n",
    "library(Biobase)\n",
    "library(genefilter)\n",
    "library(limma)\n",
    "library(RColorBrewer)\n",
    "\n",
    "# employ the `cache()` function from the Biobase package \n",
    "# in order to load some pre-computed results and speed up the building time of the vignette \n",
    "cacheDir <- system.file(\"extdata\", package=\"GSVA\")\n",
    "cachePrefix <- \"cache4vignette_\"\n",
    "file.remove(paste(cacheDir, list.files(cacheDir, pattern=cachePrefix), sep=\"/\"))\n",
    "\n",
    "# Functional enrichment\n",
    "# how to identify functionally enriched gene sets between two phenotypes\n",
    "# we will employ the linear modeling techniques implemented in the limma package to find the enriched gene sets.\n",
    "data(leukemia)\n",
    "leukemia_eset\n",
    "head(pData(leukemia_eset))\n",
    "table(leukemia_eset$subtype)"
   ]
  },
  {
   "cell_type": "code",
   "execution_count": 12,
   "metadata": {},
   "outputs": [],
   "source": [
    "# examine the variability of the expression profiles across samples by plotting the cumulative distribution\n",
    "# of IQR values as shown in Figure 2. About 50% of the probesets show very limited variability across samples \n",
    "# and, therefore, in the following non-specific filtering step we remove this fraction from further analysis."
   ]
  },
  {
   "cell_type": "code",
   "execution_count": 13,
   "metadata": {},
   "outputs": [
    {
     "data": {
      "text/html": [
       "<table>\n",
       "<caption>A matrix: 6 × 37 of type dbl</caption>\n",
       "<thead>\n",
       "\t<tr><th></th><th scope=col>CL2001011101AA.CEL</th><th scope=col>CL2001011102AA.CEL</th><th scope=col>CL2001011104AA.CEL</th><th scope=col>CL2001011105AA.CEL</th><th scope=col>CL2001011109AA.CEL</th><th scope=col>CL2001011110AA.CEL</th><th scope=col>CL2001011111AA.CEL</th><th scope=col>CL2001011112AA.CEL</th><th scope=col>CL2001011113AA.CEL</th><th scope=col>CL2001011114AA.CEL</th><th scope=col>...</th><th scope=col>CL2001011133AA.CEL</th><th scope=col>CL2001011138AA.CEL</th><th scope=col>CL2001011139AA.CEL</th><th scope=col>CL2001011140AA.CEL</th><th scope=col>CL2001011142AA.CEL</th><th scope=col>CL2001011143AA.CEL</th><th scope=col>CL2001011144AA.CEL</th><th scope=col>CL2001011146AA.CEL</th><th scope=col>CL2001011149AA.CEL</th><th scope=col>CL2001011152AA.CEL</th></tr>\n",
       "</thead>\n",
       "<tbody>\n",
       "\t<tr><th scope=row>1000_at</th><td>11.354426</td><td>10.932543</td><td>11.185906</td><td>11.251631</td><td>11.540745</td><td>11.469465</td><td>11.129466</td><td>11.236194</td><td>10.896176</td><td>10.787843</td><td>...</td><td>10.998543</td><td>11.022275</td><td>10.967026</td><td>10.841036</td><td>11.073689</td><td>11.215481</td><td>10.741941</td><td>11.485294</td><td>11.186323</td><td>11.030696</td></tr>\n",
       "\t<tr><th scope=row>1001_at</th><td> 9.185470</td><td> 8.823661</td><td> 8.687186</td><td> 8.958305</td><td> 9.762877</td><td> 8.640798</td><td> 9.054107</td><td> 8.538441</td><td> 8.547110</td><td> 9.280357</td><td>...</td><td> 8.608648</td><td> 8.314777</td><td> 9.085601</td><td> 8.783277</td><td> 8.733554</td><td> 8.942275</td><td> 8.636595</td><td> 8.957888</td><td> 8.997009</td><td> 8.770168</td></tr>\n",
       "\t<tr><th scope=row>1002_f_at</th><td> 7.806993</td><td> 8.127591</td><td> 7.842353</td><td> 8.319227</td><td> 8.334177</td><td> 8.224817</td><td> 8.059581</td><td> 7.858845</td><td> 7.878801</td><td> 8.084978</td><td>...</td><td> 8.165846</td><td> 8.035025</td><td> 8.176339</td><td> 8.319010</td><td> 8.227376</td><td> 8.133201</td><td> 8.360069</td><td> 8.333318</td><td> 7.827597</td><td> 7.898678</td></tr>\n",
       "\t<tr><th scope=row>1003_s_at</th><td>10.164370</td><td>10.048514</td><td>10.006014</td><td>10.474046</td><td>10.115543</td><td>10.325243</td><td>10.056144</td><td> 9.984708</td><td>10.147972</td><td>10.108117</td><td>...</td><td>10.120300</td><td>10.054734</td><td>10.265817</td><td> 9.973678</td><td>10.406810</td><td>10.496098</td><td>10.475986</td><td>10.496269</td><td>10.223245</td><td>10.083038</td></tr>\n",
       "\t<tr><th scope=row>1004_at</th><td> 9.642389</td><td> 9.834265</td><td> 9.750938</td><td>10.430205</td><td>10.066628</td><td>10.214062</td><td> 9.921978</td><td> 9.785324</td><td> 9.861064</td><td> 9.692341</td><td>...</td><td> 9.905051</td><td> 9.689294</td><td> 9.847789</td><td> 9.756353</td><td> 9.926914</td><td>10.064015</td><td>10.290954</td><td> 9.942519</td><td>10.118811</td><td> 9.745055</td></tr>\n",
       "\t<tr><th scope=row>1005_at</th><td>13.717107</td><td>14.469777</td><td>13.713944</td><td>13.415991</td><td>13.369767</td><td>12.751648</td><td>11.246510</td><td>12.122904</td><td>11.666802</td><td>10.069415</td><td>...</td><td>13.252895</td><td>13.890406</td><td>12.205873</td><td>14.188979</td><td>12.332333</td><td>12.774179</td><td>10.428951</td><td>13.211033</td><td>13.038051</td><td>13.501561</td></tr>\n",
       "</tbody>\n",
       "</table>\n"
      ],
      "text/latex": [
       "A matrix: 6 × 37 of type dbl\n",
       "\\begin{tabular}{r|lllllllllllllllllllllllllllllllllllll}\n",
       "  & CL2001011101AA.CEL & CL2001011102AA.CEL & CL2001011104AA.CEL & CL2001011105AA.CEL & CL2001011109AA.CEL & CL2001011110AA.CEL & CL2001011111AA.CEL & CL2001011112AA.CEL & CL2001011113AA.CEL & CL2001011114AA.CEL & CL2001011116AA.CEL & CL2001011118AA.CEL & CL2001011120AA.CEL & CL2001011121AA.CEL & CL2001011122AA.CEL & CL2001011134AA.CEL & CL2001011150AA.CEL & CL2001011151AA.CEL & CL2001011153AA.CEL & CL2001011154AA.CEL & CL2001011126AA.CEL & CL2001011127AA.CEL & CL2001011128AA.CEL & CL2001011129AA.CEL & CL2001011130AA.CEL & CL2001011131AA.CEL & CL2001011132AA.CEL & CL2001011133AA.CEL & CL2001011138AA.CEL & CL2001011139AA.CEL & CL2001011140AA.CEL & CL2001011142AA.CEL & CL2001011143AA.CEL & CL2001011144AA.CEL & CL2001011146AA.CEL & CL2001011149AA.CEL & CL2001011152AA.CEL\\\\\n",
       "\\hline\n",
       "\t1000\\_at & 11.354426 & 10.932543 & 11.185906 & 11.251631 & 11.540745 & 11.469465 & 11.129466 & 11.236194 & 10.896176 & 10.787843 & 10.912887 & 10.932149 & 11.444359 & 11.260855 & 10.887519 & 10.845019 & 10.966907 & 10.751100 & 10.806835 & 10.947879 & 11.076659 & 11.314671 & 11.020777 & 11.299504 & 10.830698 & 11.088866 & 11.204156 & 10.998543 & 11.022275 & 10.967026 & 10.841036 & 11.073689 & 11.215481 & 10.741941 & 11.485294 & 11.186323 & 11.030696\\\\\n",
       "\t1001\\_at &  9.185470 &  8.823661 &  8.687186 &  8.958305 &  9.762877 &  8.640798 &  9.054107 &  8.538441 &  8.547110 &  9.280357 &  9.631926 &  8.218883 &  9.214355 &  8.827545 &  9.574415 &  8.509385 &  8.408177 &  8.434002 &  9.066957 &  9.299509 &  8.480131 &  8.691099 &  8.720261 &  9.267973 &  9.025964 &  8.632010 &  8.679368 &  8.608648 &  8.314777 &  9.085601 &  8.783277 &  8.733554 &  8.942275 &  8.636595 &  8.957888 &  8.997009 &  8.770168\\\\\n",
       "\t1002\\_f\\_at &  7.806993 &  8.127591 &  7.842353 &  8.319227 &  8.334177 &  8.224817 &  8.059581 &  7.858845 &  7.878801 &  8.084978 &  8.085866 &  8.074712 &  8.134446 &  7.892894 &  7.893782 &  7.912718 &  7.736743 &  8.011996 &  8.016831 &  8.102827 &  7.965949 &  8.164385 &  7.955928 &  8.158561 &  8.123256 &  8.155710 &  8.065414 &  8.165846 &  8.035025 &  8.176339 &  8.319010 &  8.227376 &  8.133201 &  8.360069 &  8.333318 &  7.827597 &  7.898678\\\\\n",
       "\t1003\\_s\\_at & 10.164370 & 10.048514 & 10.006014 & 10.474046 & 10.115543 & 10.325243 & 10.056144 &  9.984708 & 10.147972 & 10.108117 & 10.004601 & 10.209207 & 10.462587 & 10.075950 & 10.121881 & 10.113731 &  9.942040 & 10.192148 & 10.176631 & 10.275778 &  9.955381 & 10.024173 & 10.208449 & 10.360104 & 10.191010 & 10.323537 & 10.309879 & 10.120300 & 10.054734 & 10.265817 &  9.973678 & 10.406810 & 10.496098 & 10.475986 & 10.496269 & 10.223245 & 10.083038\\\\\n",
       "\t1004\\_at &  9.642389 &  9.834265 &  9.750938 & 10.430205 & 10.066628 & 10.214062 &  9.921978 &  9.785324 &  9.861064 &  9.692341 & 10.103078 &  9.956784 & 10.130800 & 10.041511 &  9.789041 & 10.023431 &  9.688741 &  9.979180 &  9.806195 & 10.102949 &  9.984877 & 10.022254 &  9.879398 & 10.002603 &  9.931653 &  9.998673 & 10.000036 &  9.905051 &  9.689294 &  9.847789 &  9.756353 &  9.926914 & 10.064015 & 10.290954 &  9.942519 & 10.118811 &  9.745055\\\\\n",
       "\t1005\\_at & 13.717107 & 14.469777 & 13.713944 & 13.415991 & 13.369767 & 12.751648 & 11.246510 & 12.122904 & 11.666802 & 10.069415 & 12.142822 & 12.630341 & 13.014253 & 11.715047 & 10.735720 & 15.194827 & 12.855542 & 13.305198 & 10.511987 & 12.896008 & 12.880676 & 12.842595 & 13.003402 & 14.422092 & 10.942456 & 12.537810 & 13.157003 & 13.252895 & 13.890406 & 12.205873 & 14.188979 & 12.332333 & 12.774179 & 10.428951 & 13.211033 & 13.038051 & 13.501561\\\\\n",
       "\\end{tabular}\n"
      ],
      "text/markdown": [
       "\n",
       "A matrix: 6 × 37 of type dbl\n",
       "\n",
       "| <!--/--> | CL2001011101AA.CEL | CL2001011102AA.CEL | CL2001011104AA.CEL | CL2001011105AA.CEL | CL2001011109AA.CEL | CL2001011110AA.CEL | CL2001011111AA.CEL | CL2001011112AA.CEL | CL2001011113AA.CEL | CL2001011114AA.CEL | ... | CL2001011133AA.CEL | CL2001011138AA.CEL | CL2001011139AA.CEL | CL2001011140AA.CEL | CL2001011142AA.CEL | CL2001011143AA.CEL | CL2001011144AA.CEL | CL2001011146AA.CEL | CL2001011149AA.CEL | CL2001011152AA.CEL |\n",
       "|---|---|---|---|---|---|---|---|---|---|---|---|---|---|---|---|---|---|---|---|---|---|\n",
       "| 1000_at | 11.354426 | 10.932543 | 11.185906 | 11.251631 | 11.540745 | 11.469465 | 11.129466 | 11.236194 | 10.896176 | 10.787843 | ... | 10.998543 | 11.022275 | 10.967026 | 10.841036 | 11.073689 | 11.215481 | 10.741941 | 11.485294 | 11.186323 | 11.030696 |\n",
       "| 1001_at |  9.185470 |  8.823661 |  8.687186 |  8.958305 |  9.762877 |  8.640798 |  9.054107 |  8.538441 |  8.547110 |  9.280357 | ... |  8.608648 |  8.314777 |  9.085601 |  8.783277 |  8.733554 |  8.942275 |  8.636595 |  8.957888 |  8.997009 |  8.770168 |\n",
       "| 1002_f_at |  7.806993 |  8.127591 |  7.842353 |  8.319227 |  8.334177 |  8.224817 |  8.059581 |  7.858845 |  7.878801 |  8.084978 | ... |  8.165846 |  8.035025 |  8.176339 |  8.319010 |  8.227376 |  8.133201 |  8.360069 |  8.333318 |  7.827597 |  7.898678 |\n",
       "| 1003_s_at | 10.164370 | 10.048514 | 10.006014 | 10.474046 | 10.115543 | 10.325243 | 10.056144 |  9.984708 | 10.147972 | 10.108117 | ... | 10.120300 | 10.054734 | 10.265817 |  9.973678 | 10.406810 | 10.496098 | 10.475986 | 10.496269 | 10.223245 | 10.083038 |\n",
       "| 1004_at |  9.642389 |  9.834265 |  9.750938 | 10.430205 | 10.066628 | 10.214062 |  9.921978 |  9.785324 |  9.861064 |  9.692341 | ... |  9.905051 |  9.689294 |  9.847789 |  9.756353 |  9.926914 | 10.064015 | 10.290954 |  9.942519 | 10.118811 |  9.745055 |\n",
       "| 1005_at | 13.717107 | 14.469777 | 13.713944 | 13.415991 | 13.369767 | 12.751648 | 11.246510 | 12.122904 | 11.666802 | 10.069415 | ... | 13.252895 | 13.890406 | 12.205873 | 14.188979 | 12.332333 | 12.774179 | 10.428951 | 13.211033 | 13.038051 | 13.501561 |\n",
       "\n"
      ],
      "text/plain": [
       "          CL2001011101AA.CEL CL2001011102AA.CEL CL2001011104AA.CEL\n",
       "1000_at   11.354426          10.932543          11.185906         \n",
       "1001_at    9.185470           8.823661           8.687186         \n",
       "1002_f_at  7.806993           8.127591           7.842353         \n",
       "1003_s_at 10.164370          10.048514          10.006014         \n",
       "1004_at    9.642389           9.834265           9.750938         \n",
       "1005_at   13.717107          14.469777          13.713944         \n",
       "          CL2001011105AA.CEL CL2001011109AA.CEL CL2001011110AA.CEL\n",
       "1000_at   11.251631          11.540745          11.469465         \n",
       "1001_at    8.958305           9.762877           8.640798         \n",
       "1002_f_at  8.319227           8.334177           8.224817         \n",
       "1003_s_at 10.474046          10.115543          10.325243         \n",
       "1004_at   10.430205          10.066628          10.214062         \n",
       "1005_at   13.415991          13.369767          12.751648         \n",
       "          CL2001011111AA.CEL CL2001011112AA.CEL CL2001011113AA.CEL\n",
       "1000_at   11.129466          11.236194          10.896176         \n",
       "1001_at    9.054107           8.538441           8.547110         \n",
       "1002_f_at  8.059581           7.858845           7.878801         \n",
       "1003_s_at 10.056144           9.984708          10.147972         \n",
       "1004_at    9.921978           9.785324           9.861064         \n",
       "1005_at   11.246510          12.122904          11.666802         \n",
       "          CL2001011114AA.CEL ... CL2001011133AA.CEL CL2001011138AA.CEL\n",
       "1000_at   10.787843          ... 10.998543          11.022275         \n",
       "1001_at    9.280357          ...  8.608648           8.314777         \n",
       "1002_f_at  8.084978          ...  8.165846           8.035025         \n",
       "1003_s_at 10.108117          ... 10.120300          10.054734         \n",
       "1004_at    9.692341          ...  9.905051           9.689294         \n",
       "1005_at   10.069415          ... 13.252895          13.890406         \n",
       "          CL2001011139AA.CEL CL2001011140AA.CEL CL2001011142AA.CEL\n",
       "1000_at   10.967026          10.841036          11.073689         \n",
       "1001_at    9.085601           8.783277           8.733554         \n",
       "1002_f_at  8.176339           8.319010           8.227376         \n",
       "1003_s_at 10.265817           9.973678          10.406810         \n",
       "1004_at    9.847789           9.756353           9.926914         \n",
       "1005_at   12.205873          14.188979          12.332333         \n",
       "          CL2001011143AA.CEL CL2001011144AA.CEL CL2001011146AA.CEL\n",
       "1000_at   11.215481          10.741941          11.485294         \n",
       "1001_at    8.942275           8.636595           8.957888         \n",
       "1002_f_at  8.133201           8.360069           8.333318         \n",
       "1003_s_at 10.496098          10.475986          10.496269         \n",
       "1004_at   10.064015          10.290954           9.942519         \n",
       "1005_at   12.774179          10.428951          13.211033         \n",
       "          CL2001011149AA.CEL CL2001011152AA.CEL\n",
       "1000_at   11.186323          11.030696         \n",
       "1001_at    8.997009           8.770168         \n",
       "1002_f_at  7.827597           7.898678         \n",
       "1003_s_at 10.223245          10.083038         \n",
       "1004_at   10.118811           9.745055         \n",
       "1005_at   13.038051          13.501561         "
      ]
     },
     "metadata": {},
     "output_type": "display_data"
    }
   ],
   "source": [
    "data <- exprs(leukemia_eset)\n",
    "head(data)"
   ]
  },
  {
   "cell_type": "markdown",
   "metadata": {},
   "source": [
    "We carry out a non-specific filtering step by discarding the 50% of the probesets with smaller variability, probesets without Entrez ID annotation, probesets whose associated Entrez ID is duplicated in the annotation, and Affymetrix quality control probes:"
   ]
  },
  {
   "cell_type": "code",
   "execution_count": 14,
   "metadata": {},
   "outputs": [
    {
     "data": {
      "text/plain": [
       "$eset\n",
       "ExpressionSet (storageMode: lockedEnvironment)\n",
       "assayData: 4292 features, 37 samples \n",
       "  element names: exprs \n",
       "protocolData\n",
       "  sampleNames: CL2001011101AA.CEL CL2001011102AA.CEL ...\n",
       "    CL2001011152AA.CEL (37 total)\n",
       "  varLabels: ScanDate\n",
       "  varMetadata: labelDescription\n",
       "phenoData\n",
       "  sampleNames: CL2001011101AA.CEL CL2001011102AA.CEL ...\n",
       "    CL2001011152AA.CEL (37 total)\n",
       "  varLabels: subtype\n",
       "  varMetadata: labelDescription channel\n",
       "featureData: none\n",
       "experimentData: use 'experimentData(object)'\n",
       "Annotation: hgu95a \n",
       "\n",
       "$filter.log\n",
       "$filter.log$numDupsRemoved\n",
       "[1] 2857\n",
       "\n",
       "$filter.log$numLowVar\n",
       "[1] 4292\n",
       "\n",
       "$filter.log$numRemoved.ENTREZID\n",
       "[1] 1166\n",
       "\n",
       "$filter.log$feature.exclude\n",
       "[1] 19\n",
       "\n"
      ]
     },
     "metadata": {},
     "output_type": "display_data"
    },
    {
     "data": {
      "text/plain": [
       "ExpressionSet (storageMode: lockedEnvironment)\n",
       "assayData: 4292 features, 37 samples \n",
       "  element names: exprs \n",
       "protocolData\n",
       "  sampleNames: CL2001011101AA.CEL CL2001011102AA.CEL ...\n",
       "    CL2001011152AA.CEL (37 total)\n",
       "  varLabels: ScanDate\n",
       "  varMetadata: labelDescription\n",
       "phenoData\n",
       "  sampleNames: CL2001011101AA.CEL CL2001011102AA.CEL ...\n",
       "    CL2001011152AA.CEL (37 total)\n",
       "  varLabels: subtype\n",
       "  varMetadata: labelDescription channel\n",
       "featureData: none\n",
       "experimentData: use 'experimentData(object)'\n",
       "Annotation: hgu95a "
      ]
     },
     "metadata": {},
     "output_type": "display_data"
    },
    {
     "data": {
      "text/html": [
       "<table>\n",
       "<caption>A matrix: 4 × 4 of type dbl</caption>\n",
       "<thead>\n",
       "\t<tr><th></th><th scope=col>CL2001011101AA.CEL</th><th scope=col>CL2001011102AA.CEL</th><th scope=col>CL2001011104AA.CEL</th><th scope=col>CL2001011105AA.CEL</th></tr>\n",
       "</thead>\n",
       "<tbody>\n",
       "\t<tr><th scope=row>907_at</th><td>11.85752</td><td>11.161085</td><td>11.512466</td><td>10.185201</td></tr>\n",
       "\t<tr><th scope=row>35430_at</th><td>10.32803</td><td> 9.494069</td><td> 9.012711</td><td>10.282458</td></tr>\n",
       "\t<tr><th scope=row>36841_at</th><td> 9.59156</td><td> 9.820928</td><td> 9.347952</td><td> 9.616633</td></tr>\n",
       "\t<tr><th scope=row>38924_s_at</th><td>12.41735</td><td>11.706729</td><td>12.392675</td><td>12.842632</td></tr>\n",
       "</tbody>\n",
       "</table>\n"
      ],
      "text/latex": [
       "A matrix: 4 × 4 of type dbl\n",
       "\\begin{tabular}{r|llll}\n",
       "  & CL2001011101AA.CEL & CL2001011102AA.CEL & CL2001011104AA.CEL & CL2001011105AA.CEL\\\\\n",
       "\\hline\n",
       "\t907\\_at & 11.85752 & 11.161085 & 11.512466 & 10.185201\\\\\n",
       "\t35430\\_at & 10.32803 &  9.494069 &  9.012711 & 10.282458\\\\\n",
       "\t36841\\_at &  9.59156 &  9.820928 &  9.347952 &  9.616633\\\\\n",
       "\t38924\\_s\\_at & 12.41735 & 11.706729 & 12.392675 & 12.842632\\\\\n",
       "\\end{tabular}\n"
      ],
      "text/markdown": [
       "\n",
       "A matrix: 4 × 4 of type dbl\n",
       "\n",
       "| <!--/--> | CL2001011101AA.CEL | CL2001011102AA.CEL | CL2001011104AA.CEL | CL2001011105AA.CEL |\n",
       "|---|---|---|---|---|\n",
       "| 907_at | 11.85752 | 11.161085 | 11.512466 | 10.185201 |\n",
       "| 35430_at | 10.32803 |  9.494069 |  9.012711 | 10.282458 |\n",
       "| 36841_at |  9.59156 |  9.820928 |  9.347952 |  9.616633 |\n",
       "| 38924_s_at | 12.41735 | 11.706729 | 12.392675 | 12.842632 |\n",
       "\n"
      ],
      "text/plain": [
       "           CL2001011101AA.CEL CL2001011102AA.CEL CL2001011104AA.CEL\n",
       "907_at     11.85752           11.161085          11.512466         \n",
       "35430_at   10.32803            9.494069           9.012711         \n",
       "36841_at    9.59156            9.820928           9.347952         \n",
       "38924_s_at 12.41735           11.706729          12.392675         \n",
       "           CL2001011105AA.CEL\n",
       "907_at     10.185201         \n",
       "35430_at   10.282458         \n",
       "36841_at    9.616633         \n",
       "38924_s_at 12.842632         "
      ]
     },
     "metadata": {},
     "output_type": "display_data"
    }
   ],
   "source": [
    "filtered_eset <- nsFilter(leukemia_eset, require.entrez=TRUE, \n",
    "                          remove.dupEntrez=TRUE,\n",
    "                          var.func=IQR, var.filter=TRUE, \n",
    "                          var.cutoff=0.5, filterByQuantile=TRUE,\n",
    "                          feature.exclude=\"^AFFX\")\n",
    "filtered_eset\n",
    "leukemia_filtered_eset <- filtered_eset$eset\n",
    "leukemia_filtered_eset\n",
    "exprs(leukemia_filtered_eset)[1:4,1:4]"
   ]
  },
  {
   "cell_type": "markdown",
   "metadata": {},
   "source": [
    "The calculation of GSVA enrichment scores is performed in one single call to the `gsva()` function. However, one should take into account that this function performs further non-specific filtering steps prior to the actual calculations. On the one hand, it matches gene identifiers between gene sets and gene expression values. On the other hand, it discards gene sets that do not meet minimum and maximum gene set size requirements specified with the arguments min.sz and max.sz, respectively, which, in the call below, are set to 10 and 500 genes. Because we want to use limma on the resulting GSVA enrichment scores, we leave deliberately unchanged the default argument mx.diff=TRUE to obtain approximately normally distributed ES.  "
   ]
  },
  {
   "cell_type": "code",
   "execution_count": 15,
   "metadata": {},
   "outputs": [
    {
     "data": {
      "text/plain": [
       "GeneSetCollection\n",
       "  names: NAKAMURA_CANCER_MICROENVIRONMENT_UP, NAKAMURA_CANCER_MICROENVIRONMENT_DN, ..., ST_PHOSPHOINOSITIDE_3_KINASE_PATHWAY (3272 total)\n",
       "  unique identifiers: 5167, 100288400, ..., 57191 (29340 total)\n",
       "  types in collection:\n",
       "    geneIdType: EntrezIdentifier (1 total)\n",
       "    collectionType: BroadCollection (1 total)"
      ]
     },
     "metadata": {},
     "output_type": "display_data"
    }
   ],
   "source": [
    "c2BroadSets"
   ]
  },
  {
   "cell_type": "code",
   "execution_count": 16,
   "metadata": {},
   "outputs": [
    {
     "name": "stdout",
     "output_type": "stream",
     "text": [
      "Mapping identifiers between gene sets and feature names\n",
      "Estimating GSVA scores for 2019 gene sets.\n",
      "Computing observed enrichment scores\n",
      "Estimating ECDFs with Gaussian kernels\n",
      "Using parallel with 8 cores\n",
      "  |======================================================================| 100%\n"
     ]
    }
   ],
   "source": [
    "cache(leukemia_es <- gsva(leukemia_filtered_eset, c2BroadSets, min.sz=10, max.sz=500, verbose=TRUE),\n",
    "                          dir=cacheDir, prefix=cachePrefix)"
   ]
  },
  {
   "cell_type": "code",
   "execution_count": 17,
   "metadata": {
    "scrolled": true
   },
   "outputs": [
    {
     "data": {
      "text/plain": [
       "ExpressionSet (storageMode: lockedEnvironment)\n",
       "assayData: 2019 features, 37 samples \n",
       "  element names: exprs \n",
       "protocolData: none\n",
       "phenoData\n",
       "  sampleNames: CL2001011101AA.CEL CL2001011102AA.CEL ...\n",
       "    CL2001011152AA.CEL (37 total)\n",
       "  varLabels: subtype\n",
       "  varMetadata: labelDescription channel\n",
       "featureData: none\n",
       "experimentData: use 'experimentData(object)'\n",
       "Annotation:  "
      ]
     },
     "metadata": {},
     "output_type": "display_data"
    }
   ],
   "source": [
    "leukemia_es"
   ]
  },
  {
   "cell_type": "code",
   "execution_count": 18,
   "metadata": {},
   "outputs": [
    {
     "data": {
      "text/html": [
       "<ol class=list-inline>\n",
       "\t<li>'ALL'</li>\n",
       "\t<li>'ALL'</li>\n",
       "\t<li>'ALL'</li>\n",
       "\t<li>'ALL'</li>\n",
       "\t<li>'ALL'</li>\n",
       "\t<li>'ALL'</li>\n",
       "\t<li>'ALL'</li>\n",
       "\t<li>'ALL'</li>\n",
       "\t<li>'ALL'</li>\n",
       "\t<li>'ALL'</li>\n",
       "\t<li>'ALL'</li>\n",
       "\t<li>'ALL'</li>\n",
       "\t<li>'ALL'</li>\n",
       "\t<li>'ALL'</li>\n",
       "\t<li>'ALL'</li>\n",
       "\t<li>'ALL'</li>\n",
       "\t<li>'ALL'</li>\n",
       "\t<li>'ALL'</li>\n",
       "\t<li>'ALL'</li>\n",
       "\t<li>'ALL'</li>\n",
       "\t<li>'MLL'</li>\n",
       "\t<li>'MLL'</li>\n",
       "\t<li>'MLL'</li>\n",
       "\t<li>'MLL'</li>\n",
       "\t<li>'MLL'</li>\n",
       "\t<li>'MLL'</li>\n",
       "\t<li>'MLL'</li>\n",
       "\t<li>'MLL'</li>\n",
       "\t<li>'MLL'</li>\n",
       "\t<li>'MLL'</li>\n",
       "\t<li>'MLL'</li>\n",
       "\t<li>'MLL'</li>\n",
       "\t<li>'MLL'</li>\n",
       "\t<li>'MLL'</li>\n",
       "\t<li>'MLL'</li>\n",
       "\t<li>'MLL'</li>\n",
       "\t<li>'MLL'</li>\n",
       "</ol>\n"
      ],
      "text/latex": [
       "\\begin{enumerate*}\n",
       "\\item 'ALL'\n",
       "\\item 'ALL'\n",
       "\\item 'ALL'\n",
       "\\item 'ALL'\n",
       "\\item 'ALL'\n",
       "\\item 'ALL'\n",
       "\\item 'ALL'\n",
       "\\item 'ALL'\n",
       "\\item 'ALL'\n",
       "\\item 'ALL'\n",
       "\\item 'ALL'\n",
       "\\item 'ALL'\n",
       "\\item 'ALL'\n",
       "\\item 'ALL'\n",
       "\\item 'ALL'\n",
       "\\item 'ALL'\n",
       "\\item 'ALL'\n",
       "\\item 'ALL'\n",
       "\\item 'ALL'\n",
       "\\item 'ALL'\n",
       "\\item 'MLL'\n",
       "\\item 'MLL'\n",
       "\\item 'MLL'\n",
       "\\item 'MLL'\n",
       "\\item 'MLL'\n",
       "\\item 'MLL'\n",
       "\\item 'MLL'\n",
       "\\item 'MLL'\n",
       "\\item 'MLL'\n",
       "\\item 'MLL'\n",
       "\\item 'MLL'\n",
       "\\item 'MLL'\n",
       "\\item 'MLL'\n",
       "\\item 'MLL'\n",
       "\\item 'MLL'\n",
       "\\item 'MLL'\n",
       "\\item 'MLL'\n",
       "\\end{enumerate*}\n"
      ],
      "text/markdown": [
       "1. 'ALL'\n",
       "2. 'ALL'\n",
       "3. 'ALL'\n",
       "4. 'ALL'\n",
       "5. 'ALL'\n",
       "6. 'ALL'\n",
       "7. 'ALL'\n",
       "8. 'ALL'\n",
       "9. 'ALL'\n",
       "10. 'ALL'\n",
       "11. 'ALL'\n",
       "12. 'ALL'\n",
       "13. 'ALL'\n",
       "14. 'ALL'\n",
       "15. 'ALL'\n",
       "16. 'ALL'\n",
       "17. 'ALL'\n",
       "18. 'ALL'\n",
       "19. 'ALL'\n",
       "20. 'ALL'\n",
       "21. 'MLL'\n",
       "22. 'MLL'\n",
       "23. 'MLL'\n",
       "24. 'MLL'\n",
       "25. 'MLL'\n",
       "26. 'MLL'\n",
       "27. 'MLL'\n",
       "28. 'MLL'\n",
       "29. 'MLL'\n",
       "30. 'MLL'\n",
       "31. 'MLL'\n",
       "32. 'MLL'\n",
       "33. 'MLL'\n",
       "34. 'MLL'\n",
       "35. 'MLL'\n",
       "36. 'MLL'\n",
       "37. 'MLL'\n",
       "\n",
       "\n"
      ],
      "text/plain": [
       " [1] \"ALL\" \"ALL\" \"ALL\" \"ALL\" \"ALL\" \"ALL\" \"ALL\" \"ALL\" \"ALL\" \"ALL\" \"ALL\" \"ALL\"\n",
       "[13] \"ALL\" \"ALL\" \"ALL\" \"ALL\" \"ALL\" \"ALL\" \"ALL\" \"ALL\" \"MLL\" \"MLL\" \"MLL\" \"MLL\"\n",
       "[25] \"MLL\" \"MLL\" \"MLL\" \"MLL\" \"MLL\" \"MLL\" \"MLL\" \"MLL\" \"MLL\" \"MLL\" \"MLL\" \"MLL\"\n",
       "[37] \"MLL\""
      ]
     },
     "metadata": {},
     "output_type": "display_data"
    },
    {
     "data": {
      "text/plain": [
       "Experiment data\n",
       "  Experimenter name:  \n",
       "  Laboratory:  \n",
       "  Contact information:  \n",
       "  Title:  \n",
       "  URL:  \n",
       "  PMIDs:  \n",
       "  No abstract available.\n",
       "  Information is available on: preprocessing \n",
       "  notes:\n",
       "   :     \n",
       "      "
      ]
     },
     "metadata": {},
     "output_type": "display_data"
    }
   ],
   "source": [
    "leukemia_es$subtype\n",
    "experimentData(leukemia_es)"
   ]
  },
  {
   "cell_type": "markdown",
   "metadata": {},
   "source": [
    "We test whether there is a difference between the GSVA enrichment scores from each pair of phenotypes\n",
    "using a simple linear model and moderated t-statistics computed by the limma package using an empirical\n",
    "Bayes shrinkage method (see Smyth, 2004). We are going to examine both, changes at gene level and\n",
    "changes at pathway level and since, as we shall see below, there are plenty of them, we are going to\n",
    "employ the following stringent cut-offs to attain a high level of statistical and biological significance:"
   ]
  },
  {
   "cell_type": "code",
   "execution_count": 19,
   "metadata": {},
   "outputs": [
    {
     "data": {
      "text/plain": [
       "        ALL MLLvsALL\n",
       "Down      3        8\n",
       "NotSig 2015     1981\n",
       "Up        1       30"
      ]
     },
     "metadata": {},
     "output_type": "display_data"
    }
   ],
   "source": [
    "adjPvalueCutoff <- 0.001\n",
    "logFCcutoff <- log2(2)\n",
    "\n",
    "# where we will use the latter only for the gene-level differential expression analysis\n",
    "design <- model.matrix(~ factor(leukemia_es$subtype))\n",
    "colnames(design) <- c(\"ALL\", \"MLLvsALL\")\n",
    "fit <- lmFit(leukemia_es, design)\n",
    "fit <- eBayes(fit)\n",
    "allGeneSets <- topTable(fit, coef=\"MLLvsALL\", number=Inf)\n",
    "DEgeneSets <- topTable(fit, coef=\"MLLvsALL\", number=Inf,\n",
    "                       p.value=adjPvalueCutoff, adjust=\"BH\")\n",
    "res <- decideTests(fit, p.value=adjPvalueCutoff)\n",
    "summary(res)\n",
    "# Thus, there are 38 MSigDB C2 curated pathways that are differentially activated between MLL and ALL\n",
    "# at 0.1% FDR. When we carry out the corresponding differential expression analysis at gene level"
   ]
  },
  {
   "cell_type": "code",
   "execution_count": 20,
   "metadata": {},
   "outputs": [
    {
     "data": {
      "text/html": [
       "<table>\n",
       "<caption>A matrix: 6 × 2 of type dbl</caption>\n",
       "<thead>\n",
       "\t<tr><th></th><th scope=col>ALL</th><th scope=col>MLLvsALL</th></tr>\n",
       "</thead>\n",
       "<tbody>\n",
       "\t<tr><th scope=row>NAKAMURA_CANCER_MICROENVIRONMENT_DN</th><td>0</td><td>0</td></tr>\n",
       "\t<tr><th scope=row>WINTER_HYPOXIA_UP</th><td>0</td><td>0</td></tr>\n",
       "\t<tr><th scope=row>WINTER_HYPOXIA_DN</th><td>0</td><td>0</td></tr>\n",
       "\t<tr><th scope=row>PARENT_MTOR_SIGNALING_UP</th><td>0</td><td>0</td></tr>\n",
       "\t<tr><th scope=row>PARENT_MTOR_SIGNALING_DN</th><td>0</td><td>0</td></tr>\n",
       "\t<tr><th scope=row>PYEON_HPV_POSITIVE_TUMORS_UP</th><td>0</td><td>0</td></tr>\n",
       "</tbody>\n",
       "</table>\n"
      ],
      "text/latex": [
       "A matrix: 6 × 2 of type dbl\n",
       "\\begin{tabular}{r|ll}\n",
       "  & ALL & MLLvsALL\\\\\n",
       "\\hline\n",
       "\tNAKAMURA\\_CANCER\\_MICROENVIRONMENT\\_DN & 0 & 0\\\\\n",
       "\tWINTER\\_HYPOXIA\\_UP & 0 & 0\\\\\n",
       "\tWINTER\\_HYPOXIA\\_DN & 0 & 0\\\\\n",
       "\tPARENT\\_MTOR\\_SIGNALING\\_UP & 0 & 0\\\\\n",
       "\tPARENT\\_MTOR\\_SIGNALING\\_DN & 0 & 0\\\\\n",
       "\tPYEON\\_HPV\\_POSITIVE\\_TUMORS\\_UP & 0 & 0\\\\\n",
       "\\end{tabular}\n"
      ],
      "text/markdown": [
       "\n",
       "A matrix: 6 × 2 of type dbl\n",
       "\n",
       "| <!--/--> | ALL | MLLvsALL |\n",
       "|---|---|---|\n",
       "| NAKAMURA_CANCER_MICROENVIRONMENT_DN | 0 | 0 |\n",
       "| WINTER_HYPOXIA_UP | 0 | 0 |\n",
       "| WINTER_HYPOXIA_DN | 0 | 0 |\n",
       "| PARENT_MTOR_SIGNALING_UP | 0 | 0 |\n",
       "| PARENT_MTOR_SIGNALING_DN | 0 | 0 |\n",
       "| PYEON_HPV_POSITIVE_TUMORS_UP | 0 | 0 |\n",
       "\n"
      ],
      "text/plain": [
       "                                    ALL MLLvsALL\n",
       "NAKAMURA_CANCER_MICROENVIRONMENT_DN 0   0       \n",
       "WINTER_HYPOXIA_UP                   0   0       \n",
       "WINTER_HYPOXIA_DN                   0   0       \n",
       "PARENT_MTOR_SIGNALING_UP            0   0       \n",
       "PARENT_MTOR_SIGNALING_DN            0   0       \n",
       "PYEON_HPV_POSITIVE_TUMORS_UP        0   0       "
      ]
     },
     "metadata": {},
     "output_type": "display_data"
    }
   ],
   "source": [
    "head(res)"
   ]
  },
  {
   "cell_type": "code",
   "execution_count": 21,
   "metadata": {},
   "outputs": [
    {
     "data": {
      "text/plain": [
       "        ALL MLLvsALL\n",
       "Down      0       71\n",
       "NotSig    0     4170\n",
       "Up     4292       51"
      ]
     },
     "metadata": {},
     "output_type": "display_data"
    }
   ],
   "source": [
    "logFCcutoff <- log2(2)\n",
    "design <- model.matrix(~ factor(leukemia_eset$subtype))\n",
    "colnames(design) <- c(\"ALL\", \"MLLvsALL\")\n",
    "fit <- lmFit(leukemia_filtered_eset, design)\n",
    "fit <- eBayes(fit)\n",
    "allGenes <- topTable(fit, coef=\"MLLvsALL\", number=Inf)\n",
    "DEgenes <- topTable(fit, coef=\"MLLvsALL\", number=Inf,\n",
    "                    p.value=adjPvalueCutoff, adjust=\"BH\", lfc=logFCcutoff)\n",
    "res <- decideTests(fit, p.value=adjPvalueCutoff, lfc=logFCcutoff)\n",
    "summary(res)\n",
    "# Here, 122 genes show up as being differentially expressed with a minimum fold-change of 2 at 0.1% FDR.\n",
    "# the genes and pathways that are changing by means of volcano plots"
   ]
  },
  {
   "cell_type": "code",
   "execution_count": 22,
   "metadata": {},
   "outputs": [
    {
     "data": {
      "text/html": [
       "<table>\n",
       "<caption>A matrix: 6 × 2 of type dbl</caption>\n",
       "<thead>\n",
       "\t<tr><th></th><th scope=col>ALL</th><th scope=col>MLLvsALL</th></tr>\n",
       "</thead>\n",
       "<tbody>\n",
       "\t<tr><th scope=row>907_at</th><td>1</td><td>0</td></tr>\n",
       "\t<tr><th scope=row>35430_at</th><td>1</td><td>0</td></tr>\n",
       "\t<tr><th scope=row>36841_at</th><td>1</td><td>0</td></tr>\n",
       "\t<tr><th scope=row>38924_s_at</th><td>1</td><td>0</td></tr>\n",
       "\t<tr><th scope=row>36023_at</th><td>1</td><td>0</td></tr>\n",
       "\t<tr><th scope=row>191_at</th><td>1</td><td>0</td></tr>\n",
       "</tbody>\n",
       "</table>\n"
      ],
      "text/latex": [
       "A matrix: 6 × 2 of type dbl\n",
       "\\begin{tabular}{r|ll}\n",
       "  & ALL & MLLvsALL\\\\\n",
       "\\hline\n",
       "\t907\\_at & 1 & 0\\\\\n",
       "\t35430\\_at & 1 & 0\\\\\n",
       "\t36841\\_at & 1 & 0\\\\\n",
       "\t38924\\_s\\_at & 1 & 0\\\\\n",
       "\t36023\\_at & 1 & 0\\\\\n",
       "\t191\\_at & 1 & 0\\\\\n",
       "\\end{tabular}\n"
      ],
      "text/markdown": [
       "\n",
       "A matrix: 6 × 2 of type dbl\n",
       "\n",
       "| <!--/--> | ALL | MLLvsALL |\n",
       "|---|---|---|\n",
       "| 907_at | 1 | 0 |\n",
       "| 35430_at | 1 | 0 |\n",
       "| 36841_at | 1 | 0 |\n",
       "| 38924_s_at | 1 | 0 |\n",
       "| 36023_at | 1 | 0 |\n",
       "| 191_at | 1 | 0 |\n",
       "\n"
      ],
      "text/plain": [
       "           ALL MLLvsALL\n",
       "907_at     1   0       \n",
       "35430_at   1   0       \n",
       "36841_at   1   0       \n",
       "38924_s_at 1   0       \n",
       "36023_at   1   0       \n",
       "191_at     1   0       "
      ]
     },
     "metadata": {},
     "output_type": "display_data"
    }
   ],
   "source": [
    "head(res)"
   ]
  },
  {
   "cell_type": "code",
   "execution_count": 23,
   "metadata": {},
   "outputs": [
    {
     "data": {
      "text/html": [
       "<table>\n",
       "<caption>A data.frame: 6 × 6</caption>\n",
       "<thead>\n",
       "\t<tr><th></th><th scope=col>logFC</th><th scope=col>AveExpr</th><th scope=col>t</th><th scope=col>P.Value</th><th scope=col>adj.P.Val</th><th scope=col>B</th></tr>\n",
       "\t<tr><th></th><th scope=col>&lt;dbl&gt;</th><th scope=col>&lt;dbl&gt;</th><th scope=col>&lt;dbl&gt;</th><th scope=col>&lt;dbl&gt;</th><th scope=col>&lt;dbl&gt;</th><th scope=col>&lt;dbl&gt;</th></tr>\n",
       "</thead>\n",
       "<tbody>\n",
       "\t<tr><th scope=row>33412_at</th><td> 4.617705</td><td>12.095415</td><td> 13.27409</td><td>4.461265e-16</td><td>1.914775e-12</td><td>26.17560</td></tr>\n",
       "\t<tr><th scope=row>1389_at</th><td>-2.210631</td><td>13.028410</td><td>-12.74232</td><td>1.648683e-15</td><td>3.538074e-12</td><td>24.94787</td></tr>\n",
       "\t<tr><th scope=row>40763_at</th><td> 2.513625</td><td> 7.550442</td><td> 12.36905</td><td>4.212267e-15</td><td>6.026351e-12</td><td>24.06329</td></tr>\n",
       "\t<tr><th scope=row>1914_at</th><td> 3.589658</td><td> 9.202718</td><td> 11.85161</td><td>1.591002e-14</td><td>1.707146e-11</td><td>22.80535</td></tr>\n",
       "\t<tr><th scope=row>38906_at</th><td>-2.412379</td><td> 9.198476</td><td>-10.54469</td><td>5.314645e-13</td><td>4.562092e-10</td><td>19.46054</td></tr>\n",
       "\t<tr><th scope=row>37280_at</th><td>-3.507887</td><td>10.506362</td><td>-10.16623</td><td>1.529975e-12</td><td>1.094442e-09</td><td>18.44668</td></tr>\n",
       "</tbody>\n",
       "</table>\n"
      ],
      "text/latex": [
       "A data.frame: 6 × 6\n",
       "\\begin{tabular}{r|llllll}\n",
       "  & logFC & AveExpr & t & P.Value & adj.P.Val & B\\\\\n",
       "  & <dbl> & <dbl> & <dbl> & <dbl> & <dbl> & <dbl>\\\\\n",
       "\\hline\n",
       "\t33412\\_at &  4.617705 & 12.095415 &  13.27409 & 4.461265e-16 & 1.914775e-12 & 26.17560\\\\\n",
       "\t1389\\_at & -2.210631 & 13.028410 & -12.74232 & 1.648683e-15 & 3.538074e-12 & 24.94787\\\\\n",
       "\t40763\\_at &  2.513625 &  7.550442 &  12.36905 & 4.212267e-15 & 6.026351e-12 & 24.06329\\\\\n",
       "\t1914\\_at &  3.589658 &  9.202718 &  11.85161 & 1.591002e-14 & 1.707146e-11 & 22.80535\\\\\n",
       "\t38906\\_at & -2.412379 &  9.198476 & -10.54469 & 5.314645e-13 & 4.562092e-10 & 19.46054\\\\\n",
       "\t37280\\_at & -3.507887 & 10.506362 & -10.16623 & 1.529975e-12 & 1.094442e-09 & 18.44668\\\\\n",
       "\\end{tabular}\n"
      ],
      "text/markdown": [
       "\n",
       "A data.frame: 6 × 6\n",
       "\n",
       "| <!--/--> | logFC &lt;dbl&gt; | AveExpr &lt;dbl&gt; | t &lt;dbl&gt; | P.Value &lt;dbl&gt; | adj.P.Val &lt;dbl&gt; | B &lt;dbl&gt; |\n",
       "|---|---|---|---|---|---|---|\n",
       "| 33412_at |  4.617705 | 12.095415 |  13.27409 | 4.461265e-16 | 1.914775e-12 | 26.17560 |\n",
       "| 1389_at | -2.210631 | 13.028410 | -12.74232 | 1.648683e-15 | 3.538074e-12 | 24.94787 |\n",
       "| 40763_at |  2.513625 |  7.550442 |  12.36905 | 4.212267e-15 | 6.026351e-12 | 24.06329 |\n",
       "| 1914_at |  3.589658 |  9.202718 |  11.85161 | 1.591002e-14 | 1.707146e-11 | 22.80535 |\n",
       "| 38906_at | -2.412379 |  9.198476 | -10.54469 | 5.314645e-13 | 4.562092e-10 | 19.46054 |\n",
       "| 37280_at | -3.507887 | 10.506362 | -10.16623 | 1.529975e-12 | 1.094442e-09 | 18.44668 |\n",
       "\n"
      ],
      "text/plain": [
       "         logFC     AveExpr   t         P.Value      adj.P.Val    B       \n",
       "33412_at  4.617705 12.095415  13.27409 4.461265e-16 1.914775e-12 26.17560\n",
       "1389_at  -2.210631 13.028410 -12.74232 1.648683e-15 3.538074e-12 24.94787\n",
       "40763_at  2.513625  7.550442  12.36905 4.212267e-15 6.026351e-12 24.06329\n",
       "1914_at   3.589658  9.202718  11.85161 1.591002e-14 1.707146e-11 22.80535\n",
       "38906_at -2.412379  9.198476 -10.54469 5.314645e-13 4.562092e-10 19.46054\n",
       "37280_at -3.507887 10.506362 -10.16623 1.529975e-12 1.094442e-09 18.44668"
      ]
     },
     "metadata": {},
     "output_type": "display_data"
    },
    {
     "data": {
      "text/html": [
       "<table>\n",
       "<caption>A data.frame: 6 × 6</caption>\n",
       "<thead>\n",
       "\t<tr><th></th><th scope=col>logFC</th><th scope=col>AveExpr</th><th scope=col>t</th><th scope=col>P.Value</th><th scope=col>adj.P.Val</th><th scope=col>B</th></tr>\n",
       "\t<tr><th></th><th scope=col>&lt;dbl&gt;</th><th scope=col>&lt;dbl&gt;</th><th scope=col>&lt;dbl&gt;</th><th scope=col>&lt;dbl&gt;</th><th scope=col>&lt;dbl&gt;</th><th scope=col>&lt;dbl&gt;</th></tr>\n",
       "</thead>\n",
       "<tbody>\n",
       "\t<tr><th scope=row>ROSS_LEUKEMIA_WITH_MLL_FUSIONS</th><td> 0.7671828</td><td>-0.0054222201</td><td>17.188092</td><td>9.267808e-21</td><td>1.871170e-17</td><td>35.83274</td></tr>\n",
       "\t<tr><th scope=row>VALK_AML_CLUSTER_16</th><td> 0.7245398</td><td>-0.0420213311</td><td>10.219666</td><td>5.030864e-13</td><td>5.078657e-10</td><td>19.42047</td></tr>\n",
       "\t<tr><th scope=row>ROSS_AML_WITH_MLL_FUSIONS</th><td> 0.5685124</td><td>-0.0029793450</td><td> 9.669421</td><td>2.649910e-12</td><td>1.783390e-09</td><td>17.83844</td></tr>\n",
       "\t<tr><th scope=row>HADDAD_B_LYMPHOCYTE_PROGENITOR</th><td>-0.5474778</td><td> 0.0014186843</td><td>-9.270150</td><td>9.059430e-12</td><td>4.572747e-09</td><td>16.66442</td></tr>\n",
       "\t<tr><th scope=row>MULLIGHAN_MLL_SIGNATURE_1_UP</th><td> 0.4571891</td><td> 0.0028069540</td><td> 7.816637</td><td>9.271864e-10</td><td>3.743979e-07</td><td>12.22284</td></tr>\n",
       "\t<tr><th scope=row>MULLIGHAN_MLL_SIGNATURE_2_UP</th><td> 0.4504017</td><td> 0.0008110401</td><td> 7.676504</td><td>1.464772e-09</td><td>4.928958e-07</td><td>11.78262</td></tr>\n",
       "</tbody>\n",
       "</table>\n"
      ],
      "text/latex": [
       "A data.frame: 6 × 6\n",
       "\\begin{tabular}{r|llllll}\n",
       "  & logFC & AveExpr & t & P.Value & adj.P.Val & B\\\\\n",
       "  & <dbl> & <dbl> & <dbl> & <dbl> & <dbl> & <dbl>\\\\\n",
       "\\hline\n",
       "\tROSS\\_LEUKEMIA\\_WITH\\_MLL\\_FUSIONS &  0.7671828 & -0.0054222201 & 17.188092 & 9.267808e-21 & 1.871170e-17 & 35.83274\\\\\n",
       "\tVALK\\_AML\\_CLUSTER\\_16 &  0.7245398 & -0.0420213311 & 10.219666 & 5.030864e-13 & 5.078657e-10 & 19.42047\\\\\n",
       "\tROSS\\_AML\\_WITH\\_MLL\\_FUSIONS &  0.5685124 & -0.0029793450 &  9.669421 & 2.649910e-12 & 1.783390e-09 & 17.83844\\\\\n",
       "\tHADDAD\\_B\\_LYMPHOCYTE\\_PROGENITOR & -0.5474778 &  0.0014186843 & -9.270150 & 9.059430e-12 & 4.572747e-09 & 16.66442\\\\\n",
       "\tMULLIGHAN\\_MLL\\_SIGNATURE\\_1\\_UP &  0.4571891 &  0.0028069540 &  7.816637 & 9.271864e-10 & 3.743979e-07 & 12.22284\\\\\n",
       "\tMULLIGHAN\\_MLL\\_SIGNATURE\\_2\\_UP &  0.4504017 &  0.0008110401 &  7.676504 & 1.464772e-09 & 4.928958e-07 & 11.78262\\\\\n",
       "\\end{tabular}\n"
      ],
      "text/markdown": [
       "\n",
       "A data.frame: 6 × 6\n",
       "\n",
       "| <!--/--> | logFC &lt;dbl&gt; | AveExpr &lt;dbl&gt; | t &lt;dbl&gt; | P.Value &lt;dbl&gt; | adj.P.Val &lt;dbl&gt; | B &lt;dbl&gt; |\n",
       "|---|---|---|---|---|---|---|\n",
       "| ROSS_LEUKEMIA_WITH_MLL_FUSIONS |  0.7671828 | -0.0054222201 | 17.188092 | 9.267808e-21 | 1.871170e-17 | 35.83274 |\n",
       "| VALK_AML_CLUSTER_16 |  0.7245398 | -0.0420213311 | 10.219666 | 5.030864e-13 | 5.078657e-10 | 19.42047 |\n",
       "| ROSS_AML_WITH_MLL_FUSIONS |  0.5685124 | -0.0029793450 |  9.669421 | 2.649910e-12 | 1.783390e-09 | 17.83844 |\n",
       "| HADDAD_B_LYMPHOCYTE_PROGENITOR | -0.5474778 |  0.0014186843 | -9.270150 | 9.059430e-12 | 4.572747e-09 | 16.66442 |\n",
       "| MULLIGHAN_MLL_SIGNATURE_1_UP |  0.4571891 |  0.0028069540 |  7.816637 | 9.271864e-10 | 3.743979e-07 | 12.22284 |\n",
       "| MULLIGHAN_MLL_SIGNATURE_2_UP |  0.4504017 |  0.0008110401 |  7.676504 | 1.464772e-09 | 4.928958e-07 | 11.78262 |\n",
       "\n"
      ],
      "text/plain": [
       "                               logFC      AveExpr       t         P.Value     \n",
       "ROSS_LEUKEMIA_WITH_MLL_FUSIONS  0.7671828 -0.0054222201 17.188092 9.267808e-21\n",
       "VALK_AML_CLUSTER_16             0.7245398 -0.0420213311 10.219666 5.030864e-13\n",
       "ROSS_AML_WITH_MLL_FUSIONS       0.5685124 -0.0029793450  9.669421 2.649910e-12\n",
       "HADDAD_B_LYMPHOCYTE_PROGENITOR -0.5474778  0.0014186843 -9.270150 9.059430e-12\n",
       "MULLIGHAN_MLL_SIGNATURE_1_UP    0.4571891  0.0028069540  7.816637 9.271864e-10\n",
       "MULLIGHAN_MLL_SIGNATURE_2_UP    0.4504017  0.0008110401  7.676504 1.464772e-09\n",
       "                               adj.P.Val    B       \n",
       "ROSS_LEUKEMIA_WITH_MLL_FUSIONS 1.871170e-17 35.83274\n",
       "VALK_AML_CLUSTER_16            5.078657e-10 19.42047\n",
       "ROSS_AML_WITH_MLL_FUSIONS      1.783390e-09 17.83844\n",
       "HADDAD_B_LYMPHOCYTE_PROGENITOR 4.572747e-09 16.66442\n",
       "MULLIGHAN_MLL_SIGNATURE_1_UP   3.743979e-07 12.22284\n",
       "MULLIGHAN_MLL_SIGNATURE_2_UP   4.928958e-07 11.78262"
      ]
     },
     "metadata": {},
     "output_type": "display_data"
    }
   ],
   "source": [
    "head(allGenes)\n",
    "head(allGeneSets)"
   ]
  },
  {
   "cell_type": "code",
   "execution_count": 24,
   "metadata": {},
   "outputs": [],
   "source": [
    "# biocLite(\"ggplot2\")\n",
    "library(ggplot2) "
   ]
  },
  {
   "cell_type": "markdown",
   "metadata": {},
   "source": [
    "## 火山图"
   ]
  },
  {
   "cell_type": "code",
   "execution_count": 25,
   "metadata": {},
   "outputs": [
    {
     "data": {
      "image/png": "[encoded data removed]",
      "text/plain": [
       "plot without title"
      ]
     },
     "metadata": {},
     "output_type": "display_data"
    },
    {
     "data": {
      "image/png": "[encoded data removed]",
      "text/plain": [
       "plot without title"
      ]
     },
     "metadata": {},
     "output_type": "display_data"
    }
   ],
   "source": [
    "par(mfrow=c(2,2))\n",
    "threshold <- as.factor((allGeneSets$adj.P.Val>0.01 ))\n",
    "ggplot(allGeneSets, aes(x= adjPvalueCutoff ,\n",
    "          y= -1*log10(allGeneSets$P.Value),colour = threshold))+xlab(\"GSVA enrichment score difference\")+ylab(\"-log10 Raw p-value\")+geom_point()\n",
    "\n",
    "threshold2 <- as.factor((allGenes$logFC>2|allGenes$logFC<(-2)&allGenes$adj.P.Val>0.01 ))\n",
    "ggplot(allGeneSets, aes(x= adjPvalueCutoff ,\n",
    "          y= -1*log10(allGeneSets$P.Value),colour = threshold))+xlab(\"GSVA enrichment score difference\")+ylab(\"-log10 Raw p-value\")+geom_point()"
   ]
  },
  {
   "cell_type": "markdown",
   "metadata": {},
   "source": [
    "# 热图\n",
    "\n",
    "\n",
    "The signatures of both, the differentially activated pathways reported by the GSVA analysis and of the differentially expressed genes are shown in Figures 4 and 5, respectively. Many of the gene sets and pathways reported in Figure 4 are directly related to ALL and MLL."
   ]
  },
  {
   "cell_type": "code",
   "execution_count": 26,
   "metadata": {},
   "outputs": [
    {
     "name": "stderr",
     "output_type": "stream",
     "text": [
      "\n",
      "Attaching package: 'gplots'\n",
      "\n",
      "The following object is masked from 'package:IRanges':\n",
      "\n",
      "    space\n",
      "\n",
      "The following object is masked from 'package:S4Vectors':\n",
      "\n",
      "    space\n",
      "\n",
      "The following object is masked from 'package:stats':\n",
      "\n",
      "    lowess\n",
      "\n"
     ]
    },
    {
     "data": {
      "image/png": "[encoded data removed]",
      "text/plain": [
       "Plot with title \"Color Key\""
      ]
     },
     "metadata": {},
     "output_type": "display_data"
    }
   ],
   "source": [
    "library(gplots)\n",
    "DEgeneSets <- as.matrix(DEgeneSets)\n",
    "rc <- rainbow(nrow(DEgeneSets), start = 0, end = .3)\n",
    "cc <- rainbow(ncol(DEgeneSets), start = 0, end = .3)\n",
    "heatmap.2(DEgeneSets, RowSideColors = rc, ColSideColors=cc, scale= \"row\",\n",
    "          margins = c(10,10), key=TRUE, symkey=FALSE, density.info=\"none\", trace=\"none\", \n",
    "          cexRow=0.5, main = \"heatmap(gene data)\")"
   ]
  },
  {
   "cell_type": "markdown",
   "metadata": {},
   "source": [
    "## Molecular signature identification\n",
    "\n",
    "In (Verhaak et al., 2010) four subtypes of Glioblastoma multiforme (GBM) - proneural, classical, neural and mesenchymal - were identified by the characterization of distinct gene-level expression patterns. Using eight gene set signatures specific to brain cell types - astrocytes, oligodendrocytes, neurons and cultured astroglial cells - derived from murine models by (Cahoy et al., 2008), we replicate the analysis of (Verhaak et al., 2010) by employing GSVA to transform the gene expression measurements into enrichment scores for these eight gene sets, without taking the sample subtype grouping into account. We start by loading and have a quick glance to the data which forms part of the GSVAdata package:"
   ]
  },
  {
   "cell_type": "code",
   "execution_count": 27,
   "metadata": {},
   "outputs": [
    {
     "data": {
      "text/plain": [
       "ExpressionSet (storageMode: lockedEnvironment)\n",
       "assayData: 11861 features, 173 samples \n",
       "  element names: exprs \n",
       "protocolData: none\n",
       "phenoData\n",
       "  rowNames: TCGA.02.0003.01A.01 TCGA.02.0010.01A.01 ...\n",
       "    TCGA.12.0620.01A.01 (173 total)\n",
       "  varLabels: subtype\n",
       "  varMetadata: labelDescription channel\n",
       "featureData: none\n",
       "experimentData: use 'experimentData(object)'\n",
       "Annotation:  "
      ]
     },
     "metadata": {},
     "output_type": "display_data"
    }
   ],
   "source": [
    "data(gbm_VerhaakEtAl)\n",
    "gbm_eset"
   ]
  },
  {
   "cell_type": "code",
   "execution_count": 28,
   "metadata": {},
   "outputs": [
    {
     "data": {
      "text/html": [
       "<ol class=list-inline>\n",
       "\t<li>'AACS'</li>\n",
       "\t<li>'FSTL1'</li>\n",
       "\t<li>'ELMO2'</li>\n",
       "\t<li>'CREB3L1'</li>\n",
       "\t<li>'RPS11'</li>\n",
       "\t<li>'PNMA1'</li>\n",
       "</ol>\n"
      ],
      "text/latex": [
       "\\begin{enumerate*}\n",
       "\\item 'AACS'\n",
       "\\item 'FSTL1'\n",
       "\\item 'ELMO2'\n",
       "\\item 'CREB3L1'\n",
       "\\item 'RPS11'\n",
       "\\item 'PNMA1'\n",
       "\\end{enumerate*}\n"
      ],
      "text/markdown": [
       "1. 'AACS'\n",
       "2. 'FSTL1'\n",
       "3. 'ELMO2'\n",
       "4. 'CREB3L1'\n",
       "5. 'RPS11'\n",
       "6. 'PNMA1'\n",
       "\n",
       "\n"
      ],
      "text/plain": [
       "[1] \"AACS\"    \"FSTL1\"   \"ELMO2\"   \"CREB3L1\" \"RPS11\"   \"PNMA1\"  "
      ]
     },
     "metadata": {},
     "output_type": "display_data"
    },
    {
     "data": {
      "text/plain": [
       "\n",
       "  Classical Mesenchymal      Neural   Proneural \n",
       "         38          56          26          53 "
      ]
     },
     "metadata": {},
     "output_type": "display_data"
    },
    {
     "data": {
      "text/html": [
       "<dl class=dl-horizontal>\n",
       "\t<dt>astrocytic_up</dt>\n",
       "\t\t<dd>85</dd>\n",
       "\t<dt>astrocytic_dn</dt>\n",
       "\t\t<dd>15</dd>\n",
       "\t<dt>astroglia_up</dt>\n",
       "\t\t<dd>88</dd>\n",
       "\t<dt>astroglia_dn</dt>\n",
       "\t\t<dd>12</dd>\n",
       "\t<dt>neuronal_up</dt>\n",
       "\t\t<dd>98</dd>\n",
       "\t<dt>neuronal_dn</dt>\n",
       "\t\t<dd>30</dd>\n",
       "\t<dt>oligodendrocytic_up</dt>\n",
       "\t\t<dd>70</dd>\n",
       "\t<dt>oligodendrocytic_dn</dt>\n",
       "\t\t<dd>30</dd>\n",
       "</dl>\n"
      ],
      "text/latex": [
       "\\begin{description*}\n",
       "\\item[astrocytic\\textbackslash{}\\_up] 85\n",
       "\\item[astrocytic\\textbackslash{}\\_dn] 15\n",
       "\\item[astroglia\\textbackslash{}\\_up] 88\n",
       "\\item[astroglia\\textbackslash{}\\_dn] 12\n",
       "\\item[neuronal\\textbackslash{}\\_up] 98\n",
       "\\item[neuronal\\textbackslash{}\\_dn] 30\n",
       "\\item[oligodendrocytic\\textbackslash{}\\_up] 70\n",
       "\\item[oligodendrocytic\\textbackslash{}\\_dn] 30\n",
       "\\end{description*}\n"
      ],
      "text/markdown": [
       "astrocytic_up\n",
       ":   85astrocytic_dn\n",
       ":   15astroglia_up\n",
       ":   88astroglia_dn\n",
       ":   12neuronal_up\n",
       ":   98neuronal_dn\n",
       ":   30oligodendrocytic_up\n",
       ":   70oligodendrocytic_dn\n",
       ":   30\n",
       "\n"
      ],
      "text/plain": [
       "      astrocytic_up       astrocytic_dn        astroglia_up        astroglia_dn \n",
       "                 85                  15                  88                  12 \n",
       "        neuronal_up         neuronal_dn oligodendrocytic_up oligodendrocytic_dn \n",
       "                 98                  30                  70                  30 "
      ]
     },
     "metadata": {},
     "output_type": "display_data"
    },
    {
     "data": {
      "text/html": [
       "<dl>\n",
       "\t<dt>$astrocytic_up</dt>\n",
       "\t\t<dd><ol class=list-inline>\n",
       "\t<li>'GRHL1'</li>\n",
       "\t<li>'GPAM'</li>\n",
       "\t<li>'PAPSS2'</li>\n",
       "\t<li>'MERTK'</li>\n",
       "\t<li>'BTG1'</li>\n",
       "\t<li>'SLC46A1'</li>\n",
       "</ol>\n",
       "</dd>\n",
       "\t<dt>$astrocytic_dn</dt>\n",
       "\t\t<dd><ol class=list-inline>\n",
       "\t<li>'NPAL3'</li>\n",
       "\t<li>'ATP1A1'</li>\n",
       "\t<li>'FRMD5'</li>\n",
       "\t<li>'ASNS'</li>\n",
       "\t<li>'SEMA3E'</li>\n",
       "\t<li>'LPGAT1'</li>\n",
       "</ol>\n",
       "</dd>\n",
       "\t<dt>$astroglia_up</dt>\n",
       "\t\t<dd><ol class=list-inline>\n",
       "\t<li>'BST2'</li>\n",
       "\t<li>'SERPING1'</li>\n",
       "\t<li>'ACTA2'</li>\n",
       "\t<li>'C9orf167'</li>\n",
       "\t<li>'C1orf31'</li>\n",
       "\t<li>'ANXA4'</li>\n",
       "</ol>\n",
       "</dd>\n",
       "\t<dt>$astroglia_dn</dt>\n",
       "\t\t<dd><ol class=list-inline>\n",
       "\t<li>'PCDH8'</li>\n",
       "\t<li>'ATP8A1'</li>\n",
       "\t<li>'PHACTR3'</li>\n",
       "\t<li>'PCDH17'</li>\n",
       "\t<li>'CCDC28B'</li>\n",
       "\t<li>'TDG'</li>\n",
       "</ol>\n",
       "</dd>\n",
       "\t<dt>$neuronal_up</dt>\n",
       "\t\t<dd><ol class=list-inline>\n",
       "\t<li>'STXBP1'</li>\n",
       "\t<li>'JPH4'</li>\n",
       "\t<li>'CACNG3'</li>\n",
       "\t<li>'BRUNOL6'</li>\n",
       "\t<li>'CLSTN2'</li>\n",
       "\t<li>'FAM123C'</li>\n",
       "</ol>\n",
       "</dd>\n",
       "\t<dt>$neuronal_dn</dt>\n",
       "\t\t<dd><ol class=list-inline>\n",
       "\t<li>'DKK3'</li>\n",
       "\t<li>'LPHN2'</li>\n",
       "\t<li>'AHR'</li>\n",
       "\t<li>'NRP1'</li>\n",
       "\t<li>'MAP3K15'</li>\n",
       "\t<li>'GALNTL4'</li>\n",
       "</ol>\n",
       "</dd>\n",
       "\t<dt>$oligodendrocytic_up</dt>\n",
       "\t\t<dd><ol class=list-inline>\n",
       "\t<li>'DCT'</li>\n",
       "\t<li>'ZNF536'</li>\n",
       "\t<li>'GNG8'</li>\n",
       "\t<li>'ELOVL6'</li>\n",
       "\t<li>'NR2C1'</li>\n",
       "\t<li>'RCBTB1'</li>\n",
       "</ol>\n",
       "</dd>\n",
       "\t<dt>$oligodendrocytic_dn</dt>\n",
       "\t\t<dd><ol class=list-inline>\n",
       "\t<li>'DKK3'</li>\n",
       "\t<li>'LPHN2'</li>\n",
       "\t<li>'AHR'</li>\n",
       "\t<li>'NRP1'</li>\n",
       "\t<li>'MAP3K15'</li>\n",
       "\t<li>'GALNTL4'</li>\n",
       "</ol>\n",
       "</dd>\n",
       "</dl>\n"
      ],
      "text/latex": [
       "\\begin{description}\n",
       "\\item[\\$astrocytic\\_up] \\begin{enumerate*}\n",
       "\\item 'GRHL1'\n",
       "\\item 'GPAM'\n",
       "\\item 'PAPSS2'\n",
       "\\item 'MERTK'\n",
       "\\item 'BTG1'\n",
       "\\item 'SLC46A1'\n",
       "\\end{enumerate*}\n",
       "\n",
       "\\item[\\$astrocytic\\_dn] \\begin{enumerate*}\n",
       "\\item 'NPAL3'\n",
       "\\item 'ATP1A1'\n",
       "\\item 'FRMD5'\n",
       "\\item 'ASNS'\n",
       "\\item 'SEMA3E'\n",
       "\\item 'LPGAT1'\n",
       "\\end{enumerate*}\n",
       "\n",
       "\\item[\\$astroglia\\_up] \\begin{enumerate*}\n",
       "\\item 'BST2'\n",
       "\\item 'SERPING1'\n",
       "\\item 'ACTA2'\n",
       "\\item 'C9orf167'\n",
       "\\item 'C1orf31'\n",
       "\\item 'ANXA4'\n",
       "\\end{enumerate*}\n",
       "\n",
       "\\item[\\$astroglia\\_dn] \\begin{enumerate*}\n",
       "\\item 'PCDH8'\n",
       "\\item 'ATP8A1'\n",
       "\\item 'PHACTR3'\n",
       "\\item 'PCDH17'\n",
       "\\item 'CCDC28B'\n",
       "\\item 'TDG'\n",
       "\\end{enumerate*}\n",
       "\n",
       "\\item[\\$neuronal\\_up] \\begin{enumerate*}\n",
       "\\item 'STXBP1'\n",
       "\\item 'JPH4'\n",
       "\\item 'CACNG3'\n",
       "\\item 'BRUNOL6'\n",
       "\\item 'CLSTN2'\n",
       "\\item 'FAM123C'\n",
       "\\end{enumerate*}\n",
       "\n",
       "\\item[\\$neuronal\\_dn] \\begin{enumerate*}\n",
       "\\item 'DKK3'\n",
       "\\item 'LPHN2'\n",
       "\\item 'AHR'\n",
       "\\item 'NRP1'\n",
       "\\item 'MAP3K15'\n",
       "\\item 'GALNTL4'\n",
       "\\end{enumerate*}\n",
       "\n",
       "\\item[\\$oligodendrocytic\\_up] \\begin{enumerate*}\n",
       "\\item 'DCT'\n",
       "\\item 'ZNF536'\n",
       "\\item 'GNG8'\n",
       "\\item 'ELOVL6'\n",
       "\\item 'NR2C1'\n",
       "\\item 'RCBTB1'\n",
       "\\end{enumerate*}\n",
       "\n",
       "\\item[\\$oligodendrocytic\\_dn] \\begin{enumerate*}\n",
       "\\item 'DKK3'\n",
       "\\item 'LPHN2'\n",
       "\\item 'AHR'\n",
       "\\item 'NRP1'\n",
       "\\item 'MAP3K15'\n",
       "\\item 'GALNTL4'\n",
       "\\end{enumerate*}\n",
       "\n",
       "\\end{description}\n"
      ],
      "text/markdown": [
       "$astrocytic_up\n",
       ":   1. 'GRHL1'\n",
       "2. 'GPAM'\n",
       "3. 'PAPSS2'\n",
       "4. 'MERTK'\n",
       "5. 'BTG1'\n",
       "6. 'SLC46A1'\n",
       "\n",
       "\n",
       "\n",
       "$astrocytic_dn\n",
       ":   1. 'NPAL3'\n",
       "2. 'ATP1A1'\n",
       "3. 'FRMD5'\n",
       "4. 'ASNS'\n",
       "5. 'SEMA3E'\n",
       "6. 'LPGAT1'\n",
       "\n",
       "\n",
       "\n",
       "$astroglia_up\n",
       ":   1. 'BST2'\n",
       "2. 'SERPING1'\n",
       "3. 'ACTA2'\n",
       "4. 'C9orf167'\n",
       "5. 'C1orf31'\n",
       "6. 'ANXA4'\n",
       "\n",
       "\n",
       "\n",
       "$astroglia_dn\n",
       ":   1. 'PCDH8'\n",
       "2. 'ATP8A1'\n",
       "3. 'PHACTR3'\n",
       "4. 'PCDH17'\n",
       "5. 'CCDC28B'\n",
       "6. 'TDG'\n",
       "\n",
       "\n",
       "\n",
       "$neuronal_up\n",
       ":   1. 'STXBP1'\n",
       "2. 'JPH4'\n",
       "3. 'CACNG3'\n",
       "4. 'BRUNOL6'\n",
       "5. 'CLSTN2'\n",
       "6. 'FAM123C'\n",
       "\n",
       "\n",
       "\n",
       "$neuronal_dn\n",
       ":   1. 'DKK3'\n",
       "2. 'LPHN2'\n",
       "3. 'AHR'\n",
       "4. 'NRP1'\n",
       "5. 'MAP3K15'\n",
       "6. 'GALNTL4'\n",
       "\n",
       "\n",
       "\n",
       "$oligodendrocytic_up\n",
       ":   1. 'DCT'\n",
       "2. 'ZNF536'\n",
       "3. 'GNG8'\n",
       "4. 'ELOVL6'\n",
       "5. 'NR2C1'\n",
       "6. 'RCBTB1'\n",
       "\n",
       "\n",
       "\n",
       "$oligodendrocytic_dn\n",
       ":   1. 'DKK3'\n",
       "2. 'LPHN2'\n",
       "3. 'AHR'\n",
       "4. 'NRP1'\n",
       "5. 'MAP3K15'\n",
       "6. 'GALNTL4'\n",
       "\n",
       "\n",
       "\n",
       "\n",
       "\n"
      ],
      "text/plain": [
       "$astrocytic_up\n",
       "[1] \"GRHL1\"   \"GPAM\"    \"PAPSS2\"  \"MERTK\"   \"BTG1\"    \"SLC46A1\"\n",
       "\n",
       "$astrocytic_dn\n",
       "[1] \"NPAL3\"  \"ATP1A1\" \"FRMD5\"  \"ASNS\"   \"SEMA3E\" \"LPGAT1\"\n",
       "\n",
       "$astroglia_up\n",
       "[1] \"BST2\"     \"SERPING1\" \"ACTA2\"    \"C9orf167\" \"C1orf31\"  \"ANXA4\"   \n",
       "\n",
       "$astroglia_dn\n",
       "[1] \"PCDH8\"   \"ATP8A1\"  \"PHACTR3\" \"PCDH17\"  \"CCDC28B\" \"TDG\"    \n",
       "\n",
       "$neuronal_up\n",
       "[1] \"STXBP1\"  \"JPH4\"    \"CACNG3\"  \"BRUNOL6\" \"CLSTN2\"  \"FAM123C\"\n",
       "\n",
       "$neuronal_dn\n",
       "[1] \"DKK3\"    \"LPHN2\"   \"AHR\"     \"NRP1\"    \"MAP3K15\" \"GALNTL4\"\n",
       "\n",
       "$oligodendrocytic_up\n",
       "[1] \"DCT\"    \"ZNF536\" \"GNG8\"   \"ELOVL6\" \"NR2C1\"  \"RCBTB1\"\n",
       "\n",
       "$oligodendrocytic_dn\n",
       "[1] \"DKK3\"    \"LPHN2\"   \"AHR\"     \"NRP1\"    \"MAP3K15\" \"GALNTL4\"\n"
      ]
     },
     "metadata": {},
     "output_type": "display_data"
    }
   ],
   "source": [
    "head(featureNames(gbm_eset))\n",
    "table(gbm_eset$subtype)\n",
    "data(brainTxDbSets)\n",
    "sapply(brainTxDbSets, length)\n",
    "lapply(brainTxDbSets, head)"
   ]
  },
  {
   "cell_type": "code",
   "execution_count": 29,
   "metadata": {},
   "outputs": [],
   "source": [
    "# GSVA enrichment scores for the gene sets contained in brainTxDbSets are calculated, in this case using \n",
    "# mx.diff=FALSE, as follows:\n",
    "gbm_es <- gsva(gbm_eset, brainTxDbSets, mx.diff=FALSE, verbose=FALSE, parallel.sz=1)"
   ]
  },
  {
   "cell_type": "code",
   "execution_count": 30,
   "metadata": {},
   "outputs": [
    {
     "data": {
      "text/plain": [
       "ExpressionSet (storageMode: lockedEnvironment)\n",
       "assayData: 8 features, 173 samples \n",
       "  element names: exprs \n",
       "protocolData: none\n",
       "phenoData\n",
       "  sampleNames: TCGA.02.0003.01A.01 TCGA.02.0010.01A.01 ...\n",
       "    TCGA.12.0620.01A.01 (173 total)\n",
       "  varLabels: subtype\n",
       "  varMetadata: labelDescription channel\n",
       "featureData: none\n",
       "experimentData: use 'experimentData(object)'\n",
       "Annotation:  "
      ]
     },
     "metadata": {},
     "output_type": "display_data"
    }
   ],
   "source": [
    "gbm_es"
   ]
  },
  {
   "cell_type": "code",
   "execution_count": 31,
   "metadata": {},
   "outputs": [
    {
     "data": {
      "text/html": [
       "<table>\n",
       "<caption>A matrix: 8 × 173 of type dbl</caption>\n",
       "<thead>\n",
       "\t<tr><th></th><th scope=col>TCGA.02.0003.01A.01</th><th scope=col>TCGA.02.0010.01A.01</th><th scope=col>TCGA.02.0011.01B.01</th><th scope=col>TCGA.02.0014.01A.01</th><th scope=col>TCGA.02.0024.01B.01</th><th scope=col>TCGA.02.0026.01B.01</th><th scope=col>TCGA.02.0028.01A.01</th><th scope=col>TCGA.02.0046.01A.01</th><th scope=col>TCGA.02.0047.01A.01</th><th scope=col>TCGA.02.0048.01A.01</th><th scope=col>...</th><th scope=col>TCGA.08.0352.01A.01</th><th scope=col>TCGA.08.0360.01A.01</th><th scope=col>TCGA.08.0390.01A.01</th><th scope=col>TCGA.08.0392.01A.01</th><th scope=col>TCGA.08.0509.01A.01</th><th scope=col>TCGA.08.0510.01A.01</th><th scope=col>TCGA.08.0512.01A.01</th><th scope=col>TCGA.08.0522.01A.01</th><th scope=col>TCGA.12.0619.01A.01</th><th scope=col>TCGA.12.0620.01A.01</th></tr>\n",
       "</thead>\n",
       "<tbody>\n",
       "\t<tr><th scope=row>astrocytic_up</th><td>-0.3047539</td><td>-0.2946860</td><td>-0.1834593</td><td>-0.5442776</td><td>-0.2834175</td><td>-0.2788147</td><td>-0.3003514</td><td>-0.2874994</td><td>0.2607199</td><td> 0.1413387</td><td>...</td><td> 0.2019316</td><td>-0.2041700</td><td>-0.1508235</td><td>-0.2519564</td><td> 0.1867464</td><td>-0.1965190</td><td> 0.2585439</td><td>-0.3990271</td><td>-0.3061357</td><td> 0.1651281</td></tr>\n",
       "\t<tr><th scope=row>astrocytic_dn</th><td> 0.4826236</td><td> 0.3376643</td><td> 0.5359332</td><td> 0.2313235</td><td> 0.5288826</td><td> 0.3517722</td><td> 0.4710344</td><td> 0.4910108</td><td>0.2764851</td><td> 0.4324623</td><td>...</td><td>-0.2923986</td><td>-0.1946198</td><td> 0.4439713</td><td> 0.3662391</td><td>-0.3339890</td><td> 0.3407512</td><td>-0.4259364</td><td>-0.2728686</td><td> 0.2719858</td><td>-0.3141649</td></tr>\n",
       "\t<tr><th scope=row>astroglia_up</th><td>-0.5149583</td><td>-0.5410770</td><td>-0.4707559</td><td>-0.6113382</td><td>-0.4302575</td><td>-0.3653708</td><td>-0.4790737</td><td>-0.4724831</td><td>0.2019720</td><td>-0.5165498</td><td>...</td><td> 0.5054087</td><td> 0.5478562</td><td> 0.3711037</td><td> 0.3050986</td><td> 0.2872253</td><td> 0.2808018</td><td> 0.5497252</td><td> 0.4051805</td><td> 0.4516472</td><td> 0.4085658</td></tr>\n",
       "\t<tr><th scope=row>astroglia_dn</th><td> 0.6997045</td><td> 0.2800310</td><td> 0.3715328</td><td> 0.5346043</td><td> 0.4296702</td><td> 0.3711177</td><td> 0.2752453</td><td> 0.7441342</td><td>0.4997432</td><td> 0.2887397</td><td>...</td><td>-0.3034214</td><td>-0.5751536</td><td>-0.6491908</td><td>-0.6224524</td><td>-0.3649221</td><td> 0.2833182</td><td>-0.7059324</td><td>-0.6362752</td><td>-0.6414519</td><td>-0.2836502</td></tr>\n",
       "\t<tr><th scope=row>neuronal_up</th><td> 0.5535049</td><td> 0.2417091</td><td>-0.2419423</td><td>-0.1264513</td><td> 0.5321516</td><td>-0.1907802</td><td>-0.3594715</td><td> 0.3119123</td><td>0.4301345</td><td>-0.1251531</td><td>...</td><td> 0.6340333</td><td>-0.4788773</td><td> 0.5079833</td><td> 0.1255322</td><td> 0.2449831</td><td>-0.5029271</td><td>-0.3891953</td><td>-0.3632664</td><td>-0.4659142</td><td>-0.2670667</td></tr>\n",
       "\t<tr><th scope=row>neuronal_dn</th><td> 0.3506679</td><td>-0.3598559</td><td> 0.2762588</td><td>-0.4613689</td><td>-0.2785617</td><td>-0.3061307</td><td>-0.4619156</td><td> 0.2807331</td><td>0.5293801</td><td>-0.1936128</td><td>...</td><td> 0.3987708</td><td> 0.2652174</td><td> 0.3042433</td><td> 0.3733822</td><td> 0.3695670</td><td>-0.3555163</td><td> 0.1917051</td><td>-0.2243883</td><td>-0.2933334</td><td>-0.2151913</td></tr>\n",
       "\t<tr><th scope=row>oligodendrocytic_up</th><td> 0.3317492</td><td> 0.2491713</td><td> 0.3353197</td><td> 0.1965032</td><td> 0.4766178</td><td> 0.3696743</td><td> 0.1739008</td><td> 0.2837137</td><td>0.3965796</td><td>-0.2499617</td><td>...</td><td>-0.2932406</td><td>-0.2495044</td><td> 0.2091980</td><td>-0.3179201</td><td>-0.3245650</td><td>-0.2703005</td><td>-0.4534530</td><td>-0.4265475</td><td>-0.4192150</td><td> 0.1600080</td></tr>\n",
       "\t<tr><th scope=row>oligodendrocytic_dn</th><td> 0.3506679</td><td>-0.3598559</td><td> 0.2762588</td><td>-0.4613689</td><td>-0.2785617</td><td>-0.3061307</td><td>-0.4619156</td><td> 0.2807331</td><td>0.5293801</td><td>-0.1936128</td><td>...</td><td> 0.3987708</td><td> 0.2652174</td><td> 0.3042433</td><td> 0.3733822</td><td> 0.3695670</td><td>-0.3555163</td><td> 0.1917051</td><td>-0.2243883</td><td>-0.2933334</td><td>-0.2151913</td></tr>\n",
       "</tbody>\n",
       "</table>\n"
      ],
      "text/latex": [
       "A matrix: 8 × 173 of type dbl\n",
       "\\begin{tabular}{r|lllllllllllllllllllllllllllllllllllllllllllllllllllllllllllllllllllllllllllllllllllllllllllllllllllllllllllllllllllllllllllllllllllllllllllllllllllllllllllllllllllllllllllll}\n",
       "  & TCGA.02.0003.01A.01 & TCGA.02.0010.01A.01 & TCGA.02.0011.01B.01 & TCGA.02.0014.01A.01 & TCGA.02.0024.01B.01 & TCGA.02.0026.01B.01 & TCGA.02.0028.01A.01 & TCGA.02.0046.01A.01 & TCGA.02.0047.01A.01 & TCGA.02.0048.01A.01 & TCGA.02.0060.01A.01 & TCGA.02.0069.01A.01 & TCGA.02.0074.01A.01 & TCGA.02.0080.01A.01 & TCGA.02.0084.01A.03 & TCGA.02.0087.01A.01 & TCGA.02.0104.01A.01 & TCGA.02.0114.01A.01 & TCGA.02.0281.01A.01 & TCGA.02.0321.01A.01 & TCGA.02.0325.01A.01 & TCGA.02.0338.01A.01 & TCGA.02.0339.01A.01 & TCGA.02.0432.01A.02 & TCGA.02.0439.01A.01 & TCGA.02.0440.01A.01 & TCGA.02.0446.01A.01 & TCGA.06.0128.01A.01 & TCGA.06.0129.01A.01 & TCGA.06.0146.01A.01 & TCGA.06.0156.01A.01 & TCGA.06.0166.01A.01 & TCGA.06.0174.01A.01 & TCGA.06.0177.01A.01 & TCGA.06.0238.01A.02 & TCGA.06.0241.01A.02 & TCGA.06.0410.01A.01 & TCGA.06.0413.01A.01 & TCGA.06.0414.01A.01 & TCGA.06.0646.01A.01 & TCGA.06.0648.01A.01 & TCGA.08.0245.01A.01 & TCGA.08.0344.01A.01 & TCGA.08.0347.01A.01 & TCGA.08.0348.01A.01 & TCGA.08.0350.01A.01 & TCGA.08.0353.01A.01 & TCGA.08.0359.01A.01 & TCGA.08.0385.01A.01 & TCGA.08.0517.01A.01 & TCGA.08.0524.01A.01 & TCGA.12.0616.01A.01 & TCGA.12.0618.01A.01 & TCGA.02.0089.01A.01 & TCGA.02.0113.01A.01 & TCGA.02.0115.01A.01 & TCGA.02.0451.01A.01 & TCGA.06.0132.01A.02 & TCGA.06.0133.01A.02 & TCGA.06.0138.01A.02 & TCGA.06.0160.01A.01 & TCGA.06.0162.01A.01 & TCGA.06.0167.01A.01 & TCGA.06.0171.01A.02 & TCGA.06.0173.01A.01 & TCGA.06.0179.01A.02 & TCGA.06.0182.01A.01 & TCGA.06.0185.01A.01 & TCGA.06.0195.01B.01 & TCGA.06.0208.01B.01 & TCGA.06.0214.01A.02 & TCGA.06.0219.01A.01 & TCGA.06.0221.01A.01 & TCGA.06.0237.01A.02 & TCGA.06.0240.01A.02 & TCGA.08.0349.01A.01 & TCGA.08.0380.01A.01 & TCGA.08.0386.01A.01 & TCGA.08.0520.01A.01 & TCGA.02.0007.01A.01 & TCGA.02.0009.01A.01 & TCGA.02.0016.01A.01 & TCGA.02.0021.01A.01 & TCGA.02.0023.01B.01 & TCGA.02.0027.01A.01 & TCGA.02.0038.01A.01 & TCGA.02.0043.01A.01 & TCGA.02.0070.01A.01 & TCGA.02.0102.01A.01 & TCGA.02.0260.01A.03 & TCGA.02.0269.01B.01 & TCGA.02.0285.01A.01 & TCGA.02.0289.01A.01 & TCGA.02.0290.01A.01 & TCGA.02.0317.01A.01 & TCGA.02.0333.01A.02 & TCGA.02.0422.01A.01 & TCGA.02.0430.01A.01 & TCGA.06.0125.01A.01 & TCGA.06.0126.01A.01 & TCGA.06.0137.01A.03 & TCGA.06.0145.01A.04 & TCGA.06.0148.01A.01 & TCGA.06.0187.01A.01 & TCGA.06.0211.01B.01 & TCGA.06.0402.01A.01 & TCGA.08.0246.01A.01 & TCGA.08.0354.01A.01 & TCGA.08.0355.01A.01 & TCGA.08.0357.01A.01 & TCGA.08.0358.01A.01 & TCGA.08.0375.01A.01 & TCGA.08.0511.01A.01 & TCGA.08.0514.01A.01 & TCGA.08.0518.01A.01 & TCGA.08.0529.01A.02 & TCGA.08.0531.01A.01 & TCGA.02.0057.01A.01 & TCGA.02.0004.01A.01 & TCGA.02.0006.01B.01 & TCGA.02.0025.01A.01 & TCGA.02.0033.01A.01 & TCGA.02.0034.01A.01 & TCGA.02.0039.01A.01 & TCGA.02.0051.01A.01 & TCGA.02.0054.01A.01 & TCGA.02.0055.01A.01 & TCGA.02.0059.01A.01 & TCGA.02.0064.01A.01 & TCGA.02.0075.01A.01 & TCGA.02.0079.01A.03 & TCGA.02.0085.01A.01 & TCGA.02.0086.01A.01 & TCGA.02.0099.01A.01 & TCGA.02.0106.01A.01 & TCGA.02.0107.01A.01 & TCGA.02.0111.01A.01 & TCGA.02.0326.01A.01 & TCGA.02.0337.01A.01 & TCGA.06.0122.01A.01 & TCGA.06.0124.01A.01 & TCGA.06.0130.01A.01 & TCGA.06.0139.01A.01 & TCGA.06.0143.01A.01 & TCGA.06.0147.01A.01 & TCGA.06.0149.01A.05 & TCGA.06.0152.01A.02 & TCGA.06.0154.01A.02 & TCGA.06.0164.01A.01 & TCGA.06.0175.01A.01 & TCGA.06.0176.01A.03 & TCGA.06.0184.01A.01 & TCGA.06.0189.01A.05 & TCGA.06.0190.01A.01 & TCGA.06.0194.01A.01 & TCGA.06.0197.01A.02 & TCGA.06.0210.01A.01 & TCGA.06.0397.01A.01 & TCGA.06.0409.01A.02 & TCGA.06.0412.01A.01 & TCGA.06.0644.01A.02 & TCGA.06.0645.01A.01 & TCGA.08.0346.01A.01 & TCGA.08.0352.01A.01 & TCGA.08.0360.01A.01 & TCGA.08.0390.01A.01 & TCGA.08.0392.01A.01 & TCGA.08.0509.01A.01 & TCGA.08.0510.01A.01 & TCGA.08.0512.01A.01 & TCGA.08.0522.01A.01 & TCGA.12.0619.01A.01 & TCGA.12.0620.01A.01\\\\\n",
       "\\hline\n",
       "\tastrocytic\\_up & -0.3047539 & -0.2946860 & -0.1834593 & -0.5442776 & -0.2834175 & -0.2788147 & -0.3003514 & -0.2874994 & 0.2607199 &  0.1413387 &  0.2146940 & -0.3180027 & -0.4002297 &  0.1769516 & -0.2588480 & -0.3482341 & -0.2662723 & -0.3459269 & -0.4173384 & -0.1983332 & -0.1586231 & -0.3486947 & -0.3458663 & -0.2206452 &  0.2825297 & -0.3877544 &  0.2093004 & -0.2012996 & -0.3454799 &  0.1747717 & -0.1457140 &  0.1895460 & -0.2553038 & -0.3954264 & -0.1289837 & -0.3769329 & -0.4737155 & -0.3632470 & -0.3043683 &  0.2444025 & -0.3233087 & -0.4249789 & -0.3426041 & -0.2380239 & -0.3075525 & -0.3459151 & -0.3087816 &  0.2381330 & -0.2643738 & -0.2797349 & -0.4388712 & -0.2984390 & -0.2418500 &  0.2967027 &  0.2963262 & 0.5497730 &  0.2387450 & 0.3144786 &  0.3333460 &  0.2297994 &  0.2686543 &  0.2357884 &  0.3223822 &  0.2434233 &  0.4129700 & 0.3558037 &  0.2586949 &  0.2957692 & -0.1293295 &  0.4002767 &  0.2431737 &  0.2064763 & -0.2054680 &  0.2098025 &  0.2378884 &  0.1979041 &  0.2823311 &  0.1955658 &  0.3445508 &  0.2594091 &  0.2529872 &  0.4826020 &  0.1815513 &  0.4318795 &  0.2885936 &  0.3123410 & -0.3779783 &  0.1939708 &  0.1641413 &  0.1497425 &  0.2281183 &  0.1198567 &  0.3737903 &  0.2232357 &  0.2131509 &  0.2635626 &  0.2295927 &  0.2025863 &  0.3654367 &  0.3070467 &  0.4009205 &  0.3415409 &  0.2219087 &  0.2208367 &  0.2603907 & -0.1765010 &  0.2940235 &  0.2124375 &  0.4061779 &  0.4328053 &  0.2173015 &  0.3551808 &  0.2219615 &  0.4042258 &  0.3642527 &  0.3044645 &  0.3551091 &  0.4812290 & -0.2947330 &  0.2717050 & -0.2072296 & -0.2471975 & -0.2842497 &  0.3991259 & -0.2766075 & -0.1677575 & -0.2641184 & -0.1595722 &  0.1984901 & -0.2226697 &  0.1713801 & -0.2188904 & -0.2579632 &  0.1518073 &  0.1637208 &  0.3756718 &  0.2550845 &  0.1295303 & -0.2700193 &  0.2063444 &  0.1624008 & -0.3704812 & -0.2729261 &  0.1962416 & -0.1590410 &  0.3119768 &  0.2627011 &  0.2888753 &  0.2002931 & -0.1400612 & -0.3141722 &  0.2699874 &  0.2219473 &  0.2091188 &  0.2345999 & -0.2194917 & -0.3453076 & -0.4238358 &  0.3549822 &  0.2340566 & -0.2593196 &  0.1099604 & -0.2273672 &  0.2019316 & -0.2041700 & -0.1508235 & -0.2519564 &  0.1867464 & -0.1965190 &  0.2585439 & -0.3990271 & -0.3061357 &  0.1651281\\\\\n",
       "\tastrocytic\\_dn &  0.4826236 &  0.3376643 &  0.5359332 &  0.2313235 &  0.5288826 &  0.3517722 &  0.4710344 &  0.4910108 & 0.2764851 &  0.4324623 &  0.3408102 &  0.3259575 &  0.5192826 & -0.4668388 & -0.4285686 & -0.2664994 &  0.3545938 & -0.2814619 &  0.3090803 & -0.1861918 &  0.2092601 &  0.4623535 &  0.4238571 & -0.3120501 &  0.2566000 &  0.4105804 &  0.4956340 &  0.2848644 &  0.2275189 & -0.3353552 & -0.2994958 &  0.4042783 &  0.4866785 &  0.5227749 &  0.2954431 &  0.2524194 &  0.2498178 &  0.3910910 &  0.2758617 & -0.2439326 &  0.5739776 &  0.5440491 & -0.2682926 &  0.3841764 &  0.4990091 & -0.2912959 &  0.4331344 &  0.4700355 &  0.2574951 &  0.2962422 &  0.3786806 &  0.4635695 &  0.5025734 & -0.6705024 & -0.4122906 & 0.2032411 & -0.3703215 & 0.4160801 & -0.5478995 & -0.4590707 &  0.4972490 & -0.3794346 &  0.4823022 & -0.5049673 &  0.2429391 & 0.3799225 & -0.2019192 & -0.4576666 & -0.3193091 &  0.3465415 & -0.3383757 & -0.2849118 & -0.2292002 & -0.5562375 &  0.2877870 & -0.5784686 & -0.2619492 & -0.2454276 & -0.5973738 & -0.4563148 &  0.2490701 &  0.2083202 &  0.3635788 & -0.3676945 &  0.3506591 & -0.4563971 &  0.2563176 &  0.2454293 &  0.2857669 & -0.2567484 & -0.5100006 & -0.3525317 & -0.2679509 & -0.2696333 & -0.5685449 & -0.5459274 & -0.3581762 & -0.3016279 &  0.3529257 &  0.2322868 &  0.2667752 &  0.2199237 & -0.4884594 & -0.5352292 &  0.2478950 &  0.2968005 &  0.3260653 & -0.3528927 &  0.2563392 & -0.4469018 & -0.5624384 &  0.2493069 &  0.3523211 & -0.5720182 & -0.4528953 & -0.3150191 & -0.4654630 & -0.2749061 & -0.2408781 & -0.1873171 & -0.3141499 & -0.2575569 & -0.2825793 &  0.3131405 &  0.2541771 &  0.3093296 & -0.2412221 &  0.2725304 & -0.2339652 &  0.3116501 & -0.1964045 &  0.2925274 &  0.2033996 &  0.2692179 &  0.3131589 & -0.3664900 & -0.3139729 & -0.4468092 & -0.2874765 & -0.2534684 &  0.2840778 & -0.4067636 & -0.2967123 &  0.2322269 & -0.3653822 & -0.4315154 & -0.6035622 &  0.3279269 &  0.5202140 &  0.3651568 &  0.3652270 & -0.2502515 & -0.6220236 &  0.2479956 & -0.3432491 & -0.2471192 & -0.2470768 &  0.2459882 &  0.4445485 & -0.5117333 &  0.2484808 & -0.3723066 & -0.3938964 & -0.2923986 & -0.1946198 &  0.4439713 &  0.3662391 & -0.3339890 &  0.3407512 & -0.4259364 & -0.2728686 &  0.2719858 & -0.3141649\\\\\n",
       "\tastroglia\\_up & -0.5149583 & -0.5410770 & -0.4707559 & -0.6113382 & -0.4302575 & -0.3653708 & -0.4790737 & -0.4724831 & 0.2019720 & -0.5165498 & -0.3810421 & -0.4003590 & -0.3525063 & -0.4778482 &  0.1594521 & -0.2744265 & -0.4668132 & -0.5181954 & -0.4725050 &  0.3496106 &  0.1632234 & -0.5350220 & -0.5062797 & -0.5565810 & -0.2063866 & -0.4462150 & -0.1671050 & -0.4503466 & -0.5630672 & -0.4053433 &  0.1609667 & -0.1794776 & -0.4755774 & -0.2128034 & -0.1997192 & -0.5332830 & -0.4417129 & -0.4310179 & -0.4982304 &  0.2722387 & -0.3527572 & -0.4120461 & -0.5092322 &  0.1534758 & -0.3638957 & -0.2886322 & -0.3058095 & -0.2268245 & -0.3789481 & -0.4199315 & -0.5577897 & -0.3009622 & -0.4952939 &  0.3562099 & -0.1948617 & 0.2506709 & -0.1956322 & 0.2980680 &  0.1473354 &  0.1866536 & -0.4623550 & -0.1714237 & -0.4221490 & -0.1818365 & -0.2457673 & 0.2500337 & -0.2661463 & -0.1506672 & -0.4899183 & -0.3467717 &  0.2013752 & -0.1561121 & -0.2157769 & -0.2982904 & -0.3172812 & -0.2281312 &  0.2970433 & -0.2815591 &  0.1634429 & -0.1746780 & -0.3294734 & -0.2707020 & -0.3002505 &  0.3839744 &  0.2305549 & -0.1605050 & -0.2294543 &  0.4619706 & -0.1943197 & -0.2982120 & -0.2123044 &  0.3634887 &  0.2863492 &  0.3384878 &  0.1948430 &  0.1395315 & -0.2248029 & -0.2162429 & -0.2067516 & -0.3013420 & -0.2684818 & -0.2478927 &  0.4042948 &  0.2335354 & -0.4561683 & -0.2852517 &  0.2751976 &  0.3726306 &  0.3118150 & -0.2394383 &  0.1820660 & -0.2988110 &  0.1652119 &  0.1841336 &  0.2581383 &  0.2056429 & -0.2597831 &  0.3690882 &  0.4820315 &  0.2887467 &  0.5403445 &  0.4579650 &  0.5444281 &  0.5331769 &  0.3394440 &  0.2194871 &  0.5238034 &  0.4465451 &  0.4552118 &  0.3171873 &  0.5092584 &  0.4264341 &  0.3355302 &  0.4395682 &  0.3572217 &  0.5354133 &  0.5529363 &  0.3635790 &  0.4608111 &  0.3641927 &  0.4291813 &  0.4496740 &  0.4566347 &  0.3510896 &  0.4412179 &  0.3601076 &  0.3276640 &  0.5528990 &  0.4514321 &  0.2932687 &  0.3922137 &  0.2846455 &  0.4656351 &  0.5682138 &  0.4886159 &  0.3895400 &  0.3730679 &  0.2343013 &  0.4820948 &  0.3943550 &  0.4396104 &  0.5514612 &  0.4772503 &  0.5054087 &  0.5478562 &  0.3711037 &  0.3050986 &  0.2872253 &  0.2808018 &  0.5497252 &  0.4051805 &  0.4516472 &  0.4085658\\\\\n",
       "\tastroglia\\_dn &  0.6997045 &  0.2800310 &  0.3715328 &  0.5346043 &  0.4296702 &  0.3711177 &  0.2752453 &  0.7441342 & 0.4997432 &  0.2887397 &  0.4703965 &  0.3592121 &  0.6394274 & -0.2711191 & -0.2087483 & -0.2535641 &  0.3567722 & -0.2802879 & -0.2661919 &  0.3285002 &  0.2666605 &  0.6529537 &  0.5632073 &  0.4608935 &  0.3916585 &  0.6596208 & -0.2938146 &  0.3353042 &  0.5334639 &  0.3797094 & -0.3660832 &  0.2845678 &  0.6301176 &  0.4249131 &  0.4398458 &  0.2410436 &  0.3282157 &  0.5230021 &  0.5474087 & -0.2138216 &  0.6487827 &  0.2762733 &  0.5969274 &  0.3593458 &  0.5632265 &  0.3223372 &  0.3961383 &  0.3085784 &  0.6759240 &  0.2936097 &  0.3820238 & -0.4072164 &  0.6479929 & -0.3198886 & -0.2788232 & 0.4960931 & -0.1765695 & 0.4273443 &  0.2574466 & -0.2031896 &  0.6013003 &  0.1978736 &  0.5243901 &  0.3397409 &  0.3804558 & 0.4403752 &  0.2414756 & -0.3054180 &  0.2438364 &  0.3833802 &  0.7395565 & -0.2220910 &  0.1396568 &  0.3761604 &  0.5568723 & -0.2678483 & -0.4307026 &  0.3277933 & -0.3596503 & -0.3770773 &  0.3031454 &  0.2762383 & -0.2676031 &  0.2832600 & -0.5003757 & -0.4358462 &  0.3179510 &  0.3083207 &  0.4253420 &  0.2135018 &  0.2990112 &  0.2602271 &  0.4552346 &  0.2751126 & -0.3157213 &  0.2988811 &  0.2305565 &  0.2443038 &  0.2908695 &  0.3802768 &  0.3251569 &  0.3285303 &  0.2087995 & -0.4195440 &  0.3396812 &  0.4471681 &  0.4102960 & -0.4615086 & -0.3596116 &  0.2687445 & -0.3035626 &  0.4077479 & -0.2442328 &  0.2875562 &  0.1928517 &  0.2993529 &  0.5036338 &  0.5053492 & -0.6510646 &  0.1699686 & -0.5842419 & -0.7515165 & -0.6601022 & -0.5329216 & -0.5396621 &  0.5063747 & -0.6142261 & -0.6077144 & -0.6631277 & -0.3561003 & -0.3981031 &  0.3183092 & -0.6158715 & -0.3706796 & -0.6915707 & -0.6136415 & -0.3744108 & -0.5520439 &  0.1872222 & -0.3427559 & -0.3339426 & -0.5800905 & -0.4770843 & -0.2983302 & -0.4043259 & -0.4300291 &  0.2909459 &  0.2320395 & -0.5078931 & -0.2785447 & -0.5127792 &  0.3486864 & -0.4778658 & -0.4335623 & -0.6123444 & -0.6585990 & -0.2929313 & -0.6582538 & -0.4225925 &  0.3993971 & -0.5570284 & -0.2486774 & -0.6352966 & -0.3034214 & -0.5751536 & -0.6491908 & -0.6224524 & -0.3649221 &  0.2833182 & -0.7059324 & -0.6362752 & -0.6414519 & -0.2836502\\\\\n",
       "\tneuronal\\_up &  0.5535049 &  0.2417091 & -0.2419423 & -0.1264513 &  0.5321516 & -0.1907802 & -0.3594715 &  0.3119123 & 0.4301345 & -0.1251531 &  0.6345184 & -0.4761376 & -0.4777196 & -0.3691534 &  0.2468458 & -0.3802419 &  0.4236358 & -0.4473820 & -0.1168248 &  0.2615203 &  0.4412960 &  0.2258959 &  0.4605784 & -0.1201504 & -0.2601714 & -0.2213066 &  0.5831010 & -0.3449359 & -0.3518502 &  0.1186366 &  0.1916525 & -0.3076000 &  0.3498210 &  0.4973920 &  0.6397865 & -0.2787217 &  0.2572456 &  0.4607110 &  0.3686673 &  0.1846618 &  0.5245801 & -0.3509494 &  0.3513964 &  0.5454430 &  0.1606448 & -0.2953076 & -0.5303268 &  0.6995543 &  0.1475983 & -0.1844540 &  0.2111547 &  0.1714030 &  0.4657383 &  0.5497687 & -0.3946098 & 0.4963120 &  0.3352992 & 0.7175166 &  0.4972767 &  0.3710156 &  0.7631191 &  0.5344811 &  0.7969773 &  0.2856497 &  0.3129090 & 0.6442165 & -0.2297751 &  0.4688783 &  0.7186127 &  0.1864052 &  0.1512623 &  0.4905083 &  0.5779253 & -0.1747120 &  0.7386962 &  0.5896950 &  0.2983598 &  0.4279023 &  0.2145936 &  0.1761452 & -0.5754318 &  0.4795529 & -0.6007193 &  0.6585229 &  0.2712467 & -0.5609244 & -0.5409766 & -0.5582310 & -0.1397818 & -0.1699394 &  0.1369626 & -0.2852583 & -0.2074379 & -0.3609699 & -0.4746596 &  0.2723624 & -0.1921239 & -0.6249382 & -0.1989687 &  0.4172576 &  0.4714021 & -0.5453959 & -0.2184275 & -0.6205832 &  0.3765956 & -0.4810052 & -0.3898214 & -0.3376351 &  0.4026263 &  0.2958724 &  0.1514880 & -0.5448607 &  0.4816556 & -0.5156220 & -0.5857302 & -0.3912544 & -0.4810045 & -0.4432014 & -0.3401462 & -0.2069768 & -0.1755817 & -0.5429475 & -0.3473447 &  0.4293285 & -0.1852551 & -0.2807897 &  0.2095081 &  0.1692813 & -0.5953110 & -0.4569613 &  0.4986510 &  0.6780347 & -0.4361162 & -0.2657947 & -0.4149003 & -0.2019748 & -0.1825776 &  0.4705841 & -0.3660470 & -0.3950770 & -0.2875748 & -0.3687514 & -0.4339034 & -0.4137328 & -0.4061838 & -0.3665761 & -0.2886278 & -0.4494102 & -0.4614783 &  0.3012511 & -0.4367833 & -0.3295978 & -0.2846818 & -0.4517050 & -0.3885191 & -0.3608320 & -0.3779686 & -0.3484378 & -0.2868552 & -0.5719856 & -0.2625708 &  0.2935293 & -0.3335214 &  0.6340333 & -0.4788773 &  0.5079833 &  0.1255322 &  0.2449831 & -0.5029271 & -0.3891953 & -0.3632664 & -0.4659142 & -0.2670667\\\\\n",
       "\tneuronal\\_dn &  0.3506679 & -0.3598559 &  0.2762588 & -0.4613689 & -0.2785617 & -0.3061307 & -0.4619156 &  0.2807331 & 0.5293801 & -0.1936128 &  0.2179376 & -0.4610243 & -0.4194275 &  0.1855718 &  0.2000336 &  0.2734797 & -0.4452398 & -0.4929605 & -0.2874341 &  0.1943529 &  0.1382326 & -0.3248861 & -0.3933958 & -0.3080470 & -0.2870788 & -0.4900565 &  0.2024399 & -0.3452651 & -0.4321135 & -0.2869020 &  0.2249533 & -0.2960842 & -0.1403315 & -0.2936086 &  0.2335028 & -0.4437859 & -0.4093427 & -0.2251681 & -0.3292855 & -0.3369359 & -0.3197396 & -0.5017464 & -0.3260592 &  0.2684458 & -0.6017080 &  0.1623307 & -0.2996752 &  0.3449563 &  0.1509468 & -0.3759178 & -0.5367035 &  0.1708087 &  0.3601786 &  0.4854563 &  0.2139600 & 0.3846629 &  0.2293482 & 0.3920814 &  0.2626747 &  0.4015483 &  0.4194247 &  0.2593809 &  0.4493261 &  0.2568667 &  0.3696839 & 0.3385506 &  0.3242728 &  0.3707021 & -0.3004034 &  0.2629511 & -0.2844149 & -0.2543493 &  0.2972677 & -0.2699648 &  0.3798376 &  0.2414897 &  0.1940077 &  0.2597295 &  0.3087741 & -0.3214401 & -0.4074431 &  0.2744115 & -0.3610100 &  0.3561365 &  0.2022188 & -0.2412284 & -0.3900264 & -0.3215718 &  0.2854003 &  0.1841459 &  0.1616164 &  0.2431675 &  0.4195535 &  0.1480854 & -0.1339694 & -0.2499941 &  0.2423132 & -0.3508675 &  0.2585937 &  0.2329273 &  0.4298065 & -0.2842767 &  0.3014832 & -0.2203013 & -0.2952288 &  0.2226240 & -0.2215979 &  0.2122339 &  0.3391040 & -0.2949355 & -0.1731595 & -0.2716475 &  0.4595486 & -0.2222938 & -0.2792348 & -0.3466271 &  0.1747258 &  0.2598951 &  0.3213314 &  0.3086494 &  0.2495378 & -0.3049257 &  0.2275814 &  0.3607428 &  0.1826923 &  0.3575733 &  0.3610842 &  0.2158520 & -0.1961343 & -0.1833643 &  0.2340997 &  0.5606030 &  0.3045692 &  0.4136751 & -0.2661818 &  0.2671414 &  0.2785339 &  0.2759652 &  0.2222882 & -0.1525228 &  0.2899953 &  0.3089163 & -0.2539107 & -0.2224012 & -0.2567460 &  0.3520600 & -0.4352471 & -0.1693243 & -0.1851094 & -0.2120348 &  0.2813121 &  0.2412080 &  0.2024720 & -0.2095963 & -0.2607876 & -0.2249413 &  0.3151192 &  0.2381959 &  0.3089631 & -0.2315614 &  0.3621966 &  0.3410368 &  0.2318105 &  0.3987708 &  0.2652174 &  0.3042433 &  0.3733822 &  0.3695670 & -0.3555163 &  0.1917051 & -0.2243883 & -0.2933334 & -0.2151913\\\\\n",
       "\toligodendrocytic\\_up &  0.3317492 &  0.2491713 &  0.3353197 &  0.1965032 &  0.4766178 &  0.3696743 &  0.1739008 &  0.2837137 & 0.3965796 & -0.2499617 &  0.4111354 &  0.3145638 &  0.6296969 &  0.3363415 & -0.1374640 &  0.4114245 & -0.3041959 &  0.2647537 &  0.4139883 &  0.2318300 &  0.3873472 &  0.2032636 &  0.4537419 &  0.2660245 &  0.5308132 &  0.4464649 &  0.5707848 &  0.3329401 &  0.4571077 &  0.2958584 &  0.3318632 &  0.4968947 &  0.3523085 &  0.5364637 &  0.4087340 &  0.5468353 & -0.1492890 &  0.4105960 &  0.5855587 & -0.1819342 &  0.4798445 & -0.1856330 & -0.1874635 &  0.4959465 &  0.5271533 &  0.2206708 &  0.2340045 &  0.2860177 &  0.1995836 &  0.1418165 &  0.3666431 &  0.3008428 &  0.3834914 & -0.2197493 & -0.4632601 & 0.1755629 &  0.2283133 & 0.3855686 & -0.1581432 &  0.2212679 &  0.2711446 & -0.1950745 &  0.2557408 &  0.2960432 & -0.1573391 & 0.3797065 & -0.3338795 & -0.2831008 & -0.2227159 & -0.1671839 &  0.4939055 &  0.1723784 & -0.2516605 & -0.1981382 &  0.3178961 & -0.3937384 & -0.2466558 & -0.4638286 & -0.4636637 & -0.2714250 & -0.3701235 &  0.2071280 & -0.3779293 & -0.3386804 &  0.2197589 &  0.2601284 & -0.3611962 &  0.1908298 & -0.4231171 & -0.3430255 & -0.3512123 & -0.2820085 & -0.3780724 & -0.3704518 & -0.3216412 & -0.3171512 & -0.2142009 & -0.2771720 & -0.1908734 & -0.1300848 & -0.2170210 & -0.3505377 & -0.4033821 & -0.4180423 & -0.4282208 & -0.4921075 & -0.3129745 & -0.2568446 & -0.4508574 & -0.3521717 & -0.1932037 & -0.2401757 & -0.4705363 & -0.4756500 & -0.3939968 & -0.4508653 & -0.4673510 &  0.6267838 & -0.3869379 & -0.1753464 &  0.1398180 & -0.3356724 &  0.2174792 & -0.1909474 & -0.4170448 & -0.3449788 & -0.3789635 & -0.3723979 & -0.2489271 & -0.2955629 &  0.2563263 &  0.5062260 & -0.3722382 & -0.2544347 & -0.4120718 &  0.1481816 &  0.2266027 &  0.2624142 &  0.6390087 &  0.1041047 & -0.3246204 & -0.2504649 &  0.1695500 &  0.3362893 &  0.2602318 & -0.4512150 & -0.2275365 & -0.4490874 &  0.2728064 &  0.1801245 & -0.1680797 &  0.2981662 & -0.4332569 & -0.2097164 & -0.4411032 & -0.4515751 & -0.1344606 & -0.2894701 & -0.3966829 & -0.3681011 & -0.2038674 & -0.1537039 &  0.2336640 & -0.2932406 & -0.2495044 &  0.2091980 & -0.3179201 & -0.3245650 & -0.2703005 & -0.4534530 & -0.4265475 & -0.4192150 &  0.1600080\\\\\n",
       "\toligodendrocytic\\_dn &  0.3506679 & -0.3598559 &  0.2762588 & -0.4613689 & -0.2785617 & -0.3061307 & -0.4619156 &  0.2807331 & 0.5293801 & -0.1936128 &  0.2179376 & -0.4610243 & -0.4194275 &  0.1855718 &  0.2000336 &  0.2734797 & -0.4452398 & -0.4929605 & -0.2874341 &  0.1943529 &  0.1382326 & -0.3248861 & -0.3933958 & -0.3080470 & -0.2870788 & -0.4900565 &  0.2024399 & -0.3452651 & -0.4321135 & -0.2869020 &  0.2249533 & -0.2960842 & -0.1403315 & -0.2936086 &  0.2335028 & -0.4437859 & -0.4093427 & -0.2251681 & -0.3292855 & -0.3369359 & -0.3197396 & -0.5017464 & -0.3260592 &  0.2684458 & -0.6017080 &  0.1623307 & -0.2996752 &  0.3449563 &  0.1509468 & -0.3759178 & -0.5367035 &  0.1708087 &  0.3601786 &  0.4854563 &  0.2139600 & 0.3846629 &  0.2293482 & 0.3920814 &  0.2626747 &  0.4015483 &  0.4194247 &  0.2593809 &  0.4493261 &  0.2568667 &  0.3696839 & 0.3385506 &  0.3242728 &  0.3707021 & -0.3004034 &  0.2629511 & -0.2844149 & -0.2543493 &  0.2972677 & -0.2699648 &  0.3798376 &  0.2414897 &  0.1940077 &  0.2597295 &  0.3087741 & -0.3214401 & -0.4074431 &  0.2744115 & -0.3610100 &  0.3561365 &  0.2022188 & -0.2412284 & -0.3900264 & -0.3215718 &  0.2854003 &  0.1841459 &  0.1616164 &  0.2431675 &  0.4195535 &  0.1480854 & -0.1339694 & -0.2499941 &  0.2423132 & -0.3508675 &  0.2585937 &  0.2329273 &  0.4298065 & -0.2842767 &  0.3014832 & -0.2203013 & -0.2952288 &  0.2226240 & -0.2215979 &  0.2122339 &  0.3391040 & -0.2949355 & -0.1731595 & -0.2716475 &  0.4595486 & -0.2222938 & -0.2792348 & -0.3466271 &  0.1747258 &  0.2598951 &  0.3213314 &  0.3086494 &  0.2495378 & -0.3049257 &  0.2275814 &  0.3607428 &  0.1826923 &  0.3575733 &  0.3610842 &  0.2158520 & -0.1961343 & -0.1833643 &  0.2340997 &  0.5606030 &  0.3045692 &  0.4136751 & -0.2661818 &  0.2671414 &  0.2785339 &  0.2759652 &  0.2222882 & -0.1525228 &  0.2899953 &  0.3089163 & -0.2539107 & -0.2224012 & -0.2567460 &  0.3520600 & -0.4352471 & -0.1693243 & -0.1851094 & -0.2120348 &  0.2813121 &  0.2412080 &  0.2024720 & -0.2095963 & -0.2607876 & -0.2249413 &  0.3151192 &  0.2381959 &  0.3089631 & -0.2315614 &  0.3621966 &  0.3410368 &  0.2318105 &  0.3987708 &  0.2652174 &  0.3042433 &  0.3733822 &  0.3695670 & -0.3555163 &  0.1917051 & -0.2243883 & -0.2933334 & -0.2151913\\\\\n",
       "\\end{tabular}\n"
      ],
      "text/markdown": [
       "\n",
       "A matrix: 8 × 173 of type dbl\n",
       "\n",
       "| <!--/--> | TCGA.02.0003.01A.01 | TCGA.02.0010.01A.01 | TCGA.02.0011.01B.01 | TCGA.02.0014.01A.01 | TCGA.02.0024.01B.01 | TCGA.02.0026.01B.01 | TCGA.02.0028.01A.01 | TCGA.02.0046.01A.01 | TCGA.02.0047.01A.01 | TCGA.02.0048.01A.01 | ... | TCGA.08.0352.01A.01 | TCGA.08.0360.01A.01 | TCGA.08.0390.01A.01 | TCGA.08.0392.01A.01 | TCGA.08.0509.01A.01 | TCGA.08.0510.01A.01 | TCGA.08.0512.01A.01 | TCGA.08.0522.01A.01 | TCGA.12.0619.01A.01 | TCGA.12.0620.01A.01 |\n",
       "|---|---|---|---|---|---|---|---|---|---|---|---|---|---|---|---|---|---|---|---|---|---|\n",
       "| astrocytic_up | -0.3047539 | -0.2946860 | -0.1834593 | -0.5442776 | -0.2834175 | -0.2788147 | -0.3003514 | -0.2874994 | 0.2607199 |  0.1413387 | ... |  0.2019316 | -0.2041700 | -0.1508235 | -0.2519564 |  0.1867464 | -0.1965190 |  0.2585439 | -0.3990271 | -0.3061357 |  0.1651281 |\n",
       "| astrocytic_dn |  0.4826236 |  0.3376643 |  0.5359332 |  0.2313235 |  0.5288826 |  0.3517722 |  0.4710344 |  0.4910108 | 0.2764851 |  0.4324623 | ... | -0.2923986 | -0.1946198 |  0.4439713 |  0.3662391 | -0.3339890 |  0.3407512 | -0.4259364 | -0.2728686 |  0.2719858 | -0.3141649 |\n",
       "| astroglia_up | -0.5149583 | -0.5410770 | -0.4707559 | -0.6113382 | -0.4302575 | -0.3653708 | -0.4790737 | -0.4724831 | 0.2019720 | -0.5165498 | ... |  0.5054087 |  0.5478562 |  0.3711037 |  0.3050986 |  0.2872253 |  0.2808018 |  0.5497252 |  0.4051805 |  0.4516472 |  0.4085658 |\n",
       "| astroglia_dn |  0.6997045 |  0.2800310 |  0.3715328 |  0.5346043 |  0.4296702 |  0.3711177 |  0.2752453 |  0.7441342 | 0.4997432 |  0.2887397 | ... | -0.3034214 | -0.5751536 | -0.6491908 | -0.6224524 | -0.3649221 |  0.2833182 | -0.7059324 | -0.6362752 | -0.6414519 | -0.2836502 |\n",
       "| neuronal_up |  0.5535049 |  0.2417091 | -0.2419423 | -0.1264513 |  0.5321516 | -0.1907802 | -0.3594715 |  0.3119123 | 0.4301345 | -0.1251531 | ... |  0.6340333 | -0.4788773 |  0.5079833 |  0.1255322 |  0.2449831 | -0.5029271 | -0.3891953 | -0.3632664 | -0.4659142 | -0.2670667 |\n",
       "| neuronal_dn |  0.3506679 | -0.3598559 |  0.2762588 | -0.4613689 | -0.2785617 | -0.3061307 | -0.4619156 |  0.2807331 | 0.5293801 | -0.1936128 | ... |  0.3987708 |  0.2652174 |  0.3042433 |  0.3733822 |  0.3695670 | -0.3555163 |  0.1917051 | -0.2243883 | -0.2933334 | -0.2151913 |\n",
       "| oligodendrocytic_up |  0.3317492 |  0.2491713 |  0.3353197 |  0.1965032 |  0.4766178 |  0.3696743 |  0.1739008 |  0.2837137 | 0.3965796 | -0.2499617 | ... | -0.2932406 | -0.2495044 |  0.2091980 | -0.3179201 | -0.3245650 | -0.2703005 | -0.4534530 | -0.4265475 | -0.4192150 |  0.1600080 |\n",
       "| oligodendrocytic_dn |  0.3506679 | -0.3598559 |  0.2762588 | -0.4613689 | -0.2785617 | -0.3061307 | -0.4619156 |  0.2807331 | 0.5293801 | -0.1936128 | ... |  0.3987708 |  0.2652174 |  0.3042433 |  0.3733822 |  0.3695670 | -0.3555163 |  0.1917051 | -0.2243883 | -0.2933334 | -0.2151913 |\n",
       "\n"
      ],
      "text/plain": [
       "                    TCGA.02.0003.01A.01 TCGA.02.0010.01A.01 TCGA.02.0011.01B.01\n",
       "astrocytic_up       -0.3047539          -0.2946860          -0.1834593         \n",
       "astrocytic_dn        0.4826236           0.3376643           0.5359332         \n",
       "astroglia_up        -0.5149583          -0.5410770          -0.4707559         \n",
       "astroglia_dn         0.6997045           0.2800310           0.3715328         \n",
       "neuronal_up          0.5535049           0.2417091          -0.2419423         \n",
       "neuronal_dn          0.3506679          -0.3598559           0.2762588         \n",
       "oligodendrocytic_up  0.3317492           0.2491713           0.3353197         \n",
       "oligodendrocytic_dn  0.3506679          -0.3598559           0.2762588         \n",
       "                    TCGA.02.0014.01A.01 TCGA.02.0024.01B.01 TCGA.02.0026.01B.01\n",
       "astrocytic_up       -0.5442776          -0.2834175          -0.2788147         \n",
       "astrocytic_dn        0.2313235           0.5288826           0.3517722         \n",
       "astroglia_up        -0.6113382          -0.4302575          -0.3653708         \n",
       "astroglia_dn         0.5346043           0.4296702           0.3711177         \n",
       "neuronal_up         -0.1264513           0.5321516          -0.1907802         \n",
       "neuronal_dn         -0.4613689          -0.2785617          -0.3061307         \n",
       "oligodendrocytic_up  0.1965032           0.4766178           0.3696743         \n",
       "oligodendrocytic_dn -0.4613689          -0.2785617          -0.3061307         \n",
       "                    TCGA.02.0028.01A.01 TCGA.02.0046.01A.01 TCGA.02.0047.01A.01\n",
       "astrocytic_up       -0.3003514          -0.2874994          0.2607199          \n",
       "astrocytic_dn        0.4710344           0.4910108          0.2764851          \n",
       "astroglia_up        -0.4790737          -0.4724831          0.2019720          \n",
       "astroglia_dn         0.2752453           0.7441342          0.4997432          \n",
       "neuronal_up         -0.3594715           0.3119123          0.4301345          \n",
       "neuronal_dn         -0.4619156           0.2807331          0.5293801          \n",
       "oligodendrocytic_up  0.1739008           0.2837137          0.3965796          \n",
       "oligodendrocytic_dn -0.4619156           0.2807331          0.5293801          \n",
       "                    TCGA.02.0048.01A.01 ... TCGA.08.0352.01A.01\n",
       "astrocytic_up        0.1413387          ...  0.2019316         \n",
       "astrocytic_dn        0.4324623          ... -0.2923986         \n",
       "astroglia_up        -0.5165498          ...  0.5054087         \n",
       "astroglia_dn         0.2887397          ... -0.3034214         \n",
       "neuronal_up         -0.1251531          ...  0.6340333         \n",
       "neuronal_dn         -0.1936128          ...  0.3987708         \n",
       "oligodendrocytic_up -0.2499617          ... -0.2932406         \n",
       "oligodendrocytic_dn -0.1936128          ...  0.3987708         \n",
       "                    TCGA.08.0360.01A.01 TCGA.08.0390.01A.01 TCGA.08.0392.01A.01\n",
       "astrocytic_up       -0.2041700          -0.1508235          -0.2519564         \n",
       "astrocytic_dn       -0.1946198           0.4439713           0.3662391         \n",
       "astroglia_up         0.5478562           0.3711037           0.3050986         \n",
       "astroglia_dn        -0.5751536          -0.6491908          -0.6224524         \n",
       "neuronal_up         -0.4788773           0.5079833           0.1255322         \n",
       "neuronal_dn          0.2652174           0.3042433           0.3733822         \n",
       "oligodendrocytic_up -0.2495044           0.2091980          -0.3179201         \n",
       "oligodendrocytic_dn  0.2652174           0.3042433           0.3733822         \n",
       "                    TCGA.08.0509.01A.01 TCGA.08.0510.01A.01 TCGA.08.0512.01A.01\n",
       "astrocytic_up        0.1867464          -0.1965190           0.2585439         \n",
       "astrocytic_dn       -0.3339890           0.3407512          -0.4259364         \n",
       "astroglia_up         0.2872253           0.2808018           0.5497252         \n",
       "astroglia_dn        -0.3649221           0.2833182          -0.7059324         \n",
       "neuronal_up          0.2449831          -0.5029271          -0.3891953         \n",
       "neuronal_dn          0.3695670          -0.3555163           0.1917051         \n",
       "oligodendrocytic_up -0.3245650          -0.2703005          -0.4534530         \n",
       "oligodendrocytic_dn  0.3695670          -0.3555163           0.1917051         \n",
       "                    TCGA.08.0522.01A.01 TCGA.12.0619.01A.01 TCGA.12.0620.01A.01\n",
       "astrocytic_up       -0.3990271          -0.3061357           0.1651281         \n",
       "astrocytic_dn       -0.2728686           0.2719858          -0.3141649         \n",
       "astroglia_up         0.4051805           0.4516472           0.4085658         \n",
       "astroglia_dn        -0.6362752          -0.6414519          -0.2836502         \n",
       "neuronal_up         -0.3632664          -0.4659142          -0.2670667         \n",
       "neuronal_dn         -0.2243883          -0.2933334          -0.2151913         \n",
       "oligodendrocytic_up -0.4265475          -0.4192150           0.1600080         \n",
       "oligodendrocytic_dn -0.2243883          -0.2933334          -0.2151913         "
      ]
     },
     "metadata": {},
     "output_type": "display_data"
    }
   ],
   "source": [
    "exprs(gbm_es)"
   ]
  },
  {
   "cell_type": "code",
   "execution_count": 32,
   "metadata": {},
   "outputs": [
    {
     "data": {
      "image/png": "[encoded data removed]",
      "text/plain": [
       "Plot with title \"Color Key\""
      ]
     },
     "metadata": {},
     "output_type": "display_data"
    }
   ],
   "source": [
    "rc <- rainbow(nrow(as.matrix(exprs(gbm_es))[c(1,3,5,7),]), start = 0, end = .3)\n",
    "# cc <- rainbow(ncol(as.matrix(exprs(gbm_es))[c(1,3,5,7),]), start = 0, end = .3)\n",
    "heatmap.2(as.matrix(exprs(gbm_es))[c(1,3,5,7),], RowSideColors = rc,  scale= \"col\", #ColSideColors=cc,\n",
    "          margins = c(10,10), key=TRUE, symkey=FALSE, density.info=\"none\", trace=\"none\", \n",
    "          cexRow=0.8, main = \"heatmap(gene data)\")"
   ]
  },
  {
   "cell_type": "markdown",
   "metadata": {},
   "source": [
    "A heatmap shows the GSVA enrichment scores obtained for the up-regulated gene sets across the samples\n",
    "of the four GBM subtypes. As expected, the neural class is associated with the neural gene set and\n",
    "the astrocytic gene sets. The mesenchymal subtype is characterized by the expression of mesenchymal\n",
    "and microglial markers, thus we expect it to correlate with the astroglial gene set. The proneural\n",
    "subtype shows high expression of oligodendrocytic development genes, thus it is not surprising that the\n",
    "oligodendrocytic gene set is highly enriched for ths group. Interestingly, the classical group correlates\n",
    "highly with the astrocytic gene set. In summary, the resulting GSVA enrichment scores recapitulate\n",
    "accurately the molecular signatures from Verhaak et al. (2010)."
   ]
  },
  {
   "cell_type": "markdown",
   "metadata": {},
   "source": [
    "## GSVA for RNA-Seq data\n",
    "\n",
    "we illustrate how to use GSVA with RNA-seq data and, more importantly, how the method provides pathway activity profiles analogous to the ones obtained from microarray data by using samples of lymphoblastoid cell lines (LCL) from HapMap individuals which have been profiled using both technologies Huang et al. (2007); Pickrell et al. (2010). These data form part of the experimental package GSVAdata and the corresponding help pages contain details on how the data were processed. We start loading these data and verifying that they indeed contain expression data for the same genes\n",
    "and samples, as follows: "
   ]
  },
  {
   "cell_type": "code",
   "execution_count": 33,
   "metadata": {},
   "outputs": [],
   "source": [
    "data(commonPickrellHuang)\n",
    "stopifnot(identical(featureNames(huangArrayRMAnoBatchCommon_eset),\n",
    "                    featureNames(pickrellCountsArgonneCQNcommon_eset)))\n",
    "stopifnot(identical(sampleNames(huangArrayRMAnoBatchCommon_eset),\n",
    "                    sampleNames(pickrellCountsArgonneCQNcommon_eset)))"
   ]
  },
  {
   "cell_type": "markdown",
   "metadata": {},
   "source": [
    "Next, for the current analysis we use the subset of canonical pathways from the C2 collection of MSigDB Gene Sets. These correspond to the following pathways from KEGG, REACTOME and BIOCARTA:"
   ]
  },
  {
   "cell_type": "code",
   "execution_count": 34,
   "metadata": {},
   "outputs": [
    {
     "data": {
      "text/plain": [
       "GeneSetCollection\n",
       "  names: KEGG_GLYCOLYSIS_GLUCONEOGENESIS, KEGG_CITRATE_CYCLE_TCA_CYCLE, ..., BIOCARTA_ACTINY_PATHWAY (833 total)\n",
       "  unique identifiers: 55902, 2645, ..., 8544 (6744 total)\n",
       "  types in collection:\n",
       "    geneIdType: EntrezIdentifier (1 total)\n",
       "    collectionType: BroadCollection (1 total)"
      ]
     },
     "metadata": {},
     "output_type": "display_data"
    }
   ],
   "source": [
    "canonicalC2BroadSets <- c2BroadSets[c(grep(\"^KEGG\", names(c2BroadSets)),\n",
    "                                      grep(\"^REACTOME\", names(c2BroadSets)),\n",
    "                                      grep(\"^BIOCARTA\", names(c2BroadSets)))]\n",
    "canonicalC2BroadSets"
   ]
  },
  {
   "cell_type": "code",
   "execution_count": 35,
   "metadata": {},
   "outputs": [
    {
     "data": {
      "text/plain": [
       "setName: MSY \n",
       "geneIds: 266, 84663, ..., 353513 (total: 34)\n",
       "geneIdType: EntrezId\n",
       "collectionType: Broad\n",
       "  bcCategory: c2 (Curated)\n",
       "  bcSubCategory: NA\n",
       "details: use 'details(object)'"
      ]
     },
     "metadata": {},
     "output_type": "display_data"
    }
   ],
   "source": [
    "#Additionally, we extend this collection of gene sets with two formed by genes with sex-specific expression\n",
    "\n",
    "data(genderGenesEntrez)\n",
    "MSY <- GeneSet(msYgenesEntrez, geneIdType=EntrezIdentifier(),\n",
    "               collectionType=BroadCollection(category=\"c2\"), setName=\"MSY\")\n",
    "MSY"
   ]
  },
  {
   "cell_type": "code",
   "execution_count": 36,
   "metadata": {},
   "outputs": [
    {
     "data": {
      "text/plain": [
       "setName: XiE \n",
       "geneIds: 293, 8623, ..., 1121 (total: 66)\n",
       "geneIdType: EntrezId\n",
       "collectionType: Broad\n",
       "  bcCategory: c2 (Curated)\n",
       "  bcSubCategory: NA\n",
       "details: use 'details(object)'"
      ]
     },
     "metadata": {},
     "output_type": "display_data"
    }
   ],
   "source": [
    "XiE <- GeneSet(XiEgenesEntrez, geneIdType=EntrezIdentifier(),\n",
    "               collectionType=BroadCollection(category=\"c2\"), setName=\"XiE\")\n",
    "XiE"
   ]
  },
  {
   "cell_type": "code",
   "execution_count": 37,
   "metadata": {},
   "outputs": [
    {
     "data": {
      "text/plain": [
       "GeneSetCollection\n",
       "  names: KEGG_GLYCOLYSIS_GLUCONEOGENESIS, KEGG_CITRATE_CYCLE_TCA_CYCLE, ..., XiE (835 total)\n",
       "  unique identifiers: 55902, 2645, ..., 1121 (6810 total)\n",
       "  types in collection:\n",
       "    geneIdType: EntrezIdentifier (1 total)\n",
       "    collectionType: BroadCollection (1 total)"
      ]
     },
     "metadata": {},
     "output_type": "display_data"
    }
   ],
   "source": [
    "canonicalC2BroadSets <- GeneSetCollection(c(canonicalC2BroadSets, MSY, XiE))\n",
    "canonicalC2BroadSets"
   ]
  },
  {
   "cell_type": "markdown",
   "metadata": {},
   "source": [
    "We calculate now GSVA enrichment scores for these gene sets using first the microarray data and then the RNA-seq integer count data. Note that the only requirement to do the latter is to set the argument kcdf=\"Poisson\" which is \"Gaussian\" by default. Note, however, that if our RNA-seq derived expression levels would be continous, such as log-CPMs, log-RPKMs or log-TPMs, the the default value of the kcdf argument should remain unchanged."
   ]
  },
  {
   "cell_type": "code",
   "execution_count": 38,
   "metadata": {},
   "outputs": [
    {
     "data": {
      "text/html": [
       "<dl class=dl-horizontal>\n",
       "\t<dt>Features</dt>\n",
       "\t\t<dd>806</dd>\n",
       "\t<dt>Samples</dt>\n",
       "\t\t<dd>36</dd>\n",
       "</dl>\n"
      ],
      "text/latex": [
       "\\begin{description*}\n",
       "\\item[Features] 806\n",
       "\\item[Samples] 36\n",
       "\\end{description*}\n"
      ],
      "text/markdown": [
       "Features\n",
       ":   806Samples\n",
       ":   36\n",
       "\n"
      ],
      "text/plain": [
       "Features  Samples \n",
       "     806       36 "
      ]
     },
     "metadata": {},
     "output_type": "display_data"
    },
    {
     "data": {
      "text/html": [
       "<dl class=dl-horizontal>\n",
       "\t<dt>Features</dt>\n",
       "\t\t<dd>806</dd>\n",
       "\t<dt>Samples</dt>\n",
       "\t\t<dd>36</dd>\n",
       "</dl>\n"
      ],
      "text/latex": [
       "\\begin{description*}\n",
       "\\item[Features] 806\n",
       "\\item[Samples] 36\n",
       "\\end{description*}\n"
      ],
      "text/markdown": [
       "Features\n",
       ":   806Samples\n",
       ":   36\n",
       "\n"
      ],
      "text/plain": [
       "Features  Samples \n",
       "     806       36 "
      ]
     },
     "metadata": {},
     "output_type": "display_data"
    }
   ],
   "source": [
    "esmicro <- gsva(huangArrayRMAnoBatchCommon_eset, canonicalC2BroadSets, min.sz=5, max.sz=500, \n",
    "                mx.diff=TRUE, verbose=FALSE, parallel.sz=1)\n",
    "dim(esmicro)\n",
    "esrnaseq <- gsva(pickrellCountsArgonneCQNcommon_eset, canonicalC2BroadSets, min.sz=5, max.sz=500,\n",
    "                 kcdf=\"Poisson\", mx.diff=TRUE, verbose=FALSE, parallel.sz=1)\n",
    "dim(esrnaseq)"
   ]
  },
  {
   "cell_type": "markdown",
   "metadata": {},
   "source": [
    "To compare expression values from both technologies we are going to transform the RNA-seq read counts into RPKM values. For this purpose we need gene length and G+C content information also stored in the GSVAdata package and use the cpm() function from the edgeR package. Note that RPKMs can only be calculated for those genes for which the gene length and G+C content information is available:"
   ]
  },
  {
   "cell_type": "code",
   "execution_count": 39,
   "metadata": {},
   "outputs": [
    {
     "data": {
      "text/html": [
       "<table>\n",
       "<caption>A data.frame: 6 × 2</caption>\n",
       "<thead>\n",
       "\t<tr><th></th><th scope=col>Length</th><th scope=col>GCcontent</th></tr>\n",
       "\t<tr><th></th><th scope=col>&lt;dbl&gt;</th><th scope=col>&lt;dbl&gt;</th></tr>\n",
       "</thead>\n",
       "<tbody>\n",
       "\t<tr><th scope=row>1</th><td>2301</td><td>0.6292916</td></tr>\n",
       "\t<tr><th scope=row>10</th><td>1344</td><td>0.3816964</td></tr>\n",
       "\t<tr><th scope=row>100</th><td>2612</td><td>0.5153139</td></tr>\n",
       "\t<tr><th scope=row>1000</th><td>4380</td><td>0.4502283</td></tr>\n",
       "\t<tr><th scope=row>10000</th><td>7091</td><td>0.3989564</td></tr>\n",
       "\t<tr><th scope=row>100008586</th><td> 606</td><td>0.4339934</td></tr>\n",
       "</tbody>\n",
       "</table>\n"
      ],
      "text/latex": [
       "A data.frame: 6 × 2\n",
       "\\begin{tabular}{r|ll}\n",
       "  & Length & GCcontent\\\\\n",
       "  & <dbl> & <dbl>\\\\\n",
       "\\hline\n",
       "\t1 & 2301 & 0.6292916\\\\\n",
       "\t10 & 1344 & 0.3816964\\\\\n",
       "\t100 & 2612 & 0.5153139\\\\\n",
       "\t1000 & 4380 & 0.4502283\\\\\n",
       "\t10000 & 7091 & 0.3989564\\\\\n",
       "\t100008586 &  606 & 0.4339934\\\\\n",
       "\\end{tabular}\n"
      ],
      "text/markdown": [
       "\n",
       "A data.frame: 6 × 2\n",
       "\n",
       "| <!--/--> | Length &lt;dbl&gt; | GCcontent &lt;dbl&gt; |\n",
       "|---|---|---|\n",
       "| 1 | 2301 | 0.6292916 |\n",
       "| 10 | 1344 | 0.3816964 |\n",
       "| 100 | 2612 | 0.5153139 |\n",
       "| 1000 | 4380 | 0.4502283 |\n",
       "| 10000 | 7091 | 0.3989564 |\n",
       "| 100008586 |  606 | 0.4339934 |\n",
       "\n"
      ],
      "text/plain": [
       "          Length GCcontent\n",
       "1         2301   0.6292916\n",
       "10        1344   0.3816964\n",
       "100       2612   0.5153139\n",
       "1000      4380   0.4502283\n",
       "10000     7091   0.3989564\n",
       "100008586  606   0.4339934"
      ]
     },
     "metadata": {},
     "output_type": "display_data"
    },
    {
     "data": {
      "text/html": [
       "<ol class=list-inline>\n",
       "\t<li>11508</li>\n",
       "\t<li>36</li>\n",
       "</ol>\n"
      ],
      "text/latex": [
       "\\begin{enumerate*}\n",
       "\\item 11508\n",
       "\\item 36\n",
       "\\end{enumerate*}\n"
      ],
      "text/markdown": [
       "1. 11508\n",
       "2. 36\n",
       "\n",
       "\n"
      ],
      "text/plain": [
       "[1] 11508    36"
      ]
     },
     "metadata": {},
     "output_type": "display_data"
    },
    {
     "data": {
      "text/html": [
       "11478"
      ],
      "text/latex": [
       "11478"
      ],
      "text/markdown": [
       "11478"
      ],
      "text/plain": [
       "[1] 11478"
      ]
     },
     "metadata": {},
     "output_type": "display_data"
    },
    {
     "data": {
      "text/html": [
       "<ol class=list-inline>\n",
       "\t<li>11478</li>\n",
       "\t<li>36</li>\n",
       "</ol>\n"
      ],
      "text/latex": [
       "\\begin{enumerate*}\n",
       "\\item 11478\n",
       "\\item 36\n",
       "\\end{enumerate*}\n"
      ],
      "text/markdown": [
       "1. 11478\n",
       "2. 36\n",
       "\n",
       "\n"
      ],
      "text/plain": [
       "[1] 11478    36"
      ]
     },
     "metadata": {},
     "output_type": "display_data"
    },
    {
     "data": {
      "text/html": [
       "<dl class=dl-horizontal>\n",
       "\t<dt>Features</dt>\n",
       "\t\t<dd>11478</dd>\n",
       "\t<dt>Samples</dt>\n",
       "\t\t<dd>36</dd>\n",
       "</dl>\n"
      ],
      "text/latex": [
       "\\begin{description*}\n",
       "\\item[Features] 11478\n",
       "\\item[Samples] 36\n",
       "\\end{description*}\n"
      ],
      "text/markdown": [
       "Features\n",
       ":   11478Samples\n",
       ":   36\n",
       "\n"
      ],
      "text/plain": [
       "Features  Samples \n",
       "   11478       36 "
      ]
     },
     "metadata": {},
     "output_type": "display_data"
    }
   ],
   "source": [
    "# biocLite(\"edgeR\")\n",
    "library(edgeR)\n",
    "data(annotEntrez220212)\n",
    "head(annotEntrez220212)\n",
    "\n",
    "cpm <- cpm(exprs(pickrellCountsArgonneCQNcommon_eset))\n",
    "dim(cpm)\n",
    "\n",
    "common <- intersect(rownames(cpm), rownames(annotEntrez220212))\n",
    "length(common)\n",
    "\n",
    "rpkm <- sweep(cpm[common, ], 1, annotEntrez220212[common, \"Length\"] / 10^3, FUN=\"/\")\n",
    "dim(rpkm)\n",
    "dim(huangArrayRMAnoBatchCommon_eset[rownames(rpkm), ])"
   ]
  },
  {
   "cell_type": "markdown",
   "metadata": {},
   "source": [
    "We finally calculate Spearman correlations between gene and gene-level expression values and gene set level GSVA enrichment scores produced from data obtained by microarray and RNA-seq technologies:"
   ]
  },
  {
   "cell_type": "code",
   "execution_count": 40,
   "metadata": {},
   "outputs": [],
   "source": [
    "corsrowsgene <- sapply(1:nrow(huangArrayRMAnoBatchCommon_eset[rownames(rpkm), ]),\n",
    "                       function(i, expmicro, exprnaseq) cor(expmicro[i, ], exprnaseq[i, ], method=\"pearson\"),\n",
    "                           exprs(huangArrayRMAnoBatchCommon_eset[rownames(rpkm), ]), log2(rpkm+0.1))\n",
    "names(corsrowsgene) <- rownames(rpkm)\n",
    "corsrowsgs <- sapply(1:nrow(esmicro), \n",
    "                     function(i, esmicro, esrnaseq) cor(esmicro[i, ], esrnaseq[i, ], method=\"spearman\"),\n",
    "                         exprs(esmicro), exprs(esrnaseq))\n",
    "names(corsrowsgs) <- rownames(esmicro)"
   ]
  },
  {
   "cell_type": "code",
   "execution_count": 41,
   "metadata": {},
   "outputs": [
    {
     "data": {
      "text/html": [
       "<dl class=dl-horizontal>\n",
       "\t<dt>KEGG_GLYCOLYSIS_GLUCONEOGENESIS</dt>\n",
       "\t\t<dd>0.168082368082368</dd>\n",
       "\t<dt>KEGG_CITRATE_CYCLE_TCA_CYCLE</dt>\n",
       "\t\t<dd>0.0141570141570142</dd>\n",
       "\t<dt>KEGG_PENTOSE_PHOSPHATE_PATHWAY</dt>\n",
       "\t\t<dd>0.0980694980694981</dd>\n",
       "\t<dt>KEGG_PENTOSE_AND_GLUCURONATE_INTERCONVERSIONS</dt>\n",
       "\t\t<dd>0.564478764478765</dd>\n",
       "\t<dt>KEGG_FRUCTOSE_AND_MANNOSE_METABOLISM</dt>\n",
       "\t\t<dd>-0.0911196911196911</dd>\n",
       "\t<dt>KEGG_GALACTOSE_METABOLISM</dt>\n",
       "\t\t<dd>0.0666666666666667</dd>\n",
       "</dl>\n"
      ],
      "text/latex": [
       "\\begin{description*}\n",
       "\\item[KEGG\\textbackslash{}\\_GLYCOLYSIS\\textbackslash{}\\_GLUCONEOGENESIS] 0.168082368082368\n",
       "\\item[KEGG\\textbackslash{}\\_CITRATE\\textbackslash{}\\_CYCLE\\textbackslash{}\\_TCA\\textbackslash{}\\_CYCLE] 0.0141570141570142\n",
       "\\item[KEGG\\textbackslash{}\\_PENTOSE\\textbackslash{}\\_PHOSPHATE\\textbackslash{}\\_PATHWAY] 0.0980694980694981\n",
       "\\item[KEGG\\textbackslash{}\\_PENTOSE\\textbackslash{}\\_AND\\textbackslash{}\\_GLUCURONATE\\textbackslash{}\\_INTERCONVERSIONS] 0.564478764478765\n",
       "\\item[KEGG\\textbackslash{}\\_FRUCTOSE\\textbackslash{}\\_AND\\textbackslash{}\\_MANNOSE\\textbackslash{}\\_METABOLISM] -0.0911196911196911\n",
       "\\item[KEGG\\textbackslash{}\\_GALACTOSE\\textbackslash{}\\_METABOLISM] 0.0666666666666667\n",
       "\\end{description*}\n"
      ],
      "text/markdown": [
       "KEGG_GLYCOLYSIS_GLUCONEOGENESIS\n",
       ":   0.168082368082368KEGG_CITRATE_CYCLE_TCA_CYCLE\n",
       ":   0.0141570141570142KEGG_PENTOSE_PHOSPHATE_PATHWAY\n",
       ":   0.0980694980694981KEGG_PENTOSE_AND_GLUCURONATE_INTERCONVERSIONS\n",
       ":   0.564478764478765KEGG_FRUCTOSE_AND_MANNOSE_METABOLISM\n",
       ":   -0.0911196911196911KEGG_GALACTOSE_METABOLISM\n",
       ":   0.0666666666666667\n",
       "\n"
      ],
      "text/plain": [
       "              KEGG_GLYCOLYSIS_GLUCONEOGENESIS \n",
       "                                   0.16808237 \n",
       "                 KEGG_CITRATE_CYCLE_TCA_CYCLE \n",
       "                                   0.01415701 \n",
       "               KEGG_PENTOSE_PHOSPHATE_PATHWAY \n",
       "                                   0.09806950 \n",
       "KEGG_PENTOSE_AND_GLUCURONATE_INTERCONVERSIONS \n",
       "                                   0.56447876 \n",
       "         KEGG_FRUCTOSE_AND_MANNOSE_METABOLISM \n",
       "                                  -0.09111969 \n",
       "                    KEGG_GALACTOSE_METABOLISM \n",
       "                                   0.06666667 "
      ]
     },
     "metadata": {},
     "output_type": "display_data"
    }
   ],
   "source": [
    "head(corsrowsgs)"
   ]
  },
  {
   "cell_type": "code",
   "execution_count": 42,
   "metadata": {},
   "outputs": [
    {
     "data": {
      "image/png": "[encoded data removed]",
      "text/plain": [
       "plot without title"
      ]
     },
     "metadata": {},
     "output_type": "display_data"
    }
   ],
   "source": [
    "boxplot(corsrowsgs)"
   ]
  },
  {
   "cell_type": "code",
   "execution_count": 43,
   "metadata": {},
   "outputs": [
    {
     "data": {
      "text/plain": [
       "R version 3.5.3 (2019-03-11)\n",
       "Platform: x86_64-w64-mingw32/x64 (64-bit)\n",
       "Running under: Windows 10 x64 (build 17763)\n",
       "\n",
       "Matrix products: default\n",
       "\n",
       "locale:\n",
       "[1] LC_COLLATE=English_United States.1252 \n",
       "[2] LC_CTYPE=English_United States.1252   \n",
       "[3] LC_MONETARY=English_United States.1252\n",
       "[4] LC_NUMERIC=C                          \n",
       "[5] LC_TIME=English_United States.1252    \n",
       "\n",
       "attached base packages:\n",
       "[1] stats4    parallel  stats     graphics  grDevices utils     datasets \n",
       "[8] methods   base     \n",
       "\n",
       "other attached packages:\n",
       " [1] edgeR_3.22.5         gplots_3.0.1.1       ggplot2_3.1.1       \n",
       " [4] RColorBrewer_1.1-2   limma_3.36.5         genefilter_1.62.0   \n",
       " [7] GSVAdata_1.18.0      hgu95a.db_3.2.3      org.Hs.eg.db_3.6.0  \n",
       "[10] GSEABase_1.42.0      graph_1.58.2         annotate_1.58.0     \n",
       "[13] XML_3.98-1.19        AnnotationDbi_1.42.1 IRanges_2.14.12     \n",
       "[16] S4Vectors_0.18.3     Biobase_2.40.0       BiocGenerics_0.26.0 \n",
       "[19] GSVA_1.28.0         \n",
       "\n",
       "loaded via a namespace (and not attached):\n",
       " [1] locfit_1.5-9.1     Rcpp_1.0.1         lattice_0.20-38    gtools_3.8.1      \n",
       " [5] assertthat_0.2.1   digest_0.6.18      mime_0.6           IRdisplay_0.7.0   \n",
       " [9] R6_2.4.0           plyr_1.8.4         repr_1.0.0         RSQLite_2.1.1     \n",
       "[13] evaluate_0.13      pillar_1.3.1       rlang_0.3.4        lazyeval_0.2.2    \n",
       "[17] uuid_0.1-2         gdata_2.18.0       blob_1.1.1         Matrix_1.2-17     \n",
       "[21] labeling_0.3       shinythemes_1.1.2  splines_3.5.3      geneplotter_1.58.0\n",
       "[25] RCurl_1.95-4.12    bit_1.1-14         munsell_0.5.0      shiny_1.3.2       \n",
       "[29] compiler_3.5.3     httpuv_1.5.1       pkgconfig_2.0.2    base64enc_0.1-3   \n",
       "[33] htmltools_0.3.6    tidyselect_0.2.5   tibble_2.1.1       withr_2.1.2       \n",
       "[37] crayon_1.3.4       dplyr_0.8.0.1      later_0.8.0        bitops_1.0-6      \n",
       "[41] grid_3.5.3         jsonlite_1.6       xtable_1.8-4       gtable_0.3.0      \n",
       "[45] DBI_1.0.0          magrittr_1.5       scales_1.0.0       KernSmooth_2.23-15\n",
       "[49] promises_1.0.1     IRkernel_1.0.1     tools_3.5.3        bit64_0.9-7       \n",
       "[53] glue_1.3.1         purrr_0.3.2        survival_2.44-1.1  colorspace_1.4-1  \n",
       "[57] caTools_1.17.1.2   memoise_1.1.0      pbdZMQ_0.3-3      "
      ]
     },
     "metadata": {},
     "output_type": "display_data"
    }
   ],
   "source": [
    "sessionInfo()"
   ]
  }
 ],
 "metadata": {
  "kernelspec": {
   "display_name": "R 3.5.3",
   "language": "R",
   "name": "ir353"
  },
  "language_info": {
   "codemirror_mode": "r",
   "file_extension": ".r",
   "mimetype": "text/x-r-source",
   "name": "R",
   "pygments_lexer": "r",
   "version": "3.5.3"
  }
 },
 "nbformat": 4,
 "nbformat_minor": 2
}
